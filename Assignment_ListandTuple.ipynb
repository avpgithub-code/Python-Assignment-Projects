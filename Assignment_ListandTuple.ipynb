{
 "cells": [
  {
   "cell_type": "markdown",
   "id": "748c18fb",
   "metadata": {},
   "source": [
    "### Name: Archit Pandya\n",
    "#### Assignment: Data Structures\n"
   ]
  },
  {
   "cell_type": "markdown",
   "id": "0de525fc",
   "metadata": {},
   "source": [
    "Problem Statement: Analytics Vidhya conducted an assessment test to hire a Data Scientist. The candidates were evaluated on 5 different subjects A, B, C, D, and E. The marks of 5 different subject out of 100 are given below. Help Analytics Vidhyalay to find out the answer following questions:\n",
    "- Who scored the hightest marks in the subject B?\n",
    "- What is the average marks scored in the subject C?\n",
    "- Who scored the hightest perentage of marks?\n",
    "- If considered only top-4 subjects of a candidate, then who scored the highest percentage of marks?\n"
   ]
  },
  {
   "cell_type": "code",
   "execution_count": 312,
   "id": "938846db",
   "metadata": {},
   "outputs": [],
   "source": [
    "# Student Marks List\n",
    "student_marks = [['Name',['A','B','C','D','E']],\n",
    "                 ['Ankit',[41,34,45,55,63]],\n",
    "                 ['Aravind',[42,23,34,44,53]],\n",
    "                 ['Lakshay',[32,23,13,54,67]],\n",
    "                 ['Gyan',[23,82,23,63,34]],\n",
    "                 ['Pranav',[21,23,25,56,56]]]"
   ]
  },
  {
   "cell_type": "code",
   "execution_count": 325,
   "id": "fed1b649",
   "metadata": {},
   "outputs": [],
   "source": [
    "## Extract Name and marks and store into the respective empty list from the given 'student_marks'\n",
    "## Perform Total and Avg in the loop for the respective Student that is current 'row'\n",
    "# Store respective subject marks of Student\n",
    "stud_mark_A = []\n",
    "stud_mark_B = []\n",
    "stud_mark_C = []\n",
    "stud_mark_D = []\n",
    "stud_mark_E = []\n",
    "\n",
    "#Store respective student marks of Student\n",
    "stud1_subject_mark = []\n",
    "stud2_subject_mark = []\n",
    "stud3_subject_mark = []\n",
    "stud4_subject_mark = []\n",
    "stud5_subject_mark = []\n",
    "\n",
    "# Store Student Total Marks\n",
    "stud1_tot_marks = []\n",
    "stud2_tot_marks = []\n",
    "stud3_tot_marks = []\n",
    "stud4_tot_marks = []\n",
    "stud5_tot_marks = []\n",
    "\n",
    "# All Students mark\n",
    "all_stud_tot_marks = []\n",
    "\n",
    "# Store Subject Total for the student\n",
    "mark_A = []\n",
    "mark_B = []\n",
    "mark_C = []\n",
    "mark_D = []\n",
    "mark_E = []\n",
    "\n",
    "# Loop through the 'student_marks' list and extract Subject marks information for current Students \n",
    "for row in range(len(student_marks)):\n",
    "    if row == 0:\n",
    "        continue\n",
    "    # Extract name from the 'student_marks' \n",
    "    name = student_marks[row][0]\n",
    "    # Extract subject marks for the student from the current row  \n",
    "    marks_A = student_marks[row][1][0]\n",
    "    marks_B = student_marks[row][1][1]\n",
    "    marks_C = student_marks[row][1][2]\n",
    "    marks_D = student_marks[row][1][3]\n",
    "    marks_E = student_marks[row][1][4]\n",
    "    \n",
    "    # sum subject marks for current student and do avgerage\n",
    "    marks_tot = marks_A + marks_B + marks_C + marks_D + marks_E\n",
    "    marks_avg = round((marks_tot / 500) * 100,2)\n",
    "    \n",
    "    # Append student mark list with Name and Subject Marks\n",
    "    stud_mark_A.append([marks_A, name])\n",
    "    stud_mark_B.append([marks_B, name])\n",
    "    stud_mark_C.append([marks_C, name])\n",
    "    stud_mark_D.append([marks_D, name])\n",
    "    stud_mark_E.append([marks_E, name])\n",
    "    # Append mark list with the respective subject marks\n",
    "    mark_A.append(marks_A)\n",
    "    mark_B.append(marks_B)\n",
    "    mark_C.append(marks_C)\n",
    "    mark_D.append(marks_D)\n",
    "    mark_E.append(marks_E)\n",
    "    \n",
    "    # Compute total marks for each Student and append into respective student total list\n",
    "    if row == 1:\n",
    "        stud1_tot_marks.append([marks_tot, marks_avg, name])\n",
    "        all_stud_tot_marks.append(stud1_tot_marks)\n",
    "        # Append individual subject mark by student\n",
    "        stud1_subject_mark.append([sorted([marks_A, marks_B, marks_C, marks_D, marks_E], reverse = True), name])\n",
    "    \n",
    "    elif row == 2:\n",
    "        stud2_tot_marks.append([marks_tot, marks_avg, name])\n",
    "        all_stud_tot_marks.append(stud2_tot_marks)\n",
    "        # Append individual subject mark by student\n",
    "        stud2_subject_mark.append([sorted([marks_A, marks_B, marks_C, marks_D, marks_E], reverse = True), name])\n",
    "        \n",
    "    elif row == 3:\n",
    "        stud3_tot_marks.append([marks_tot, marks_avg, name])\n",
    "        all_stud_tot_marks.append(stud3_tot_marks)\n",
    "        # Append individual subject mark by student\n",
    "        stud3_subject_mark.append([sorted([marks_A, marks_B, marks_C, marks_D, marks_E], reverse = True), name])\n",
    "        \n",
    "    elif row == 4:\n",
    "        stud4_tot_marks.append([marks_tot, marks_avg, name])\n",
    "        all_stud_tot_marks.append(stud4_tot_marks)\n",
    "        # Append individual subject mark by student\n",
    "        stud4_subject_mark.append([sorted([marks_A, marks_B, marks_C, marks_D, marks_E], reverse = True), name])\n",
    "        \n",
    "    elif row == 5:\n",
    "        stud5_tot_marks.append([marks_tot, marks_avg, name])\n",
    "        all_stud_tot_marks.append(stud5_tot_marks)\n",
    "        # Append individual subject mark by student\n",
    "        stud5_subject_mark.append([sorted([marks_A, marks_B, marks_C, marks_D, marks_E], reverse = True), name])\n"
   ]
  },
  {
   "cell_type": "code",
   "execution_count": 326,
   "id": "ad712961",
   "metadata": {},
   "outputs": [
    {
     "name": "stdout",
     "output_type": "stream",
     "text": [
      "[[41, 'Ankit'], [42, 'Aravind'], [32, 'Lakshay'], [23, 'Gyan'], [21, 'Pranav']]\n",
      "[[34, 'Ankit'], [23, 'Aravind'], [23, 'Lakshay'], [82, 'Gyan'], [23, 'Pranav']]\n",
      "[[45, 'Ankit'], [34, 'Aravind'], [13, 'Lakshay'], [23, 'Gyan'], [25, 'Pranav']]\n",
      "[[55, 'Ankit'], [44, 'Aravind'], [54, 'Lakshay'], [63, 'Gyan'], [56, 'Pranav']]\n",
      "[[63, 'Ankit'], [53, 'Aravind'], [67, 'Lakshay'], [34, 'Gyan'], [56, 'Pranav']]\n"
     ]
    }
   ],
   "source": [
    "# All student marks for the respective subjects A,B,C,D,E\n",
    "print(stud_mark_A)\n",
    "print(stud_mark_B)\n",
    "print(stud_mark_C)\n",
    "print(stud_mark_D)\n",
    "print(stud_mark_E)"
   ]
  },
  {
   "cell_type": "code",
   "execution_count": 315,
   "id": "1ef8a75e",
   "metadata": {},
   "outputs": [
    {
     "name": "stdout",
     "output_type": "stream",
     "text": [
      "[[238, 47.6, 'Ankit']]\n",
      "[[196, 39.2, 'Aravind']]\n",
      "[[189, 37.8, 'Lakshay']]\n",
      "[[225, 45.0, 'Gyan']]\n",
      "[[181, 36.2, 'Pranav']]\n"
     ]
    }
   ],
   "source": [
    "# Students total marks\n",
    "print(stud1_tot_marks)\n",
    "print(stud2_tot_marks)\n",
    "print(stud3_tot_marks)\n",
    "print(stud4_tot_marks)\n",
    "print(stud5_tot_marks)"
   ]
  },
  {
   "cell_type": "code",
   "execution_count": 316,
   "id": "2f4a3d78",
   "metadata": {},
   "outputs": [
    {
     "name": "stdout",
     "output_type": "stream",
     "text": [
      "[[[238, 47.6, 'Ankit']], [[196, 39.2, 'Aravind']], [[189, 37.8, 'Lakshay']], [[225, 45.0, 'Gyan']], [[181, 36.2, 'Pranav']]]\n"
     ]
    }
   ],
   "source": [
    "# Total and Avgerage marks by student\n",
    "print(all_stud_tot_marks)"
   ]
  },
  {
   "cell_type": "code",
   "execution_count": 317,
   "id": "2b8de667",
   "metadata": {},
   "outputs": [
    {
     "name": "stdout",
     "output_type": "stream",
     "text": [
      "[[[63, 55, 45, 41, 34], 'Ankit']]\n",
      "[[[53, 44, 42, 34, 23], 'Aravind']]\n",
      "[[[67, 54, 32, 23, 13], 'Lakshay']]\n",
      "[[[82, 63, 34, 23, 23], 'Gyan']]\n",
      "[[[56, 56, 25, 23, 21], 'Pranav']]\n"
     ]
    }
   ],
   "source": [
    "# Students marks in Descening Order\n",
    "print(stud1_subject_mark)\n",
    "print(stud2_subject_mark)\n",
    "print(stud3_subject_mark)\n",
    "print(stud4_subject_mark)\n",
    "print(stud5_subject_mark)"
   ]
  },
  {
   "cell_type": "markdown",
   "id": "a1bd0f99",
   "metadata": {},
   "source": [
    "#### Q1. Who scored the hightest marks in the subject B?\n",
    "Find the answer by sorting the 'student_mark_B list as descending"
   ]
  },
  {
   "cell_type": "code",
   "execution_count": 318,
   "id": "cd550d4e",
   "metadata": {},
   "outputs": [
    {
     "data": {
      "text/plain": [
       "[[82, 'Gyan'], [34, 'Ankit'], [23, 'Pranav'], [23, 'Lakshay'], [23, 'Aravind']]"
      ]
     },
     "execution_count": 318,
     "metadata": {},
     "output_type": "execute_result"
    }
   ],
   "source": [
    "sorted(stud_mark_B, reverse=True)"
   ]
  },
  {
   "cell_type": "markdown",
   "id": "d0265c67",
   "metadata": {},
   "source": [
    "##### Answer1: Gyan got the higheest marks (82) in Subject B per above"
   ]
  },
  {
   "cell_type": "markdown",
   "id": "efc53e49",
   "metadata": {},
   "source": [
    "#### Q2. What is the average marks scored in the subject C?\n",
    "Find the answer by dividing sum of 'mark_C' by length of 'mark_C'\n"
   ]
  },
  {
   "cell_type": "code",
   "execution_count": 319,
   "id": "01e87764",
   "metadata": {},
   "outputs": [
    {
     "data": {
      "text/plain": [
       "28.0"
      ]
     },
     "execution_count": 319,
     "metadata": {},
     "output_type": "execute_result"
    }
   ],
   "source": [
    "sum(mark_C) / len(mark_C)"
   ]
  },
  {
   "cell_type": "markdown",
   "id": "30e9a439",
   "metadata": {},
   "source": [
    "#### Answer2: Average marks scored in the Subject C is 28 per above."
   ]
  },
  {
   "cell_type": "markdown",
   "id": "6844e075",
   "metadata": {},
   "source": [
    "#### Q3. Who scored the hightest perentage of marks?\n",
    "Find the answer by sorting the 'all_sutd_tot_marks' list as descending"
   ]
  },
  {
   "cell_type": "code",
   "execution_count": 320,
   "id": "bffe0b42",
   "metadata": {},
   "outputs": [
    {
     "data": {
      "text/plain": [
       "[[[238, 47.6, 'Ankit']],\n",
       " [[225, 45.0, 'Gyan']],\n",
       " [[196, 39.2, 'Aravind']],\n",
       " [[189, 37.8, 'Lakshay']],\n",
       " [[181, 36.2, 'Pranav']]]"
      ]
     },
     "execution_count": 320,
     "metadata": {},
     "output_type": "execute_result"
    }
   ],
   "source": [
    "sorted(all_stud_tot_marks,reverse=True)"
   ]
  },
  {
   "cell_type": "markdown",
   "id": "1705b3e5",
   "metadata": {},
   "source": [
    "##### Answer3: Ankit scored the highest percentage with 47.6%."
   ]
  },
  {
   "cell_type": "markdown",
   "id": "e4f0cdc1",
   "metadata": {},
   "source": [
    "#### Q4. If considered only top-4 subjects of a candidate, then who scored the highest percentage of marks?"
   ]
  },
  {
   "cell_type": "code",
   "execution_count": 321,
   "id": "e4d65360",
   "metadata": {},
   "outputs": [
    {
     "name": "stdout",
     "output_type": "stream",
     "text": [
      "[63, 55, 45, 41, 34]\n",
      "[53, 44, 42, 34, 23]\n",
      "[67, 54, 32, 23, 13]\n",
      "[82, 63, 34, 23, 23]\n",
      "[56, 56, 25, 23, 21]\n"
     ]
    }
   ],
   "source": [
    "# Students total marks in descending\n",
    "\n",
    "print(stud1_subject_mark[0][0])\n",
    "print(stud2_subject_mark[0][0])\n",
    "print(stud3_subject_mark[0][0])\n",
    "print(stud4_subject_mark[0][0])\n",
    "print(stud5_subject_mark[0][0])"
   ]
  },
  {
   "cell_type": "code",
   "execution_count": 322,
   "id": "d74eab6c",
   "metadata": {},
   "outputs": [
    {
     "name": "stdout",
     "output_type": "stream",
     "text": [
      "[63, 55, 45, 41]\n",
      "[53, 44, 42, 34]\n",
      "[67, 54, 32, 23]\n",
      "[82, 63, 34, 23]\n",
      "[56, 56, 25, 23]\n"
     ]
    }
   ],
   "source": [
    "#Top 4 subject by student in descending\n",
    "\n",
    "print(stud1_subject_mark[0][0][0:-1])\n",
    "print(stud2_subject_mark[0][0][0:-1])\n",
    "print(stud3_subject_mark[0][0][0:-1])\n",
    "print(stud4_subject_mark[0][0][0:-1])\n",
    "print(stud5_subject_mark[0][0][0:-1])"
   ]
  },
  {
   "cell_type": "code",
   "execution_count": 323,
   "id": "1d1587eb",
   "metadata": {},
   "outputs": [
    {
     "name": "stdout",
     "output_type": "stream",
     "text": [
      "204\n",
      "173\n",
      "176\n",
      "202\n",
      "160\n"
     ]
    }
   ],
   "source": [
    "# Total for Top 4 subject by student\n",
    "\n",
    "print(sum(stud1_subject_mark[0][0][0:-1]))\n",
    "print(sum(stud2_subject_mark[0][0][0:-1]))\n",
    "print(sum(stud3_subject_mark[0][0][0:-1]))\n",
    "print(sum(stud4_subject_mark[0][0][0:-1]))\n",
    "print(sum(stud5_subject_mark[0][0][0:-1]))"
   ]
  },
  {
   "cell_type": "code",
   "execution_count": 340,
   "id": "70e35ee5",
   "metadata": {},
   "outputs": [
    {
     "name": "stdout",
     "output_type": "stream",
     "text": [
      "51.0\n",
      "43.25\n",
      "44.0\n",
      "50.5\n",
      "40.0\n"
     ]
    }
   ],
   "source": [
    "# Average for Top 5 subjects by student\n",
    "\n",
    "print(sum(stud1_subject_mark[0][0][0:-1])/400*100)\n",
    "print(sum(stud2_subject_mark[0][0][0:-1])/400*100)\n",
    "print(sum(stud3_subject_mark[0][0][0:-1])/400*100)\n",
    "print(sum(stud4_subject_mark[0][0][0:-1])/400*100)\n",
    "print(sum(stud5_subject_mark[0][0][0:-1])/400*100)"
   ]
  },
  {
   "cell_type": "markdown",
   "id": "d300b090",
   "metadata": {},
   "source": [
    "##### Answer4: Ankit scored the highest percentage with 51% for Top 4 Subjects"
   ]
  },
  {
   "cell_type": "code",
   "execution_count": null,
   "id": "03490bde",
   "metadata": {},
   "outputs": [],
   "source": []
  }
 ],
 "metadata": {
  "kernelspec": {
   "display_name": "av",
   "language": "python",
   "name": "av"
  },
  "language_info": {
   "codemirror_mode": {
    "name": "ipython",
    "version": 3
   },
   "file_extension": ".py",
   "mimetype": "text/x-python",
   "name": "python",
   "nbconvert_exporter": "python",
   "pygments_lexer": "ipython3",
   "version": "3.11.5"
  }
 },
 "nbformat": 4,
 "nbformat_minor": 5
}
