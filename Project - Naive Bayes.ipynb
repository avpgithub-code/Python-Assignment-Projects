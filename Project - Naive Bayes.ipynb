{
 "cells": [
  {
   "cell_type": "markdown",
   "id": "a58365d9",
   "metadata": {},
   "source": [
    "## Project: Naive Bayes (By Archit Pandya)\n",
    "\n",
    "**Problem Statement:**\n",
    "\n",
    "Based on the dataset provided, it appears to contain three columns: \"id,\" \"text,\" and \"label.\" The \"text\" column seems to contain textual data, possibly reviews or descriptions, and the \"label\" column contains categories, in this case, 'dogs.'\n",
    "\n",
    "You are provided with a dataset containing various textual entries categorized under different labels. Your task is to develop a model using the Naive Bayes algorithm to classify the text into its appropriate category based on the content. Specifically, focus on preprocessing the text data, converting it into a suitable format for the Naive Bayes model, training the model, and then evaluating its performance on unseen data. Aim to achieve the highest possible accuracy in correctly categorizing the text entries. \n",
    "\n",
    "Additionally, explore different feature extraction techniques and Naive Bayes variants to understand their impact on the model's performance."
   ]
  },
  {
   "cell_type": "markdown",
   "id": "a31744e5",
   "metadata": {},
   "source": [
    "1. [`Import Libraries`](#1)\n",
    "2. [`Model BOW : Building W/O Stop Words`](#2)\n",
    "    <br>[2.1 Read Dataset and Create Dataframe](#2.1)\n",
    "    <br>[2.2 Check the Dataframe Size and Shape and Encode the Class 'Label'](#2.2)\n",
    "    <br>[2.3. Preprocess Tweet text](#2.3)\n",
    "    <br>[2.4. Perform Count Features](#2.4)\n",
    "    <br>[2.5 Build 'CountVectorizer' - BOW](#2.5)\n",
    "    <br>[2.6 Implement Multinomial Naive Bayes](#2.6)\n",
    "3. [`Model Building: Using Stop Word, Lemmatize`](#3)\n",
    "    <br>[3.1 Read Dataset and Create Dataframe](#3.1)\n",
    "    <br>[3.2 Check the Dataframe Size and Shape and Encode the Class 'Label'](#3.2)\n",
    "    <br>[3.3. Preprocess Tweet text](#3.3)\n",
    "    <br>[3.4. Perform Count Features](#3.4)\n",
    "    <br>[3.5 Build 'CountVectorizer' - BOW](#3.5)\n",
    "    <br>[3.6 Implement Multinomial Naive Bayes](#3.6)\n",
    "4. [`Model Building: Using Stop Words, Lemmatize, TF_IDF`](#4)\n",
    "    <br>[4.1 Read Dataset and Create Dataframe](#4.1)\n",
    "    <br>[4.2 Check the Dataframe Size and Shape and Encode the Class 'Label'](#4.2)\n",
    "    <br>[4.3. Preprocess Tweet text](#4.3)\n",
    "    <br>[4.4 Perform Count Features](#4.4)\n",
    "    <br>[4.5 Build 'TfidfVectorizer'](#4.5)\n",
    "    <br>[4.6 Implement Multinomial Naive Bayes](#4.6)\n",
    "5. [`Model Building: Using Wordembedding in Word2Vec`](#5)\n",
    "    <br>[5.1 Read Dataset and Create Dataframe](#5.1)\n",
    "    <br>[5.2 Check the Dataframe Size and Shape and Encode the Class 'Label'](#5.2)\n",
    "    <br>[5.3. Preprocess Tweet text](#5.3)\n",
    "    <br>[5.4 Perform Count Features](#5.4)\n",
    "    <br>[5.5 Build 'TfidfVectorizer'](#5.5)\n",
    "    <br>[5.6 Implement Multinomial Naive Bayes](#5.6)\n",
    "\n",
    "6. [`Summary: Plot ROC and Confusion Matrix by Model`](#6)\n",
    "    "
   ]
  },
  {
   "cell_type": "markdown",
   "id": "2b2a6778",
   "metadata": {},
   "source": [
    "## 1. Import Libraries<a id='1'></a>"
   ]
  },
  {
   "cell_type": "code",
   "execution_count": 1,
   "id": "eaa5d87c",
   "metadata": {},
   "outputs": [
    {
     "name": "stdout",
     "output_type": "stream",
     "text": [
      "Imported Libraries\n"
     ]
    }
   ],
   "source": [
    "import pandas as pd\n",
    "import numpy  as np\n",
    "import matplotlib.pyplot as plt\n",
    "import re\n",
    "\n",
    "from sklearn.feature_extraction.text import CountVectorizer, TfidfVectorizer\n",
    "from sklearn.preprocessing import LabelEncoder\n",
    "from sklearn.linear_model import LogisticRegression\n",
    "from sklearn.naive_bayes import MultinomialNB\n",
    "from sklearn.model_selection import train_test_split\n",
    "from sklearn.preprocessing import MinMaxScaler\n",
    "from sklearn.metrics import f1_score,roc_auc_score,roc_curve, auc,confusion_matrix, ConfusionMatrixDisplay\n",
    "\n",
    "import nltk\n",
    "from nltk.corpus import stopwords                           \n",
    "from nltk.stem import WordNetLemmatizer                     \n",
    "from nltk.corpus import wordnet as wn\n",
    "from spacy.cli import download\n",
    "from spacy import load\n",
    "\n",
    "# !pip install contractions\n",
    "# import sys  \n",
    "# !{sys.executable} -m pip install contractions\n",
    "\n",
    "import contractions\n",
    "\n",
    "import warnings\n",
    "\n",
    "# nltk.download('omw-1.4')\n",
    "# nltk.download('wordnet')\n",
    "# nltk.download('wordnet2022')\n",
    "# nlp = load('en_core_web_sm')\n",
    "\n",
    "import warnings\n",
    "\n",
    "%matplotlib inline\n",
    "warnings.filterwarnings(\"ignore\")\n",
    "pd.set_option(\"display.max_colwidth\", 300)\n",
    "\n",
    "print('Imported Libraries')\n"
   ]
  },
  {
   "cell_type": "code",
   "execution_count": 2,
   "id": "c8d35725",
   "metadata": {},
   "outputs": [],
   "source": [
    "models=[]\n",
    "fpr_trains=[];tpr_trains=[];thresholds_trains=[];fpr_valids=[];tpr_valids=[];thresholds_valids=[]\n",
    "f1_score_trains=[];f1_score_valids=[];roc_auc_score_trains=[];roc_auc_score_valids=[]\n",
    "model_feature_rows_trains=[];model_feature_cols_trains=[];model_feature_rows_valids=[];model_feature_cols_valids=[];\n"
   ]
  },
  {
   "cell_type": "markdown",
   "id": "f1caaf5c",
   "metadata": {},
   "source": [
    "## 2. Model Building: W/O Stop Words<a id='2'></a>"
   ]
  },
  {
   "cell_type": "markdown",
   "id": "ac2d51c7",
   "metadata": {},
   "source": [
    "### 2.1 Read Dataset and Create Dataframe<a id='2.1'></a> "
   ]
  },
  {
   "cell_type": "code",
   "execution_count": 3,
   "id": "f2732514",
   "metadata": {},
   "outputs": [
    {
     "data": {
      "text/html": [
       "<div>\n",
       "<style scoped>\n",
       "    .dataframe tbody tr th:only-of-type {\n",
       "        vertical-align: middle;\n",
       "    }\n",
       "\n",
       "    .dataframe tbody tr th {\n",
       "        vertical-align: top;\n",
       "    }\n",
       "\n",
       "    .dataframe thead th {\n",
       "        text-align: right;\n",
       "    }\n",
       "</style>\n",
       "<table border=\"1\" class=\"dataframe\">\n",
       "  <thead>\n",
       "    <tr style=\"text-align: right;\">\n",
       "      <th></th>\n",
       "      <th>id</th>\n",
       "      <th>text</th>\n",
       "      <th>label</th>\n",
       "    </tr>\n",
       "  </thead>\n",
       "  <tbody>\n",
       "    <tr>\n",
       "      <th>0</th>\n",
       "      <td>0</td>\n",
       "      <td>We started giving this to my 5 year old Labrador retriever (female) she has arthritis problems along with weakness in her back legs and it seems to help a little bit, would not hurt to try it</td>\n",
       "      <td>dogs</td>\n",
       "    </tr>\n",
       "    <tr>\n",
       "      <th>1</th>\n",
       "      <td>1</td>\n",
       "      <td>This product is easy to set up and use. I have a new puppy Border Collie who will be fullgrown around 50#. The crate would still have lots of room for her. I purchased this thru Amazon which is very convienience because the delivery person carried it right to my door. Total cost was cheaper than...</td>\n",
       "      <td>dogs</td>\n",
       "    </tr>\n",
       "    <tr>\n",
       "      <th>2</th>\n",
       "      <td>2</td>\n",
       "      <td>my dog has nerves and wants to itch and chew......the cone keeps him from a frenzy somewhat! If not for the cone he would go to town on his entire body drawing blood....however he is a contortionist and can maneuver the cone. The picture shows a black band around the diameter of the large end of...</td>\n",
       "      <td>dogs</td>\n",
       "    </tr>\n",
       "    <tr>\n",
       "      <th>3</th>\n",
       "      <td>3</td>\n",
       "      <td>the breeded gave us a can of Nupro when we took our scottie home...having fed it to him now for 4 months we are very pleased with the results...those who want a great coat on their animal would appreciate this supplement...would definitely recommend..</td>\n",
       "      <td>dogs</td>\n",
       "    </tr>\n",
       "    <tr>\n",
       "      <th>4</th>\n",
       "      <td>4</td>\n",
       "      <td>Very study, well made poop bag. Easy to open and holds the poop with no leaking, but I only gave it four stars because it does not keep the smell inside the bag. That is the only downside, but I will keep buying them, as they are convenient and affordable.</td>\n",
       "      <td>dogs</td>\n",
       "    </tr>\n",
       "  </tbody>\n",
       "</table>\n",
       "</div>"
      ],
      "text/plain": [
       "   id  \\\n",
       "0   0   \n",
       "1   1   \n",
       "2   2   \n",
       "3   3   \n",
       "4   4   \n",
       "\n",
       "                                                                                                                                                                                                                                                                                                          text  \\\n",
       "0                                                                                                              We started giving this to my 5 year old Labrador retriever (female) she has arthritis problems along with weakness in her back legs and it seems to help a little bit, would not hurt to try it   \n",
       "1  This product is easy to set up and use. I have a new puppy Border Collie who will be fullgrown around 50#. The crate would still have lots of room for her. I purchased this thru Amazon which is very convienience because the delivery person carried it right to my door. Total cost was cheaper than...   \n",
       "2  my dog has nerves and wants to itch and chew......the cone keeps him from a frenzy somewhat! If not for the cone he would go to town on his entire body drawing blood....however he is a contortionist and can maneuver the cone. The picture shows a black band around the diameter of the large end of...   \n",
       "3                                                  the breeded gave us a can of Nupro when we took our scottie home...having fed it to him now for 4 months we are very pleased with the results...those who want a great coat on their animal would appreciate this supplement...would definitely recommend..   \n",
       "4                                             Very study, well made poop bag. Easy to open and holds the poop with no leaking, but I only gave it four stars because it does not keep the smell inside the bag. That is the only downside, but I will keep buying them, as they are convenient and affordable.   \n",
       "\n",
       "  label  \n",
       "0  dogs  \n",
       "1  dogs  \n",
       "2  dogs  \n",
       "3  dogs  \n",
       "4  dogs  "
      ]
     },
     "execution_count": 3,
     "metadata": {},
     "output_type": "execute_result"
    }
   ],
   "source": [
    "tweets = pd.read_csv(\"lNlhedMcSH63Idvr6lzE_valid.csv\")\n",
    "tweets.head()"
   ]
  },
  {
   "cell_type": "markdown",
   "id": "8d58f50b",
   "metadata": {},
   "source": [
    "### 2.2 Check the Dataframe Size and Shape and Encode the Class 'Label'<a id='2.2'></a> "
   ]
  },
  {
   "cell_type": "code",
   "execution_count": 4,
   "id": "51e74092",
   "metadata": {},
   "outputs": [
    {
     "data": {
      "text/plain": [
       "(15499, 3)"
      ]
     },
     "execution_count": 4,
     "metadata": {},
     "output_type": "execute_result"
    }
   ],
   "source": [
    "tweets.shape"
   ]
  },
  {
   "cell_type": "code",
   "execution_count": 5,
   "id": "5f489dfe",
   "metadata": {},
   "outputs": [
    {
     "data": {
      "text/plain": [
       "dogs    0.602168\n",
       "cats    0.397832\n",
       "Name: label, dtype: float64"
      ]
     },
     "execution_count": 5,
     "metadata": {},
     "output_type": "execute_result"
    }
   ],
   "source": [
    "tweets['label'].value_counts(normalize=True)"
   ]
  },
  {
   "cell_type": "code",
   "execution_count": 6,
   "id": "63b4fd05",
   "metadata": {},
   "outputs": [
    {
     "data": {
      "text/plain": [
       "id       0\n",
       "text     0\n",
       "label    0\n",
       "dtype: int64"
      ]
     },
     "execution_count": 6,
     "metadata": {},
     "output_type": "execute_result"
    }
   ],
   "source": [
    "tweets.isnull().sum()"
   ]
  },
  {
   "cell_type": "code",
   "execution_count": 7,
   "id": "6635ce83",
   "metadata": {},
   "outputs": [],
   "source": [
    "#Create a LabelEncoder object\n",
    "le = LabelEncoder()\n",
    "\n",
    "#Fit the encoder to the data\n",
    "tweets['label'] = le.fit_transform(tweets['label'])"
   ]
  },
  {
   "cell_type": "code",
   "execution_count": 8,
   "id": "e60ad250",
   "metadata": {},
   "outputs": [
    {
     "data": {
      "text/plain": [
       "1    9333\n",
       "0    6166\n",
       "Name: label, dtype: int64"
      ]
     },
     "execution_count": 8,
     "metadata": {},
     "output_type": "execute_result"
    }
   ],
   "source": [
    "tweets['label'].value_counts()"
   ]
  },
  {
   "cell_type": "markdown",
   "id": "d03a7e7e",
   "metadata": {},
   "source": [
    "### 2.3 Preprocess Tweet text<a id='2.3'></a> \n",
    "\n",
    "* Data Pre-processing is the most important step prior to the model building. Remove all these unnecessary qualities from the 'Tweet data' i.e. Hashtags, User Mentions, Non ASCII Characters, Punctuations, Numbers, HTML Tags, Extra Spaces, Misspelled words,etc.\n",
    "\n",
    "* Contraction mapping: Expanding the shortened versions or contraction of words using contraction dictionary"
   ]
  },
  {
   "cell_type": "code",
   "execution_count": 9,
   "id": "b9bf1ef1",
   "metadata": {},
   "outputs": [],
   "source": [
    "#Function to use 'Contraction Mapping'\n",
    "\n",
    "def func_contract_words(text):\n",
    "    \n",
    "    # creating an empty list\n",
    "    expanded_words = []    \n",
    "    for word in text.split():\n",
    "        \n",
    "      # using contractions.fix to expand the shortened words\n",
    "      expanded_words.append(contractions.fix(word))\n",
    "        \n",
    "    expanded_text = ' '.join(expanded_words)\n",
    "    \n",
    "    return expanded_text"
   ]
  },
  {
   "cell_type": "code",
   "execution_count": 10,
   "id": "13692e32",
   "metadata": {},
   "outputs": [],
   "source": [
    "#Function to pre-process OR clean the text\n",
    "\n",
    "def func_tweet_cleaner(cleanString):\n",
    "    #contraction mapping\n",
    "    cleanString=func_contract_words(cleanString)                  \n",
    "    #Removing text in brackets\n",
    "    cleanString=re.sub(r\"(\\(.*\\))|(\\[.*\\])\", \"\",cleanString)      \n",
    "    #Removing user mentions\n",
    "    cleanString=re.sub(r'@[A-Za-z0-9]+','',cleanString)           \n",
    "    #Removing hashtag symbobol\n",
    "    cleanString=re.sub(r\"#\\S+\",\"\",cleanString)                    \n",
    "    #Removing hashtag symbobol, Removing links\n",
    "    cleanString= re.sub(r'(http[s]?\\://\\S+)|([\\[\\(].*[\\)\\]])|([#@]\\S+)|\\n', '', cleanString)              \n",
    "    #Removing 2016, 21 15\n",
    "    cleanString=re.sub(r\"[0-9]\", \"\",cleanString)                  \n",
    "    #Removing \\n\n",
    "    cleanString=re.sub(r\"\\n\", \"\",cleanString)                     \n",
    "    #Fetching out only letters\n",
    "    letters_only = re.sub(\"[^a-zA-Z]\", \" \", cleanString)           \n",
    "    #Converting everything to lowercase\n",
    "    lower_case = letters_only.lower()                              \n",
    "    #Split based on space to remove multiple spaces\n",
    "    words = lower_case.split()                                                                     \n",
    "    \n",
    "    #Combining to form sentence\n",
    "    return (\" \".join(words)).strip()   "
   ]
  },
  {
   "cell_type": "code",
   "execution_count": 11,
   "id": "12f10e55",
   "metadata": {},
   "outputs": [
    {
     "data": {
      "text/html": [
       "<div>\n",
       "<style scoped>\n",
       "    .dataframe tbody tr th:only-of-type {\n",
       "        vertical-align: middle;\n",
       "    }\n",
       "\n",
       "    .dataframe tbody tr th {\n",
       "        vertical-align: top;\n",
       "    }\n",
       "\n",
       "    .dataframe thead th {\n",
       "        text-align: right;\n",
       "    }\n",
       "</style>\n",
       "<table border=\"1\" class=\"dataframe\">\n",
       "  <thead>\n",
       "    <tr style=\"text-align: right;\">\n",
       "      <th></th>\n",
       "      <th>id</th>\n",
       "      <th>text</th>\n",
       "      <th>label</th>\n",
       "      <th>cleaned_text</th>\n",
       "    </tr>\n",
       "  </thead>\n",
       "  <tbody>\n",
       "    <tr>\n",
       "      <th>0</th>\n",
       "      <td>0</td>\n",
       "      <td>We started giving this to my 5 year old Labrador retriever (female) she has arthritis problems along with weakness in her back legs and it seems to help a little bit, would not hurt to try it</td>\n",
       "      <td>1</td>\n",
       "      <td>we started giving this to my year old labrador retriever she has arthritis problems along with weakness in her back legs and it seems to help a little bit would not hurt to try it</td>\n",
       "    </tr>\n",
       "    <tr>\n",
       "      <th>1</th>\n",
       "      <td>1</td>\n",
       "      <td>This product is easy to set up and use. I have a new puppy Border Collie who will be fullgrown around 50#. The crate would still have lots of room for her. I purchased this thru Amazon which is very convienience because the delivery person carried it right to my door. Total cost was cheaper than...</td>\n",
       "      <td>1</td>\n",
       "      <td>this product is easy to set up and use i have a new puppy border collie who will be fullgrown around the crate would still have lots of room for her i purchased this thru amazon which is very convienience because the delivery person carried it right to my door total cost was cheaper than the loc...</td>\n",
       "    </tr>\n",
       "    <tr>\n",
       "      <th>2</th>\n",
       "      <td>2</td>\n",
       "      <td>my dog has nerves and wants to itch and chew......the cone keeps him from a frenzy somewhat! If not for the cone he would go to town on his entire body drawing blood....however he is a contortionist and can maneuver the cone. The picture shows a black band around the diameter of the large end of...</td>\n",
       "      <td>1</td>\n",
       "      <td>my dog has nerves and wants to itch and chew the cone keeps him from a frenzy somewhat if not for the cone he would go to town on his entire body drawing blood however he is a contortionist and can maneuver the cone the picture shows a black band around the diameter of the large end of the cone ...</td>\n",
       "    </tr>\n",
       "    <tr>\n",
       "      <th>3</th>\n",
       "      <td>3</td>\n",
       "      <td>the breeded gave us a can of Nupro when we took our scottie home...having fed it to him now for 4 months we are very pleased with the results...those who want a great coat on their animal would appreciate this supplement...would definitely recommend..</td>\n",
       "      <td>1</td>\n",
       "      <td>the breeded gave us a can of nupro when we took our scottie home having fed it to him now for months we are very pleased with the results those who want a great coat on their animal would appreciate this supplement would definitely recommend</td>\n",
       "    </tr>\n",
       "    <tr>\n",
       "      <th>4</th>\n",
       "      <td>4</td>\n",
       "      <td>Very study, well made poop bag. Easy to open and holds the poop with no leaking, but I only gave it four stars because it does not keep the smell inside the bag. That is the only downside, but I will keep buying them, as they are convenient and affordable.</td>\n",
       "      <td>1</td>\n",
       "      <td>very study well made poop bag easy to open and holds the poop with no leaking but i only gave it four stars because it does not keep the smell inside the bag that is the only downside but i will keep buying them as they are convenient and affordable</td>\n",
       "    </tr>\n",
       "  </tbody>\n",
       "</table>\n",
       "</div>"
      ],
      "text/plain": [
       "   id  \\\n",
       "0   0   \n",
       "1   1   \n",
       "2   2   \n",
       "3   3   \n",
       "4   4   \n",
       "\n",
       "                                                                                                                                                                                                                                                                                                          text  \\\n",
       "0                                                                                                              We started giving this to my 5 year old Labrador retriever (female) she has arthritis problems along with weakness in her back legs and it seems to help a little bit, would not hurt to try it   \n",
       "1  This product is easy to set up and use. I have a new puppy Border Collie who will be fullgrown around 50#. The crate would still have lots of room for her. I purchased this thru Amazon which is very convienience because the delivery person carried it right to my door. Total cost was cheaper than...   \n",
       "2  my dog has nerves and wants to itch and chew......the cone keeps him from a frenzy somewhat! If not for the cone he would go to town on his entire body drawing blood....however he is a contortionist and can maneuver the cone. The picture shows a black band around the diameter of the large end of...   \n",
       "3                                                  the breeded gave us a can of Nupro when we took our scottie home...having fed it to him now for 4 months we are very pleased with the results...those who want a great coat on their animal would appreciate this supplement...would definitely recommend..   \n",
       "4                                             Very study, well made poop bag. Easy to open and holds the poop with no leaking, but I only gave it four stars because it does not keep the smell inside the bag. That is the only downside, but I will keep buying them, as they are convenient and affordable.   \n",
       "\n",
       "   label  \\\n",
       "0      1   \n",
       "1      1   \n",
       "2      1   \n",
       "3      1   \n",
       "4      1   \n",
       "\n",
       "                                                                                                                                                                                                                                                                                                  cleaned_text  \n",
       "0                                                                                                                          we started giving this to my year old labrador retriever she has arthritis problems along with weakness in her back legs and it seems to help a little bit would not hurt to try it  \n",
       "1  this product is easy to set up and use i have a new puppy border collie who will be fullgrown around the crate would still have lots of room for her i purchased this thru amazon which is very convienience because the delivery person carried it right to my door total cost was cheaper than the loc...  \n",
       "2  my dog has nerves and wants to itch and chew the cone keeps him from a frenzy somewhat if not for the cone he would go to town on his entire body drawing blood however he is a contortionist and can maneuver the cone the picture shows a black band around the diameter of the large end of the cone ...  \n",
       "3                                                            the breeded gave us a can of nupro when we took our scottie home having fed it to him now for months we are very pleased with the results those who want a great coat on their animal would appreciate this supplement would definitely recommend  \n",
       "4                                                    very study well made poop bag easy to open and holds the poop with no leaking but i only gave it four stars because it does not keep the smell inside the bag that is the only downside but i will keep buying them as they are convenient and affordable  "
      ]
     },
     "execution_count": 11,
     "metadata": {},
     "output_type": "execute_result"
    }
   ],
   "source": [
    "#Apply the cleaner function and add new column having clean text\n",
    "\n",
    "tweets['cleaned_text'] = tweets['text'].apply(func_tweet_cleaner)\n",
    "tweets.head()"
   ]
  },
  {
   "cell_type": "code",
   "execution_count": 12,
   "id": "d3b9713c",
   "metadata": {},
   "outputs": [
    {
     "data": {
      "image/png": "[encoded data removed]",
      "text/plain": [
       "<Figure size 1200x500 with 1 Axes>"
      ]
     },
     "metadata": {},
     "output_type": "display_data"
    }
   ],
   "source": [
    "#Visualize the tweet text after cleaning\n",
    "\n",
    "all_words = []\n",
    "for line in list(tweets['cleaned_text']):\n",
    "    words = line.split()\n",
    "    for word in words:\n",
    "        all_words.append(word)\n",
    "        \n",
    "plt.figure(figsize=(12,5))\n",
    "plt.title('Top 25 most common words')\n",
    "plt.xticks(fontsize=13, rotation=90)\n",
    "fd = nltk.FreqDist(all_words)\n",
    "fd.plot(25,cumulative=False);"
   ]
  },
  {
   "cell_type": "markdown",
   "id": "2875c9e0",
   "metadata": {},
   "source": [
    "### 2.4 Perform Count Features<a id='2.4'></a>"
   ]
  },
  {
   "cell_type": "code",
   "execution_count": 13,
   "id": "7daf48e5",
   "metadata": {},
   "outputs": [],
   "source": [
    "#Compute Average length of the given text\n",
    "\n",
    "def func_avg_length(tweet):\n",
    "    tweet_avg_len = []\n",
    "    for row in tweet:\n",
    "        row_len=[]\n",
    "        for term in row.split():\n",
    "            row_len.append(len(term))\n",
    "        \n",
    "        if len(row_len) > 0:\n",
    "            row_avg_len = sum(row_len) / len(row_len)\n",
    "        else:\n",
    "            row_avg_len = sum(row_len)\n",
    "            \n",
    "        tweet_avg_len.append(row_avg_len)\n",
    "    \n",
    "    return tweet_avg_len"
   ]
  },
  {
   "cell_type": "code",
   "execution_count": 14,
   "id": "7780f5dc",
   "metadata": {},
   "outputs": [
    {
     "data": {
      "text/html": [
       "<div>\n",
       "<style scoped>\n",
       "    .dataframe tbody tr th:only-of-type {\n",
       "        vertical-align: middle;\n",
       "    }\n",
       "\n",
       "    .dataframe tbody tr th {\n",
       "        vertical-align: top;\n",
       "    }\n",
       "\n",
       "    .dataframe thead th {\n",
       "        text-align: right;\n",
       "    }\n",
       "</style>\n",
       "<table border=\"1\" class=\"dataframe\">\n",
       "  <thead>\n",
       "    <tr style=\"text-align: right;\">\n",
       "      <th></th>\n",
       "      <th>id</th>\n",
       "      <th>text</th>\n",
       "      <th>label</th>\n",
       "      <th>cleaned_text</th>\n",
       "      <th>avg_len</th>\n",
       "      <th>total_count</th>\n",
       "      <th>word_count</th>\n",
       "      <th>space_count</th>\n",
       "      <th>char_count</th>\n",
       "    </tr>\n",
       "  </thead>\n",
       "  <tbody>\n",
       "    <tr>\n",
       "      <th>0</th>\n",
       "      <td>0</td>\n",
       "      <td>We started giving this to my 5 year old Labrador retriever (female) she has arthritis problems along with weakness in her back legs and it seems to help a little bit, would not hurt to try it</td>\n",
       "      <td>1</td>\n",
       "      <td>we started giving this to my year old labrador retriever she has arthritis problems along with weakness in her back legs and it seems to help a little bit would not hurt to try it</td>\n",
       "      <td>4.142857</td>\n",
       "      <td>179</td>\n",
       "      <td>35</td>\n",
       "      <td>34</td>\n",
       "      <td>145</td>\n",
       "    </tr>\n",
       "    <tr>\n",
       "      <th>1</th>\n",
       "      <td>1</td>\n",
       "      <td>This product is easy to set up and use. I have a new puppy Border Collie who will be fullgrown around 50#. The crate would still have lots of room for her. I purchased this thru Amazon which is very convienience because the delivery person carried it right to my door. Total cost was cheaper than...</td>\n",
       "      <td>1</td>\n",
       "      <td>this product is easy to set up and use i have a new puppy border collie who will be fullgrown around the crate would still have lots of room for her i purchased this thru amazon which is very convienience because the delivery person carried it right to my door total cost was cheaper than the loc...</td>\n",
       "      <td>4.206349</td>\n",
       "      <td>327</td>\n",
       "      <td>63</td>\n",
       "      <td>62</td>\n",
       "      <td>265</td>\n",
       "    </tr>\n",
       "    <tr>\n",
       "      <th>2</th>\n",
       "      <td>2</td>\n",
       "      <td>my dog has nerves and wants to itch and chew......the cone keeps him from a frenzy somewhat! If not for the cone he would go to town on his entire body drawing blood....however he is a contortionist and can maneuver the cone. The picture shows a black band around the diameter of the large end of...</td>\n",
       "      <td>1</td>\n",
       "      <td>my dog has nerves and wants to itch and chew the cone keeps him from a frenzy somewhat if not for the cone he would go to town on his entire body drawing blood however he is a contortionist and can maneuver the cone the picture shows a black band around the diameter of the large end of the cone ...</td>\n",
       "      <td>3.815951</td>\n",
       "      <td>784</td>\n",
       "      <td>163</td>\n",
       "      <td>162</td>\n",
       "      <td>622</td>\n",
       "    </tr>\n",
       "    <tr>\n",
       "      <th>3</th>\n",
       "      <td>3</td>\n",
       "      <td>the breeded gave us a can of Nupro when we took our scottie home...having fed it to him now for 4 months we are very pleased with the results...those who want a great coat on their animal would appreciate this supplement...would definitely recommend..</td>\n",
       "      <td>1</td>\n",
       "      <td>the breeded gave us a can of nupro when we took our scottie home having fed it to him now for months we are very pleased with the results those who want a great coat on their animal would appreciate this supplement would definitely recommend</td>\n",
       "      <td>4.377778</td>\n",
       "      <td>241</td>\n",
       "      <td>45</td>\n",
       "      <td>44</td>\n",
       "      <td>197</td>\n",
       "    </tr>\n",
       "    <tr>\n",
       "      <th>4</th>\n",
       "      <td>4</td>\n",
       "      <td>Very study, well made poop bag. Easy to open and holds the poop with no leaking, but I only gave it four stars because it does not keep the smell inside the bag. That is the only downside, but I will keep buying them, as they are convenient and affordable.</td>\n",
       "      <td>1</td>\n",
       "      <td>very study well made poop bag easy to open and holds the poop with no leaking but i only gave it four stars because it does not keep the smell inside the bag that is the only downside but i will keep buying them as they are convenient and affordable</td>\n",
       "      <td>4.000000</td>\n",
       "      <td>249</td>\n",
       "      <td>50</td>\n",
       "      <td>49</td>\n",
       "      <td>200</td>\n",
       "    </tr>\n",
       "  </tbody>\n",
       "</table>\n",
       "</div>"
      ],
      "text/plain": [
       "   id  \\\n",
       "0   0   \n",
       "1   1   \n",
       "2   2   \n",
       "3   3   \n",
       "4   4   \n",
       "\n",
       "                                                                                                                                                                                                                                                                                                          text  \\\n",
       "0                                                                                                              We started giving this to my 5 year old Labrador retriever (female) she has arthritis problems along with weakness in her back legs and it seems to help a little bit, would not hurt to try it   \n",
       "1  This product is easy to set up and use. I have a new puppy Border Collie who will be fullgrown around 50#. The crate would still have lots of room for her. I purchased this thru Amazon which is very convienience because the delivery person carried it right to my door. Total cost was cheaper than...   \n",
       "2  my dog has nerves and wants to itch and chew......the cone keeps him from a frenzy somewhat! If not for the cone he would go to town on his entire body drawing blood....however he is a contortionist and can maneuver the cone. The picture shows a black band around the diameter of the large end of...   \n",
       "3                                                  the breeded gave us a can of Nupro when we took our scottie home...having fed it to him now for 4 months we are very pleased with the results...those who want a great coat on their animal would appreciate this supplement...would definitely recommend..   \n",
       "4                                             Very study, well made poop bag. Easy to open and holds the poop with no leaking, but I only gave it four stars because it does not keep the smell inside the bag. That is the only downside, but I will keep buying them, as they are convenient and affordable.   \n",
       "\n",
       "   label  \\\n",
       "0      1   \n",
       "1      1   \n",
       "2      1   \n",
       "3      1   \n",
       "4      1   \n",
       "\n",
       "                                                                                                                                                                                                                                                                                                  cleaned_text  \\\n",
       "0                                                                                                                          we started giving this to my year old labrador retriever she has arthritis problems along with weakness in her back legs and it seems to help a little bit would not hurt to try it   \n",
       "1  this product is easy to set up and use i have a new puppy border collie who will be fullgrown around the crate would still have lots of room for her i purchased this thru amazon which is very convienience because the delivery person carried it right to my door total cost was cheaper than the loc...   \n",
       "2  my dog has nerves and wants to itch and chew the cone keeps him from a frenzy somewhat if not for the cone he would go to town on his entire body drawing blood however he is a contortionist and can maneuver the cone the picture shows a black band around the diameter of the large end of the cone ...   \n",
       "3                                                            the breeded gave us a can of nupro when we took our scottie home having fed it to him now for months we are very pleased with the results those who want a great coat on their animal would appreciate this supplement would definitely recommend   \n",
       "4                                                    very study well made poop bag easy to open and holds the poop with no leaking but i only gave it four stars because it does not keep the smell inside the bag that is the only downside but i will keep buying them as they are convenient and affordable   \n",
       "\n",
       "    avg_len  total_count  word_count  space_count  char_count  \n",
       "0  4.142857          179          35           34         145  \n",
       "1  4.206349          327          63           62         265  \n",
       "2  3.815951          784         163          162         622  \n",
       "3  4.377778          241          45           44         197  \n",
       "4  4.000000          249          50           49         200  "
      ]
     },
     "execution_count": 14,
     "metadata": {},
     "output_type": "execute_result"
    }
   ],
   "source": [
    "#Perform different Count Features and add into the Dataframe\n",
    "\n",
    "tweets['avg_len']    = func_avg_length(tweets['cleaned_text'])\n",
    "tweets['total_count']=[len(line) for line in tweets['cleaned_text']]\n",
    "tweets['word_count'] =[len(line.split()) for line in tweets['cleaned_text']]\n",
    "tweets['space_count']=[line.count(' ') for line in tweets['cleaned_text']]\n",
    "tweets['char_count'] =tweets['total_count']-tweets['space_count']\n",
    "tweets.head()"
   ]
  },
  {
   "cell_type": "markdown",
   "id": "f87005a7",
   "metadata": {},
   "source": [
    "### 2.5 Build 'CountVectorizer' - BOW<a id='2.5'></a>\n",
    "\n",
    "Bag of Words (BOW) Features: Frequency of every word in vocabulary is used to build the feature space."
   ]
  },
  {
   "cell_type": "code",
   "execution_count": 15,
   "id": "969c820c",
   "metadata": {},
   "outputs": [
    {
     "data": {
      "text/plain": [
       "(15499, 21350)"
      ]
     },
     "execution_count": 15,
     "metadata": {},
     "output_type": "execute_result"
    }
   ],
   "source": [
    "vectorizer = CountVectorizer()\n",
    "features= vectorizer.fit_transform(tweets['cleaned_text'])\n",
    "features.shape"
   ]
  },
  {
   "cell_type": "markdown",
   "id": "2d2a5c96",
   "metadata": {},
   "source": [
    "**Every word in the vocabulary is a feature**"
   ]
  },
  {
   "cell_type": "code",
   "execution_count": 16,
   "id": "bcc3566c",
   "metadata": {},
   "outputs": [
    {
     "data": {
      "text/plain": [
       "array(['aa', 'aaa', 'aaaand', ..., 'zukes', 'zymox', 'zyrtec'],\n",
       "      dtype=object)"
      ]
     },
     "execution_count": 16,
     "metadata": {},
     "output_type": "execute_result"
    }
   ],
   "source": [
    "vectorizer.get_feature_names_out()"
   ]
  },
  {
   "cell_type": "code",
   "execution_count": 17,
   "id": "1055bdff",
   "metadata": {},
   "outputs": [],
   "source": [
    "xtrain_bow, xvalid_bow, ytrain_bow, yvalid_bow = train_test_split(features,tweets['label'],test_size=0.3,random_state=42)"
   ]
  },
  {
   "cell_type": "code",
   "execution_count": 18,
   "id": "3d9f139a",
   "metadata": {},
   "outputs": [
    {
     "data": {
      "text/plain": [
       "((10849, 21350), (10849,), (4650, 21350), (4650,))"
      ]
     },
     "execution_count": 18,
     "metadata": {},
     "output_type": "execute_result"
    }
   ],
   "source": [
    "xtrain_bow.shape, ytrain_bow.shape, xvalid_bow.shape, yvalid_bow.shape"
   ]
  },
  {
   "cell_type": "markdown",
   "id": "fdaa2b36",
   "metadata": {},
   "source": [
    "### 2.6 Implement Multinomial Naive Bayes<a id='2.6'></a>"
   ]
  },
  {
   "cell_type": "code",
   "execution_count": 19,
   "id": "ab851ffc",
   "metadata": {},
   "outputs": [
    {
     "name": "stdout",
     "output_type": "stream",
     "text": [
      "F1-Score (Train):  0.9067904469566519\n",
      "F1-Score (Valid):  0.8659503258763431\n",
      "ROW-AUC-Score (Train):  0.945467995751013\n",
      "ROW-AUC-Score (Valid):  0.9032856984708392\n"
     ]
    }
   ],
   "source": [
    "#instantiate model\n",
    "naive_bayes_bow = MultinomialNB()          \n",
    "\n",
    "#training model\n",
    "naive_bayes_bow.fit(xtrain_bow, ytrain_bow)\n",
    "\n",
    "#predicting on traiin and validation set\n",
    "prediction_bow_train  = naive_bayes_bow.predict(xtrain_bow)\n",
    "prediction_bow_valid  = naive_bayes_bow.predict(xvalid_bow)\n",
    "preds_proba_bow_train = naive_bayes_bow.predict_proba(xtrain_bow)[:, 1]\n",
    "preds_proba_bow_valid = naive_bayes_bow.predict_proba(xvalid_bow)[:, 1]\n",
    "\n",
    "# Calculate confusion matrix\n",
    "cm_bow_train = confusion_matrix(ytrain_bow, prediction_bow_train)\n",
    "cm_bow_valid = confusion_matrix(yvalid_bow, prediction_bow_valid)\n",
    "                                \n",
    "#Calculate ROC curve and AUC\n",
    "fpr_bow_train, tpr_bow_train, thresholds_bow_train = roc_curve(ytrain_bow, preds_proba_bow_train)\n",
    "fpr_bow_valid, tpr_bow_valid, thresholds_bow_valid = roc_curve(yvalid_bow, preds_proba_bow_valid)\n",
    "\n",
    "roc_auc_bow_train = auc(fpr_bow_train, tpr_bow_train)\n",
    "roc_auc_bow_valid = auc(fpr_bow_valid, tpr_bow_valid)\n",
    "\n",
    "#Calculating f1-score score\n",
    "f1_score_bow_train=f1_score(ytrain_bow, prediction_bow_train) \n",
    "f1_score_bow_valid=f1_score(yvalid_bow, prediction_bow_valid)       \n",
    "\n",
    "\n",
    "# #calculating roc_auc score\n",
    "roc_score_bow_train=roc_auc_score(ytrain_bow, preds_proba_bow_train)\n",
    "roc_score_bow_valid=roc_auc_score(yvalid_bow, preds_proba_bow_valid)\n",
    "#Append to respective list\n",
    "# roc_auc_score_trains.append(roc_score_bow_train);roc_auc_score_valids.append(roc_score_bow_valid);\n",
    "\n",
    "#Append to the list\n",
    "models.append('MultinomialNB-BOW')\n",
    "f1_score_trains.append(f1_score_bow_train);roc_auc_score_trains.append(roc_auc_bow_train);\n",
    "model_feature_rows_trains.append(xtrain_bow.shape[0]);model_feature_cols_trains.append(xtrain_bow.shape[1]);\n",
    "\n",
    "f1_score_valids.append(f1_score_bow_valid);roc_auc_score_valids.append(roc_auc_bow_valid);\n",
    "model_feature_rows_valids.append(xvalid_bow.shape[0]);model_feature_cols_valids.append(xvalid_bow.shape[1]);\n",
    "\n",
    "print('F1-Score (Train): ',     f1_score_bow_train)\n",
    "print('F1-Score (Valid): ',     f1_score_bow_valid)\n",
    "print('ROW-AUC-Score (Train): ',roc_score_bow_train)\n",
    "print('ROW-AUC-Score (Valid): ',roc_score_bow_valid)"
   ]
  },
  {
   "cell_type": "markdown",
   "id": "38e29e50",
   "metadata": {},
   "source": [
    "## 3. Model Building: Using Stop Words, Lemmatize<a id='3'></a>"
   ]
  },
  {
   "cell_type": "markdown",
   "id": "60d7c1a2",
   "metadata": {},
   "source": [
    "### 3.1 Read Dataset and Create Dataframe<a id='3.1'></a>"
   ]
  },
  {
   "cell_type": "code",
   "execution_count": 20,
   "id": "061ebde2",
   "metadata": {},
   "outputs": [
    {
     "data": {
      "text/html": [
       "<div>\n",
       "<style scoped>\n",
       "    .dataframe tbody tr th:only-of-type {\n",
       "        vertical-align: middle;\n",
       "    }\n",
       "\n",
       "    .dataframe tbody tr th {\n",
       "        vertical-align: top;\n",
       "    }\n",
       "\n",
       "    .dataframe thead th {\n",
       "        text-align: right;\n",
       "    }\n",
       "</style>\n",
       "<table border=\"1\" class=\"dataframe\">\n",
       "  <thead>\n",
       "    <tr style=\"text-align: right;\">\n",
       "      <th></th>\n",
       "      <th>id</th>\n",
       "      <th>text</th>\n",
       "      <th>label</th>\n",
       "    </tr>\n",
       "  </thead>\n",
       "  <tbody>\n",
       "    <tr>\n",
       "      <th>0</th>\n",
       "      <td>0</td>\n",
       "      <td>We started giving this to my 5 year old Labrador retriever (female) she has arthritis problems along with weakness in her back legs and it seems to help a little bit, would not hurt to try it</td>\n",
       "      <td>dogs</td>\n",
       "    </tr>\n",
       "    <tr>\n",
       "      <th>1</th>\n",
       "      <td>1</td>\n",
       "      <td>This product is easy to set up and use. I have a new puppy Border Collie who will be fullgrown around 50#. The crate would still have lots of room for her. I purchased this thru Amazon which is very convienience because the delivery person carried it right to my door. Total cost was cheaper than...</td>\n",
       "      <td>dogs</td>\n",
       "    </tr>\n",
       "    <tr>\n",
       "      <th>2</th>\n",
       "      <td>2</td>\n",
       "      <td>my dog has nerves and wants to itch and chew......the cone keeps him from a frenzy somewhat! If not for the cone he would go to town on his entire body drawing blood....however he is a contortionist and can maneuver the cone. The picture shows a black band around the diameter of the large end of...</td>\n",
       "      <td>dogs</td>\n",
       "    </tr>\n",
       "    <tr>\n",
       "      <th>3</th>\n",
       "      <td>3</td>\n",
       "      <td>the breeded gave us a can of Nupro when we took our scottie home...having fed it to him now for 4 months we are very pleased with the results...those who want a great coat on their animal would appreciate this supplement...would definitely recommend..</td>\n",
       "      <td>dogs</td>\n",
       "    </tr>\n",
       "    <tr>\n",
       "      <th>4</th>\n",
       "      <td>4</td>\n",
       "      <td>Very study, well made poop bag. Easy to open and holds the poop with no leaking, but I only gave it four stars because it does not keep the smell inside the bag. That is the only downside, but I will keep buying them, as they are convenient and affordable.</td>\n",
       "      <td>dogs</td>\n",
       "    </tr>\n",
       "  </tbody>\n",
       "</table>\n",
       "</div>"
      ],
      "text/plain": [
       "   id  \\\n",
       "0   0   \n",
       "1   1   \n",
       "2   2   \n",
       "3   3   \n",
       "4   4   \n",
       "\n",
       "                                                                                                                                                                                                                                                                                                          text  \\\n",
       "0                                                                                                              We started giving this to my 5 year old Labrador retriever (female) she has arthritis problems along with weakness in her back legs and it seems to help a little bit, would not hurt to try it   \n",
       "1  This product is easy to set up and use. I have a new puppy Border Collie who will be fullgrown around 50#. The crate would still have lots of room for her. I purchased this thru Amazon which is very convienience because the delivery person carried it right to my door. Total cost was cheaper than...   \n",
       "2  my dog has nerves and wants to itch and chew......the cone keeps him from a frenzy somewhat! If not for the cone he would go to town on his entire body drawing blood....however he is a contortionist and can maneuver the cone. The picture shows a black band around the diameter of the large end of...   \n",
       "3                                                  the breeded gave us a can of Nupro when we took our scottie home...having fed it to him now for 4 months we are very pleased with the results...those who want a great coat on their animal would appreciate this supplement...would definitely recommend..   \n",
       "4                                             Very study, well made poop bag. Easy to open and holds the poop with no leaking, but I only gave it four stars because it does not keep the smell inside the bag. That is the only downside, but I will keep buying them, as they are convenient and affordable.   \n",
       "\n",
       "  label  \n",
       "0  dogs  \n",
       "1  dogs  \n",
       "2  dogs  \n",
       "3  dogs  \n",
       "4  dogs  "
      ]
     },
     "execution_count": 20,
     "metadata": {},
     "output_type": "execute_result"
    }
   ],
   "source": [
    "tweets_stp = pd.read_csv(\"lNlhedMcSH63Idvr6lzE_valid.csv\")\n",
    "tweets_stp.head()"
   ]
  },
  {
   "cell_type": "markdown",
   "id": "96eeeed6",
   "metadata": {},
   "source": [
    "### 3.2 Check the Dataframe Size and Shape and Encode the Class 'Label'<a id='3.2'></a>"
   ]
  },
  {
   "cell_type": "code",
   "execution_count": 21,
   "id": "3728b1a6",
   "metadata": {},
   "outputs": [],
   "source": [
    "tweets_stp = tweets_stp.drop(['id'],axis=1)"
   ]
  },
  {
   "cell_type": "code",
   "execution_count": 22,
   "id": "97d29021",
   "metadata": {},
   "outputs": [
    {
     "data": {
      "text/plain": [
       "(15499, 2)"
      ]
     },
     "execution_count": 22,
     "metadata": {},
     "output_type": "execute_result"
    }
   ],
   "source": [
    "tweets_stp.shape"
   ]
  },
  {
   "cell_type": "code",
   "execution_count": 23,
   "id": "7a7664a0",
   "metadata": {},
   "outputs": [],
   "source": [
    "# Create a LabelEncoder object\n",
    "le = LabelEncoder()\n",
    "\n",
    "# Fit the encoder to the data\n",
    "tweets_stp['label'] = le.fit_transform(tweets_stp['label'])"
   ]
  },
  {
   "cell_type": "code",
   "execution_count": 24,
   "id": "4a5cf60a",
   "metadata": {},
   "outputs": [
    {
     "data": {
      "text/plain": [
       "1    9333\n",
       "0    6166\n",
       "Name: label, dtype: int64"
      ]
     },
     "execution_count": 24,
     "metadata": {},
     "output_type": "execute_result"
    }
   ],
   "source": [
    "tweets_stp['label'].value_counts()"
   ]
  },
  {
   "cell_type": "markdown",
   "id": "cc1fc4cd",
   "metadata": {},
   "source": [
    "### 3.3. Preprocess Tweet text<a id='3.3'></a>\n",
    "\n",
    "Stop words usually refers to the most commonly used words in a language (such as “the”, “a”, “an”, “in”) \n",
    "\n",
    "This step is a one of the important steps to come up with more robust input"
   ]
  },
  {
   "cell_type": "code",
   "execution_count": 25,
   "id": "6271a1a6",
   "metadata": {},
   "outputs": [
    {
     "name": "stderr",
     "output_type": "stream",
     "text": [
      "[nltk_data] Downloading package stopwords to\n",
      "[nltk_data]     C:\\Users\\archi\\AppData\\Roaming\\nltk_data...\n",
      "[nltk_data]   Package stopwords is already up-to-date!\n"
     ]
    }
   ],
   "source": [
    "nltk.download('stopwords')\n",
    "stop_words = set(stopwords.words('english')) "
   ]
  },
  {
   "cell_type": "code",
   "execution_count": 26,
   "id": "44b06726",
   "metadata": {},
   "outputs": [
    {
     "data": {
      "text/plain": [
       "\"Made in USA - seems well made, but I have been playing easy with my two cats.I highly recommend using caution when playing with your cats!!! If a child is using this toy with the cats, then supervise their usage too! Your cat could get hurt!I gave 4 Stars because of the design, which is a metal fishing hook style to connect the attachments - I hope to upload a picture. It is a great design, in terms of easily switching attachments, but the loop holes make it too easy for your cats' teeth and nails to get caught when your cat is biting or swatting at the toy. I may put tape over the loop holes for protection. The attachments themselves seem to be a little weighted and it is very easy to swing the attachments and whack the cat in the head or teeth.Both of my cats play with the attachments, but each cat prefers a different attachment. One cat loves the sparkler attachment and the other cat loves the blue fluffed feather attachment. Neither cat cares for the standard feather attachment. The blue fluffed feathers will not last long at all.The peacock feather is just that, one single long peacock feather. My cats do play with this, but I put it away when I'm done because it will not last long if one of the cats gets a hold of it while I'm gone!I'm not sure if I will buy replacement attachments because they are a little expensive. I may make my own attachments or just retire the wand when all the pieces are destroyed. The wand is very thin and I don't know how rough the play can be before it breaks, so I will play with this carefully to extend its life and to protect my cats.As with any toy, use caution and supervise!\""
      ]
     },
     "execution_count": 26,
     "metadata": {},
     "output_type": "execute_result"
    }
   ],
   "source": [
    "tweets_stp['text'][12]"
   ]
  },
  {
   "cell_type": "code",
   "execution_count": 27,
   "id": "ddd6ffb5",
   "metadata": {},
   "outputs": [
    {
     "data": {
      "text/plain": [
       "\"made in usa - seems well made, but i have been playing easy with my two cats.i highly recommend using caution when playing with your cats!!! if a child is using this toy with the cats, then supervise their usage too! your cat could get hurt!i gave 4 star because of the design, which is a metal fishing hook style to connect the attachment - i hope to upload a picture. it is a great design, in term of easily switching attachments, but the loop hole make it too easy for your cats' teeth and nail to get caught when your cat is biting or swatting at the toy. i may put tape over the loop hole for protection. the attachment themselves seem to be a little weighted and it is very easy to swing the attachment and whack the cat in the head or teeth.both of my cat play with the attachments, but each cat prefers a different attachment. one cat love the sparkler attachment and the other cat love the blue fluffed feather attachment. neither cat care for the standard feather attachment. the blue fluffed feather will not last long at all.the peacock feather is just that, one single long peacock feather. my cat do play with this, but i put it away when i'm done because it will not last long if one of the cat get a hold of it while i'm gone!i'm not sure if i will buy replacement attachment because they are a little expensive. i may make my own attachment or just retire the wand when all the piece are destroyed. the wand is very thin and i don't know how rough the play can be before it breaks, so i will play with this carefully to extend it life and to protect my cats.as with any toy, use caution and supervise! \""
      ]
     },
     "execution_count": 27,
     "metadata": {},
     "output_type": "execute_result"
    }
   ],
   "source": [
    "lemmatizer = WordNetLemmatizer() \n",
    "new_sentence=''\n",
    "for i in tweets_stp['text'][12].split():\n",
    "  new_sentence=new_sentence+lemmatizer.lemmatize(i.lower())+' '\n",
    "new_sentence"
   ]
  },
  {
   "cell_type": "code",
   "execution_count": 28,
   "id": "fa369b78",
   "metadata": {},
   "outputs": [],
   "source": [
    "#Function to use 'Contraction Mapping'\n",
    "\n",
    "def func_contract_words_stp(text):\n",
    "    \n",
    "    # creating an empty list\n",
    "    expanded_words = []    \n",
    "    for word in text.split():\n",
    "      # using contractions.fix to expand the shortened words\n",
    "      expanded_words.append(contractions.fix(word))\n",
    "        \n",
    "    expanded_text = ' '.join(expanded_words)\n",
    "    \n",
    "    return expanded_text"
   ]
  },
  {
   "cell_type": "code",
   "execution_count": 29,
   "id": "166b9661",
   "metadata": {},
   "outputs": [],
   "source": [
    "# function to pre-process R clean the text\n",
    "\n",
    "def func_tweet_cleaner_lema(cleanString):\n",
    "    #contraction mapping\n",
    "    cleanString=func_contract_words_stp(cleanString)              \n",
    "    #Removing text in brackets\n",
    "    cleanString=re.sub(r\"(\\(.*\\))|(\\[.*\\])\", \"\",cleanString)      \n",
    "    #Removing user mentions\n",
    "    cleanString=re.sub(r'@[A-Za-z0-9]+','',cleanString)           \n",
    "    #Removing hashtag symbobol\n",
    "    cleanString=re.sub(r\"#\\S+\",\"\",cleanString)                    \n",
    "    #Removing links\n",
    "    cleanString= re.sub(r'(http[s]?\\://\\S+)|([\\[\\(].*[\\)\\]])|([#@]\\S+)|\\n', '', cleanString)              \n",
    "    #Removing 2016, 21 15\n",
    "    cleanString=re.sub(r\"[0-9]\", \"\",cleanString)                  \n",
    "    #Removing \\n\n",
    "    cleanString=re.sub(r\"\\n\", \"\",cleanString)                     \n",
    "    \n",
    "    #Fetching out only letters\n",
    "    letters_only = re.sub(\"[^a-zA-Z]\", \" \", cleanString)           \n",
    "    #Converting everything to lowercase\n",
    "    lower_case = letters_only.lower()                              \n",
    "    #stopwords removal\n",
    "    tokens = [w for w in lower_case.split() if not w in stop_words]\n",
    "    newString=''\n",
    "    for i in tokens:                                                 \n",
    "        #converting words to lemma\n",
    "        newString=newString+lemmatizer.lemmatize(i)+' '                                           \n",
    "    return newString.strip()                  "
   ]
  },
  {
   "cell_type": "code",
   "execution_count": 30,
   "id": "230f459c",
   "metadata": {},
   "outputs": [
    {
     "name": "stdout",
     "output_type": "stream",
     "text": [
      "['started giving year old labrador retriever arthritis problem along weakness back leg seems help little bit would hurt try', 'product easy set use new puppy border collie fullgrown around crate would still lot room purchased thru amazon convienience delivery person carried right door total cost cheaper local pet store yep love amazon', 'dog nerve want itch chew cone keep frenzy somewhat cone would go town entire body drawing blood however contortionist maneuver cone picture show black band around diameter large end cone case cone received purchased cone exposed plastic sharp run leg hurt little also scratch like back scratcher imagine good must feel almost hate get serve purpose without like said would frenzy nerve would chew self bloody disapointment pictured item shipped', 'breeded gave u nupro took scottie home fed month pleased result want great coat animal would appreciate supplement would definitely recommend', 'study well made poop bag easy open hold poop leaking gave four star keep smell inside bag downside keep buying convenient affordable']\n"
     ]
    }
   ],
   "source": [
    "#Apply the clean function and create list of cleaned text\n",
    "\n",
    "cleaned_tweets = []\n",
    "for i in tweets_stp['text']:\n",
    "    cleaned_tweets.append(func_tweet_cleaner_lema(i))\n",
    "print(cleaned_tweets[:5])   #print top 5 records"
   ]
  },
  {
   "cell_type": "code",
   "execution_count": 31,
   "id": "fc2d09c8",
   "metadata": {},
   "outputs": [
    {
     "data": {
      "text/html": [
       "<div>\n",
       "<style scoped>\n",
       "    .dataframe tbody tr th:only-of-type {\n",
       "        vertical-align: middle;\n",
       "    }\n",
       "\n",
       "    .dataframe tbody tr th {\n",
       "        vertical-align: top;\n",
       "    }\n",
       "\n",
       "    .dataframe thead th {\n",
       "        text-align: right;\n",
       "    }\n",
       "</style>\n",
       "<table border=\"1\" class=\"dataframe\">\n",
       "  <thead>\n",
       "    <tr style=\"text-align: right;\">\n",
       "      <th></th>\n",
       "      <th>text</th>\n",
       "      <th>label</th>\n",
       "      <th>cleaned_tweets</th>\n",
       "    </tr>\n",
       "  </thead>\n",
       "  <tbody>\n",
       "    <tr>\n",
       "      <th>0</th>\n",
       "      <td>We started giving this to my 5 year old Labrador retriever (female) she has arthritis problems along with weakness in her back legs and it seems to help a little bit, would not hurt to try it</td>\n",
       "      <td>1</td>\n",
       "      <td>started giving year old labrador retriever arthritis problem along weakness back leg seems help little bit would hurt try</td>\n",
       "    </tr>\n",
       "    <tr>\n",
       "      <th>1</th>\n",
       "      <td>This product is easy to set up and use. I have a new puppy Border Collie who will be fullgrown around 50#. The crate would still have lots of room for her. I purchased this thru Amazon which is very convienience because the delivery person carried it right to my door. Total cost was cheaper than...</td>\n",
       "      <td>1</td>\n",
       "      <td>product easy set use new puppy border collie fullgrown around crate would still lot room purchased thru amazon convienience delivery person carried right door total cost cheaper local pet store yep love amazon</td>\n",
       "    </tr>\n",
       "    <tr>\n",
       "      <th>2</th>\n",
       "      <td>my dog has nerves and wants to itch and chew......the cone keeps him from a frenzy somewhat! If not for the cone he would go to town on his entire body drawing blood....however he is a contortionist and can maneuver the cone. The picture shows a black band around the diameter of the large end of...</td>\n",
       "      <td>1</td>\n",
       "      <td>dog nerve want itch chew cone keep frenzy somewhat cone would go town entire body drawing blood however contortionist maneuver cone picture show black band around diameter large end cone case cone received purchased cone exposed plastic sharp run leg hurt little also scratch like back scratcher ...</td>\n",
       "    </tr>\n",
       "    <tr>\n",
       "      <th>3</th>\n",
       "      <td>the breeded gave us a can of Nupro when we took our scottie home...having fed it to him now for 4 months we are very pleased with the results...those who want a great coat on their animal would appreciate this supplement...would definitely recommend..</td>\n",
       "      <td>1</td>\n",
       "      <td>breeded gave u nupro took scottie home fed month pleased result want great coat animal would appreciate supplement would definitely recommend</td>\n",
       "    </tr>\n",
       "    <tr>\n",
       "      <th>4</th>\n",
       "      <td>Very study, well made poop bag. Easy to open and holds the poop with no leaking, but I only gave it four stars because it does not keep the smell inside the bag. That is the only downside, but I will keep buying them, as they are convenient and affordable.</td>\n",
       "      <td>1</td>\n",
       "      <td>study well made poop bag easy open hold poop leaking gave four star keep smell inside bag downside keep buying convenient affordable</td>\n",
       "    </tr>\n",
       "  </tbody>\n",
       "</table>\n",
       "</div>"
      ],
      "text/plain": [
       "                                                                                                                                                                                                                                                                                                          text  \\\n",
       "0                                                                                                              We started giving this to my 5 year old Labrador retriever (female) she has arthritis problems along with weakness in her back legs and it seems to help a little bit, would not hurt to try it   \n",
       "1  This product is easy to set up and use. I have a new puppy Border Collie who will be fullgrown around 50#. The crate would still have lots of room for her. I purchased this thru Amazon which is very convienience because the delivery person carried it right to my door. Total cost was cheaper than...   \n",
       "2  my dog has nerves and wants to itch and chew......the cone keeps him from a frenzy somewhat! If not for the cone he would go to town on his entire body drawing blood....however he is a contortionist and can maneuver the cone. The picture shows a black band around the diameter of the large end of...   \n",
       "3                                                  the breeded gave us a can of Nupro when we took our scottie home...having fed it to him now for 4 months we are very pleased with the results...those who want a great coat on their animal would appreciate this supplement...would definitely recommend..   \n",
       "4                                             Very study, well made poop bag. Easy to open and holds the poop with no leaking, but I only gave it four stars because it does not keep the smell inside the bag. That is the only downside, but I will keep buying them, as they are convenient and affordable.   \n",
       "\n",
       "   label  \\\n",
       "0      1   \n",
       "1      1   \n",
       "2      1   \n",
       "3      1   \n",
       "4      1   \n",
       "\n",
       "                                                                                                                                                                                                                                                                                                cleaned_tweets  \n",
       "0                                                                                                                                                                                    started giving year old labrador retriever arthritis problem along weakness back leg seems help little bit would hurt try  \n",
       "1                                                                                            product easy set use new puppy border collie fullgrown around crate would still lot room purchased thru amazon convienience delivery person carried right door total cost cheaper local pet store yep love amazon  \n",
       "2  dog nerve want itch chew cone keep frenzy somewhat cone would go town entire body drawing blood however contortionist maneuver cone picture show black band around diameter large end cone case cone received purchased cone exposed plastic sharp run leg hurt little also scratch like back scratcher ...  \n",
       "3                                                                                                                                                                breeded gave u nupro took scottie home fed month pleased result want great coat animal would appreciate supplement would definitely recommend  \n",
       "4                                                                                                                                                                         study well made poop bag easy open hold poop leaking gave four star keep smell inside bag downside keep buying convenient affordable  "
      ]
     },
     "execution_count": 31,
     "metadata": {},
     "output_type": "execute_result"
    }
   ],
   "source": [
    "#Add the cleaned text to the Dataframe\n",
    "\n",
    "tweets_stp['cleaned_tweets']= cleaned_tweets  #creating new column\n",
    "tweets_stp.head()"
   ]
  },
  {
   "cell_type": "markdown",
   "id": "f2d3ff08",
   "metadata": {},
   "source": [
    "**Data Visualization**\n",
    "\n",
    "Let us visualize the same plot after preprocessing"
   ]
  },
  {
   "cell_type": "code",
   "execution_count": 32,
   "id": "23e85d07",
   "metadata": {},
   "outputs": [
    {
     "data": {
      "image/png": "[encoded data removed]",
      "text/plain": [
       "<Figure size 1200x500 with 1 Axes>"
      ]
     },
     "metadata": {},
     "output_type": "display_data"
    }
   ],
   "source": [
    "all_words = []\n",
    "for line in list(tweets_stp['cleaned_tweets']):\n",
    "    words = line.split()\n",
    "    for word in words:\n",
    "        all_words.append(word)\n",
    "        \n",
    "plt.figure(figsize=(12,5))\n",
    "plt.title('Top 25 most common words')\n",
    "plt.xticks(fontsize=13, rotation=90)\n",
    "fd = nltk.FreqDist(all_words)\n",
    "fd.plot(25,cumulative=False);  "
   ]
  },
  {
   "cell_type": "markdown",
   "id": "7266b718",
   "metadata": {},
   "source": [
    "### 3.4 Perform Count Features<a id='3.4'></a>"
   ]
  },
  {
   "cell_type": "code",
   "execution_count": 33,
   "id": "b67ff3c1",
   "metadata": {},
   "outputs": [],
   "source": [
    "#Compute Average length of the given text\n",
    "\n",
    "def func_avg_length(tweet):\n",
    "    tweet_avg_len = []\n",
    "    for row in tweet:\n",
    "        row_len=[]\n",
    "        for term in row.split():\n",
    "            row_len.append(len(term))\n",
    "        \n",
    "        if len(row_len) > 0:\n",
    "            row_avg_len = sum(row_len) / len(row_len)\n",
    "        else:\n",
    "            row_avg_len = sum(row_len)\n",
    "            \n",
    "        tweet_avg_len.append(row_avg_len)\n",
    "    \n",
    "    return tweet_avg_len"
   ]
  },
  {
   "cell_type": "code",
   "execution_count": 34,
   "id": "1ef7d5e5",
   "metadata": {},
   "outputs": [
    {
     "data": {
      "text/html": [
       "<div>\n",
       "<style scoped>\n",
       "    .dataframe tbody tr th:only-of-type {\n",
       "        vertical-align: middle;\n",
       "    }\n",
       "\n",
       "    .dataframe tbody tr th {\n",
       "        vertical-align: top;\n",
       "    }\n",
       "\n",
       "    .dataframe thead th {\n",
       "        text-align: right;\n",
       "    }\n",
       "</style>\n",
       "<table border=\"1\" class=\"dataframe\">\n",
       "  <thead>\n",
       "    <tr style=\"text-align: right;\">\n",
       "      <th></th>\n",
       "      <th>text</th>\n",
       "      <th>label</th>\n",
       "      <th>cleaned_tweets</th>\n",
       "      <th>avg_len</th>\n",
       "      <th>total_count</th>\n",
       "      <th>word_count</th>\n",
       "      <th>space_count</th>\n",
       "      <th>char_count</th>\n",
       "    </tr>\n",
       "  </thead>\n",
       "  <tbody>\n",
       "    <tr>\n",
       "      <th>0</th>\n",
       "      <td>We started giving this to my 5 year old Labrador retriever (female) she has arthritis problems along with weakness in her back legs and it seems to help a little bit, would not hurt to try it</td>\n",
       "      <td>1</td>\n",
       "      <td>started giving year old labrador retriever arthritis problem along weakness back leg seems help little bit would hurt try</td>\n",
       "      <td>5.421053</td>\n",
       "      <td>121</td>\n",
       "      <td>19</td>\n",
       "      <td>18</td>\n",
       "      <td>103</td>\n",
       "    </tr>\n",
       "    <tr>\n",
       "      <th>1</th>\n",
       "      <td>This product is easy to set up and use. I have a new puppy Border Collie who will be fullgrown around 50#. The crate would still have lots of room for her. I purchased this thru Amazon which is very convienience because the delivery person carried it right to my door. Total cost was cheaper than...</td>\n",
       "      <td>1</td>\n",
       "      <td>product easy set use new puppy border collie fullgrown around crate would still lot room purchased thru amazon convienience delivery person carried right door total cost cheaper local pet store yep love amazon</td>\n",
       "      <td>5.363636</td>\n",
       "      <td>209</td>\n",
       "      <td>33</td>\n",
       "      <td>32</td>\n",
       "      <td>177</td>\n",
       "    </tr>\n",
       "    <tr>\n",
       "      <th>2</th>\n",
       "      <td>my dog has nerves and wants to itch and chew......the cone keeps him from a frenzy somewhat! If not for the cone he would go to town on his entire body drawing blood....however he is a contortionist and can maneuver the cone. The picture shows a black band around the diameter of the large end of...</td>\n",
       "      <td>1</td>\n",
       "      <td>dog nerve want itch chew cone keep frenzy somewhat cone would go town entire body drawing blood however contortionist maneuver cone picture show black band around diameter large end cone case cone received purchased cone exposed plastic sharp run leg hurt little also scratch like back scratcher ...</td>\n",
       "      <td>5.357143</td>\n",
       "      <td>444</td>\n",
       "      <td>70</td>\n",
       "      <td>69</td>\n",
       "      <td>375</td>\n",
       "    </tr>\n",
       "    <tr>\n",
       "      <th>3</th>\n",
       "      <td>the breeded gave us a can of Nupro when we took our scottie home...having fed it to him now for 4 months we are very pleased with the results...those who want a great coat on their animal would appreciate this supplement...would definitely recommend..</td>\n",
       "      <td>1</td>\n",
       "      <td>breeded gave u nupro took scottie home fed month pleased result want great coat animal would appreciate supplement would definitely recommend</td>\n",
       "      <td>5.761905</td>\n",
       "      <td>141</td>\n",
       "      <td>21</td>\n",
       "      <td>20</td>\n",
       "      <td>121</td>\n",
       "    </tr>\n",
       "    <tr>\n",
       "      <th>4</th>\n",
       "      <td>Very study, well made poop bag. Easy to open and holds the poop with no leaking, but I only gave it four stars because it does not keep the smell inside the bag. That is the only downside, but I will keep buying them, as they are convenient and affordable.</td>\n",
       "      <td>1</td>\n",
       "      <td>study well made poop bag easy open hold poop leaking gave four star keep smell inside bag downside keep buying convenient affordable</td>\n",
       "      <td>5.045455</td>\n",
       "      <td>132</td>\n",
       "      <td>22</td>\n",
       "      <td>21</td>\n",
       "      <td>111</td>\n",
       "    </tr>\n",
       "  </tbody>\n",
       "</table>\n",
       "</div>"
      ],
      "text/plain": [
       "                                                                                                                                                                                                                                                                                                          text  \\\n",
       "0                                                                                                              We started giving this to my 5 year old Labrador retriever (female) she has arthritis problems along with weakness in her back legs and it seems to help a little bit, would not hurt to try it   \n",
       "1  This product is easy to set up and use. I have a new puppy Border Collie who will be fullgrown around 50#. The crate would still have lots of room for her. I purchased this thru Amazon which is very convienience because the delivery person carried it right to my door. Total cost was cheaper than...   \n",
       "2  my dog has nerves and wants to itch and chew......the cone keeps him from a frenzy somewhat! If not for the cone he would go to town on his entire body drawing blood....however he is a contortionist and can maneuver the cone. The picture shows a black band around the diameter of the large end of...   \n",
       "3                                                  the breeded gave us a can of Nupro when we took our scottie home...having fed it to him now for 4 months we are very pleased with the results...those who want a great coat on their animal would appreciate this supplement...would definitely recommend..   \n",
       "4                                             Very study, well made poop bag. Easy to open and holds the poop with no leaking, but I only gave it four stars because it does not keep the smell inside the bag. That is the only downside, but I will keep buying them, as they are convenient and affordable.   \n",
       "\n",
       "   label  \\\n",
       "0      1   \n",
       "1      1   \n",
       "2      1   \n",
       "3      1   \n",
       "4      1   \n",
       "\n",
       "                                                                                                                                                                                                                                                                                                cleaned_tweets  \\\n",
       "0                                                                                                                                                                                    started giving year old labrador retriever arthritis problem along weakness back leg seems help little bit would hurt try   \n",
       "1                                                                                            product easy set use new puppy border collie fullgrown around crate would still lot room purchased thru amazon convienience delivery person carried right door total cost cheaper local pet store yep love amazon   \n",
       "2  dog nerve want itch chew cone keep frenzy somewhat cone would go town entire body drawing blood however contortionist maneuver cone picture show black band around diameter large end cone case cone received purchased cone exposed plastic sharp run leg hurt little also scratch like back scratcher ...   \n",
       "3                                                                                                                                                                breeded gave u nupro took scottie home fed month pleased result want great coat animal would appreciate supplement would definitely recommend   \n",
       "4                                                                                                                                                                         study well made poop bag easy open hold poop leaking gave four star keep smell inside bag downside keep buying convenient affordable   \n",
       "\n",
       "    avg_len  total_count  word_count  space_count  char_count  \n",
       "0  5.421053          121          19           18         103  \n",
       "1  5.363636          209          33           32         177  \n",
       "2  5.357143          444          70           69         375  \n",
       "3  5.761905          141          21           20         121  \n",
       "4  5.045455          132          22           21         111  "
      ]
     },
     "execution_count": 34,
     "metadata": {},
     "output_type": "execute_result"
    }
   ],
   "source": [
    "#Perform different Count Features and add into the Dataframe\n",
    "\n",
    "tweets_stp['avg_len']    = func_avg_length(tweets_stp['cleaned_tweets'])\n",
    "tweets_stp['total_count']=[len(line) for line in tweets_stp['cleaned_tweets']]\n",
    "tweets_stp['word_count'] =[len(line.split()) for line in tweets_stp['cleaned_tweets']]\n",
    "tweets_stp['space_count']=[line.count(' ') for line in tweets_stp['cleaned_tweets']]\n",
    "tweets_stp['char_count'] =tweets_stp['total_count']-tweets_stp['space_count']\n",
    "tweets_stp.head()"
   ]
  },
  {
   "cell_type": "markdown",
   "id": "0177023a",
   "metadata": {},
   "source": [
    "### 3.5 Build 'CountVectorizer' - BOW<a id='3.5'></a>\n",
    "\n",
    "Bag of Words (BOW) Features: Frequency of every word in vocabulary is used to build the feature space."
   ]
  },
  {
   "cell_type": "code",
   "execution_count": 35,
   "id": "c92c0f08",
   "metadata": {},
   "outputs": [
    {
     "data": {
      "text/plain": [
       "(15499, 18926)"
      ]
     },
     "execution_count": 35,
     "metadata": {},
     "output_type": "execute_result"
    }
   ],
   "source": [
    "vectorizer_stp = CountVectorizer()\n",
    "features_stp= vectorizer_stp.fit_transform(tweets_stp['cleaned_tweets'])\n",
    "features_stp.shape"
   ]
  },
  {
   "cell_type": "markdown",
   "id": "f5a703d4",
   "metadata": {},
   "source": [
    "**Every word in the vocabulary is a feature**"
   ]
  },
  {
   "cell_type": "code",
   "execution_count": 36,
   "id": "923ee857",
   "metadata": {},
   "outputs": [
    {
     "data": {
      "text/plain": [
       "array(['aa', 'aaa', 'aaaand', ..., 'zukes', 'zymox', 'zyrtec'],\n",
       "      dtype=object)"
      ]
     },
     "execution_count": 36,
     "metadata": {},
     "output_type": "execute_result"
    }
   ],
   "source": [
    "vectorizer_stp.get_feature_names_out()"
   ]
  },
  {
   "cell_type": "code",
   "execution_count": 37,
   "id": "d462eb48",
   "metadata": {},
   "outputs": [
    {
     "data": {
      "text/plain": [
       "1    9333\n",
       "0    6166\n",
       "Name: label, dtype: int64"
      ]
     },
     "execution_count": 37,
     "metadata": {},
     "output_type": "execute_result"
    }
   ],
   "source": [
    "tweets_stp['label'].value_counts()"
   ]
  },
  {
   "cell_type": "markdown",
   "id": "038fe560",
   "metadata": {},
   "source": [
    "**Split the dataset into training and validation set**"
   ]
  },
  {
   "cell_type": "code",
   "execution_count": 38,
   "id": "4df13407",
   "metadata": {},
   "outputs": [],
   "source": [
    "xtrain_sbow, xvalid_sbow, ytrain_sbow, yvalid_sbow = train_test_split(features_stp,tweets_stp['label'],test_size=0.3,random_state=42)"
   ]
  },
  {
   "cell_type": "code",
   "execution_count": 39,
   "id": "4c16ea13",
   "metadata": {},
   "outputs": [
    {
     "data": {
      "text/plain": [
       "((10849, 18926), (4650, 18926), (10849,), (4650,))"
      ]
     },
     "execution_count": 39,
     "metadata": {},
     "output_type": "execute_result"
    }
   ],
   "source": [
    "xtrain_sbow.shape, xvalid_sbow.shape, ytrain_sbow.shape, yvalid_sbow.shape"
   ]
  },
  {
   "cell_type": "markdown",
   "id": "5dfb0aa4",
   "metadata": {},
   "source": [
    "### 3.6 Implement Multinomial Naive Bayes<a id='3.6'></a>"
   ]
  },
  {
   "cell_type": "code",
   "execution_count": 40,
   "id": "cbc43a67",
   "metadata": {},
   "outputs": [
    {
     "name": "stdout",
     "output_type": "stream",
     "text": [
      "F1-Score (Train):  0.9036460282997679\n",
      "F1-Score (Valid):  0.8643410852713178\n",
      "ROW-AUC-Score (Train):  0.9439190989522829\n",
      "ROW-AUC-Score (Valid):  0.9044773561929331\n"
     ]
    }
   ],
   "source": [
    "#instantiate model\n",
    "naive_bayes_sbow = MultinomialNB()\n",
    "\n",
    "\n",
    "#training model\n",
    "naive_bayes_sbow.fit(xtrain_sbow, ytrain_sbow)          \n",
    "\n",
    "#predicting on traiin and validation set\n",
    "prediction_sbow_train  = naive_bayes_sbow.predict(xtrain_sbow)\n",
    "prediction_sbow_valid  = naive_bayes_sbow.predict(xvalid_sbow)\n",
    "preds_proba_sbow_train = naive_bayes_sbow.predict_proba(xtrain_sbow)[:,1]\n",
    "preds_proba_sbow_valid = naive_bayes_sbow.predict_proba(xvalid_sbow)[:,1]\n",
    "\n",
    "# Calculate confusion matrix\n",
    "cm_sbow_train = confusion_matrix(ytrain_sbow, prediction_sbow_train)\n",
    "cm_sbow_valid = confusion_matrix(yvalid_sbow, prediction_sbow_valid)\n",
    "\n",
    "#Calculate ROC curve and AUC\n",
    "fpr_sbow_train, tpr_sbow_train, thresholds_sbow_train = roc_curve(ytrain_sbow, preds_proba_sbow_train)\n",
    "fpr_sbow_valid, tpr_sbow_valid, thresholds_sbow_valid = roc_curve(yvalid_sbow, preds_proba_sbow_valid)\n",
    "\n",
    "roc_auc_sbow_train = auc(fpr_sbow_train, tpr_sbow_train)\n",
    "roc_auc_sbow_valid = auc(fpr_sbow_valid, tpr_sbow_valid)\n",
    "\n",
    "# #calculating f1-score score\n",
    "f1_score_sbow_train=f1_score(ytrain_sbow, prediction_sbow_train) \n",
    "f1_score_sbow_valid=f1_score(yvalid_sbow, prediction_sbow_valid)        \n",
    "\n",
    "# #calculating roc_auc score\n",
    "roc_score_sbow_train=roc_auc_score(ytrain_sbow, preds_proba_sbow_train)\n",
    "roc_score_sbow_valid=roc_auc_score(yvalid_sbow, preds_proba_sbow_valid)\n",
    "\n",
    "#Append to the list\n",
    "models.append('MultinomialNB-SBOW')\n",
    "f1_score_trains.append(f1_score_sbow_train);roc_auc_score_trains.append(roc_auc_sbow_train);\n",
    "model_feature_rows_trains.append(xtrain_sbow.shape[0]);model_feature_cols_trains.append(xtrain_sbow.shape[1]);\n",
    "\n",
    "f1_score_valids.append(f1_score_sbow_valid);roc_auc_score_valids.append(roc_auc_sbow_valid);\n",
    "model_feature_rows_valids.append(xvalid_sbow.shape[0]);model_feature_cols_valids.append(xvalid_sbow.shape[1]);\n",
    "\n",
    "print('F1-Score (Train): ',     f1_score_sbow_train)\n",
    "print('F1-Score (Valid): ',     f1_score_sbow_valid)\n",
    "print('ROW-AUC-Score (Train): ',roc_score_sbow_train)\n",
    "print('ROW-AUC-Score (Valid): ',roc_score_sbow_valid)"
   ]
  },
  {
   "cell_type": "markdown",
   "id": "e43f0dfd",
   "metadata": {},
   "source": [
    "## 4. Model Building: Using Stop Words, Lemmatize, TF_IDF<a id='4'></a>"
   ]
  },
  {
   "cell_type": "markdown",
   "id": "1a6eb7ed",
   "metadata": {},
   "source": [
    "### 4.1 Read Dataset and Create Dataframe<a id='4.1'></a>"
   ]
  },
  {
   "cell_type": "code",
   "execution_count": 41,
   "id": "a8c8d8f3",
   "metadata": {},
   "outputs": [
    {
     "data": {
      "text/html": [
       "<div>\n",
       "<style scoped>\n",
       "    .dataframe tbody tr th:only-of-type {\n",
       "        vertical-align: middle;\n",
       "    }\n",
       "\n",
       "    .dataframe tbody tr th {\n",
       "        vertical-align: top;\n",
       "    }\n",
       "\n",
       "    .dataframe thead th {\n",
       "        text-align: right;\n",
       "    }\n",
       "</style>\n",
       "<table border=\"1\" class=\"dataframe\">\n",
       "  <thead>\n",
       "    <tr style=\"text-align: right;\">\n",
       "      <th></th>\n",
       "      <th>id</th>\n",
       "      <th>text</th>\n",
       "      <th>label</th>\n",
       "    </tr>\n",
       "  </thead>\n",
       "  <tbody>\n",
       "    <tr>\n",
       "      <th>0</th>\n",
       "      <td>0</td>\n",
       "      <td>We started giving this to my 5 year old Labrador retriever (female) she has arthritis problems along with weakness in her back legs and it seems to help a little bit, would not hurt to try it</td>\n",
       "      <td>dogs</td>\n",
       "    </tr>\n",
       "    <tr>\n",
       "      <th>1</th>\n",
       "      <td>1</td>\n",
       "      <td>This product is easy to set up and use. I have a new puppy Border Collie who will be fullgrown around 50#. The crate would still have lots of room for her. I purchased this thru Amazon which is very convienience because the delivery person carried it right to my door. Total cost was cheaper than...</td>\n",
       "      <td>dogs</td>\n",
       "    </tr>\n",
       "    <tr>\n",
       "      <th>2</th>\n",
       "      <td>2</td>\n",
       "      <td>my dog has nerves and wants to itch and chew......the cone keeps him from a frenzy somewhat! If not for the cone he would go to town on his entire body drawing blood....however he is a contortionist and can maneuver the cone. The picture shows a black band around the diameter of the large end of...</td>\n",
       "      <td>dogs</td>\n",
       "    </tr>\n",
       "    <tr>\n",
       "      <th>3</th>\n",
       "      <td>3</td>\n",
       "      <td>the breeded gave us a can of Nupro when we took our scottie home...having fed it to him now for 4 months we are very pleased with the results...those who want a great coat on their animal would appreciate this supplement...would definitely recommend..</td>\n",
       "      <td>dogs</td>\n",
       "    </tr>\n",
       "    <tr>\n",
       "      <th>4</th>\n",
       "      <td>4</td>\n",
       "      <td>Very study, well made poop bag. Easy to open and holds the poop with no leaking, but I only gave it four stars because it does not keep the smell inside the bag. That is the only downside, but I will keep buying them, as they are convenient and affordable.</td>\n",
       "      <td>dogs</td>\n",
       "    </tr>\n",
       "  </tbody>\n",
       "</table>\n",
       "</div>"
      ],
      "text/plain": [
       "   id  \\\n",
       "0   0   \n",
       "1   1   \n",
       "2   2   \n",
       "3   3   \n",
       "4   4   \n",
       "\n",
       "                                                                                                                                                                                                                                                                                                          text  \\\n",
       "0                                                                                                              We started giving this to my 5 year old Labrador retriever (female) she has arthritis problems along with weakness in her back legs and it seems to help a little bit, would not hurt to try it   \n",
       "1  This product is easy to set up and use. I have a new puppy Border Collie who will be fullgrown around 50#. The crate would still have lots of room for her. I purchased this thru Amazon which is very convienience because the delivery person carried it right to my door. Total cost was cheaper than...   \n",
       "2  my dog has nerves and wants to itch and chew......the cone keeps him from a frenzy somewhat! If not for the cone he would go to town on his entire body drawing blood....however he is a contortionist and can maneuver the cone. The picture shows a black band around the diameter of the large end of...   \n",
       "3                                                  the breeded gave us a can of Nupro when we took our scottie home...having fed it to him now for 4 months we are very pleased with the results...those who want a great coat on their animal would appreciate this supplement...would definitely recommend..   \n",
       "4                                             Very study, well made poop bag. Easy to open and holds the poop with no leaking, but I only gave it four stars because it does not keep the smell inside the bag. That is the only downside, but I will keep buying them, as they are convenient and affordable.   \n",
       "\n",
       "  label  \n",
       "0  dogs  \n",
       "1  dogs  \n",
       "2  dogs  \n",
       "3  dogs  \n",
       "4  dogs  "
      ]
     },
     "execution_count": 41,
     "metadata": {},
     "output_type": "execute_result"
    }
   ],
   "source": [
    "tweets_tfidf = pd.read_csv(\"lNlhedMcSH63Idvr6lzE_valid.csv\")\n",
    "tweets_tfidf.head()"
   ]
  },
  {
   "cell_type": "markdown",
   "id": "7d3d4984",
   "metadata": {},
   "source": [
    "### 4.2 Check the Dataframe Size and Shape and Encode the Class 'Label'<a id='4.2'></a>"
   ]
  },
  {
   "cell_type": "code",
   "execution_count": 42,
   "id": "217dbbba",
   "metadata": {},
   "outputs": [],
   "source": [
    "tweets_tfidf = tweets_tfidf.drop(['id'],axis=1)"
   ]
  },
  {
   "cell_type": "code",
   "execution_count": 43,
   "id": "7f34a446",
   "metadata": {},
   "outputs": [
    {
     "data": {
      "text/plain": [
       "(15499, 2)"
      ]
     },
     "execution_count": 43,
     "metadata": {},
     "output_type": "execute_result"
    }
   ],
   "source": [
    "tweets_tfidf.shape"
   ]
  },
  {
   "cell_type": "code",
   "execution_count": 44,
   "id": "62590a88",
   "metadata": {},
   "outputs": [],
   "source": [
    "# Create a LabelEncoder object\n",
    "le = LabelEncoder()\n",
    "\n",
    "# Fit the encoder to the data\n",
    "tweets_tfidf['label'] = le.fit_transform(tweets_tfidf['label'])"
   ]
  },
  {
   "cell_type": "code",
   "execution_count": 45,
   "id": "1795257c",
   "metadata": {},
   "outputs": [
    {
     "data": {
      "text/plain": [
       "1    9333\n",
       "0    6166\n",
       "Name: label, dtype: int64"
      ]
     },
     "execution_count": 45,
     "metadata": {},
     "output_type": "execute_result"
    }
   ],
   "source": [
    "tweets_tfidf['label'].value_counts()"
   ]
  },
  {
   "cell_type": "markdown",
   "id": "871a6abb",
   "metadata": {},
   "source": [
    "### 4.3. Preprocess Tweet text<a id='4.3'></a>\n",
    "\n",
    "Stop words usually refers to the most commonly used words in a language (such as “the”, “a”, “an”, “in”) \n",
    "\n",
    "This step is a one of the important steps to come up with more robust input"
   ]
  },
  {
   "cell_type": "code",
   "execution_count": 46,
   "id": "1e401440",
   "metadata": {},
   "outputs": [
    {
     "name": "stderr",
     "output_type": "stream",
     "text": [
      "[nltk_data] Downloading package stopwords to\n",
      "[nltk_data]     C:\\Users\\archi\\AppData\\Roaming\\nltk_data...\n",
      "[nltk_data]   Package stopwords is already up-to-date!\n"
     ]
    }
   ],
   "source": [
    "nltk.download('stopwords')\n",
    "stop_words = set(stopwords.words('english')) "
   ]
  },
  {
   "cell_type": "code",
   "execution_count": 47,
   "id": "92266ce1",
   "metadata": {},
   "outputs": [
    {
     "data": {
      "text/plain": [
       "\"made in usa - seems well made, but i have been playing easy with my two cats.i highly recommend using caution when playing with your cats!!! if a child is using this toy with the cats, then supervise their usage too! your cat could get hurt!i gave 4 star because of the design, which is a metal fishing hook style to connect the attachment - i hope to upload a picture. it is a great design, in term of easily switching attachments, but the loop hole make it too easy for your cats' teeth and nail to get caught when your cat is biting or swatting at the toy. i may put tape over the loop hole for protection. the attachment themselves seem to be a little weighted and it is very easy to swing the attachment and whack the cat in the head or teeth.both of my cat play with the attachments, but each cat prefers a different attachment. one cat love the sparkler attachment and the other cat love the blue fluffed feather attachment. neither cat care for the standard feather attachment. the blue fluffed feather will not last long at all.the peacock feather is just that, one single long peacock feather. my cat do play with this, but i put it away when i'm done because it will not last long if one of the cat get a hold of it while i'm gone!i'm not sure if i will buy replacement attachment because they are a little expensive. i may make my own attachment or just retire the wand when all the piece are destroyed. the wand is very thin and i don't know how rough the play can be before it breaks, so i will play with this carefully to extend it life and to protect my cats.as with any toy, use caution and supervise! \""
      ]
     },
     "execution_count": 47,
     "metadata": {},
     "output_type": "execute_result"
    }
   ],
   "source": [
    "lemmatizer = WordNetLemmatizer() \n",
    "new_sentence=''\n",
    "for i in tweets_tfidf['text'][12].split():\n",
    "  new_sentence=new_sentence+lemmatizer.lemmatize(i.lower())+' '\n",
    "new_sentence"
   ]
  },
  {
   "cell_type": "code",
   "execution_count": 48,
   "id": "08f56b4a",
   "metadata": {},
   "outputs": [],
   "source": [
    "def func_contract_words_stp(text):\n",
    "    \n",
    "    # creating an empty list\n",
    "    expanded_words = []    \n",
    "    for word in text.split():\n",
    "      # using contractions.fix to expand the shortened words\n",
    "      expanded_words.append(contractions.fix(word))\n",
    "        \n",
    "    expanded_text = ' '.join(expanded_words)\n",
    "    \n",
    "    return expanded_text"
   ]
  },
  {
   "cell_type": "code",
   "execution_count": 49,
   "id": "470c3ecc",
   "metadata": {},
   "outputs": [],
   "source": [
    "\n",
    "def func_tweet_cleaner_lema(cleanString):\n",
    "    #contraction mapping\n",
    "    cleanString=func_contract_words_stp(cleanString)              \n",
    "    #Removing text in brackets\n",
    "    cleanString=re.sub(r\"(\\(.*\\))|(\\[.*\\])\", \"\",cleanString)      \n",
    "    #Removing user mentions\n",
    "    cleanString=re.sub(r'@[A-Za-z0-9]+','',cleanString)           \n",
    "    #Removing hashtag symbobol\n",
    "    cleanString=re.sub(r\"#\\S+\",\"\",cleanString)                    \n",
    "    #Removing links\n",
    "    cleanString= re.sub(r'(http[s]?\\://\\S+)|([\\[\\(].*[\\)\\]])|([#@]\\S+)|\\n', '', cleanString)              \n",
    "    #Removing 2016, 21 15\n",
    "    cleanString=re.sub(r\"[0-9]\", \"\",cleanString)                  \n",
    "    #Removing \\n\n",
    "    cleanString=re.sub(r\"\\n\", \"\",cleanString)                     \n",
    "    \n",
    "    #Fetching out only letters\n",
    "    letters_only = re.sub(\"[^a-zA-Z]\", \" \", cleanString)           \n",
    "    #Converting everything to lowercase\n",
    "    lower_case = letters_only.lower()                              \n",
    "    #stopwords removal\n",
    "    tokens = [w for w in lower_case.split() if not w in stop_words]\n",
    "    newString=''\n",
    "    for i in tokens:                                                 \n",
    "        #converting words to lemma\n",
    "        newString=newString+lemmatizer.lemmatize(i)+' '                                           \n",
    "    return newString.strip()  "
   ]
  },
  {
   "cell_type": "code",
   "execution_count": 50,
   "id": "94a92422",
   "metadata": {},
   "outputs": [
    {
     "name": "stdout",
     "output_type": "stream",
     "text": [
      "['started giving year old labrador retriever arthritis problem along weakness back leg seems help little bit would hurt try', 'product easy set use new puppy border collie fullgrown around crate would still lot room purchased thru amazon convienience delivery person carried right door total cost cheaper local pet store yep love amazon', 'dog nerve want itch chew cone keep frenzy somewhat cone would go town entire body drawing blood however contortionist maneuver cone picture show black band around diameter large end cone case cone received purchased cone exposed plastic sharp run leg hurt little also scratch like back scratcher imagine good must feel almost hate get serve purpose without like said would frenzy nerve would chew self bloody disapointment pictured item shipped', 'breeded gave u nupro took scottie home fed month pleased result want great coat animal would appreciate supplement would definitely recommend', 'study well made poop bag easy open hold poop leaking gave four star keep smell inside bag downside keep buying convenient affordable']\n"
     ]
    }
   ],
   "source": [
    "cleaned_tweets = []\n",
    "for i in tweets_tfidf['text']:\n",
    "    cleaned_tweets.append(func_tweet_cleaner_lema(i))\n",
    "print(cleaned_tweets[:5])   #print top 5 records"
   ]
  },
  {
   "cell_type": "code",
   "execution_count": 51,
   "id": "5a269d0d",
   "metadata": {},
   "outputs": [
    {
     "data": {
      "text/html": [
       "<div>\n",
       "<style scoped>\n",
       "    .dataframe tbody tr th:only-of-type {\n",
       "        vertical-align: middle;\n",
       "    }\n",
       "\n",
       "    .dataframe tbody tr th {\n",
       "        vertical-align: top;\n",
       "    }\n",
       "\n",
       "    .dataframe thead th {\n",
       "        text-align: right;\n",
       "    }\n",
       "</style>\n",
       "<table border=\"1\" class=\"dataframe\">\n",
       "  <thead>\n",
       "    <tr style=\"text-align: right;\">\n",
       "      <th></th>\n",
       "      <th>text</th>\n",
       "      <th>label</th>\n",
       "      <th>cleaned_tweets</th>\n",
       "    </tr>\n",
       "  </thead>\n",
       "  <tbody>\n",
       "    <tr>\n",
       "      <th>0</th>\n",
       "      <td>We started giving this to my 5 year old Labrador retriever (female) she has arthritis problems along with weakness in her back legs and it seems to help a little bit, would not hurt to try it</td>\n",
       "      <td>1</td>\n",
       "      <td>started giving year old labrador retriever arthritis problem along weakness back leg seems help little bit would hurt try</td>\n",
       "    </tr>\n",
       "    <tr>\n",
       "      <th>1</th>\n",
       "      <td>This product is easy to set up and use. I have a new puppy Border Collie who will be fullgrown around 50#. The crate would still have lots of room for her. I purchased this thru Amazon which is very convienience because the delivery person carried it right to my door. Total cost was cheaper than...</td>\n",
       "      <td>1</td>\n",
       "      <td>product easy set use new puppy border collie fullgrown around crate would still lot room purchased thru amazon convienience delivery person carried right door total cost cheaper local pet store yep love amazon</td>\n",
       "    </tr>\n",
       "    <tr>\n",
       "      <th>2</th>\n",
       "      <td>my dog has nerves and wants to itch and chew......the cone keeps him from a frenzy somewhat! If not for the cone he would go to town on his entire body drawing blood....however he is a contortionist and can maneuver the cone. The picture shows a black band around the diameter of the large end of...</td>\n",
       "      <td>1</td>\n",
       "      <td>dog nerve want itch chew cone keep frenzy somewhat cone would go town entire body drawing blood however contortionist maneuver cone picture show black band around diameter large end cone case cone received purchased cone exposed plastic sharp run leg hurt little also scratch like back scratcher ...</td>\n",
       "    </tr>\n",
       "    <tr>\n",
       "      <th>3</th>\n",
       "      <td>the breeded gave us a can of Nupro when we took our scottie home...having fed it to him now for 4 months we are very pleased with the results...those who want a great coat on their animal would appreciate this supplement...would definitely recommend..</td>\n",
       "      <td>1</td>\n",
       "      <td>breeded gave u nupro took scottie home fed month pleased result want great coat animal would appreciate supplement would definitely recommend</td>\n",
       "    </tr>\n",
       "    <tr>\n",
       "      <th>4</th>\n",
       "      <td>Very study, well made poop bag. Easy to open and holds the poop with no leaking, but I only gave it four stars because it does not keep the smell inside the bag. That is the only downside, but I will keep buying them, as they are convenient and affordable.</td>\n",
       "      <td>1</td>\n",
       "      <td>study well made poop bag easy open hold poop leaking gave four star keep smell inside bag downside keep buying convenient affordable</td>\n",
       "    </tr>\n",
       "  </tbody>\n",
       "</table>\n",
       "</div>"
      ],
      "text/plain": [
       "                                                                                                                                                                                                                                                                                                          text  \\\n",
       "0                                                                                                              We started giving this to my 5 year old Labrador retriever (female) she has arthritis problems along with weakness in her back legs and it seems to help a little bit, would not hurt to try it   \n",
       "1  This product is easy to set up and use. I have a new puppy Border Collie who will be fullgrown around 50#. The crate would still have lots of room for her. I purchased this thru Amazon which is very convienience because the delivery person carried it right to my door. Total cost was cheaper than...   \n",
       "2  my dog has nerves and wants to itch and chew......the cone keeps him from a frenzy somewhat! If not for the cone he would go to town on his entire body drawing blood....however he is a contortionist and can maneuver the cone. The picture shows a black band around the diameter of the large end of...   \n",
       "3                                                  the breeded gave us a can of Nupro when we took our scottie home...having fed it to him now for 4 months we are very pleased with the results...those who want a great coat on their animal would appreciate this supplement...would definitely recommend..   \n",
       "4                                             Very study, well made poop bag. Easy to open and holds the poop with no leaking, but I only gave it four stars because it does not keep the smell inside the bag. That is the only downside, but I will keep buying them, as they are convenient and affordable.   \n",
       "\n",
       "   label  \\\n",
       "0      1   \n",
       "1      1   \n",
       "2      1   \n",
       "3      1   \n",
       "4      1   \n",
       "\n",
       "                                                                                                                                                                                                                                                                                                cleaned_tweets  \n",
       "0                                                                                                                                                                                    started giving year old labrador retriever arthritis problem along weakness back leg seems help little bit would hurt try  \n",
       "1                                                                                            product easy set use new puppy border collie fullgrown around crate would still lot room purchased thru amazon convienience delivery person carried right door total cost cheaper local pet store yep love amazon  \n",
       "2  dog nerve want itch chew cone keep frenzy somewhat cone would go town entire body drawing blood however contortionist maneuver cone picture show black band around diameter large end cone case cone received purchased cone exposed plastic sharp run leg hurt little also scratch like back scratcher ...  \n",
       "3                                                                                                                                                                breeded gave u nupro took scottie home fed month pleased result want great coat animal would appreciate supplement would definitely recommend  \n",
       "4                                                                                                                                                                         study well made poop bag easy open hold poop leaking gave four star keep smell inside bag downside keep buying convenient affordable  "
      ]
     },
     "execution_count": 51,
     "metadata": {},
     "output_type": "execute_result"
    }
   ],
   "source": [
    "tweets_tfidf['cleaned_tweets']= cleaned_tweets  #creating new column\n",
    "tweets_tfidf.head()"
   ]
  },
  {
   "cell_type": "markdown",
   "id": "7dc8f156",
   "metadata": {},
   "source": [
    "**Data Visualization**\n",
    "\n",
    "Let us visualize the same plot after preprocessing"
   ]
  },
  {
   "cell_type": "code",
   "execution_count": 52,
   "id": "d9785540",
   "metadata": {},
   "outputs": [
    {
     "data": {
      "image/png": "[encoded data removed]",
      "text/plain": [
       "<Figure size 1200x500 with 1 Axes>"
      ]
     },
     "metadata": {},
     "output_type": "display_data"
    }
   ],
   "source": [
    "all_words = []\n",
    "for line in list(tweets_tfidf['cleaned_tweets']):\n",
    "    words = line.split()\n",
    "    for word in words:\n",
    "        all_words.append(word)\n",
    "        \n",
    "plt.figure(figsize=(12,5))\n",
    "plt.title('Top 25 most common words')\n",
    "plt.xticks(fontsize=13, rotation=90)\n",
    "fd = nltk.FreqDist(all_words)\n",
    "fd.plot(25,cumulative=False);  "
   ]
  },
  {
   "cell_type": "markdown",
   "id": "045e0e4e",
   "metadata": {},
   "source": [
    "### 4.4 Perform Count Features<a id='4.4'></a>"
   ]
  },
  {
   "cell_type": "code",
   "execution_count": 53,
   "id": "8538f49f",
   "metadata": {},
   "outputs": [],
   "source": [
    "def func_avg_length(tweet):\n",
    "    tweet_avg_len = []\n",
    "    for row in tweet:\n",
    "        row_len=[]\n",
    "        for term in row.split():\n",
    "            row_len.append(len(term))\n",
    "        \n",
    "        if len(row_len) > 0:\n",
    "            row_avg_len = sum(row_len) / len(row_len)\n",
    "        else:\n",
    "            row_avg_len = sum(row_len)\n",
    "            \n",
    "        tweet_avg_len.append(row_avg_len)\n",
    "    \n",
    "    return tweet_avg_len"
   ]
  },
  {
   "cell_type": "code",
   "execution_count": 54,
   "id": "d8908fb9",
   "metadata": {},
   "outputs": [
    {
     "data": {
      "text/html": [
       "<div>\n",
       "<style scoped>\n",
       "    .dataframe tbody tr th:only-of-type {\n",
       "        vertical-align: middle;\n",
       "    }\n",
       "\n",
       "    .dataframe tbody tr th {\n",
       "        vertical-align: top;\n",
       "    }\n",
       "\n",
       "    .dataframe thead th {\n",
       "        text-align: right;\n",
       "    }\n",
       "</style>\n",
       "<table border=\"1\" class=\"dataframe\">\n",
       "  <thead>\n",
       "    <tr style=\"text-align: right;\">\n",
       "      <th></th>\n",
       "      <th>text</th>\n",
       "      <th>label</th>\n",
       "      <th>cleaned_tweets</th>\n",
       "      <th>avg_len</th>\n",
       "      <th>total_count</th>\n",
       "      <th>word_count</th>\n",
       "      <th>space_count</th>\n",
       "      <th>char_count</th>\n",
       "    </tr>\n",
       "  </thead>\n",
       "  <tbody>\n",
       "    <tr>\n",
       "      <th>0</th>\n",
       "      <td>We started giving this to my 5 year old Labrador retriever (female) she has arthritis problems along with weakness in her back legs and it seems to help a little bit, would not hurt to try it</td>\n",
       "      <td>1</td>\n",
       "      <td>started giving year old labrador retriever arthritis problem along weakness back leg seems help little bit would hurt try</td>\n",
       "      <td>5.421053</td>\n",
       "      <td>121</td>\n",
       "      <td>19</td>\n",
       "      <td>18</td>\n",
       "      <td>103</td>\n",
       "    </tr>\n",
       "    <tr>\n",
       "      <th>1</th>\n",
       "      <td>This product is easy to set up and use. I have a new puppy Border Collie who will be fullgrown around 50#. The crate would still have lots of room for her. I purchased this thru Amazon which is very convienience because the delivery person carried it right to my door. Total cost was cheaper than...</td>\n",
       "      <td>1</td>\n",
       "      <td>product easy set use new puppy border collie fullgrown around crate would still lot room purchased thru amazon convienience delivery person carried right door total cost cheaper local pet store yep love amazon</td>\n",
       "      <td>5.363636</td>\n",
       "      <td>209</td>\n",
       "      <td>33</td>\n",
       "      <td>32</td>\n",
       "      <td>177</td>\n",
       "    </tr>\n",
       "    <tr>\n",
       "      <th>2</th>\n",
       "      <td>my dog has nerves and wants to itch and chew......the cone keeps him from a frenzy somewhat! If not for the cone he would go to town on his entire body drawing blood....however he is a contortionist and can maneuver the cone. The picture shows a black band around the diameter of the large end of...</td>\n",
       "      <td>1</td>\n",
       "      <td>dog nerve want itch chew cone keep frenzy somewhat cone would go town entire body drawing blood however contortionist maneuver cone picture show black band around diameter large end cone case cone received purchased cone exposed plastic sharp run leg hurt little also scratch like back scratcher ...</td>\n",
       "      <td>5.357143</td>\n",
       "      <td>444</td>\n",
       "      <td>70</td>\n",
       "      <td>69</td>\n",
       "      <td>375</td>\n",
       "    </tr>\n",
       "    <tr>\n",
       "      <th>3</th>\n",
       "      <td>the breeded gave us a can of Nupro when we took our scottie home...having fed it to him now for 4 months we are very pleased with the results...those who want a great coat on their animal would appreciate this supplement...would definitely recommend..</td>\n",
       "      <td>1</td>\n",
       "      <td>breeded gave u nupro took scottie home fed month pleased result want great coat animal would appreciate supplement would definitely recommend</td>\n",
       "      <td>5.761905</td>\n",
       "      <td>141</td>\n",
       "      <td>21</td>\n",
       "      <td>20</td>\n",
       "      <td>121</td>\n",
       "    </tr>\n",
       "    <tr>\n",
       "      <th>4</th>\n",
       "      <td>Very study, well made poop bag. Easy to open and holds the poop with no leaking, but I only gave it four stars because it does not keep the smell inside the bag. That is the only downside, but I will keep buying them, as they are convenient and affordable.</td>\n",
       "      <td>1</td>\n",
       "      <td>study well made poop bag easy open hold poop leaking gave four star keep smell inside bag downside keep buying convenient affordable</td>\n",
       "      <td>5.045455</td>\n",
       "      <td>132</td>\n",
       "      <td>22</td>\n",
       "      <td>21</td>\n",
       "      <td>111</td>\n",
       "    </tr>\n",
       "  </tbody>\n",
       "</table>\n",
       "</div>"
      ],
      "text/plain": [
       "                                                                                                                                                                                                                                                                                                          text  \\\n",
       "0                                                                                                              We started giving this to my 5 year old Labrador retriever (female) she has arthritis problems along with weakness in her back legs and it seems to help a little bit, would not hurt to try it   \n",
       "1  This product is easy to set up and use. I have a new puppy Border Collie who will be fullgrown around 50#. The crate would still have lots of room for her. I purchased this thru Amazon which is very convienience because the delivery person carried it right to my door. Total cost was cheaper than...   \n",
       "2  my dog has nerves and wants to itch and chew......the cone keeps him from a frenzy somewhat! If not for the cone he would go to town on his entire body drawing blood....however he is a contortionist and can maneuver the cone. The picture shows a black band around the diameter of the large end of...   \n",
       "3                                                  the breeded gave us a can of Nupro when we took our scottie home...having fed it to him now for 4 months we are very pleased with the results...those who want a great coat on their animal would appreciate this supplement...would definitely recommend..   \n",
       "4                                             Very study, well made poop bag. Easy to open and holds the poop with no leaking, but I only gave it four stars because it does not keep the smell inside the bag. That is the only downside, but I will keep buying them, as they are convenient and affordable.   \n",
       "\n",
       "   label  \\\n",
       "0      1   \n",
       "1      1   \n",
       "2      1   \n",
       "3      1   \n",
       "4      1   \n",
       "\n",
       "                                                                                                                                                                                                                                                                                                cleaned_tweets  \\\n",
       "0                                                                                                                                                                                    started giving year old labrador retriever arthritis problem along weakness back leg seems help little bit would hurt try   \n",
       "1                                                                                            product easy set use new puppy border collie fullgrown around crate would still lot room purchased thru amazon convienience delivery person carried right door total cost cheaper local pet store yep love amazon   \n",
       "2  dog nerve want itch chew cone keep frenzy somewhat cone would go town entire body drawing blood however contortionist maneuver cone picture show black band around diameter large end cone case cone received purchased cone exposed plastic sharp run leg hurt little also scratch like back scratcher ...   \n",
       "3                                                                                                                                                                breeded gave u nupro took scottie home fed month pleased result want great coat animal would appreciate supplement would definitely recommend   \n",
       "4                                                                                                                                                                         study well made poop bag easy open hold poop leaking gave four star keep smell inside bag downside keep buying convenient affordable   \n",
       "\n",
       "    avg_len  total_count  word_count  space_count  char_count  \n",
       "0  5.421053          121          19           18         103  \n",
       "1  5.363636          209          33           32         177  \n",
       "2  5.357143          444          70           69         375  \n",
       "3  5.761905          141          21           20         121  \n",
       "4  5.045455          132          22           21         111  "
      ]
     },
     "execution_count": 54,
     "metadata": {},
     "output_type": "execute_result"
    }
   ],
   "source": [
    "tweets_tfidf['avg_len']    = func_avg_length(tweets_tfidf['cleaned_tweets'])\n",
    "tweets_tfidf['total_count']=[len(line) for line in tweets_tfidf['cleaned_tweets']]\n",
    "tweets_tfidf['word_count'] =[len(line.split()) for line in tweets_tfidf['cleaned_tweets']]\n",
    "tweets_tfidf['space_count']=[line.count(' ') for line in tweets_tfidf['cleaned_tweets']]\n",
    "tweets_tfidf['char_count'] =tweets_tfidf['total_count']-tweets_tfidf['space_count']\n",
    "tweets_tfidf.head()"
   ]
  },
  {
   "cell_type": "markdown",
   "id": "a88ce62f",
   "metadata": {},
   "source": [
    "### 4.5 Build 'TfidfVectorizer'<a id='4.5'></a>\n",
    "\n",
    "TF-IDF features\n",
    "\n",
    "The main idea behinf tf-idf is to increase the importance of the words that occur in the subset of documents rather than the words occuring in all the documents\n",
    "\n",
    "TF-IDF score of every word in vocabulary is calculated and used to build the feature space"
   ]
  },
  {
   "cell_type": "code",
   "execution_count": 55,
   "id": "0dca5650",
   "metadata": {},
   "outputs": [
    {
     "data": {
      "text/plain": [
       "(15499, 18926)"
      ]
     },
     "execution_count": 55,
     "metadata": {},
     "output_type": "execute_result"
    }
   ],
   "source": [
    "vectorizer_tfidf = TfidfVectorizer() \n",
    "features_tfidf = vectorizer_tfidf.fit_transform(tweets_tfidf['cleaned_tweets'])\n",
    "features_tfidf.shape"
   ]
  },
  {
   "cell_type": "markdown",
   "id": "7089b008",
   "metadata": {},
   "source": [
    "Every word in the vocabulary is a feature"
   ]
  },
  {
   "cell_type": "code",
   "execution_count": 56,
   "id": "33fbb78a",
   "metadata": {},
   "outputs": [
    {
     "data": {
      "text/plain": [
       "array(['aa', 'aaa', 'aaaand', ..., 'zukes', 'zymox', 'zyrtec'],\n",
       "      dtype=object)"
      ]
     },
     "execution_count": 56,
     "metadata": {},
     "output_type": "execute_result"
    }
   ],
   "source": [
    "vectorizer_tfidf.get_feature_names_out()"
   ]
  },
  {
   "cell_type": "code",
   "execution_count": 57,
   "id": "970affda",
   "metadata": {},
   "outputs": [
    {
     "data": {
      "text/plain": [
       "1    9333\n",
       "0    6166\n",
       "Name: label, dtype: int64"
      ]
     },
     "execution_count": 57,
     "metadata": {},
     "output_type": "execute_result"
    }
   ],
   "source": [
    "tweets_tfidf['label'].value_counts()"
   ]
  },
  {
   "cell_type": "markdown",
   "id": "b2ddeafb",
   "metadata": {},
   "source": [
    "**Split the dataset into training and validation set**"
   ]
  },
  {
   "cell_type": "code",
   "execution_count": 58,
   "id": "682e18ab",
   "metadata": {},
   "outputs": [],
   "source": [
    "xtrain_tfidf, xvalid_tfidf, ytrain_tfidf, yvalid_tfidf = train_test_split(features_tfidf,tweets_tfidf['label'],test_size=0.3,random_state=42)"
   ]
  },
  {
   "cell_type": "code",
   "execution_count": 59,
   "id": "d0eafcbe",
   "metadata": {},
   "outputs": [
    {
     "data": {
      "text/plain": [
       "((10849, 18926), (10849,), (4650, 18926), (4650,))"
      ]
     },
     "execution_count": 59,
     "metadata": {},
     "output_type": "execute_result"
    }
   ],
   "source": [
    "xtrain_tfidf.shape, ytrain_tfidf.shape, xvalid_tfidf.shape, yvalid_tfidf.shape"
   ]
  },
  {
   "cell_type": "markdown",
   "id": "edc6a4bd",
   "metadata": {},
   "source": [
    "### 4.6 Implement Multinomial Naive Bayes<a id='4.6'></a>"
   ]
  },
  {
   "cell_type": "code",
   "execution_count": 60,
   "id": "ba39417a",
   "metadata": {},
   "outputs": [
    {
     "name": "stdout",
     "output_type": "stream",
     "text": [
      "F1-Score (Train):  0.8805591722058521\n",
      "F1-Score (Valid):  0.8472331704240895\n",
      "ROW-AUC-Score (Train):  0.947635346981431\n",
      "ROW-AUC-Score (Valid):  0.8988218193019863\n"
     ]
    }
   ],
   "source": [
    "#instantiate model\n",
    "naive_bayes_tfidf = MultinomialNB()\n",
    "\n",
    "#training model\n",
    "naive_bayes_tfidf.fit(xtrain_tfidf, ytrain_tfidf)          \n",
    "\n",
    "#predicting on traiin and validation set\n",
    "prediction_tfidf_train  = naive_bayes_tfidf.predict(xtrain_tfidf)\n",
    "prediction_tfidf_valid  = naive_bayes_tfidf.predict(xvalid_tfidf)\n",
    "preds_proba_tfidf_train = naive_bayes_tfidf.predict_proba(xtrain_tfidf)[:,1]\n",
    "preds_proba_tfidf_valid = naive_bayes_tfidf.predict_proba(xvalid_tfidf)[:,1]\n",
    "\n",
    "# Calculate confusion matrix\n",
    "cm_tfidf_train = confusion_matrix(ytrain_tfidf, prediction_tfidf_train)\n",
    "cm_tfidf_valid = confusion_matrix(yvalid_tfidf, prediction_tfidf_valid)\n",
    "\n",
    "#Calculate ROC curve and AUC\n",
    "fpr_tfidf_train, tpr_tfidf_train, thresholds_tfidf_train = roc_curve(ytrain_tfidf, preds_proba_tfidf_train)\n",
    "fpr_tfidf_valid, tpr_tfidf_valid, thresholds_tfidf_valid = roc_curve(yvalid_tfidf, preds_proba_tfidf_valid)\n",
    "\n",
    "roc_auc_tfidf_train = auc(fpr_tfidf_train, tpr_tfidf_train)\n",
    "roc_auc_tfidf_valid = auc(fpr_tfidf_valid, tpr_tfidf_valid)\n",
    "\n",
    "# #calculating f1-score score\n",
    "f1_score_tfidf_train=f1_score(ytrain_tfidf, prediction_tfidf_train) \n",
    "f1_score_tfidf_valid=f1_score(yvalid_tfidf, prediction_tfidf_valid)        \n",
    "\n",
    "# #calculating roc_auc score\n",
    "roc_score_tfidf_train=roc_auc_score(ytrain_tfidf, preds_proba_tfidf_train)\n",
    "roc_score_tfidf_valid=roc_auc_score(yvalid_tfidf, preds_proba_tfidf_valid)\n",
    "\n",
    "#Append to the list\n",
    "models.append('MultinomialNB-TFIDF')\n",
    "f1_score_trains.append(f1_score_tfidf_train);roc_auc_score_trains.append(roc_auc_tfidf_train);\n",
    "model_feature_rows_trains.append(xtrain_tfidf.shape[0]);model_feature_cols_trains.append(xtrain_tfidf.shape[1]);\n",
    "\n",
    "f1_score_valids.append(f1_score_tfidf_valid);roc_auc_score_valids.append(roc_auc_tfidf_valid);\n",
    "model_feature_rows_valids.append(xvalid_tfidf.shape[0]);model_feature_cols_valids.append(xvalid_tfidf.shape[1]);\n",
    "\n",
    "print('F1-Score (Train): ',     f1_score_tfidf_train)\n",
    "print('F1-Score (Valid): ',     f1_score_tfidf_valid)\n",
    "print('ROW-AUC-Score (Train): ',roc_score_tfidf_train)\n",
    "print('ROW-AUC-Score (Valid): ',roc_score_tfidf_valid)"
   ]
  },
  {
   "cell_type": "markdown",
   "id": "2578817a",
   "metadata": {},
   "source": [
    "## 5. Model Building: Using Wordembedding in Word2Vec<a id='5'></a>"
   ]
  },
  {
   "cell_type": "markdown",
   "id": "022d6ca4",
   "metadata": {},
   "source": [
    "### 5.1 Read Dataset and Create Dataframe<a id='5.1'></a>"
   ]
  },
  {
   "cell_type": "code",
   "execution_count": 61,
   "id": "a5922ebf",
   "metadata": {},
   "outputs": [
    {
     "data": {
      "text/html": [
       "<div>\n",
       "<style scoped>\n",
       "    .dataframe tbody tr th:only-of-type {\n",
       "        vertical-align: middle;\n",
       "    }\n",
       "\n",
       "    .dataframe tbody tr th {\n",
       "        vertical-align: top;\n",
       "    }\n",
       "\n",
       "    .dataframe thead th {\n",
       "        text-align: right;\n",
       "    }\n",
       "</style>\n",
       "<table border=\"1\" class=\"dataframe\">\n",
       "  <thead>\n",
       "    <tr style=\"text-align: right;\">\n",
       "      <th></th>\n",
       "      <th>id</th>\n",
       "      <th>text</th>\n",
       "      <th>label</th>\n",
       "    </tr>\n",
       "  </thead>\n",
       "  <tbody>\n",
       "    <tr>\n",
       "      <th>0</th>\n",
       "      <td>0</td>\n",
       "      <td>We started giving this to my 5 year old Labrador retriever (female) she has arthritis problems along with weakness in her back legs and it seems to help a little bit, would not hurt to try it</td>\n",
       "      <td>dogs</td>\n",
       "    </tr>\n",
       "    <tr>\n",
       "      <th>1</th>\n",
       "      <td>1</td>\n",
       "      <td>This product is easy to set up and use. I have a new puppy Border Collie who will be fullgrown around 50#. The crate would still have lots of room for her. I purchased this thru Amazon which is very convienience because the delivery person carried it right to my door. Total cost was cheaper than...</td>\n",
       "      <td>dogs</td>\n",
       "    </tr>\n",
       "    <tr>\n",
       "      <th>2</th>\n",
       "      <td>2</td>\n",
       "      <td>my dog has nerves and wants to itch and chew......the cone keeps him from a frenzy somewhat! If not for the cone he would go to town on his entire body drawing blood....however he is a contortionist and can maneuver the cone. The picture shows a black band around the diameter of the large end of...</td>\n",
       "      <td>dogs</td>\n",
       "    </tr>\n",
       "    <tr>\n",
       "      <th>3</th>\n",
       "      <td>3</td>\n",
       "      <td>the breeded gave us a can of Nupro when we took our scottie home...having fed it to him now for 4 months we are very pleased with the results...those who want a great coat on their animal would appreciate this supplement...would definitely recommend..</td>\n",
       "      <td>dogs</td>\n",
       "    </tr>\n",
       "    <tr>\n",
       "      <th>4</th>\n",
       "      <td>4</td>\n",
       "      <td>Very study, well made poop bag. Easy to open and holds the poop with no leaking, but I only gave it four stars because it does not keep the smell inside the bag. That is the only downside, but I will keep buying them, as they are convenient and affordable.</td>\n",
       "      <td>dogs</td>\n",
       "    </tr>\n",
       "  </tbody>\n",
       "</table>\n",
       "</div>"
      ],
      "text/plain": [
       "   id  \\\n",
       "0   0   \n",
       "1   1   \n",
       "2   2   \n",
       "3   3   \n",
       "4   4   \n",
       "\n",
       "                                                                                                                                                                                                                                                                                                          text  \\\n",
       "0                                                                                                              We started giving this to my 5 year old Labrador retriever (female) she has arthritis problems along with weakness in her back legs and it seems to help a little bit, would not hurt to try it   \n",
       "1  This product is easy to set up and use. I have a new puppy Border Collie who will be fullgrown around 50#. The crate would still have lots of room for her. I purchased this thru Amazon which is very convienience because the delivery person carried it right to my door. Total cost was cheaper than...   \n",
       "2  my dog has nerves and wants to itch and chew......the cone keeps him from a frenzy somewhat! If not for the cone he would go to town on his entire body drawing blood....however he is a contortionist and can maneuver the cone. The picture shows a black band around the diameter of the large end of...   \n",
       "3                                                  the breeded gave us a can of Nupro when we took our scottie home...having fed it to him now for 4 months we are very pleased with the results...those who want a great coat on their animal would appreciate this supplement...would definitely recommend..   \n",
       "4                                             Very study, well made poop bag. Easy to open and holds the poop with no leaking, but I only gave it four stars because it does not keep the smell inside the bag. That is the only downside, but I will keep buying them, as they are convenient and affordable.   \n",
       "\n",
       "  label  \n",
       "0  dogs  \n",
       "1  dogs  \n",
       "2  dogs  \n",
       "3  dogs  \n",
       "4  dogs  "
      ]
     },
     "execution_count": 61,
     "metadata": {},
     "output_type": "execute_result"
    }
   ],
   "source": [
    "tweets_w2vec = pd.read_csv(\"lNlhedMcSH63Idvr6lzE_valid.csv\")\n",
    "tweets_w2vec.head()"
   ]
  },
  {
   "cell_type": "markdown",
   "id": "dbcfd234",
   "metadata": {},
   "source": [
    "### 5.2 Check the Dataframe Size and Shape and Encode the Class 'Label'<a id='5.2'></a>"
   ]
  },
  {
   "cell_type": "code",
   "execution_count": 62,
   "id": "ae40786e",
   "metadata": {},
   "outputs": [],
   "source": [
    "tweets_w2vec = tweets_w2vec.drop(['id'],axis=1)"
   ]
  },
  {
   "cell_type": "code",
   "execution_count": 63,
   "id": "35d6173b",
   "metadata": {},
   "outputs": [
    {
     "data": {
      "text/plain": [
       "(15499, 2)"
      ]
     },
     "execution_count": 63,
     "metadata": {},
     "output_type": "execute_result"
    }
   ],
   "source": [
    "tweets_w2vec.shape"
   ]
  },
  {
   "cell_type": "code",
   "execution_count": 64,
   "id": "5b42c8cc",
   "metadata": {},
   "outputs": [],
   "source": [
    "# Create a LabelEncoder object\n",
    "le = LabelEncoder()\n",
    "\n",
    "# Fit the encoder to the data\n",
    "tweets_w2vec['label'] = le.fit_transform(tweets_w2vec['label'])"
   ]
  },
  {
   "cell_type": "code",
   "execution_count": 65,
   "id": "81753f93",
   "metadata": {},
   "outputs": [
    {
     "data": {
      "text/plain": [
       "1    9333\n",
       "0    6166\n",
       "Name: label, dtype: int64"
      ]
     },
     "execution_count": 65,
     "metadata": {},
     "output_type": "execute_result"
    }
   ],
   "source": [
    "tweets_w2vec['label'].value_counts()"
   ]
  },
  {
   "cell_type": "markdown",
   "id": "08a1ff31",
   "metadata": {},
   "source": [
    "### 5.3. Preprocess Tweet text<a id='5.3'></a>\n",
    "\n",
    "Stop words usually refers to the most commonly used words in a language (such as “the”, “a”, “an”, “in”) \n",
    "\n",
    "This step is a one of the important steps to come up with more robust input"
   ]
  },
  {
   "cell_type": "code",
   "execution_count": 66,
   "id": "d9d4cfd5",
   "metadata": {},
   "outputs": [
    {
     "name": "stderr",
     "output_type": "stream",
     "text": [
      "[nltk_data] Downloading package stopwords to\n",
      "[nltk_data]     C:\\Users\\archi\\AppData\\Roaming\\nltk_data...\n",
      "[nltk_data]   Package stopwords is already up-to-date!\n"
     ]
    }
   ],
   "source": [
    "nltk.download('stopwords')\n",
    "stop_words = set(stopwords.words('english')) "
   ]
  },
  {
   "cell_type": "code",
   "execution_count": 67,
   "id": "ea358eba",
   "metadata": {},
   "outputs": [
    {
     "data": {
      "text/plain": [
       "\"made in usa - seems well made, but i have been playing easy with my two cats.i highly recommend using caution when playing with your cats!!! if a child is using this toy with the cats, then supervise their usage too! your cat could get hurt!i gave 4 star because of the design, which is a metal fishing hook style to connect the attachment - i hope to upload a picture. it is a great design, in term of easily switching attachments, but the loop hole make it too easy for your cats' teeth and nail to get caught when your cat is biting or swatting at the toy. i may put tape over the loop hole for protection. the attachment themselves seem to be a little weighted and it is very easy to swing the attachment and whack the cat in the head or teeth.both of my cat play with the attachments, but each cat prefers a different attachment. one cat love the sparkler attachment and the other cat love the blue fluffed feather attachment. neither cat care for the standard feather attachment. the blue fluffed feather will not last long at all.the peacock feather is just that, one single long peacock feather. my cat do play with this, but i put it away when i'm done because it will not last long if one of the cat get a hold of it while i'm gone!i'm not sure if i will buy replacement attachment because they are a little expensive. i may make my own attachment or just retire the wand when all the piece are destroyed. the wand is very thin and i don't know how rough the play can be before it breaks, so i will play with this carefully to extend it life and to protect my cats.as with any toy, use caution and supervise! \""
      ]
     },
     "execution_count": 67,
     "metadata": {},
     "output_type": "execute_result"
    }
   ],
   "source": [
    "lemmatizer = WordNetLemmatizer() \n",
    "new_sentence=''\n",
    "for i in tweets_w2vec['text'][12].split():\n",
    "  new_sentence=new_sentence+lemmatizer.lemmatize(i.lower())+' '\n",
    "new_sentence"
   ]
  },
  {
   "cell_type": "code",
   "execution_count": 68,
   "id": "f30727ea",
   "metadata": {},
   "outputs": [],
   "source": [
    "def func_contract_words_stp(text):\n",
    "    \n",
    "    # creating an empty list\n",
    "    expanded_words = []    \n",
    "    for word in text.split():\n",
    "      # using contractions.fix to expand the shortened words\n",
    "      expanded_words.append(contractions.fix(word))\n",
    "        \n",
    "    expanded_text = ' '.join(expanded_words)\n",
    "    \n",
    "    return expanded_text"
   ]
  },
  {
   "cell_type": "code",
   "execution_count": 69,
   "id": "5836e4ae",
   "metadata": {},
   "outputs": [],
   "source": [
    "\n",
    "def func_tweet_cleaner_lema(cleanString):\n",
    "    #contraction mapping\n",
    "    cleanString=func_contract_words_stp(cleanString)              \n",
    "    #Removing text in brackets\n",
    "    cleanString=re.sub(r\"(\\(.*\\))|(\\[.*\\])\", \"\",cleanString)      \n",
    "    #Removing user mentions\n",
    "    cleanString=re.sub(r'@[A-Za-z0-9]+','',cleanString)           \n",
    "    #Removing hashtag symbobol\n",
    "    cleanString=re.sub(r\"#\\S+\",\"\",cleanString)                    \n",
    "    #Removing links\n",
    "    cleanString= re.sub(r'(http[s]?\\://\\S+)|([\\[\\(].*[\\)\\]])|([#@]\\S+)|\\n', '', cleanString)              \n",
    "    #Removing 2016, 21 15\n",
    "    cleanString=re.sub(r\"[0-9]\", \"\",cleanString)                  \n",
    "    #Removing \\n\n",
    "    cleanString=re.sub(r\"\\n\", \"\",cleanString)                     \n",
    "    \n",
    "    #Fetching out only letters\n",
    "    letters_only = re.sub(\"[^a-zA-Z]\", \" \", cleanString)           \n",
    "    #Converting everything to lowercase\n",
    "    lower_case = letters_only.lower()                              \n",
    "    #stopwords removal\n",
    "    tokens = [w for w in lower_case.split() if not w in stop_words]\n",
    "    newString=''\n",
    "    for i in tokens:                                                 \n",
    "        #converting words to lemma\n",
    "        newString=newString+lemmatizer.lemmatize(i)+' '                                           \n",
    "    return newString.strip() "
   ]
  },
  {
   "cell_type": "code",
   "execution_count": 70,
   "id": "5a863447",
   "metadata": {},
   "outputs": [
    {
     "name": "stdout",
     "output_type": "stream",
     "text": [
      "['started giving year old labrador retriever arthritis problem along weakness back leg seems help little bit would hurt try', 'product easy set use new puppy border collie fullgrown around crate would still lot room purchased thru amazon convienience delivery person carried right door total cost cheaper local pet store yep love amazon', 'dog nerve want itch chew cone keep frenzy somewhat cone would go town entire body drawing blood however contortionist maneuver cone picture show black band around diameter large end cone case cone received purchased cone exposed plastic sharp run leg hurt little also scratch like back scratcher imagine good must feel almost hate get serve purpose without like said would frenzy nerve would chew self bloody disapointment pictured item shipped', 'breeded gave u nupro took scottie home fed month pleased result want great coat animal would appreciate supplement would definitely recommend', 'study well made poop bag easy open hold poop leaking gave four star keep smell inside bag downside keep buying convenient affordable']\n"
     ]
    }
   ],
   "source": [
    "cleaned_tweets = []\n",
    "for i in tweets_w2vec['text']:\n",
    "    cleaned_tweets.append(func_tweet_cleaner_lema(i))\n",
    "print(cleaned_tweets[:5])   #print top 5 records"
   ]
  },
  {
   "cell_type": "code",
   "execution_count": 71,
   "id": "d36a126f",
   "metadata": {},
   "outputs": [
    {
     "data": {
      "text/html": [
       "<div>\n",
       "<style scoped>\n",
       "    .dataframe tbody tr th:only-of-type {\n",
       "        vertical-align: middle;\n",
       "    }\n",
       "\n",
       "    .dataframe tbody tr th {\n",
       "        vertical-align: top;\n",
       "    }\n",
       "\n",
       "    .dataframe thead th {\n",
       "        text-align: right;\n",
       "    }\n",
       "</style>\n",
       "<table border=\"1\" class=\"dataframe\">\n",
       "  <thead>\n",
       "    <tr style=\"text-align: right;\">\n",
       "      <th></th>\n",
       "      <th>text</th>\n",
       "      <th>label</th>\n",
       "      <th>cleaned_tweets</th>\n",
       "    </tr>\n",
       "  </thead>\n",
       "  <tbody>\n",
       "    <tr>\n",
       "      <th>0</th>\n",
       "      <td>We started giving this to my 5 year old Labrador retriever (female) she has arthritis problems along with weakness in her back legs and it seems to help a little bit, would not hurt to try it</td>\n",
       "      <td>1</td>\n",
       "      <td>started giving year old labrador retriever arthritis problem along weakness back leg seems help little bit would hurt try</td>\n",
       "    </tr>\n",
       "    <tr>\n",
       "      <th>1</th>\n",
       "      <td>This product is easy to set up and use. I have a new puppy Border Collie who will be fullgrown around 50#. The crate would still have lots of room for her. I purchased this thru Amazon which is very convienience because the delivery person carried it right to my door. Total cost was cheaper than...</td>\n",
       "      <td>1</td>\n",
       "      <td>product easy set use new puppy border collie fullgrown around crate would still lot room purchased thru amazon convienience delivery person carried right door total cost cheaper local pet store yep love amazon</td>\n",
       "    </tr>\n",
       "    <tr>\n",
       "      <th>2</th>\n",
       "      <td>my dog has nerves and wants to itch and chew......the cone keeps him from a frenzy somewhat! If not for the cone he would go to town on his entire body drawing blood....however he is a contortionist and can maneuver the cone. The picture shows a black band around the diameter of the large end of...</td>\n",
       "      <td>1</td>\n",
       "      <td>dog nerve want itch chew cone keep frenzy somewhat cone would go town entire body drawing blood however contortionist maneuver cone picture show black band around diameter large end cone case cone received purchased cone exposed plastic sharp run leg hurt little also scratch like back scratcher ...</td>\n",
       "    </tr>\n",
       "    <tr>\n",
       "      <th>3</th>\n",
       "      <td>the breeded gave us a can of Nupro when we took our scottie home...having fed it to him now for 4 months we are very pleased with the results...those who want a great coat on their animal would appreciate this supplement...would definitely recommend..</td>\n",
       "      <td>1</td>\n",
       "      <td>breeded gave u nupro took scottie home fed month pleased result want great coat animal would appreciate supplement would definitely recommend</td>\n",
       "    </tr>\n",
       "    <tr>\n",
       "      <th>4</th>\n",
       "      <td>Very study, well made poop bag. Easy to open and holds the poop with no leaking, but I only gave it four stars because it does not keep the smell inside the bag. That is the only downside, but I will keep buying them, as they are convenient and affordable.</td>\n",
       "      <td>1</td>\n",
       "      <td>study well made poop bag easy open hold poop leaking gave four star keep smell inside bag downside keep buying convenient affordable</td>\n",
       "    </tr>\n",
       "  </tbody>\n",
       "</table>\n",
       "</div>"
      ],
      "text/plain": [
       "                                                                                                                                                                                                                                                                                                          text  \\\n",
       "0                                                                                                              We started giving this to my 5 year old Labrador retriever (female) she has arthritis problems along with weakness in her back legs and it seems to help a little bit, would not hurt to try it   \n",
       "1  This product is easy to set up and use. I have a new puppy Border Collie who will be fullgrown around 50#. The crate would still have lots of room for her. I purchased this thru Amazon which is very convienience because the delivery person carried it right to my door. Total cost was cheaper than...   \n",
       "2  my dog has nerves and wants to itch and chew......the cone keeps him from a frenzy somewhat! If not for the cone he would go to town on his entire body drawing blood....however he is a contortionist and can maneuver the cone. The picture shows a black band around the diameter of the large end of...   \n",
       "3                                                  the breeded gave us a can of Nupro when we took our scottie home...having fed it to him now for 4 months we are very pleased with the results...those who want a great coat on their animal would appreciate this supplement...would definitely recommend..   \n",
       "4                                             Very study, well made poop bag. Easy to open and holds the poop with no leaking, but I only gave it four stars because it does not keep the smell inside the bag. That is the only downside, but I will keep buying them, as they are convenient and affordable.   \n",
       "\n",
       "   label  \\\n",
       "0      1   \n",
       "1      1   \n",
       "2      1   \n",
       "3      1   \n",
       "4      1   \n",
       "\n",
       "                                                                                                                                                                                                                                                                                                cleaned_tweets  \n",
       "0                                                                                                                                                                                    started giving year old labrador retriever arthritis problem along weakness back leg seems help little bit would hurt try  \n",
       "1                                                                                            product easy set use new puppy border collie fullgrown around crate would still lot room purchased thru amazon convienience delivery person carried right door total cost cheaper local pet store yep love amazon  \n",
       "2  dog nerve want itch chew cone keep frenzy somewhat cone would go town entire body drawing blood however contortionist maneuver cone picture show black band around diameter large end cone case cone received purchased cone exposed plastic sharp run leg hurt little also scratch like back scratcher ...  \n",
       "3                                                                                                                                                                breeded gave u nupro took scottie home fed month pleased result want great coat animal would appreciate supplement would definitely recommend  \n",
       "4                                                                                                                                                                         study well made poop bag easy open hold poop leaking gave four star keep smell inside bag downside keep buying convenient affordable  "
      ]
     },
     "execution_count": 71,
     "metadata": {},
     "output_type": "execute_result"
    }
   ],
   "source": [
    "tweets_w2vec['cleaned_tweets']= cleaned_tweets  #creating new column\n",
    "tweets_w2vec.head()"
   ]
  },
  {
   "cell_type": "markdown",
   "id": "468f9dc5",
   "metadata": {},
   "source": [
    "**Data Visualization**\n",
    "\n",
    "Let us visualize the same plot after preprocessing"
   ]
  },
  {
   "cell_type": "code",
   "execution_count": 72,
   "id": "cced80fd",
   "metadata": {},
   "outputs": [
    {
     "data": {
      "image/png": "[encoded data removed]",
      "text/plain": [
       "<Figure size 1200x500 with 1 Axes>"
      ]
     },
     "metadata": {},
     "output_type": "display_data"
    }
   ],
   "source": [
    "all_words = []\n",
    "for line in list(tweets_w2vec['cleaned_tweets']):\n",
    "    words = line.split()\n",
    "    for word in words:\n",
    "        all_words.append(word)\n",
    "        \n",
    "plt.figure(figsize=(12,5))\n",
    "plt.title('Top 25 most common words')\n",
    "plt.xticks(fontsize=13, rotation=90)\n",
    "fd = nltk.FreqDist(all_words)\n",
    "fd.plot(25,cumulative=False);  "
   ]
  },
  {
   "cell_type": "markdown",
   "id": "49f0531d",
   "metadata": {},
   "source": [
    "### 5.4 Perform Count Features<a id='5.4'></a>"
   ]
  },
  {
   "cell_type": "code",
   "execution_count": 73,
   "id": "00cc92bc",
   "metadata": {},
   "outputs": [],
   "source": [
    "def func_avg_length(tweet):\n",
    "    tweet_avg_len = []\n",
    "    for row in tweet:\n",
    "        row_len=[]\n",
    "        for term in row.split():\n",
    "            row_len.append(len(term))\n",
    "        \n",
    "        if len(row_len) > 0:\n",
    "            row_avg_len = sum(row_len) / len(row_len)\n",
    "        else:\n",
    "            row_avg_len = sum(row_len)\n",
    "            \n",
    "        tweet_avg_len.append(row_avg_len)\n",
    "    \n",
    "    return tweet_avg_len"
   ]
  },
  {
   "cell_type": "code",
   "execution_count": 74,
   "id": "249c4395",
   "metadata": {},
   "outputs": [
    {
     "data": {
      "text/html": [
       "<div>\n",
       "<style scoped>\n",
       "    .dataframe tbody tr th:only-of-type {\n",
       "        vertical-align: middle;\n",
       "    }\n",
       "\n",
       "    .dataframe tbody tr th {\n",
       "        vertical-align: top;\n",
       "    }\n",
       "\n",
       "    .dataframe thead th {\n",
       "        text-align: right;\n",
       "    }\n",
       "</style>\n",
       "<table border=\"1\" class=\"dataframe\">\n",
       "  <thead>\n",
       "    <tr style=\"text-align: right;\">\n",
       "      <th></th>\n",
       "      <th>text</th>\n",
       "      <th>label</th>\n",
       "      <th>cleaned_tweets</th>\n",
       "      <th>avg_len</th>\n",
       "      <th>total_count</th>\n",
       "      <th>word_count</th>\n",
       "      <th>space_count</th>\n",
       "      <th>char_count</th>\n",
       "    </tr>\n",
       "  </thead>\n",
       "  <tbody>\n",
       "    <tr>\n",
       "      <th>0</th>\n",
       "      <td>We started giving this to my 5 year old Labrador retriever (female) she has arthritis problems along with weakness in her back legs and it seems to help a little bit, would not hurt to try it</td>\n",
       "      <td>1</td>\n",
       "      <td>started giving year old labrador retriever arthritis problem along weakness back leg seems help little bit would hurt try</td>\n",
       "      <td>5.421053</td>\n",
       "      <td>121</td>\n",
       "      <td>19</td>\n",
       "      <td>18</td>\n",
       "      <td>103</td>\n",
       "    </tr>\n",
       "    <tr>\n",
       "      <th>1</th>\n",
       "      <td>This product is easy to set up and use. I have a new puppy Border Collie who will be fullgrown around 50#. The crate would still have lots of room for her. I purchased this thru Amazon which is very convienience because the delivery person carried it right to my door. Total cost was cheaper than...</td>\n",
       "      <td>1</td>\n",
       "      <td>product easy set use new puppy border collie fullgrown around crate would still lot room purchased thru amazon convienience delivery person carried right door total cost cheaper local pet store yep love amazon</td>\n",
       "      <td>5.363636</td>\n",
       "      <td>209</td>\n",
       "      <td>33</td>\n",
       "      <td>32</td>\n",
       "      <td>177</td>\n",
       "    </tr>\n",
       "    <tr>\n",
       "      <th>2</th>\n",
       "      <td>my dog has nerves and wants to itch and chew......the cone keeps him from a frenzy somewhat! If not for the cone he would go to town on his entire body drawing blood....however he is a contortionist and can maneuver the cone. The picture shows a black band around the diameter of the large end of...</td>\n",
       "      <td>1</td>\n",
       "      <td>dog nerve want itch chew cone keep frenzy somewhat cone would go town entire body drawing blood however contortionist maneuver cone picture show black band around diameter large end cone case cone received purchased cone exposed plastic sharp run leg hurt little also scratch like back scratcher ...</td>\n",
       "      <td>5.357143</td>\n",
       "      <td>444</td>\n",
       "      <td>70</td>\n",
       "      <td>69</td>\n",
       "      <td>375</td>\n",
       "    </tr>\n",
       "    <tr>\n",
       "      <th>3</th>\n",
       "      <td>the breeded gave us a can of Nupro when we took our scottie home...having fed it to him now for 4 months we are very pleased with the results...those who want a great coat on their animal would appreciate this supplement...would definitely recommend..</td>\n",
       "      <td>1</td>\n",
       "      <td>breeded gave u nupro took scottie home fed month pleased result want great coat animal would appreciate supplement would definitely recommend</td>\n",
       "      <td>5.761905</td>\n",
       "      <td>141</td>\n",
       "      <td>21</td>\n",
       "      <td>20</td>\n",
       "      <td>121</td>\n",
       "    </tr>\n",
       "    <tr>\n",
       "      <th>4</th>\n",
       "      <td>Very study, well made poop bag. Easy to open and holds the poop with no leaking, but I only gave it four stars because it does not keep the smell inside the bag. That is the only downside, but I will keep buying them, as they are convenient and affordable.</td>\n",
       "      <td>1</td>\n",
       "      <td>study well made poop bag easy open hold poop leaking gave four star keep smell inside bag downside keep buying convenient affordable</td>\n",
       "      <td>5.045455</td>\n",
       "      <td>132</td>\n",
       "      <td>22</td>\n",
       "      <td>21</td>\n",
       "      <td>111</td>\n",
       "    </tr>\n",
       "  </tbody>\n",
       "</table>\n",
       "</div>"
      ],
      "text/plain": [
       "                                                                                                                                                                                                                                                                                                          text  \\\n",
       "0                                                                                                              We started giving this to my 5 year old Labrador retriever (female) she has arthritis problems along with weakness in her back legs and it seems to help a little bit, would not hurt to try it   \n",
       "1  This product is easy to set up and use. I have a new puppy Border Collie who will be fullgrown around 50#. The crate would still have lots of room for her. I purchased this thru Amazon which is very convienience because the delivery person carried it right to my door. Total cost was cheaper than...   \n",
       "2  my dog has nerves and wants to itch and chew......the cone keeps him from a frenzy somewhat! If not for the cone he would go to town on his entire body drawing blood....however he is a contortionist and can maneuver the cone. The picture shows a black band around the diameter of the large end of...   \n",
       "3                                                  the breeded gave us a can of Nupro when we took our scottie home...having fed it to him now for 4 months we are very pleased with the results...those who want a great coat on their animal would appreciate this supplement...would definitely recommend..   \n",
       "4                                             Very study, well made poop bag. Easy to open and holds the poop with no leaking, but I only gave it four stars because it does not keep the smell inside the bag. That is the only downside, but I will keep buying them, as they are convenient and affordable.   \n",
       "\n",
       "   label  \\\n",
       "0      1   \n",
       "1      1   \n",
       "2      1   \n",
       "3      1   \n",
       "4      1   \n",
       "\n",
       "                                                                                                                                                                                                                                                                                                cleaned_tweets  \\\n",
       "0                                                                                                                                                                                    started giving year old labrador retriever arthritis problem along weakness back leg seems help little bit would hurt try   \n",
       "1                                                                                            product easy set use new puppy border collie fullgrown around crate would still lot room purchased thru amazon convienience delivery person carried right door total cost cheaper local pet store yep love amazon   \n",
       "2  dog nerve want itch chew cone keep frenzy somewhat cone would go town entire body drawing blood however contortionist maneuver cone picture show black band around diameter large end cone case cone received purchased cone exposed plastic sharp run leg hurt little also scratch like back scratcher ...   \n",
       "3                                                                                                                                                                breeded gave u nupro took scottie home fed month pleased result want great coat animal would appreciate supplement would definitely recommend   \n",
       "4                                                                                                                                                                         study well made poop bag easy open hold poop leaking gave four star keep smell inside bag downside keep buying convenient affordable   \n",
       "\n",
       "    avg_len  total_count  word_count  space_count  char_count  \n",
       "0  5.421053          121          19           18         103  \n",
       "1  5.363636          209          33           32         177  \n",
       "2  5.357143          444          70           69         375  \n",
       "3  5.761905          141          21           20         121  \n",
       "4  5.045455          132          22           21         111  "
      ]
     },
     "execution_count": 74,
     "metadata": {},
     "output_type": "execute_result"
    }
   ],
   "source": [
    "tweets_w2vec['avg_len']    = func_avg_length(tweets_w2vec['cleaned_tweets'])\n",
    "tweets_w2vec['total_count']=[len(line) for line in tweets_w2vec['cleaned_tweets']]\n",
    "tweets_w2vec['word_count'] =[len(line.split()) for line in tweets_w2vec['cleaned_tweets']]\n",
    "tweets_w2vec['space_count']=[line.count(' ') for line in tweets_w2vec['cleaned_tweets']]\n",
    "tweets_w2vec['char_count'] =tweets_tfidf['total_count']-tweets_w2vec['space_count']\n",
    "tweets_w2vec.head()"
   ]
  },
  {
   "cell_type": "markdown",
   "id": "d14f7cd9",
   "metadata": {},
   "source": [
    "### 5.5 Build  Using Google's pre-trained Word2Vec'<a id='5.5'></a>"
   ]
  },
  {
   "cell_type": "code",
   "execution_count": 75,
   "id": "28799174",
   "metadata": {},
   "outputs": [],
   "source": [
    "# download and extract word2vec embeddings \n",
    "# ! wget -c \"https://s3.amazonaws.com/dl4j-distribution/GoogleNews-vectors-negative300.bin.gz\"\n",
    "# ! gunzip GoogleNews-vectors-negative300.bin.gz"
   ]
  },
  {
   "cell_type": "code",
   "execution_count": 76,
   "id": "89a02884",
   "metadata": {},
   "outputs": [],
   "source": [
    "from gensim.models import KeyedVectors\n",
    "\n",
    "# path of the downloaded model\n",
    "filename = 'GoogleNews-vectors-negative300.bin'\n",
    "\n",
    "# load into gensim\n",
    "w2vec = KeyedVectors.load_word2vec_format(filename, binary=True)"
   ]
  },
  {
   "cell_type": "markdown",
   "id": "8f11c615",
   "metadata": {},
   "source": [
    "Once you have executed the above code, your word2vec model is finally installed and loaded. Let's explore some of the features of this model.\n",
    "\n",
    "__Contextual Relationship Between Words__\n",
    "\n",
    " - One of the impressive things about word2vec is it's ability to capture semantic relationship between words. That is the reason that you can do cool stuff like perform linear algebra on words and get an appropriate output. Have a look at the following example:\n",
    "\n",
    "    `airplane - fly + drive = car`\n",
    "\n",
    " - If you pass the left hand side of the above equation to the model, it will give the right handside. Which makes sense because what would you get if you remove the ability to fly from an airplane? And add the ability to drive? You would get a car!"
   ]
  },
  {
   "cell_type": "markdown",
   "id": "0f4802f3",
   "metadata": {},
   "source": [
    "### Text Classification using Word2Vec\n",
    "\n",
    "Let's now get back to our task to classify our twitter data by using __word2vec__ as features. However, word2vec gives vector representation of individual words, in order to find the same for a statement or a document you can take mean of the vectors of it's constituent words.\n",
    "\n",
    "<br>\n",
    "\n",
    "Please note that the length of every vector of the pre-trained word2vec embeddings is 300."
   ]
  },
  {
   "cell_type": "code",
   "execution_count": 77,
   "id": "b55cbacf",
   "metadata": {},
   "outputs": [],
   "source": [
    "# function to get vector representation of a tweet\n",
    "def word_vector(tokens):\n",
    "    vec = np.zeros((1,300))\n",
    "    count = 0.\n",
    "    for word in tokens:\n",
    "        try:\n",
    "            vec += w2vec.word_vec(word)\n",
    "            count += 1.\n",
    "        except KeyError: # handling the case where the token is not in vocabulary\n",
    "                         \n",
    "            continue\n",
    "    if count != 0:\n",
    "        vec /= count\n",
    "    return vec"
   ]
  },
  {
   "cell_type": "code",
   "execution_count": 78,
   "id": "3d3d9cff",
   "metadata": {},
   "outputs": [],
   "source": [
    "# empty array of shape (no. of tweets X 300) to store word2vec features\n",
    "wordvec_arrays = np.zeros((len(tweets_w2vec), 300))\n",
    "\n",
    "for i,j in enumerate(tweets_w2vec['cleaned_tweets']):\n",
    "    wordvec_arrays[i,:] = word_vector(j.split())"
   ]
  },
  {
   "cell_type": "code",
   "execution_count": 79,
   "id": "08dce40e",
   "metadata": {},
   "outputs": [
    {
     "data": {
      "text/plain": [
       "(15499, 300)"
      ]
     },
     "execution_count": 79,
     "metadata": {},
     "output_type": "execute_result"
    }
   ],
   "source": [
    "wordvec_arrays.shape"
   ]
  },
  {
   "cell_type": "code",
   "execution_count": 80,
   "id": "0a46c6de",
   "metadata": {},
   "outputs": [
    {
     "data": {
      "text/plain": [
       "-0.71484375"
      ]
     },
     "execution_count": 80,
     "metadata": {},
     "output_type": "execute_result"
    }
   ],
   "source": [
    "#Find Minimum Value for Input X\n",
    "\n",
    "wordvec_arrays.min()"
   ]
  },
  {
   "cell_type": "markdown",
   "id": "5f760d42",
   "metadata": {},
   "source": [
    "### Note: Having -ve value in Input 'X'\n",
    "\n",
    "Using MultinomialNB failed when using above features because of having negative values\n",
    "\n",
    "**`\"ValueError: Negative values in data passed to MultinomialNB (input X)\"`**\n",
    " \n",
    "Suggested solutions:\n",
    "* Skip MultinomialNB when some of the features have negative values.\n",
    "* Use GaussianNB instead.\n",
    "* Normalize features to [0, 1] range."
   ]
  },
  {
   "cell_type": "markdown",
   "id": "8b655888",
   "metadata": {},
   "source": [
    "**Split the dataset into training and validation set**"
   ]
  },
  {
   "cell_type": "code",
   "execution_count": 81,
   "id": "fe08a488",
   "metadata": {},
   "outputs": [],
   "source": [
    "xtrain_w2vec, xvalid_w2vec, ytrain_w2vec, yvalid_w2vec = train_test_split(wordvec_arrays,tweets_w2vec['label'],test_size=0.3,random_state=42)"
   ]
  },
  {
   "cell_type": "code",
   "execution_count": 82,
   "id": "85685b97",
   "metadata": {},
   "outputs": [
    {
     "data": {
      "text/plain": [
       "((10849, 300), (10849,), (4650, 300), (4650,))"
      ]
     },
     "execution_count": 82,
     "metadata": {},
     "output_type": "execute_result"
    }
   ],
   "source": [
    "xtrain_w2vec.shape, ytrain_w2vec.shape, xvalid_w2vec.shape, yvalid_w2vec.shape"
   ]
  },
  {
   "cell_type": "markdown",
   "id": "1f6766e8",
   "metadata": {},
   "source": [
    "**Apply MinMaxScaler to Input X to get rid off Negative values in Input 'X'**"
   ]
  },
  {
   "cell_type": "code",
   "execution_count": 83,
   "id": "37bd4703",
   "metadata": {},
   "outputs": [
    {
     "data": {
      "text/plain": [
       "(-0.71484375, -0.55078125)"
      ]
     },
     "execution_count": 83,
     "metadata": {},
     "output_type": "execute_result"
    }
   ],
   "source": [
    "xtrain_w2vec.min(), xvalid_w2vec.min()"
   ]
  },
  {
   "cell_type": "code",
   "execution_count": 84,
   "id": "3801e24d",
   "metadata": {},
   "outputs": [],
   "source": [
    "# Initialize MinMaxScaler\n",
    "scaler = MinMaxScaler(feature_range=(0, 1))\n",
    "\n",
    "# Fit and transform the X Input\n",
    "X_train_w2vec_scaled = scaler.fit_transform(xtrain_w2vec)\n",
    "X_valid_w2vec_scaled = scaler.fit_transform(xvalid_w2vec)"
   ]
  },
  {
   "cell_type": "code",
   "execution_count": 85,
   "id": "c6ea3960",
   "metadata": {},
   "outputs": [
    {
     "data": {
      "text/plain": [
       "(0.0, 0.0, (10849, 300), (4650, 300))"
      ]
     },
     "execution_count": 85,
     "metadata": {},
     "output_type": "execute_result"
    }
   ],
   "source": [
    "X_train_w2vec_scaled.min(), X_valid_w2vec_scaled.min(),X_train_w2vec_scaled.shape, X_valid_w2vec_scaled.shape"
   ]
  },
  {
   "cell_type": "markdown",
   "id": "7f84edc2",
   "metadata": {},
   "source": [
    "### 5.6 Implement Multinomial Naive Bayes<a id='5.6'></a>"
   ]
  },
  {
   "cell_type": "markdown",
   "id": "8a857ae5",
   "metadata": {},
   "source": []
  },
  {
   "cell_type": "code",
   "execution_count": 86,
   "id": "2d3774ae",
   "metadata": {},
   "outputs": [
    {
     "name": "stdout",
     "output_type": "stream",
     "text": [
      "F1-Score (Train):  0.7527734666896592\n",
      "F1-Score (Valid):  0.7491593813046402\n",
      "ROW-AUC-Score (Train):  0.8185800364365265\n",
      "ROW-AUC-Score (Valid):  0.823866847002084\n"
     ]
    }
   ],
   "source": [
    "#instantiate model\n",
    "naive_bayes_w2vec = MultinomialNB()\n",
    "\n",
    "#training model\n",
    "naive_bayes_w2vec.fit(X_train_w2vec_scaled, ytrain_w2vec)          \n",
    "\n",
    "#predicting on traiin and validation set\n",
    "prediction_w2vec_train  = naive_bayes_w2vec.predict(X_train_w2vec_scaled)\n",
    "prediction_w2vec_valid  = naive_bayes_w2vec.predict(X_valid_w2vec_scaled)\n",
    "preds_proba_w2vec_train = naive_bayes_w2vec.predict_proba(X_train_w2vec_scaled)[:,1]\n",
    "preds_proba_w2vec_valid = naive_bayes_w2vec.predict_proba(X_valid_w2vec_scaled)[:,1]\n",
    "\n",
    "# Calculate confusion matrix\n",
    "cm_w2vec_train = confusion_matrix(ytrain_w2vec, prediction_w2vec_train)\n",
    "cm_w2vec_valid = confusion_matrix(yvalid_w2vec, prediction_w2vec_valid)\n",
    "\n",
    "#Calculate ROC curve and AUC\n",
    "fpr_w2vec_train, tpr_w2vec_train, thresholds_w2vec_train = roc_curve(ytrain_w2vec, preds_proba_w2vec_train)\n",
    "fpr_w2vec_valid, tpr_w2vec_valid, thresholds_w2vec_valid = roc_curve(yvalid_w2vec, preds_proba_w2vec_valid)\n",
    "\n",
    "roc_auc_w2vec_train = auc(fpr_w2vec_train, tpr_w2vec_train)\n",
    "roc_auc_w2vec_valid = auc(fpr_w2vec_valid, tpr_w2vec_valid)\n",
    "\n",
    "# #calculating f1-score score\n",
    "f1_score_w2vec_train=f1_score(ytrain_w2vec, prediction_w2vec_train) \n",
    "f1_score_w2vec_valid=f1_score(yvalid_w2vec, prediction_w2vec_valid)        \n",
    "\n",
    "# #calculating roc_auc score\n",
    "roc_score_w2vec_train=roc_auc_score(ytrain_w2vec, preds_proba_w2vec_train)\n",
    "roc_score_w2vec_valid=roc_auc_score(yvalid_w2vec, preds_proba_w2vec_valid)\n",
    "\n",
    "#Append to the list\n",
    "models.append('MultinomialNB-W2VEC')\n",
    "f1_score_trains.append(f1_score_w2vec_train);roc_auc_score_trains.append(roc_auc_w2vec_train);\n",
    "model_feature_rows_trains.append(X_train_w2vec_scaled.shape[0]);\n",
    "model_feature_cols_trains.append(X_valid_w2vec_scaled.shape[1]);\n",
    "\n",
    "f1_score_valids.append(f1_score_w2vec_valid);roc_auc_score_valids.append(roc_auc_w2vec_valid);\n",
    "model_feature_rows_valids.append(X_train_w2vec_scaled.shape[0]);\n",
    "model_feature_cols_valids.append(X_valid_w2vec_scaled.shape[1]);\n",
    "\n",
    "print('F1-Score (Train): ',     f1_score_w2vec_train)\n",
    "print('F1-Score (Valid): ',     f1_score_w2vec_valid)\n",
    "print('ROW-AUC-Score (Train): ',roc_score_w2vec_train)\n",
    "print('ROW-AUC-Score (Valid): ',roc_score_w2vec_valid)"
   ]
  },
  {
   "cell_type": "markdown",
   "id": "0edd38b7",
   "metadata": {},
   "source": [
    "## 6. Summary: Plot ROC and Confusion Matrix by Model<a id='6'></a>"
   ]
  },
  {
   "cell_type": "code",
   "execution_count": 87,
   "id": "e483e53d",
   "metadata": {},
   "outputs": [],
   "source": [
    "train_stats = ({'Model':models,'F1(Train)':f1_score_trains,'ROC-AUC Score':roc_auc_score_trains,\n",
    "    '#Of Features':model_feature_cols_trains})\n",
    "\n",
    "valid_stats = ({'Model':models,'F1(Train)':f1_score_valids,'ROC-AUC Score':roc_auc_score_valids,\n",
    "    '#Of Features':model_feature_cols_valids})\n",
    "\n",
    "train_stats_df = pd.DataFrame(train_stats)\n",
    "valid_stats_df = pd.DataFrame(valid_stats)"
   ]
  },
  {
   "cell_type": "code",
   "execution_count": 88,
   "id": "447c2006",
   "metadata": {},
   "outputs": [
    {
     "data": {
      "text/html": [
       "<div>\n",
       "<style scoped>\n",
       "    .dataframe tbody tr th:only-of-type {\n",
       "        vertical-align: middle;\n",
       "    }\n",
       "\n",
       "    .dataframe tbody tr th {\n",
       "        vertical-align: top;\n",
       "    }\n",
       "\n",
       "    .dataframe thead th {\n",
       "        text-align: right;\n",
       "    }\n",
       "</style>\n",
       "<table border=\"1\" class=\"dataframe\">\n",
       "  <thead>\n",
       "    <tr style=\"text-align: right;\">\n",
       "      <th></th>\n",
       "      <th>Model</th>\n",
       "      <th>F1(Train)</th>\n",
       "      <th>ROC-AUC Score</th>\n",
       "      <th>#Of Features</th>\n",
       "    </tr>\n",
       "  </thead>\n",
       "  <tbody>\n",
       "    <tr>\n",
       "      <th>0</th>\n",
       "      <td>MultinomialNB-BOW</td>\n",
       "      <td>0.906790</td>\n",
       "      <td>0.945468</td>\n",
       "      <td>21350</td>\n",
       "    </tr>\n",
       "    <tr>\n",
       "      <th>1</th>\n",
       "      <td>MultinomialNB-SBOW</td>\n",
       "      <td>0.903646</td>\n",
       "      <td>0.943919</td>\n",
       "      <td>18926</td>\n",
       "    </tr>\n",
       "    <tr>\n",
       "      <th>2</th>\n",
       "      <td>MultinomialNB-TFIDF</td>\n",
       "      <td>0.880559</td>\n",
       "      <td>0.947635</td>\n",
       "      <td>18926</td>\n",
       "    </tr>\n",
       "    <tr>\n",
       "      <th>3</th>\n",
       "      <td>MultinomialNB-W2VEC</td>\n",
       "      <td>0.752773</td>\n",
       "      <td>0.818580</td>\n",
       "      <td>300</td>\n",
       "    </tr>\n",
       "  </tbody>\n",
       "</table>\n",
       "</div>"
      ],
      "text/plain": [
       "                 Model  F1(Train)  ROC-AUC Score  #Of Features\n",
       "0    MultinomialNB-BOW   0.906790       0.945468         21350\n",
       "1   MultinomialNB-SBOW   0.903646       0.943919         18926\n",
       "2  MultinomialNB-TFIDF   0.880559       0.947635         18926\n",
       "3  MultinomialNB-W2VEC   0.752773       0.818580           300"
      ]
     },
     "execution_count": 88,
     "metadata": {},
     "output_type": "execute_result"
    }
   ],
   "source": [
    "train_stats_df.head()"
   ]
  },
  {
   "cell_type": "code",
   "execution_count": 89,
   "id": "8093da8d",
   "metadata": {},
   "outputs": [
    {
     "data": {
      "text/html": [
       "<div>\n",
       "<style scoped>\n",
       "    .dataframe tbody tr th:only-of-type {\n",
       "        vertical-align: middle;\n",
       "    }\n",
       "\n",
       "    .dataframe tbody tr th {\n",
       "        vertical-align: top;\n",
       "    }\n",
       "\n",
       "    .dataframe thead th {\n",
       "        text-align: right;\n",
       "    }\n",
       "</style>\n",
       "<table border=\"1\" class=\"dataframe\">\n",
       "  <thead>\n",
       "    <tr style=\"text-align: right;\">\n",
       "      <th></th>\n",
       "      <th>Model</th>\n",
       "      <th>F1(Train)</th>\n",
       "      <th>ROC-AUC Score</th>\n",
       "      <th>#Of Features</th>\n",
       "    </tr>\n",
       "  </thead>\n",
       "  <tbody>\n",
       "    <tr>\n",
       "      <th>0</th>\n",
       "      <td>MultinomialNB-BOW</td>\n",
       "      <td>0.865950</td>\n",
       "      <td>0.903286</td>\n",
       "      <td>21350</td>\n",
       "    </tr>\n",
       "    <tr>\n",
       "      <th>1</th>\n",
       "      <td>MultinomialNB-SBOW</td>\n",
       "      <td>0.864341</td>\n",
       "      <td>0.904477</td>\n",
       "      <td>18926</td>\n",
       "    </tr>\n",
       "    <tr>\n",
       "      <th>2</th>\n",
       "      <td>MultinomialNB-TFIDF</td>\n",
       "      <td>0.847233</td>\n",
       "      <td>0.898822</td>\n",
       "      <td>18926</td>\n",
       "    </tr>\n",
       "    <tr>\n",
       "      <th>3</th>\n",
       "      <td>MultinomialNB-W2VEC</td>\n",
       "      <td>0.749159</td>\n",
       "      <td>0.823867</td>\n",
       "      <td>300</td>\n",
       "    </tr>\n",
       "  </tbody>\n",
       "</table>\n",
       "</div>"
      ],
      "text/plain": [
       "                 Model  F1(Train)  ROC-AUC Score  #Of Features\n",
       "0    MultinomialNB-BOW   0.865950       0.903286         21350\n",
       "1   MultinomialNB-SBOW   0.864341       0.904477         18926\n",
       "2  MultinomialNB-TFIDF   0.847233       0.898822         18926\n",
       "3  MultinomialNB-W2VEC   0.749159       0.823867           300"
      ]
     },
     "execution_count": 89,
     "metadata": {},
     "output_type": "execute_result"
    }
   ],
   "source": [
    "valid_stats_df.head()"
   ]
  },
  {
   "cell_type": "code",
   "execution_count": 90,
   "id": "57149552",
   "metadata": {},
   "outputs": [
    {
     "data": {
      "image/png": "[encoded data removed]",
      "text/plain": [
       "<Figure size 640x480 with 1 Axes>"
      ]
     },
     "metadata": {},
     "output_type": "display_data"
    }
   ],
   "source": [
    "# Plot ROC curve\n",
    "plt.figure()\n",
    "#\n",
    "plt.plot(fpr_bow_train,   tpr_bow_train,   lw=2, label='ROC (T-BOW) (area = %0.2f)'   % roc_auc_bow_train)\n",
    "plt.plot(fpr_sbow_train,  tpr_sbow_train,  lw=2, label='ROC (T-SBOW) (area = %0.2f)'  % roc_auc_sbow_train)\n",
    "plt.plot(fpr_tfidf_train, tpr_tfidf_train, lw=2, label='ROC (T-TFIDF) (area = %0.2f)' % roc_auc_tfidf_train)\n",
    "plt.plot(fpr_w2vec_train, tpr_w2vec_train, lw=2, label='ROC (W2VEC) (area = %0.2f)'   % roc_auc_w2vec_train)\n",
    "#\n",
    "plt.plot(fpr_bow_valid,   tpr_bow_valid,   lw=2, label='ROC (V-BOW) (area = %0.2f)'   % roc_auc_bow_valid)\n",
    "plt.plot(fpr_sbow_valid,  tpr_sbow_valid,  lw=2, label='ROC (V-SBOW) (area = %0.2f)'  % roc_auc_sbow_valid)\n",
    "plt.plot(fpr_tfidf_valid, tpr_tfidf_valid, lw=2, label='ROC (V-TFIDF) (area = %0.2f)' % roc_auc_tfidf_valid)\n",
    "plt.plot(fpr_w2vec_valid, tpr_w2vec_valid, lw=2, label='ROC(W2VEC) (area = %0.2f)'   % roc_auc_w2vec_valid)\n",
    "#\n",
    "plt.plot([0, 1], [0, 1], color='navy', lw=2, linestyle='--')\n",
    "plt.xlim([0.0, 1.0])\n",
    "plt.ylim([0.0, 1.05])\n",
    "plt.xlabel('False Positive Rate')\n",
    "plt.ylabel('True Positive Rate')\n",
    "plt.title('ROC Curve - Train and Valid Data')\n",
    "plt.legend(loc=\"lower right\")\n",
    "plt.show()"
   ]
  },
  {
   "cell_type": "code",
   "execution_count": 91,
   "id": "6a6bd3fd",
   "metadata": {},
   "outputs": [
    {
     "data": {
      "image/png": "[encoded data removed]",
      "text/plain": [
       "<Figure size 1500x1200 with 16 Axes>"
      ]
     },
     "metadata": {},
     "output_type": "display_data"
    }
   ],
   "source": [
    "# Plot confusion matrix\n",
    "fig,ax = plt.subplots(figsize=(15,12),nrows=4, ncols=2)\n",
    "\n",
    "ax[0,0].set_title(\"BOW (Train)\")\n",
    "dispbow0 = ConfusionMatrixDisplay(confusion_matrix=cm_bow_train).plot(include_values=True, ax=ax[0,0])\n",
    "ax[0,1].set_title(\"BOW (Valid)\")\n",
    "dispbow1 = ConfusionMatrixDisplay(confusion_matrix=cm_bow_valid).plot(include_values=True, ax=ax[0,1])\n",
    "ax[1,0].set_title(\"SBOW (Train)\")\n",
    "dispbow2 = ConfusionMatrixDisplay(confusion_matrix=cm_sbow_train).plot(include_values=True, ax=ax[1,0])\n",
    "ax[1,1].set_title(\"SBOW (Valid)\")\n",
    "dispbow3 = ConfusionMatrixDisplay(confusion_matrix=cm_sbow_valid).plot(include_values=True, ax=ax[1,1])\n",
    "ax[2,0].set_title(\"TF_IDF (Train)\")\n",
    "dispbow4 = ConfusionMatrixDisplay(confusion_matrix=cm_tfidf_train).plot(include_values=True, ax=ax[2,0])\n",
    "ax[2,1].set_title(\"TF_IDF (Valid)\")\n",
    "dispbow5 = ConfusionMatrixDisplay(confusion_matrix=cm_tfidf_valid).plot(include_values=True, ax=ax[2,1])\n",
    "ax[3,0].set_title(\"W2VEC (Train)\")\n",
    "dispbow6 = ConfusionMatrixDisplay(confusion_matrix=cm_w2vec_train).plot(include_values=True, ax=ax[3,0])\n",
    "ax[3,1].set_title(\"W2VEC (Valid)\")\n",
    "dispbow7 = ConfusionMatrixDisplay(confusion_matrix=cm_w2vec_valid).plot(include_values=True, ax=ax[3,1])\n",
    "\n",
    "# dispbow0.plot(ax=ax0)\n",
    "fig.suptitle(\"Confusion Matrices by Model\\n\\n\\n\\n\", size=12, y=0.93)\n",
    "plt.tight_layout()\n",
    "plt.show()"
   ]
  },
  {
   "cell_type": "code",
   "execution_count": null,
   "id": "254e60d9",
   "metadata": {},
   "outputs": [],
   "source": []
  },
  {
   "cell_type": "code",
   "execution_count": null,
   "id": "a1115b50",
   "metadata": {},
   "outputs": [],
   "source": []
  },
  {
   "cell_type": "code",
   "execution_count": null,
   "id": "1b714f2a",
   "metadata": {},
   "outputs": [],
   "source": []
  },
  {
   "cell_type": "code",
   "execution_count": null,
   "id": "aba7418e",
   "metadata": {},
   "outputs": [],
   "source": []
  },
  {
   "cell_type": "code",
   "execution_count": null,
   "id": "ccc6eda9",
   "metadata": {},
   "outputs": [],
   "source": []
  },
  {
   "cell_type": "code",
   "execution_count": null,
   "id": "8e10fc90",
   "metadata": {},
   "outputs": [],
   "source": []
  },
  {
   "cell_type": "code",
   "execution_count": null,
   "id": "e7519548",
   "metadata": {},
   "outputs": [],
   "source": []
  },
  {
   "cell_type": "code",
   "execution_count": null,
   "id": "4468163a",
   "metadata": {},
   "outputs": [],
   "source": []
  },
  {
   "cell_type": "code",
   "execution_count": null,
   "id": "3463e5da",
   "metadata": {},
   "outputs": [],
   "source": []
  },
  {
   "cell_type": "code",
   "execution_count": null,
   "id": "14fbc99a",
   "metadata": {},
   "outputs": [],
   "source": []
  },
  {
   "cell_type": "code",
   "execution_count": null,
   "id": "fa28f2dc",
   "metadata": {},
   "outputs": [],
   "source": []
  },
  {
   "cell_type": "code",
   "execution_count": null,
   "id": "6162509f",
   "metadata": {},
   "outputs": [],
   "source": []
  }
 ],
 "metadata": {
  "kernelspec": {
   "display_name": "av",
   "language": "python",
   "name": "av"
  },
  "language_info": {
   "codemirror_mode": {
    "name": "ipython",
    "version": 3
   },
   "file_extension": ".py",
   "mimetype": "text/x-python",
   "name": "python",
   "nbconvert_exporter": "python",
   "pygments_lexer": "ipython3",
   "version": "3.11.5"
  }
 },
 "nbformat": 4,
 "nbformat_minor": 5
}
