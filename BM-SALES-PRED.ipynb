{
 "cells": [
  {
   "cell_type": "markdown",
   "id": "7592f28f",
   "metadata": {},
   "source": [
    "# Sales Prediction for Big Mart Outlets\n",
    "\n",
    "### By Archit Pandya"
   ]
  },
  {
   "cell_type": "markdown",
   "id": "286f5991",
   "metadata": {},
   "source": [
    "## Agenda\n",
    "1. **[About the Dataset](#1)**\n",
    "2. **[Objective](#2)**\n",
    "3. **Loading Libraries**\n",
    "4. **Loading Data**\n",
    "5. **View Data**\n",
    "6. **Separate Input Features and Output Features**\n",
    "7. **Split The Data into Train and Test Set**\n",
    "8. **Preprocess Data**\n",
    "    <br>8.1. Typecast 'Object' Data type into 'Categorical' datatype\n",
    "    <br>8.2. Impute Missing Values\n",
    "    <br>8.3. Feature Engineering: Create new columns using 'Bins'\n",
    "    <br>8.4. Clean Categories (Before Encoding)\n",
    "    <br>8.5. Perform 'Ordinal Encoding'\n",
    "    <br>8.6. Perform 'Frequency Encoding'\n",
    "    <br>8.7. Perform 'Min Max Scaling\n",
    "    <br>8.8. Save Dataframe\n",
    "    <br>8.9. Define 'Baseline Model' Performance\n",
    "9. **Build Keras 'Sequential' Neural Network Model**\n",
    "    <br>9.1. Define Neural Network Architecture of the Model\n",
    "    <br>9.2. Model Summary\n",
    "    <br>9.3. Compile the Model (Loss Function and Optimizer)\n",
    "    <br>9.4. Train the Model\n",
    "    <br>9.5. 'Evaluate' Train and Valid Datasets\n",
    "    <br>9.6. Visualize Model Performance (Train and Valid Datasets)\n",
    "    <br>9.7. Plot the Distribution\n",
    "    <br>9.8. Predict and Save Test Dataset\n",
    "10. **Build Keras 'Functional' Neural Network Model**\n",
    "    <br>10.1. Define Input, Output Neurons\n",
    "    <br>10.2. Define the Architecture Using Functional API\n",
    "    <br>10.3. Compile and Train the Model (Loss Function and Optimizer)\n",
    "    <br>10.4. 'Evaluate' Train and Valid Datasets\n",
    "    <br>10.5. Visualize Model Performance (Train and Valid Datasets)\n",
    "    <br>10.6. Plot the Distribution\n",
    "    <br>10.7. Predict and Save Test Dataset\n",
    "11. **Build Keras Functional Neural Network Using 'KerasTuner'**\n",
    "    <br>11.1. Define the Architecture Using Functional API\n",
    "    <br>11.2. Instantiate 'RamdsonSearch' Tuner Object\n",
    "    <br>11.3. Train the Model Using Hyperparameter Tuning Search\n",
    "    <br>11.4. Get the 'Best Hyperparameters'\n",
    "    <br>11.5. Build BestModel Using 'Hypermodel'\n",
    "    <br>11.6. 'Evaluate' Train and Valid Datasets\n",
    "    <br>11.7. Visualize Model Performance (Train and Valid Datasets)\n",
    "    <br>11.8. Plot the Distribution\n",
    "    <br>11.9. Predict and Save Test Dataset"
   ]
  },
  {
   "cell_type": "markdown",
   "id": "4e5cad04",
   "metadata": {},
   "source": [
    "## 1. About the BigMart Dataset<a id='1'></a>"
   ]
  },
  {
   "cell_type": "markdown",
   "id": "e85b7eda",
   "metadata": {},
   "source": [
    "The data scientists at BigMart have collected 2013 sales data for 1559 products across 10 stores in different cities. Also, certain attributes of each product and store have been defined. Please note that the data may have missing values as some stores might not report all the data due to technical glitches. Hence, it will be required to treat them accordingly. We have train (8523) and test (5681) data set, train data set has both input and output variable(s). You need to predict the sales for test data set."
   ]
  },
  {
   "cell_type": "markdown",
   "id": "5a75bbd5",
   "metadata": {},
   "source": [
    "Train file: CSV containing the item outlet information with sales value\n",
    "\n",
    "**`Variable:`** Description\n",
    "<br>\n",
    "<br>**`Item_Identifier:`** Unique product ID\n",
    "<br>**`Item_Weight:`** Weight of product\n",
    "<br>**`Item_Fat_Content:`** Whether the product is low fat or not\n",
    "<br>**`Item_Visibility:`** The % of total display area of all products in a store allocated to the particular product\n",
    "<br>**`Item_Type:`** The category to which the product belongs\n",
    "<br>**`Item_MRP:`** Maximum Retail Price (list price) of the product\n",
    "<br>**`Outlet_Identifier:`** Unique store ID\n",
    "<br>**`Outlet_Establishment_Year:`** The year in which store was established\n",
    "<br>**`Outlet_Size:`** The size of the store in terms of ground area covered\n",
    "<br>**`Outlet_Location_Type:`** The type of city in which the store is located\n",
    "<br>**`Outlet_Type:`** Whether the outlet is just a grocery store or some sort of supermarket\n",
    "\n",
    "**Target**\n",
    "<br>**`Item_Outlet_Sales:`** Sales of the product in the particular store. This is the outcome variable to be predicted.\n"
   ]
  },
  {
   "cell_type": "markdown",
   "id": "be78d960-4745-4884-bb84-a59a76174c31",
   "metadata": {},
   "source": [
    "## 2. Objective<a id='2'></a>"
   ]
  },
  {
   "cell_type": "markdown",
   "id": "62b51bd8",
   "metadata": {},
   "source": [
    "The aim is to build a predictive model and predict the sales of each product at a particular outlet.\n",
    "\n",
    "Using this model, BigMart will try to understand the properties of products and outlets which play a key role in increasing sales."
   ]
  },
  {
   "cell_type": "markdown",
   "id": "a74cb8c4-35d1-472e-89a1-a9f594877521",
   "metadata": {},
   "source": [
    "## 3. Loading the Libraries</a><a id='3'></a>"
   ]
  },
  {
   "cell_type": "markdown",
   "id": "af45a6c7",
   "metadata": {},
   "source": [
    "In data science, numpy and pandas are most commonly used libraries. Numpy is required for calculations like means, medians, square roots, etc. Pandas is used for data processing and data frames. Matplotlib is used for data visualization. We chose alias names for our libraries for the sake of our convenience (numpy --> np and pandas --> pd, matplotlib.pyplot as plt).\n",
    "\n",
    "**pyplot:** pyplot is matplotlib's plotting framework. It is the most used module of matplotlib."
   ]
  },
  {
   "cell_type": "code",
   "execution_count": 1,
   "id": "dfdca84b",
   "metadata": {},
   "outputs": [
    {
     "name": "stdout",
     "output_type": "stream",
     "text": [
      "Imported Libraries\n"
     ]
    }
   ],
   "source": [
    "# importing packages\n",
    "\n",
    "import numpy  as np # to perform calculations \n",
    "import pandas as pd # to read data\n",
    "import matplotlib.pyplot as plt # to visualise\n",
    "import seaborn as sns\n",
    "\n",
    "from scipy.stats import f_oneway\n",
    "from scipy.stats import boxcox\n",
    "\n",
    "from sklearn.model_selection import train_test_split\n",
    "\n",
    "%matplotlib inline\n",
    "\n",
    "import warnings\n",
    "warnings.filterwarnings('ignore')\n",
    "\n",
    "print('Imported Libraries')"
   ]
  },
  {
   "cell_type": "markdown",
   "id": "a9b087f5",
   "metadata": {},
   "source": [
    "## 4. Loading Data</a><a id='4'></a>"
   ]
  },
  {
   "cell_type": "code",
   "execution_count": 2,
   "id": "0daa95e3",
   "metadata": {},
   "outputs": [],
   "source": [
    "# The BM data file is assumed to be available in the same folder where folder of this notebook\n",
    "\n",
    "bm_sales_train = pd.read_csv('train_XnW6LSF.csv')\n",
    "bm_sales_test  = pd.read_csv('test_FewQE9B.csv')\n",
    "bm_sales_pred  = pd.read_csv('test_FewQE9B.csv',usecols=['Item_Identifier','Outlet_Identifier'])\n",
    "\n",
    "# Item Identifier does not have significant role to play in model design; hence, it can be dropped.\n",
    "bm_sales_train = bm_sales_train.drop('Item_Identifier',axis=1)\n",
    "bm_sales_test  = bm_sales_test.drop('Item_Identifier',axis=1)"
   ]
  },
  {
   "cell_type": "markdown",
   "id": "fa4d1aba",
   "metadata": {},
   "source": [
    "## 5. View Data</a><a id='5'></a>"
   ]
  },
  {
   "cell_type": "code",
   "execution_count": 3,
   "id": "5e7fae1d",
   "metadata": {},
   "outputs": [
    {
     "data": {
      "text/html": [
       "<div>\n",
       "<style scoped>\n",
       "    .dataframe tbody tr th:only-of-type {\n",
       "        vertical-align: middle;\n",
       "    }\n",
       "\n",
       "    .dataframe tbody tr th {\n",
       "        vertical-align: top;\n",
       "    }\n",
       "\n",
       "    .dataframe thead th {\n",
       "        text-align: right;\n",
       "    }\n",
       "</style>\n",
       "<table border=\"1\" class=\"dataframe\">\n",
       "  <thead>\n",
       "    <tr style=\"text-align: right;\">\n",
       "      <th></th>\n",
       "      <th>Item_Weight</th>\n",
       "      <th>Item_Fat_Content</th>\n",
       "      <th>Item_Visibility</th>\n",
       "      <th>Item_Type</th>\n",
       "      <th>Item_MRP</th>\n",
       "      <th>Outlet_Identifier</th>\n",
       "      <th>Outlet_Establishment_Year</th>\n",
       "      <th>Outlet_Size</th>\n",
       "      <th>Outlet_Location_Type</th>\n",
       "      <th>Outlet_Type</th>\n",
       "      <th>Item_Outlet_Sales</th>\n",
       "    </tr>\n",
       "  </thead>\n",
       "  <tbody>\n",
       "    <tr>\n",
       "      <th>0</th>\n",
       "      <td>9.30</td>\n",
       "      <td>Low Fat</td>\n",
       "      <td>0.016047</td>\n",
       "      <td>Dairy</td>\n",
       "      <td>249.8092</td>\n",
       "      <td>OUT049</td>\n",
       "      <td>1999</td>\n",
       "      <td>Medium</td>\n",
       "      <td>Tier 1</td>\n",
       "      <td>Supermarket Type1</td>\n",
       "      <td>3735.1380</td>\n",
       "    </tr>\n",
       "    <tr>\n",
       "      <th>1</th>\n",
       "      <td>5.92</td>\n",
       "      <td>Regular</td>\n",
       "      <td>0.019278</td>\n",
       "      <td>Soft Drinks</td>\n",
       "      <td>48.2692</td>\n",
       "      <td>OUT018</td>\n",
       "      <td>2009</td>\n",
       "      <td>Medium</td>\n",
       "      <td>Tier 3</td>\n",
       "      <td>Supermarket Type2</td>\n",
       "      <td>443.4228</td>\n",
       "    </tr>\n",
       "    <tr>\n",
       "      <th>2</th>\n",
       "      <td>17.50</td>\n",
       "      <td>Low Fat</td>\n",
       "      <td>0.016760</td>\n",
       "      <td>Meat</td>\n",
       "      <td>141.6180</td>\n",
       "      <td>OUT049</td>\n",
       "      <td>1999</td>\n",
       "      <td>Medium</td>\n",
       "      <td>Tier 1</td>\n",
       "      <td>Supermarket Type1</td>\n",
       "      <td>2097.2700</td>\n",
       "    </tr>\n",
       "    <tr>\n",
       "      <th>3</th>\n",
       "      <td>19.20</td>\n",
       "      <td>Regular</td>\n",
       "      <td>0.000000</td>\n",
       "      <td>Fruits and Vegetables</td>\n",
       "      <td>182.0950</td>\n",
       "      <td>OUT010</td>\n",
       "      <td>1998</td>\n",
       "      <td>NaN</td>\n",
       "      <td>Tier 3</td>\n",
       "      <td>Grocery Store</td>\n",
       "      <td>732.3800</td>\n",
       "    </tr>\n",
       "    <tr>\n",
       "      <th>4</th>\n",
       "      <td>8.93</td>\n",
       "      <td>Low Fat</td>\n",
       "      <td>0.000000</td>\n",
       "      <td>Household</td>\n",
       "      <td>53.8614</td>\n",
       "      <td>OUT013</td>\n",
       "      <td>1987</td>\n",
       "      <td>High</td>\n",
       "      <td>Tier 3</td>\n",
       "      <td>Supermarket Type1</td>\n",
       "      <td>994.7052</td>\n",
       "    </tr>\n",
       "  </tbody>\n",
       "</table>\n",
       "</div>"
      ],
      "text/plain": [
       "   Item_Weight Item_Fat_Content  Item_Visibility              Item_Type  \\\n",
       "0         9.30          Low Fat         0.016047                  Dairy   \n",
       "1         5.92          Regular         0.019278            Soft Drinks   \n",
       "2        17.50          Low Fat         0.016760                   Meat   \n",
       "3        19.20          Regular         0.000000  Fruits and Vegetables   \n",
       "4         8.93          Low Fat         0.000000              Household   \n",
       "\n",
       "   Item_MRP Outlet_Identifier  Outlet_Establishment_Year Outlet_Size  \\\n",
       "0  249.8092            OUT049                       1999      Medium   \n",
       "1   48.2692            OUT018                       2009      Medium   \n",
       "2  141.6180            OUT049                       1999      Medium   \n",
       "3  182.0950            OUT010                       1998         NaN   \n",
       "4   53.8614            OUT013                       1987        High   \n",
       "\n",
       "  Outlet_Location_Type        Outlet_Type  Item_Outlet_Sales  \n",
       "0               Tier 1  Supermarket Type1          3735.1380  \n",
       "1               Tier 3  Supermarket Type2           443.4228  \n",
       "2               Tier 1  Supermarket Type1          2097.2700  \n",
       "3               Tier 3      Grocery Store           732.3800  \n",
       "4               Tier 3  Supermarket Type1           994.7052  "
      ]
     },
     "execution_count": 3,
     "metadata": {},
     "output_type": "execute_result"
    }
   ],
   "source": [
    "bm_sales_train.head()"
   ]
  },
  {
   "cell_type": "code",
   "execution_count": 4,
   "id": "7ee2a1e0",
   "metadata": {},
   "outputs": [
    {
     "data": {
      "text/html": [
       "<div>\n",
       "<style scoped>\n",
       "    .dataframe tbody tr th:only-of-type {\n",
       "        vertical-align: middle;\n",
       "    }\n",
       "\n",
       "    .dataframe tbody tr th {\n",
       "        vertical-align: top;\n",
       "    }\n",
       "\n",
       "    .dataframe thead th {\n",
       "        text-align: right;\n",
       "    }\n",
       "</style>\n",
       "<table border=\"1\" class=\"dataframe\">\n",
       "  <thead>\n",
       "    <tr style=\"text-align: right;\">\n",
       "      <th></th>\n",
       "      <th>Item_Weight</th>\n",
       "      <th>Item_Fat_Content</th>\n",
       "      <th>Item_Visibility</th>\n",
       "      <th>Item_Type</th>\n",
       "      <th>Item_MRP</th>\n",
       "      <th>Outlet_Identifier</th>\n",
       "      <th>Outlet_Establishment_Year</th>\n",
       "      <th>Outlet_Size</th>\n",
       "      <th>Outlet_Location_Type</th>\n",
       "      <th>Outlet_Type</th>\n",
       "    </tr>\n",
       "  </thead>\n",
       "  <tbody>\n",
       "    <tr>\n",
       "      <th>0</th>\n",
       "      <td>20.750</td>\n",
       "      <td>Low Fat</td>\n",
       "      <td>0.007565</td>\n",
       "      <td>Snack Foods</td>\n",
       "      <td>107.8622</td>\n",
       "      <td>OUT049</td>\n",
       "      <td>1999</td>\n",
       "      <td>Medium</td>\n",
       "      <td>Tier 1</td>\n",
       "      <td>Supermarket Type1</td>\n",
       "    </tr>\n",
       "    <tr>\n",
       "      <th>1</th>\n",
       "      <td>8.300</td>\n",
       "      <td>reg</td>\n",
       "      <td>0.038428</td>\n",
       "      <td>Dairy</td>\n",
       "      <td>87.3198</td>\n",
       "      <td>OUT017</td>\n",
       "      <td>2007</td>\n",
       "      <td>NaN</td>\n",
       "      <td>Tier 2</td>\n",
       "      <td>Supermarket Type1</td>\n",
       "    </tr>\n",
       "    <tr>\n",
       "      <th>2</th>\n",
       "      <td>14.600</td>\n",
       "      <td>Low Fat</td>\n",
       "      <td>0.099575</td>\n",
       "      <td>Others</td>\n",
       "      <td>241.7538</td>\n",
       "      <td>OUT010</td>\n",
       "      <td>1998</td>\n",
       "      <td>NaN</td>\n",
       "      <td>Tier 3</td>\n",
       "      <td>Grocery Store</td>\n",
       "    </tr>\n",
       "    <tr>\n",
       "      <th>3</th>\n",
       "      <td>7.315</td>\n",
       "      <td>Low Fat</td>\n",
       "      <td>0.015388</td>\n",
       "      <td>Snack Foods</td>\n",
       "      <td>155.0340</td>\n",
       "      <td>OUT017</td>\n",
       "      <td>2007</td>\n",
       "      <td>NaN</td>\n",
       "      <td>Tier 2</td>\n",
       "      <td>Supermarket Type1</td>\n",
       "    </tr>\n",
       "    <tr>\n",
       "      <th>4</th>\n",
       "      <td>NaN</td>\n",
       "      <td>Regular</td>\n",
       "      <td>0.118599</td>\n",
       "      <td>Dairy</td>\n",
       "      <td>234.2300</td>\n",
       "      <td>OUT027</td>\n",
       "      <td>1985</td>\n",
       "      <td>Medium</td>\n",
       "      <td>Tier 3</td>\n",
       "      <td>Supermarket Type3</td>\n",
       "    </tr>\n",
       "  </tbody>\n",
       "</table>\n",
       "</div>"
      ],
      "text/plain": [
       "   Item_Weight Item_Fat_Content  Item_Visibility    Item_Type  Item_MRP  \\\n",
       "0       20.750          Low Fat         0.007565  Snack Foods  107.8622   \n",
       "1        8.300              reg         0.038428        Dairy   87.3198   \n",
       "2       14.600          Low Fat         0.099575       Others  241.7538   \n",
       "3        7.315          Low Fat         0.015388  Snack Foods  155.0340   \n",
       "4          NaN          Regular         0.118599        Dairy  234.2300   \n",
       "\n",
       "  Outlet_Identifier  Outlet_Establishment_Year Outlet_Size  \\\n",
       "0            OUT049                       1999      Medium   \n",
       "1            OUT017                       2007         NaN   \n",
       "2            OUT010                       1998         NaN   \n",
       "3            OUT017                       2007         NaN   \n",
       "4            OUT027                       1985      Medium   \n",
       "\n",
       "  Outlet_Location_Type        Outlet_Type  \n",
       "0               Tier 1  Supermarket Type1  \n",
       "1               Tier 2  Supermarket Type1  \n",
       "2               Tier 3      Grocery Store  \n",
       "3               Tier 2  Supermarket Type1  \n",
       "4               Tier 3  Supermarket Type3  "
      ]
     },
     "execution_count": 4,
     "metadata": {},
     "output_type": "execute_result"
    }
   ],
   "source": [
    "bm_sales_test.head()"
   ]
  },
  {
   "cell_type": "code",
   "execution_count": 5,
   "id": "81271595",
   "metadata": {},
   "outputs": [
    {
     "name": "stdout",
     "output_type": "stream",
     "text": [
      "<class 'pandas.core.frame.DataFrame'>\n",
      "RangeIndex: 8523 entries, 0 to 8522\n",
      "Data columns (total 11 columns):\n",
      " #   Column                     Non-Null Count  Dtype  \n",
      "---  ------                     --------------  -----  \n",
      " 0   Item_Weight                7060 non-null   float64\n",
      " 1   Item_Fat_Content           8523 non-null   object \n",
      " 2   Item_Visibility            8523 non-null   float64\n",
      " 3   Item_Type                  8523 non-null   object \n",
      " 4   Item_MRP                   8523 non-null   float64\n",
      " 5   Outlet_Identifier          8523 non-null   object \n",
      " 6   Outlet_Establishment_Year  8523 non-null   int64  \n",
      " 7   Outlet_Size                6113 non-null   object \n",
      " 8   Outlet_Location_Type       8523 non-null   object \n",
      " 9   Outlet_Type                8523 non-null   object \n",
      " 10  Item_Outlet_Sales          8523 non-null   float64\n",
      "dtypes: float64(4), int64(1), object(6)\n",
      "memory usage: 732.6+ KB\n"
     ]
    }
   ],
   "source": [
    "bm_sales_train.info()"
   ]
  },
  {
   "cell_type": "code",
   "execution_count": 6,
   "id": "48b7583b",
   "metadata": {},
   "outputs": [
    {
     "name": "stdout",
     "output_type": "stream",
     "text": [
      "<class 'pandas.core.frame.DataFrame'>\n",
      "RangeIndex: 5681 entries, 0 to 5680\n",
      "Data columns (total 10 columns):\n",
      " #   Column                     Non-Null Count  Dtype  \n",
      "---  ------                     --------------  -----  \n",
      " 0   Item_Weight                4705 non-null   float64\n",
      " 1   Item_Fat_Content           5681 non-null   object \n",
      " 2   Item_Visibility            5681 non-null   float64\n",
      " 3   Item_Type                  5681 non-null   object \n",
      " 4   Item_MRP                   5681 non-null   float64\n",
      " 5   Outlet_Identifier          5681 non-null   object \n",
      " 6   Outlet_Establishment_Year  5681 non-null   int64  \n",
      " 7   Outlet_Size                4075 non-null   object \n",
      " 8   Outlet_Location_Type       5681 non-null   object \n",
      " 9   Outlet_Type                5681 non-null   object \n",
      "dtypes: float64(3), int64(1), object(6)\n",
      "memory usage: 444.0+ KB\n"
     ]
    }
   ],
   "source": [
    "bm_sales_test.info()"
   ]
  },
  {
   "cell_type": "markdown",
   "id": "cf814a51-008e-4425-bf08-20d4da69222d",
   "metadata": {},
   "source": [
    "## 6. Separate Input Features and Output Features</a><a id='6'></a>"
   ]
  },
  {
   "cell_type": "markdown",
   "id": "572de476",
   "metadata": {},
   "source": [
    "Before building any machine learning model, we always separate the input variables and output variables. Input variables are those quantities whose values are changed naturally in an experiment, whereas output variable is the one whose values are dependent on the input variables. So, input variables are also known as independent variables as its values are not dependent on any other quantity, and output variable/s are also known as dependent variables as its values are dependent on other variable i.e. input variables. Like here in this data, we are trying to predict the price of a houce, so this is our target column i.e. 'MEDV'\n",
    "\n",
    "By convention input variables are represented with 'X' and output variables are represented with 'y'."
   ]
  },
  {
   "cell_type": "code",
   "execution_count": 7,
   "id": "1126a9e6",
   "metadata": {},
   "outputs": [],
   "source": [
    "# Function to separate input and output variables\n",
    "\n",
    "def func_make_input_output(data,target,train_or_test):\n",
    "    \n",
    "    #Input variable / feature\n",
    "    if train_or_test == 'train':\n",
    "        x = data.drop(target, axis = 1)\n",
    "        y = data[target]\n",
    "        \n",
    "        return x,y\n",
    "    else:\n",
    "        x = data\n",
    "        return x"
   ]
  },
  {
   "cell_type": "code",
   "execution_count": 8,
   "id": "f3059284",
   "metadata": {},
   "outputs": [
    {
     "data": {
      "text/plain": [
       "((8523, 10), (8523,), (5681, 10))"
      ]
     },
     "execution_count": 8,
     "metadata": {},
     "output_type": "execute_result"
    }
   ],
   "source": [
    "# Separate input and output variables\n",
    "\n",
    "X_features_train,y_target_train = func_make_input_output(bm_sales_train,'Item_Outlet_Sales','train')\n",
    "X_features_test                 = func_make_input_output(bm_sales_test, 'Item_Outlet_Sales','test')\n",
    "\n",
    "X_features_train.shape,y_target_train.shape,X_features_test.shape"
   ]
  },
  {
   "cell_type": "markdown",
   "id": "f8a09a05-f4cc-4202-8ade-9644fce7e45b",
   "metadata": {},
   "source": [
    "## 7. Split the data</a><a id='7'></a>"
   ]
  },
  {
   "cell_type": "markdown",
   "id": "ac2ff963",
   "metadata": {},
   "source": [
    "We want to check the performance of the model that we built. For this purpose, we always split (both input and output data) the given data into training set which will be used to train the model, and test set which will be used to check how accurately the model is predicting outcomes.\n",
    "\n",
    "For this purpose we have a class called 'train_test_split' in the 'sklearn.model_selection' module.\n",
    "\n",
    "We split 80% of the data to the training set while 20% of the data to test set using below code.\n",
    "The test_size variable is where we actually specify the proportion of the test set.\n",
    "\n",
    "By passing our X and y variables into the train_test_split method, we are able to capture the splits in data by assigning 4 variables to the result."
   ]
  },
  {
   "cell_type": "code",
   "execution_count": 9,
   "id": "bff2ea33",
   "metadata": {},
   "outputs": [],
   "source": [
    "# Function to split features into Train and Test datasets\n",
    "\n",
    "def func_train_test_split(x_feature,y_target):\n",
    "    \n",
    "    # X_train: independent/input feature data for training the model\n",
    "    # y_train: dependent/output feature data for training the model\n",
    "    # X_test:  independent/input feature data for testing the model; will be used to predict the output values\n",
    "    # y_test:  original dependent/output values of X_test; We will compare this values with our predicted values \n",
    "    #          to check the performance of our built model.\n",
    "\n",
    "    # test_size = 0.20: 20% of the data will go for test set and 70% of the data will go for train set\n",
    "    # random_state = 42: this will fix the split i.e. there will be same split for each time you run the code\n",
    "\n",
    "    # Assign variables to capture train test split output\n",
    "    X_train, X_valid, y_train, y_valid = train_test_split(x_feature,y_target, test_size=0.2, random_state=42, shuffle=True)\n",
    "    \n",
    "    return X_train, X_valid, y_train, y_valid\n",
    "    "
   ]
  },
  {
   "cell_type": "code",
   "execution_count": 10,
   "id": "12aca747",
   "metadata": {},
   "outputs": [
    {
     "data": {
      "text/plain": [
       "((6818, 10), (6818,), (1705, 10), (1705,))"
      ]
     },
     "execution_count": 10,
     "metadata": {},
     "output_type": "execute_result"
    }
   ],
   "source": [
    "# Split X and y features into Train and Valid Datasets\n",
    "\n",
    "X_train, X_valid, y_train, y_valid = func_train_test_split(X_features_train,y_target_train)\n",
    "X_train.shape,y_train.shape,X_valid.shape,y_valid.shape"
   ]
  },
  {
   "cell_type": "code",
   "execution_count": 11,
   "id": "304ab62c-c536-4e32-b66d-0dd385fc665a",
   "metadata": {},
   "outputs": [],
   "source": [
    "y_train_df = pd.DataFrame(y_train)\n",
    "y_valid_df = pd.DataFrame(y_valid)\n",
    "y_train_df.columns = ['Item_Outlet_Sales']\n",
    "y_valid_df.columns = ['Item_Outlet_Sales']"
   ]
  },
  {
   "cell_type": "markdown",
   "id": "ad0004db",
   "metadata": {},
   "source": [
    "## 8. Preprocess Data</a><a id='8'></a>"
   ]
  },
  {
   "cell_type": "markdown",
   "id": "57eae2d2",
   "metadata": {},
   "source": [
    "### 8.1 Typecast Feature datatype</a><a id='8.1'></a>"
   ]
  },
  {
   "cell_type": "code",
   "execution_count": 12,
   "id": "aa6c9ef6",
   "metadata": {},
   "outputs": [],
   "source": [
    "# Create feature list by data type\n",
    "\n",
    "def func_list_obj_types(df,col_type):\n",
    "    \n",
    "    # List based on shared data type\n",
    "    if col_type == 'object':\n",
    "        list_dtypes = [col for col in df.columns if df[col].dtype == ('object')]\n",
    "    else:\n",
    "        # list_dtypes = df.select_dtypes(include=['int64','float64']).columns\n",
    "        list_dtypes = [col for col in df.columns if df[col].dtype in ('int64','float64')]\n",
    "        \n",
    "    return list_dtypes"
   ]
  },
  {
   "cell_type": "code",
   "execution_count": 13,
   "id": "067b1ba6",
   "metadata": {},
   "outputs": [],
   "source": [
    "# Create Feature list\n",
    "\n",
    "X_train_obj_types = func_list_obj_types(X_train,'object')\n",
    "X_valid_obj_types = func_list_obj_types(X_valid,'object')\n",
    "X_test_obj_types  = func_list_obj_types(X_features_test,'object')\n",
    "#\n",
    "X_train_num_types = func_list_obj_types(X_train,'int')\n",
    "X_valid_num_types = func_list_obj_types(X_valid,'int')\n",
    "X_test_num_types  = func_list_obj_types(X_features_test,'int')"
   ]
  },
  {
   "cell_type": "code",
   "execution_count": 14,
   "id": "43584697",
   "metadata": {},
   "outputs": [],
   "source": [
    "# Typecast 'Object' datatype into 'Category' Datatype\n",
    "\n",
    "def func_typecast_object_to_cat(dataset, list_of_cols_to_cat, datatype):\n",
    "    \n",
    "    #loop through the list to typecast each feature into 'Category'\n",
    "    for col in list_of_cols_to_cat:\n",
    "        dataset[col] = dataset[col].astype(datatype)\n",
    "        \n",
    "    return dataset"
   ]
  },
  {
   "cell_type": "code",
   "execution_count": 15,
   "id": "1c7705d0",
   "metadata": {},
   "outputs": [],
   "source": [
    "# Convert 'Object' datatypes iinto 'Category' of 'X_train'\n",
    "\n",
    "X_train = func_typecast_object_to_cat(X_train,          X_train_obj_types, 'category')\n",
    "X_valid = func_typecast_object_to_cat(X_valid,          X_valid_obj_types, 'category')\n",
    "X_test  = func_typecast_object_to_cat(X_features_test,  X_test_obj_types,  'category')"
   ]
  },
  {
   "cell_type": "code",
   "execution_count": 16,
   "id": "d19a579c",
   "metadata": {},
   "outputs": [
    {
     "name": "stdout",
     "output_type": "stream",
     "text": [
      "<class 'pandas.core.frame.DataFrame'>\n",
      "Index: 6818 entries, 549 to 7270\n",
      "Data columns (total 6 columns):\n",
      " #   Column                Non-Null Count  Dtype   \n",
      "---  ------                --------------  -----   \n",
      " 0   Item_Fat_Content      6818 non-null   category\n",
      " 1   Item_Type             6818 non-null   category\n",
      " 2   Outlet_Identifier     6818 non-null   category\n",
      " 3   Outlet_Size           4883 non-null   category\n",
      " 4   Outlet_Location_Type  6818 non-null   category\n",
      " 5   Outlet_Type           6818 non-null   category\n",
      "dtypes: category(6)\n",
      "memory usage: 94.9 KB\n"
     ]
    }
   ],
   "source": [
    "X_train[X_train_obj_types].info()"
   ]
  },
  {
   "cell_type": "code",
   "execution_count": 17,
   "id": "654e0e41",
   "metadata": {},
   "outputs": [
    {
     "name": "stdout",
     "output_type": "stream",
     "text": [
      "<class 'pandas.core.frame.DataFrame'>\n",
      "Index: 6818 entries, 549 to 7270\n",
      "Data columns (total 4 columns):\n",
      " #   Column                     Non-Null Count  Dtype  \n",
      "---  ------                     --------------  -----  \n",
      " 0   Item_Weight                5644 non-null   float64\n",
      " 1   Item_Visibility            6818 non-null   float64\n",
      " 2   Item_MRP                   6818 non-null   float64\n",
      " 3   Outlet_Establishment_Year  6818 non-null   int64  \n",
      "dtypes: float64(3), int64(1)\n",
      "memory usage: 266.3 KB\n"
     ]
    }
   ],
   "source": [
    "X_train[X_train_num_types].info()"
   ]
  },
  {
   "cell_type": "markdown",
   "id": "a8cbe828",
   "metadata": {},
   "source": [
    "### 8.2 Impute Missing Values</a><a id='8.2'></a>"
   ]
  },
  {
   "cell_type": "code",
   "execution_count": 18,
   "id": "fe625dc5",
   "metadata": {},
   "outputs": [
    {
     "data": {
      "text/plain": [
       "Item_Weight                  1174\n",
       "Item_Visibility                 0\n",
       "Item_MRP                        0\n",
       "Outlet_Establishment_Year       0\n",
       "dtype: int64"
      ]
     },
     "execution_count": 18,
     "metadata": {},
     "output_type": "execute_result"
    }
   ],
   "source": [
    "# Find missing numerical values for 'X_train'\n",
    "\n",
    "X_train[X_train_num_types].isnull().sum()"
   ]
  },
  {
   "cell_type": "code",
   "execution_count": 19,
   "id": "7bfbc3f7",
   "metadata": {
    "scrolled": true
   },
   "outputs": [
    {
     "data": {
      "text/plain": [
       "Item_Fat_Content           0\n",
       "Item_Type                  0\n",
       "Outlet_Identifier          0\n",
       "Outlet_Size             1935\n",
       "Outlet_Location_Type       0\n",
       "Outlet_Type                0\n",
       "dtype: int64"
      ]
     },
     "execution_count": 19,
     "metadata": {},
     "output_type": "execute_result"
    }
   ],
   "source": [
    "# Find missing categorical values for 'X_train'\n",
    "\n",
    "X_train[X_train_obj_types].isnull().sum()"
   ]
  },
  {
   "cell_type": "code",
   "execution_count": 20,
   "id": "a7ad1216",
   "metadata": {},
   "outputs": [],
   "source": [
    "# Impute given numerical variable with mean value\n",
    "\n",
    "def func_impute_missing_num_values_by_group(df, group_col, value_col):\n",
    "    \"\"\"Impute missing values in 'value_col' based \n",
    "    on the mean of each group in 'group_col'.\"\"\"\n",
    "\n",
    "    return df.groupby(group_col)[value_col].transform(lambda x: x.fillna(x.median()))"
   ]
  },
  {
   "cell_type": "code",
   "execution_count": 21,
   "id": "0b20544b",
   "metadata": {},
   "outputs": [],
   "source": [
    "# Impute given categorical variable with mode value\n",
    "\n",
    "def func_impute_missing_cat_values_by_group(df, group_col, value_col):\n",
    "    \"\"\"Impute missing values in 'value_col' based \n",
    "    on the mode of each group in 'group_col'.\"\"\"\n",
    "    \n",
    "    return df.groupby(group_col)[value_col].transform(lambda x: x.fillna(x.mode()[0]))"
   ]
  },
  {
   "cell_type": "code",
   "execution_count": 22,
   "id": "0b82aad4",
   "metadata": {},
   "outputs": [],
   "source": [
    "# Impute missing values for 'Item_Weight'\n",
    "\n",
    "X_train['Item_Weight']         = func_impute_missing_num_values_by_group(X_train, 'Item_Type', 'Item_Weight')\n",
    "X_valid['Item_Weight']         = func_impute_missing_num_values_by_group(X_valid, 'Item_Type', 'Item_Weight')\n",
    "X_features_test['Item_Weight'] = func_impute_missing_num_values_by_group(X_features_test, 'Item_Type', 'Item_Weight')\n",
    "\n",
    "# Impute missing values for 'Outlet_Size'\n",
    "\n",
    "X_train['Outlet_Size']         = func_impute_missing_cat_values_by_group(X_train, 'Outlet_Type', 'Outlet_Size')\n",
    "X_valid['Outlet_Size']         = func_impute_missing_cat_values_by_group(X_valid, 'Outlet_Type', 'Outlet_Size')\n",
    "X_features_test['Outlet_Size'] = func_impute_missing_cat_values_by_group(X_features_test, 'Outlet_Type', 'Outlet_Size')"
   ]
  },
  {
   "cell_type": "code",
   "execution_count": 23,
   "id": "c9d38c88",
   "metadata": {},
   "outputs": [
    {
     "data": {
      "text/plain": [
       "(0, 0, 0)"
      ]
     },
     "execution_count": 23,
     "metadata": {},
     "output_type": "execute_result"
    }
   ],
   "source": [
    "X_train.isnull().sum().sum(),X_valid.isnull().sum().sum(),X_features_test.isnull().sum().sum()"
   ]
  },
  {
   "cell_type": "markdown",
   "id": "74da79b8-8392-4bdd-a599-66fc290c6a26",
   "metadata": {},
   "source": [
    "### 8.3 Find Measure of Dispersion"
   ]
  },
  {
   "cell_type": "code",
   "execution_count": 24,
   "id": "c7acb268-8b45-4ac2-833e-d3a282813f09",
   "metadata": {},
   "outputs": [],
   "source": [
    "# Defining Interquartile Range\n",
    "\n",
    "def func_find_up_low_values(data, col):\n",
    "    \n",
    "    q1  = data[col].quantile(0.25)\n",
    "    q3  = data[col].quantile(0.75)\n",
    "    iqr = q3 - q1\n",
    "    up  = q3 + 1.5 * iqr\n",
    "    low = q1 - 1.5 * iqr\n",
    "    \n",
    "    return low, up"
   ]
  },
  {
   "cell_type": "code",
   "execution_count": 25,
   "id": "b379c7d3-6a31-4979-8a9c-8be35dd41ba5",
   "metadata": {},
   "outputs": [],
   "source": [
    "# Lets find which feature has any outliers ?\n",
    "\n",
    "def func_find_outlier(data, col, up, low):\n",
    "    outlier = data[(data[col] > up) | (data[col] < low)].any(axis='columns')\n",
    "    \n",
    "    return outlier"
   ]
  },
  {
   "cell_type": "code",
   "execution_count": 26,
   "id": "2c854dcf-5055-4500-9e31-2b51add87701",
   "metadata": {},
   "outputs": [],
   "source": [
    "# Lets add functionalty\n",
    "\n",
    "def func_outlier_thresholds(dataframe, col_name, q1=0.25, q3=0.75):\n",
    "    \n",
    "    quartile1 = dataframe[col_name].quantile(q1)\n",
    "    quartile3 = dataframe[col_name].quantile(q3)\n",
    "    interquantile_range = quartile3 - quartile1\n",
    "    \n",
    "    up_limit = quartile3 + 1.5 * interquantile_range\n",
    "    low_limit = quartile1 - 1.5 * interquantile_range\n",
    "    \n",
    "    return low_limit, up_limit"
   ]
  },
  {
   "cell_type": "code",
   "execution_count": 27,
   "id": "11cc655d-3217-4b60-b003-474e19969220",
   "metadata": {},
   "outputs": [],
   "source": [
    "# Identify Outliers from the numberical columns and plot displaying with other statistical values\n",
    "\n",
    "def func_identify_outliers(df, col_list):\n",
    "    \n",
    "    index = 0\n",
    "    j = 0\n",
    "    for col in col_list:\n",
    "        index += 1\n",
    "        j += 1\n",
    "        print(col, '--> Min: ',np.round(df[col].min(),2),' Max: ', np.round(df[col].max(),2), 'Mean: ', \n",
    "              np.round(df[col].mean(),2), 'Median: ', np.round(df[col].median(),2), \n",
    "              'Std Dev: ', np.round(df[col].std(),2))\n",
    "        \n",
    "        low, high = func_outlier_thresholds(df, col)\n",
    "        print(col, '--> low limit(Q1): ',np.round(low,2),' high limit(Q3): ',np.round(high,2),\n",
    "             ' IQR : ', np.round((high - low),2))\n",
    "        print(col, '--> Skewness: ',np.round(df[col].skew(),2))\n",
    "        is_outlier = func_find_outlier(df, col, low, high)\n",
    "        if is_outlier.any() == True:\n",
    "             print(col,\"--> has outliers\\n\")\n",
    "        else:\n",
    "             print(col, '--> has no outliers\\n')\n",
    "        j = 0"
   ]
  },
  {
   "cell_type": "code",
   "execution_count": 28,
   "id": "d8ee1f2c-92e2-4a09-b04e-244ebabb2310",
   "metadata": {},
   "outputs": [
    {
     "name": "stdout",
     "output_type": "stream",
     "text": [
      "Item_Weight --> Min:  4.56  Max:  21.35 Mean:  12.84 Median:  12.85 Std Dev:  4.24\n",
      "Item_Weight --> low limit(Q1):  -0.66  high limit(Q3):  26.16  IQR :  26.82\n",
      "Item_Weight --> Skewness:  0.12\n",
      "Item_Weight --> has outliers\n",
      "\n",
      "Item_Visibility --> Min:  0.0  Max:  0.33 Mean:  0.07 Median:  0.05 Std Dev:  0.05\n",
      "Item_Visibility --> low limit(Q1):  -0.07  high limit(Q3):  0.2  IQR :  0.27\n",
      "Item_Visibility --> Skewness:  1.16\n",
      "Item_Visibility --> has outliers\n",
      "\n",
      "Item_MRP --> Min:  31.29  Max:  266.89 Mean:  141.91 Median:  144.26 Std Dev:  62.55\n",
      "Item_MRP --> low limit(Q1):  -44.85  high limit(Q3):  325.88  IQR :  370.72\n",
      "Item_MRP --> Skewness:  0.11\n",
      "Item_MRP --> has outliers\n",
      "\n",
      "Outlet_Establishment_Year --> Min:  1985  Max:  2009 Mean:  1997.86 Median:  1999.0 Std Dev:  8.4\n",
      "Outlet_Establishment_Year --> low limit(Q1):  1961.5  high limit(Q3):  2029.5  IQR :  68.0\n",
      "Outlet_Establishment_Year --> Skewness:  -0.4\n",
      "Outlet_Establishment_Year --> has outliers\n",
      "\n"
     ]
    }
   ],
   "source": [
    "func_identify_outliers(X_train,X_train_num_types)"
   ]
  },
  {
   "cell_type": "code",
   "execution_count": 29,
   "id": "c8ea6774-59d5-4a75-9e50-b4cdd89c18fb",
   "metadata": {},
   "outputs": [
    {
     "name": "stdout",
     "output_type": "stream",
     "text": [
      "Item_Outlet_Sales --> Min:  33.29  Max:  13086.96 Mean:  2202.37 Median:  1808.31 Std Dev:  1720.02\n",
      "Item_Outlet_Sales --> low limit(Q1):  -2557.84  high limit(Q3):  6533.0  IQR :  9090.83\n",
      "Item_Outlet_Sales --> Skewness:  1.18\n",
      "Item_Outlet_Sales --> has outliers\n",
      "\n"
     ]
    }
   ],
   "source": [
    "func_identify_outliers(y_train_df,y_train_df.columns)"
   ]
  },
  {
   "cell_type": "markdown",
   "id": "c16a6998-2454-43a2-9da5-f6cf2611c9a4",
   "metadata": {},
   "source": [
    "### 8.4 Feature Engineering</a><a id='8.2'></a>"
   ]
  },
  {
   "cell_type": "markdown",
   "id": "a98d3c2a-c248-42a6-a5b3-1cab560884cb",
   "metadata": {},
   "source": [
    "#### 8.4.1 Normalize Skewed Features and Target"
   ]
  },
  {
   "cell_type": "code",
   "execution_count": 30,
   "id": "69ab2c58-afda-4207-a04e-d88d429dbb82",
   "metadata": {},
   "outputs": [],
   "source": [
    "# Apply log1p transformation using Numpy \n",
    "\n",
    "def func_transform_num_vars(df_train,df_valid,df_test,cols,y_tr,y_val):\n",
    "    \n",
    "    for col in cols:\n",
    "        df_train[col+'_log']=np.log1p(df_train[[col]])\n",
    "        df_valid[col+'_log']=np.log1p(df_valid[[col]])\n",
    "        df_test[col+'_log'] =np.log1p(df_test[[col]])\n",
    "    #------------------------------------------------------\n",
    "    y_log_tr  = np.log1p(y_tr)\n",
    "    y_log_val = np.log1p(y_val)\n",
    "    \n",
    "    return df_train,df_valid,df_test,pd.Series(y_log_tr),pd.Series(y_log_val)"
   ]
  },
  {
   "cell_type": "code",
   "execution_count": 31,
   "id": "2bb35292-a29e-47b9-948e-ea2baad4e90e",
   "metadata": {},
   "outputs": [],
   "source": [
    "X_train,X_valid,X_features_test,y_log_train,y_log_valid = \\\n",
    "    func_transform_num_vars(X_train,X_valid,X_features_test,X_train_num_types,y_train,y_valid)"
   ]
  },
  {
   "cell_type": "code",
   "execution_count": 32,
   "id": "23df1a5a-2663-45d1-961f-ff447eb2a69e",
   "metadata": {},
   "outputs": [
    {
     "data": {
      "text/html": [
       "<div>\n",
       "<style scoped>\n",
       "    .dataframe tbody tr th:only-of-type {\n",
       "        vertical-align: middle;\n",
       "    }\n",
       "\n",
       "    .dataframe tbody tr th {\n",
       "        vertical-align: top;\n",
       "    }\n",
       "\n",
       "    .dataframe thead th {\n",
       "        text-align: right;\n",
       "    }\n",
       "</style>\n",
       "<table border=\"1\" class=\"dataframe\">\n",
       "  <thead>\n",
       "    <tr style=\"text-align: right;\">\n",
       "      <th></th>\n",
       "      <th>Item_Weight</th>\n",
       "      <th>Item_Fat_Content</th>\n",
       "      <th>Item_Visibility</th>\n",
       "      <th>Item_Type</th>\n",
       "      <th>Item_MRP</th>\n",
       "      <th>Outlet_Identifier</th>\n",
       "      <th>Outlet_Establishment_Year</th>\n",
       "      <th>Outlet_Size</th>\n",
       "      <th>Outlet_Location_Type</th>\n",
       "      <th>Outlet_Type</th>\n",
       "      <th>Item_Weight_log</th>\n",
       "      <th>Item_Visibility_log</th>\n",
       "      <th>Item_MRP_log</th>\n",
       "      <th>Outlet_Establishment_Year_log</th>\n",
       "    </tr>\n",
       "  </thead>\n",
       "  <tbody>\n",
       "    <tr>\n",
       "      <th>549</th>\n",
       "      <td>9.500</td>\n",
       "      <td>Regular</td>\n",
       "      <td>0.035206</td>\n",
       "      <td>Fruits and Vegetables</td>\n",
       "      <td>171.3448</td>\n",
       "      <td>OUT049</td>\n",
       "      <td>1999</td>\n",
       "      <td>Medium</td>\n",
       "      <td>Tier 1</td>\n",
       "      <td>Supermarket Type1</td>\n",
       "      <td>2.351375</td>\n",
       "      <td>0.034600</td>\n",
       "      <td>5.149497</td>\n",
       "      <td>7.600902</td>\n",
       "    </tr>\n",
       "    <tr>\n",
       "      <th>7757</th>\n",
       "      <td>18.000</td>\n",
       "      <td>Low Fat</td>\n",
       "      <td>0.047473</td>\n",
       "      <td>Household</td>\n",
       "      <td>170.5422</td>\n",
       "      <td>OUT045</td>\n",
       "      <td>2002</td>\n",
       "      <td>Small</td>\n",
       "      <td>Tier 2</td>\n",
       "      <td>Supermarket Type1</td>\n",
       "      <td>2.944439</td>\n",
       "      <td>0.046381</td>\n",
       "      <td>5.144829</td>\n",
       "      <td>7.602401</td>\n",
       "    </tr>\n",
       "    <tr>\n",
       "      <th>764</th>\n",
       "      <td>17.600</td>\n",
       "      <td>Regular</td>\n",
       "      <td>0.076122</td>\n",
       "      <td>Meat</td>\n",
       "      <td>111.7202</td>\n",
       "      <td>OUT046</td>\n",
       "      <td>1997</td>\n",
       "      <td>Small</td>\n",
       "      <td>Tier 1</td>\n",
       "      <td>Supermarket Type1</td>\n",
       "      <td>2.923162</td>\n",
       "      <td>0.073364</td>\n",
       "      <td>4.724909</td>\n",
       "      <td>7.599902</td>\n",
       "    </tr>\n",
       "    <tr>\n",
       "      <th>6867</th>\n",
       "      <td>8.325</td>\n",
       "      <td>Low Fat</td>\n",
       "      <td>0.029845</td>\n",
       "      <td>Fruits and Vegetables</td>\n",
       "      <td>41.6138</td>\n",
       "      <td>OUT045</td>\n",
       "      <td>2002</td>\n",
       "      <td>Small</td>\n",
       "      <td>Tier 2</td>\n",
       "      <td>Supermarket Type1</td>\n",
       "      <td>2.232699</td>\n",
       "      <td>0.029409</td>\n",
       "      <td>3.752178</td>\n",
       "      <td>7.602401</td>\n",
       "    </tr>\n",
       "    <tr>\n",
       "      <th>2716</th>\n",
       "      <td>12.850</td>\n",
       "      <td>Low Fat</td>\n",
       "      <td>0.137228</td>\n",
       "      <td>Snack Foods</td>\n",
       "      <td>155.5630</td>\n",
       "      <td>OUT046</td>\n",
       "      <td>1997</td>\n",
       "      <td>Small</td>\n",
       "      <td>Tier 1</td>\n",
       "      <td>Supermarket Type1</td>\n",
       "      <td>2.628285</td>\n",
       "      <td>0.128594</td>\n",
       "      <td>5.053458</td>\n",
       "      <td>7.599902</td>\n",
       "    </tr>\n",
       "  </tbody>\n",
       "</table>\n",
       "</div>"
      ],
      "text/plain": [
       "      Item_Weight Item_Fat_Content  Item_Visibility              Item_Type  \\\n",
       "549         9.500          Regular         0.035206  Fruits and Vegetables   \n",
       "7757       18.000          Low Fat         0.047473              Household   \n",
       "764        17.600          Regular         0.076122                   Meat   \n",
       "6867        8.325          Low Fat         0.029845  Fruits and Vegetables   \n",
       "2716       12.850          Low Fat         0.137228            Snack Foods   \n",
       "\n",
       "      Item_MRP Outlet_Identifier  Outlet_Establishment_Year Outlet_Size  \\\n",
       "549   171.3448            OUT049                       1999      Medium   \n",
       "7757  170.5422            OUT045                       2002       Small   \n",
       "764   111.7202            OUT046                       1997       Small   \n",
       "6867   41.6138            OUT045                       2002       Small   \n",
       "2716  155.5630            OUT046                       1997       Small   \n",
       "\n",
       "     Outlet_Location_Type        Outlet_Type  Item_Weight_log  \\\n",
       "549                Tier 1  Supermarket Type1         2.351375   \n",
       "7757               Tier 2  Supermarket Type1         2.944439   \n",
       "764                Tier 1  Supermarket Type1         2.923162   \n",
       "6867               Tier 2  Supermarket Type1         2.232699   \n",
       "2716               Tier 1  Supermarket Type1         2.628285   \n",
       "\n",
       "      Item_Visibility_log  Item_MRP_log  Outlet_Establishment_Year_log  \n",
       "549              0.034600      5.149497                       7.600902  \n",
       "7757             0.046381      5.144829                       7.602401  \n",
       "764              0.073364      4.724909                       7.599902  \n",
       "6867             0.029409      3.752178                       7.602401  \n",
       "2716             0.128594      5.053458                       7.599902  "
      ]
     },
     "execution_count": 32,
     "metadata": {},
     "output_type": "execute_result"
    }
   ],
   "source": [
    "X_train.head()"
   ]
  },
  {
   "cell_type": "code",
   "execution_count": 33,
   "id": "6695c800-fa19-41d6-8bb1-76ebdc71c5f8",
   "metadata": {},
   "outputs": [
    {
     "name": "stdout",
     "output_type": "stream",
     "text": [
      "Item_Weight_log --> Min:  1.71  Max:  3.11 Mean:  2.58 Median:  2.63 Std Dev:  0.33\n",
      "Item_Weight_log --> low limit(Q1):  1.59  high limit(Q3):  3.59  IQR :  1.99\n",
      "Item_Weight_log --> Skewness:  -0.44\n",
      "Item_Weight_log --> has outliers\n",
      "\n",
      "Item_Visibility_log --> Min:  0.0  Max:  0.28 Mean:  0.06 Median:  0.05 Std Dev:  0.05\n",
      "Item_Visibility_log --> low limit(Q1):  -0.07  high limit(Q3):  0.19  IQR :  0.26\n",
      "Item_Visibility_log --> Skewness:  1.0\n",
      "Item_Visibility_log --> has outliers\n",
      "\n",
      "Item_MRP_log --> Min:  3.47  Max:  5.59 Mean:  4.84 Median:  4.98 Std Dev:  0.52\n",
      "Item_MRP_log --> low limit(Q1):  3.54  high limit(Q3):  6.26  IQR :  2.72\n",
      "Item_MRP_log --> Skewness:  -0.74\n",
      "Item_MRP_log --> has outliers\n",
      "\n",
      "Outlet_Establishment_Year_log --> Min:  7.59  Max:  7.61 Mean:  7.6 Median:  7.6 Std Dev:  0.0\n",
      "Outlet_Establishment_Year_log --> low limit(Q1):  7.58  high limit(Q3):  7.62  IQR :  0.03\n",
      "Outlet_Establishment_Year_log --> Skewness:  -0.4\n",
      "Outlet_Establishment_Year_log --> has outliers\n",
      "\n"
     ]
    }
   ],
   "source": [
    "# Check out Measure of Dispersions for the logged Features\n",
    "\n",
    "X_train_log_types = ['Item_Weight_log','Item_Visibility_log','Item_MRP_log','Outlet_Establishment_Year_log']\n",
    "func_identify_outliers(X_train,X_train_log_types)"
   ]
  },
  {
   "cell_type": "code",
   "execution_count": 34,
   "id": "6d43ca29-66be-433b-be64-ffed95b0a4df",
   "metadata": {},
   "outputs": [
    {
     "name": "stdout",
     "output_type": "stream",
     "text": [
      "Item_Outlet_Sales --> Min:  3.53  Max:  9.48 Mean:  7.31 Median:  7.5 Std Dev:  1.01\n",
      "Item_Outlet_Sales --> low limit(Q1):  4.8  high limit(Q3):  10.0  IQR :  5.2\n",
      "Item_Outlet_Sales --> Skewness:  -0.89\n",
      "Item_Outlet_Sales --> has outliers\n",
      "\n"
     ]
    }
   ],
   "source": [
    "y_log_train_df = pd.DataFrame(y_log_train)\n",
    "y_log_valid_df = pd.DataFrame(y_log_valid)\n",
    "y_log_train_df.columns = ['Item_Outlet_Sales']\n",
    "y_log_valid_df.columns = ['Item_Outlet_Sales']\n",
    "func_identify_outliers(y_log_train_df,y_log_valid_df.columns)"
   ]
  },
  {
   "cell_type": "code",
   "execution_count": 35,
   "id": "1eb15150-c165-4cca-a74d-d23fd0220f53",
   "metadata": {},
   "outputs": [
    {
     "data": {
      "text/html": [
       "<div>\n",
       "<style scoped>\n",
       "    .dataframe tbody tr th:only-of-type {\n",
       "        vertical-align: middle;\n",
       "    }\n",
       "\n",
       "    .dataframe tbody tr th {\n",
       "        vertical-align: top;\n",
       "    }\n",
       "\n",
       "    .dataframe thead th {\n",
       "        text-align: right;\n",
       "    }\n",
       "</style>\n",
       "<table border=\"1\" class=\"dataframe\">\n",
       "  <thead>\n",
       "    <tr style=\"text-align: right;\">\n",
       "      <th></th>\n",
       "      <th>Item_Outlet_Sales</th>\n",
       "    </tr>\n",
       "  </thead>\n",
       "  <tbody>\n",
       "    <tr>\n",
       "      <th>549</th>\n",
       "      <td>7.777888</td>\n",
       "    </tr>\n",
       "    <tr>\n",
       "      <th>7757</th>\n",
       "      <td>8.040756</td>\n",
       "    </tr>\n",
       "    <tr>\n",
       "      <th>764</th>\n",
       "      <td>7.026606</td>\n",
       "    </tr>\n",
       "    <tr>\n",
       "      <th>6867</th>\n",
       "      <td>5.653529</td>\n",
       "    </tr>\n",
       "    <tr>\n",
       "      <th>2716</th>\n",
       "      <td>8.348893</td>\n",
       "    </tr>\n",
       "  </tbody>\n",
       "</table>\n",
       "</div>"
      ],
      "text/plain": [
       "      Item_Outlet_Sales\n",
       "549            7.777888\n",
       "7757           8.040756\n",
       "764            7.026606\n",
       "6867           5.653529\n",
       "2716           8.348893"
      ]
     },
     "execution_count": 35,
     "metadata": {},
     "output_type": "execute_result"
    }
   ],
   "source": [
    "y_log_train_df.head()"
   ]
  },
  {
   "cell_type": "markdown",
   "id": "c01009ac-9eec-4a2f-a599-e8dc7fcab54a",
   "metadata": {},
   "source": [
    "#### 8.4.2 Create New Features</a><a id='8.3'></a>\n",
    "\n",
    "Create new Categorical features for below Continuous features and achieve discrete categorical values:\n",
    "- **Item_Weight:**                 '<=5', '>5-<=10', '>10-<=15', '>15-<=20', '>20'\n",
    "- **Item_Visbility:**            '<=0.05', '>0.05-<=0.10', '<0.10-<=0.15','>0.15-<=0.20','>0.25'\n",
    "- **Item_MRP:**                  '<=50', '>50-<=100', '>100-<=150', '>150-<=200','>200-<=250', '>250'"
   ]
  },
  {
   "cell_type": "code",
   "execution_count": 36,
   "id": "34d8dadd-9bd6-4571-b356-85770f343a2c",
   "metadata": {},
   "outputs": [],
   "source": [
    "# Create new features indicating which Quartile each value belongs to\n",
    "\n",
    "# def func_create_qrtl_features(df,cols):\n",
    "#     #---------------------------------------------------------------------------------------------------\n",
    "#     for col in cols:\n",
    "#         # Calculate quartiles\n",
    "#         #-----------------------------------------------------------------------------------------------\n",
    "#         quartiles = df[col].quantile([0.25, 0.5, 0.75])\n",
    "#         #-----------------------------------------------------------------------------------------------\n",
    "#         # Create new columns based on quartiles\n",
    "#         #-----------------------------------------------------------------------------------------------\n",
    "#         df[col+'_QRTL1'] = df[col].apply(lambda x: 1 if x <= quartiles[0.25] else 0)\n",
    "#         df[col+'_QRTL2'] = df[col].apply(lambda x: 1 if quartiles[0.25] < x <= quartiles[0.5] else 0)\n",
    "#         df[col+'_QRTL3'] = df[col].apply(lambda x: 1 if quartiles[0.5] < x <= quartiles[0.75] else 0)\n",
    "#         df[col+'_QRTL4'] = df[col].apply(lambda x: 1 if x > quartiles[0.75] else 0)\n",
    "#         #-----------------------------------------------------------------------------------------------\n",
    "#         # Convert data type to 'Category' for newly created group columns\n",
    "#         #-----------------------------------------------------------------------------------------------\n",
    "#         df[col+'_QRTL1'] = df[col+'_QRTL1'].astype('int64')\n",
    "#         df[col+'_QRTL2'] = df[col+'_QRTL2'].astype('int64')\n",
    "#         df[col+'_QRTL3'] = df[col+'_QRTL3'].astype('int64')\n",
    "#         df[col+'_QRTL4'] = df[col+'_QRTL4'].astype('int64')\n",
    "#     return df"
   ]
  },
  {
   "cell_type": "code",
   "execution_count": 37,
   "id": "9d738c23-2b48-4d8f-9c21-5567ac5f8e68",
   "metadata": {},
   "outputs": [],
   "source": [
    "# Create the new categorical column\n",
    "\n",
    "# X_train_qrtl_types = ['Item_Weight', 'Item_Visibility', 'Item_MRP']\n",
    "# X_train            = func_create_qrtl_features(X_train,X_train_qrtl_types)\n",
    "# X_valid            = func_create_qrtl_features(X_valid,X_train_qrtl_types)\n",
    "# X_features_test    = func_create_qrtl_features(X_features_test,X_train_qrtl_types)"
   ]
  },
  {
   "cell_type": "code",
   "execution_count": 38,
   "id": "aabfa48f-5e7a-4f0c-8bee-553e9afa3840",
   "metadata": {},
   "outputs": [],
   "source": [
    "# func_identify_outliers(X_train,X_train_qrtl_types)"
   ]
  },
  {
   "cell_type": "code",
   "execution_count": 39,
   "id": "0feebb25-682a-4c69-9a41-3daa60179439",
   "metadata": {},
   "outputs": [
    {
     "data": {
      "text/html": [
       "<div>\n",
       "<style scoped>\n",
       "    .dataframe tbody tr th:only-of-type {\n",
       "        vertical-align: middle;\n",
       "    }\n",
       "\n",
       "    .dataframe tbody tr th {\n",
       "        vertical-align: top;\n",
       "    }\n",
       "\n",
       "    .dataframe thead th {\n",
       "        text-align: right;\n",
       "    }\n",
       "</style>\n",
       "<table border=\"1\" class=\"dataframe\">\n",
       "  <thead>\n",
       "    <tr style=\"text-align: right;\">\n",
       "      <th></th>\n",
       "      <th>Item_Weight</th>\n",
       "      <th>Item_Fat_Content</th>\n",
       "      <th>Item_Visibility</th>\n",
       "      <th>Item_Type</th>\n",
       "      <th>Item_MRP</th>\n",
       "      <th>Outlet_Identifier</th>\n",
       "      <th>Outlet_Establishment_Year</th>\n",
       "      <th>Outlet_Size</th>\n",
       "      <th>Outlet_Location_Type</th>\n",
       "      <th>Outlet_Type</th>\n",
       "      <th>Item_Weight_log</th>\n",
       "      <th>Item_Visibility_log</th>\n",
       "      <th>Item_MRP_log</th>\n",
       "      <th>Outlet_Establishment_Year_log</th>\n",
       "    </tr>\n",
       "  </thead>\n",
       "  <tbody>\n",
       "    <tr>\n",
       "      <th>549</th>\n",
       "      <td>9.500</td>\n",
       "      <td>Regular</td>\n",
       "      <td>0.035206</td>\n",
       "      <td>Fruits and Vegetables</td>\n",
       "      <td>171.3448</td>\n",
       "      <td>OUT049</td>\n",
       "      <td>1999</td>\n",
       "      <td>Medium</td>\n",
       "      <td>Tier 1</td>\n",
       "      <td>Supermarket Type1</td>\n",
       "      <td>2.351375</td>\n",
       "      <td>0.034600</td>\n",
       "      <td>5.149497</td>\n",
       "      <td>7.600902</td>\n",
       "    </tr>\n",
       "    <tr>\n",
       "      <th>7757</th>\n",
       "      <td>18.000</td>\n",
       "      <td>Low Fat</td>\n",
       "      <td>0.047473</td>\n",
       "      <td>Household</td>\n",
       "      <td>170.5422</td>\n",
       "      <td>OUT045</td>\n",
       "      <td>2002</td>\n",
       "      <td>Small</td>\n",
       "      <td>Tier 2</td>\n",
       "      <td>Supermarket Type1</td>\n",
       "      <td>2.944439</td>\n",
       "      <td>0.046381</td>\n",
       "      <td>5.144829</td>\n",
       "      <td>7.602401</td>\n",
       "    </tr>\n",
       "    <tr>\n",
       "      <th>764</th>\n",
       "      <td>17.600</td>\n",
       "      <td>Regular</td>\n",
       "      <td>0.076122</td>\n",
       "      <td>Meat</td>\n",
       "      <td>111.7202</td>\n",
       "      <td>OUT046</td>\n",
       "      <td>1997</td>\n",
       "      <td>Small</td>\n",
       "      <td>Tier 1</td>\n",
       "      <td>Supermarket Type1</td>\n",
       "      <td>2.923162</td>\n",
       "      <td>0.073364</td>\n",
       "      <td>4.724909</td>\n",
       "      <td>7.599902</td>\n",
       "    </tr>\n",
       "    <tr>\n",
       "      <th>6867</th>\n",
       "      <td>8.325</td>\n",
       "      <td>Low Fat</td>\n",
       "      <td>0.029845</td>\n",
       "      <td>Fruits and Vegetables</td>\n",
       "      <td>41.6138</td>\n",
       "      <td>OUT045</td>\n",
       "      <td>2002</td>\n",
       "      <td>Small</td>\n",
       "      <td>Tier 2</td>\n",
       "      <td>Supermarket Type1</td>\n",
       "      <td>2.232699</td>\n",
       "      <td>0.029409</td>\n",
       "      <td>3.752178</td>\n",
       "      <td>7.602401</td>\n",
       "    </tr>\n",
       "    <tr>\n",
       "      <th>2716</th>\n",
       "      <td>12.850</td>\n",
       "      <td>Low Fat</td>\n",
       "      <td>0.137228</td>\n",
       "      <td>Snack Foods</td>\n",
       "      <td>155.5630</td>\n",
       "      <td>OUT046</td>\n",
       "      <td>1997</td>\n",
       "      <td>Small</td>\n",
       "      <td>Tier 1</td>\n",
       "      <td>Supermarket Type1</td>\n",
       "      <td>2.628285</td>\n",
       "      <td>0.128594</td>\n",
       "      <td>5.053458</td>\n",
       "      <td>7.599902</td>\n",
       "    </tr>\n",
       "  </tbody>\n",
       "</table>\n",
       "</div>"
      ],
      "text/plain": [
       "      Item_Weight Item_Fat_Content  Item_Visibility              Item_Type  \\\n",
       "549         9.500          Regular         0.035206  Fruits and Vegetables   \n",
       "7757       18.000          Low Fat         0.047473              Household   \n",
       "764        17.600          Regular         0.076122                   Meat   \n",
       "6867        8.325          Low Fat         0.029845  Fruits and Vegetables   \n",
       "2716       12.850          Low Fat         0.137228            Snack Foods   \n",
       "\n",
       "      Item_MRP Outlet_Identifier  Outlet_Establishment_Year Outlet_Size  \\\n",
       "549   171.3448            OUT049                       1999      Medium   \n",
       "7757  170.5422            OUT045                       2002       Small   \n",
       "764   111.7202            OUT046                       1997       Small   \n",
       "6867   41.6138            OUT045                       2002       Small   \n",
       "2716  155.5630            OUT046                       1997       Small   \n",
       "\n",
       "     Outlet_Location_Type        Outlet_Type  Item_Weight_log  \\\n",
       "549                Tier 1  Supermarket Type1         2.351375   \n",
       "7757               Tier 2  Supermarket Type1         2.944439   \n",
       "764                Tier 1  Supermarket Type1         2.923162   \n",
       "6867               Tier 2  Supermarket Type1         2.232699   \n",
       "2716               Tier 1  Supermarket Type1         2.628285   \n",
       "\n",
       "      Item_Visibility_log  Item_MRP_log  Outlet_Establishment_Year_log  \n",
       "549              0.034600      5.149497                       7.600902  \n",
       "7757             0.046381      5.144829                       7.602401  \n",
       "764              0.073364      4.724909                       7.599902  \n",
       "6867             0.029409      3.752178                       7.602401  \n",
       "2716             0.128594      5.053458                       7.599902  "
      ]
     },
     "execution_count": 39,
     "metadata": {},
     "output_type": "execute_result"
    }
   ],
   "source": [
    "X_train.head()"
   ]
  },
  {
   "cell_type": "code",
   "execution_count": 40,
   "id": "8777cdce-6103-40eb-a905-b57c4ab55dac",
   "metadata": {},
   "outputs": [
    {
     "name": "stdout",
     "output_type": "stream",
     "text": [
      "<class 'pandas.core.frame.DataFrame'>\n",
      "Index: 6818 entries, 549 to 7270\n",
      "Data columns (total 14 columns):\n",
      " #   Column                         Non-Null Count  Dtype   \n",
      "---  ------                         --------------  -----   \n",
      " 0   Item_Weight                    6818 non-null   float64 \n",
      " 1   Item_Fat_Content               6818 non-null   category\n",
      " 2   Item_Visibility                6818 non-null   float64 \n",
      " 3   Item_Type                      6818 non-null   category\n",
      " 4   Item_MRP                       6818 non-null   float64 \n",
      " 5   Outlet_Identifier              6818 non-null   category\n",
      " 6   Outlet_Establishment_Year      6818 non-null   int64   \n",
      " 7   Outlet_Size                    6818 non-null   category\n",
      " 8   Outlet_Location_Type           6818 non-null   category\n",
      " 9   Outlet_Type                    6818 non-null   category\n",
      " 10  Item_Weight_log                6818 non-null   float64 \n",
      " 11  Item_Visibility_log            6818 non-null   float64 \n",
      " 12  Item_MRP_log                   6818 non-null   float64 \n",
      " 13  Outlet_Establishment_Year_log  6818 non-null   float64 \n",
      "dtypes: category(6), float64(7), int64(1)\n",
      "memory usage: 521.0 KB\n"
     ]
    }
   ],
   "source": [
    "X_train.info()"
   ]
  },
  {
   "cell_type": "code",
   "execution_count": 41,
   "id": "61461f99-d868-49aa-9561-32066aabb715",
   "metadata": {},
   "outputs": [
    {
     "data": {
      "text/plain": [
       "(0, 0, 0)"
      ]
     },
     "execution_count": 41,
     "metadata": {},
     "output_type": "execute_result"
    }
   ],
   "source": [
    "X_train.isnull().sum().sum(),X_valid.isnull().sum().sum(),X_features_test.isnull().sum().sum()"
   ]
  },
  {
   "cell_type": "markdown",
   "id": "d2c0584d-06da-4471-8a1c-79cadd1b3a61",
   "metadata": {},
   "source": [
    "### 8.4 Clean Categories (Before Encoding)</a><a id='8.4'></a>"
   ]
  },
  {
   "cell_type": "markdown",
   "id": "ea7f9b69-e3a8-4f48-b33d-5b6204124419",
   "metadata": {},
   "source": [
    "**Item_Fat_Content** (`Ordinal Encoding`)\n",
    "- Make categorical values similar like 'Low Fat', 'low fat' and 'LF' --> 'LF'; 'Regular' and 'reg'--> 'REG'\n",
    "- Encode 'LF'--> 0; 'REG'--> 1"
   ]
  },
  {
   "cell_type": "code",
   "execution_count": 42,
   "id": "7a159aba-1ad1-40ce-9598-5f7c3f8b2042",
   "metadata": {},
   "outputs": [
    {
     "data": {
      "text/plain": [
       "Item_Fat_Content\n",
       "Low Fat    4035\n",
       "Regular    2336\n",
       "LF          267\n",
       "reg          93\n",
       "low fat      87\n",
       "Name: count, dtype: int64"
      ]
     },
     "execution_count": 42,
     "metadata": {},
     "output_type": "execute_result"
    }
   ],
   "source": [
    "X_train['Item_Fat_Content'].value_counts()"
   ]
  },
  {
   "cell_type": "markdown",
   "id": "74d759a9-b097-43be-9f69-0ef4b2f32546",
   "metadata": {},
   "source": [
    "**Outlet Size**(`Ordinal Encoding`)\n",
    "- Encode 'Small':0;'Medium':1;'High':2"
   ]
  },
  {
   "cell_type": "code",
   "execution_count": 43,
   "id": "f559f71d-298a-4a5b-9ece-c78ba0829374",
   "metadata": {},
   "outputs": [
    {
     "data": {
      "text/plain": [
       "Outlet_Size\n",
       "Small     3841\n",
       "Medium    2233\n",
       "High       744\n",
       "Name: count, dtype: int64"
      ]
     },
     "execution_count": 43,
     "metadata": {},
     "output_type": "execute_result"
    }
   ],
   "source": [
    "X_train['Outlet_Size'].value_counts()"
   ]
  },
  {
   "cell_type": "markdown",
   "id": "69ba0b6a-8415-49d4-9682-894b11b9f08e",
   "metadata": {},
   "source": [
    "**Outlet_Location_Type**(`Ordinal Encoding`)\n",
    "- Encode 'Tier 1':0;'Tier 2':1;'Tier 3':2"
   ]
  },
  {
   "cell_type": "code",
   "execution_count": 44,
   "id": "8343375f-5780-447a-95a1-c3a955d6e4c7",
   "metadata": {},
   "outputs": [
    {
     "data": {
      "text/plain": [
       "Outlet_Location_Type\n",
       "Tier 3    2703\n",
       "Tier 2    2239\n",
       "Tier 1    1876\n",
       "Name: count, dtype: int64"
      ]
     },
     "execution_count": 44,
     "metadata": {},
     "output_type": "execute_result"
    }
   ],
   "source": [
    "X_train['Outlet_Location_Type'].value_counts()"
   ]
  },
  {
   "cell_type": "markdown",
   "id": "369e239b-4639-40d2-b4b0-e46ccacb0cbe",
   "metadata": {},
   "source": [
    "**Function to clean categories for 'Item_Fat_Content'**"
   ]
  },
  {
   "cell_type": "code",
   "execution_count": 45,
   "id": "6ab18c57-9c48-426b-9cd2-f875c8d87eeb",
   "metadata": {},
   "outputs": [],
   "source": [
    "def func_clean_item_fat(df,col):\n",
    "\n",
    "    # Dictionary to clean categories\n",
    "    Item_Fat_Content_dict = {'Low Fat':'LF','LF':'LF','low fat':'LF','Regular':'REG','reg':'REG'}\n",
    "\n",
    "    return df[col].map(Item_Fat_Content_dict)"
   ]
  },
  {
   "cell_type": "code",
   "execution_count": 46,
   "id": "c7d38412-8f90-4ef8-9fe7-fc9e40cdf9f3",
   "metadata": {},
   "outputs": [
    {
     "data": {
      "text/plain": [
       "Item_Fat_Content\n",
       "LF     4389\n",
       "REG    2429\n",
       "Name: count, dtype: int64"
      ]
     },
     "execution_count": 46,
     "metadata": {},
     "output_type": "execute_result"
    }
   ],
   "source": [
    "X_train['Item_Fat_Content'] = func_clean_item_fat(X_train,'Item_Fat_Content')\n",
    "X_train['Item_Fat_Content'].value_counts()"
   ]
  },
  {
   "cell_type": "code",
   "execution_count": 47,
   "id": "f2d371e9-cff5-49b8-b53d-8e74e7f403d5",
   "metadata": {},
   "outputs": [
    {
     "data": {
      "text/plain": [
       "Item_Fat_Content\n",
       "LF     1128\n",
       "REG     577\n",
       "Name: count, dtype: int64"
      ]
     },
     "execution_count": 47,
     "metadata": {},
     "output_type": "execute_result"
    }
   ],
   "source": [
    "X_valid['Item_Fat_Content'] = func_clean_item_fat(X_valid,'Item_Fat_Content')\n",
    "X_valid['Item_Fat_Content'].value_counts()"
   ]
  },
  {
   "cell_type": "code",
   "execution_count": 48,
   "id": "a5e25d8e-cdaa-4b6d-8e84-9bc662e19c8a",
   "metadata": {},
   "outputs": [
    {
     "data": {
      "text/plain": [
       "Item_Fat_Content\n",
       "LF     3668\n",
       "REG    2013\n",
       "Name: count, dtype: int64"
      ]
     },
     "execution_count": 48,
     "metadata": {},
     "output_type": "execute_result"
    }
   ],
   "source": [
    "X_features_test['Item_Fat_Content'] = func_clean_item_fat(X_features_test,'Item_Fat_Content')\n",
    "X_features_test['Item_Fat_Content'].value_counts()"
   ]
  },
  {
   "cell_type": "markdown",
   "id": "7ec03dbb-ff74-4377-a644-8a7079af4824",
   "metadata": {},
   "source": [
    "### 8.5 Perform 'Ordinal Encoding'</a><a id='8.5'></a> "
   ]
  },
  {
   "cell_type": "code",
   "execution_count": 49,
   "id": "b6e7e77f-7ee0-4a9b-afa0-39c8be245e62",
   "metadata": {},
   "outputs": [],
   "source": [
    "# Function to encode using Ordinal Encoding\n",
    "\n",
    "def func_Ordinal_Encoding(df):\n",
    "    Item_Fat_Content_mapping     = {'LF':0,'REG':1}\n",
    "    Outlet_Size_mapping          = {'Small':0,'Medium':1,'High':2}\n",
    "    Outlet_Location_Type_mapping = {'Tier 1':0,'Tier 2':1,'Tier 3':2}\n",
    "    #-------------------------------------------------------------------------------------------\n",
    "    df['Item_Fat_Content']       = df['Item_Fat_Content'].map(Item_Fat_Content_mapping)\n",
    "    df['Outlet_Size']            = df['Outlet_Size'].map(Outlet_Size_mapping)\n",
    "    df['Outlet_Location_Type']   = df['Outlet_Location_Type'].map(Outlet_Location_Type_mapping)\n",
    "    #-------------------------------------------------------------------------------------------\n",
    "    df['Item_Fat_Content']       = df['Item_Fat_Content'].astype('float64')\n",
    "    df['Outlet_Size']            = df['Outlet_Size'].astype('float64')\n",
    "    df['Outlet_Location_Type']   = df['Outlet_Location_Type'].astype('float64')\n",
    "    #-------------------------------------------------------------------------------------------\n",
    "    return df"
   ]
  },
  {
   "cell_type": "code",
   "execution_count": 50,
   "id": "5b5b46e5-1d53-4b48-bad8-9f8e01001301",
   "metadata": {},
   "outputs": [],
   "source": [
    "X_train         = func_Ordinal_Encoding(X_train)\n",
    "X_valid         = func_Ordinal_Encoding(X_valid)\n",
    "X_features_test = func_Ordinal_Encoding(X_features_test)"
   ]
  },
  {
   "cell_type": "markdown",
   "id": "2812527c-ad98-4c77-a0e4-757b4c5d4806",
   "metadata": {},
   "source": [
    "### 8.6 Perform 'Frequency Encoding'</a><a id='8.6'></a> "
   ]
  },
  {
   "cell_type": "markdown",
   "id": "ac065c51-605e-4628-bcf0-5201cb4ea685",
   "metadata": {},
   "source": [
    "**Item_Type**(`Frequency Encoding`)\n",
    "<br>- Encode 'Item Types' category values with its frequency count\n",
    "<br>**Outlet_Identifier**(`Frequency Encoding`)\n",
    "<br>- Encode 'Outlet Identifier' category values with its frequency count\n",
    "<br>**Outlet_Type**(`Frequency Encoding`)\n",
    "<br>- Encode 'Outlet Type' category values with its frequency count"
   ]
  },
  {
   "cell_type": "code",
   "execution_count": 51,
   "id": "2189f551-c7a2-42c7-a4b0-3cf6037eff48",
   "metadata": {},
   "outputs": [],
   "source": [
    "# Function to encode using Frequency Encoding\n",
    "\n",
    "def func_frequency_encoding(df):\n",
    "    \"\"\"\n",
    "    Encodes a categorical variable using frequency encoding.\n",
    "\n",
    "    \"\"\"\n",
    "    #------------------------------------------------------------------------------------------------\n",
    "    # Calculate frequency of each category\n",
    "    #------------------------------------------------------------------------------------------------\n",
    "    Item_Type_map                 = df['Item_Type'].value_counts(normalize=True).to_dict()\n",
    "    Outlet_Identifier_map         = df['Outlet_Identifier'].value_counts(normalize=True).to_dict()\n",
    "    Outlet_Type_map               = df['Outlet_Type'].value_counts(normalize=True).to_dict()\n",
    "    #------------------------------------------------------------------------------------------------\n",
    "    # Replace categories with their frequencies\n",
    "    #------------------------------------------------------------------------------------------------\n",
    "    df['Item_Type']              = df['Item_Type'].map(Item_Type_map)\n",
    "    df['Outlet_Identifier']      = df['Outlet_Identifier'].map(Outlet_Identifier_map)\n",
    "    df['Outlet_Type']            = df['Outlet_Type'].map(Outlet_Type_map)\n",
    "    #------------------------------------------------------------------------------------------------\n",
    "    df['Item_Type']              = df['Item_Type'].astype('float64')\n",
    "    df['Outlet_Identifier']      = df['Outlet_Identifier'].astype('float64')\n",
    "    df['Outlet_Type']            = df['Outlet_Type'].astype('float64')\n",
    "\n",
    "    return df"
   ]
  },
  {
   "cell_type": "code",
   "execution_count": 52,
   "id": "5f82590c-21cc-417c-bc54-69afc0822035",
   "metadata": {},
   "outputs": [],
   "source": [
    "# Perform 'Frequency Encoding' to the Numerical columns\n",
    "\n",
    "X_train = func_frequency_encoding(X_train)\n",
    "X_valid = func_frequency_encoding(X_valid)\n",
    "X_features_test = func_frequency_encoding(X_features_test)\n",
    "#----------------------------------------------------------\n",
    "X_train.reset_index(drop=True,inplace=True)\n",
    "X_valid.reset_index(drop=True,inplace=True)\n",
    "X_features_test.reset_index(drop=True,inplace=True)"
   ]
  },
  {
   "cell_type": "code",
   "execution_count": 53,
   "id": "096cbe15-c9f4-484b-ba5d-6640355aa49a",
   "metadata": {},
   "outputs": [
    {
     "name": "stdout",
     "output_type": "stream",
     "text": [
      "<class 'pandas.core.frame.DataFrame'>\n",
      "RangeIndex: 6818 entries, 0 to 6817\n",
      "Data columns (total 14 columns):\n",
      " #   Column                         Non-Null Count  Dtype  \n",
      "---  ------                         --------------  -----  \n",
      " 0   Item_Weight                    6818 non-null   float64\n",
      " 1   Item_Fat_Content               6818 non-null   float64\n",
      " 2   Item_Visibility                6818 non-null   float64\n",
      " 3   Item_Type                      6818 non-null   float64\n",
      " 4   Item_MRP                       6818 non-null   float64\n",
      " 5   Outlet_Identifier              6818 non-null   float64\n",
      " 6   Outlet_Establishment_Year      6818 non-null   int64  \n",
      " 7   Outlet_Size                    6818 non-null   float64\n",
      " 8   Outlet_Location_Type           6818 non-null   float64\n",
      " 9   Outlet_Type                    6818 non-null   float64\n",
      " 10  Item_Weight_log                6818 non-null   float64\n",
      " 11  Item_Visibility_log            6818 non-null   float64\n",
      " 12  Item_MRP_log                   6818 non-null   float64\n",
      " 13  Outlet_Establishment_Year_log  6818 non-null   float64\n",
      "dtypes: float64(13), int64(1)\n",
      "memory usage: 745.8 KB\n"
     ]
    }
   ],
   "source": [
    "X_train.info()"
   ]
  },
  {
   "cell_type": "code",
   "execution_count": 54,
   "id": "fb115676-062f-4e4d-ad9a-99113ffac6ef",
   "metadata": {},
   "outputs": [
    {
     "data": {
      "text/html": [
       "<div>\n",
       "<style scoped>\n",
       "    .dataframe tbody tr th:only-of-type {\n",
       "        vertical-align: middle;\n",
       "    }\n",
       "\n",
       "    .dataframe tbody tr th {\n",
       "        vertical-align: top;\n",
       "    }\n",
       "\n",
       "    .dataframe thead th {\n",
       "        text-align: right;\n",
       "    }\n",
       "</style>\n",
       "<table border=\"1\" class=\"dataframe\">\n",
       "  <thead>\n",
       "    <tr style=\"text-align: right;\">\n",
       "      <th></th>\n",
       "      <th>Item_Weight</th>\n",
       "      <th>Item_Fat_Content</th>\n",
       "      <th>Item_Visibility</th>\n",
       "      <th>Item_Type</th>\n",
       "      <th>Item_MRP</th>\n",
       "      <th>Outlet_Identifier</th>\n",
       "      <th>Outlet_Establishment_Year</th>\n",
       "      <th>Outlet_Size</th>\n",
       "      <th>Outlet_Location_Type</th>\n",
       "      <th>Outlet_Type</th>\n",
       "      <th>Item_Weight_log</th>\n",
       "      <th>Item_Visibility_log</th>\n",
       "      <th>Item_MRP_log</th>\n",
       "      <th>Outlet_Establishment_Year_log</th>\n",
       "    </tr>\n",
       "  </thead>\n",
       "  <tbody>\n",
       "    <tr>\n",
       "      <th>0</th>\n",
       "      <td>9.500</td>\n",
       "      <td>1.0</td>\n",
       "      <td>0.035206</td>\n",
       "      <td>0.146964</td>\n",
       "      <td>171.3448</td>\n",
       "      <td>0.105603</td>\n",
       "      <td>1999</td>\n",
       "      <td>1.0</td>\n",
       "      <td>0.0</td>\n",
       "      <td>0.652097</td>\n",
       "      <td>2.351375</td>\n",
       "      <td>0.034600</td>\n",
       "      <td>5.149497</td>\n",
       "      <td>7.600902</td>\n",
       "    </tr>\n",
       "    <tr>\n",
       "      <th>1</th>\n",
       "      <td>18.000</td>\n",
       "      <td>0.0</td>\n",
       "      <td>0.047473</td>\n",
       "      <td>0.109123</td>\n",
       "      <td>170.5422</td>\n",
       "      <td>0.107950</td>\n",
       "      <td>2002</td>\n",
       "      <td>0.0</td>\n",
       "      <td>1.0</td>\n",
       "      <td>0.652097</td>\n",
       "      <td>2.944439</td>\n",
       "      <td>0.046381</td>\n",
       "      <td>5.144829</td>\n",
       "      <td>7.602401</td>\n",
       "    </tr>\n",
       "    <tr>\n",
       "      <th>2</th>\n",
       "      <td>17.600</td>\n",
       "      <td>1.0</td>\n",
       "      <td>0.076122</td>\n",
       "      <td>0.047668</td>\n",
       "      <td>111.7202</td>\n",
       "      <td>0.108976</td>\n",
       "      <td>1997</td>\n",
       "      <td>0.0</td>\n",
       "      <td>0.0</td>\n",
       "      <td>0.652097</td>\n",
       "      <td>2.923162</td>\n",
       "      <td>0.073364</td>\n",
       "      <td>4.724909</td>\n",
       "      <td>7.599902</td>\n",
       "    </tr>\n",
       "    <tr>\n",
       "      <th>3</th>\n",
       "      <td>8.325</td>\n",
       "      <td>0.0</td>\n",
       "      <td>0.029845</td>\n",
       "      <td>0.146964</td>\n",
       "      <td>41.6138</td>\n",
       "      <td>0.107950</td>\n",
       "      <td>2002</td>\n",
       "      <td>0.0</td>\n",
       "      <td>1.0</td>\n",
       "      <td>0.652097</td>\n",
       "      <td>2.232699</td>\n",
       "      <td>0.029409</td>\n",
       "      <td>3.752178</td>\n",
       "      <td>7.602401</td>\n",
       "    </tr>\n",
       "    <tr>\n",
       "      <th>4</th>\n",
       "      <td>12.850</td>\n",
       "      <td>0.0</td>\n",
       "      <td>0.137228</td>\n",
       "      <td>0.142417</td>\n",
       "      <td>155.5630</td>\n",
       "      <td>0.108976</td>\n",
       "      <td>1997</td>\n",
       "      <td>0.0</td>\n",
       "      <td>0.0</td>\n",
       "      <td>0.652097</td>\n",
       "      <td>2.628285</td>\n",
       "      <td>0.128594</td>\n",
       "      <td>5.053458</td>\n",
       "      <td>7.599902</td>\n",
       "    </tr>\n",
       "  </tbody>\n",
       "</table>\n",
       "</div>"
      ],
      "text/plain": [
       "   Item_Weight  Item_Fat_Content  Item_Visibility  Item_Type  Item_MRP  \\\n",
       "0        9.500               1.0         0.035206   0.146964  171.3448   \n",
       "1       18.000               0.0         0.047473   0.109123  170.5422   \n",
       "2       17.600               1.0         0.076122   0.047668  111.7202   \n",
       "3        8.325               0.0         0.029845   0.146964   41.6138   \n",
       "4       12.850               0.0         0.137228   0.142417  155.5630   \n",
       "\n",
       "   Outlet_Identifier  Outlet_Establishment_Year  Outlet_Size  \\\n",
       "0           0.105603                       1999          1.0   \n",
       "1           0.107950                       2002          0.0   \n",
       "2           0.108976                       1997          0.0   \n",
       "3           0.107950                       2002          0.0   \n",
       "4           0.108976                       1997          0.0   \n",
       "\n",
       "   Outlet_Location_Type  Outlet_Type  Item_Weight_log  Item_Visibility_log  \\\n",
       "0                   0.0     0.652097         2.351375             0.034600   \n",
       "1                   1.0     0.652097         2.944439             0.046381   \n",
       "2                   0.0     0.652097         2.923162             0.073364   \n",
       "3                   1.0     0.652097         2.232699             0.029409   \n",
       "4                   0.0     0.652097         2.628285             0.128594   \n",
       "\n",
       "   Item_MRP_log  Outlet_Establishment_Year_log  \n",
       "0      5.149497                       7.600902  \n",
       "1      5.144829                       7.602401  \n",
       "2      4.724909                       7.599902  \n",
       "3      3.752178                       7.602401  \n",
       "4      5.053458                       7.599902  "
      ]
     },
     "execution_count": 54,
     "metadata": {},
     "output_type": "execute_result"
    }
   ],
   "source": [
    "X_train.head()"
   ]
  },
  {
   "cell_type": "markdown",
   "id": "3f3c3fab-ed68-4a96-9333-102a4db4dd29",
   "metadata": {},
   "source": [
    "### 8.7 Perform 'Min Max Scaling'</a><a id='8.7'></a> "
   ]
  },
  {
   "cell_type": "code",
   "execution_count": 55,
   "id": "d6330ba1-6798-4462-8383-4e703ece950a",
   "metadata": {},
   "outputs": [],
   "source": [
    "# Funtion to scale columns to prepare datasets ready for next modeling steps\n",
    "\n",
    "def func_scale_cols(df_train,df_valid,df_test):\n",
    "    \n",
    "    from sklearn.preprocessing import MinMaxScaler\n",
    "    #--------------------------------------------\n",
    "    # Create a MinMaxScaler instance\n",
    "    scaler = MinMaxScaler()\n",
    "    #--------------------------------------------------------------------------------------------\n",
    "    # Fit and transform the scaler on the numeric columns\n",
    "    df_train[['Item_Weight',     'Item_Visibility',    'Item_MRP',    'Outlet_Establishment_Year',\\\n",
    "              'Item_Weight_log', 'Item_Visibility_log','Item_MRP_log','Outlet_Establishment_Year_log','Outlet_Establishment_Year']] = \\\n",
    "        scaler.fit_transform(df_train[[\n",
    "            'Item_Weight_log', 'Item_Visibility_log','Item_MRP_log','Outlet_Establishment_Year_log',\\\n",
    "            'Item_Weight_log', 'Item_Visibility_log','Item_MRP_log','Outlet_Establishment_Year_log','Outlet_Establishment_Year']])\n",
    "    #--------------------------------------------------------------------------------------------\n",
    "    df_valid[['Item_Weight',     'Item_Visibility',    'Item_MRP',    'Outlet_Establishment_Year',\\\n",
    "              'Item_Weight_log', 'Item_Visibility_log','Item_MRP_log','Outlet_Establishment_Year_log','Outlet_Establishment_Year']] = \\\n",
    "        scaler.transform(df_valid[[\n",
    "            'Item_Weight_log', 'Item_Visibility_log','Item_MRP_log','Outlet_Establishment_Year_log',\\\n",
    "            'Item_Weight_log', 'Item_Visibility_log','Item_MRP_log','Outlet_Establishment_Year_log','Outlet_Establishment_Year']])\n",
    "    #--------------------------------------------------------------------------------------------\n",
    "    df_test[['Item_Weight',     'Item_Visibility',    'Item_MRP',    'Outlet_Establishment_Year',\\\n",
    "              'Item_Weight_log', 'Item_Visibility_log','Item_MRP_log','Outlet_Establishment_Year_log','Outlet_Establishment_Year']] = \\\n",
    "        scaler.transform(df_test[[\n",
    "            'Item_Weight_log', 'Item_Visibility_log','Item_MRP_log','Outlet_Establishment_Year_log',\\\n",
    "            'Item_Weight_log', 'Item_Visibility_log','Item_MRP_log','Outlet_Establishment_Year_log','Outlet_Establishment_Year']])\n",
    "\n",
    "    return df_train,df_valid,df_test"
   ]
  },
  {
   "cell_type": "code",
   "execution_count": 56,
   "id": "5bd798b8-05c2-4668-b1c8-3c6ae1d05989",
   "metadata": {},
   "outputs": [],
   "source": [
    "X_scaled_train,X_scaled_valid,X_scaled_test = func_scale_cols(X_train,X_valid,X_features_test)"
   ]
  },
  {
   "cell_type": "code",
   "execution_count": 57,
   "id": "4ed1d9d7-4ec0-441b-8ec7-3cefdab564d4",
   "metadata": {},
   "outputs": [
    {
     "data": {
      "text/html": [
       "<div>\n",
       "<style scoped>\n",
       "    .dataframe tbody tr th:only-of-type {\n",
       "        vertical-align: middle;\n",
       "    }\n",
       "\n",
       "    .dataframe tbody tr th {\n",
       "        vertical-align: top;\n",
       "    }\n",
       "\n",
       "    .dataframe thead th {\n",
       "        text-align: right;\n",
       "    }\n",
       "</style>\n",
       "<table border=\"1\" class=\"dataframe\">\n",
       "  <thead>\n",
       "    <tr style=\"text-align: right;\">\n",
       "      <th></th>\n",
       "      <th>Item_Weight</th>\n",
       "      <th>Item_Fat_Content</th>\n",
       "      <th>Item_Visibility</th>\n",
       "      <th>Item_Type</th>\n",
       "      <th>Item_MRP</th>\n",
       "      <th>Outlet_Identifier</th>\n",
       "      <th>Outlet_Establishment_Year</th>\n",
       "      <th>Outlet_Size</th>\n",
       "      <th>Outlet_Location_Type</th>\n",
       "      <th>Outlet_Type</th>\n",
       "      <th>Item_Weight_log</th>\n",
       "      <th>Item_Visibility_log</th>\n",
       "      <th>Item_MRP_log</th>\n",
       "      <th>Outlet_Establishment_Year_log</th>\n",
       "    </tr>\n",
       "  </thead>\n",
       "  <tbody>\n",
       "    <tr>\n",
       "      <th>0</th>\n",
       "      <td>0.457341</td>\n",
       "      <td>1.0</td>\n",
       "      <td>0.121846</td>\n",
       "      <td>0.146964</td>\n",
       "      <td>0.791535</td>\n",
       "      <td>0.105603</td>\n",
       "      <td>0.583333</td>\n",
       "      <td>1.0</td>\n",
       "      <td>0.0</td>\n",
       "      <td>0.652097</td>\n",
       "      <td>0.457341</td>\n",
       "      <td>0.121846</td>\n",
       "      <td>0.791535</td>\n",
       "      <td>0.584792</td>\n",
       "    </tr>\n",
       "    <tr>\n",
       "      <th>1</th>\n",
       "      <td>0.883353</td>\n",
       "      <td>0.0</td>\n",
       "      <td>0.163331</td>\n",
       "      <td>0.109123</td>\n",
       "      <td>0.789329</td>\n",
       "      <td>0.107950</td>\n",
       "      <td>0.708333</td>\n",
       "      <td>0.0</td>\n",
       "      <td>1.0</td>\n",
       "      <td>0.652097</td>\n",
       "      <td>0.883353</td>\n",
       "      <td>0.163331</td>\n",
       "      <td>0.789329</td>\n",
       "      <td>0.709572</td>\n",
       "    </tr>\n",
       "    <tr>\n",
       "      <th>2</th>\n",
       "      <td>0.868069</td>\n",
       "      <td>1.0</td>\n",
       "      <td>0.258352</td>\n",
       "      <td>0.047668</td>\n",
       "      <td>0.590861</td>\n",
       "      <td>0.108976</td>\n",
       "      <td>0.500000</td>\n",
       "      <td>0.0</td>\n",
       "      <td>0.0</td>\n",
       "      <td>0.652097</td>\n",
       "      <td>0.868069</td>\n",
       "      <td>0.258352</td>\n",
       "      <td>0.590861</td>\n",
       "      <td>0.501502</td>\n",
       "    </tr>\n",
       "    <tr>\n",
       "      <th>3</th>\n",
       "      <td>0.372093</td>\n",
       "      <td>0.0</td>\n",
       "      <td>0.103563</td>\n",
       "      <td>0.146964</td>\n",
       "      <td>0.131118</td>\n",
       "      <td>0.107950</td>\n",
       "      <td>0.708333</td>\n",
       "      <td>0.0</td>\n",
       "      <td>1.0</td>\n",
       "      <td>0.652097</td>\n",
       "      <td>0.372093</td>\n",
       "      <td>0.103563</td>\n",
       "      <td>0.131118</td>\n",
       "      <td>0.709572</td>\n",
       "    </tr>\n",
       "    <tr>\n",
       "      <th>4</th>\n",
       "      <td>0.656252</td>\n",
       "      <td>0.0</td>\n",
       "      <td>0.452845</td>\n",
       "      <td>0.142417</td>\n",
       "      <td>0.746144</td>\n",
       "      <td>0.108976</td>\n",
       "      <td>0.500000</td>\n",
       "      <td>0.0</td>\n",
       "      <td>0.0</td>\n",
       "      <td>0.652097</td>\n",
       "      <td>0.656252</td>\n",
       "      <td>0.452845</td>\n",
       "      <td>0.746144</td>\n",
       "      <td>0.501502</td>\n",
       "    </tr>\n",
       "  </tbody>\n",
       "</table>\n",
       "</div>"
      ],
      "text/plain": [
       "   Item_Weight  Item_Fat_Content  Item_Visibility  Item_Type  Item_MRP  \\\n",
       "0     0.457341               1.0         0.121846   0.146964  0.791535   \n",
       "1     0.883353               0.0         0.163331   0.109123  0.789329   \n",
       "2     0.868069               1.0         0.258352   0.047668  0.590861   \n",
       "3     0.372093               0.0         0.103563   0.146964  0.131118   \n",
       "4     0.656252               0.0         0.452845   0.142417  0.746144   \n",
       "\n",
       "   Outlet_Identifier  Outlet_Establishment_Year  Outlet_Size  \\\n",
       "0           0.105603                   0.583333          1.0   \n",
       "1           0.107950                   0.708333          0.0   \n",
       "2           0.108976                   0.500000          0.0   \n",
       "3           0.107950                   0.708333          0.0   \n",
       "4           0.108976                   0.500000          0.0   \n",
       "\n",
       "   Outlet_Location_Type  Outlet_Type  Item_Weight_log  Item_Visibility_log  \\\n",
       "0                   0.0     0.652097         0.457341             0.121846   \n",
       "1                   1.0     0.652097         0.883353             0.163331   \n",
       "2                   0.0     0.652097         0.868069             0.258352   \n",
       "3                   1.0     0.652097         0.372093             0.103563   \n",
       "4                   0.0     0.652097         0.656252             0.452845   \n",
       "\n",
       "   Item_MRP_log  Outlet_Establishment_Year_log  \n",
       "0      0.791535                       0.584792  \n",
       "1      0.789329                       0.709572  \n",
       "2      0.590861                       0.501502  \n",
       "3      0.131118                       0.709572  \n",
       "4      0.746144                       0.501502  "
      ]
     },
     "execution_count": 57,
     "metadata": {},
     "output_type": "execute_result"
    }
   ],
   "source": [
    "X_scaled_train.head()"
   ]
  },
  {
   "cell_type": "code",
   "execution_count": 58,
   "id": "96bbe2c0-d5fb-4ba1-ab94-502dc376ddac",
   "metadata": {},
   "outputs": [
    {
     "data": {
      "text/html": [
       "<div>\n",
       "<style scoped>\n",
       "    .dataframe tbody tr th:only-of-type {\n",
       "        vertical-align: middle;\n",
       "    }\n",
       "\n",
       "    .dataframe tbody tr th {\n",
       "        vertical-align: top;\n",
       "    }\n",
       "\n",
       "    .dataframe thead th {\n",
       "        text-align: right;\n",
       "    }\n",
       "</style>\n",
       "<table border=\"1\" class=\"dataframe\">\n",
       "  <thead>\n",
       "    <tr style=\"text-align: right;\">\n",
       "      <th></th>\n",
       "      <th>Item_Weight</th>\n",
       "      <th>Item_Fat_Content</th>\n",
       "      <th>Item_Visibility</th>\n",
       "      <th>Item_Type</th>\n",
       "      <th>Item_MRP</th>\n",
       "      <th>Outlet_Identifier</th>\n",
       "      <th>Outlet_Establishment_Year</th>\n",
       "      <th>Outlet_Size</th>\n",
       "      <th>Outlet_Location_Type</th>\n",
       "      <th>Outlet_Type</th>\n",
       "      <th>Item_Weight_log</th>\n",
       "      <th>Item_Visibility_log</th>\n",
       "      <th>Item_MRP_log</th>\n",
       "      <th>Outlet_Establishment_Year_log</th>\n",
       "    </tr>\n",
       "  </thead>\n",
       "  <tbody>\n",
       "    <tr>\n",
       "      <th>0</th>\n",
       "      <td>0.727774</td>\n",
       "      <td>0.0</td>\n",
       "      <td>0.091418</td>\n",
       "      <td>0.102639</td>\n",
       "      <td>0.431339</td>\n",
       "      <td>0.110264</td>\n",
       "      <td>0.083333</td>\n",
       "      <td>2.0</td>\n",
       "      <td>2.0</td>\n",
       "      <td>0.663343</td>\n",
       "      <td>0.727774</td>\n",
       "      <td>0.091418</td>\n",
       "      <td>0.431339</td>\n",
       "      <td>0.083794</td>\n",
       "    </tr>\n",
       "    <tr>\n",
       "      <th>1</th>\n",
       "      <td>0.341002</td>\n",
       "      <td>0.0</td>\n",
       "      <td>0.241998</td>\n",
       "      <td>0.065103</td>\n",
       "      <td>0.143107</td>\n",
       "      <td>0.109677</td>\n",
       "      <td>0.500000</td>\n",
       "      <td>0.0</td>\n",
       "      <td>0.0</td>\n",
       "      <td>0.663343</td>\n",
       "      <td>0.341002</td>\n",
       "      <td>0.241998</td>\n",
       "      <td>0.143107</td>\n",
       "      <td>0.501502</td>\n",
       "    </tr>\n",
       "    <tr>\n",
       "      <th>2</th>\n",
       "      <td>0.737103</td>\n",
       "      <td>1.0</td>\n",
       "      <td>0.142560</td>\n",
       "      <td>0.079765</td>\n",
       "      <td>0.135881</td>\n",
       "      <td>0.123167</td>\n",
       "      <td>0.583333</td>\n",
       "      <td>1.0</td>\n",
       "      <td>0.0</td>\n",
       "      <td>0.663343</td>\n",
       "      <td>0.737103</td>\n",
       "      <td>0.142560</td>\n",
       "      <td>0.135881</td>\n",
       "      <td>0.584792</td>\n",
       "    </tr>\n",
       "    <tr>\n",
       "      <th>3</th>\n",
       "      <td>0.645804</td>\n",
       "      <td>1.0</td>\n",
       "      <td>0.154221</td>\n",
       "      <td>0.053372</td>\n",
       "      <td>0.797964</td>\n",
       "      <td>0.102053</td>\n",
       "      <td>0.000000</td>\n",
       "      <td>1.0</td>\n",
       "      <td>2.0</td>\n",
       "      <td>0.102053</td>\n",
       "      <td>0.645804</td>\n",
       "      <td>0.154221</td>\n",
       "      <td>0.797964</td>\n",
       "      <td>0.000000</td>\n",
       "    </tr>\n",
       "    <tr>\n",
       "      <th>4</th>\n",
       "      <td>0.503380</td>\n",
       "      <td>1.0</td>\n",
       "      <td>0.043592</td>\n",
       "      <td>0.058651</td>\n",
       "      <td>0.858340</td>\n",
       "      <td>0.105572</td>\n",
       "      <td>0.791667</td>\n",
       "      <td>0.0</td>\n",
       "      <td>1.0</td>\n",
       "      <td>0.663343</td>\n",
       "      <td>0.503380</td>\n",
       "      <td>0.043592</td>\n",
       "      <td>0.858340</td>\n",
       "      <td>0.792655</td>\n",
       "    </tr>\n",
       "  </tbody>\n",
       "</table>\n",
       "</div>"
      ],
      "text/plain": [
       "   Item_Weight  Item_Fat_Content  Item_Visibility  Item_Type  Item_MRP  \\\n",
       "0     0.727774               0.0         0.091418   0.102639  0.431339   \n",
       "1     0.341002               0.0         0.241998   0.065103  0.143107   \n",
       "2     0.737103               1.0         0.142560   0.079765  0.135881   \n",
       "3     0.645804               1.0         0.154221   0.053372  0.797964   \n",
       "4     0.503380               1.0         0.043592   0.058651  0.858340   \n",
       "\n",
       "   Outlet_Identifier  Outlet_Establishment_Year  Outlet_Size  \\\n",
       "0           0.110264                   0.083333          2.0   \n",
       "1           0.109677                   0.500000          0.0   \n",
       "2           0.123167                   0.583333          1.0   \n",
       "3           0.102053                   0.000000          1.0   \n",
       "4           0.105572                   0.791667          0.0   \n",
       "\n",
       "   Outlet_Location_Type  Outlet_Type  Item_Weight_log  Item_Visibility_log  \\\n",
       "0                   2.0     0.663343         0.727774             0.091418   \n",
       "1                   0.0     0.663343         0.341002             0.241998   \n",
       "2                   0.0     0.663343         0.737103             0.142560   \n",
       "3                   2.0     0.102053         0.645804             0.154221   \n",
       "4                   1.0     0.663343         0.503380             0.043592   \n",
       "\n",
       "   Item_MRP_log  Outlet_Establishment_Year_log  \n",
       "0      0.431339                       0.083794  \n",
       "1      0.143107                       0.501502  \n",
       "2      0.135881                       0.584792  \n",
       "3      0.797964                       0.000000  \n",
       "4      0.858340                       0.792655  "
      ]
     },
     "execution_count": 58,
     "metadata": {},
     "output_type": "execute_result"
    }
   ],
   "source": [
    "X_scaled_valid.head()"
   ]
  },
  {
   "cell_type": "code",
   "execution_count": 59,
   "id": "d528033b-e61c-4e8e-aeaa-f49c1ee38c98",
   "metadata": {},
   "outputs": [
    {
     "data": {
      "text/html": [
       "<div>\n",
       "<style scoped>\n",
       "    .dataframe tbody tr th:only-of-type {\n",
       "        vertical-align: middle;\n",
       "    }\n",
       "\n",
       "    .dataframe tbody tr th {\n",
       "        vertical-align: top;\n",
       "    }\n",
       "\n",
       "    .dataframe thead th {\n",
       "        text-align: right;\n",
       "    }\n",
       "</style>\n",
       "<table border=\"1\" class=\"dataframe\">\n",
       "  <thead>\n",
       "    <tr style=\"text-align: right;\">\n",
       "      <th></th>\n",
       "      <th>Item_Weight</th>\n",
       "      <th>Item_Fat_Content</th>\n",
       "      <th>Item_Visibility</th>\n",
       "      <th>Item_Type</th>\n",
       "      <th>Item_MRP</th>\n",
       "      <th>Outlet_Identifier</th>\n",
       "      <th>Outlet_Establishment_Year</th>\n",
       "      <th>Outlet_Size</th>\n",
       "      <th>Outlet_Location_Type</th>\n",
       "      <th>Outlet_Type</th>\n",
       "      <th>Item_Weight_log</th>\n",
       "      <th>Item_Visibility_log</th>\n",
       "      <th>Item_MRP_log</th>\n",
       "      <th>Outlet_Establishment_Year_log</th>\n",
       "    </tr>\n",
       "  </thead>\n",
       "  <tbody>\n",
       "    <tr>\n",
       "      <th>0</th>\n",
       "      <td>0.980453</td>\n",
       "      <td>0.0</td>\n",
       "      <td>0.026539</td>\n",
       "      <td>0.138884</td>\n",
       "      <td>0.574401</td>\n",
       "      <td>0.109136</td>\n",
       "      <td>0.583333</td>\n",
       "      <td>1.0</td>\n",
       "      <td>0.0</td>\n",
       "      <td>0.654286</td>\n",
       "      <td>0.980453</td>\n",
       "      <td>0.026539</td>\n",
       "      <td>0.574401</td>\n",
       "      <td>0.584792</td>\n",
       "    </tr>\n",
       "    <tr>\n",
       "      <th>1</th>\n",
       "      <td>0.370164</td>\n",
       "      <td>1.0</td>\n",
       "      <td>0.132788</td>\n",
       "      <td>0.079916</td>\n",
       "      <td>0.475565</td>\n",
       "      <td>0.108608</td>\n",
       "      <td>0.916667</td>\n",
       "      <td>0.0</td>\n",
       "      <td>1.0</td>\n",
       "      <td>0.654286</td>\n",
       "      <td>0.370164</td>\n",
       "      <td>0.132788</td>\n",
       "      <td>0.475565</td>\n",
       "      <td>0.917124</td>\n",
       "    </tr>\n",
       "    <tr>\n",
       "      <th>2</th>\n",
       "      <td>0.741722</td>\n",
       "      <td>0.0</td>\n",
       "      <td>0.334275</td>\n",
       "      <td>0.019539</td>\n",
       "      <td>0.953435</td>\n",
       "      <td>0.065129</td>\n",
       "      <td>0.541667</td>\n",
       "      <td>0.0</td>\n",
       "      <td>2.0</td>\n",
       "      <td>0.127090</td>\n",
       "      <td>0.741722</td>\n",
       "      <td>0.334275</td>\n",
       "      <td>0.953435</td>\n",
       "      <td>0.543157</td>\n",
       "    </tr>\n",
       "    <tr>\n",
       "      <th>3</th>\n",
       "      <td>0.289745</td>\n",
       "      <td>0.0</td>\n",
       "      <td>0.053778</td>\n",
       "      <td>0.138884</td>\n",
       "      <td>0.744544</td>\n",
       "      <td>0.108608</td>\n",
       "      <td>0.916667</td>\n",
       "      <td>0.0</td>\n",
       "      <td>1.0</td>\n",
       "      <td>0.654286</td>\n",
       "      <td>0.289745</td>\n",
       "      <td>0.053778</td>\n",
       "      <td>0.744544</td>\n",
       "      <td>0.917124</td>\n",
       "    </tr>\n",
       "    <tr>\n",
       "      <th>4</th>\n",
       "      <td>0.653654</td>\n",
       "      <td>1.0</td>\n",
       "      <td>0.394682</td>\n",
       "      <td>0.079916</td>\n",
       "      <td>0.938555</td>\n",
       "      <td>0.109840</td>\n",
       "      <td>0.000000</td>\n",
       "      <td>1.0</td>\n",
       "      <td>2.0</td>\n",
       "      <td>0.109840</td>\n",
       "      <td>0.653654</td>\n",
       "      <td>0.394682</td>\n",
       "      <td>0.938555</td>\n",
       "      <td>0.000000</td>\n",
       "    </tr>\n",
       "  </tbody>\n",
       "</table>\n",
       "</div>"
      ],
      "text/plain": [
       "   Item_Weight  Item_Fat_Content  Item_Visibility  Item_Type  Item_MRP  \\\n",
       "0     0.980453               0.0         0.026539   0.138884  0.574401   \n",
       "1     0.370164               1.0         0.132788   0.079916  0.475565   \n",
       "2     0.741722               0.0         0.334275   0.019539  0.953435   \n",
       "3     0.289745               0.0         0.053778   0.138884  0.744544   \n",
       "4     0.653654               1.0         0.394682   0.079916  0.938555   \n",
       "\n",
       "   Outlet_Identifier  Outlet_Establishment_Year  Outlet_Size  \\\n",
       "0           0.109136                   0.583333          1.0   \n",
       "1           0.108608                   0.916667          0.0   \n",
       "2           0.065129                   0.541667          0.0   \n",
       "3           0.108608                   0.916667          0.0   \n",
       "4           0.109840                   0.000000          1.0   \n",
       "\n",
       "   Outlet_Location_Type  Outlet_Type  Item_Weight_log  Item_Visibility_log  \\\n",
       "0                   0.0     0.654286         0.980453             0.026539   \n",
       "1                   1.0     0.654286         0.370164             0.132788   \n",
       "2                   2.0     0.127090         0.741722             0.334275   \n",
       "3                   1.0     0.654286         0.289745             0.053778   \n",
       "4                   2.0     0.109840         0.653654             0.394682   \n",
       "\n",
       "   Item_MRP_log  Outlet_Establishment_Year_log  \n",
       "0      0.574401                       0.584792  \n",
       "1      0.475565                       0.917124  \n",
       "2      0.953435                       0.543157  \n",
       "3      0.744544                       0.917124  \n",
       "4      0.938555                       0.000000  "
      ]
     },
     "execution_count": 59,
     "metadata": {},
     "output_type": "execute_result"
    }
   ],
   "source": [
    "X_scaled_test.head()"
   ]
  },
  {
   "cell_type": "markdown",
   "id": "b14245fb-4443-421d-b27a-f6fb6a8638f9",
   "metadata": {},
   "source": [
    "### 8.8 Save Dataframe</a><a id='8.8'></a> "
   ]
  },
  {
   "cell_type": "code",
   "execution_count": 60,
   "id": "d1064932-d540-4bec-aad2-1d7eb56243f7",
   "metadata": {},
   "outputs": [],
   "source": [
    "# Save the current state of DataFrame to Excel and pickle file\n",
    "\n",
    "X_train.to_excel('X_train.xlsx',index=False)\n",
    "X_valid.to_excel('X_valid.xlsx',index=False)\n",
    "X_features_test.to_excel('X_features_test.xlsx',index=False)\n",
    "#---------------------------------------------------------------\n",
    "X_scaled_train.to_excel('X_scaled_train.xlsx',index=False)\n",
    "X_scaled_valid.to_excel('X_scaled_valid.xlsx',index=False)\n",
    "X_scaled_test.to_excel('X_scaled_features_test.xlsx',index=False)\n",
    "#---------------------------------------------------------------\n",
    "X_train.to_pickle('X_train.pkl')\n",
    "X_valid.to_pickle('X_valid.pkl')\n",
    "X_features_test.to_pickle('X_features_test.pkl')\n",
    "#---------------------------------------------------------------\n",
    "X_scaled_train.to_pickle('X_scaled_train.pkl')\n",
    "X_scaled_valid.to_pickle('X_scaled_valid.pkl')\n",
    "X_scaled_test.to_pickle('X_scaled_features_test.pkl')"
   ]
  },
  {
   "cell_type": "markdown",
   "id": "b4c3b736-cde3-49d2-a156-270537266d31",
   "metadata": {},
   "source": [
    "***Drop below columns as respective log columns exist**"
   ]
  },
  {
   "cell_type": "code",
   "execution_count": 61,
   "id": "8a608afb-1481-41e1-a820-d1883f39310c",
   "metadata": {},
   "outputs": [],
   "source": [
    "# Drop below features and check out the shape of the datasets\n",
    "\n",
    "X_scaled_train = X_scaled_train.drop(['Item_Weight', 'Item_Visibility','Item_MRP','Outlet_Establishment_Year'],axis=1)\n",
    "X_scaled_valid = X_scaled_valid.drop(['Item_Weight', 'Item_Visibility','Item_MRP','Outlet_Establishment_Year'],axis=1)\n",
    "X_scaled_test  = X_scaled_test.drop(['Item_Weight' , 'Item_Visibility','Item_MRP','Outlet_Establishment_Year'],axis=1)\n",
    "\n",
    "\n",
    "X_train          = X_train.drop(['Item_Weight', 'Item_Visibility','Item_MRP','Outlet_Establishment_Year'],axis=1)\n",
    "X_valid          = X_valid.drop(['Item_Weight', 'Item_Visibility','Item_MRP','Outlet_Establishment_Year'],axis=1)\n",
    "X_features_test  = X_features_test.drop(['Item_Weight' , 'Item_Visibility','Item_MRP','Outlet_Establishment_Year'],axis=1)"
   ]
  },
  {
   "cell_type": "code",
   "execution_count": 62,
   "id": "b19be7c2-7784-4db8-87dd-4f9f4fbc3326",
   "metadata": {},
   "outputs": [
    {
     "data": {
      "text/plain": [
       "(((6818, 10), (6818, 10), (6818,)),\n",
       " ((1705, 10), (1705, 10), (1705,)),\n",
       " (5681, 10))"
      ]
     },
     "execution_count": 62,
     "metadata": {},
     "output_type": "execute_result"
    }
   ],
   "source": [
    "(X_train.shape,X_scaled_train.shape,y_train.shape),(X_valid.shape,X_scaled_valid.shape,y_valid.shape),(X_scaled_test.shape)"
   ]
  },
  {
   "cell_type": "markdown",
   "id": "bfa27070-6183-4de9-b25f-fb521437f9c8",
   "metadata": {},
   "source": [
    "### 8.9 Define 'Baseline Model' Performance<a id='8.9'></a> "
   ]
  },
  {
   "cell_type": "markdown",
   "id": "a04372f5-0fa7-4df1-9ea2-acbc7e56b418",
   "metadata": {},
   "source": [
    "**Compute Average Sales (Train and Valid Datasets)**"
   ]
  },
  {
   "cell_type": "code",
   "execution_count": 63,
   "id": "410f0ff1-3603-4e5d-bb9b-496c625aa5a9",
   "metadata": {},
   "outputs": [
    {
     "name": "stdout",
     "output_type": "stream",
     "text": [
      "Average Sales(Train): 2202.365231211499\n",
      "Average Sales(Valid): 2097.0083659824045\n",
      "\n",
      "Log Average Sales(Train): 7.309469162159492\n",
      "Log Average Sales(Valid): 7.251453565725218\n"
     ]
    }
   ],
   "source": [
    "#calculate the average score of the train dataset\n",
    "\n",
    "mean_sales_train = y_train.mean()\n",
    "print(\"Average Sales(Train):\",mean_sales_train)\n",
    "mean_sales_valid = y_valid.mean()\n",
    "print(\"Average Sales(Valid):\",mean_sales_valid)\n",
    "#---------------------------------------------------------\n",
    "mean_sales_log_train = y_log_train.mean()\n",
    "print(\"\\nLog Average Sales(Train):\",mean_sales_log_train)\n",
    "mean_sales_log_valid = y_log_valid.mean()\n",
    "print(\"Log Average Sales(Valid):\",mean_sales_log_valid)\n"
   ]
  },
  {
   "cell_type": "markdown",
   "id": "72198da0-cc75-441c-afcc-4f168e5ccc5a",
   "metadata": {},
   "source": [
    "**Compute MAE Sales (Train and Valid Datasets)**"
   ]
  },
  {
   "cell_type": "code",
   "execution_count": 64,
   "id": "6d02244b-898e-4c51-a52b-10049f18f864",
   "metadata": {},
   "outputs": [
    {
     "name": "stdout",
     "output_type": "stream",
     "text": [
      "MAE(Train): 1357.4626666789145\n",
      "MAE(Valid): 1301.9849003947331\n",
      "\n",
      "MAE(Log Train): 0.7989731006841285\n",
      "MAE(Log Valid): 0.8135673021335594\n"
     ]
    }
   ],
   "source": [
    "#Calculate the Mean Absolute Error on the test dataset\n",
    "\n",
    "print(\"MAE(Train):\",abs(np.subtract(y_train, mean_sales_train)).mean())\n",
    "print(\"MAE(Valid):\",abs(np.subtract(y_valid, mean_sales_valid)).mean())\n",
    "#\n",
    "print(\"\\nMAE(Log Train):\",abs(np.subtract(y_log_train, mean_sales_log_train)).mean())\n",
    "print(\"MAE(Log Valid):\",abs(np.subtract(y_log_valid, mean_sales_log_valid)).mean())"
   ]
  },
  {
   "cell_type": "code",
   "execution_count": 65,
   "id": "d14c8af6-dd9f-4979-a380-6b215a2bdc9e",
   "metadata": {},
   "outputs": [
    {
     "name": "stdout",
     "output_type": "stream",
     "text": [
      "<class 'pandas.core.frame.DataFrame'>\n",
      "RangeIndex: 6818 entries, 0 to 6817\n",
      "Data columns (total 10 columns):\n",
      " #   Column                         Non-Null Count  Dtype  \n",
      "---  ------                         --------------  -----  \n",
      " 0   Item_Fat_Content               6818 non-null   float64\n",
      " 1   Item_Type                      6818 non-null   float64\n",
      " 2   Outlet_Identifier              6818 non-null   float64\n",
      " 3   Outlet_Size                    6818 non-null   float64\n",
      " 4   Outlet_Location_Type           6818 non-null   float64\n",
      " 5   Outlet_Type                    6818 non-null   float64\n",
      " 6   Item_Weight_log                6818 non-null   float64\n",
      " 7   Item_Visibility_log            6818 non-null   float64\n",
      " 8   Item_MRP_log                   6818 non-null   float64\n",
      " 9   Outlet_Establishment_Year_log  6818 non-null   float64\n",
      "dtypes: float64(10)\n",
      "memory usage: 532.8 KB\n"
     ]
    }
   ],
   "source": [
    "X_scaled_train.info()"
   ]
  },
  {
   "cell_type": "markdown",
   "id": "e5ebcabc-caf5-4259-afe9-fc5ca75be125",
   "metadata": {},
   "source": [
    "## 9. Build Keras 'Sequential' Neural Network Model<a id='9'></a> "
   ]
  },
  {
   "cell_type": "markdown",
   "id": "745e2627-d26d-416c-b985-87830dc972ec",
   "metadata": {},
   "source": [
    "### 9.1. Define Neural Network Architecture of the Model<a id='9.2'></a> "
   ]
  },
  {
   "cell_type": "markdown",
   "id": "fef23b6e-5040-4071-821d-a6ba346ba6e7",
   "metadata": {},
   "source": [
    "### 9.1.1 Import NN Libraries"
   ]
  },
  {
   "cell_type": "code",
   "execution_count": 66,
   "id": "5a8d5d70-809a-455d-84a5-1c2cc6031ba4",
   "metadata": {},
   "outputs": [],
   "source": [
    "import keras\n",
    "from   keras             import layers, initializers, regularizers\n",
    "from   keras.layers      import InputLayer, Dense, Dropout, BatchNormalization\n",
    "from   keras.constraints import max_norm\n",
    "from   keras.models      import Sequential\n",
    "\n",
    "import pickle"
   ]
  },
  {
   "cell_type": "markdown",
   "id": "10db8f90-59f3-4535-a769-cf984231f775",
   "metadata": {},
   "source": [
    "### 9.1.3 Define Input and Output Neurons"
   ]
  },
  {
   "cell_type": "code",
   "execution_count": 67,
   "id": "71787b7f-9331-4936-927a-6732ade87ee3",
   "metadata": {},
   "outputs": [],
   "source": [
    "input_neurons = X_scaled_train.shape[1];num_of_layers=5;Lrate0=0.001;Lrate1=0.0005;Lrate2=0.01;Lrate3=0.025;activation_fn='relu';optimizer='adam'\n",
    "neuron_sl1=[50,50,50,50,50];  neuron_sl2=[50,50,50,50,50];  neuron_sl3=[50,50,50,50,50];  neuron_sl4=[50,50,50,50,50];\n",
    "neuron_sl5=[200,100,50,50,50];neuron_sl6=[200,100,50,50,50];neuron_sl7=[200,100,50,50,50];neuron_sl8=[200,100,50,50,50];\n",
    "neuron_sl9=[200,100,50,50,50];neuron_sl10=[200,100,50,50,50]"
   ]
  },
  {
   "cell_type": "markdown",
   "id": "875c9bb0-09aa-47a2-9f85-9b9e2470341a",
   "metadata": {},
   "source": [
    "### 9.1.3 Define Sequential Model"
   ]
  },
  {
   "cell_type": "code",
   "execution_count": 68,
   "id": "8dc1d67d-21d4-44e0-80b7-f6a648f38deb",
   "metadata": {},
   "outputs": [],
   "source": [
    "# Create Regression Model using Input parameters\n",
    "\n",
    "def func_create_regression_model(input_shape,hidden_neurons,num_layers=5,activation='relu',weights='he_normal',\\\n",
    "                                     drop='Y',bn='Y',optimizer='adam',learning_rate=0.001):\n",
    "    #---------------------------------------------------------------------------------------------------------\n",
    "    model = keras.Sequential()\n",
    "    #---------------------------------------------------------------------------------------------------------\n",
    "    model.add(layers.Input(shape=input_shape))\n",
    "    #---------------------------------------------------------------------------------------------------------\n",
    "    # Add hidden layers with 'L2 regularizer'\n",
    "    #---------------------------------------------------------------------------------------------------------\n",
    "    for layer in range(num_layers): \n",
    "        model.add(layers.Dense(hidden_neurons[layer],kernel_initializer=weights,activation=activation))\n",
    "        if drop=='Y':    \n",
    "            model.add(Dropout(0.2))\n",
    "        if bn=='Y':\n",
    "            model.add(BatchNormalization())\n",
    "    #---------------------------------------------------------------------------------------------------------\n",
    "    # Output layer - # Regression output has a single neuron\n",
    "    #---------------------------------------------------------------------------------------------------------\n",
    "    model.add(layers.Dense(1))\n",
    "    #---------------------------------------------------------------------------------------------------------\n",
    "    # Instantiate Optimizer with input Learning Rate\n",
    "    #---------------------------------------------------------------------------------------------------------\n",
    "    if optimizer == 'adam':\n",
    "        optimizer = keras.optimizers.Adam(learning_rate=learning_rate) \n",
    "    else:\n",
    "        optimizer = keras.optimizers.SGD(learning_rate=learning_rate)\n",
    "    #---------------------------------------------------------------------------------------------------------\n",
    "    model.compile(loss='mean_absolute_error',optimizer=optimizer,metrics=['r2_score','mean_squared_error'])\n",
    "    #---------------------------------------------------------------------------------------------------------\n",
    "    return model"
   ]
  },
  {
   "attachments": {
    "ed1363ff-6cd9-46f2-b493-05138b7c579a.png": {
     "image/png": "[encoded data removed]"
    }
   },
   "cell_type": "markdown",
   "id": "f3e425ca-1e6f-4924-9a4a-615a1ea755f7",
   "metadata": {},
   "source": [
    "**Model Parameters**\n",
    "![image.png](attachment:ed1363ff-6cd9-46f2-b493-05138b7c579a.png)"
   ]
  },
  {
   "cell_type": "code",
   "execution_count": 69,
   "id": "9553cb2d-cb75-4769-b7d7-eec19bffd847",
   "metadata": {},
   "outputs": [],
   "source": [
    "# Create Sequential NN Models per given parameters\n",
    "#-------------------------------------------------------------------------------------------------------------------------------------------\n",
    "# Models using 'Adam' Optimizer\n",
    "#-------------------------------------------------------------------------------------------------------------------------------------------s\n",
    "input_shape     = (input_neurons,)  \n",
    "model_ADM1      = func_create_regression_model(input_shape,neuron_sl1, num_of_layers,activation_fn,'GlorotNormal' ,'N','N',optimizer,Lrate0)\n",
    "model_ADM2      = func_create_regression_model(input_shape,neuron_sl2, num_of_layers,activation_fn,'he_normal'    ,'N','N',optimizer,Lrate0)\n",
    "model_ADM3      = func_create_regression_model(input_shape,neuron_sl3, num_of_layers,activation_fn,'GlorotNormal' ,'N','N',optimizer,Lrate0)\n",
    "model_ADM4      = func_create_regression_model(input_shape,neuron_sl4, num_of_layers,activation_fn,'GlorotNormal' ,'Y','Y',optimizer,Lrate0)\n",
    "model_ADM5      = func_create_regression_model(input_shape,neuron_sl5, num_of_layers,activation_fn,'GlorotNormal' ,'Y','Y',optimizer,Lrate0)\n",
    "model_ADM6      = func_create_regression_model(input_shape,neuron_sl6, num_of_layers,activation_fn,'GlorotNormal' ,'Y','Y',optimizer,Lrate0)\n",
    "model_ADM7      = func_create_regression_model(input_shape,neuron_sl7, num_of_layers,activation_fn,'he_normal'    ,'Y','Y',optimizer,Lrate0)\n",
    "model_ADM8      = func_create_regression_model(input_shape,neuron_sl8, num_of_layers,activation_fn,'he_normal'    ,'Y','Y',optimizer,Lrate1)\n",
    "model_ADM9      = func_create_regression_model(input_shape,neuron_sl9, num_of_layers,activation_fn,'he_normal'    ,'Y','Y',optimizer,Lrate2)\n",
    "model_ADM10      = func_create_regression_model(input_shape,neuron_sl10,num_of_layers,activation_fn,'he_normal'    ,'Y','Y',optimizer,Lrate3)\n",
    "all_adm_models  = [model_ADM1,model_ADM2,model_ADM3,model_ADM4,model_ADM5,model_ADM6,model_ADM7,model_ADM8,model_ADM9,model_ADM10]"
   ]
  },
  {
   "cell_type": "code",
   "execution_count": 70,
   "id": "d55fc353-e664-40a8-9c2d-3e5f45a6fce6",
   "metadata": {},
   "outputs": [],
   "source": [
    "#-------------------------------------------------------------------------------------------------------------------------------------------\n",
    "# Models using 'SGD' Optimizer\n",
    "#-------------------------------------------------------------------------------------------------------------------------------------------s\n",
    "input_shape     = (input_neurons,)  \n",
    "model_SGD1      = func_create_regression_model(input_shape,neuron_sl1, num_of_layers,activation_fn,'GlorotNormal' ,'N','N',optimizer,Lrate0)\n",
    "model_SGD2      = func_create_regression_model(input_shape,neuron_sl2, num_of_layers,activation_fn,'he_normal'    ,'N','N',optimizer,Lrate0)\n",
    "model_SGD3      = func_create_regression_model(input_shape,neuron_sl3, num_of_layers,activation_fn,'GlorotNormal' ,'N','N',optimizer,Lrate0)\n",
    "model_SGD4      = func_create_regression_model(input_shape,neuron_sl4, num_of_layers,activation_fn,'GlorotNormal' ,'Y','Y',optimizer,Lrate0)\n",
    "model_SGD5      = func_create_regression_model(input_shape,neuron_sl5, num_of_layers,activation_fn,'GlorotNormal' ,'Y','Y',optimizer,Lrate0)\n",
    "model_SGD6      = func_create_regression_model(input_shape,neuron_sl6, num_of_layers,activation_fn,'GlorotNormal' ,'Y','Y',optimizer,Lrate0)\n",
    "model_SGD7      = func_create_regression_model(input_shape,neuron_sl7, num_of_layers,activation_fn,'he_normal'    ,'Y','Y',optimizer,Lrate0)\n",
    "model_SGD8      = func_create_regression_model(input_shape,neuron_sl8, num_of_layers,activation_fn,'he_normal'    ,'Y','Y',optimizer,Lrate1)\n",
    "model_SGD9      = func_create_regression_model(input_shape,neuron_sl9, num_of_layers,activation_fn,'he_normal'    ,'Y','Y',optimizer,Lrate2)\n",
    "model_SGD10      = func_create_regression_model(input_shape,neuron_sl10,num_of_layers,activation_fn,'he_normal'    ,'Y','Y',optimizer,Lrate3)\n",
    "all_sgd_models  = [model_SGD1,model_SGD2,model_SGD3,model_SGD4,model_SGD5,model_SGD6,model_SGD7,model_SGD8,model_SGD9,model_SGD10]"
   ]
  },
  {
   "cell_type": "markdown",
   "id": "e729946d-5d96-44ef-bbf9-61e4e18cc233",
   "metadata": {},
   "source": [
    "### 9.2 Model Summary"
   ]
  },
  {
   "attachments": {
    "5ebb7df0-6d25-4711-9f52-e378380d1ee7.png": {
     "image/png": "[encoded data removed]"
    }
   },
   "cell_type": "markdown",
   "id": "516e3673-e60e-46b0-b2d9-f262410db2ba",
   "metadata": {},
   "source": [
    "**Model Parameters**\n",
    "![image.png](attachment:5ebb7df0-6d25-4711-9f52-e378380d1ee7.png)"
   ]
  },
  {
   "cell_type": "code",
   "execution_count": 71,
   "id": "df1179f0-7161-4153-af86-771bf424213b",
   "metadata": {},
   "outputs": [
    {
     "name": "stdout",
     "output_type": "stream",
     "text": [
      "\n",
      "Model_ADM1\n"
     ]
    },
    {
     "data": {
      "text/html": [
       "<pre style=\"white-space:pre;overflow-x:auto;line-height:normal;font-family:Menlo,'DejaVu Sans Mono',consolas,'Courier New',monospace\"><span style=\"font-weight: bold\">Model: \"sequential\"</span>\n",
       "</pre>\n"
      ],
      "text/plain": [
       "\u001b[1mModel: \"sequential\"\u001b[0m\n"
      ]
     },
     "metadata": {},
     "output_type": "display_data"
    },
    {
     "data": {
      "text/html": [
       "<pre style=\"white-space:pre;overflow-x:auto;line-height:normal;font-family:Menlo,'DejaVu Sans Mono',consolas,'Courier New',monospace\">┏━━━━━━━━━━━━━━━━━━━━━━━━━━━━━━━━━━━━━━┳━━━━━━━━━━━━━━━━━━━━━━━━━━━━━┳━━━━━━━━━━━━━━━━━┓\n",
       "┃<span style=\"font-weight: bold\"> Layer (type)                         </span>┃<span style=\"font-weight: bold\"> Output Shape                </span>┃<span style=\"font-weight: bold\">         Param # </span>┃\n",
       "┡━━━━━━━━━━━━━━━━━━━━━━━━━━━━━━━━━━━━━━╇━━━━━━━━━━━━━━━━━━━━━━━━━━━━━╇━━━━━━━━━━━━━━━━━┩\n",
       "│ dense (<span style=\"color: #0087ff; text-decoration-color: #0087ff\">Dense</span>)                        │ (<span style=\"color: #00d7ff; text-decoration-color: #00d7ff\">None</span>, <span style=\"color: #00af00; text-decoration-color: #00af00\">50</span>)                  │             <span style=\"color: #00af00; text-decoration-color: #00af00\">550</span> │\n",
       "├──────────────────────────────────────┼─────────────────────────────┼─────────────────┤\n",
       "│ dense_1 (<span style=\"color: #0087ff; text-decoration-color: #0087ff\">Dense</span>)                      │ (<span style=\"color: #00d7ff; text-decoration-color: #00d7ff\">None</span>, <span style=\"color: #00af00; text-decoration-color: #00af00\">50</span>)                  │           <span style=\"color: #00af00; text-decoration-color: #00af00\">2,550</span> │\n",
       "├──────────────────────────────────────┼─────────────────────────────┼─────────────────┤\n",
       "│ dense_2 (<span style=\"color: #0087ff; text-decoration-color: #0087ff\">Dense</span>)                      │ (<span style=\"color: #00d7ff; text-decoration-color: #00d7ff\">None</span>, <span style=\"color: #00af00; text-decoration-color: #00af00\">50</span>)                  │           <span style=\"color: #00af00; text-decoration-color: #00af00\">2,550</span> │\n",
       "├──────────────────────────────────────┼─────────────────────────────┼─────────────────┤\n",
       "│ dense_3 (<span style=\"color: #0087ff; text-decoration-color: #0087ff\">Dense</span>)                      │ (<span style=\"color: #00d7ff; text-decoration-color: #00d7ff\">None</span>, <span style=\"color: #00af00; text-decoration-color: #00af00\">50</span>)                  │           <span style=\"color: #00af00; text-decoration-color: #00af00\">2,550</span> │\n",
       "├──────────────────────────────────────┼─────────────────────────────┼─────────────────┤\n",
       "│ dense_4 (<span style=\"color: #0087ff; text-decoration-color: #0087ff\">Dense</span>)                      │ (<span style=\"color: #00d7ff; text-decoration-color: #00d7ff\">None</span>, <span style=\"color: #00af00; text-decoration-color: #00af00\">50</span>)                  │           <span style=\"color: #00af00; text-decoration-color: #00af00\">2,550</span> │\n",
       "├──────────────────────────────────────┼─────────────────────────────┼─────────────────┤\n",
       "│ dense_5 (<span style=\"color: #0087ff; text-decoration-color: #0087ff\">Dense</span>)                      │ (<span style=\"color: #00d7ff; text-decoration-color: #00d7ff\">None</span>, <span style=\"color: #00af00; text-decoration-color: #00af00\">1</span>)                   │              <span style=\"color: #00af00; text-decoration-color: #00af00\">51</span> │\n",
       "└──────────────────────────────────────┴─────────────────────────────┴─────────────────┘\n",
       "</pre>\n"
      ],
      "text/plain": [
       "┏━━━━━━━━━━━━━━━━━━━━━━━━━━━━━━━━━━━━━━┳━━━━━━━━━━━━━━━━━━━━━━━━━━━━━┳━━━━━━━━━━━━━━━━━┓\n",
       "┃\u001b[1m \u001b[0m\u001b[1mLayer (type)                        \u001b[0m\u001b[1m \u001b[0m┃\u001b[1m \u001b[0m\u001b[1mOutput Shape               \u001b[0m\u001b[1m \u001b[0m┃\u001b[1m \u001b[0m\u001b[1m        Param #\u001b[0m\u001b[1m \u001b[0m┃\n",
       "┡━━━━━━━━━━━━━━━━━━━━━━━━━━━━━━━━━━━━━━╇━━━━━━━━━━━━━━━━━━━━━━━━━━━━━╇━━━━━━━━━━━━━━━━━┩\n",
       "│ dense (\u001b[38;5;33mDense\u001b[0m)                        │ (\u001b[38;5;45mNone\u001b[0m, \u001b[38;5;34m50\u001b[0m)                  │             \u001b[38;5;34m550\u001b[0m │\n",
       "├──────────────────────────────────────┼─────────────────────────────┼─────────────────┤\n",
       "│ dense_1 (\u001b[38;5;33mDense\u001b[0m)                      │ (\u001b[38;5;45mNone\u001b[0m, \u001b[38;5;34m50\u001b[0m)                  │           \u001b[38;5;34m2,550\u001b[0m │\n",
       "├──────────────────────────────────────┼─────────────────────────────┼─────────────────┤\n",
       "│ dense_2 (\u001b[38;5;33mDense\u001b[0m)                      │ (\u001b[38;5;45mNone\u001b[0m, \u001b[38;5;34m50\u001b[0m)                  │           \u001b[38;5;34m2,550\u001b[0m │\n",
       "├──────────────────────────────────────┼─────────────────────────────┼─────────────────┤\n",
       "│ dense_3 (\u001b[38;5;33mDense\u001b[0m)                      │ (\u001b[38;5;45mNone\u001b[0m, \u001b[38;5;34m50\u001b[0m)                  │           \u001b[38;5;34m2,550\u001b[0m │\n",
       "├──────────────────────────────────────┼─────────────────────────────┼─────────────────┤\n",
       "│ dense_4 (\u001b[38;5;33mDense\u001b[0m)                      │ (\u001b[38;5;45mNone\u001b[0m, \u001b[38;5;34m50\u001b[0m)                  │           \u001b[38;5;34m2,550\u001b[0m │\n",
       "├──────────────────────────────────────┼─────────────────────────────┼─────────────────┤\n",
       "│ dense_5 (\u001b[38;5;33mDense\u001b[0m)                      │ (\u001b[38;5;45mNone\u001b[0m, \u001b[38;5;34m1\u001b[0m)                   │              \u001b[38;5;34m51\u001b[0m │\n",
       "└──────────────────────────────────────┴─────────────────────────────┴─────────────────┘\n"
      ]
     },
     "metadata": {},
     "output_type": "display_data"
    },
    {
     "data": {
      "text/html": [
       "<pre style=\"white-space:pre;overflow-x:auto;line-height:normal;font-family:Menlo,'DejaVu Sans Mono',consolas,'Courier New',monospace\"><span style=\"font-weight: bold\"> Total params: </span><span style=\"color: #00af00; text-decoration-color: #00af00\">10,801</span> (42.19 KB)\n",
       "</pre>\n"
      ],
      "text/plain": [
       "\u001b[1m Total params: \u001b[0m\u001b[38;5;34m10,801\u001b[0m (42.19 KB)\n"
      ]
     },
     "metadata": {},
     "output_type": "display_data"
    },
    {
     "data": {
      "text/html": [
       "<pre style=\"white-space:pre;overflow-x:auto;line-height:normal;font-family:Menlo,'DejaVu Sans Mono',consolas,'Courier New',monospace\"><span style=\"font-weight: bold\"> Trainable params: </span><span style=\"color: #00af00; text-decoration-color: #00af00\">10,801</span> (42.19 KB)\n",
       "</pre>\n"
      ],
      "text/plain": [
       "\u001b[1m Trainable params: \u001b[0m\u001b[38;5;34m10,801\u001b[0m (42.19 KB)\n"
      ]
     },
     "metadata": {},
     "output_type": "display_data"
    },
    {
     "data": {
      "text/html": [
       "<pre style=\"white-space:pre;overflow-x:auto;line-height:normal;font-family:Menlo,'DejaVu Sans Mono',consolas,'Courier New',monospace\"><span style=\"font-weight: bold\"> Non-trainable params: </span><span style=\"color: #00af00; text-decoration-color: #00af00\">0</span> (0.00 B)\n",
       "</pre>\n"
      ],
      "text/plain": [
       "\u001b[1m Non-trainable params: \u001b[0m\u001b[38;5;34m0\u001b[0m (0.00 B)\n"
      ]
     },
     "metadata": {},
     "output_type": "display_data"
    },
    {
     "name": "stdout",
     "output_type": "stream",
     "text": [
      "\n",
      "Model_ADM2\n"
     ]
    },
    {
     "data": {
      "text/html": [
       "<pre style=\"white-space:pre;overflow-x:auto;line-height:normal;font-family:Menlo,'DejaVu Sans Mono',consolas,'Courier New',monospace\"><span style=\"font-weight: bold\">Model: \"sequential_1\"</span>\n",
       "</pre>\n"
      ],
      "text/plain": [
       "\u001b[1mModel: \"sequential_1\"\u001b[0m\n"
      ]
     },
     "metadata": {},
     "output_type": "display_data"
    },
    {
     "data": {
      "text/html": [
       "<pre style=\"white-space:pre;overflow-x:auto;line-height:normal;font-family:Menlo,'DejaVu Sans Mono',consolas,'Courier New',monospace\">┏━━━━━━━━━━━━━━━━━━━━━━━━━━━━━━━━━━━━━━┳━━━━━━━━━━━━━━━━━━━━━━━━━━━━━┳━━━━━━━━━━━━━━━━━┓\n",
       "┃<span style=\"font-weight: bold\"> Layer (type)                         </span>┃<span style=\"font-weight: bold\"> Output Shape                </span>┃<span style=\"font-weight: bold\">         Param # </span>┃\n",
       "┡━━━━━━━━━━━━━━━━━━━━━━━━━━━━━━━━━━━━━━╇━━━━━━━━━━━━━━━━━━━━━━━━━━━━━╇━━━━━━━━━━━━━━━━━┩\n",
       "│ dense_6 (<span style=\"color: #0087ff; text-decoration-color: #0087ff\">Dense</span>)                      │ (<span style=\"color: #00d7ff; text-decoration-color: #00d7ff\">None</span>, <span style=\"color: #00af00; text-decoration-color: #00af00\">50</span>)                  │             <span style=\"color: #00af00; text-decoration-color: #00af00\">550</span> │\n",
       "├──────────────────────────────────────┼─────────────────────────────┼─────────────────┤\n",
       "│ dense_7 (<span style=\"color: #0087ff; text-decoration-color: #0087ff\">Dense</span>)                      │ (<span style=\"color: #00d7ff; text-decoration-color: #00d7ff\">None</span>, <span style=\"color: #00af00; text-decoration-color: #00af00\">50</span>)                  │           <span style=\"color: #00af00; text-decoration-color: #00af00\">2,550</span> │\n",
       "├──────────────────────────────────────┼─────────────────────────────┼─────────────────┤\n",
       "│ dense_8 (<span style=\"color: #0087ff; text-decoration-color: #0087ff\">Dense</span>)                      │ (<span style=\"color: #00d7ff; text-decoration-color: #00d7ff\">None</span>, <span style=\"color: #00af00; text-decoration-color: #00af00\">50</span>)                  │           <span style=\"color: #00af00; text-decoration-color: #00af00\">2,550</span> │\n",
       "├──────────────────────────────────────┼─────────────────────────────┼─────────────────┤\n",
       "│ dense_9 (<span style=\"color: #0087ff; text-decoration-color: #0087ff\">Dense</span>)                      │ (<span style=\"color: #00d7ff; text-decoration-color: #00d7ff\">None</span>, <span style=\"color: #00af00; text-decoration-color: #00af00\">50</span>)                  │           <span style=\"color: #00af00; text-decoration-color: #00af00\">2,550</span> │\n",
       "├──────────────────────────────────────┼─────────────────────────────┼─────────────────┤\n",
       "│ dense_10 (<span style=\"color: #0087ff; text-decoration-color: #0087ff\">Dense</span>)                     │ (<span style=\"color: #00d7ff; text-decoration-color: #00d7ff\">None</span>, <span style=\"color: #00af00; text-decoration-color: #00af00\">50</span>)                  │           <span style=\"color: #00af00; text-decoration-color: #00af00\">2,550</span> │\n",
       "├──────────────────────────────────────┼─────────────────────────────┼─────────────────┤\n",
       "│ dense_11 (<span style=\"color: #0087ff; text-decoration-color: #0087ff\">Dense</span>)                     │ (<span style=\"color: #00d7ff; text-decoration-color: #00d7ff\">None</span>, <span style=\"color: #00af00; text-decoration-color: #00af00\">1</span>)                   │              <span style=\"color: #00af00; text-decoration-color: #00af00\">51</span> │\n",
       "└──────────────────────────────────────┴─────────────────────────────┴─────────────────┘\n",
       "</pre>\n"
      ],
      "text/plain": [
       "┏━━━━━━━━━━━━━━━━━━━━━━━━━━━━━━━━━━━━━━┳━━━━━━━━━━━━━━━━━━━━━━━━━━━━━┳━━━━━━━━━━━━━━━━━┓\n",
       "┃\u001b[1m \u001b[0m\u001b[1mLayer (type)                        \u001b[0m\u001b[1m \u001b[0m┃\u001b[1m \u001b[0m\u001b[1mOutput Shape               \u001b[0m\u001b[1m \u001b[0m┃\u001b[1m \u001b[0m\u001b[1m        Param #\u001b[0m\u001b[1m \u001b[0m┃\n",
       "┡━━━━━━━━━━━━━━━━━━━━━━━━━━━━━━━━━━━━━━╇━━━━━━━━━━━━━━━━━━━━━━━━━━━━━╇━━━━━━━━━━━━━━━━━┩\n",
       "│ dense_6 (\u001b[38;5;33mDense\u001b[0m)                      │ (\u001b[38;5;45mNone\u001b[0m, \u001b[38;5;34m50\u001b[0m)                  │             \u001b[38;5;34m550\u001b[0m │\n",
       "├──────────────────────────────────────┼─────────────────────────────┼─────────────────┤\n",
       "│ dense_7 (\u001b[38;5;33mDense\u001b[0m)                      │ (\u001b[38;5;45mNone\u001b[0m, \u001b[38;5;34m50\u001b[0m)                  │           \u001b[38;5;34m2,550\u001b[0m │\n",
       "├──────────────────────────────────────┼─────────────────────────────┼─────────────────┤\n",
       "│ dense_8 (\u001b[38;5;33mDense\u001b[0m)                      │ (\u001b[38;5;45mNone\u001b[0m, \u001b[38;5;34m50\u001b[0m)                  │           \u001b[38;5;34m2,550\u001b[0m │\n",
       "├──────────────────────────────────────┼─────────────────────────────┼─────────────────┤\n",
       "│ dense_9 (\u001b[38;5;33mDense\u001b[0m)                      │ (\u001b[38;5;45mNone\u001b[0m, \u001b[38;5;34m50\u001b[0m)                  │           \u001b[38;5;34m2,550\u001b[0m │\n",
       "├──────────────────────────────────────┼─────────────────────────────┼─────────────────┤\n",
       "│ dense_10 (\u001b[38;5;33mDense\u001b[0m)                     │ (\u001b[38;5;45mNone\u001b[0m, \u001b[38;5;34m50\u001b[0m)                  │           \u001b[38;5;34m2,550\u001b[0m │\n",
       "├──────────────────────────────────────┼─────────────────────────────┼─────────────────┤\n",
       "│ dense_11 (\u001b[38;5;33mDense\u001b[0m)                     │ (\u001b[38;5;45mNone\u001b[0m, \u001b[38;5;34m1\u001b[0m)                   │              \u001b[38;5;34m51\u001b[0m │\n",
       "└──────────────────────────────────────┴─────────────────────────────┴─────────────────┘\n"
      ]
     },
     "metadata": {},
     "output_type": "display_data"
    },
    {
     "data": {
      "text/html": [
       "<pre style=\"white-space:pre;overflow-x:auto;line-height:normal;font-family:Menlo,'DejaVu Sans Mono',consolas,'Courier New',monospace\"><span style=\"font-weight: bold\"> Total params: </span><span style=\"color: #00af00; text-decoration-color: #00af00\">10,801</span> (42.19 KB)\n",
       "</pre>\n"
      ],
      "text/plain": [
       "\u001b[1m Total params: \u001b[0m\u001b[38;5;34m10,801\u001b[0m (42.19 KB)\n"
      ]
     },
     "metadata": {},
     "output_type": "display_data"
    },
    {
     "data": {
      "text/html": [
       "<pre style=\"white-space:pre;overflow-x:auto;line-height:normal;font-family:Menlo,'DejaVu Sans Mono',consolas,'Courier New',monospace\"><span style=\"font-weight: bold\"> Trainable params: </span><span style=\"color: #00af00; text-decoration-color: #00af00\">10,801</span> (42.19 KB)\n",
       "</pre>\n"
      ],
      "text/plain": [
       "\u001b[1m Trainable params: \u001b[0m\u001b[38;5;34m10,801\u001b[0m (42.19 KB)\n"
      ]
     },
     "metadata": {},
     "output_type": "display_data"
    },
    {
     "data": {
      "text/html": [
       "<pre style=\"white-space:pre;overflow-x:auto;line-height:normal;font-family:Menlo,'DejaVu Sans Mono',consolas,'Courier New',monospace\"><span style=\"font-weight: bold\"> Non-trainable params: </span><span style=\"color: #00af00; text-decoration-color: #00af00\">0</span> (0.00 B)\n",
       "</pre>\n"
      ],
      "text/plain": [
       "\u001b[1m Non-trainable params: \u001b[0m\u001b[38;5;34m0\u001b[0m (0.00 B)\n"
      ]
     },
     "metadata": {},
     "output_type": "display_data"
    },
    {
     "name": "stdout",
     "output_type": "stream",
     "text": [
      "\n",
      "Model_ADM3\n"
     ]
    },
    {
     "data": {
      "text/html": [
       "<pre style=\"white-space:pre;overflow-x:auto;line-height:normal;font-family:Menlo,'DejaVu Sans Mono',consolas,'Courier New',monospace\"><span style=\"font-weight: bold\">Model: \"sequential_2\"</span>\n",
       "</pre>\n"
      ],
      "text/plain": [
       "\u001b[1mModel: \"sequential_2\"\u001b[0m\n"
      ]
     },
     "metadata": {},
     "output_type": "display_data"
    },
    {
     "data": {
      "text/html": [
       "<pre style=\"white-space:pre;overflow-x:auto;line-height:normal;font-family:Menlo,'DejaVu Sans Mono',consolas,'Courier New',monospace\">┏━━━━━━━━━━━━━━━━━━━━━━━━━━━━━━━━━━━━━━┳━━━━━━━━━━━━━━━━━━━━━━━━━━━━━┳━━━━━━━━━━━━━━━━━┓\n",
       "┃<span style=\"font-weight: bold\"> Layer (type)                         </span>┃<span style=\"font-weight: bold\"> Output Shape                </span>┃<span style=\"font-weight: bold\">         Param # </span>┃\n",
       "┡━━━━━━━━━━━━━━━━━━━━━━━━━━━━━━━━━━━━━━╇━━━━━━━━━━━━━━━━━━━━━━━━━━━━━╇━━━━━━━━━━━━━━━━━┩\n",
       "│ dense_12 (<span style=\"color: #0087ff; text-decoration-color: #0087ff\">Dense</span>)                     │ (<span style=\"color: #00d7ff; text-decoration-color: #00d7ff\">None</span>, <span style=\"color: #00af00; text-decoration-color: #00af00\">50</span>)                  │             <span style=\"color: #00af00; text-decoration-color: #00af00\">550</span> │\n",
       "├──────────────────────────────────────┼─────────────────────────────┼─────────────────┤\n",
       "│ dense_13 (<span style=\"color: #0087ff; text-decoration-color: #0087ff\">Dense</span>)                     │ (<span style=\"color: #00d7ff; text-decoration-color: #00d7ff\">None</span>, <span style=\"color: #00af00; text-decoration-color: #00af00\">50</span>)                  │           <span style=\"color: #00af00; text-decoration-color: #00af00\">2,550</span> │\n",
       "├──────────────────────────────────────┼─────────────────────────────┼─────────────────┤\n",
       "│ dense_14 (<span style=\"color: #0087ff; text-decoration-color: #0087ff\">Dense</span>)                     │ (<span style=\"color: #00d7ff; text-decoration-color: #00d7ff\">None</span>, <span style=\"color: #00af00; text-decoration-color: #00af00\">50</span>)                  │           <span style=\"color: #00af00; text-decoration-color: #00af00\">2,550</span> │\n",
       "├──────────────────────────────────────┼─────────────────────────────┼─────────────────┤\n",
       "│ dense_15 (<span style=\"color: #0087ff; text-decoration-color: #0087ff\">Dense</span>)                     │ (<span style=\"color: #00d7ff; text-decoration-color: #00d7ff\">None</span>, <span style=\"color: #00af00; text-decoration-color: #00af00\">50</span>)                  │           <span style=\"color: #00af00; text-decoration-color: #00af00\">2,550</span> │\n",
       "├──────────────────────────────────────┼─────────────────────────────┼─────────────────┤\n",
       "│ dense_16 (<span style=\"color: #0087ff; text-decoration-color: #0087ff\">Dense</span>)                     │ (<span style=\"color: #00d7ff; text-decoration-color: #00d7ff\">None</span>, <span style=\"color: #00af00; text-decoration-color: #00af00\">50</span>)                  │           <span style=\"color: #00af00; text-decoration-color: #00af00\">2,550</span> │\n",
       "├──────────────────────────────────────┼─────────────────────────────┼─────────────────┤\n",
       "│ dense_17 (<span style=\"color: #0087ff; text-decoration-color: #0087ff\">Dense</span>)                     │ (<span style=\"color: #00d7ff; text-decoration-color: #00d7ff\">None</span>, <span style=\"color: #00af00; text-decoration-color: #00af00\">1</span>)                   │              <span style=\"color: #00af00; text-decoration-color: #00af00\">51</span> │\n",
       "└──────────────────────────────────────┴─────────────────────────────┴─────────────────┘\n",
       "</pre>\n"
      ],
      "text/plain": [
       "┏━━━━━━━━━━━━━━━━━━━━━━━━━━━━━━━━━━━━━━┳━━━━━━━━━━━━━━━━━━━━━━━━━━━━━┳━━━━━━━━━━━━━━━━━┓\n",
       "┃\u001b[1m \u001b[0m\u001b[1mLayer (type)                        \u001b[0m\u001b[1m \u001b[0m┃\u001b[1m \u001b[0m\u001b[1mOutput Shape               \u001b[0m\u001b[1m \u001b[0m┃\u001b[1m \u001b[0m\u001b[1m        Param #\u001b[0m\u001b[1m \u001b[0m┃\n",
       "┡━━━━━━━━━━━━━━━━━━━━━━━━━━━━━━━━━━━━━━╇━━━━━━━━━━━━━━━━━━━━━━━━━━━━━╇━━━━━━━━━━━━━━━━━┩\n",
       "│ dense_12 (\u001b[38;5;33mDense\u001b[0m)                     │ (\u001b[38;5;45mNone\u001b[0m, \u001b[38;5;34m50\u001b[0m)                  │             \u001b[38;5;34m550\u001b[0m │\n",
       "├──────────────────────────────────────┼─────────────────────────────┼─────────────────┤\n",
       "│ dense_13 (\u001b[38;5;33mDense\u001b[0m)                     │ (\u001b[38;5;45mNone\u001b[0m, \u001b[38;5;34m50\u001b[0m)                  │           \u001b[38;5;34m2,550\u001b[0m │\n",
       "├──────────────────────────────────────┼─────────────────────────────┼─────────────────┤\n",
       "│ dense_14 (\u001b[38;5;33mDense\u001b[0m)                     │ (\u001b[38;5;45mNone\u001b[0m, \u001b[38;5;34m50\u001b[0m)                  │           \u001b[38;5;34m2,550\u001b[0m │\n",
       "├──────────────────────────────────────┼─────────────────────────────┼─────────────────┤\n",
       "│ dense_15 (\u001b[38;5;33mDense\u001b[0m)                     │ (\u001b[38;5;45mNone\u001b[0m, \u001b[38;5;34m50\u001b[0m)                  │           \u001b[38;5;34m2,550\u001b[0m │\n",
       "├──────────────────────────────────────┼─────────────────────────────┼─────────────────┤\n",
       "│ dense_16 (\u001b[38;5;33mDense\u001b[0m)                     │ (\u001b[38;5;45mNone\u001b[0m, \u001b[38;5;34m50\u001b[0m)                  │           \u001b[38;5;34m2,550\u001b[0m │\n",
       "├──────────────────────────────────────┼─────────────────────────────┼─────────────────┤\n",
       "│ dense_17 (\u001b[38;5;33mDense\u001b[0m)                     │ (\u001b[38;5;45mNone\u001b[0m, \u001b[38;5;34m1\u001b[0m)                   │              \u001b[38;5;34m51\u001b[0m │\n",
       "└──────────────────────────────────────┴─────────────────────────────┴─────────────────┘\n"
      ]
     },
     "metadata": {},
     "output_type": "display_data"
    },
    {
     "data": {
      "text/html": [
       "<pre style=\"white-space:pre;overflow-x:auto;line-height:normal;font-family:Menlo,'DejaVu Sans Mono',consolas,'Courier New',monospace\"><span style=\"font-weight: bold\"> Total params: </span><span style=\"color: #00af00; text-decoration-color: #00af00\">10,801</span> (42.19 KB)\n",
       "</pre>\n"
      ],
      "text/plain": [
       "\u001b[1m Total params: \u001b[0m\u001b[38;5;34m10,801\u001b[0m (42.19 KB)\n"
      ]
     },
     "metadata": {},
     "output_type": "display_data"
    },
    {
     "data": {
      "text/html": [
       "<pre style=\"white-space:pre;overflow-x:auto;line-height:normal;font-family:Menlo,'DejaVu Sans Mono',consolas,'Courier New',monospace\"><span style=\"font-weight: bold\"> Trainable params: </span><span style=\"color: #00af00; text-decoration-color: #00af00\">10,801</span> (42.19 KB)\n",
       "</pre>\n"
      ],
      "text/plain": [
       "\u001b[1m Trainable params: \u001b[0m\u001b[38;5;34m10,801\u001b[0m (42.19 KB)\n"
      ]
     },
     "metadata": {},
     "output_type": "display_data"
    },
    {
     "data": {
      "text/html": [
       "<pre style=\"white-space:pre;overflow-x:auto;line-height:normal;font-family:Menlo,'DejaVu Sans Mono',consolas,'Courier New',monospace\"><span style=\"font-weight: bold\"> Non-trainable params: </span><span style=\"color: #00af00; text-decoration-color: #00af00\">0</span> (0.00 B)\n",
       "</pre>\n"
      ],
      "text/plain": [
       "\u001b[1m Non-trainable params: \u001b[0m\u001b[38;5;34m0\u001b[0m (0.00 B)\n"
      ]
     },
     "metadata": {},
     "output_type": "display_data"
    },
    {
     "name": "stdout",
     "output_type": "stream",
     "text": [
      "\n",
      "Model_ADM4\n"
     ]
    },
    {
     "data": {
      "text/html": [
       "<pre style=\"white-space:pre;overflow-x:auto;line-height:normal;font-family:Menlo,'DejaVu Sans Mono',consolas,'Courier New',monospace\"><span style=\"font-weight: bold\">Model: \"sequential_3\"</span>\n",
       "</pre>\n"
      ],
      "text/plain": [
       "\u001b[1mModel: \"sequential_3\"\u001b[0m\n"
      ]
     },
     "metadata": {},
     "output_type": "display_data"
    },
    {
     "data": {
      "text/html": [
       "<pre style=\"white-space:pre;overflow-x:auto;line-height:normal;font-family:Menlo,'DejaVu Sans Mono',consolas,'Courier New',monospace\">┏━━━━━━━━━━━━━━━━━━━━━━━━━━━━━━━━━━━━━━┳━━━━━━━━━━━━━━━━━━━━━━━━━━━━━┳━━━━━━━━━━━━━━━━━┓\n",
       "┃<span style=\"font-weight: bold\"> Layer (type)                         </span>┃<span style=\"font-weight: bold\"> Output Shape                </span>┃<span style=\"font-weight: bold\">         Param # </span>┃\n",
       "┡━━━━━━━━━━━━━━━━━━━━━━━━━━━━━━━━━━━━━━╇━━━━━━━━━━━━━━━━━━━━━━━━━━━━━╇━━━━━━━━━━━━━━━━━┩\n",
       "│ dense_18 (<span style=\"color: #0087ff; text-decoration-color: #0087ff\">Dense</span>)                     │ (<span style=\"color: #00d7ff; text-decoration-color: #00d7ff\">None</span>, <span style=\"color: #00af00; text-decoration-color: #00af00\">50</span>)                  │             <span style=\"color: #00af00; text-decoration-color: #00af00\">550</span> │\n",
       "├──────────────────────────────────────┼─────────────────────────────┼─────────────────┤\n",
       "│ dropout (<span style=\"color: #0087ff; text-decoration-color: #0087ff\">Dropout</span>)                    │ (<span style=\"color: #00d7ff; text-decoration-color: #00d7ff\">None</span>, <span style=\"color: #00af00; text-decoration-color: #00af00\">50</span>)                  │               <span style=\"color: #00af00; text-decoration-color: #00af00\">0</span> │\n",
       "├──────────────────────────────────────┼─────────────────────────────┼─────────────────┤\n",
       "│ batch_normalization                  │ (<span style=\"color: #00d7ff; text-decoration-color: #00d7ff\">None</span>, <span style=\"color: #00af00; text-decoration-color: #00af00\">50</span>)                  │             <span style=\"color: #00af00; text-decoration-color: #00af00\">200</span> │\n",
       "│ (<span style=\"color: #0087ff; text-decoration-color: #0087ff\">BatchNormalization</span>)                 │                             │                 │\n",
       "├──────────────────────────────────────┼─────────────────────────────┼─────────────────┤\n",
       "│ dense_19 (<span style=\"color: #0087ff; text-decoration-color: #0087ff\">Dense</span>)                     │ (<span style=\"color: #00d7ff; text-decoration-color: #00d7ff\">None</span>, <span style=\"color: #00af00; text-decoration-color: #00af00\">50</span>)                  │           <span style=\"color: #00af00; text-decoration-color: #00af00\">2,550</span> │\n",
       "├──────────────────────────────────────┼─────────────────────────────┼─────────────────┤\n",
       "│ dropout_1 (<span style=\"color: #0087ff; text-decoration-color: #0087ff\">Dropout</span>)                  │ (<span style=\"color: #00d7ff; text-decoration-color: #00d7ff\">None</span>, <span style=\"color: #00af00; text-decoration-color: #00af00\">50</span>)                  │               <span style=\"color: #00af00; text-decoration-color: #00af00\">0</span> │\n",
       "├──────────────────────────────────────┼─────────────────────────────┼─────────────────┤\n",
       "│ batch_normalization_1                │ (<span style=\"color: #00d7ff; text-decoration-color: #00d7ff\">None</span>, <span style=\"color: #00af00; text-decoration-color: #00af00\">50</span>)                  │             <span style=\"color: #00af00; text-decoration-color: #00af00\">200</span> │\n",
       "│ (<span style=\"color: #0087ff; text-decoration-color: #0087ff\">BatchNormalization</span>)                 │                             │                 │\n",
       "├──────────────────────────────────────┼─────────────────────────────┼─────────────────┤\n",
       "│ dense_20 (<span style=\"color: #0087ff; text-decoration-color: #0087ff\">Dense</span>)                     │ (<span style=\"color: #00d7ff; text-decoration-color: #00d7ff\">None</span>, <span style=\"color: #00af00; text-decoration-color: #00af00\">50</span>)                  │           <span style=\"color: #00af00; text-decoration-color: #00af00\">2,550</span> │\n",
       "├──────────────────────────────────────┼─────────────────────────────┼─────────────────┤\n",
       "│ dropout_2 (<span style=\"color: #0087ff; text-decoration-color: #0087ff\">Dropout</span>)                  │ (<span style=\"color: #00d7ff; text-decoration-color: #00d7ff\">None</span>, <span style=\"color: #00af00; text-decoration-color: #00af00\">50</span>)                  │               <span style=\"color: #00af00; text-decoration-color: #00af00\">0</span> │\n",
       "├──────────────────────────────────────┼─────────────────────────────┼─────────────────┤\n",
       "│ batch_normalization_2                │ (<span style=\"color: #00d7ff; text-decoration-color: #00d7ff\">None</span>, <span style=\"color: #00af00; text-decoration-color: #00af00\">50</span>)                  │             <span style=\"color: #00af00; text-decoration-color: #00af00\">200</span> │\n",
       "│ (<span style=\"color: #0087ff; text-decoration-color: #0087ff\">BatchNormalization</span>)                 │                             │                 │\n",
       "├──────────────────────────────────────┼─────────────────────────────┼─────────────────┤\n",
       "│ dense_21 (<span style=\"color: #0087ff; text-decoration-color: #0087ff\">Dense</span>)                     │ (<span style=\"color: #00d7ff; text-decoration-color: #00d7ff\">None</span>, <span style=\"color: #00af00; text-decoration-color: #00af00\">50</span>)                  │           <span style=\"color: #00af00; text-decoration-color: #00af00\">2,550</span> │\n",
       "├──────────────────────────────────────┼─────────────────────────────┼─────────────────┤\n",
       "│ dropout_3 (<span style=\"color: #0087ff; text-decoration-color: #0087ff\">Dropout</span>)                  │ (<span style=\"color: #00d7ff; text-decoration-color: #00d7ff\">None</span>, <span style=\"color: #00af00; text-decoration-color: #00af00\">50</span>)                  │               <span style=\"color: #00af00; text-decoration-color: #00af00\">0</span> │\n",
       "├──────────────────────────────────────┼─────────────────────────────┼─────────────────┤\n",
       "│ batch_normalization_3                │ (<span style=\"color: #00d7ff; text-decoration-color: #00d7ff\">None</span>, <span style=\"color: #00af00; text-decoration-color: #00af00\">50</span>)                  │             <span style=\"color: #00af00; text-decoration-color: #00af00\">200</span> │\n",
       "│ (<span style=\"color: #0087ff; text-decoration-color: #0087ff\">BatchNormalization</span>)                 │                             │                 │\n",
       "├──────────────────────────────────────┼─────────────────────────────┼─────────────────┤\n",
       "│ dense_22 (<span style=\"color: #0087ff; text-decoration-color: #0087ff\">Dense</span>)                     │ (<span style=\"color: #00d7ff; text-decoration-color: #00d7ff\">None</span>, <span style=\"color: #00af00; text-decoration-color: #00af00\">50</span>)                  │           <span style=\"color: #00af00; text-decoration-color: #00af00\">2,550</span> │\n",
       "├──────────────────────────────────────┼─────────────────────────────┼─────────────────┤\n",
       "│ dropout_4 (<span style=\"color: #0087ff; text-decoration-color: #0087ff\">Dropout</span>)                  │ (<span style=\"color: #00d7ff; text-decoration-color: #00d7ff\">None</span>, <span style=\"color: #00af00; text-decoration-color: #00af00\">50</span>)                  │               <span style=\"color: #00af00; text-decoration-color: #00af00\">0</span> │\n",
       "├──────────────────────────────────────┼─────────────────────────────┼─────────────────┤\n",
       "│ batch_normalization_4                │ (<span style=\"color: #00d7ff; text-decoration-color: #00d7ff\">None</span>, <span style=\"color: #00af00; text-decoration-color: #00af00\">50</span>)                  │             <span style=\"color: #00af00; text-decoration-color: #00af00\">200</span> │\n",
       "│ (<span style=\"color: #0087ff; text-decoration-color: #0087ff\">BatchNormalization</span>)                 │                             │                 │\n",
       "├──────────────────────────────────────┼─────────────────────────────┼─────────────────┤\n",
       "│ dense_23 (<span style=\"color: #0087ff; text-decoration-color: #0087ff\">Dense</span>)                     │ (<span style=\"color: #00d7ff; text-decoration-color: #00d7ff\">None</span>, <span style=\"color: #00af00; text-decoration-color: #00af00\">1</span>)                   │              <span style=\"color: #00af00; text-decoration-color: #00af00\">51</span> │\n",
       "└──────────────────────────────────────┴─────────────────────────────┴─────────────────┘\n",
       "</pre>\n"
      ],
      "text/plain": [
       "┏━━━━━━━━━━━━━━━━━━━━━━━━━━━━━━━━━━━━━━┳━━━━━━━━━━━━━━━━━━━━━━━━━━━━━┳━━━━━━━━━━━━━━━━━┓\n",
       "┃\u001b[1m \u001b[0m\u001b[1mLayer (type)                        \u001b[0m\u001b[1m \u001b[0m┃\u001b[1m \u001b[0m\u001b[1mOutput Shape               \u001b[0m\u001b[1m \u001b[0m┃\u001b[1m \u001b[0m\u001b[1m        Param #\u001b[0m\u001b[1m \u001b[0m┃\n",
       "┡━━━━━━━━━━━━━━━━━━━━━━━━━━━━━━━━━━━━━━╇━━━━━━━━━━━━━━━━━━━━━━━━━━━━━╇━━━━━━━━━━━━━━━━━┩\n",
       "│ dense_18 (\u001b[38;5;33mDense\u001b[0m)                     │ (\u001b[38;5;45mNone\u001b[0m, \u001b[38;5;34m50\u001b[0m)                  │             \u001b[38;5;34m550\u001b[0m │\n",
       "├──────────────────────────────────────┼─────────────────────────────┼─────────────────┤\n",
       "│ dropout (\u001b[38;5;33mDropout\u001b[0m)                    │ (\u001b[38;5;45mNone\u001b[0m, \u001b[38;5;34m50\u001b[0m)                  │               \u001b[38;5;34m0\u001b[0m │\n",
       "├──────────────────────────────────────┼─────────────────────────────┼─────────────────┤\n",
       "│ batch_normalization                  │ (\u001b[38;5;45mNone\u001b[0m, \u001b[38;5;34m50\u001b[0m)                  │             \u001b[38;5;34m200\u001b[0m │\n",
       "│ (\u001b[38;5;33mBatchNormalization\u001b[0m)                 │                             │                 │\n",
       "├──────────────────────────────────────┼─────────────────────────────┼─────────────────┤\n",
       "│ dense_19 (\u001b[38;5;33mDense\u001b[0m)                     │ (\u001b[38;5;45mNone\u001b[0m, \u001b[38;5;34m50\u001b[0m)                  │           \u001b[38;5;34m2,550\u001b[0m │\n",
       "├──────────────────────────────────────┼─────────────────────────────┼─────────────────┤\n",
       "│ dropout_1 (\u001b[38;5;33mDropout\u001b[0m)                  │ (\u001b[38;5;45mNone\u001b[0m, \u001b[38;5;34m50\u001b[0m)                  │               \u001b[38;5;34m0\u001b[0m │\n",
       "├──────────────────────────────────────┼─────────────────────────────┼─────────────────┤\n",
       "│ batch_normalization_1                │ (\u001b[38;5;45mNone\u001b[0m, \u001b[38;5;34m50\u001b[0m)                  │             \u001b[38;5;34m200\u001b[0m │\n",
       "│ (\u001b[38;5;33mBatchNormalization\u001b[0m)                 │                             │                 │\n",
       "├──────────────────────────────────────┼─────────────────────────────┼─────────────────┤\n",
       "│ dense_20 (\u001b[38;5;33mDense\u001b[0m)                     │ (\u001b[38;5;45mNone\u001b[0m, \u001b[38;5;34m50\u001b[0m)                  │           \u001b[38;5;34m2,550\u001b[0m │\n",
       "├──────────────────────────────────────┼─────────────────────────────┼─────────────────┤\n",
       "│ dropout_2 (\u001b[38;5;33mDropout\u001b[0m)                  │ (\u001b[38;5;45mNone\u001b[0m, \u001b[38;5;34m50\u001b[0m)                  │               \u001b[38;5;34m0\u001b[0m │\n",
       "├──────────────────────────────────────┼─────────────────────────────┼─────────────────┤\n",
       "│ batch_normalization_2                │ (\u001b[38;5;45mNone\u001b[0m, \u001b[38;5;34m50\u001b[0m)                  │             \u001b[38;5;34m200\u001b[0m │\n",
       "│ (\u001b[38;5;33mBatchNormalization\u001b[0m)                 │                             │                 │\n",
       "├──────────────────────────────────────┼─────────────────────────────┼─────────────────┤\n",
       "│ dense_21 (\u001b[38;5;33mDense\u001b[0m)                     │ (\u001b[38;5;45mNone\u001b[0m, \u001b[38;5;34m50\u001b[0m)                  │           \u001b[38;5;34m2,550\u001b[0m │\n",
       "├──────────────────────────────────────┼─────────────────────────────┼─────────────────┤\n",
       "│ dropout_3 (\u001b[38;5;33mDropout\u001b[0m)                  │ (\u001b[38;5;45mNone\u001b[0m, \u001b[38;5;34m50\u001b[0m)                  │               \u001b[38;5;34m0\u001b[0m │\n",
       "├──────────────────────────────────────┼─────────────────────────────┼─────────────────┤\n",
       "│ batch_normalization_3                │ (\u001b[38;5;45mNone\u001b[0m, \u001b[38;5;34m50\u001b[0m)                  │             \u001b[38;5;34m200\u001b[0m │\n",
       "│ (\u001b[38;5;33mBatchNormalization\u001b[0m)                 │                             │                 │\n",
       "├──────────────────────────────────────┼─────────────────────────────┼─────────────────┤\n",
       "│ dense_22 (\u001b[38;5;33mDense\u001b[0m)                     │ (\u001b[38;5;45mNone\u001b[0m, \u001b[38;5;34m50\u001b[0m)                  │           \u001b[38;5;34m2,550\u001b[0m │\n",
       "├──────────────────────────────────────┼─────────────────────────────┼─────────────────┤\n",
       "│ dropout_4 (\u001b[38;5;33mDropout\u001b[0m)                  │ (\u001b[38;5;45mNone\u001b[0m, \u001b[38;5;34m50\u001b[0m)                  │               \u001b[38;5;34m0\u001b[0m │\n",
       "├──────────────────────────────────────┼─────────────────────────────┼─────────────────┤\n",
       "│ batch_normalization_4                │ (\u001b[38;5;45mNone\u001b[0m, \u001b[38;5;34m50\u001b[0m)                  │             \u001b[38;5;34m200\u001b[0m │\n",
       "│ (\u001b[38;5;33mBatchNormalization\u001b[0m)                 │                             │                 │\n",
       "├──────────────────────────────────────┼─────────────────────────────┼─────────────────┤\n",
       "│ dense_23 (\u001b[38;5;33mDense\u001b[0m)                     │ (\u001b[38;5;45mNone\u001b[0m, \u001b[38;5;34m1\u001b[0m)                   │              \u001b[38;5;34m51\u001b[0m │\n",
       "└──────────────────────────────────────┴─────────────────────────────┴─────────────────┘\n"
      ]
     },
     "metadata": {},
     "output_type": "display_data"
    },
    {
     "data": {
      "text/html": [
       "<pre style=\"white-space:pre;overflow-x:auto;line-height:normal;font-family:Menlo,'DejaVu Sans Mono',consolas,'Courier New',monospace\"><span style=\"font-weight: bold\"> Total params: </span><span style=\"color: #00af00; text-decoration-color: #00af00\">11,801</span> (46.10 KB)\n",
       "</pre>\n"
      ],
      "text/plain": [
       "\u001b[1m Total params: \u001b[0m\u001b[38;5;34m11,801\u001b[0m (46.10 KB)\n"
      ]
     },
     "metadata": {},
     "output_type": "display_data"
    },
    {
     "data": {
      "text/html": [
       "<pre style=\"white-space:pre;overflow-x:auto;line-height:normal;font-family:Menlo,'DejaVu Sans Mono',consolas,'Courier New',monospace\"><span style=\"font-weight: bold\"> Trainable params: </span><span style=\"color: #00af00; text-decoration-color: #00af00\">11,301</span> (44.14 KB)\n",
       "</pre>\n"
      ],
      "text/plain": [
       "\u001b[1m Trainable params: \u001b[0m\u001b[38;5;34m11,301\u001b[0m (44.14 KB)\n"
      ]
     },
     "metadata": {},
     "output_type": "display_data"
    },
    {
     "data": {
      "text/html": [
       "<pre style=\"white-space:pre;overflow-x:auto;line-height:normal;font-family:Menlo,'DejaVu Sans Mono',consolas,'Courier New',monospace\"><span style=\"font-weight: bold\"> Non-trainable params: </span><span style=\"color: #00af00; text-decoration-color: #00af00\">500</span> (1.95 KB)\n",
       "</pre>\n"
      ],
      "text/plain": [
       "\u001b[1m Non-trainable params: \u001b[0m\u001b[38;5;34m500\u001b[0m (1.95 KB)\n"
      ]
     },
     "metadata": {},
     "output_type": "display_data"
    },
    {
     "name": "stdout",
     "output_type": "stream",
     "text": [
      "\n",
      "Model_ADM5\n"
     ]
    },
    {
     "data": {
      "text/html": [
       "<pre style=\"white-space:pre;overflow-x:auto;line-height:normal;font-family:Menlo,'DejaVu Sans Mono',consolas,'Courier New',monospace\"><span style=\"font-weight: bold\">Model: \"sequential_4\"</span>\n",
       "</pre>\n"
      ],
      "text/plain": [
       "\u001b[1mModel: \"sequential_4\"\u001b[0m\n"
      ]
     },
     "metadata": {},
     "output_type": "display_data"
    },
    {
     "data": {
      "text/html": [
       "<pre style=\"white-space:pre;overflow-x:auto;line-height:normal;font-family:Menlo,'DejaVu Sans Mono',consolas,'Courier New',monospace\">┏━━━━━━━━━━━━━━━━━━━━━━━━━━━━━━━━━━━━━━┳━━━━━━━━━━━━━━━━━━━━━━━━━━━━━┳━━━━━━━━━━━━━━━━━┓\n",
       "┃<span style=\"font-weight: bold\"> Layer (type)                         </span>┃<span style=\"font-weight: bold\"> Output Shape                </span>┃<span style=\"font-weight: bold\">         Param # </span>┃\n",
       "┡━━━━━━━━━━━━━━━━━━━━━━━━━━━━━━━━━━━━━━╇━━━━━━━━━━━━━━━━━━━━━━━━━━━━━╇━━━━━━━━━━━━━━━━━┩\n",
       "│ dense_24 (<span style=\"color: #0087ff; text-decoration-color: #0087ff\">Dense</span>)                     │ (<span style=\"color: #00d7ff; text-decoration-color: #00d7ff\">None</span>, <span style=\"color: #00af00; text-decoration-color: #00af00\">200</span>)                 │           <span style=\"color: #00af00; text-decoration-color: #00af00\">2,200</span> │\n",
       "├──────────────────────────────────────┼─────────────────────────────┼─────────────────┤\n",
       "│ dropout_5 (<span style=\"color: #0087ff; text-decoration-color: #0087ff\">Dropout</span>)                  │ (<span style=\"color: #00d7ff; text-decoration-color: #00d7ff\">None</span>, <span style=\"color: #00af00; text-decoration-color: #00af00\">200</span>)                 │               <span style=\"color: #00af00; text-decoration-color: #00af00\">0</span> │\n",
       "├──────────────────────────────────────┼─────────────────────────────┼─────────────────┤\n",
       "│ batch_normalization_5                │ (<span style=\"color: #00d7ff; text-decoration-color: #00d7ff\">None</span>, <span style=\"color: #00af00; text-decoration-color: #00af00\">200</span>)                 │             <span style=\"color: #00af00; text-decoration-color: #00af00\">800</span> │\n",
       "│ (<span style=\"color: #0087ff; text-decoration-color: #0087ff\">BatchNormalization</span>)                 │                             │                 │\n",
       "├──────────────────────────────────────┼─────────────────────────────┼─────────────────┤\n",
       "│ dense_25 (<span style=\"color: #0087ff; text-decoration-color: #0087ff\">Dense</span>)                     │ (<span style=\"color: #00d7ff; text-decoration-color: #00d7ff\">None</span>, <span style=\"color: #00af00; text-decoration-color: #00af00\">100</span>)                 │          <span style=\"color: #00af00; text-decoration-color: #00af00\">20,100</span> │\n",
       "├──────────────────────────────────────┼─────────────────────────────┼─────────────────┤\n",
       "│ dropout_6 (<span style=\"color: #0087ff; text-decoration-color: #0087ff\">Dropout</span>)                  │ (<span style=\"color: #00d7ff; text-decoration-color: #00d7ff\">None</span>, <span style=\"color: #00af00; text-decoration-color: #00af00\">100</span>)                 │               <span style=\"color: #00af00; text-decoration-color: #00af00\">0</span> │\n",
       "├──────────────────────────────────────┼─────────────────────────────┼─────────────────┤\n",
       "│ batch_normalization_6                │ (<span style=\"color: #00d7ff; text-decoration-color: #00d7ff\">None</span>, <span style=\"color: #00af00; text-decoration-color: #00af00\">100</span>)                 │             <span style=\"color: #00af00; text-decoration-color: #00af00\">400</span> │\n",
       "│ (<span style=\"color: #0087ff; text-decoration-color: #0087ff\">BatchNormalization</span>)                 │                             │                 │\n",
       "├──────────────────────────────────────┼─────────────────────────────┼─────────────────┤\n",
       "│ dense_26 (<span style=\"color: #0087ff; text-decoration-color: #0087ff\">Dense</span>)                     │ (<span style=\"color: #00d7ff; text-decoration-color: #00d7ff\">None</span>, <span style=\"color: #00af00; text-decoration-color: #00af00\">50</span>)                  │           <span style=\"color: #00af00; text-decoration-color: #00af00\">5,050</span> │\n",
       "├──────────────────────────────────────┼─────────────────────────────┼─────────────────┤\n",
       "│ dropout_7 (<span style=\"color: #0087ff; text-decoration-color: #0087ff\">Dropout</span>)                  │ (<span style=\"color: #00d7ff; text-decoration-color: #00d7ff\">None</span>, <span style=\"color: #00af00; text-decoration-color: #00af00\">50</span>)                  │               <span style=\"color: #00af00; text-decoration-color: #00af00\">0</span> │\n",
       "├──────────────────────────────────────┼─────────────────────────────┼─────────────────┤\n",
       "│ batch_normalization_7                │ (<span style=\"color: #00d7ff; text-decoration-color: #00d7ff\">None</span>, <span style=\"color: #00af00; text-decoration-color: #00af00\">50</span>)                  │             <span style=\"color: #00af00; text-decoration-color: #00af00\">200</span> │\n",
       "│ (<span style=\"color: #0087ff; text-decoration-color: #0087ff\">BatchNormalization</span>)                 │                             │                 │\n",
       "├──────────────────────────────────────┼─────────────────────────────┼─────────────────┤\n",
       "│ dense_27 (<span style=\"color: #0087ff; text-decoration-color: #0087ff\">Dense</span>)                     │ (<span style=\"color: #00d7ff; text-decoration-color: #00d7ff\">None</span>, <span style=\"color: #00af00; text-decoration-color: #00af00\">50</span>)                  │           <span style=\"color: #00af00; text-decoration-color: #00af00\">2,550</span> │\n",
       "├──────────────────────────────────────┼─────────────────────────────┼─────────────────┤\n",
       "│ dropout_8 (<span style=\"color: #0087ff; text-decoration-color: #0087ff\">Dropout</span>)                  │ (<span style=\"color: #00d7ff; text-decoration-color: #00d7ff\">None</span>, <span style=\"color: #00af00; text-decoration-color: #00af00\">50</span>)                  │               <span style=\"color: #00af00; text-decoration-color: #00af00\">0</span> │\n",
       "├──────────────────────────────────────┼─────────────────────────────┼─────────────────┤\n",
       "│ batch_normalization_8                │ (<span style=\"color: #00d7ff; text-decoration-color: #00d7ff\">None</span>, <span style=\"color: #00af00; text-decoration-color: #00af00\">50</span>)                  │             <span style=\"color: #00af00; text-decoration-color: #00af00\">200</span> │\n",
       "│ (<span style=\"color: #0087ff; text-decoration-color: #0087ff\">BatchNormalization</span>)                 │                             │                 │\n",
       "├──────────────────────────────────────┼─────────────────────────────┼─────────────────┤\n",
       "│ dense_28 (<span style=\"color: #0087ff; text-decoration-color: #0087ff\">Dense</span>)                     │ (<span style=\"color: #00d7ff; text-decoration-color: #00d7ff\">None</span>, <span style=\"color: #00af00; text-decoration-color: #00af00\">50</span>)                  │           <span style=\"color: #00af00; text-decoration-color: #00af00\">2,550</span> │\n",
       "├──────────────────────────────────────┼─────────────────────────────┼─────────────────┤\n",
       "│ dropout_9 (<span style=\"color: #0087ff; text-decoration-color: #0087ff\">Dropout</span>)                  │ (<span style=\"color: #00d7ff; text-decoration-color: #00d7ff\">None</span>, <span style=\"color: #00af00; text-decoration-color: #00af00\">50</span>)                  │               <span style=\"color: #00af00; text-decoration-color: #00af00\">0</span> │\n",
       "├──────────────────────────────────────┼─────────────────────────────┼─────────────────┤\n",
       "│ batch_normalization_9                │ (<span style=\"color: #00d7ff; text-decoration-color: #00d7ff\">None</span>, <span style=\"color: #00af00; text-decoration-color: #00af00\">50</span>)                  │             <span style=\"color: #00af00; text-decoration-color: #00af00\">200</span> │\n",
       "│ (<span style=\"color: #0087ff; text-decoration-color: #0087ff\">BatchNormalization</span>)                 │                             │                 │\n",
       "├──────────────────────────────────────┼─────────────────────────────┼─────────────────┤\n",
       "│ dense_29 (<span style=\"color: #0087ff; text-decoration-color: #0087ff\">Dense</span>)                     │ (<span style=\"color: #00d7ff; text-decoration-color: #00d7ff\">None</span>, <span style=\"color: #00af00; text-decoration-color: #00af00\">1</span>)                   │              <span style=\"color: #00af00; text-decoration-color: #00af00\">51</span> │\n",
       "└──────────────────────────────────────┴─────────────────────────────┴─────────────────┘\n",
       "</pre>\n"
      ],
      "text/plain": [
       "┏━━━━━━━━━━━━━━━━━━━━━━━━━━━━━━━━━━━━━━┳━━━━━━━━━━━━━━━━━━━━━━━━━━━━━┳━━━━━━━━━━━━━━━━━┓\n",
       "┃\u001b[1m \u001b[0m\u001b[1mLayer (type)                        \u001b[0m\u001b[1m \u001b[0m┃\u001b[1m \u001b[0m\u001b[1mOutput Shape               \u001b[0m\u001b[1m \u001b[0m┃\u001b[1m \u001b[0m\u001b[1m        Param #\u001b[0m\u001b[1m \u001b[0m┃\n",
       "┡━━━━━━━━━━━━━━━━━━━━━━━━━━━━━━━━━━━━━━╇━━━━━━━━━━━━━━━━━━━━━━━━━━━━━╇━━━━━━━━━━━━━━━━━┩\n",
       "│ dense_24 (\u001b[38;5;33mDense\u001b[0m)                     │ (\u001b[38;5;45mNone\u001b[0m, \u001b[38;5;34m200\u001b[0m)                 │           \u001b[38;5;34m2,200\u001b[0m │\n",
       "├──────────────────────────────────────┼─────────────────────────────┼─────────────────┤\n",
       "│ dropout_5 (\u001b[38;5;33mDropout\u001b[0m)                  │ (\u001b[38;5;45mNone\u001b[0m, \u001b[38;5;34m200\u001b[0m)                 │               \u001b[38;5;34m0\u001b[0m │\n",
       "├──────────────────────────────────────┼─────────────────────────────┼─────────────────┤\n",
       "│ batch_normalization_5                │ (\u001b[38;5;45mNone\u001b[0m, \u001b[38;5;34m200\u001b[0m)                 │             \u001b[38;5;34m800\u001b[0m │\n",
       "│ (\u001b[38;5;33mBatchNormalization\u001b[0m)                 │                             │                 │\n",
       "├──────────────────────────────────────┼─────────────────────────────┼─────────────────┤\n",
       "│ dense_25 (\u001b[38;5;33mDense\u001b[0m)                     │ (\u001b[38;5;45mNone\u001b[0m, \u001b[38;5;34m100\u001b[0m)                 │          \u001b[38;5;34m20,100\u001b[0m │\n",
       "├──────────────────────────────────────┼─────────────────────────────┼─────────────────┤\n",
       "│ dropout_6 (\u001b[38;5;33mDropout\u001b[0m)                  │ (\u001b[38;5;45mNone\u001b[0m, \u001b[38;5;34m100\u001b[0m)                 │               \u001b[38;5;34m0\u001b[0m │\n",
       "├──────────────────────────────────────┼─────────────────────────────┼─────────────────┤\n",
       "│ batch_normalization_6                │ (\u001b[38;5;45mNone\u001b[0m, \u001b[38;5;34m100\u001b[0m)                 │             \u001b[38;5;34m400\u001b[0m │\n",
       "│ (\u001b[38;5;33mBatchNormalization\u001b[0m)                 │                             │                 │\n",
       "├──────────────────────────────────────┼─────────────────────────────┼─────────────────┤\n",
       "│ dense_26 (\u001b[38;5;33mDense\u001b[0m)                     │ (\u001b[38;5;45mNone\u001b[0m, \u001b[38;5;34m50\u001b[0m)                  │           \u001b[38;5;34m5,050\u001b[0m │\n",
       "├──────────────────────────────────────┼─────────────────────────────┼─────────────────┤\n",
       "│ dropout_7 (\u001b[38;5;33mDropout\u001b[0m)                  │ (\u001b[38;5;45mNone\u001b[0m, \u001b[38;5;34m50\u001b[0m)                  │               \u001b[38;5;34m0\u001b[0m │\n",
       "├──────────────────────────────────────┼─────────────────────────────┼─────────────────┤\n",
       "│ batch_normalization_7                │ (\u001b[38;5;45mNone\u001b[0m, \u001b[38;5;34m50\u001b[0m)                  │             \u001b[38;5;34m200\u001b[0m │\n",
       "│ (\u001b[38;5;33mBatchNormalization\u001b[0m)                 │                             │                 │\n",
       "├──────────────────────────────────────┼─────────────────────────────┼─────────────────┤\n",
       "│ dense_27 (\u001b[38;5;33mDense\u001b[0m)                     │ (\u001b[38;5;45mNone\u001b[0m, \u001b[38;5;34m50\u001b[0m)                  │           \u001b[38;5;34m2,550\u001b[0m │\n",
       "├──────────────────────────────────────┼─────────────────────────────┼─────────────────┤\n",
       "│ dropout_8 (\u001b[38;5;33mDropout\u001b[0m)                  │ (\u001b[38;5;45mNone\u001b[0m, \u001b[38;5;34m50\u001b[0m)                  │               \u001b[38;5;34m0\u001b[0m │\n",
       "├──────────────────────────────────────┼─────────────────────────────┼─────────────────┤\n",
       "│ batch_normalization_8                │ (\u001b[38;5;45mNone\u001b[0m, \u001b[38;5;34m50\u001b[0m)                  │             \u001b[38;5;34m200\u001b[0m │\n",
       "│ (\u001b[38;5;33mBatchNormalization\u001b[0m)                 │                             │                 │\n",
       "├──────────────────────────────────────┼─────────────────────────────┼─────────────────┤\n",
       "│ dense_28 (\u001b[38;5;33mDense\u001b[0m)                     │ (\u001b[38;5;45mNone\u001b[0m, \u001b[38;5;34m50\u001b[0m)                  │           \u001b[38;5;34m2,550\u001b[0m │\n",
       "├──────────────────────────────────────┼─────────────────────────────┼─────────────────┤\n",
       "│ dropout_9 (\u001b[38;5;33mDropout\u001b[0m)                  │ (\u001b[38;5;45mNone\u001b[0m, \u001b[38;5;34m50\u001b[0m)                  │               \u001b[38;5;34m0\u001b[0m │\n",
       "├──────────────────────────────────────┼─────────────────────────────┼─────────────────┤\n",
       "│ batch_normalization_9                │ (\u001b[38;5;45mNone\u001b[0m, \u001b[38;5;34m50\u001b[0m)                  │             \u001b[38;5;34m200\u001b[0m │\n",
       "│ (\u001b[38;5;33mBatchNormalization\u001b[0m)                 │                             │                 │\n",
       "├──────────────────────────────────────┼─────────────────────────────┼─────────────────┤\n",
       "│ dense_29 (\u001b[38;5;33mDense\u001b[0m)                     │ (\u001b[38;5;45mNone\u001b[0m, \u001b[38;5;34m1\u001b[0m)                   │              \u001b[38;5;34m51\u001b[0m │\n",
       "└──────────────────────────────────────┴─────────────────────────────┴─────────────────┘\n"
      ]
     },
     "metadata": {},
     "output_type": "display_data"
    },
    {
     "data": {
      "text/html": [
       "<pre style=\"white-space:pre;overflow-x:auto;line-height:normal;font-family:Menlo,'DejaVu Sans Mono',consolas,'Courier New',monospace\"><span style=\"font-weight: bold\"> Total params: </span><span style=\"color: #00af00; text-decoration-color: #00af00\">34,301</span> (133.99 KB)\n",
       "</pre>\n"
      ],
      "text/plain": [
       "\u001b[1m Total params: \u001b[0m\u001b[38;5;34m34,301\u001b[0m (133.99 KB)\n"
      ]
     },
     "metadata": {},
     "output_type": "display_data"
    },
    {
     "data": {
      "text/html": [
       "<pre style=\"white-space:pre;overflow-x:auto;line-height:normal;font-family:Menlo,'DejaVu Sans Mono',consolas,'Courier New',monospace\"><span style=\"font-weight: bold\"> Trainable params: </span><span style=\"color: #00af00; text-decoration-color: #00af00\">33,401</span> (130.47 KB)\n",
       "</pre>\n"
      ],
      "text/plain": [
       "\u001b[1m Trainable params: \u001b[0m\u001b[38;5;34m33,401\u001b[0m (130.47 KB)\n"
      ]
     },
     "metadata": {},
     "output_type": "display_data"
    },
    {
     "data": {
      "text/html": [
       "<pre style=\"white-space:pre;overflow-x:auto;line-height:normal;font-family:Menlo,'DejaVu Sans Mono',consolas,'Courier New',monospace\"><span style=\"font-weight: bold\"> Non-trainable params: </span><span style=\"color: #00af00; text-decoration-color: #00af00\">900</span> (3.52 KB)\n",
       "</pre>\n"
      ],
      "text/plain": [
       "\u001b[1m Non-trainable params: \u001b[0m\u001b[38;5;34m900\u001b[0m (3.52 KB)\n"
      ]
     },
     "metadata": {},
     "output_type": "display_data"
    },
    {
     "name": "stdout",
     "output_type": "stream",
     "text": [
      "\n",
      "Model_ADM6\n"
     ]
    },
    {
     "data": {
      "text/html": [
       "<pre style=\"white-space:pre;overflow-x:auto;line-height:normal;font-family:Menlo,'DejaVu Sans Mono',consolas,'Courier New',monospace\"><span style=\"font-weight: bold\">Model: \"sequential_5\"</span>\n",
       "</pre>\n"
      ],
      "text/plain": [
       "\u001b[1mModel: \"sequential_5\"\u001b[0m\n"
      ]
     },
     "metadata": {},
     "output_type": "display_data"
    },
    {
     "data": {
      "text/html": [
       "<pre style=\"white-space:pre;overflow-x:auto;line-height:normal;font-family:Menlo,'DejaVu Sans Mono',consolas,'Courier New',monospace\">┏━━━━━━━━━━━━━━━━━━━━━━━━━━━━━━━━━━━━━━┳━━━━━━━━━━━━━━━━━━━━━━━━━━━━━┳━━━━━━━━━━━━━━━━━┓\n",
       "┃<span style=\"font-weight: bold\"> Layer (type)                         </span>┃<span style=\"font-weight: bold\"> Output Shape                </span>┃<span style=\"font-weight: bold\">         Param # </span>┃\n",
       "┡━━━━━━━━━━━━━━━━━━━━━━━━━━━━━━━━━━━━━━╇━━━━━━━━━━━━━━━━━━━━━━━━━━━━━╇━━━━━━━━━━━━━━━━━┩\n",
       "│ dense_30 (<span style=\"color: #0087ff; text-decoration-color: #0087ff\">Dense</span>)                     │ (<span style=\"color: #00d7ff; text-decoration-color: #00d7ff\">None</span>, <span style=\"color: #00af00; text-decoration-color: #00af00\">200</span>)                 │           <span style=\"color: #00af00; text-decoration-color: #00af00\">2,200</span> │\n",
       "├──────────────────────────────────────┼─────────────────────────────┼─────────────────┤\n",
       "│ dropout_10 (<span style=\"color: #0087ff; text-decoration-color: #0087ff\">Dropout</span>)                 │ (<span style=\"color: #00d7ff; text-decoration-color: #00d7ff\">None</span>, <span style=\"color: #00af00; text-decoration-color: #00af00\">200</span>)                 │               <span style=\"color: #00af00; text-decoration-color: #00af00\">0</span> │\n",
       "├──────────────────────────────────────┼─────────────────────────────┼─────────────────┤\n",
       "│ batch_normalization_10               │ (<span style=\"color: #00d7ff; text-decoration-color: #00d7ff\">None</span>, <span style=\"color: #00af00; text-decoration-color: #00af00\">200</span>)                 │             <span style=\"color: #00af00; text-decoration-color: #00af00\">800</span> │\n",
       "│ (<span style=\"color: #0087ff; text-decoration-color: #0087ff\">BatchNormalization</span>)                 │                             │                 │\n",
       "├──────────────────────────────────────┼─────────────────────────────┼─────────────────┤\n",
       "│ dense_31 (<span style=\"color: #0087ff; text-decoration-color: #0087ff\">Dense</span>)                     │ (<span style=\"color: #00d7ff; text-decoration-color: #00d7ff\">None</span>, <span style=\"color: #00af00; text-decoration-color: #00af00\">100</span>)                 │          <span style=\"color: #00af00; text-decoration-color: #00af00\">20,100</span> │\n",
       "├──────────────────────────────────────┼─────────────────────────────┼─────────────────┤\n",
       "│ dropout_11 (<span style=\"color: #0087ff; text-decoration-color: #0087ff\">Dropout</span>)                 │ (<span style=\"color: #00d7ff; text-decoration-color: #00d7ff\">None</span>, <span style=\"color: #00af00; text-decoration-color: #00af00\">100</span>)                 │               <span style=\"color: #00af00; text-decoration-color: #00af00\">0</span> │\n",
       "├──────────────────────────────────────┼─────────────────────────────┼─────────────────┤\n",
       "│ batch_normalization_11               │ (<span style=\"color: #00d7ff; text-decoration-color: #00d7ff\">None</span>, <span style=\"color: #00af00; text-decoration-color: #00af00\">100</span>)                 │             <span style=\"color: #00af00; text-decoration-color: #00af00\">400</span> │\n",
       "│ (<span style=\"color: #0087ff; text-decoration-color: #0087ff\">BatchNormalization</span>)                 │                             │                 │\n",
       "├──────────────────────────────────────┼─────────────────────────────┼─────────────────┤\n",
       "│ dense_32 (<span style=\"color: #0087ff; text-decoration-color: #0087ff\">Dense</span>)                     │ (<span style=\"color: #00d7ff; text-decoration-color: #00d7ff\">None</span>, <span style=\"color: #00af00; text-decoration-color: #00af00\">50</span>)                  │           <span style=\"color: #00af00; text-decoration-color: #00af00\">5,050</span> │\n",
       "├──────────────────────────────────────┼─────────────────────────────┼─────────────────┤\n",
       "│ dropout_12 (<span style=\"color: #0087ff; text-decoration-color: #0087ff\">Dropout</span>)                 │ (<span style=\"color: #00d7ff; text-decoration-color: #00d7ff\">None</span>, <span style=\"color: #00af00; text-decoration-color: #00af00\">50</span>)                  │               <span style=\"color: #00af00; text-decoration-color: #00af00\">0</span> │\n",
       "├──────────────────────────────────────┼─────────────────────────────┼─────────────────┤\n",
       "│ batch_normalization_12               │ (<span style=\"color: #00d7ff; text-decoration-color: #00d7ff\">None</span>, <span style=\"color: #00af00; text-decoration-color: #00af00\">50</span>)                  │             <span style=\"color: #00af00; text-decoration-color: #00af00\">200</span> │\n",
       "│ (<span style=\"color: #0087ff; text-decoration-color: #0087ff\">BatchNormalization</span>)                 │                             │                 │\n",
       "├──────────────────────────────────────┼─────────────────────────────┼─────────────────┤\n",
       "│ dense_33 (<span style=\"color: #0087ff; text-decoration-color: #0087ff\">Dense</span>)                     │ (<span style=\"color: #00d7ff; text-decoration-color: #00d7ff\">None</span>, <span style=\"color: #00af00; text-decoration-color: #00af00\">50</span>)                  │           <span style=\"color: #00af00; text-decoration-color: #00af00\">2,550</span> │\n",
       "├──────────────────────────────────────┼─────────────────────────────┼─────────────────┤\n",
       "│ dropout_13 (<span style=\"color: #0087ff; text-decoration-color: #0087ff\">Dropout</span>)                 │ (<span style=\"color: #00d7ff; text-decoration-color: #00d7ff\">None</span>, <span style=\"color: #00af00; text-decoration-color: #00af00\">50</span>)                  │               <span style=\"color: #00af00; text-decoration-color: #00af00\">0</span> │\n",
       "├──────────────────────────────────────┼─────────────────────────────┼─────────────────┤\n",
       "│ batch_normalization_13               │ (<span style=\"color: #00d7ff; text-decoration-color: #00d7ff\">None</span>, <span style=\"color: #00af00; text-decoration-color: #00af00\">50</span>)                  │             <span style=\"color: #00af00; text-decoration-color: #00af00\">200</span> │\n",
       "│ (<span style=\"color: #0087ff; text-decoration-color: #0087ff\">BatchNormalization</span>)                 │                             │                 │\n",
       "├──────────────────────────────────────┼─────────────────────────────┼─────────────────┤\n",
       "│ dense_34 (<span style=\"color: #0087ff; text-decoration-color: #0087ff\">Dense</span>)                     │ (<span style=\"color: #00d7ff; text-decoration-color: #00d7ff\">None</span>, <span style=\"color: #00af00; text-decoration-color: #00af00\">50</span>)                  │           <span style=\"color: #00af00; text-decoration-color: #00af00\">2,550</span> │\n",
       "├──────────────────────────────────────┼─────────────────────────────┼─────────────────┤\n",
       "│ dropout_14 (<span style=\"color: #0087ff; text-decoration-color: #0087ff\">Dropout</span>)                 │ (<span style=\"color: #00d7ff; text-decoration-color: #00d7ff\">None</span>, <span style=\"color: #00af00; text-decoration-color: #00af00\">50</span>)                  │               <span style=\"color: #00af00; text-decoration-color: #00af00\">0</span> │\n",
       "├──────────────────────────────────────┼─────────────────────────────┼─────────────────┤\n",
       "│ batch_normalization_14               │ (<span style=\"color: #00d7ff; text-decoration-color: #00d7ff\">None</span>, <span style=\"color: #00af00; text-decoration-color: #00af00\">50</span>)                  │             <span style=\"color: #00af00; text-decoration-color: #00af00\">200</span> │\n",
       "│ (<span style=\"color: #0087ff; text-decoration-color: #0087ff\">BatchNormalization</span>)                 │                             │                 │\n",
       "├──────────────────────────────────────┼─────────────────────────────┼─────────────────┤\n",
       "│ dense_35 (<span style=\"color: #0087ff; text-decoration-color: #0087ff\">Dense</span>)                     │ (<span style=\"color: #00d7ff; text-decoration-color: #00d7ff\">None</span>, <span style=\"color: #00af00; text-decoration-color: #00af00\">1</span>)                   │              <span style=\"color: #00af00; text-decoration-color: #00af00\">51</span> │\n",
       "└──────────────────────────────────────┴─────────────────────────────┴─────────────────┘\n",
       "</pre>\n"
      ],
      "text/plain": [
       "┏━━━━━━━━━━━━━━━━━━━━━━━━━━━━━━━━━━━━━━┳━━━━━━━━━━━━━━━━━━━━━━━━━━━━━┳━━━━━━━━━━━━━━━━━┓\n",
       "┃\u001b[1m \u001b[0m\u001b[1mLayer (type)                        \u001b[0m\u001b[1m \u001b[0m┃\u001b[1m \u001b[0m\u001b[1mOutput Shape               \u001b[0m\u001b[1m \u001b[0m┃\u001b[1m \u001b[0m\u001b[1m        Param #\u001b[0m\u001b[1m \u001b[0m┃\n",
       "┡━━━━━━━━━━━━━━━━━━━━━━━━━━━━━━━━━━━━━━╇━━━━━━━━━━━━━━━━━━━━━━━━━━━━━╇━━━━━━━━━━━━━━━━━┩\n",
       "│ dense_30 (\u001b[38;5;33mDense\u001b[0m)                     │ (\u001b[38;5;45mNone\u001b[0m, \u001b[38;5;34m200\u001b[0m)                 │           \u001b[38;5;34m2,200\u001b[0m │\n",
       "├──────────────────────────────────────┼─────────────────────────────┼─────────────────┤\n",
       "│ dropout_10 (\u001b[38;5;33mDropout\u001b[0m)                 │ (\u001b[38;5;45mNone\u001b[0m, \u001b[38;5;34m200\u001b[0m)                 │               \u001b[38;5;34m0\u001b[0m │\n",
       "├──────────────────────────────────────┼─────────────────────────────┼─────────────────┤\n",
       "│ batch_normalization_10               │ (\u001b[38;5;45mNone\u001b[0m, \u001b[38;5;34m200\u001b[0m)                 │             \u001b[38;5;34m800\u001b[0m │\n",
       "│ (\u001b[38;5;33mBatchNormalization\u001b[0m)                 │                             │                 │\n",
       "├──────────────────────────────────────┼─────────────────────────────┼─────────────────┤\n",
       "│ dense_31 (\u001b[38;5;33mDense\u001b[0m)                     │ (\u001b[38;5;45mNone\u001b[0m, \u001b[38;5;34m100\u001b[0m)                 │          \u001b[38;5;34m20,100\u001b[0m │\n",
       "├──────────────────────────────────────┼─────────────────────────────┼─────────────────┤\n",
       "│ dropout_11 (\u001b[38;5;33mDropout\u001b[0m)                 │ (\u001b[38;5;45mNone\u001b[0m, \u001b[38;5;34m100\u001b[0m)                 │               \u001b[38;5;34m0\u001b[0m │\n",
       "├──────────────────────────────────────┼─────────────────────────────┼─────────────────┤\n",
       "│ batch_normalization_11               │ (\u001b[38;5;45mNone\u001b[0m, \u001b[38;5;34m100\u001b[0m)                 │             \u001b[38;5;34m400\u001b[0m │\n",
       "│ (\u001b[38;5;33mBatchNormalization\u001b[0m)                 │                             │                 │\n",
       "├──────────────────────────────────────┼─────────────────────────────┼─────────────────┤\n",
       "│ dense_32 (\u001b[38;5;33mDense\u001b[0m)                     │ (\u001b[38;5;45mNone\u001b[0m, \u001b[38;5;34m50\u001b[0m)                  │           \u001b[38;5;34m5,050\u001b[0m │\n",
       "├──────────────────────────────────────┼─────────────────────────────┼─────────────────┤\n",
       "│ dropout_12 (\u001b[38;5;33mDropout\u001b[0m)                 │ (\u001b[38;5;45mNone\u001b[0m, \u001b[38;5;34m50\u001b[0m)                  │               \u001b[38;5;34m0\u001b[0m │\n",
       "├──────────────────────────────────────┼─────────────────────────────┼─────────────────┤\n",
       "│ batch_normalization_12               │ (\u001b[38;5;45mNone\u001b[0m, \u001b[38;5;34m50\u001b[0m)                  │             \u001b[38;5;34m200\u001b[0m │\n",
       "│ (\u001b[38;5;33mBatchNormalization\u001b[0m)                 │                             │                 │\n",
       "├──────────────────────────────────────┼─────────────────────────────┼─────────────────┤\n",
       "│ dense_33 (\u001b[38;5;33mDense\u001b[0m)                     │ (\u001b[38;5;45mNone\u001b[0m, \u001b[38;5;34m50\u001b[0m)                  │           \u001b[38;5;34m2,550\u001b[0m │\n",
       "├──────────────────────────────────────┼─────────────────────────────┼─────────────────┤\n",
       "│ dropout_13 (\u001b[38;5;33mDropout\u001b[0m)                 │ (\u001b[38;5;45mNone\u001b[0m, \u001b[38;5;34m50\u001b[0m)                  │               \u001b[38;5;34m0\u001b[0m │\n",
       "├──────────────────────────────────────┼─────────────────────────────┼─────────────────┤\n",
       "│ batch_normalization_13               │ (\u001b[38;5;45mNone\u001b[0m, \u001b[38;5;34m50\u001b[0m)                  │             \u001b[38;5;34m200\u001b[0m │\n",
       "│ (\u001b[38;5;33mBatchNormalization\u001b[0m)                 │                             │                 │\n",
       "├──────────────────────────────────────┼─────────────────────────────┼─────────────────┤\n",
       "│ dense_34 (\u001b[38;5;33mDense\u001b[0m)                     │ (\u001b[38;5;45mNone\u001b[0m, \u001b[38;5;34m50\u001b[0m)                  │           \u001b[38;5;34m2,550\u001b[0m │\n",
       "├──────────────────────────────────────┼─────────────────────────────┼─────────────────┤\n",
       "│ dropout_14 (\u001b[38;5;33mDropout\u001b[0m)                 │ (\u001b[38;5;45mNone\u001b[0m, \u001b[38;5;34m50\u001b[0m)                  │               \u001b[38;5;34m0\u001b[0m │\n",
       "├──────────────────────────────────────┼─────────────────────────────┼─────────────────┤\n",
       "│ batch_normalization_14               │ (\u001b[38;5;45mNone\u001b[0m, \u001b[38;5;34m50\u001b[0m)                  │             \u001b[38;5;34m200\u001b[0m │\n",
       "│ (\u001b[38;5;33mBatchNormalization\u001b[0m)                 │                             │                 │\n",
       "├──────────────────────────────────────┼─────────────────────────────┼─────────────────┤\n",
       "│ dense_35 (\u001b[38;5;33mDense\u001b[0m)                     │ (\u001b[38;5;45mNone\u001b[0m, \u001b[38;5;34m1\u001b[0m)                   │              \u001b[38;5;34m51\u001b[0m │\n",
       "└──────────────────────────────────────┴─────────────────────────────┴─────────────────┘\n"
      ]
     },
     "metadata": {},
     "output_type": "display_data"
    },
    {
     "data": {
      "text/html": [
       "<pre style=\"white-space:pre;overflow-x:auto;line-height:normal;font-family:Menlo,'DejaVu Sans Mono',consolas,'Courier New',monospace\"><span style=\"font-weight: bold\"> Total params: </span><span style=\"color: #00af00; text-decoration-color: #00af00\">34,301</span> (133.99 KB)\n",
       "</pre>\n"
      ],
      "text/plain": [
       "\u001b[1m Total params: \u001b[0m\u001b[38;5;34m34,301\u001b[0m (133.99 KB)\n"
      ]
     },
     "metadata": {},
     "output_type": "display_data"
    },
    {
     "data": {
      "text/html": [
       "<pre style=\"white-space:pre;overflow-x:auto;line-height:normal;font-family:Menlo,'DejaVu Sans Mono',consolas,'Courier New',monospace\"><span style=\"font-weight: bold\"> Trainable params: </span><span style=\"color: #00af00; text-decoration-color: #00af00\">33,401</span> (130.47 KB)\n",
       "</pre>\n"
      ],
      "text/plain": [
       "\u001b[1m Trainable params: \u001b[0m\u001b[38;5;34m33,401\u001b[0m (130.47 KB)\n"
      ]
     },
     "metadata": {},
     "output_type": "display_data"
    },
    {
     "data": {
      "text/html": [
       "<pre style=\"white-space:pre;overflow-x:auto;line-height:normal;font-family:Menlo,'DejaVu Sans Mono',consolas,'Courier New',monospace\"><span style=\"font-weight: bold\"> Non-trainable params: </span><span style=\"color: #00af00; text-decoration-color: #00af00\">900</span> (3.52 KB)\n",
       "</pre>\n"
      ],
      "text/plain": [
       "\u001b[1m Non-trainable params: \u001b[0m\u001b[38;5;34m900\u001b[0m (3.52 KB)\n"
      ]
     },
     "metadata": {},
     "output_type": "display_data"
    },
    {
     "name": "stdout",
     "output_type": "stream",
     "text": [
      "\n",
      "Model_ADM7\n"
     ]
    },
    {
     "data": {
      "text/html": [
       "<pre style=\"white-space:pre;overflow-x:auto;line-height:normal;font-family:Menlo,'DejaVu Sans Mono',consolas,'Courier New',monospace\"><span style=\"font-weight: bold\">Model: \"sequential_6\"</span>\n",
       "</pre>\n"
      ],
      "text/plain": [
       "\u001b[1mModel: \"sequential_6\"\u001b[0m\n"
      ]
     },
     "metadata": {},
     "output_type": "display_data"
    },
    {
     "data": {
      "text/html": [
       "<pre style=\"white-space:pre;overflow-x:auto;line-height:normal;font-family:Menlo,'DejaVu Sans Mono',consolas,'Courier New',monospace\">┏━━━━━━━━━━━━━━━━━━━━━━━━━━━━━━━━━━━━━━┳━━━━━━━━━━━━━━━━━━━━━━━━━━━━━┳━━━━━━━━━━━━━━━━━┓\n",
       "┃<span style=\"font-weight: bold\"> Layer (type)                         </span>┃<span style=\"font-weight: bold\"> Output Shape                </span>┃<span style=\"font-weight: bold\">         Param # </span>┃\n",
       "┡━━━━━━━━━━━━━━━━━━━━━━━━━━━━━━━━━━━━━━╇━━━━━━━━━━━━━━━━━━━━━━━━━━━━━╇━━━━━━━━━━━━━━━━━┩\n",
       "│ dense_36 (<span style=\"color: #0087ff; text-decoration-color: #0087ff\">Dense</span>)                     │ (<span style=\"color: #00d7ff; text-decoration-color: #00d7ff\">None</span>, <span style=\"color: #00af00; text-decoration-color: #00af00\">200</span>)                 │           <span style=\"color: #00af00; text-decoration-color: #00af00\">2,200</span> │\n",
       "├──────────────────────────────────────┼─────────────────────────────┼─────────────────┤\n",
       "│ dropout_15 (<span style=\"color: #0087ff; text-decoration-color: #0087ff\">Dropout</span>)                 │ (<span style=\"color: #00d7ff; text-decoration-color: #00d7ff\">None</span>, <span style=\"color: #00af00; text-decoration-color: #00af00\">200</span>)                 │               <span style=\"color: #00af00; text-decoration-color: #00af00\">0</span> │\n",
       "├──────────────────────────────────────┼─────────────────────────────┼─────────────────┤\n",
       "│ batch_normalization_15               │ (<span style=\"color: #00d7ff; text-decoration-color: #00d7ff\">None</span>, <span style=\"color: #00af00; text-decoration-color: #00af00\">200</span>)                 │             <span style=\"color: #00af00; text-decoration-color: #00af00\">800</span> │\n",
       "│ (<span style=\"color: #0087ff; text-decoration-color: #0087ff\">BatchNormalization</span>)                 │                             │                 │\n",
       "├──────────────────────────────────────┼─────────────────────────────┼─────────────────┤\n",
       "│ dense_37 (<span style=\"color: #0087ff; text-decoration-color: #0087ff\">Dense</span>)                     │ (<span style=\"color: #00d7ff; text-decoration-color: #00d7ff\">None</span>, <span style=\"color: #00af00; text-decoration-color: #00af00\">100</span>)                 │          <span style=\"color: #00af00; text-decoration-color: #00af00\">20,100</span> │\n",
       "├──────────────────────────────────────┼─────────────────────────────┼─────────────────┤\n",
       "│ dropout_16 (<span style=\"color: #0087ff; text-decoration-color: #0087ff\">Dropout</span>)                 │ (<span style=\"color: #00d7ff; text-decoration-color: #00d7ff\">None</span>, <span style=\"color: #00af00; text-decoration-color: #00af00\">100</span>)                 │               <span style=\"color: #00af00; text-decoration-color: #00af00\">0</span> │\n",
       "├──────────────────────────────────────┼─────────────────────────────┼─────────────────┤\n",
       "│ batch_normalization_16               │ (<span style=\"color: #00d7ff; text-decoration-color: #00d7ff\">None</span>, <span style=\"color: #00af00; text-decoration-color: #00af00\">100</span>)                 │             <span style=\"color: #00af00; text-decoration-color: #00af00\">400</span> │\n",
       "│ (<span style=\"color: #0087ff; text-decoration-color: #0087ff\">BatchNormalization</span>)                 │                             │                 │\n",
       "├──────────────────────────────────────┼─────────────────────────────┼─────────────────┤\n",
       "│ dense_38 (<span style=\"color: #0087ff; text-decoration-color: #0087ff\">Dense</span>)                     │ (<span style=\"color: #00d7ff; text-decoration-color: #00d7ff\">None</span>, <span style=\"color: #00af00; text-decoration-color: #00af00\">50</span>)                  │           <span style=\"color: #00af00; text-decoration-color: #00af00\">5,050</span> │\n",
       "├──────────────────────────────────────┼─────────────────────────────┼─────────────────┤\n",
       "│ dropout_17 (<span style=\"color: #0087ff; text-decoration-color: #0087ff\">Dropout</span>)                 │ (<span style=\"color: #00d7ff; text-decoration-color: #00d7ff\">None</span>, <span style=\"color: #00af00; text-decoration-color: #00af00\">50</span>)                  │               <span style=\"color: #00af00; text-decoration-color: #00af00\">0</span> │\n",
       "├──────────────────────────────────────┼─────────────────────────────┼─────────────────┤\n",
       "│ batch_normalization_17               │ (<span style=\"color: #00d7ff; text-decoration-color: #00d7ff\">None</span>, <span style=\"color: #00af00; text-decoration-color: #00af00\">50</span>)                  │             <span style=\"color: #00af00; text-decoration-color: #00af00\">200</span> │\n",
       "│ (<span style=\"color: #0087ff; text-decoration-color: #0087ff\">BatchNormalization</span>)                 │                             │                 │\n",
       "├──────────────────────────────────────┼─────────────────────────────┼─────────────────┤\n",
       "│ dense_39 (<span style=\"color: #0087ff; text-decoration-color: #0087ff\">Dense</span>)                     │ (<span style=\"color: #00d7ff; text-decoration-color: #00d7ff\">None</span>, <span style=\"color: #00af00; text-decoration-color: #00af00\">50</span>)                  │           <span style=\"color: #00af00; text-decoration-color: #00af00\">2,550</span> │\n",
       "├──────────────────────────────────────┼─────────────────────────────┼─────────────────┤\n",
       "│ dropout_18 (<span style=\"color: #0087ff; text-decoration-color: #0087ff\">Dropout</span>)                 │ (<span style=\"color: #00d7ff; text-decoration-color: #00d7ff\">None</span>, <span style=\"color: #00af00; text-decoration-color: #00af00\">50</span>)                  │               <span style=\"color: #00af00; text-decoration-color: #00af00\">0</span> │\n",
       "├──────────────────────────────────────┼─────────────────────────────┼─────────────────┤\n",
       "│ batch_normalization_18               │ (<span style=\"color: #00d7ff; text-decoration-color: #00d7ff\">None</span>, <span style=\"color: #00af00; text-decoration-color: #00af00\">50</span>)                  │             <span style=\"color: #00af00; text-decoration-color: #00af00\">200</span> │\n",
       "│ (<span style=\"color: #0087ff; text-decoration-color: #0087ff\">BatchNormalization</span>)                 │                             │                 │\n",
       "├──────────────────────────────────────┼─────────────────────────────┼─────────────────┤\n",
       "│ dense_40 (<span style=\"color: #0087ff; text-decoration-color: #0087ff\">Dense</span>)                     │ (<span style=\"color: #00d7ff; text-decoration-color: #00d7ff\">None</span>, <span style=\"color: #00af00; text-decoration-color: #00af00\">50</span>)                  │           <span style=\"color: #00af00; text-decoration-color: #00af00\">2,550</span> │\n",
       "├──────────────────────────────────────┼─────────────────────────────┼─────────────────┤\n",
       "│ dropout_19 (<span style=\"color: #0087ff; text-decoration-color: #0087ff\">Dropout</span>)                 │ (<span style=\"color: #00d7ff; text-decoration-color: #00d7ff\">None</span>, <span style=\"color: #00af00; text-decoration-color: #00af00\">50</span>)                  │               <span style=\"color: #00af00; text-decoration-color: #00af00\">0</span> │\n",
       "├──────────────────────────────────────┼─────────────────────────────┼─────────────────┤\n",
       "│ batch_normalization_19               │ (<span style=\"color: #00d7ff; text-decoration-color: #00d7ff\">None</span>, <span style=\"color: #00af00; text-decoration-color: #00af00\">50</span>)                  │             <span style=\"color: #00af00; text-decoration-color: #00af00\">200</span> │\n",
       "│ (<span style=\"color: #0087ff; text-decoration-color: #0087ff\">BatchNormalization</span>)                 │                             │                 │\n",
       "├──────────────────────────────────────┼─────────────────────────────┼─────────────────┤\n",
       "│ dense_41 (<span style=\"color: #0087ff; text-decoration-color: #0087ff\">Dense</span>)                     │ (<span style=\"color: #00d7ff; text-decoration-color: #00d7ff\">None</span>, <span style=\"color: #00af00; text-decoration-color: #00af00\">1</span>)                   │              <span style=\"color: #00af00; text-decoration-color: #00af00\">51</span> │\n",
       "└──────────────────────────────────────┴─────────────────────────────┴─────────────────┘\n",
       "</pre>\n"
      ],
      "text/plain": [
       "┏━━━━━━━━━━━━━━━━━━━━━━━━━━━━━━━━━━━━━━┳━━━━━━━━━━━━━━━━━━━━━━━━━━━━━┳━━━━━━━━━━━━━━━━━┓\n",
       "┃\u001b[1m \u001b[0m\u001b[1mLayer (type)                        \u001b[0m\u001b[1m \u001b[0m┃\u001b[1m \u001b[0m\u001b[1mOutput Shape               \u001b[0m\u001b[1m \u001b[0m┃\u001b[1m \u001b[0m\u001b[1m        Param #\u001b[0m\u001b[1m \u001b[0m┃\n",
       "┡━━━━━━━━━━━━━━━━━━━━━━━━━━━━━━━━━━━━━━╇━━━━━━━━━━━━━━━━━━━━━━━━━━━━━╇━━━━━━━━━━━━━━━━━┩\n",
       "│ dense_36 (\u001b[38;5;33mDense\u001b[0m)                     │ (\u001b[38;5;45mNone\u001b[0m, \u001b[38;5;34m200\u001b[0m)                 │           \u001b[38;5;34m2,200\u001b[0m │\n",
       "├──────────────────────────────────────┼─────────────────────────────┼─────────────────┤\n",
       "│ dropout_15 (\u001b[38;5;33mDropout\u001b[0m)                 │ (\u001b[38;5;45mNone\u001b[0m, \u001b[38;5;34m200\u001b[0m)                 │               \u001b[38;5;34m0\u001b[0m │\n",
       "├──────────────────────────────────────┼─────────────────────────────┼─────────────────┤\n",
       "│ batch_normalization_15               │ (\u001b[38;5;45mNone\u001b[0m, \u001b[38;5;34m200\u001b[0m)                 │             \u001b[38;5;34m800\u001b[0m │\n",
       "│ (\u001b[38;5;33mBatchNormalization\u001b[0m)                 │                             │                 │\n",
       "├──────────────────────────────────────┼─────────────────────────────┼─────────────────┤\n",
       "│ dense_37 (\u001b[38;5;33mDense\u001b[0m)                     │ (\u001b[38;5;45mNone\u001b[0m, \u001b[38;5;34m100\u001b[0m)                 │          \u001b[38;5;34m20,100\u001b[0m │\n",
       "├──────────────────────────────────────┼─────────────────────────────┼─────────────────┤\n",
       "│ dropout_16 (\u001b[38;5;33mDropout\u001b[0m)                 │ (\u001b[38;5;45mNone\u001b[0m, \u001b[38;5;34m100\u001b[0m)                 │               \u001b[38;5;34m0\u001b[0m │\n",
       "├──────────────────────────────────────┼─────────────────────────────┼─────────────────┤\n",
       "│ batch_normalization_16               │ (\u001b[38;5;45mNone\u001b[0m, \u001b[38;5;34m100\u001b[0m)                 │             \u001b[38;5;34m400\u001b[0m │\n",
       "│ (\u001b[38;5;33mBatchNormalization\u001b[0m)                 │                             │                 │\n",
       "├──────────────────────────────────────┼─────────────────────────────┼─────────────────┤\n",
       "│ dense_38 (\u001b[38;5;33mDense\u001b[0m)                     │ (\u001b[38;5;45mNone\u001b[0m, \u001b[38;5;34m50\u001b[0m)                  │           \u001b[38;5;34m5,050\u001b[0m │\n",
       "├──────────────────────────────────────┼─────────────────────────────┼─────────────────┤\n",
       "│ dropout_17 (\u001b[38;5;33mDropout\u001b[0m)                 │ (\u001b[38;5;45mNone\u001b[0m, \u001b[38;5;34m50\u001b[0m)                  │               \u001b[38;5;34m0\u001b[0m │\n",
       "├──────────────────────────────────────┼─────────────────────────────┼─────────────────┤\n",
       "│ batch_normalization_17               │ (\u001b[38;5;45mNone\u001b[0m, \u001b[38;5;34m50\u001b[0m)                  │             \u001b[38;5;34m200\u001b[0m │\n",
       "│ (\u001b[38;5;33mBatchNormalization\u001b[0m)                 │                             │                 │\n",
       "├──────────────────────────────────────┼─────────────────────────────┼─────────────────┤\n",
       "│ dense_39 (\u001b[38;5;33mDense\u001b[0m)                     │ (\u001b[38;5;45mNone\u001b[0m, \u001b[38;5;34m50\u001b[0m)                  │           \u001b[38;5;34m2,550\u001b[0m │\n",
       "├──────────────────────────────────────┼─────────────────────────────┼─────────────────┤\n",
       "│ dropout_18 (\u001b[38;5;33mDropout\u001b[0m)                 │ (\u001b[38;5;45mNone\u001b[0m, \u001b[38;5;34m50\u001b[0m)                  │               \u001b[38;5;34m0\u001b[0m │\n",
       "├──────────────────────────────────────┼─────────────────────────────┼─────────────────┤\n",
       "│ batch_normalization_18               │ (\u001b[38;5;45mNone\u001b[0m, \u001b[38;5;34m50\u001b[0m)                  │             \u001b[38;5;34m200\u001b[0m │\n",
       "│ (\u001b[38;5;33mBatchNormalization\u001b[0m)                 │                             │                 │\n",
       "├──────────────────────────────────────┼─────────────────────────────┼─────────────────┤\n",
       "│ dense_40 (\u001b[38;5;33mDense\u001b[0m)                     │ (\u001b[38;5;45mNone\u001b[0m, \u001b[38;5;34m50\u001b[0m)                  │           \u001b[38;5;34m2,550\u001b[0m │\n",
       "├──────────────────────────────────────┼─────────────────────────────┼─────────────────┤\n",
       "│ dropout_19 (\u001b[38;5;33mDropout\u001b[0m)                 │ (\u001b[38;5;45mNone\u001b[0m, \u001b[38;5;34m50\u001b[0m)                  │               \u001b[38;5;34m0\u001b[0m │\n",
       "├──────────────────────────────────────┼─────────────────────────────┼─────────────────┤\n",
       "│ batch_normalization_19               │ (\u001b[38;5;45mNone\u001b[0m, \u001b[38;5;34m50\u001b[0m)                  │             \u001b[38;5;34m200\u001b[0m │\n",
       "│ (\u001b[38;5;33mBatchNormalization\u001b[0m)                 │                             │                 │\n",
       "├──────────────────────────────────────┼─────────────────────────────┼─────────────────┤\n",
       "│ dense_41 (\u001b[38;5;33mDense\u001b[0m)                     │ (\u001b[38;5;45mNone\u001b[0m, \u001b[38;5;34m1\u001b[0m)                   │              \u001b[38;5;34m51\u001b[0m │\n",
       "└──────────────────────────────────────┴─────────────────────────────┴─────────────────┘\n"
      ]
     },
     "metadata": {},
     "output_type": "display_data"
    },
    {
     "data": {
      "text/html": [
       "<pre style=\"white-space:pre;overflow-x:auto;line-height:normal;font-family:Menlo,'DejaVu Sans Mono',consolas,'Courier New',monospace\"><span style=\"font-weight: bold\"> Total params: </span><span style=\"color: #00af00; text-decoration-color: #00af00\">34,301</span> (133.99 KB)\n",
       "</pre>\n"
      ],
      "text/plain": [
       "\u001b[1m Total params: \u001b[0m\u001b[38;5;34m34,301\u001b[0m (133.99 KB)\n"
      ]
     },
     "metadata": {},
     "output_type": "display_data"
    },
    {
     "data": {
      "text/html": [
       "<pre style=\"white-space:pre;overflow-x:auto;line-height:normal;font-family:Menlo,'DejaVu Sans Mono',consolas,'Courier New',monospace\"><span style=\"font-weight: bold\"> Trainable params: </span><span style=\"color: #00af00; text-decoration-color: #00af00\">33,401</span> (130.47 KB)\n",
       "</pre>\n"
      ],
      "text/plain": [
       "\u001b[1m Trainable params: \u001b[0m\u001b[38;5;34m33,401\u001b[0m (130.47 KB)\n"
      ]
     },
     "metadata": {},
     "output_type": "display_data"
    },
    {
     "data": {
      "text/html": [
       "<pre style=\"white-space:pre;overflow-x:auto;line-height:normal;font-family:Menlo,'DejaVu Sans Mono',consolas,'Courier New',monospace\"><span style=\"font-weight: bold\"> Non-trainable params: </span><span style=\"color: #00af00; text-decoration-color: #00af00\">900</span> (3.52 KB)\n",
       "</pre>\n"
      ],
      "text/plain": [
       "\u001b[1m Non-trainable params: \u001b[0m\u001b[38;5;34m900\u001b[0m (3.52 KB)\n"
      ]
     },
     "metadata": {},
     "output_type": "display_data"
    },
    {
     "name": "stdout",
     "output_type": "stream",
     "text": [
      "\n",
      "Model_ADM8\n"
     ]
    },
    {
     "data": {
      "text/html": [
       "<pre style=\"white-space:pre;overflow-x:auto;line-height:normal;font-family:Menlo,'DejaVu Sans Mono',consolas,'Courier New',monospace\"><span style=\"font-weight: bold\">Model: \"sequential_7\"</span>\n",
       "</pre>\n"
      ],
      "text/plain": [
       "\u001b[1mModel: \"sequential_7\"\u001b[0m\n"
      ]
     },
     "metadata": {},
     "output_type": "display_data"
    },
    {
     "data": {
      "text/html": [
       "<pre style=\"white-space:pre;overflow-x:auto;line-height:normal;font-family:Menlo,'DejaVu Sans Mono',consolas,'Courier New',monospace\">┏━━━━━━━━━━━━━━━━━━━━━━━━━━━━━━━━━━━━━━┳━━━━━━━━━━━━━━━━━━━━━━━━━━━━━┳━━━━━━━━━━━━━━━━━┓\n",
       "┃<span style=\"font-weight: bold\"> Layer (type)                         </span>┃<span style=\"font-weight: bold\"> Output Shape                </span>┃<span style=\"font-weight: bold\">         Param # </span>┃\n",
       "┡━━━━━━━━━━━━━━━━━━━━━━━━━━━━━━━━━━━━━━╇━━━━━━━━━━━━━━━━━━━━━━━━━━━━━╇━━━━━━━━━━━━━━━━━┩\n",
       "│ dense_42 (<span style=\"color: #0087ff; text-decoration-color: #0087ff\">Dense</span>)                     │ (<span style=\"color: #00d7ff; text-decoration-color: #00d7ff\">None</span>, <span style=\"color: #00af00; text-decoration-color: #00af00\">200</span>)                 │           <span style=\"color: #00af00; text-decoration-color: #00af00\">2,200</span> │\n",
       "├──────────────────────────────────────┼─────────────────────────────┼─────────────────┤\n",
       "│ dropout_20 (<span style=\"color: #0087ff; text-decoration-color: #0087ff\">Dropout</span>)                 │ (<span style=\"color: #00d7ff; text-decoration-color: #00d7ff\">None</span>, <span style=\"color: #00af00; text-decoration-color: #00af00\">200</span>)                 │               <span style=\"color: #00af00; text-decoration-color: #00af00\">0</span> │\n",
       "├──────────────────────────────────────┼─────────────────────────────┼─────────────────┤\n",
       "│ batch_normalization_20               │ (<span style=\"color: #00d7ff; text-decoration-color: #00d7ff\">None</span>, <span style=\"color: #00af00; text-decoration-color: #00af00\">200</span>)                 │             <span style=\"color: #00af00; text-decoration-color: #00af00\">800</span> │\n",
       "│ (<span style=\"color: #0087ff; text-decoration-color: #0087ff\">BatchNormalization</span>)                 │                             │                 │\n",
       "├──────────────────────────────────────┼─────────────────────────────┼─────────────────┤\n",
       "│ dense_43 (<span style=\"color: #0087ff; text-decoration-color: #0087ff\">Dense</span>)                     │ (<span style=\"color: #00d7ff; text-decoration-color: #00d7ff\">None</span>, <span style=\"color: #00af00; text-decoration-color: #00af00\">100</span>)                 │          <span style=\"color: #00af00; text-decoration-color: #00af00\">20,100</span> │\n",
       "├──────────────────────────────────────┼─────────────────────────────┼─────────────────┤\n",
       "│ dropout_21 (<span style=\"color: #0087ff; text-decoration-color: #0087ff\">Dropout</span>)                 │ (<span style=\"color: #00d7ff; text-decoration-color: #00d7ff\">None</span>, <span style=\"color: #00af00; text-decoration-color: #00af00\">100</span>)                 │               <span style=\"color: #00af00; text-decoration-color: #00af00\">0</span> │\n",
       "├──────────────────────────────────────┼─────────────────────────────┼─────────────────┤\n",
       "│ batch_normalization_21               │ (<span style=\"color: #00d7ff; text-decoration-color: #00d7ff\">None</span>, <span style=\"color: #00af00; text-decoration-color: #00af00\">100</span>)                 │             <span style=\"color: #00af00; text-decoration-color: #00af00\">400</span> │\n",
       "│ (<span style=\"color: #0087ff; text-decoration-color: #0087ff\">BatchNormalization</span>)                 │                             │                 │\n",
       "├──────────────────────────────────────┼─────────────────────────────┼─────────────────┤\n",
       "│ dense_44 (<span style=\"color: #0087ff; text-decoration-color: #0087ff\">Dense</span>)                     │ (<span style=\"color: #00d7ff; text-decoration-color: #00d7ff\">None</span>, <span style=\"color: #00af00; text-decoration-color: #00af00\">50</span>)                  │           <span style=\"color: #00af00; text-decoration-color: #00af00\">5,050</span> │\n",
       "├──────────────────────────────────────┼─────────────────────────────┼─────────────────┤\n",
       "│ dropout_22 (<span style=\"color: #0087ff; text-decoration-color: #0087ff\">Dropout</span>)                 │ (<span style=\"color: #00d7ff; text-decoration-color: #00d7ff\">None</span>, <span style=\"color: #00af00; text-decoration-color: #00af00\">50</span>)                  │               <span style=\"color: #00af00; text-decoration-color: #00af00\">0</span> │\n",
       "├──────────────────────────────────────┼─────────────────────────────┼─────────────────┤\n",
       "│ batch_normalization_22               │ (<span style=\"color: #00d7ff; text-decoration-color: #00d7ff\">None</span>, <span style=\"color: #00af00; text-decoration-color: #00af00\">50</span>)                  │             <span style=\"color: #00af00; text-decoration-color: #00af00\">200</span> │\n",
       "│ (<span style=\"color: #0087ff; text-decoration-color: #0087ff\">BatchNormalization</span>)                 │                             │                 │\n",
       "├──────────────────────────────────────┼─────────────────────────────┼─────────────────┤\n",
       "│ dense_45 (<span style=\"color: #0087ff; text-decoration-color: #0087ff\">Dense</span>)                     │ (<span style=\"color: #00d7ff; text-decoration-color: #00d7ff\">None</span>, <span style=\"color: #00af00; text-decoration-color: #00af00\">50</span>)                  │           <span style=\"color: #00af00; text-decoration-color: #00af00\">2,550</span> │\n",
       "├──────────────────────────────────────┼─────────────────────────────┼─────────────────┤\n",
       "│ dropout_23 (<span style=\"color: #0087ff; text-decoration-color: #0087ff\">Dropout</span>)                 │ (<span style=\"color: #00d7ff; text-decoration-color: #00d7ff\">None</span>, <span style=\"color: #00af00; text-decoration-color: #00af00\">50</span>)                  │               <span style=\"color: #00af00; text-decoration-color: #00af00\">0</span> │\n",
       "├──────────────────────────────────────┼─────────────────────────────┼─────────────────┤\n",
       "│ batch_normalization_23               │ (<span style=\"color: #00d7ff; text-decoration-color: #00d7ff\">None</span>, <span style=\"color: #00af00; text-decoration-color: #00af00\">50</span>)                  │             <span style=\"color: #00af00; text-decoration-color: #00af00\">200</span> │\n",
       "│ (<span style=\"color: #0087ff; text-decoration-color: #0087ff\">BatchNormalization</span>)                 │                             │                 │\n",
       "├──────────────────────────────────────┼─────────────────────────────┼─────────────────┤\n",
       "│ dense_46 (<span style=\"color: #0087ff; text-decoration-color: #0087ff\">Dense</span>)                     │ (<span style=\"color: #00d7ff; text-decoration-color: #00d7ff\">None</span>, <span style=\"color: #00af00; text-decoration-color: #00af00\">50</span>)                  │           <span style=\"color: #00af00; text-decoration-color: #00af00\">2,550</span> │\n",
       "├──────────────────────────────────────┼─────────────────────────────┼─────────────────┤\n",
       "│ dropout_24 (<span style=\"color: #0087ff; text-decoration-color: #0087ff\">Dropout</span>)                 │ (<span style=\"color: #00d7ff; text-decoration-color: #00d7ff\">None</span>, <span style=\"color: #00af00; text-decoration-color: #00af00\">50</span>)                  │               <span style=\"color: #00af00; text-decoration-color: #00af00\">0</span> │\n",
       "├──────────────────────────────────────┼─────────────────────────────┼─────────────────┤\n",
       "│ batch_normalization_24               │ (<span style=\"color: #00d7ff; text-decoration-color: #00d7ff\">None</span>, <span style=\"color: #00af00; text-decoration-color: #00af00\">50</span>)                  │             <span style=\"color: #00af00; text-decoration-color: #00af00\">200</span> │\n",
       "│ (<span style=\"color: #0087ff; text-decoration-color: #0087ff\">BatchNormalization</span>)                 │                             │                 │\n",
       "├──────────────────────────────────────┼─────────────────────────────┼─────────────────┤\n",
       "│ dense_47 (<span style=\"color: #0087ff; text-decoration-color: #0087ff\">Dense</span>)                     │ (<span style=\"color: #00d7ff; text-decoration-color: #00d7ff\">None</span>, <span style=\"color: #00af00; text-decoration-color: #00af00\">1</span>)                   │              <span style=\"color: #00af00; text-decoration-color: #00af00\">51</span> │\n",
       "└──────────────────────────────────────┴─────────────────────────────┴─────────────────┘\n",
       "</pre>\n"
      ],
      "text/plain": [
       "┏━━━━━━━━━━━━━━━━━━━━━━━━━━━━━━━━━━━━━━┳━━━━━━━━━━━━━━━━━━━━━━━━━━━━━┳━━━━━━━━━━━━━━━━━┓\n",
       "┃\u001b[1m \u001b[0m\u001b[1mLayer (type)                        \u001b[0m\u001b[1m \u001b[0m┃\u001b[1m \u001b[0m\u001b[1mOutput Shape               \u001b[0m\u001b[1m \u001b[0m┃\u001b[1m \u001b[0m\u001b[1m        Param #\u001b[0m\u001b[1m \u001b[0m┃\n",
       "┡━━━━━━━━━━━━━━━━━━━━━━━━━━━━━━━━━━━━━━╇━━━━━━━━━━━━━━━━━━━━━━━━━━━━━╇━━━━━━━━━━━━━━━━━┩\n",
       "│ dense_42 (\u001b[38;5;33mDense\u001b[0m)                     │ (\u001b[38;5;45mNone\u001b[0m, \u001b[38;5;34m200\u001b[0m)                 │           \u001b[38;5;34m2,200\u001b[0m │\n",
       "├──────────────────────────────────────┼─────────────────────────────┼─────────────────┤\n",
       "│ dropout_20 (\u001b[38;5;33mDropout\u001b[0m)                 │ (\u001b[38;5;45mNone\u001b[0m, \u001b[38;5;34m200\u001b[0m)                 │               \u001b[38;5;34m0\u001b[0m │\n",
       "├──────────────────────────────────────┼─────────────────────────────┼─────────────────┤\n",
       "│ batch_normalization_20               │ (\u001b[38;5;45mNone\u001b[0m, \u001b[38;5;34m200\u001b[0m)                 │             \u001b[38;5;34m800\u001b[0m │\n",
       "│ (\u001b[38;5;33mBatchNormalization\u001b[0m)                 │                             │                 │\n",
       "├──────────────────────────────────────┼─────────────────────────────┼─────────────────┤\n",
       "│ dense_43 (\u001b[38;5;33mDense\u001b[0m)                     │ (\u001b[38;5;45mNone\u001b[0m, \u001b[38;5;34m100\u001b[0m)                 │          \u001b[38;5;34m20,100\u001b[0m │\n",
       "├──────────────────────────────────────┼─────────────────────────────┼─────────────────┤\n",
       "│ dropout_21 (\u001b[38;5;33mDropout\u001b[0m)                 │ (\u001b[38;5;45mNone\u001b[0m, \u001b[38;5;34m100\u001b[0m)                 │               \u001b[38;5;34m0\u001b[0m │\n",
       "├──────────────────────────────────────┼─────────────────────────────┼─────────────────┤\n",
       "│ batch_normalization_21               │ (\u001b[38;5;45mNone\u001b[0m, \u001b[38;5;34m100\u001b[0m)                 │             \u001b[38;5;34m400\u001b[0m │\n",
       "│ (\u001b[38;5;33mBatchNormalization\u001b[0m)                 │                             │                 │\n",
       "├──────────────────────────────────────┼─────────────────────────────┼─────────────────┤\n",
       "│ dense_44 (\u001b[38;5;33mDense\u001b[0m)                     │ (\u001b[38;5;45mNone\u001b[0m, \u001b[38;5;34m50\u001b[0m)                  │           \u001b[38;5;34m5,050\u001b[0m │\n",
       "├──────────────────────────────────────┼─────────────────────────────┼─────────────────┤\n",
       "│ dropout_22 (\u001b[38;5;33mDropout\u001b[0m)                 │ (\u001b[38;5;45mNone\u001b[0m, \u001b[38;5;34m50\u001b[0m)                  │               \u001b[38;5;34m0\u001b[0m │\n",
       "├──────────────────────────────────────┼─────────────────────────────┼─────────────────┤\n",
       "│ batch_normalization_22               │ (\u001b[38;5;45mNone\u001b[0m, \u001b[38;5;34m50\u001b[0m)                  │             \u001b[38;5;34m200\u001b[0m │\n",
       "│ (\u001b[38;5;33mBatchNormalization\u001b[0m)                 │                             │                 │\n",
       "├──────────────────────────────────────┼─────────────────────────────┼─────────────────┤\n",
       "│ dense_45 (\u001b[38;5;33mDense\u001b[0m)                     │ (\u001b[38;5;45mNone\u001b[0m, \u001b[38;5;34m50\u001b[0m)                  │           \u001b[38;5;34m2,550\u001b[0m │\n",
       "├──────────────────────────────────────┼─────────────────────────────┼─────────────────┤\n",
       "│ dropout_23 (\u001b[38;5;33mDropout\u001b[0m)                 │ (\u001b[38;5;45mNone\u001b[0m, \u001b[38;5;34m50\u001b[0m)                  │               \u001b[38;5;34m0\u001b[0m │\n",
       "├──────────────────────────────────────┼─────────────────────────────┼─────────────────┤\n",
       "│ batch_normalization_23               │ (\u001b[38;5;45mNone\u001b[0m, \u001b[38;5;34m50\u001b[0m)                  │             \u001b[38;5;34m200\u001b[0m │\n",
       "│ (\u001b[38;5;33mBatchNormalization\u001b[0m)                 │                             │                 │\n",
       "├──────────────────────────────────────┼─────────────────────────────┼─────────────────┤\n",
       "│ dense_46 (\u001b[38;5;33mDense\u001b[0m)                     │ (\u001b[38;5;45mNone\u001b[0m, \u001b[38;5;34m50\u001b[0m)                  │           \u001b[38;5;34m2,550\u001b[0m │\n",
       "├──────────────────────────────────────┼─────────────────────────────┼─────────────────┤\n",
       "│ dropout_24 (\u001b[38;5;33mDropout\u001b[0m)                 │ (\u001b[38;5;45mNone\u001b[0m, \u001b[38;5;34m50\u001b[0m)                  │               \u001b[38;5;34m0\u001b[0m │\n",
       "├──────────────────────────────────────┼─────────────────────────────┼─────────────────┤\n",
       "│ batch_normalization_24               │ (\u001b[38;5;45mNone\u001b[0m, \u001b[38;5;34m50\u001b[0m)                  │             \u001b[38;5;34m200\u001b[0m │\n",
       "│ (\u001b[38;5;33mBatchNormalization\u001b[0m)                 │                             │                 │\n",
       "├──────────────────────────────────────┼─────────────────────────────┼─────────────────┤\n",
       "│ dense_47 (\u001b[38;5;33mDense\u001b[0m)                     │ (\u001b[38;5;45mNone\u001b[0m, \u001b[38;5;34m1\u001b[0m)                   │              \u001b[38;5;34m51\u001b[0m │\n",
       "└──────────────────────────────────────┴─────────────────────────────┴─────────────────┘\n"
      ]
     },
     "metadata": {},
     "output_type": "display_data"
    },
    {
     "data": {
      "text/html": [
       "<pre style=\"white-space:pre;overflow-x:auto;line-height:normal;font-family:Menlo,'DejaVu Sans Mono',consolas,'Courier New',monospace\"><span style=\"font-weight: bold\"> Total params: </span><span style=\"color: #00af00; text-decoration-color: #00af00\">34,301</span> (133.99 KB)\n",
       "</pre>\n"
      ],
      "text/plain": [
       "\u001b[1m Total params: \u001b[0m\u001b[38;5;34m34,301\u001b[0m (133.99 KB)\n"
      ]
     },
     "metadata": {},
     "output_type": "display_data"
    },
    {
     "data": {
      "text/html": [
       "<pre style=\"white-space:pre;overflow-x:auto;line-height:normal;font-family:Menlo,'DejaVu Sans Mono',consolas,'Courier New',monospace\"><span style=\"font-weight: bold\"> Trainable params: </span><span style=\"color: #00af00; text-decoration-color: #00af00\">33,401</span> (130.47 KB)\n",
       "</pre>\n"
      ],
      "text/plain": [
       "\u001b[1m Trainable params: \u001b[0m\u001b[38;5;34m33,401\u001b[0m (130.47 KB)\n"
      ]
     },
     "metadata": {},
     "output_type": "display_data"
    },
    {
     "data": {
      "text/html": [
       "<pre style=\"white-space:pre;overflow-x:auto;line-height:normal;font-family:Menlo,'DejaVu Sans Mono',consolas,'Courier New',monospace\"><span style=\"font-weight: bold\"> Non-trainable params: </span><span style=\"color: #00af00; text-decoration-color: #00af00\">900</span> (3.52 KB)\n",
       "</pre>\n"
      ],
      "text/plain": [
       "\u001b[1m Non-trainable params: \u001b[0m\u001b[38;5;34m900\u001b[0m (3.52 KB)\n"
      ]
     },
     "metadata": {},
     "output_type": "display_data"
    },
    {
     "name": "stdout",
     "output_type": "stream",
     "text": [
      "\n",
      "Model_ADM9\n"
     ]
    },
    {
     "data": {
      "text/html": [
       "<pre style=\"white-space:pre;overflow-x:auto;line-height:normal;font-family:Menlo,'DejaVu Sans Mono',consolas,'Courier New',monospace\"><span style=\"font-weight: bold\">Model: \"sequential_8\"</span>\n",
       "</pre>\n"
      ],
      "text/plain": [
       "\u001b[1mModel: \"sequential_8\"\u001b[0m\n"
      ]
     },
     "metadata": {},
     "output_type": "display_data"
    },
    {
     "data": {
      "text/html": [
       "<pre style=\"white-space:pre;overflow-x:auto;line-height:normal;font-family:Menlo,'DejaVu Sans Mono',consolas,'Courier New',monospace\">┏━━━━━━━━━━━━━━━━━━━━━━━━━━━━━━━━━━━━━━┳━━━━━━━━━━━━━━━━━━━━━━━━━━━━━┳━━━━━━━━━━━━━━━━━┓\n",
       "┃<span style=\"font-weight: bold\"> Layer (type)                         </span>┃<span style=\"font-weight: bold\"> Output Shape                </span>┃<span style=\"font-weight: bold\">         Param # </span>┃\n",
       "┡━━━━━━━━━━━━━━━━━━━━━━━━━━━━━━━━━━━━━━╇━━━━━━━━━━━━━━━━━━━━━━━━━━━━━╇━━━━━━━━━━━━━━━━━┩\n",
       "│ dense_48 (<span style=\"color: #0087ff; text-decoration-color: #0087ff\">Dense</span>)                     │ (<span style=\"color: #00d7ff; text-decoration-color: #00d7ff\">None</span>, <span style=\"color: #00af00; text-decoration-color: #00af00\">200</span>)                 │           <span style=\"color: #00af00; text-decoration-color: #00af00\">2,200</span> │\n",
       "├──────────────────────────────────────┼─────────────────────────────┼─────────────────┤\n",
       "│ dropout_25 (<span style=\"color: #0087ff; text-decoration-color: #0087ff\">Dropout</span>)                 │ (<span style=\"color: #00d7ff; text-decoration-color: #00d7ff\">None</span>, <span style=\"color: #00af00; text-decoration-color: #00af00\">200</span>)                 │               <span style=\"color: #00af00; text-decoration-color: #00af00\">0</span> │\n",
       "├──────────────────────────────────────┼─────────────────────────────┼─────────────────┤\n",
       "│ batch_normalization_25               │ (<span style=\"color: #00d7ff; text-decoration-color: #00d7ff\">None</span>, <span style=\"color: #00af00; text-decoration-color: #00af00\">200</span>)                 │             <span style=\"color: #00af00; text-decoration-color: #00af00\">800</span> │\n",
       "│ (<span style=\"color: #0087ff; text-decoration-color: #0087ff\">BatchNormalization</span>)                 │                             │                 │\n",
       "├──────────────────────────────────────┼─────────────────────────────┼─────────────────┤\n",
       "│ dense_49 (<span style=\"color: #0087ff; text-decoration-color: #0087ff\">Dense</span>)                     │ (<span style=\"color: #00d7ff; text-decoration-color: #00d7ff\">None</span>, <span style=\"color: #00af00; text-decoration-color: #00af00\">100</span>)                 │          <span style=\"color: #00af00; text-decoration-color: #00af00\">20,100</span> │\n",
       "├──────────────────────────────────────┼─────────────────────────────┼─────────────────┤\n",
       "│ dropout_26 (<span style=\"color: #0087ff; text-decoration-color: #0087ff\">Dropout</span>)                 │ (<span style=\"color: #00d7ff; text-decoration-color: #00d7ff\">None</span>, <span style=\"color: #00af00; text-decoration-color: #00af00\">100</span>)                 │               <span style=\"color: #00af00; text-decoration-color: #00af00\">0</span> │\n",
       "├──────────────────────────────────────┼─────────────────────────────┼─────────────────┤\n",
       "│ batch_normalization_26               │ (<span style=\"color: #00d7ff; text-decoration-color: #00d7ff\">None</span>, <span style=\"color: #00af00; text-decoration-color: #00af00\">100</span>)                 │             <span style=\"color: #00af00; text-decoration-color: #00af00\">400</span> │\n",
       "│ (<span style=\"color: #0087ff; text-decoration-color: #0087ff\">BatchNormalization</span>)                 │                             │                 │\n",
       "├──────────────────────────────────────┼─────────────────────────────┼─────────────────┤\n",
       "│ dense_50 (<span style=\"color: #0087ff; text-decoration-color: #0087ff\">Dense</span>)                     │ (<span style=\"color: #00d7ff; text-decoration-color: #00d7ff\">None</span>, <span style=\"color: #00af00; text-decoration-color: #00af00\">50</span>)                  │           <span style=\"color: #00af00; text-decoration-color: #00af00\">5,050</span> │\n",
       "├──────────────────────────────────────┼─────────────────────────────┼─────────────────┤\n",
       "│ dropout_27 (<span style=\"color: #0087ff; text-decoration-color: #0087ff\">Dropout</span>)                 │ (<span style=\"color: #00d7ff; text-decoration-color: #00d7ff\">None</span>, <span style=\"color: #00af00; text-decoration-color: #00af00\">50</span>)                  │               <span style=\"color: #00af00; text-decoration-color: #00af00\">0</span> │\n",
       "├──────────────────────────────────────┼─────────────────────────────┼─────────────────┤\n",
       "│ batch_normalization_27               │ (<span style=\"color: #00d7ff; text-decoration-color: #00d7ff\">None</span>, <span style=\"color: #00af00; text-decoration-color: #00af00\">50</span>)                  │             <span style=\"color: #00af00; text-decoration-color: #00af00\">200</span> │\n",
       "│ (<span style=\"color: #0087ff; text-decoration-color: #0087ff\">BatchNormalization</span>)                 │                             │                 │\n",
       "├──────────────────────────────────────┼─────────────────────────────┼─────────────────┤\n",
       "│ dense_51 (<span style=\"color: #0087ff; text-decoration-color: #0087ff\">Dense</span>)                     │ (<span style=\"color: #00d7ff; text-decoration-color: #00d7ff\">None</span>, <span style=\"color: #00af00; text-decoration-color: #00af00\">50</span>)                  │           <span style=\"color: #00af00; text-decoration-color: #00af00\">2,550</span> │\n",
       "├──────────────────────────────────────┼─────────────────────────────┼─────────────────┤\n",
       "│ dropout_28 (<span style=\"color: #0087ff; text-decoration-color: #0087ff\">Dropout</span>)                 │ (<span style=\"color: #00d7ff; text-decoration-color: #00d7ff\">None</span>, <span style=\"color: #00af00; text-decoration-color: #00af00\">50</span>)                  │               <span style=\"color: #00af00; text-decoration-color: #00af00\">0</span> │\n",
       "├──────────────────────────────────────┼─────────────────────────────┼─────────────────┤\n",
       "│ batch_normalization_28               │ (<span style=\"color: #00d7ff; text-decoration-color: #00d7ff\">None</span>, <span style=\"color: #00af00; text-decoration-color: #00af00\">50</span>)                  │             <span style=\"color: #00af00; text-decoration-color: #00af00\">200</span> │\n",
       "│ (<span style=\"color: #0087ff; text-decoration-color: #0087ff\">BatchNormalization</span>)                 │                             │                 │\n",
       "├──────────────────────────────────────┼─────────────────────────────┼─────────────────┤\n",
       "│ dense_52 (<span style=\"color: #0087ff; text-decoration-color: #0087ff\">Dense</span>)                     │ (<span style=\"color: #00d7ff; text-decoration-color: #00d7ff\">None</span>, <span style=\"color: #00af00; text-decoration-color: #00af00\">50</span>)                  │           <span style=\"color: #00af00; text-decoration-color: #00af00\">2,550</span> │\n",
       "├──────────────────────────────────────┼─────────────────────────────┼─────────────────┤\n",
       "│ dropout_29 (<span style=\"color: #0087ff; text-decoration-color: #0087ff\">Dropout</span>)                 │ (<span style=\"color: #00d7ff; text-decoration-color: #00d7ff\">None</span>, <span style=\"color: #00af00; text-decoration-color: #00af00\">50</span>)                  │               <span style=\"color: #00af00; text-decoration-color: #00af00\">0</span> │\n",
       "├──────────────────────────────────────┼─────────────────────────────┼─────────────────┤\n",
       "│ batch_normalization_29               │ (<span style=\"color: #00d7ff; text-decoration-color: #00d7ff\">None</span>, <span style=\"color: #00af00; text-decoration-color: #00af00\">50</span>)                  │             <span style=\"color: #00af00; text-decoration-color: #00af00\">200</span> │\n",
       "│ (<span style=\"color: #0087ff; text-decoration-color: #0087ff\">BatchNormalization</span>)                 │                             │                 │\n",
       "├──────────────────────────────────────┼─────────────────────────────┼─────────────────┤\n",
       "│ dense_53 (<span style=\"color: #0087ff; text-decoration-color: #0087ff\">Dense</span>)                     │ (<span style=\"color: #00d7ff; text-decoration-color: #00d7ff\">None</span>, <span style=\"color: #00af00; text-decoration-color: #00af00\">1</span>)                   │              <span style=\"color: #00af00; text-decoration-color: #00af00\">51</span> │\n",
       "└──────────────────────────────────────┴─────────────────────────────┴─────────────────┘\n",
       "</pre>\n"
      ],
      "text/plain": [
       "┏━━━━━━━━━━━━━━━━━━━━━━━━━━━━━━━━━━━━━━┳━━━━━━━━━━━━━━━━━━━━━━━━━━━━━┳━━━━━━━━━━━━━━━━━┓\n",
       "┃\u001b[1m \u001b[0m\u001b[1mLayer (type)                        \u001b[0m\u001b[1m \u001b[0m┃\u001b[1m \u001b[0m\u001b[1mOutput Shape               \u001b[0m\u001b[1m \u001b[0m┃\u001b[1m \u001b[0m\u001b[1m        Param #\u001b[0m\u001b[1m \u001b[0m┃\n",
       "┡━━━━━━━━━━━━━━━━━━━━━━━━━━━━━━━━━━━━━━╇━━━━━━━━━━━━━━━━━━━━━━━━━━━━━╇━━━━━━━━━━━━━━━━━┩\n",
       "│ dense_48 (\u001b[38;5;33mDense\u001b[0m)                     │ (\u001b[38;5;45mNone\u001b[0m, \u001b[38;5;34m200\u001b[0m)                 │           \u001b[38;5;34m2,200\u001b[0m │\n",
       "├──────────────────────────────────────┼─────────────────────────────┼─────────────────┤\n",
       "│ dropout_25 (\u001b[38;5;33mDropout\u001b[0m)                 │ (\u001b[38;5;45mNone\u001b[0m, \u001b[38;5;34m200\u001b[0m)                 │               \u001b[38;5;34m0\u001b[0m │\n",
       "├──────────────────────────────────────┼─────────────────────────────┼─────────────────┤\n",
       "│ batch_normalization_25               │ (\u001b[38;5;45mNone\u001b[0m, \u001b[38;5;34m200\u001b[0m)                 │             \u001b[38;5;34m800\u001b[0m │\n",
       "│ (\u001b[38;5;33mBatchNormalization\u001b[0m)                 │                             │                 │\n",
       "├──────────────────────────────────────┼─────────────────────────────┼─────────────────┤\n",
       "│ dense_49 (\u001b[38;5;33mDense\u001b[0m)                     │ (\u001b[38;5;45mNone\u001b[0m, \u001b[38;5;34m100\u001b[0m)                 │          \u001b[38;5;34m20,100\u001b[0m │\n",
       "├──────────────────────────────────────┼─────────────────────────────┼─────────────────┤\n",
       "│ dropout_26 (\u001b[38;5;33mDropout\u001b[0m)                 │ (\u001b[38;5;45mNone\u001b[0m, \u001b[38;5;34m100\u001b[0m)                 │               \u001b[38;5;34m0\u001b[0m │\n",
       "├──────────────────────────────────────┼─────────────────────────────┼─────────────────┤\n",
       "│ batch_normalization_26               │ (\u001b[38;5;45mNone\u001b[0m, \u001b[38;5;34m100\u001b[0m)                 │             \u001b[38;5;34m400\u001b[0m │\n",
       "│ (\u001b[38;5;33mBatchNormalization\u001b[0m)                 │                             │                 │\n",
       "├──────────────────────────────────────┼─────────────────────────────┼─────────────────┤\n",
       "│ dense_50 (\u001b[38;5;33mDense\u001b[0m)                     │ (\u001b[38;5;45mNone\u001b[0m, \u001b[38;5;34m50\u001b[0m)                  │           \u001b[38;5;34m5,050\u001b[0m │\n",
       "├──────────────────────────────────────┼─────────────────────────────┼─────────────────┤\n",
       "│ dropout_27 (\u001b[38;5;33mDropout\u001b[0m)                 │ (\u001b[38;5;45mNone\u001b[0m, \u001b[38;5;34m50\u001b[0m)                  │               \u001b[38;5;34m0\u001b[0m │\n",
       "├──────────────────────────────────────┼─────────────────────────────┼─────────────────┤\n",
       "│ batch_normalization_27               │ (\u001b[38;5;45mNone\u001b[0m, \u001b[38;5;34m50\u001b[0m)                  │             \u001b[38;5;34m200\u001b[0m │\n",
       "│ (\u001b[38;5;33mBatchNormalization\u001b[0m)                 │                             │                 │\n",
       "├──────────────────────────────────────┼─────────────────────────────┼─────────────────┤\n",
       "│ dense_51 (\u001b[38;5;33mDense\u001b[0m)                     │ (\u001b[38;5;45mNone\u001b[0m, \u001b[38;5;34m50\u001b[0m)                  │           \u001b[38;5;34m2,550\u001b[0m │\n",
       "├──────────────────────────────────────┼─────────────────────────────┼─────────────────┤\n",
       "│ dropout_28 (\u001b[38;5;33mDropout\u001b[0m)                 │ (\u001b[38;5;45mNone\u001b[0m, \u001b[38;5;34m50\u001b[0m)                  │               \u001b[38;5;34m0\u001b[0m │\n",
       "├──────────────────────────────────────┼─────────────────────────────┼─────────────────┤\n",
       "│ batch_normalization_28               │ (\u001b[38;5;45mNone\u001b[0m, \u001b[38;5;34m50\u001b[0m)                  │             \u001b[38;5;34m200\u001b[0m │\n",
       "│ (\u001b[38;5;33mBatchNormalization\u001b[0m)                 │                             │                 │\n",
       "├──────────────────────────────────────┼─────────────────────────────┼─────────────────┤\n",
       "│ dense_52 (\u001b[38;5;33mDense\u001b[0m)                     │ (\u001b[38;5;45mNone\u001b[0m, \u001b[38;5;34m50\u001b[0m)                  │           \u001b[38;5;34m2,550\u001b[0m │\n",
       "├──────────────────────────────────────┼─────────────────────────────┼─────────────────┤\n",
       "│ dropout_29 (\u001b[38;5;33mDropout\u001b[0m)                 │ (\u001b[38;5;45mNone\u001b[0m, \u001b[38;5;34m50\u001b[0m)                  │               \u001b[38;5;34m0\u001b[0m │\n",
       "├──────────────────────────────────────┼─────────────────────────────┼─────────────────┤\n",
       "│ batch_normalization_29               │ (\u001b[38;5;45mNone\u001b[0m, \u001b[38;5;34m50\u001b[0m)                  │             \u001b[38;5;34m200\u001b[0m │\n",
       "│ (\u001b[38;5;33mBatchNormalization\u001b[0m)                 │                             │                 │\n",
       "├──────────────────────────────────────┼─────────────────────────────┼─────────────────┤\n",
       "│ dense_53 (\u001b[38;5;33mDense\u001b[0m)                     │ (\u001b[38;5;45mNone\u001b[0m, \u001b[38;5;34m1\u001b[0m)                   │              \u001b[38;5;34m51\u001b[0m │\n",
       "└──────────────────────────────────────┴─────────────────────────────┴─────────────────┘\n"
      ]
     },
     "metadata": {},
     "output_type": "display_data"
    },
    {
     "data": {
      "text/html": [
       "<pre style=\"white-space:pre;overflow-x:auto;line-height:normal;font-family:Menlo,'DejaVu Sans Mono',consolas,'Courier New',monospace\"><span style=\"font-weight: bold\"> Total params: </span><span style=\"color: #00af00; text-decoration-color: #00af00\">34,301</span> (133.99 KB)\n",
       "</pre>\n"
      ],
      "text/plain": [
       "\u001b[1m Total params: \u001b[0m\u001b[38;5;34m34,301\u001b[0m (133.99 KB)\n"
      ]
     },
     "metadata": {},
     "output_type": "display_data"
    },
    {
     "data": {
      "text/html": [
       "<pre style=\"white-space:pre;overflow-x:auto;line-height:normal;font-family:Menlo,'DejaVu Sans Mono',consolas,'Courier New',monospace\"><span style=\"font-weight: bold\"> Trainable params: </span><span style=\"color: #00af00; text-decoration-color: #00af00\">33,401</span> (130.47 KB)\n",
       "</pre>\n"
      ],
      "text/plain": [
       "\u001b[1m Trainable params: \u001b[0m\u001b[38;5;34m33,401\u001b[0m (130.47 KB)\n"
      ]
     },
     "metadata": {},
     "output_type": "display_data"
    },
    {
     "data": {
      "text/html": [
       "<pre style=\"white-space:pre;overflow-x:auto;line-height:normal;font-family:Menlo,'DejaVu Sans Mono',consolas,'Courier New',monospace\"><span style=\"font-weight: bold\"> Non-trainable params: </span><span style=\"color: #00af00; text-decoration-color: #00af00\">900</span> (3.52 KB)\n",
       "</pre>\n"
      ],
      "text/plain": [
       "\u001b[1m Non-trainable params: \u001b[0m\u001b[38;5;34m900\u001b[0m (3.52 KB)\n"
      ]
     },
     "metadata": {},
     "output_type": "display_data"
    },
    {
     "name": "stdout",
     "output_type": "stream",
     "text": [
      "\n",
      "Model_ADM10\n"
     ]
    },
    {
     "data": {
      "text/html": [
       "<pre style=\"white-space:pre;overflow-x:auto;line-height:normal;font-family:Menlo,'DejaVu Sans Mono',consolas,'Courier New',monospace\"><span style=\"font-weight: bold\">Model: \"sequential_9\"</span>\n",
       "</pre>\n"
      ],
      "text/plain": [
       "\u001b[1mModel: \"sequential_9\"\u001b[0m\n"
      ]
     },
     "metadata": {},
     "output_type": "display_data"
    },
    {
     "data": {
      "text/html": [
       "<pre style=\"white-space:pre;overflow-x:auto;line-height:normal;font-family:Menlo,'DejaVu Sans Mono',consolas,'Courier New',monospace\">┏━━━━━━━━━━━━━━━━━━━━━━━━━━━━━━━━━━━━━━┳━━━━━━━━━━━━━━━━━━━━━━━━━━━━━┳━━━━━━━━━━━━━━━━━┓\n",
       "┃<span style=\"font-weight: bold\"> Layer (type)                         </span>┃<span style=\"font-weight: bold\"> Output Shape                </span>┃<span style=\"font-weight: bold\">         Param # </span>┃\n",
       "┡━━━━━━━━━━━━━━━━━━━━━━━━━━━━━━━━━━━━━━╇━━━━━━━━━━━━━━━━━━━━━━━━━━━━━╇━━━━━━━━━━━━━━━━━┩\n",
       "│ dense_54 (<span style=\"color: #0087ff; text-decoration-color: #0087ff\">Dense</span>)                     │ (<span style=\"color: #00d7ff; text-decoration-color: #00d7ff\">None</span>, <span style=\"color: #00af00; text-decoration-color: #00af00\">200</span>)                 │           <span style=\"color: #00af00; text-decoration-color: #00af00\">2,200</span> │\n",
       "├──────────────────────────────────────┼─────────────────────────────┼─────────────────┤\n",
       "│ dropout_30 (<span style=\"color: #0087ff; text-decoration-color: #0087ff\">Dropout</span>)                 │ (<span style=\"color: #00d7ff; text-decoration-color: #00d7ff\">None</span>, <span style=\"color: #00af00; text-decoration-color: #00af00\">200</span>)                 │               <span style=\"color: #00af00; text-decoration-color: #00af00\">0</span> │\n",
       "├──────────────────────────────────────┼─────────────────────────────┼─────────────────┤\n",
       "│ batch_normalization_30               │ (<span style=\"color: #00d7ff; text-decoration-color: #00d7ff\">None</span>, <span style=\"color: #00af00; text-decoration-color: #00af00\">200</span>)                 │             <span style=\"color: #00af00; text-decoration-color: #00af00\">800</span> │\n",
       "│ (<span style=\"color: #0087ff; text-decoration-color: #0087ff\">BatchNormalization</span>)                 │                             │                 │\n",
       "├──────────────────────────────────────┼─────────────────────────────┼─────────────────┤\n",
       "│ dense_55 (<span style=\"color: #0087ff; text-decoration-color: #0087ff\">Dense</span>)                     │ (<span style=\"color: #00d7ff; text-decoration-color: #00d7ff\">None</span>, <span style=\"color: #00af00; text-decoration-color: #00af00\">100</span>)                 │          <span style=\"color: #00af00; text-decoration-color: #00af00\">20,100</span> │\n",
       "├──────────────────────────────────────┼─────────────────────────────┼─────────────────┤\n",
       "│ dropout_31 (<span style=\"color: #0087ff; text-decoration-color: #0087ff\">Dropout</span>)                 │ (<span style=\"color: #00d7ff; text-decoration-color: #00d7ff\">None</span>, <span style=\"color: #00af00; text-decoration-color: #00af00\">100</span>)                 │               <span style=\"color: #00af00; text-decoration-color: #00af00\">0</span> │\n",
       "├──────────────────────────────────────┼─────────────────────────────┼─────────────────┤\n",
       "│ batch_normalization_31               │ (<span style=\"color: #00d7ff; text-decoration-color: #00d7ff\">None</span>, <span style=\"color: #00af00; text-decoration-color: #00af00\">100</span>)                 │             <span style=\"color: #00af00; text-decoration-color: #00af00\">400</span> │\n",
       "│ (<span style=\"color: #0087ff; text-decoration-color: #0087ff\">BatchNormalization</span>)                 │                             │                 │\n",
       "├──────────────────────────────────────┼─────────────────────────────┼─────────────────┤\n",
       "│ dense_56 (<span style=\"color: #0087ff; text-decoration-color: #0087ff\">Dense</span>)                     │ (<span style=\"color: #00d7ff; text-decoration-color: #00d7ff\">None</span>, <span style=\"color: #00af00; text-decoration-color: #00af00\">50</span>)                  │           <span style=\"color: #00af00; text-decoration-color: #00af00\">5,050</span> │\n",
       "├──────────────────────────────────────┼─────────────────────────────┼─────────────────┤\n",
       "│ dropout_32 (<span style=\"color: #0087ff; text-decoration-color: #0087ff\">Dropout</span>)                 │ (<span style=\"color: #00d7ff; text-decoration-color: #00d7ff\">None</span>, <span style=\"color: #00af00; text-decoration-color: #00af00\">50</span>)                  │               <span style=\"color: #00af00; text-decoration-color: #00af00\">0</span> │\n",
       "├──────────────────────────────────────┼─────────────────────────────┼─────────────────┤\n",
       "│ batch_normalization_32               │ (<span style=\"color: #00d7ff; text-decoration-color: #00d7ff\">None</span>, <span style=\"color: #00af00; text-decoration-color: #00af00\">50</span>)                  │             <span style=\"color: #00af00; text-decoration-color: #00af00\">200</span> │\n",
       "│ (<span style=\"color: #0087ff; text-decoration-color: #0087ff\">BatchNormalization</span>)                 │                             │                 │\n",
       "├──────────────────────────────────────┼─────────────────────────────┼─────────────────┤\n",
       "│ dense_57 (<span style=\"color: #0087ff; text-decoration-color: #0087ff\">Dense</span>)                     │ (<span style=\"color: #00d7ff; text-decoration-color: #00d7ff\">None</span>, <span style=\"color: #00af00; text-decoration-color: #00af00\">50</span>)                  │           <span style=\"color: #00af00; text-decoration-color: #00af00\">2,550</span> │\n",
       "├──────────────────────────────────────┼─────────────────────────────┼─────────────────┤\n",
       "│ dropout_33 (<span style=\"color: #0087ff; text-decoration-color: #0087ff\">Dropout</span>)                 │ (<span style=\"color: #00d7ff; text-decoration-color: #00d7ff\">None</span>, <span style=\"color: #00af00; text-decoration-color: #00af00\">50</span>)                  │               <span style=\"color: #00af00; text-decoration-color: #00af00\">0</span> │\n",
       "├──────────────────────────────────────┼─────────────────────────────┼─────────────────┤\n",
       "│ batch_normalization_33               │ (<span style=\"color: #00d7ff; text-decoration-color: #00d7ff\">None</span>, <span style=\"color: #00af00; text-decoration-color: #00af00\">50</span>)                  │             <span style=\"color: #00af00; text-decoration-color: #00af00\">200</span> │\n",
       "│ (<span style=\"color: #0087ff; text-decoration-color: #0087ff\">BatchNormalization</span>)                 │                             │                 │\n",
       "├──────────────────────────────────────┼─────────────────────────────┼─────────────────┤\n",
       "│ dense_58 (<span style=\"color: #0087ff; text-decoration-color: #0087ff\">Dense</span>)                     │ (<span style=\"color: #00d7ff; text-decoration-color: #00d7ff\">None</span>, <span style=\"color: #00af00; text-decoration-color: #00af00\">50</span>)                  │           <span style=\"color: #00af00; text-decoration-color: #00af00\">2,550</span> │\n",
       "├──────────────────────────────────────┼─────────────────────────────┼─────────────────┤\n",
       "│ dropout_34 (<span style=\"color: #0087ff; text-decoration-color: #0087ff\">Dropout</span>)                 │ (<span style=\"color: #00d7ff; text-decoration-color: #00d7ff\">None</span>, <span style=\"color: #00af00; text-decoration-color: #00af00\">50</span>)                  │               <span style=\"color: #00af00; text-decoration-color: #00af00\">0</span> │\n",
       "├──────────────────────────────────────┼─────────────────────────────┼─────────────────┤\n",
       "│ batch_normalization_34               │ (<span style=\"color: #00d7ff; text-decoration-color: #00d7ff\">None</span>, <span style=\"color: #00af00; text-decoration-color: #00af00\">50</span>)                  │             <span style=\"color: #00af00; text-decoration-color: #00af00\">200</span> │\n",
       "│ (<span style=\"color: #0087ff; text-decoration-color: #0087ff\">BatchNormalization</span>)                 │                             │                 │\n",
       "├──────────────────────────────────────┼─────────────────────────────┼─────────────────┤\n",
       "│ dense_59 (<span style=\"color: #0087ff; text-decoration-color: #0087ff\">Dense</span>)                     │ (<span style=\"color: #00d7ff; text-decoration-color: #00d7ff\">None</span>, <span style=\"color: #00af00; text-decoration-color: #00af00\">1</span>)                   │              <span style=\"color: #00af00; text-decoration-color: #00af00\">51</span> │\n",
       "└──────────────────────────────────────┴─────────────────────────────┴─────────────────┘\n",
       "</pre>\n"
      ],
      "text/plain": [
       "┏━━━━━━━━━━━━━━━━━━━━━━━━━━━━━━━━━━━━━━┳━━━━━━━━━━━━━━━━━━━━━━━━━━━━━┳━━━━━━━━━━━━━━━━━┓\n",
       "┃\u001b[1m \u001b[0m\u001b[1mLayer (type)                        \u001b[0m\u001b[1m \u001b[0m┃\u001b[1m \u001b[0m\u001b[1mOutput Shape               \u001b[0m\u001b[1m \u001b[0m┃\u001b[1m \u001b[0m\u001b[1m        Param #\u001b[0m\u001b[1m \u001b[0m┃\n",
       "┡━━━━━━━━━━━━━━━━━━━━━━━━━━━━━━━━━━━━━━╇━━━━━━━━━━━━━━━━━━━━━━━━━━━━━╇━━━━━━━━━━━━━━━━━┩\n",
       "│ dense_54 (\u001b[38;5;33mDense\u001b[0m)                     │ (\u001b[38;5;45mNone\u001b[0m, \u001b[38;5;34m200\u001b[0m)                 │           \u001b[38;5;34m2,200\u001b[0m │\n",
       "├──────────────────────────────────────┼─────────────────────────────┼─────────────────┤\n",
       "│ dropout_30 (\u001b[38;5;33mDropout\u001b[0m)                 │ (\u001b[38;5;45mNone\u001b[0m, \u001b[38;5;34m200\u001b[0m)                 │               \u001b[38;5;34m0\u001b[0m │\n",
       "├──────────────────────────────────────┼─────────────────────────────┼─────────────────┤\n",
       "│ batch_normalization_30               │ (\u001b[38;5;45mNone\u001b[0m, \u001b[38;5;34m200\u001b[0m)                 │             \u001b[38;5;34m800\u001b[0m │\n",
       "│ (\u001b[38;5;33mBatchNormalization\u001b[0m)                 │                             │                 │\n",
       "├──────────────────────────────────────┼─────────────────────────────┼─────────────────┤\n",
       "│ dense_55 (\u001b[38;5;33mDense\u001b[0m)                     │ (\u001b[38;5;45mNone\u001b[0m, \u001b[38;5;34m100\u001b[0m)                 │          \u001b[38;5;34m20,100\u001b[0m │\n",
       "├──────────────────────────────────────┼─────────────────────────────┼─────────────────┤\n",
       "│ dropout_31 (\u001b[38;5;33mDropout\u001b[0m)                 │ (\u001b[38;5;45mNone\u001b[0m, \u001b[38;5;34m100\u001b[0m)                 │               \u001b[38;5;34m0\u001b[0m │\n",
       "├──────────────────────────────────────┼─────────────────────────────┼─────────────────┤\n",
       "│ batch_normalization_31               │ (\u001b[38;5;45mNone\u001b[0m, \u001b[38;5;34m100\u001b[0m)                 │             \u001b[38;5;34m400\u001b[0m │\n",
       "│ (\u001b[38;5;33mBatchNormalization\u001b[0m)                 │                             │                 │\n",
       "├──────────────────────────────────────┼─────────────────────────────┼─────────────────┤\n",
       "│ dense_56 (\u001b[38;5;33mDense\u001b[0m)                     │ (\u001b[38;5;45mNone\u001b[0m, \u001b[38;5;34m50\u001b[0m)                  │           \u001b[38;5;34m5,050\u001b[0m │\n",
       "├──────────────────────────────────────┼─────────────────────────────┼─────────────────┤\n",
       "│ dropout_32 (\u001b[38;5;33mDropout\u001b[0m)                 │ (\u001b[38;5;45mNone\u001b[0m, \u001b[38;5;34m50\u001b[0m)                  │               \u001b[38;5;34m0\u001b[0m │\n",
       "├──────────────────────────────────────┼─────────────────────────────┼─────────────────┤\n",
       "│ batch_normalization_32               │ (\u001b[38;5;45mNone\u001b[0m, \u001b[38;5;34m50\u001b[0m)                  │             \u001b[38;5;34m200\u001b[0m │\n",
       "│ (\u001b[38;5;33mBatchNormalization\u001b[0m)                 │                             │                 │\n",
       "├──────────────────────────────────────┼─────────────────────────────┼─────────────────┤\n",
       "│ dense_57 (\u001b[38;5;33mDense\u001b[0m)                     │ (\u001b[38;5;45mNone\u001b[0m, \u001b[38;5;34m50\u001b[0m)                  │           \u001b[38;5;34m2,550\u001b[0m │\n",
       "├──────────────────────────────────────┼─────────────────────────────┼─────────────────┤\n",
       "│ dropout_33 (\u001b[38;5;33mDropout\u001b[0m)                 │ (\u001b[38;5;45mNone\u001b[0m, \u001b[38;5;34m50\u001b[0m)                  │               \u001b[38;5;34m0\u001b[0m │\n",
       "├──────────────────────────────────────┼─────────────────────────────┼─────────────────┤\n",
       "│ batch_normalization_33               │ (\u001b[38;5;45mNone\u001b[0m, \u001b[38;5;34m50\u001b[0m)                  │             \u001b[38;5;34m200\u001b[0m │\n",
       "│ (\u001b[38;5;33mBatchNormalization\u001b[0m)                 │                             │                 │\n",
       "├──────────────────────────────────────┼─────────────────────────────┼─────────────────┤\n",
       "│ dense_58 (\u001b[38;5;33mDense\u001b[0m)                     │ (\u001b[38;5;45mNone\u001b[0m, \u001b[38;5;34m50\u001b[0m)                  │           \u001b[38;5;34m2,550\u001b[0m │\n",
       "├──────────────────────────────────────┼─────────────────────────────┼─────────────────┤\n",
       "│ dropout_34 (\u001b[38;5;33mDropout\u001b[0m)                 │ (\u001b[38;5;45mNone\u001b[0m, \u001b[38;5;34m50\u001b[0m)                  │               \u001b[38;5;34m0\u001b[0m │\n",
       "├──────────────────────────────────────┼─────────────────────────────┼─────────────────┤\n",
       "│ batch_normalization_34               │ (\u001b[38;5;45mNone\u001b[0m, \u001b[38;5;34m50\u001b[0m)                  │             \u001b[38;5;34m200\u001b[0m │\n",
       "│ (\u001b[38;5;33mBatchNormalization\u001b[0m)                 │                             │                 │\n",
       "├──────────────────────────────────────┼─────────────────────────────┼─────────────────┤\n",
       "│ dense_59 (\u001b[38;5;33mDense\u001b[0m)                     │ (\u001b[38;5;45mNone\u001b[0m, \u001b[38;5;34m1\u001b[0m)                   │              \u001b[38;5;34m51\u001b[0m │\n",
       "└──────────────────────────────────────┴─────────────────────────────┴─────────────────┘\n"
      ]
     },
     "metadata": {},
     "output_type": "display_data"
    },
    {
     "data": {
      "text/html": [
       "<pre style=\"white-space:pre;overflow-x:auto;line-height:normal;font-family:Menlo,'DejaVu Sans Mono',consolas,'Courier New',monospace\"><span style=\"font-weight: bold\"> Total params: </span><span style=\"color: #00af00; text-decoration-color: #00af00\">34,301</span> (133.99 KB)\n",
       "</pre>\n"
      ],
      "text/plain": [
       "\u001b[1m Total params: \u001b[0m\u001b[38;5;34m34,301\u001b[0m (133.99 KB)\n"
      ]
     },
     "metadata": {},
     "output_type": "display_data"
    },
    {
     "data": {
      "text/html": [
       "<pre style=\"white-space:pre;overflow-x:auto;line-height:normal;font-family:Menlo,'DejaVu Sans Mono',consolas,'Courier New',monospace\"><span style=\"font-weight: bold\"> Trainable params: </span><span style=\"color: #00af00; text-decoration-color: #00af00\">33,401</span> (130.47 KB)\n",
       "</pre>\n"
      ],
      "text/plain": [
       "\u001b[1m Trainable params: \u001b[0m\u001b[38;5;34m33,401\u001b[0m (130.47 KB)\n"
      ]
     },
     "metadata": {},
     "output_type": "display_data"
    },
    {
     "data": {
      "text/html": [
       "<pre style=\"white-space:pre;overflow-x:auto;line-height:normal;font-family:Menlo,'DejaVu Sans Mono',consolas,'Courier New',monospace\"><span style=\"font-weight: bold\"> Non-trainable params: </span><span style=\"color: #00af00; text-decoration-color: #00af00\">900</span> (3.52 KB)\n",
       "</pre>\n"
      ],
      "text/plain": [
       "\u001b[1m Non-trainable params: \u001b[0m\u001b[38;5;34m900\u001b[0m (3.52 KB)\n"
      ]
     },
     "metadata": {},
     "output_type": "display_data"
    }
   ],
   "source": [
    "for pos, model in enumerate(all_adm_models):\n",
    "    print('\\nModel_ADM'+str(pos+1))\n",
    "    model.summary()"
   ]
  },
  {
   "cell_type": "code",
   "execution_count": 72,
   "id": "ea448db2-f54b-4b31-9743-53d532ed13ba",
   "metadata": {},
   "outputs": [
    {
     "name": "stdout",
     "output_type": "stream",
     "text": [
      "\n",
      "Model_SGD1\n"
     ]
    },
    {
     "data": {
      "text/html": [
       "<pre style=\"white-space:pre;overflow-x:auto;line-height:normal;font-family:Menlo,'DejaVu Sans Mono',consolas,'Courier New',monospace\"><span style=\"font-weight: bold\">Model: \"sequential_10\"</span>\n",
       "</pre>\n"
      ],
      "text/plain": [
       "\u001b[1mModel: \"sequential_10\"\u001b[0m\n"
      ]
     },
     "metadata": {},
     "output_type": "display_data"
    },
    {
     "data": {
      "text/html": [
       "<pre style=\"white-space:pre;overflow-x:auto;line-height:normal;font-family:Menlo,'DejaVu Sans Mono',consolas,'Courier New',monospace\">┏━━━━━━━━━━━━━━━━━━━━━━━━━━━━━━━━━━━━━━┳━━━━━━━━━━━━━━━━━━━━━━━━━━━━━┳━━━━━━━━━━━━━━━━━┓\n",
       "┃<span style=\"font-weight: bold\"> Layer (type)                         </span>┃<span style=\"font-weight: bold\"> Output Shape                </span>┃<span style=\"font-weight: bold\">         Param # </span>┃\n",
       "┡━━━━━━━━━━━━━━━━━━━━━━━━━━━━━━━━━━━━━━╇━━━━━━━━━━━━━━━━━━━━━━━━━━━━━╇━━━━━━━━━━━━━━━━━┩\n",
       "│ dense_60 (<span style=\"color: #0087ff; text-decoration-color: #0087ff\">Dense</span>)                     │ (<span style=\"color: #00d7ff; text-decoration-color: #00d7ff\">None</span>, <span style=\"color: #00af00; text-decoration-color: #00af00\">50</span>)                  │             <span style=\"color: #00af00; text-decoration-color: #00af00\">550</span> │\n",
       "├──────────────────────────────────────┼─────────────────────────────┼─────────────────┤\n",
       "│ dense_61 (<span style=\"color: #0087ff; text-decoration-color: #0087ff\">Dense</span>)                     │ (<span style=\"color: #00d7ff; text-decoration-color: #00d7ff\">None</span>, <span style=\"color: #00af00; text-decoration-color: #00af00\">50</span>)                  │           <span style=\"color: #00af00; text-decoration-color: #00af00\">2,550</span> │\n",
       "├──────────────────────────────────────┼─────────────────────────────┼─────────────────┤\n",
       "│ dense_62 (<span style=\"color: #0087ff; text-decoration-color: #0087ff\">Dense</span>)                     │ (<span style=\"color: #00d7ff; text-decoration-color: #00d7ff\">None</span>, <span style=\"color: #00af00; text-decoration-color: #00af00\">50</span>)                  │           <span style=\"color: #00af00; text-decoration-color: #00af00\">2,550</span> │\n",
       "├──────────────────────────────────────┼─────────────────────────────┼─────────────────┤\n",
       "│ dense_63 (<span style=\"color: #0087ff; text-decoration-color: #0087ff\">Dense</span>)                     │ (<span style=\"color: #00d7ff; text-decoration-color: #00d7ff\">None</span>, <span style=\"color: #00af00; text-decoration-color: #00af00\">50</span>)                  │           <span style=\"color: #00af00; text-decoration-color: #00af00\">2,550</span> │\n",
       "├──────────────────────────────────────┼─────────────────────────────┼─────────────────┤\n",
       "│ dense_64 (<span style=\"color: #0087ff; text-decoration-color: #0087ff\">Dense</span>)                     │ (<span style=\"color: #00d7ff; text-decoration-color: #00d7ff\">None</span>, <span style=\"color: #00af00; text-decoration-color: #00af00\">50</span>)                  │           <span style=\"color: #00af00; text-decoration-color: #00af00\">2,550</span> │\n",
       "├──────────────────────────────────────┼─────────────────────────────┼─────────────────┤\n",
       "│ dense_65 (<span style=\"color: #0087ff; text-decoration-color: #0087ff\">Dense</span>)                     │ (<span style=\"color: #00d7ff; text-decoration-color: #00d7ff\">None</span>, <span style=\"color: #00af00; text-decoration-color: #00af00\">1</span>)                   │              <span style=\"color: #00af00; text-decoration-color: #00af00\">51</span> │\n",
       "└──────────────────────────────────────┴─────────────────────────────┴─────────────────┘\n",
       "</pre>\n"
      ],
      "text/plain": [
       "┏━━━━━━━━━━━━━━━━━━━━━━━━━━━━━━━━━━━━━━┳━━━━━━━━━━━━━━━━━━━━━━━━━━━━━┳━━━━━━━━━━━━━━━━━┓\n",
       "┃\u001b[1m \u001b[0m\u001b[1mLayer (type)                        \u001b[0m\u001b[1m \u001b[0m┃\u001b[1m \u001b[0m\u001b[1mOutput Shape               \u001b[0m\u001b[1m \u001b[0m┃\u001b[1m \u001b[0m\u001b[1m        Param #\u001b[0m\u001b[1m \u001b[0m┃\n",
       "┡━━━━━━━━━━━━━━━━━━━━━━━━━━━━━━━━━━━━━━╇━━━━━━━━━━━━━━━━━━━━━━━━━━━━━╇━━━━━━━━━━━━━━━━━┩\n",
       "│ dense_60 (\u001b[38;5;33mDense\u001b[0m)                     │ (\u001b[38;5;45mNone\u001b[0m, \u001b[38;5;34m50\u001b[0m)                  │             \u001b[38;5;34m550\u001b[0m │\n",
       "├──────────────────────────────────────┼─────────────────────────────┼─────────────────┤\n",
       "│ dense_61 (\u001b[38;5;33mDense\u001b[0m)                     │ (\u001b[38;5;45mNone\u001b[0m, \u001b[38;5;34m50\u001b[0m)                  │           \u001b[38;5;34m2,550\u001b[0m │\n",
       "├──────────────────────────────────────┼─────────────────────────────┼─────────────────┤\n",
       "│ dense_62 (\u001b[38;5;33mDense\u001b[0m)                     │ (\u001b[38;5;45mNone\u001b[0m, \u001b[38;5;34m50\u001b[0m)                  │           \u001b[38;5;34m2,550\u001b[0m │\n",
       "├──────────────────────────────────────┼─────────────────────────────┼─────────────────┤\n",
       "│ dense_63 (\u001b[38;5;33mDense\u001b[0m)                     │ (\u001b[38;5;45mNone\u001b[0m, \u001b[38;5;34m50\u001b[0m)                  │           \u001b[38;5;34m2,550\u001b[0m │\n",
       "├──────────────────────────────────────┼─────────────────────────────┼─────────────────┤\n",
       "│ dense_64 (\u001b[38;5;33mDense\u001b[0m)                     │ (\u001b[38;5;45mNone\u001b[0m, \u001b[38;5;34m50\u001b[0m)                  │           \u001b[38;5;34m2,550\u001b[0m │\n",
       "├──────────────────────────────────────┼─────────────────────────────┼─────────────────┤\n",
       "│ dense_65 (\u001b[38;5;33mDense\u001b[0m)                     │ (\u001b[38;5;45mNone\u001b[0m, \u001b[38;5;34m1\u001b[0m)                   │              \u001b[38;5;34m51\u001b[0m │\n",
       "└──────────────────────────────────────┴─────────────────────────────┴─────────────────┘\n"
      ]
     },
     "metadata": {},
     "output_type": "display_data"
    },
    {
     "data": {
      "text/html": [
       "<pre style=\"white-space:pre;overflow-x:auto;line-height:normal;font-family:Menlo,'DejaVu Sans Mono',consolas,'Courier New',monospace\"><span style=\"font-weight: bold\"> Total params: </span><span style=\"color: #00af00; text-decoration-color: #00af00\">10,801</span> (42.19 KB)\n",
       "</pre>\n"
      ],
      "text/plain": [
       "\u001b[1m Total params: \u001b[0m\u001b[38;5;34m10,801\u001b[0m (42.19 KB)\n"
      ]
     },
     "metadata": {},
     "output_type": "display_data"
    },
    {
     "data": {
      "text/html": [
       "<pre style=\"white-space:pre;overflow-x:auto;line-height:normal;font-family:Menlo,'DejaVu Sans Mono',consolas,'Courier New',monospace\"><span style=\"font-weight: bold\"> Trainable params: </span><span style=\"color: #00af00; text-decoration-color: #00af00\">10,801</span> (42.19 KB)\n",
       "</pre>\n"
      ],
      "text/plain": [
       "\u001b[1m Trainable params: \u001b[0m\u001b[38;5;34m10,801\u001b[0m (42.19 KB)\n"
      ]
     },
     "metadata": {},
     "output_type": "display_data"
    },
    {
     "data": {
      "text/html": [
       "<pre style=\"white-space:pre;overflow-x:auto;line-height:normal;font-family:Menlo,'DejaVu Sans Mono',consolas,'Courier New',monospace\"><span style=\"font-weight: bold\"> Non-trainable params: </span><span style=\"color: #00af00; text-decoration-color: #00af00\">0</span> (0.00 B)\n",
       "</pre>\n"
      ],
      "text/plain": [
       "\u001b[1m Non-trainable params: \u001b[0m\u001b[38;5;34m0\u001b[0m (0.00 B)\n"
      ]
     },
     "metadata": {},
     "output_type": "display_data"
    },
    {
     "name": "stdout",
     "output_type": "stream",
     "text": [
      "\n",
      "Model_SGD2\n"
     ]
    },
    {
     "data": {
      "text/html": [
       "<pre style=\"white-space:pre;overflow-x:auto;line-height:normal;font-family:Menlo,'DejaVu Sans Mono',consolas,'Courier New',monospace\"><span style=\"font-weight: bold\">Model: \"sequential_11\"</span>\n",
       "</pre>\n"
      ],
      "text/plain": [
       "\u001b[1mModel: \"sequential_11\"\u001b[0m\n"
      ]
     },
     "metadata": {},
     "output_type": "display_data"
    },
    {
     "data": {
      "text/html": [
       "<pre style=\"white-space:pre;overflow-x:auto;line-height:normal;font-family:Menlo,'DejaVu Sans Mono',consolas,'Courier New',monospace\">┏━━━━━━━━━━━━━━━━━━━━━━━━━━━━━━━━━━━━━━┳━━━━━━━━━━━━━━━━━━━━━━━━━━━━━┳━━━━━━━━━━━━━━━━━┓\n",
       "┃<span style=\"font-weight: bold\"> Layer (type)                         </span>┃<span style=\"font-weight: bold\"> Output Shape                </span>┃<span style=\"font-weight: bold\">         Param # </span>┃\n",
       "┡━━━━━━━━━━━━━━━━━━━━━━━━━━━━━━━━━━━━━━╇━━━━━━━━━━━━━━━━━━━━━━━━━━━━━╇━━━━━━━━━━━━━━━━━┩\n",
       "│ dense_66 (<span style=\"color: #0087ff; text-decoration-color: #0087ff\">Dense</span>)                     │ (<span style=\"color: #00d7ff; text-decoration-color: #00d7ff\">None</span>, <span style=\"color: #00af00; text-decoration-color: #00af00\">50</span>)                  │             <span style=\"color: #00af00; text-decoration-color: #00af00\">550</span> │\n",
       "├──────────────────────────────────────┼─────────────────────────────┼─────────────────┤\n",
       "│ dense_67 (<span style=\"color: #0087ff; text-decoration-color: #0087ff\">Dense</span>)                     │ (<span style=\"color: #00d7ff; text-decoration-color: #00d7ff\">None</span>, <span style=\"color: #00af00; text-decoration-color: #00af00\">50</span>)                  │           <span style=\"color: #00af00; text-decoration-color: #00af00\">2,550</span> │\n",
       "├──────────────────────────────────────┼─────────────────────────────┼─────────────────┤\n",
       "│ dense_68 (<span style=\"color: #0087ff; text-decoration-color: #0087ff\">Dense</span>)                     │ (<span style=\"color: #00d7ff; text-decoration-color: #00d7ff\">None</span>, <span style=\"color: #00af00; text-decoration-color: #00af00\">50</span>)                  │           <span style=\"color: #00af00; text-decoration-color: #00af00\">2,550</span> │\n",
       "├──────────────────────────────────────┼─────────────────────────────┼─────────────────┤\n",
       "│ dense_69 (<span style=\"color: #0087ff; text-decoration-color: #0087ff\">Dense</span>)                     │ (<span style=\"color: #00d7ff; text-decoration-color: #00d7ff\">None</span>, <span style=\"color: #00af00; text-decoration-color: #00af00\">50</span>)                  │           <span style=\"color: #00af00; text-decoration-color: #00af00\">2,550</span> │\n",
       "├──────────────────────────────────────┼─────────────────────────────┼─────────────────┤\n",
       "│ dense_70 (<span style=\"color: #0087ff; text-decoration-color: #0087ff\">Dense</span>)                     │ (<span style=\"color: #00d7ff; text-decoration-color: #00d7ff\">None</span>, <span style=\"color: #00af00; text-decoration-color: #00af00\">50</span>)                  │           <span style=\"color: #00af00; text-decoration-color: #00af00\">2,550</span> │\n",
       "├──────────────────────────────────────┼─────────────────────────────┼─────────────────┤\n",
       "│ dense_71 (<span style=\"color: #0087ff; text-decoration-color: #0087ff\">Dense</span>)                     │ (<span style=\"color: #00d7ff; text-decoration-color: #00d7ff\">None</span>, <span style=\"color: #00af00; text-decoration-color: #00af00\">1</span>)                   │              <span style=\"color: #00af00; text-decoration-color: #00af00\">51</span> │\n",
       "└──────────────────────────────────────┴─────────────────────────────┴─────────────────┘\n",
       "</pre>\n"
      ],
      "text/plain": [
       "┏━━━━━━━━━━━━━━━━━━━━━━━━━━━━━━━━━━━━━━┳━━━━━━━━━━━━━━━━━━━━━━━━━━━━━┳━━━━━━━━━━━━━━━━━┓\n",
       "┃\u001b[1m \u001b[0m\u001b[1mLayer (type)                        \u001b[0m\u001b[1m \u001b[0m┃\u001b[1m \u001b[0m\u001b[1mOutput Shape               \u001b[0m\u001b[1m \u001b[0m┃\u001b[1m \u001b[0m\u001b[1m        Param #\u001b[0m\u001b[1m \u001b[0m┃\n",
       "┡━━━━━━━━━━━━━━━━━━━━━━━━━━━━━━━━━━━━━━╇━━━━━━━━━━━━━━━━━━━━━━━━━━━━━╇━━━━━━━━━━━━━━━━━┩\n",
       "│ dense_66 (\u001b[38;5;33mDense\u001b[0m)                     │ (\u001b[38;5;45mNone\u001b[0m, \u001b[38;5;34m50\u001b[0m)                  │             \u001b[38;5;34m550\u001b[0m │\n",
       "├──────────────────────────────────────┼─────────────────────────────┼─────────────────┤\n",
       "│ dense_67 (\u001b[38;5;33mDense\u001b[0m)                     │ (\u001b[38;5;45mNone\u001b[0m, \u001b[38;5;34m50\u001b[0m)                  │           \u001b[38;5;34m2,550\u001b[0m │\n",
       "├──────────────────────────────────────┼─────────────────────────────┼─────────────────┤\n",
       "│ dense_68 (\u001b[38;5;33mDense\u001b[0m)                     │ (\u001b[38;5;45mNone\u001b[0m, \u001b[38;5;34m50\u001b[0m)                  │           \u001b[38;5;34m2,550\u001b[0m │\n",
       "├──────────────────────────────────────┼─────────────────────────────┼─────────────────┤\n",
       "│ dense_69 (\u001b[38;5;33mDense\u001b[0m)                     │ (\u001b[38;5;45mNone\u001b[0m, \u001b[38;5;34m50\u001b[0m)                  │           \u001b[38;5;34m2,550\u001b[0m │\n",
       "├──────────────────────────────────────┼─────────────────────────────┼─────────────────┤\n",
       "│ dense_70 (\u001b[38;5;33mDense\u001b[0m)                     │ (\u001b[38;5;45mNone\u001b[0m, \u001b[38;5;34m50\u001b[0m)                  │           \u001b[38;5;34m2,550\u001b[0m │\n",
       "├──────────────────────────────────────┼─────────────────────────────┼─────────────────┤\n",
       "│ dense_71 (\u001b[38;5;33mDense\u001b[0m)                     │ (\u001b[38;5;45mNone\u001b[0m, \u001b[38;5;34m1\u001b[0m)                   │              \u001b[38;5;34m51\u001b[0m │\n",
       "└──────────────────────────────────────┴─────────────────────────────┴─────────────────┘\n"
      ]
     },
     "metadata": {},
     "output_type": "display_data"
    },
    {
     "data": {
      "text/html": [
       "<pre style=\"white-space:pre;overflow-x:auto;line-height:normal;font-family:Menlo,'DejaVu Sans Mono',consolas,'Courier New',monospace\"><span style=\"font-weight: bold\"> Total params: </span><span style=\"color: #00af00; text-decoration-color: #00af00\">10,801</span> (42.19 KB)\n",
       "</pre>\n"
      ],
      "text/plain": [
       "\u001b[1m Total params: \u001b[0m\u001b[38;5;34m10,801\u001b[0m (42.19 KB)\n"
      ]
     },
     "metadata": {},
     "output_type": "display_data"
    },
    {
     "data": {
      "text/html": [
       "<pre style=\"white-space:pre;overflow-x:auto;line-height:normal;font-family:Menlo,'DejaVu Sans Mono',consolas,'Courier New',monospace\"><span style=\"font-weight: bold\"> Trainable params: </span><span style=\"color: #00af00; text-decoration-color: #00af00\">10,801</span> (42.19 KB)\n",
       "</pre>\n"
      ],
      "text/plain": [
       "\u001b[1m Trainable params: \u001b[0m\u001b[38;5;34m10,801\u001b[0m (42.19 KB)\n"
      ]
     },
     "metadata": {},
     "output_type": "display_data"
    },
    {
     "data": {
      "text/html": [
       "<pre style=\"white-space:pre;overflow-x:auto;line-height:normal;font-family:Menlo,'DejaVu Sans Mono',consolas,'Courier New',monospace\"><span style=\"font-weight: bold\"> Non-trainable params: </span><span style=\"color: #00af00; text-decoration-color: #00af00\">0</span> (0.00 B)\n",
       "</pre>\n"
      ],
      "text/plain": [
       "\u001b[1m Non-trainable params: \u001b[0m\u001b[38;5;34m0\u001b[0m (0.00 B)\n"
      ]
     },
     "metadata": {},
     "output_type": "display_data"
    },
    {
     "name": "stdout",
     "output_type": "stream",
     "text": [
      "\n",
      "Model_SGD3\n"
     ]
    },
    {
     "data": {
      "text/html": [
       "<pre style=\"white-space:pre;overflow-x:auto;line-height:normal;font-family:Menlo,'DejaVu Sans Mono',consolas,'Courier New',monospace\"><span style=\"font-weight: bold\">Model: \"sequential_12\"</span>\n",
       "</pre>\n"
      ],
      "text/plain": [
       "\u001b[1mModel: \"sequential_12\"\u001b[0m\n"
      ]
     },
     "metadata": {},
     "output_type": "display_data"
    },
    {
     "data": {
      "text/html": [
       "<pre style=\"white-space:pre;overflow-x:auto;line-height:normal;font-family:Menlo,'DejaVu Sans Mono',consolas,'Courier New',monospace\">┏━━━━━━━━━━━━━━━━━━━━━━━━━━━━━━━━━━━━━━┳━━━━━━━━━━━━━━━━━━━━━━━━━━━━━┳━━━━━━━━━━━━━━━━━┓\n",
       "┃<span style=\"font-weight: bold\"> Layer (type)                         </span>┃<span style=\"font-weight: bold\"> Output Shape                </span>┃<span style=\"font-weight: bold\">         Param # </span>┃\n",
       "┡━━━━━━━━━━━━━━━━━━━━━━━━━━━━━━━━━━━━━━╇━━━━━━━━━━━━━━━━━━━━━━━━━━━━━╇━━━━━━━━━━━━━━━━━┩\n",
       "│ dense_72 (<span style=\"color: #0087ff; text-decoration-color: #0087ff\">Dense</span>)                     │ (<span style=\"color: #00d7ff; text-decoration-color: #00d7ff\">None</span>, <span style=\"color: #00af00; text-decoration-color: #00af00\">50</span>)                  │             <span style=\"color: #00af00; text-decoration-color: #00af00\">550</span> │\n",
       "├──────────────────────────────────────┼─────────────────────────────┼─────────────────┤\n",
       "│ dense_73 (<span style=\"color: #0087ff; text-decoration-color: #0087ff\">Dense</span>)                     │ (<span style=\"color: #00d7ff; text-decoration-color: #00d7ff\">None</span>, <span style=\"color: #00af00; text-decoration-color: #00af00\">50</span>)                  │           <span style=\"color: #00af00; text-decoration-color: #00af00\">2,550</span> │\n",
       "├──────────────────────────────────────┼─────────────────────────────┼─────────────────┤\n",
       "│ dense_74 (<span style=\"color: #0087ff; text-decoration-color: #0087ff\">Dense</span>)                     │ (<span style=\"color: #00d7ff; text-decoration-color: #00d7ff\">None</span>, <span style=\"color: #00af00; text-decoration-color: #00af00\">50</span>)                  │           <span style=\"color: #00af00; text-decoration-color: #00af00\">2,550</span> │\n",
       "├──────────────────────────────────────┼─────────────────────────────┼─────────────────┤\n",
       "│ dense_75 (<span style=\"color: #0087ff; text-decoration-color: #0087ff\">Dense</span>)                     │ (<span style=\"color: #00d7ff; text-decoration-color: #00d7ff\">None</span>, <span style=\"color: #00af00; text-decoration-color: #00af00\">50</span>)                  │           <span style=\"color: #00af00; text-decoration-color: #00af00\">2,550</span> │\n",
       "├──────────────────────────────────────┼─────────────────────────────┼─────────────────┤\n",
       "│ dense_76 (<span style=\"color: #0087ff; text-decoration-color: #0087ff\">Dense</span>)                     │ (<span style=\"color: #00d7ff; text-decoration-color: #00d7ff\">None</span>, <span style=\"color: #00af00; text-decoration-color: #00af00\">50</span>)                  │           <span style=\"color: #00af00; text-decoration-color: #00af00\">2,550</span> │\n",
       "├──────────────────────────────────────┼─────────────────────────────┼─────────────────┤\n",
       "│ dense_77 (<span style=\"color: #0087ff; text-decoration-color: #0087ff\">Dense</span>)                     │ (<span style=\"color: #00d7ff; text-decoration-color: #00d7ff\">None</span>, <span style=\"color: #00af00; text-decoration-color: #00af00\">1</span>)                   │              <span style=\"color: #00af00; text-decoration-color: #00af00\">51</span> │\n",
       "└──────────────────────────────────────┴─────────────────────────────┴─────────────────┘\n",
       "</pre>\n"
      ],
      "text/plain": [
       "┏━━━━━━━━━━━━━━━━━━━━━━━━━━━━━━━━━━━━━━┳━━━━━━━━━━━━━━━━━━━━━━━━━━━━━┳━━━━━━━━━━━━━━━━━┓\n",
       "┃\u001b[1m \u001b[0m\u001b[1mLayer (type)                        \u001b[0m\u001b[1m \u001b[0m┃\u001b[1m \u001b[0m\u001b[1mOutput Shape               \u001b[0m\u001b[1m \u001b[0m┃\u001b[1m \u001b[0m\u001b[1m        Param #\u001b[0m\u001b[1m \u001b[0m┃\n",
       "┡━━━━━━━━━━━━━━━━━━━━━━━━━━━━━━━━━━━━━━╇━━━━━━━━━━━━━━━━━━━━━━━━━━━━━╇━━━━━━━━━━━━━━━━━┩\n",
       "│ dense_72 (\u001b[38;5;33mDense\u001b[0m)                     │ (\u001b[38;5;45mNone\u001b[0m, \u001b[38;5;34m50\u001b[0m)                  │             \u001b[38;5;34m550\u001b[0m │\n",
       "├──────────────────────────────────────┼─────────────────────────────┼─────────────────┤\n",
       "│ dense_73 (\u001b[38;5;33mDense\u001b[0m)                     │ (\u001b[38;5;45mNone\u001b[0m, \u001b[38;5;34m50\u001b[0m)                  │           \u001b[38;5;34m2,550\u001b[0m │\n",
       "├──────────────────────────────────────┼─────────────────────────────┼─────────────────┤\n",
       "│ dense_74 (\u001b[38;5;33mDense\u001b[0m)                     │ (\u001b[38;5;45mNone\u001b[0m, \u001b[38;5;34m50\u001b[0m)                  │           \u001b[38;5;34m2,550\u001b[0m │\n",
       "├──────────────────────────────────────┼─────────────────────────────┼─────────────────┤\n",
       "│ dense_75 (\u001b[38;5;33mDense\u001b[0m)                     │ (\u001b[38;5;45mNone\u001b[0m, \u001b[38;5;34m50\u001b[0m)                  │           \u001b[38;5;34m2,550\u001b[0m │\n",
       "├──────────────────────────────────────┼─────────────────────────────┼─────────────────┤\n",
       "│ dense_76 (\u001b[38;5;33mDense\u001b[0m)                     │ (\u001b[38;5;45mNone\u001b[0m, \u001b[38;5;34m50\u001b[0m)                  │           \u001b[38;5;34m2,550\u001b[0m │\n",
       "├──────────────────────────────────────┼─────────────────────────────┼─────────────────┤\n",
       "│ dense_77 (\u001b[38;5;33mDense\u001b[0m)                     │ (\u001b[38;5;45mNone\u001b[0m, \u001b[38;5;34m1\u001b[0m)                   │              \u001b[38;5;34m51\u001b[0m │\n",
       "└──────────────────────────────────────┴─────────────────────────────┴─────────────────┘\n"
      ]
     },
     "metadata": {},
     "output_type": "display_data"
    },
    {
     "data": {
      "text/html": [
       "<pre style=\"white-space:pre;overflow-x:auto;line-height:normal;font-family:Menlo,'DejaVu Sans Mono',consolas,'Courier New',monospace\"><span style=\"font-weight: bold\"> Total params: </span><span style=\"color: #00af00; text-decoration-color: #00af00\">10,801</span> (42.19 KB)\n",
       "</pre>\n"
      ],
      "text/plain": [
       "\u001b[1m Total params: \u001b[0m\u001b[38;5;34m10,801\u001b[0m (42.19 KB)\n"
      ]
     },
     "metadata": {},
     "output_type": "display_data"
    },
    {
     "data": {
      "text/html": [
       "<pre style=\"white-space:pre;overflow-x:auto;line-height:normal;font-family:Menlo,'DejaVu Sans Mono',consolas,'Courier New',monospace\"><span style=\"font-weight: bold\"> Trainable params: </span><span style=\"color: #00af00; text-decoration-color: #00af00\">10,801</span> (42.19 KB)\n",
       "</pre>\n"
      ],
      "text/plain": [
       "\u001b[1m Trainable params: \u001b[0m\u001b[38;5;34m10,801\u001b[0m (42.19 KB)\n"
      ]
     },
     "metadata": {},
     "output_type": "display_data"
    },
    {
     "data": {
      "text/html": [
       "<pre style=\"white-space:pre;overflow-x:auto;line-height:normal;font-family:Menlo,'DejaVu Sans Mono',consolas,'Courier New',monospace\"><span style=\"font-weight: bold\"> Non-trainable params: </span><span style=\"color: #00af00; text-decoration-color: #00af00\">0</span> (0.00 B)\n",
       "</pre>\n"
      ],
      "text/plain": [
       "\u001b[1m Non-trainable params: \u001b[0m\u001b[38;5;34m0\u001b[0m (0.00 B)\n"
      ]
     },
     "metadata": {},
     "output_type": "display_data"
    },
    {
     "name": "stdout",
     "output_type": "stream",
     "text": [
      "\n",
      "Model_SGD4\n"
     ]
    },
    {
     "data": {
      "text/html": [
       "<pre style=\"white-space:pre;overflow-x:auto;line-height:normal;font-family:Menlo,'DejaVu Sans Mono',consolas,'Courier New',monospace\"><span style=\"font-weight: bold\">Model: \"sequential_13\"</span>\n",
       "</pre>\n"
      ],
      "text/plain": [
       "\u001b[1mModel: \"sequential_13\"\u001b[0m\n"
      ]
     },
     "metadata": {},
     "output_type": "display_data"
    },
    {
     "data": {
      "text/html": [
       "<pre style=\"white-space:pre;overflow-x:auto;line-height:normal;font-family:Menlo,'DejaVu Sans Mono',consolas,'Courier New',monospace\">┏━━━━━━━━━━━━━━━━━━━━━━━━━━━━━━━━━━━━━━┳━━━━━━━━━━━━━━━━━━━━━━━━━━━━━┳━━━━━━━━━━━━━━━━━┓\n",
       "┃<span style=\"font-weight: bold\"> Layer (type)                         </span>┃<span style=\"font-weight: bold\"> Output Shape                </span>┃<span style=\"font-weight: bold\">         Param # </span>┃\n",
       "┡━━━━━━━━━━━━━━━━━━━━━━━━━━━━━━━━━━━━━━╇━━━━━━━━━━━━━━━━━━━━━━━━━━━━━╇━━━━━━━━━━━━━━━━━┩\n",
       "│ dense_78 (<span style=\"color: #0087ff; text-decoration-color: #0087ff\">Dense</span>)                     │ (<span style=\"color: #00d7ff; text-decoration-color: #00d7ff\">None</span>, <span style=\"color: #00af00; text-decoration-color: #00af00\">50</span>)                  │             <span style=\"color: #00af00; text-decoration-color: #00af00\">550</span> │\n",
       "├──────────────────────────────────────┼─────────────────────────────┼─────────────────┤\n",
       "│ dropout_35 (<span style=\"color: #0087ff; text-decoration-color: #0087ff\">Dropout</span>)                 │ (<span style=\"color: #00d7ff; text-decoration-color: #00d7ff\">None</span>, <span style=\"color: #00af00; text-decoration-color: #00af00\">50</span>)                  │               <span style=\"color: #00af00; text-decoration-color: #00af00\">0</span> │\n",
       "├──────────────────────────────────────┼─────────────────────────────┼─────────────────┤\n",
       "│ batch_normalization_35               │ (<span style=\"color: #00d7ff; text-decoration-color: #00d7ff\">None</span>, <span style=\"color: #00af00; text-decoration-color: #00af00\">50</span>)                  │             <span style=\"color: #00af00; text-decoration-color: #00af00\">200</span> │\n",
       "│ (<span style=\"color: #0087ff; text-decoration-color: #0087ff\">BatchNormalization</span>)                 │                             │                 │\n",
       "├──────────────────────────────────────┼─────────────────────────────┼─────────────────┤\n",
       "│ dense_79 (<span style=\"color: #0087ff; text-decoration-color: #0087ff\">Dense</span>)                     │ (<span style=\"color: #00d7ff; text-decoration-color: #00d7ff\">None</span>, <span style=\"color: #00af00; text-decoration-color: #00af00\">50</span>)                  │           <span style=\"color: #00af00; text-decoration-color: #00af00\">2,550</span> │\n",
       "├──────────────────────────────────────┼─────────────────────────────┼─────────────────┤\n",
       "│ dropout_36 (<span style=\"color: #0087ff; text-decoration-color: #0087ff\">Dropout</span>)                 │ (<span style=\"color: #00d7ff; text-decoration-color: #00d7ff\">None</span>, <span style=\"color: #00af00; text-decoration-color: #00af00\">50</span>)                  │               <span style=\"color: #00af00; text-decoration-color: #00af00\">0</span> │\n",
       "├──────────────────────────────────────┼─────────────────────────────┼─────────────────┤\n",
       "│ batch_normalization_36               │ (<span style=\"color: #00d7ff; text-decoration-color: #00d7ff\">None</span>, <span style=\"color: #00af00; text-decoration-color: #00af00\">50</span>)                  │             <span style=\"color: #00af00; text-decoration-color: #00af00\">200</span> │\n",
       "│ (<span style=\"color: #0087ff; text-decoration-color: #0087ff\">BatchNormalization</span>)                 │                             │                 │\n",
       "├──────────────────────────────────────┼─────────────────────────────┼─────────────────┤\n",
       "│ dense_80 (<span style=\"color: #0087ff; text-decoration-color: #0087ff\">Dense</span>)                     │ (<span style=\"color: #00d7ff; text-decoration-color: #00d7ff\">None</span>, <span style=\"color: #00af00; text-decoration-color: #00af00\">50</span>)                  │           <span style=\"color: #00af00; text-decoration-color: #00af00\">2,550</span> │\n",
       "├──────────────────────────────────────┼─────────────────────────────┼─────────────────┤\n",
       "│ dropout_37 (<span style=\"color: #0087ff; text-decoration-color: #0087ff\">Dropout</span>)                 │ (<span style=\"color: #00d7ff; text-decoration-color: #00d7ff\">None</span>, <span style=\"color: #00af00; text-decoration-color: #00af00\">50</span>)                  │               <span style=\"color: #00af00; text-decoration-color: #00af00\">0</span> │\n",
       "├──────────────────────────────────────┼─────────────────────────────┼─────────────────┤\n",
       "│ batch_normalization_37               │ (<span style=\"color: #00d7ff; text-decoration-color: #00d7ff\">None</span>, <span style=\"color: #00af00; text-decoration-color: #00af00\">50</span>)                  │             <span style=\"color: #00af00; text-decoration-color: #00af00\">200</span> │\n",
       "│ (<span style=\"color: #0087ff; text-decoration-color: #0087ff\">BatchNormalization</span>)                 │                             │                 │\n",
       "├──────────────────────────────────────┼─────────────────────────────┼─────────────────┤\n",
       "│ dense_81 (<span style=\"color: #0087ff; text-decoration-color: #0087ff\">Dense</span>)                     │ (<span style=\"color: #00d7ff; text-decoration-color: #00d7ff\">None</span>, <span style=\"color: #00af00; text-decoration-color: #00af00\">50</span>)                  │           <span style=\"color: #00af00; text-decoration-color: #00af00\">2,550</span> │\n",
       "├──────────────────────────────────────┼─────────────────────────────┼─────────────────┤\n",
       "│ dropout_38 (<span style=\"color: #0087ff; text-decoration-color: #0087ff\">Dropout</span>)                 │ (<span style=\"color: #00d7ff; text-decoration-color: #00d7ff\">None</span>, <span style=\"color: #00af00; text-decoration-color: #00af00\">50</span>)                  │               <span style=\"color: #00af00; text-decoration-color: #00af00\">0</span> │\n",
       "├──────────────────────────────────────┼─────────────────────────────┼─────────────────┤\n",
       "│ batch_normalization_38               │ (<span style=\"color: #00d7ff; text-decoration-color: #00d7ff\">None</span>, <span style=\"color: #00af00; text-decoration-color: #00af00\">50</span>)                  │             <span style=\"color: #00af00; text-decoration-color: #00af00\">200</span> │\n",
       "│ (<span style=\"color: #0087ff; text-decoration-color: #0087ff\">BatchNormalization</span>)                 │                             │                 │\n",
       "├──────────────────────────────────────┼─────────────────────────────┼─────────────────┤\n",
       "│ dense_82 (<span style=\"color: #0087ff; text-decoration-color: #0087ff\">Dense</span>)                     │ (<span style=\"color: #00d7ff; text-decoration-color: #00d7ff\">None</span>, <span style=\"color: #00af00; text-decoration-color: #00af00\">50</span>)                  │           <span style=\"color: #00af00; text-decoration-color: #00af00\">2,550</span> │\n",
       "├──────────────────────────────────────┼─────────────────────────────┼─────────────────┤\n",
       "│ dropout_39 (<span style=\"color: #0087ff; text-decoration-color: #0087ff\">Dropout</span>)                 │ (<span style=\"color: #00d7ff; text-decoration-color: #00d7ff\">None</span>, <span style=\"color: #00af00; text-decoration-color: #00af00\">50</span>)                  │               <span style=\"color: #00af00; text-decoration-color: #00af00\">0</span> │\n",
       "├──────────────────────────────────────┼─────────────────────────────┼─────────────────┤\n",
       "│ batch_normalization_39               │ (<span style=\"color: #00d7ff; text-decoration-color: #00d7ff\">None</span>, <span style=\"color: #00af00; text-decoration-color: #00af00\">50</span>)                  │             <span style=\"color: #00af00; text-decoration-color: #00af00\">200</span> │\n",
       "│ (<span style=\"color: #0087ff; text-decoration-color: #0087ff\">BatchNormalization</span>)                 │                             │                 │\n",
       "├──────────────────────────────────────┼─────────────────────────────┼─────────────────┤\n",
       "│ dense_83 (<span style=\"color: #0087ff; text-decoration-color: #0087ff\">Dense</span>)                     │ (<span style=\"color: #00d7ff; text-decoration-color: #00d7ff\">None</span>, <span style=\"color: #00af00; text-decoration-color: #00af00\">1</span>)                   │              <span style=\"color: #00af00; text-decoration-color: #00af00\">51</span> │\n",
       "└──────────────────────────────────────┴─────────────────────────────┴─────────────────┘\n",
       "</pre>\n"
      ],
      "text/plain": [
       "┏━━━━━━━━━━━━━━━━━━━━━━━━━━━━━━━━━━━━━━┳━━━━━━━━━━━━━━━━━━━━━━━━━━━━━┳━━━━━━━━━━━━━━━━━┓\n",
       "┃\u001b[1m \u001b[0m\u001b[1mLayer (type)                        \u001b[0m\u001b[1m \u001b[0m┃\u001b[1m \u001b[0m\u001b[1mOutput Shape               \u001b[0m\u001b[1m \u001b[0m┃\u001b[1m \u001b[0m\u001b[1m        Param #\u001b[0m\u001b[1m \u001b[0m┃\n",
       "┡━━━━━━━━━━━━━━━━━━━━━━━━━━━━━━━━━━━━━━╇━━━━━━━━━━━━━━━━━━━━━━━━━━━━━╇━━━━━━━━━━━━━━━━━┩\n",
       "│ dense_78 (\u001b[38;5;33mDense\u001b[0m)                     │ (\u001b[38;5;45mNone\u001b[0m, \u001b[38;5;34m50\u001b[0m)                  │             \u001b[38;5;34m550\u001b[0m │\n",
       "├──────────────────────────────────────┼─────────────────────────────┼─────────────────┤\n",
       "│ dropout_35 (\u001b[38;5;33mDropout\u001b[0m)                 │ (\u001b[38;5;45mNone\u001b[0m, \u001b[38;5;34m50\u001b[0m)                  │               \u001b[38;5;34m0\u001b[0m │\n",
       "├──────────────────────────────────────┼─────────────────────────────┼─────────────────┤\n",
       "│ batch_normalization_35               │ (\u001b[38;5;45mNone\u001b[0m, \u001b[38;5;34m50\u001b[0m)                  │             \u001b[38;5;34m200\u001b[0m │\n",
       "│ (\u001b[38;5;33mBatchNormalization\u001b[0m)                 │                             │                 │\n",
       "├──────────────────────────────────────┼─────────────────────────────┼─────────────────┤\n",
       "│ dense_79 (\u001b[38;5;33mDense\u001b[0m)                     │ (\u001b[38;5;45mNone\u001b[0m, \u001b[38;5;34m50\u001b[0m)                  │           \u001b[38;5;34m2,550\u001b[0m │\n",
       "├──────────────────────────────────────┼─────────────────────────────┼─────────────────┤\n",
       "│ dropout_36 (\u001b[38;5;33mDropout\u001b[0m)                 │ (\u001b[38;5;45mNone\u001b[0m, \u001b[38;5;34m50\u001b[0m)                  │               \u001b[38;5;34m0\u001b[0m │\n",
       "├──────────────────────────────────────┼─────────────────────────────┼─────────────────┤\n",
       "│ batch_normalization_36               │ (\u001b[38;5;45mNone\u001b[0m, \u001b[38;5;34m50\u001b[0m)                  │             \u001b[38;5;34m200\u001b[0m │\n",
       "│ (\u001b[38;5;33mBatchNormalization\u001b[0m)                 │                             │                 │\n",
       "├──────────────────────────────────────┼─────────────────────────────┼─────────────────┤\n",
       "│ dense_80 (\u001b[38;5;33mDense\u001b[0m)                     │ (\u001b[38;5;45mNone\u001b[0m, \u001b[38;5;34m50\u001b[0m)                  │           \u001b[38;5;34m2,550\u001b[0m │\n",
       "├──────────────────────────────────────┼─────────────────────────────┼─────────────────┤\n",
       "│ dropout_37 (\u001b[38;5;33mDropout\u001b[0m)                 │ (\u001b[38;5;45mNone\u001b[0m, \u001b[38;5;34m50\u001b[0m)                  │               \u001b[38;5;34m0\u001b[0m │\n",
       "├──────────────────────────────────────┼─────────────────────────────┼─────────────────┤\n",
       "│ batch_normalization_37               │ (\u001b[38;5;45mNone\u001b[0m, \u001b[38;5;34m50\u001b[0m)                  │             \u001b[38;5;34m200\u001b[0m │\n",
       "│ (\u001b[38;5;33mBatchNormalization\u001b[0m)                 │                             │                 │\n",
       "├──────────────────────────────────────┼─────────────────────────────┼─────────────────┤\n",
       "│ dense_81 (\u001b[38;5;33mDense\u001b[0m)                     │ (\u001b[38;5;45mNone\u001b[0m, \u001b[38;5;34m50\u001b[0m)                  │           \u001b[38;5;34m2,550\u001b[0m │\n",
       "├──────────────────────────────────────┼─────────────────────────────┼─────────────────┤\n",
       "│ dropout_38 (\u001b[38;5;33mDropout\u001b[0m)                 │ (\u001b[38;5;45mNone\u001b[0m, \u001b[38;5;34m50\u001b[0m)                  │               \u001b[38;5;34m0\u001b[0m │\n",
       "├──────────────────────────────────────┼─────────────────────────────┼─────────────────┤\n",
       "│ batch_normalization_38               │ (\u001b[38;5;45mNone\u001b[0m, \u001b[38;5;34m50\u001b[0m)                  │             \u001b[38;5;34m200\u001b[0m │\n",
       "│ (\u001b[38;5;33mBatchNormalization\u001b[0m)                 │                             │                 │\n",
       "├──────────────────────────────────────┼─────────────────────────────┼─────────────────┤\n",
       "│ dense_82 (\u001b[38;5;33mDense\u001b[0m)                     │ (\u001b[38;5;45mNone\u001b[0m, \u001b[38;5;34m50\u001b[0m)                  │           \u001b[38;5;34m2,550\u001b[0m │\n",
       "├──────────────────────────────────────┼─────────────────────────────┼─────────────────┤\n",
       "│ dropout_39 (\u001b[38;5;33mDropout\u001b[0m)                 │ (\u001b[38;5;45mNone\u001b[0m, \u001b[38;5;34m50\u001b[0m)                  │               \u001b[38;5;34m0\u001b[0m │\n",
       "├──────────────────────────────────────┼─────────────────────────────┼─────────────────┤\n",
       "│ batch_normalization_39               │ (\u001b[38;5;45mNone\u001b[0m, \u001b[38;5;34m50\u001b[0m)                  │             \u001b[38;5;34m200\u001b[0m │\n",
       "│ (\u001b[38;5;33mBatchNormalization\u001b[0m)                 │                             │                 │\n",
       "├──────────────────────────────────────┼─────────────────────────────┼─────────────────┤\n",
       "│ dense_83 (\u001b[38;5;33mDense\u001b[0m)                     │ (\u001b[38;5;45mNone\u001b[0m, \u001b[38;5;34m1\u001b[0m)                   │              \u001b[38;5;34m51\u001b[0m │\n",
       "└──────────────────────────────────────┴─────────────────────────────┴─────────────────┘\n"
      ]
     },
     "metadata": {},
     "output_type": "display_data"
    },
    {
     "data": {
      "text/html": [
       "<pre style=\"white-space:pre;overflow-x:auto;line-height:normal;font-family:Menlo,'DejaVu Sans Mono',consolas,'Courier New',monospace\"><span style=\"font-weight: bold\"> Total params: </span><span style=\"color: #00af00; text-decoration-color: #00af00\">11,801</span> (46.10 KB)\n",
       "</pre>\n"
      ],
      "text/plain": [
       "\u001b[1m Total params: \u001b[0m\u001b[38;5;34m11,801\u001b[0m (46.10 KB)\n"
      ]
     },
     "metadata": {},
     "output_type": "display_data"
    },
    {
     "data": {
      "text/html": [
       "<pre style=\"white-space:pre;overflow-x:auto;line-height:normal;font-family:Menlo,'DejaVu Sans Mono',consolas,'Courier New',monospace\"><span style=\"font-weight: bold\"> Trainable params: </span><span style=\"color: #00af00; text-decoration-color: #00af00\">11,301</span> (44.14 KB)\n",
       "</pre>\n"
      ],
      "text/plain": [
       "\u001b[1m Trainable params: \u001b[0m\u001b[38;5;34m11,301\u001b[0m (44.14 KB)\n"
      ]
     },
     "metadata": {},
     "output_type": "display_data"
    },
    {
     "data": {
      "text/html": [
       "<pre style=\"white-space:pre;overflow-x:auto;line-height:normal;font-family:Menlo,'DejaVu Sans Mono',consolas,'Courier New',monospace\"><span style=\"font-weight: bold\"> Non-trainable params: </span><span style=\"color: #00af00; text-decoration-color: #00af00\">500</span> (1.95 KB)\n",
       "</pre>\n"
      ],
      "text/plain": [
       "\u001b[1m Non-trainable params: \u001b[0m\u001b[38;5;34m500\u001b[0m (1.95 KB)\n"
      ]
     },
     "metadata": {},
     "output_type": "display_data"
    },
    {
     "name": "stdout",
     "output_type": "stream",
     "text": [
      "\n",
      "Model_SGD5\n"
     ]
    },
    {
     "data": {
      "text/html": [
       "<pre style=\"white-space:pre;overflow-x:auto;line-height:normal;font-family:Menlo,'DejaVu Sans Mono',consolas,'Courier New',monospace\"><span style=\"font-weight: bold\">Model: \"sequential_14\"</span>\n",
       "</pre>\n"
      ],
      "text/plain": [
       "\u001b[1mModel: \"sequential_14\"\u001b[0m\n"
      ]
     },
     "metadata": {},
     "output_type": "display_data"
    },
    {
     "data": {
      "text/html": [
       "<pre style=\"white-space:pre;overflow-x:auto;line-height:normal;font-family:Menlo,'DejaVu Sans Mono',consolas,'Courier New',monospace\">┏━━━━━━━━━━━━━━━━━━━━━━━━━━━━━━━━━━━━━━┳━━━━━━━━━━━━━━━━━━━━━━━━━━━━━┳━━━━━━━━━━━━━━━━━┓\n",
       "┃<span style=\"font-weight: bold\"> Layer (type)                         </span>┃<span style=\"font-weight: bold\"> Output Shape                </span>┃<span style=\"font-weight: bold\">         Param # </span>┃\n",
       "┡━━━━━━━━━━━━━━━━━━━━━━━━━━━━━━━━━━━━━━╇━━━━━━━━━━━━━━━━━━━━━━━━━━━━━╇━━━━━━━━━━━━━━━━━┩\n",
       "│ dense_84 (<span style=\"color: #0087ff; text-decoration-color: #0087ff\">Dense</span>)                     │ (<span style=\"color: #00d7ff; text-decoration-color: #00d7ff\">None</span>, <span style=\"color: #00af00; text-decoration-color: #00af00\">200</span>)                 │           <span style=\"color: #00af00; text-decoration-color: #00af00\">2,200</span> │\n",
       "├──────────────────────────────────────┼─────────────────────────────┼─────────────────┤\n",
       "│ dropout_40 (<span style=\"color: #0087ff; text-decoration-color: #0087ff\">Dropout</span>)                 │ (<span style=\"color: #00d7ff; text-decoration-color: #00d7ff\">None</span>, <span style=\"color: #00af00; text-decoration-color: #00af00\">200</span>)                 │               <span style=\"color: #00af00; text-decoration-color: #00af00\">0</span> │\n",
       "├──────────────────────────────────────┼─────────────────────────────┼─────────────────┤\n",
       "│ batch_normalization_40               │ (<span style=\"color: #00d7ff; text-decoration-color: #00d7ff\">None</span>, <span style=\"color: #00af00; text-decoration-color: #00af00\">200</span>)                 │             <span style=\"color: #00af00; text-decoration-color: #00af00\">800</span> │\n",
       "│ (<span style=\"color: #0087ff; text-decoration-color: #0087ff\">BatchNormalization</span>)                 │                             │                 │\n",
       "├──────────────────────────────────────┼─────────────────────────────┼─────────────────┤\n",
       "│ dense_85 (<span style=\"color: #0087ff; text-decoration-color: #0087ff\">Dense</span>)                     │ (<span style=\"color: #00d7ff; text-decoration-color: #00d7ff\">None</span>, <span style=\"color: #00af00; text-decoration-color: #00af00\">100</span>)                 │          <span style=\"color: #00af00; text-decoration-color: #00af00\">20,100</span> │\n",
       "├──────────────────────────────────────┼─────────────────────────────┼─────────────────┤\n",
       "│ dropout_41 (<span style=\"color: #0087ff; text-decoration-color: #0087ff\">Dropout</span>)                 │ (<span style=\"color: #00d7ff; text-decoration-color: #00d7ff\">None</span>, <span style=\"color: #00af00; text-decoration-color: #00af00\">100</span>)                 │               <span style=\"color: #00af00; text-decoration-color: #00af00\">0</span> │\n",
       "├──────────────────────────────────────┼─────────────────────────────┼─────────────────┤\n",
       "│ batch_normalization_41               │ (<span style=\"color: #00d7ff; text-decoration-color: #00d7ff\">None</span>, <span style=\"color: #00af00; text-decoration-color: #00af00\">100</span>)                 │             <span style=\"color: #00af00; text-decoration-color: #00af00\">400</span> │\n",
       "│ (<span style=\"color: #0087ff; text-decoration-color: #0087ff\">BatchNormalization</span>)                 │                             │                 │\n",
       "├──────────────────────────────────────┼─────────────────────────────┼─────────────────┤\n",
       "│ dense_86 (<span style=\"color: #0087ff; text-decoration-color: #0087ff\">Dense</span>)                     │ (<span style=\"color: #00d7ff; text-decoration-color: #00d7ff\">None</span>, <span style=\"color: #00af00; text-decoration-color: #00af00\">50</span>)                  │           <span style=\"color: #00af00; text-decoration-color: #00af00\">5,050</span> │\n",
       "├──────────────────────────────────────┼─────────────────────────────┼─────────────────┤\n",
       "│ dropout_42 (<span style=\"color: #0087ff; text-decoration-color: #0087ff\">Dropout</span>)                 │ (<span style=\"color: #00d7ff; text-decoration-color: #00d7ff\">None</span>, <span style=\"color: #00af00; text-decoration-color: #00af00\">50</span>)                  │               <span style=\"color: #00af00; text-decoration-color: #00af00\">0</span> │\n",
       "├──────────────────────────────────────┼─────────────────────────────┼─────────────────┤\n",
       "│ batch_normalization_42               │ (<span style=\"color: #00d7ff; text-decoration-color: #00d7ff\">None</span>, <span style=\"color: #00af00; text-decoration-color: #00af00\">50</span>)                  │             <span style=\"color: #00af00; text-decoration-color: #00af00\">200</span> │\n",
       "│ (<span style=\"color: #0087ff; text-decoration-color: #0087ff\">BatchNormalization</span>)                 │                             │                 │\n",
       "├──────────────────────────────────────┼─────────────────────────────┼─────────────────┤\n",
       "│ dense_87 (<span style=\"color: #0087ff; text-decoration-color: #0087ff\">Dense</span>)                     │ (<span style=\"color: #00d7ff; text-decoration-color: #00d7ff\">None</span>, <span style=\"color: #00af00; text-decoration-color: #00af00\">50</span>)                  │           <span style=\"color: #00af00; text-decoration-color: #00af00\">2,550</span> │\n",
       "├──────────────────────────────────────┼─────────────────────────────┼─────────────────┤\n",
       "│ dropout_43 (<span style=\"color: #0087ff; text-decoration-color: #0087ff\">Dropout</span>)                 │ (<span style=\"color: #00d7ff; text-decoration-color: #00d7ff\">None</span>, <span style=\"color: #00af00; text-decoration-color: #00af00\">50</span>)                  │               <span style=\"color: #00af00; text-decoration-color: #00af00\">0</span> │\n",
       "├──────────────────────────────────────┼─────────────────────────────┼─────────────────┤\n",
       "│ batch_normalization_43               │ (<span style=\"color: #00d7ff; text-decoration-color: #00d7ff\">None</span>, <span style=\"color: #00af00; text-decoration-color: #00af00\">50</span>)                  │             <span style=\"color: #00af00; text-decoration-color: #00af00\">200</span> │\n",
       "│ (<span style=\"color: #0087ff; text-decoration-color: #0087ff\">BatchNormalization</span>)                 │                             │                 │\n",
       "├──────────────────────────────────────┼─────────────────────────────┼─────────────────┤\n",
       "│ dense_88 (<span style=\"color: #0087ff; text-decoration-color: #0087ff\">Dense</span>)                     │ (<span style=\"color: #00d7ff; text-decoration-color: #00d7ff\">None</span>, <span style=\"color: #00af00; text-decoration-color: #00af00\">50</span>)                  │           <span style=\"color: #00af00; text-decoration-color: #00af00\">2,550</span> │\n",
       "├──────────────────────────────────────┼─────────────────────────────┼─────────────────┤\n",
       "│ dropout_44 (<span style=\"color: #0087ff; text-decoration-color: #0087ff\">Dropout</span>)                 │ (<span style=\"color: #00d7ff; text-decoration-color: #00d7ff\">None</span>, <span style=\"color: #00af00; text-decoration-color: #00af00\">50</span>)                  │               <span style=\"color: #00af00; text-decoration-color: #00af00\">0</span> │\n",
       "├──────────────────────────────────────┼─────────────────────────────┼─────────────────┤\n",
       "│ batch_normalization_44               │ (<span style=\"color: #00d7ff; text-decoration-color: #00d7ff\">None</span>, <span style=\"color: #00af00; text-decoration-color: #00af00\">50</span>)                  │             <span style=\"color: #00af00; text-decoration-color: #00af00\">200</span> │\n",
       "│ (<span style=\"color: #0087ff; text-decoration-color: #0087ff\">BatchNormalization</span>)                 │                             │                 │\n",
       "├──────────────────────────────────────┼─────────────────────────────┼─────────────────┤\n",
       "│ dense_89 (<span style=\"color: #0087ff; text-decoration-color: #0087ff\">Dense</span>)                     │ (<span style=\"color: #00d7ff; text-decoration-color: #00d7ff\">None</span>, <span style=\"color: #00af00; text-decoration-color: #00af00\">1</span>)                   │              <span style=\"color: #00af00; text-decoration-color: #00af00\">51</span> │\n",
       "└──────────────────────────────────────┴─────────────────────────────┴─────────────────┘\n",
       "</pre>\n"
      ],
      "text/plain": [
       "┏━━━━━━━━━━━━━━━━━━━━━━━━━━━━━━━━━━━━━━┳━━━━━━━━━━━━━━━━━━━━━━━━━━━━━┳━━━━━━━━━━━━━━━━━┓\n",
       "┃\u001b[1m \u001b[0m\u001b[1mLayer (type)                        \u001b[0m\u001b[1m \u001b[0m┃\u001b[1m \u001b[0m\u001b[1mOutput Shape               \u001b[0m\u001b[1m \u001b[0m┃\u001b[1m \u001b[0m\u001b[1m        Param #\u001b[0m\u001b[1m \u001b[0m┃\n",
       "┡━━━━━━━━━━━━━━━━━━━━━━━━━━━━━━━━━━━━━━╇━━━━━━━━━━━━━━━━━━━━━━━━━━━━━╇━━━━━━━━━━━━━━━━━┩\n",
       "│ dense_84 (\u001b[38;5;33mDense\u001b[0m)                     │ (\u001b[38;5;45mNone\u001b[0m, \u001b[38;5;34m200\u001b[0m)                 │           \u001b[38;5;34m2,200\u001b[0m │\n",
       "├──────────────────────────────────────┼─────────────────────────────┼─────────────────┤\n",
       "│ dropout_40 (\u001b[38;5;33mDropout\u001b[0m)                 │ (\u001b[38;5;45mNone\u001b[0m, \u001b[38;5;34m200\u001b[0m)                 │               \u001b[38;5;34m0\u001b[0m │\n",
       "├──────────────────────────────────────┼─────────────────────────────┼─────────────────┤\n",
       "│ batch_normalization_40               │ (\u001b[38;5;45mNone\u001b[0m, \u001b[38;5;34m200\u001b[0m)                 │             \u001b[38;5;34m800\u001b[0m │\n",
       "│ (\u001b[38;5;33mBatchNormalization\u001b[0m)                 │                             │                 │\n",
       "├──────────────────────────────────────┼─────────────────────────────┼─────────────────┤\n",
       "│ dense_85 (\u001b[38;5;33mDense\u001b[0m)                     │ (\u001b[38;5;45mNone\u001b[0m, \u001b[38;5;34m100\u001b[0m)                 │          \u001b[38;5;34m20,100\u001b[0m │\n",
       "├──────────────────────────────────────┼─────────────────────────────┼─────────────────┤\n",
       "│ dropout_41 (\u001b[38;5;33mDropout\u001b[0m)                 │ (\u001b[38;5;45mNone\u001b[0m, \u001b[38;5;34m100\u001b[0m)                 │               \u001b[38;5;34m0\u001b[0m │\n",
       "├──────────────────────────────────────┼─────────────────────────────┼─────────────────┤\n",
       "│ batch_normalization_41               │ (\u001b[38;5;45mNone\u001b[0m, \u001b[38;5;34m100\u001b[0m)                 │             \u001b[38;5;34m400\u001b[0m │\n",
       "│ (\u001b[38;5;33mBatchNormalization\u001b[0m)                 │                             │                 │\n",
       "├──────────────────────────────────────┼─────────────────────────────┼─────────────────┤\n",
       "│ dense_86 (\u001b[38;5;33mDense\u001b[0m)                     │ (\u001b[38;5;45mNone\u001b[0m, \u001b[38;5;34m50\u001b[0m)                  │           \u001b[38;5;34m5,050\u001b[0m │\n",
       "├──────────────────────────────────────┼─────────────────────────────┼─────────────────┤\n",
       "│ dropout_42 (\u001b[38;5;33mDropout\u001b[0m)                 │ (\u001b[38;5;45mNone\u001b[0m, \u001b[38;5;34m50\u001b[0m)                  │               \u001b[38;5;34m0\u001b[0m │\n",
       "├──────────────────────────────────────┼─────────────────────────────┼─────────────────┤\n",
       "│ batch_normalization_42               │ (\u001b[38;5;45mNone\u001b[0m, \u001b[38;5;34m50\u001b[0m)                  │             \u001b[38;5;34m200\u001b[0m │\n",
       "│ (\u001b[38;5;33mBatchNormalization\u001b[0m)                 │                             │                 │\n",
       "├──────────────────────────────────────┼─────────────────────────────┼─────────────────┤\n",
       "│ dense_87 (\u001b[38;5;33mDense\u001b[0m)                     │ (\u001b[38;5;45mNone\u001b[0m, \u001b[38;5;34m50\u001b[0m)                  │           \u001b[38;5;34m2,550\u001b[0m │\n",
       "├──────────────────────────────────────┼─────────────────────────────┼─────────────────┤\n",
       "│ dropout_43 (\u001b[38;5;33mDropout\u001b[0m)                 │ (\u001b[38;5;45mNone\u001b[0m, \u001b[38;5;34m50\u001b[0m)                  │               \u001b[38;5;34m0\u001b[0m │\n",
       "├──────────────────────────────────────┼─────────────────────────────┼─────────────────┤\n",
       "│ batch_normalization_43               │ (\u001b[38;5;45mNone\u001b[0m, \u001b[38;5;34m50\u001b[0m)                  │             \u001b[38;5;34m200\u001b[0m │\n",
       "│ (\u001b[38;5;33mBatchNormalization\u001b[0m)                 │                             │                 │\n",
       "├──────────────────────────────────────┼─────────────────────────────┼─────────────────┤\n",
       "│ dense_88 (\u001b[38;5;33mDense\u001b[0m)                     │ (\u001b[38;5;45mNone\u001b[0m, \u001b[38;5;34m50\u001b[0m)                  │           \u001b[38;5;34m2,550\u001b[0m │\n",
       "├──────────────────────────────────────┼─────────────────────────────┼─────────────────┤\n",
       "│ dropout_44 (\u001b[38;5;33mDropout\u001b[0m)                 │ (\u001b[38;5;45mNone\u001b[0m, \u001b[38;5;34m50\u001b[0m)                  │               \u001b[38;5;34m0\u001b[0m │\n",
       "├──────────────────────────────────────┼─────────────────────────────┼─────────────────┤\n",
       "│ batch_normalization_44               │ (\u001b[38;5;45mNone\u001b[0m, \u001b[38;5;34m50\u001b[0m)                  │             \u001b[38;5;34m200\u001b[0m │\n",
       "│ (\u001b[38;5;33mBatchNormalization\u001b[0m)                 │                             │                 │\n",
       "├──────────────────────────────────────┼─────────────────────────────┼─────────────────┤\n",
       "│ dense_89 (\u001b[38;5;33mDense\u001b[0m)                     │ (\u001b[38;5;45mNone\u001b[0m, \u001b[38;5;34m1\u001b[0m)                   │              \u001b[38;5;34m51\u001b[0m │\n",
       "└──────────────────────────────────────┴─────────────────────────────┴─────────────────┘\n"
      ]
     },
     "metadata": {},
     "output_type": "display_data"
    },
    {
     "data": {
      "text/html": [
       "<pre style=\"white-space:pre;overflow-x:auto;line-height:normal;font-family:Menlo,'DejaVu Sans Mono',consolas,'Courier New',monospace\"><span style=\"font-weight: bold\"> Total params: </span><span style=\"color: #00af00; text-decoration-color: #00af00\">34,301</span> (133.99 KB)\n",
       "</pre>\n"
      ],
      "text/plain": [
       "\u001b[1m Total params: \u001b[0m\u001b[38;5;34m34,301\u001b[0m (133.99 KB)\n"
      ]
     },
     "metadata": {},
     "output_type": "display_data"
    },
    {
     "data": {
      "text/html": [
       "<pre style=\"white-space:pre;overflow-x:auto;line-height:normal;font-family:Menlo,'DejaVu Sans Mono',consolas,'Courier New',monospace\"><span style=\"font-weight: bold\"> Trainable params: </span><span style=\"color: #00af00; text-decoration-color: #00af00\">33,401</span> (130.47 KB)\n",
       "</pre>\n"
      ],
      "text/plain": [
       "\u001b[1m Trainable params: \u001b[0m\u001b[38;5;34m33,401\u001b[0m (130.47 KB)\n"
      ]
     },
     "metadata": {},
     "output_type": "display_data"
    },
    {
     "data": {
      "text/html": [
       "<pre style=\"white-space:pre;overflow-x:auto;line-height:normal;font-family:Menlo,'DejaVu Sans Mono',consolas,'Courier New',monospace\"><span style=\"font-weight: bold\"> Non-trainable params: </span><span style=\"color: #00af00; text-decoration-color: #00af00\">900</span> (3.52 KB)\n",
       "</pre>\n"
      ],
      "text/plain": [
       "\u001b[1m Non-trainable params: \u001b[0m\u001b[38;5;34m900\u001b[0m (3.52 KB)\n"
      ]
     },
     "metadata": {},
     "output_type": "display_data"
    },
    {
     "name": "stdout",
     "output_type": "stream",
     "text": [
      "\n",
      "Model_SGD6\n"
     ]
    },
    {
     "data": {
      "text/html": [
       "<pre style=\"white-space:pre;overflow-x:auto;line-height:normal;font-family:Menlo,'DejaVu Sans Mono',consolas,'Courier New',monospace\"><span style=\"font-weight: bold\">Model: \"sequential_15\"</span>\n",
       "</pre>\n"
      ],
      "text/plain": [
       "\u001b[1mModel: \"sequential_15\"\u001b[0m\n"
      ]
     },
     "metadata": {},
     "output_type": "display_data"
    },
    {
     "data": {
      "text/html": [
       "<pre style=\"white-space:pre;overflow-x:auto;line-height:normal;font-family:Menlo,'DejaVu Sans Mono',consolas,'Courier New',monospace\">┏━━━━━━━━━━━━━━━━━━━━━━━━━━━━━━━━━━━━━━┳━━━━━━━━━━━━━━━━━━━━━━━━━━━━━┳━━━━━━━━━━━━━━━━━┓\n",
       "┃<span style=\"font-weight: bold\"> Layer (type)                         </span>┃<span style=\"font-weight: bold\"> Output Shape                </span>┃<span style=\"font-weight: bold\">         Param # </span>┃\n",
       "┡━━━━━━━━━━━━━━━━━━━━━━━━━━━━━━━━━━━━━━╇━━━━━━━━━━━━━━━━━━━━━━━━━━━━━╇━━━━━━━━━━━━━━━━━┩\n",
       "│ dense_90 (<span style=\"color: #0087ff; text-decoration-color: #0087ff\">Dense</span>)                     │ (<span style=\"color: #00d7ff; text-decoration-color: #00d7ff\">None</span>, <span style=\"color: #00af00; text-decoration-color: #00af00\">200</span>)                 │           <span style=\"color: #00af00; text-decoration-color: #00af00\">2,200</span> │\n",
       "├──────────────────────────────────────┼─────────────────────────────┼─────────────────┤\n",
       "│ dropout_45 (<span style=\"color: #0087ff; text-decoration-color: #0087ff\">Dropout</span>)                 │ (<span style=\"color: #00d7ff; text-decoration-color: #00d7ff\">None</span>, <span style=\"color: #00af00; text-decoration-color: #00af00\">200</span>)                 │               <span style=\"color: #00af00; text-decoration-color: #00af00\">0</span> │\n",
       "├──────────────────────────────────────┼─────────────────────────────┼─────────────────┤\n",
       "│ batch_normalization_45               │ (<span style=\"color: #00d7ff; text-decoration-color: #00d7ff\">None</span>, <span style=\"color: #00af00; text-decoration-color: #00af00\">200</span>)                 │             <span style=\"color: #00af00; text-decoration-color: #00af00\">800</span> │\n",
       "│ (<span style=\"color: #0087ff; text-decoration-color: #0087ff\">BatchNormalization</span>)                 │                             │                 │\n",
       "├──────────────────────────────────────┼─────────────────────────────┼─────────────────┤\n",
       "│ dense_91 (<span style=\"color: #0087ff; text-decoration-color: #0087ff\">Dense</span>)                     │ (<span style=\"color: #00d7ff; text-decoration-color: #00d7ff\">None</span>, <span style=\"color: #00af00; text-decoration-color: #00af00\">100</span>)                 │          <span style=\"color: #00af00; text-decoration-color: #00af00\">20,100</span> │\n",
       "├──────────────────────────────────────┼─────────────────────────────┼─────────────────┤\n",
       "│ dropout_46 (<span style=\"color: #0087ff; text-decoration-color: #0087ff\">Dropout</span>)                 │ (<span style=\"color: #00d7ff; text-decoration-color: #00d7ff\">None</span>, <span style=\"color: #00af00; text-decoration-color: #00af00\">100</span>)                 │               <span style=\"color: #00af00; text-decoration-color: #00af00\">0</span> │\n",
       "├──────────────────────────────────────┼─────────────────────────────┼─────────────────┤\n",
       "│ batch_normalization_46               │ (<span style=\"color: #00d7ff; text-decoration-color: #00d7ff\">None</span>, <span style=\"color: #00af00; text-decoration-color: #00af00\">100</span>)                 │             <span style=\"color: #00af00; text-decoration-color: #00af00\">400</span> │\n",
       "│ (<span style=\"color: #0087ff; text-decoration-color: #0087ff\">BatchNormalization</span>)                 │                             │                 │\n",
       "├──────────────────────────────────────┼─────────────────────────────┼─────────────────┤\n",
       "│ dense_92 (<span style=\"color: #0087ff; text-decoration-color: #0087ff\">Dense</span>)                     │ (<span style=\"color: #00d7ff; text-decoration-color: #00d7ff\">None</span>, <span style=\"color: #00af00; text-decoration-color: #00af00\">50</span>)                  │           <span style=\"color: #00af00; text-decoration-color: #00af00\">5,050</span> │\n",
       "├──────────────────────────────────────┼─────────────────────────────┼─────────────────┤\n",
       "│ dropout_47 (<span style=\"color: #0087ff; text-decoration-color: #0087ff\">Dropout</span>)                 │ (<span style=\"color: #00d7ff; text-decoration-color: #00d7ff\">None</span>, <span style=\"color: #00af00; text-decoration-color: #00af00\">50</span>)                  │               <span style=\"color: #00af00; text-decoration-color: #00af00\">0</span> │\n",
       "├──────────────────────────────────────┼─────────────────────────────┼─────────────────┤\n",
       "│ batch_normalization_47               │ (<span style=\"color: #00d7ff; text-decoration-color: #00d7ff\">None</span>, <span style=\"color: #00af00; text-decoration-color: #00af00\">50</span>)                  │             <span style=\"color: #00af00; text-decoration-color: #00af00\">200</span> │\n",
       "│ (<span style=\"color: #0087ff; text-decoration-color: #0087ff\">BatchNormalization</span>)                 │                             │                 │\n",
       "├──────────────────────────────────────┼─────────────────────────────┼─────────────────┤\n",
       "│ dense_93 (<span style=\"color: #0087ff; text-decoration-color: #0087ff\">Dense</span>)                     │ (<span style=\"color: #00d7ff; text-decoration-color: #00d7ff\">None</span>, <span style=\"color: #00af00; text-decoration-color: #00af00\">50</span>)                  │           <span style=\"color: #00af00; text-decoration-color: #00af00\">2,550</span> │\n",
       "├──────────────────────────────────────┼─────────────────────────────┼─────────────────┤\n",
       "│ dropout_48 (<span style=\"color: #0087ff; text-decoration-color: #0087ff\">Dropout</span>)                 │ (<span style=\"color: #00d7ff; text-decoration-color: #00d7ff\">None</span>, <span style=\"color: #00af00; text-decoration-color: #00af00\">50</span>)                  │               <span style=\"color: #00af00; text-decoration-color: #00af00\">0</span> │\n",
       "├──────────────────────────────────────┼─────────────────────────────┼─────────────────┤\n",
       "│ batch_normalization_48               │ (<span style=\"color: #00d7ff; text-decoration-color: #00d7ff\">None</span>, <span style=\"color: #00af00; text-decoration-color: #00af00\">50</span>)                  │             <span style=\"color: #00af00; text-decoration-color: #00af00\">200</span> │\n",
       "│ (<span style=\"color: #0087ff; text-decoration-color: #0087ff\">BatchNormalization</span>)                 │                             │                 │\n",
       "├──────────────────────────────────────┼─────────────────────────────┼─────────────────┤\n",
       "│ dense_94 (<span style=\"color: #0087ff; text-decoration-color: #0087ff\">Dense</span>)                     │ (<span style=\"color: #00d7ff; text-decoration-color: #00d7ff\">None</span>, <span style=\"color: #00af00; text-decoration-color: #00af00\">50</span>)                  │           <span style=\"color: #00af00; text-decoration-color: #00af00\">2,550</span> │\n",
       "├──────────────────────────────────────┼─────────────────────────────┼─────────────────┤\n",
       "│ dropout_49 (<span style=\"color: #0087ff; text-decoration-color: #0087ff\">Dropout</span>)                 │ (<span style=\"color: #00d7ff; text-decoration-color: #00d7ff\">None</span>, <span style=\"color: #00af00; text-decoration-color: #00af00\">50</span>)                  │               <span style=\"color: #00af00; text-decoration-color: #00af00\">0</span> │\n",
       "├──────────────────────────────────────┼─────────────────────────────┼─────────────────┤\n",
       "│ batch_normalization_49               │ (<span style=\"color: #00d7ff; text-decoration-color: #00d7ff\">None</span>, <span style=\"color: #00af00; text-decoration-color: #00af00\">50</span>)                  │             <span style=\"color: #00af00; text-decoration-color: #00af00\">200</span> │\n",
       "│ (<span style=\"color: #0087ff; text-decoration-color: #0087ff\">BatchNormalization</span>)                 │                             │                 │\n",
       "├──────────────────────────────────────┼─────────────────────────────┼─────────────────┤\n",
       "│ dense_95 (<span style=\"color: #0087ff; text-decoration-color: #0087ff\">Dense</span>)                     │ (<span style=\"color: #00d7ff; text-decoration-color: #00d7ff\">None</span>, <span style=\"color: #00af00; text-decoration-color: #00af00\">1</span>)                   │              <span style=\"color: #00af00; text-decoration-color: #00af00\">51</span> │\n",
       "└──────────────────────────────────────┴─────────────────────────────┴─────────────────┘\n",
       "</pre>\n"
      ],
      "text/plain": [
       "┏━━━━━━━━━━━━━━━━━━━━━━━━━━━━━━━━━━━━━━┳━━━━━━━━━━━━━━━━━━━━━━━━━━━━━┳━━━━━━━━━━━━━━━━━┓\n",
       "┃\u001b[1m \u001b[0m\u001b[1mLayer (type)                        \u001b[0m\u001b[1m \u001b[0m┃\u001b[1m \u001b[0m\u001b[1mOutput Shape               \u001b[0m\u001b[1m \u001b[0m┃\u001b[1m \u001b[0m\u001b[1m        Param #\u001b[0m\u001b[1m \u001b[0m┃\n",
       "┡━━━━━━━━━━━━━━━━━━━━━━━━━━━━━━━━━━━━━━╇━━━━━━━━━━━━━━━━━━━━━━━━━━━━━╇━━━━━━━━━━━━━━━━━┩\n",
       "│ dense_90 (\u001b[38;5;33mDense\u001b[0m)                     │ (\u001b[38;5;45mNone\u001b[0m, \u001b[38;5;34m200\u001b[0m)                 │           \u001b[38;5;34m2,200\u001b[0m │\n",
       "├──────────────────────────────────────┼─────────────────────────────┼─────────────────┤\n",
       "│ dropout_45 (\u001b[38;5;33mDropout\u001b[0m)                 │ (\u001b[38;5;45mNone\u001b[0m, \u001b[38;5;34m200\u001b[0m)                 │               \u001b[38;5;34m0\u001b[0m │\n",
       "├──────────────────────────────────────┼─────────────────────────────┼─────────────────┤\n",
       "│ batch_normalization_45               │ (\u001b[38;5;45mNone\u001b[0m, \u001b[38;5;34m200\u001b[0m)                 │             \u001b[38;5;34m800\u001b[0m │\n",
       "│ (\u001b[38;5;33mBatchNormalization\u001b[0m)                 │                             │                 │\n",
       "├──────────────────────────────────────┼─────────────────────────────┼─────────────────┤\n",
       "│ dense_91 (\u001b[38;5;33mDense\u001b[0m)                     │ (\u001b[38;5;45mNone\u001b[0m, \u001b[38;5;34m100\u001b[0m)                 │          \u001b[38;5;34m20,100\u001b[0m │\n",
       "├──────────────────────────────────────┼─────────────────────────────┼─────────────────┤\n",
       "│ dropout_46 (\u001b[38;5;33mDropout\u001b[0m)                 │ (\u001b[38;5;45mNone\u001b[0m, \u001b[38;5;34m100\u001b[0m)                 │               \u001b[38;5;34m0\u001b[0m │\n",
       "├──────────────────────────────────────┼─────────────────────────────┼─────────────────┤\n",
       "│ batch_normalization_46               │ (\u001b[38;5;45mNone\u001b[0m, \u001b[38;5;34m100\u001b[0m)                 │             \u001b[38;5;34m400\u001b[0m │\n",
       "│ (\u001b[38;5;33mBatchNormalization\u001b[0m)                 │                             │                 │\n",
       "├──────────────────────────────────────┼─────────────────────────────┼─────────────────┤\n",
       "│ dense_92 (\u001b[38;5;33mDense\u001b[0m)                     │ (\u001b[38;5;45mNone\u001b[0m, \u001b[38;5;34m50\u001b[0m)                  │           \u001b[38;5;34m5,050\u001b[0m │\n",
       "├──────────────────────────────────────┼─────────────────────────────┼─────────────────┤\n",
       "│ dropout_47 (\u001b[38;5;33mDropout\u001b[0m)                 │ (\u001b[38;5;45mNone\u001b[0m, \u001b[38;5;34m50\u001b[0m)                  │               \u001b[38;5;34m0\u001b[0m │\n",
       "├──────────────────────────────────────┼─────────────────────────────┼─────────────────┤\n",
       "│ batch_normalization_47               │ (\u001b[38;5;45mNone\u001b[0m, \u001b[38;5;34m50\u001b[0m)                  │             \u001b[38;5;34m200\u001b[0m │\n",
       "│ (\u001b[38;5;33mBatchNormalization\u001b[0m)                 │                             │                 │\n",
       "├──────────────────────────────────────┼─────────────────────────────┼─────────────────┤\n",
       "│ dense_93 (\u001b[38;5;33mDense\u001b[0m)                     │ (\u001b[38;5;45mNone\u001b[0m, \u001b[38;5;34m50\u001b[0m)                  │           \u001b[38;5;34m2,550\u001b[0m │\n",
       "├──────────────────────────────────────┼─────────────────────────────┼─────────────────┤\n",
       "│ dropout_48 (\u001b[38;5;33mDropout\u001b[0m)                 │ (\u001b[38;5;45mNone\u001b[0m, \u001b[38;5;34m50\u001b[0m)                  │               \u001b[38;5;34m0\u001b[0m │\n",
       "├──────────────────────────────────────┼─────────────────────────────┼─────────────────┤\n",
       "│ batch_normalization_48               │ (\u001b[38;5;45mNone\u001b[0m, \u001b[38;5;34m50\u001b[0m)                  │             \u001b[38;5;34m200\u001b[0m │\n",
       "│ (\u001b[38;5;33mBatchNormalization\u001b[0m)                 │                             │                 │\n",
       "├──────────────────────────────────────┼─────────────────────────────┼─────────────────┤\n",
       "│ dense_94 (\u001b[38;5;33mDense\u001b[0m)                     │ (\u001b[38;5;45mNone\u001b[0m, \u001b[38;5;34m50\u001b[0m)                  │           \u001b[38;5;34m2,550\u001b[0m │\n",
       "├──────────────────────────────────────┼─────────────────────────────┼─────────────────┤\n",
       "│ dropout_49 (\u001b[38;5;33mDropout\u001b[0m)                 │ (\u001b[38;5;45mNone\u001b[0m, \u001b[38;5;34m50\u001b[0m)                  │               \u001b[38;5;34m0\u001b[0m │\n",
       "├──────────────────────────────────────┼─────────────────────────────┼─────────────────┤\n",
       "│ batch_normalization_49               │ (\u001b[38;5;45mNone\u001b[0m, \u001b[38;5;34m50\u001b[0m)                  │             \u001b[38;5;34m200\u001b[0m │\n",
       "│ (\u001b[38;5;33mBatchNormalization\u001b[0m)                 │                             │                 │\n",
       "├──────────────────────────────────────┼─────────────────────────────┼─────────────────┤\n",
       "│ dense_95 (\u001b[38;5;33mDense\u001b[0m)                     │ (\u001b[38;5;45mNone\u001b[0m, \u001b[38;5;34m1\u001b[0m)                   │              \u001b[38;5;34m51\u001b[0m │\n",
       "└──────────────────────────────────────┴─────────────────────────────┴─────────────────┘\n"
      ]
     },
     "metadata": {},
     "output_type": "display_data"
    },
    {
     "data": {
      "text/html": [
       "<pre style=\"white-space:pre;overflow-x:auto;line-height:normal;font-family:Menlo,'DejaVu Sans Mono',consolas,'Courier New',monospace\"><span style=\"font-weight: bold\"> Total params: </span><span style=\"color: #00af00; text-decoration-color: #00af00\">34,301</span> (133.99 KB)\n",
       "</pre>\n"
      ],
      "text/plain": [
       "\u001b[1m Total params: \u001b[0m\u001b[38;5;34m34,301\u001b[0m (133.99 KB)\n"
      ]
     },
     "metadata": {},
     "output_type": "display_data"
    },
    {
     "data": {
      "text/html": [
       "<pre style=\"white-space:pre;overflow-x:auto;line-height:normal;font-family:Menlo,'DejaVu Sans Mono',consolas,'Courier New',monospace\"><span style=\"font-weight: bold\"> Trainable params: </span><span style=\"color: #00af00; text-decoration-color: #00af00\">33,401</span> (130.47 KB)\n",
       "</pre>\n"
      ],
      "text/plain": [
       "\u001b[1m Trainable params: \u001b[0m\u001b[38;5;34m33,401\u001b[0m (130.47 KB)\n"
      ]
     },
     "metadata": {},
     "output_type": "display_data"
    },
    {
     "data": {
      "text/html": [
       "<pre style=\"white-space:pre;overflow-x:auto;line-height:normal;font-family:Menlo,'DejaVu Sans Mono',consolas,'Courier New',monospace\"><span style=\"font-weight: bold\"> Non-trainable params: </span><span style=\"color: #00af00; text-decoration-color: #00af00\">900</span> (3.52 KB)\n",
       "</pre>\n"
      ],
      "text/plain": [
       "\u001b[1m Non-trainable params: \u001b[0m\u001b[38;5;34m900\u001b[0m (3.52 KB)\n"
      ]
     },
     "metadata": {},
     "output_type": "display_data"
    },
    {
     "name": "stdout",
     "output_type": "stream",
     "text": [
      "\n",
      "Model_SGD7\n"
     ]
    },
    {
     "data": {
      "text/html": [
       "<pre style=\"white-space:pre;overflow-x:auto;line-height:normal;font-family:Menlo,'DejaVu Sans Mono',consolas,'Courier New',monospace\"><span style=\"font-weight: bold\">Model: \"sequential_16\"</span>\n",
       "</pre>\n"
      ],
      "text/plain": [
       "\u001b[1mModel: \"sequential_16\"\u001b[0m\n"
      ]
     },
     "metadata": {},
     "output_type": "display_data"
    },
    {
     "data": {
      "text/html": [
       "<pre style=\"white-space:pre;overflow-x:auto;line-height:normal;font-family:Menlo,'DejaVu Sans Mono',consolas,'Courier New',monospace\">┏━━━━━━━━━━━━━━━━━━━━━━━━━━━━━━━━━━━━━━┳━━━━━━━━━━━━━━━━━━━━━━━━━━━━━┳━━━━━━━━━━━━━━━━━┓\n",
       "┃<span style=\"font-weight: bold\"> Layer (type)                         </span>┃<span style=\"font-weight: bold\"> Output Shape                </span>┃<span style=\"font-weight: bold\">         Param # </span>┃\n",
       "┡━━━━━━━━━━━━━━━━━━━━━━━━━━━━━━━━━━━━━━╇━━━━━━━━━━━━━━━━━━━━━━━━━━━━━╇━━━━━━━━━━━━━━━━━┩\n",
       "│ dense_96 (<span style=\"color: #0087ff; text-decoration-color: #0087ff\">Dense</span>)                     │ (<span style=\"color: #00d7ff; text-decoration-color: #00d7ff\">None</span>, <span style=\"color: #00af00; text-decoration-color: #00af00\">200</span>)                 │           <span style=\"color: #00af00; text-decoration-color: #00af00\">2,200</span> │\n",
       "├──────────────────────────────────────┼─────────────────────────────┼─────────────────┤\n",
       "│ dropout_50 (<span style=\"color: #0087ff; text-decoration-color: #0087ff\">Dropout</span>)                 │ (<span style=\"color: #00d7ff; text-decoration-color: #00d7ff\">None</span>, <span style=\"color: #00af00; text-decoration-color: #00af00\">200</span>)                 │               <span style=\"color: #00af00; text-decoration-color: #00af00\">0</span> │\n",
       "├──────────────────────────────────────┼─────────────────────────────┼─────────────────┤\n",
       "│ batch_normalization_50               │ (<span style=\"color: #00d7ff; text-decoration-color: #00d7ff\">None</span>, <span style=\"color: #00af00; text-decoration-color: #00af00\">200</span>)                 │             <span style=\"color: #00af00; text-decoration-color: #00af00\">800</span> │\n",
       "│ (<span style=\"color: #0087ff; text-decoration-color: #0087ff\">BatchNormalization</span>)                 │                             │                 │\n",
       "├──────────────────────────────────────┼─────────────────────────────┼─────────────────┤\n",
       "│ dense_97 (<span style=\"color: #0087ff; text-decoration-color: #0087ff\">Dense</span>)                     │ (<span style=\"color: #00d7ff; text-decoration-color: #00d7ff\">None</span>, <span style=\"color: #00af00; text-decoration-color: #00af00\">100</span>)                 │          <span style=\"color: #00af00; text-decoration-color: #00af00\">20,100</span> │\n",
       "├──────────────────────────────────────┼─────────────────────────────┼─────────────────┤\n",
       "│ dropout_51 (<span style=\"color: #0087ff; text-decoration-color: #0087ff\">Dropout</span>)                 │ (<span style=\"color: #00d7ff; text-decoration-color: #00d7ff\">None</span>, <span style=\"color: #00af00; text-decoration-color: #00af00\">100</span>)                 │               <span style=\"color: #00af00; text-decoration-color: #00af00\">0</span> │\n",
       "├──────────────────────────────────────┼─────────────────────────────┼─────────────────┤\n",
       "│ batch_normalization_51               │ (<span style=\"color: #00d7ff; text-decoration-color: #00d7ff\">None</span>, <span style=\"color: #00af00; text-decoration-color: #00af00\">100</span>)                 │             <span style=\"color: #00af00; text-decoration-color: #00af00\">400</span> │\n",
       "│ (<span style=\"color: #0087ff; text-decoration-color: #0087ff\">BatchNormalization</span>)                 │                             │                 │\n",
       "├──────────────────────────────────────┼─────────────────────────────┼─────────────────┤\n",
       "│ dense_98 (<span style=\"color: #0087ff; text-decoration-color: #0087ff\">Dense</span>)                     │ (<span style=\"color: #00d7ff; text-decoration-color: #00d7ff\">None</span>, <span style=\"color: #00af00; text-decoration-color: #00af00\">50</span>)                  │           <span style=\"color: #00af00; text-decoration-color: #00af00\">5,050</span> │\n",
       "├──────────────────────────────────────┼─────────────────────────────┼─────────────────┤\n",
       "│ dropout_52 (<span style=\"color: #0087ff; text-decoration-color: #0087ff\">Dropout</span>)                 │ (<span style=\"color: #00d7ff; text-decoration-color: #00d7ff\">None</span>, <span style=\"color: #00af00; text-decoration-color: #00af00\">50</span>)                  │               <span style=\"color: #00af00; text-decoration-color: #00af00\">0</span> │\n",
       "├──────────────────────────────────────┼─────────────────────────────┼─────────────────┤\n",
       "│ batch_normalization_52               │ (<span style=\"color: #00d7ff; text-decoration-color: #00d7ff\">None</span>, <span style=\"color: #00af00; text-decoration-color: #00af00\">50</span>)                  │             <span style=\"color: #00af00; text-decoration-color: #00af00\">200</span> │\n",
       "│ (<span style=\"color: #0087ff; text-decoration-color: #0087ff\">BatchNormalization</span>)                 │                             │                 │\n",
       "├──────────────────────────────────────┼─────────────────────────────┼─────────────────┤\n",
       "│ dense_99 (<span style=\"color: #0087ff; text-decoration-color: #0087ff\">Dense</span>)                     │ (<span style=\"color: #00d7ff; text-decoration-color: #00d7ff\">None</span>, <span style=\"color: #00af00; text-decoration-color: #00af00\">50</span>)                  │           <span style=\"color: #00af00; text-decoration-color: #00af00\">2,550</span> │\n",
       "├──────────────────────────────────────┼─────────────────────────────┼─────────────────┤\n",
       "│ dropout_53 (<span style=\"color: #0087ff; text-decoration-color: #0087ff\">Dropout</span>)                 │ (<span style=\"color: #00d7ff; text-decoration-color: #00d7ff\">None</span>, <span style=\"color: #00af00; text-decoration-color: #00af00\">50</span>)                  │               <span style=\"color: #00af00; text-decoration-color: #00af00\">0</span> │\n",
       "├──────────────────────────────────────┼─────────────────────────────┼─────────────────┤\n",
       "│ batch_normalization_53               │ (<span style=\"color: #00d7ff; text-decoration-color: #00d7ff\">None</span>, <span style=\"color: #00af00; text-decoration-color: #00af00\">50</span>)                  │             <span style=\"color: #00af00; text-decoration-color: #00af00\">200</span> │\n",
       "│ (<span style=\"color: #0087ff; text-decoration-color: #0087ff\">BatchNormalization</span>)                 │                             │                 │\n",
       "├──────────────────────────────────────┼─────────────────────────────┼─────────────────┤\n",
       "│ dense_100 (<span style=\"color: #0087ff; text-decoration-color: #0087ff\">Dense</span>)                    │ (<span style=\"color: #00d7ff; text-decoration-color: #00d7ff\">None</span>, <span style=\"color: #00af00; text-decoration-color: #00af00\">50</span>)                  │           <span style=\"color: #00af00; text-decoration-color: #00af00\">2,550</span> │\n",
       "├──────────────────────────────────────┼─────────────────────────────┼─────────────────┤\n",
       "│ dropout_54 (<span style=\"color: #0087ff; text-decoration-color: #0087ff\">Dropout</span>)                 │ (<span style=\"color: #00d7ff; text-decoration-color: #00d7ff\">None</span>, <span style=\"color: #00af00; text-decoration-color: #00af00\">50</span>)                  │               <span style=\"color: #00af00; text-decoration-color: #00af00\">0</span> │\n",
       "├──────────────────────────────────────┼─────────────────────────────┼─────────────────┤\n",
       "│ batch_normalization_54               │ (<span style=\"color: #00d7ff; text-decoration-color: #00d7ff\">None</span>, <span style=\"color: #00af00; text-decoration-color: #00af00\">50</span>)                  │             <span style=\"color: #00af00; text-decoration-color: #00af00\">200</span> │\n",
       "│ (<span style=\"color: #0087ff; text-decoration-color: #0087ff\">BatchNormalization</span>)                 │                             │                 │\n",
       "├──────────────────────────────────────┼─────────────────────────────┼─────────────────┤\n",
       "│ dense_101 (<span style=\"color: #0087ff; text-decoration-color: #0087ff\">Dense</span>)                    │ (<span style=\"color: #00d7ff; text-decoration-color: #00d7ff\">None</span>, <span style=\"color: #00af00; text-decoration-color: #00af00\">1</span>)                   │              <span style=\"color: #00af00; text-decoration-color: #00af00\">51</span> │\n",
       "└──────────────────────────────────────┴─────────────────────────────┴─────────────────┘\n",
       "</pre>\n"
      ],
      "text/plain": [
       "┏━━━━━━━━━━━━━━━━━━━━━━━━━━━━━━━━━━━━━━┳━━━━━━━━━━━━━━━━━━━━━━━━━━━━━┳━━━━━━━━━━━━━━━━━┓\n",
       "┃\u001b[1m \u001b[0m\u001b[1mLayer (type)                        \u001b[0m\u001b[1m \u001b[0m┃\u001b[1m \u001b[0m\u001b[1mOutput Shape               \u001b[0m\u001b[1m \u001b[0m┃\u001b[1m \u001b[0m\u001b[1m        Param #\u001b[0m\u001b[1m \u001b[0m┃\n",
       "┡━━━━━━━━━━━━━━━━━━━━━━━━━━━━━━━━━━━━━━╇━━━━━━━━━━━━━━━━━━━━━━━━━━━━━╇━━━━━━━━━━━━━━━━━┩\n",
       "│ dense_96 (\u001b[38;5;33mDense\u001b[0m)                     │ (\u001b[38;5;45mNone\u001b[0m, \u001b[38;5;34m200\u001b[0m)                 │           \u001b[38;5;34m2,200\u001b[0m │\n",
       "├──────────────────────────────────────┼─────────────────────────────┼─────────────────┤\n",
       "│ dropout_50 (\u001b[38;5;33mDropout\u001b[0m)                 │ (\u001b[38;5;45mNone\u001b[0m, \u001b[38;5;34m200\u001b[0m)                 │               \u001b[38;5;34m0\u001b[0m │\n",
       "├──────────────────────────────────────┼─────────────────────────────┼─────────────────┤\n",
       "│ batch_normalization_50               │ (\u001b[38;5;45mNone\u001b[0m, \u001b[38;5;34m200\u001b[0m)                 │             \u001b[38;5;34m800\u001b[0m │\n",
       "│ (\u001b[38;5;33mBatchNormalization\u001b[0m)                 │                             │                 │\n",
       "├──────────────────────────────────────┼─────────────────────────────┼─────────────────┤\n",
       "│ dense_97 (\u001b[38;5;33mDense\u001b[0m)                     │ (\u001b[38;5;45mNone\u001b[0m, \u001b[38;5;34m100\u001b[0m)                 │          \u001b[38;5;34m20,100\u001b[0m │\n",
       "├──────────────────────────────────────┼─────────────────────────────┼─────────────────┤\n",
       "│ dropout_51 (\u001b[38;5;33mDropout\u001b[0m)                 │ (\u001b[38;5;45mNone\u001b[0m, \u001b[38;5;34m100\u001b[0m)                 │               \u001b[38;5;34m0\u001b[0m │\n",
       "├──────────────────────────────────────┼─────────────────────────────┼─────────────────┤\n",
       "│ batch_normalization_51               │ (\u001b[38;5;45mNone\u001b[0m, \u001b[38;5;34m100\u001b[0m)                 │             \u001b[38;5;34m400\u001b[0m │\n",
       "│ (\u001b[38;5;33mBatchNormalization\u001b[0m)                 │                             │                 │\n",
       "├──────────────────────────────────────┼─────────────────────────────┼─────────────────┤\n",
       "│ dense_98 (\u001b[38;5;33mDense\u001b[0m)                     │ (\u001b[38;5;45mNone\u001b[0m, \u001b[38;5;34m50\u001b[0m)                  │           \u001b[38;5;34m5,050\u001b[0m │\n",
       "├──────────────────────────────────────┼─────────────────────────────┼─────────────────┤\n",
       "│ dropout_52 (\u001b[38;5;33mDropout\u001b[0m)                 │ (\u001b[38;5;45mNone\u001b[0m, \u001b[38;5;34m50\u001b[0m)                  │               \u001b[38;5;34m0\u001b[0m │\n",
       "├──────────────────────────────────────┼─────────────────────────────┼─────────────────┤\n",
       "│ batch_normalization_52               │ (\u001b[38;5;45mNone\u001b[0m, \u001b[38;5;34m50\u001b[0m)                  │             \u001b[38;5;34m200\u001b[0m │\n",
       "│ (\u001b[38;5;33mBatchNormalization\u001b[0m)                 │                             │                 │\n",
       "├──────────────────────────────────────┼─────────────────────────────┼─────────────────┤\n",
       "│ dense_99 (\u001b[38;5;33mDense\u001b[0m)                     │ (\u001b[38;5;45mNone\u001b[0m, \u001b[38;5;34m50\u001b[0m)                  │           \u001b[38;5;34m2,550\u001b[0m │\n",
       "├──────────────────────────────────────┼─────────────────────────────┼─────────────────┤\n",
       "│ dropout_53 (\u001b[38;5;33mDropout\u001b[0m)                 │ (\u001b[38;5;45mNone\u001b[0m, \u001b[38;5;34m50\u001b[0m)                  │               \u001b[38;5;34m0\u001b[0m │\n",
       "├──────────────────────────────────────┼─────────────────────────────┼─────────────────┤\n",
       "│ batch_normalization_53               │ (\u001b[38;5;45mNone\u001b[0m, \u001b[38;5;34m50\u001b[0m)                  │             \u001b[38;5;34m200\u001b[0m │\n",
       "│ (\u001b[38;5;33mBatchNormalization\u001b[0m)                 │                             │                 │\n",
       "├──────────────────────────────────────┼─────────────────────────────┼─────────────────┤\n",
       "│ dense_100 (\u001b[38;5;33mDense\u001b[0m)                    │ (\u001b[38;5;45mNone\u001b[0m, \u001b[38;5;34m50\u001b[0m)                  │           \u001b[38;5;34m2,550\u001b[0m │\n",
       "├──────────────────────────────────────┼─────────────────────────────┼─────────────────┤\n",
       "│ dropout_54 (\u001b[38;5;33mDropout\u001b[0m)                 │ (\u001b[38;5;45mNone\u001b[0m, \u001b[38;5;34m50\u001b[0m)                  │               \u001b[38;5;34m0\u001b[0m │\n",
       "├──────────────────────────────────────┼─────────────────────────────┼─────────────────┤\n",
       "│ batch_normalization_54               │ (\u001b[38;5;45mNone\u001b[0m, \u001b[38;5;34m50\u001b[0m)                  │             \u001b[38;5;34m200\u001b[0m │\n",
       "│ (\u001b[38;5;33mBatchNormalization\u001b[0m)                 │                             │                 │\n",
       "├──────────────────────────────────────┼─────────────────────────────┼─────────────────┤\n",
       "│ dense_101 (\u001b[38;5;33mDense\u001b[0m)                    │ (\u001b[38;5;45mNone\u001b[0m, \u001b[38;5;34m1\u001b[0m)                   │              \u001b[38;5;34m51\u001b[0m │\n",
       "└──────────────────────────────────────┴─────────────────────────────┴─────────────────┘\n"
      ]
     },
     "metadata": {},
     "output_type": "display_data"
    },
    {
     "data": {
      "text/html": [
       "<pre style=\"white-space:pre;overflow-x:auto;line-height:normal;font-family:Menlo,'DejaVu Sans Mono',consolas,'Courier New',monospace\"><span style=\"font-weight: bold\"> Total params: </span><span style=\"color: #00af00; text-decoration-color: #00af00\">34,301</span> (133.99 KB)\n",
       "</pre>\n"
      ],
      "text/plain": [
       "\u001b[1m Total params: \u001b[0m\u001b[38;5;34m34,301\u001b[0m (133.99 KB)\n"
      ]
     },
     "metadata": {},
     "output_type": "display_data"
    },
    {
     "data": {
      "text/html": [
       "<pre style=\"white-space:pre;overflow-x:auto;line-height:normal;font-family:Menlo,'DejaVu Sans Mono',consolas,'Courier New',monospace\"><span style=\"font-weight: bold\"> Trainable params: </span><span style=\"color: #00af00; text-decoration-color: #00af00\">33,401</span> (130.47 KB)\n",
       "</pre>\n"
      ],
      "text/plain": [
       "\u001b[1m Trainable params: \u001b[0m\u001b[38;5;34m33,401\u001b[0m (130.47 KB)\n"
      ]
     },
     "metadata": {},
     "output_type": "display_data"
    },
    {
     "data": {
      "text/html": [
       "<pre style=\"white-space:pre;overflow-x:auto;line-height:normal;font-family:Menlo,'DejaVu Sans Mono',consolas,'Courier New',monospace\"><span style=\"font-weight: bold\"> Non-trainable params: </span><span style=\"color: #00af00; text-decoration-color: #00af00\">900</span> (3.52 KB)\n",
       "</pre>\n"
      ],
      "text/plain": [
       "\u001b[1m Non-trainable params: \u001b[0m\u001b[38;5;34m900\u001b[0m (3.52 KB)\n"
      ]
     },
     "metadata": {},
     "output_type": "display_data"
    },
    {
     "name": "stdout",
     "output_type": "stream",
     "text": [
      "\n",
      "Model_SGD8\n"
     ]
    },
    {
     "data": {
      "text/html": [
       "<pre style=\"white-space:pre;overflow-x:auto;line-height:normal;font-family:Menlo,'DejaVu Sans Mono',consolas,'Courier New',monospace\"><span style=\"font-weight: bold\">Model: \"sequential_17\"</span>\n",
       "</pre>\n"
      ],
      "text/plain": [
       "\u001b[1mModel: \"sequential_17\"\u001b[0m\n"
      ]
     },
     "metadata": {},
     "output_type": "display_data"
    },
    {
     "data": {
      "text/html": [
       "<pre style=\"white-space:pre;overflow-x:auto;line-height:normal;font-family:Menlo,'DejaVu Sans Mono',consolas,'Courier New',monospace\">┏━━━━━━━━━━━━━━━━━━━━━━━━━━━━━━━━━━━━━━┳━━━━━━━━━━━━━━━━━━━━━━━━━━━━━┳━━━━━━━━━━━━━━━━━┓\n",
       "┃<span style=\"font-weight: bold\"> Layer (type)                         </span>┃<span style=\"font-weight: bold\"> Output Shape                </span>┃<span style=\"font-weight: bold\">         Param # </span>┃\n",
       "┡━━━━━━━━━━━━━━━━━━━━━━━━━━━━━━━━━━━━━━╇━━━━━━━━━━━━━━━━━━━━━━━━━━━━━╇━━━━━━━━━━━━━━━━━┩\n",
       "│ dense_102 (<span style=\"color: #0087ff; text-decoration-color: #0087ff\">Dense</span>)                    │ (<span style=\"color: #00d7ff; text-decoration-color: #00d7ff\">None</span>, <span style=\"color: #00af00; text-decoration-color: #00af00\">200</span>)                 │           <span style=\"color: #00af00; text-decoration-color: #00af00\">2,200</span> │\n",
       "├──────────────────────────────────────┼─────────────────────────────┼─────────────────┤\n",
       "│ dropout_55 (<span style=\"color: #0087ff; text-decoration-color: #0087ff\">Dropout</span>)                 │ (<span style=\"color: #00d7ff; text-decoration-color: #00d7ff\">None</span>, <span style=\"color: #00af00; text-decoration-color: #00af00\">200</span>)                 │               <span style=\"color: #00af00; text-decoration-color: #00af00\">0</span> │\n",
       "├──────────────────────────────────────┼─────────────────────────────┼─────────────────┤\n",
       "│ batch_normalization_55               │ (<span style=\"color: #00d7ff; text-decoration-color: #00d7ff\">None</span>, <span style=\"color: #00af00; text-decoration-color: #00af00\">200</span>)                 │             <span style=\"color: #00af00; text-decoration-color: #00af00\">800</span> │\n",
       "│ (<span style=\"color: #0087ff; text-decoration-color: #0087ff\">BatchNormalization</span>)                 │                             │                 │\n",
       "├──────────────────────────────────────┼─────────────────────────────┼─────────────────┤\n",
       "│ dense_103 (<span style=\"color: #0087ff; text-decoration-color: #0087ff\">Dense</span>)                    │ (<span style=\"color: #00d7ff; text-decoration-color: #00d7ff\">None</span>, <span style=\"color: #00af00; text-decoration-color: #00af00\">100</span>)                 │          <span style=\"color: #00af00; text-decoration-color: #00af00\">20,100</span> │\n",
       "├──────────────────────────────────────┼─────────────────────────────┼─────────────────┤\n",
       "│ dropout_56 (<span style=\"color: #0087ff; text-decoration-color: #0087ff\">Dropout</span>)                 │ (<span style=\"color: #00d7ff; text-decoration-color: #00d7ff\">None</span>, <span style=\"color: #00af00; text-decoration-color: #00af00\">100</span>)                 │               <span style=\"color: #00af00; text-decoration-color: #00af00\">0</span> │\n",
       "├──────────────────────────────────────┼─────────────────────────────┼─────────────────┤\n",
       "│ batch_normalization_56               │ (<span style=\"color: #00d7ff; text-decoration-color: #00d7ff\">None</span>, <span style=\"color: #00af00; text-decoration-color: #00af00\">100</span>)                 │             <span style=\"color: #00af00; text-decoration-color: #00af00\">400</span> │\n",
       "│ (<span style=\"color: #0087ff; text-decoration-color: #0087ff\">BatchNormalization</span>)                 │                             │                 │\n",
       "├──────────────────────────────────────┼─────────────────────────────┼─────────────────┤\n",
       "│ dense_104 (<span style=\"color: #0087ff; text-decoration-color: #0087ff\">Dense</span>)                    │ (<span style=\"color: #00d7ff; text-decoration-color: #00d7ff\">None</span>, <span style=\"color: #00af00; text-decoration-color: #00af00\">50</span>)                  │           <span style=\"color: #00af00; text-decoration-color: #00af00\">5,050</span> │\n",
       "├──────────────────────────────────────┼─────────────────────────────┼─────────────────┤\n",
       "│ dropout_57 (<span style=\"color: #0087ff; text-decoration-color: #0087ff\">Dropout</span>)                 │ (<span style=\"color: #00d7ff; text-decoration-color: #00d7ff\">None</span>, <span style=\"color: #00af00; text-decoration-color: #00af00\">50</span>)                  │               <span style=\"color: #00af00; text-decoration-color: #00af00\">0</span> │\n",
       "├──────────────────────────────────────┼─────────────────────────────┼─────────────────┤\n",
       "│ batch_normalization_57               │ (<span style=\"color: #00d7ff; text-decoration-color: #00d7ff\">None</span>, <span style=\"color: #00af00; text-decoration-color: #00af00\">50</span>)                  │             <span style=\"color: #00af00; text-decoration-color: #00af00\">200</span> │\n",
       "│ (<span style=\"color: #0087ff; text-decoration-color: #0087ff\">BatchNormalization</span>)                 │                             │                 │\n",
       "├──────────────────────────────────────┼─────────────────────────────┼─────────────────┤\n",
       "│ dense_105 (<span style=\"color: #0087ff; text-decoration-color: #0087ff\">Dense</span>)                    │ (<span style=\"color: #00d7ff; text-decoration-color: #00d7ff\">None</span>, <span style=\"color: #00af00; text-decoration-color: #00af00\">50</span>)                  │           <span style=\"color: #00af00; text-decoration-color: #00af00\">2,550</span> │\n",
       "├──────────────────────────────────────┼─────────────────────────────┼─────────────────┤\n",
       "│ dropout_58 (<span style=\"color: #0087ff; text-decoration-color: #0087ff\">Dropout</span>)                 │ (<span style=\"color: #00d7ff; text-decoration-color: #00d7ff\">None</span>, <span style=\"color: #00af00; text-decoration-color: #00af00\">50</span>)                  │               <span style=\"color: #00af00; text-decoration-color: #00af00\">0</span> │\n",
       "├──────────────────────────────────────┼─────────────────────────────┼─────────────────┤\n",
       "│ batch_normalization_58               │ (<span style=\"color: #00d7ff; text-decoration-color: #00d7ff\">None</span>, <span style=\"color: #00af00; text-decoration-color: #00af00\">50</span>)                  │             <span style=\"color: #00af00; text-decoration-color: #00af00\">200</span> │\n",
       "│ (<span style=\"color: #0087ff; text-decoration-color: #0087ff\">BatchNormalization</span>)                 │                             │                 │\n",
       "├──────────────────────────────────────┼─────────────────────────────┼─────────────────┤\n",
       "│ dense_106 (<span style=\"color: #0087ff; text-decoration-color: #0087ff\">Dense</span>)                    │ (<span style=\"color: #00d7ff; text-decoration-color: #00d7ff\">None</span>, <span style=\"color: #00af00; text-decoration-color: #00af00\">50</span>)                  │           <span style=\"color: #00af00; text-decoration-color: #00af00\">2,550</span> │\n",
       "├──────────────────────────────────────┼─────────────────────────────┼─────────────────┤\n",
       "│ dropout_59 (<span style=\"color: #0087ff; text-decoration-color: #0087ff\">Dropout</span>)                 │ (<span style=\"color: #00d7ff; text-decoration-color: #00d7ff\">None</span>, <span style=\"color: #00af00; text-decoration-color: #00af00\">50</span>)                  │               <span style=\"color: #00af00; text-decoration-color: #00af00\">0</span> │\n",
       "├──────────────────────────────────────┼─────────────────────────────┼─────────────────┤\n",
       "│ batch_normalization_59               │ (<span style=\"color: #00d7ff; text-decoration-color: #00d7ff\">None</span>, <span style=\"color: #00af00; text-decoration-color: #00af00\">50</span>)                  │             <span style=\"color: #00af00; text-decoration-color: #00af00\">200</span> │\n",
       "│ (<span style=\"color: #0087ff; text-decoration-color: #0087ff\">BatchNormalization</span>)                 │                             │                 │\n",
       "├──────────────────────────────────────┼─────────────────────────────┼─────────────────┤\n",
       "│ dense_107 (<span style=\"color: #0087ff; text-decoration-color: #0087ff\">Dense</span>)                    │ (<span style=\"color: #00d7ff; text-decoration-color: #00d7ff\">None</span>, <span style=\"color: #00af00; text-decoration-color: #00af00\">1</span>)                   │              <span style=\"color: #00af00; text-decoration-color: #00af00\">51</span> │\n",
       "└──────────────────────────────────────┴─────────────────────────────┴─────────────────┘\n",
       "</pre>\n"
      ],
      "text/plain": [
       "┏━━━━━━━━━━━━━━━━━━━━━━━━━━━━━━━━━━━━━━┳━━━━━━━━━━━━━━━━━━━━━━━━━━━━━┳━━━━━━━━━━━━━━━━━┓\n",
       "┃\u001b[1m \u001b[0m\u001b[1mLayer (type)                        \u001b[0m\u001b[1m \u001b[0m┃\u001b[1m \u001b[0m\u001b[1mOutput Shape               \u001b[0m\u001b[1m \u001b[0m┃\u001b[1m \u001b[0m\u001b[1m        Param #\u001b[0m\u001b[1m \u001b[0m┃\n",
       "┡━━━━━━━━━━━━━━━━━━━━━━━━━━━━━━━━━━━━━━╇━━━━━━━━━━━━━━━━━━━━━━━━━━━━━╇━━━━━━━━━━━━━━━━━┩\n",
       "│ dense_102 (\u001b[38;5;33mDense\u001b[0m)                    │ (\u001b[38;5;45mNone\u001b[0m, \u001b[38;5;34m200\u001b[0m)                 │           \u001b[38;5;34m2,200\u001b[0m │\n",
       "├──────────────────────────────────────┼─────────────────────────────┼─────────────────┤\n",
       "│ dropout_55 (\u001b[38;5;33mDropout\u001b[0m)                 │ (\u001b[38;5;45mNone\u001b[0m, \u001b[38;5;34m200\u001b[0m)                 │               \u001b[38;5;34m0\u001b[0m │\n",
       "├──────────────────────────────────────┼─────────────────────────────┼─────────────────┤\n",
       "│ batch_normalization_55               │ (\u001b[38;5;45mNone\u001b[0m, \u001b[38;5;34m200\u001b[0m)                 │             \u001b[38;5;34m800\u001b[0m │\n",
       "│ (\u001b[38;5;33mBatchNormalization\u001b[0m)                 │                             │                 │\n",
       "├──────────────────────────────────────┼─────────────────────────────┼─────────────────┤\n",
       "│ dense_103 (\u001b[38;5;33mDense\u001b[0m)                    │ (\u001b[38;5;45mNone\u001b[0m, \u001b[38;5;34m100\u001b[0m)                 │          \u001b[38;5;34m20,100\u001b[0m │\n",
       "├──────────────────────────────────────┼─────────────────────────────┼─────────────────┤\n",
       "│ dropout_56 (\u001b[38;5;33mDropout\u001b[0m)                 │ (\u001b[38;5;45mNone\u001b[0m, \u001b[38;5;34m100\u001b[0m)                 │               \u001b[38;5;34m0\u001b[0m │\n",
       "├──────────────────────────────────────┼─────────────────────────────┼─────────────────┤\n",
       "│ batch_normalization_56               │ (\u001b[38;5;45mNone\u001b[0m, \u001b[38;5;34m100\u001b[0m)                 │             \u001b[38;5;34m400\u001b[0m │\n",
       "│ (\u001b[38;5;33mBatchNormalization\u001b[0m)                 │                             │                 │\n",
       "├──────────────────────────────────────┼─────────────────────────────┼─────────────────┤\n",
       "│ dense_104 (\u001b[38;5;33mDense\u001b[0m)                    │ (\u001b[38;5;45mNone\u001b[0m, \u001b[38;5;34m50\u001b[0m)                  │           \u001b[38;5;34m5,050\u001b[0m │\n",
       "├──────────────────────────────────────┼─────────────────────────────┼─────────────────┤\n",
       "│ dropout_57 (\u001b[38;5;33mDropout\u001b[0m)                 │ (\u001b[38;5;45mNone\u001b[0m, \u001b[38;5;34m50\u001b[0m)                  │               \u001b[38;5;34m0\u001b[0m │\n",
       "├──────────────────────────────────────┼─────────────────────────────┼─────────────────┤\n",
       "│ batch_normalization_57               │ (\u001b[38;5;45mNone\u001b[0m, \u001b[38;5;34m50\u001b[0m)                  │             \u001b[38;5;34m200\u001b[0m │\n",
       "│ (\u001b[38;5;33mBatchNormalization\u001b[0m)                 │                             │                 │\n",
       "├──────────────────────────────────────┼─────────────────────────────┼─────────────────┤\n",
       "│ dense_105 (\u001b[38;5;33mDense\u001b[0m)                    │ (\u001b[38;5;45mNone\u001b[0m, \u001b[38;5;34m50\u001b[0m)                  │           \u001b[38;5;34m2,550\u001b[0m │\n",
       "├──────────────────────────────────────┼─────────────────────────────┼─────────────────┤\n",
       "│ dropout_58 (\u001b[38;5;33mDropout\u001b[0m)                 │ (\u001b[38;5;45mNone\u001b[0m, \u001b[38;5;34m50\u001b[0m)                  │               \u001b[38;5;34m0\u001b[0m │\n",
       "├──────────────────────────────────────┼─────────────────────────────┼─────────────────┤\n",
       "│ batch_normalization_58               │ (\u001b[38;5;45mNone\u001b[0m, \u001b[38;5;34m50\u001b[0m)                  │             \u001b[38;5;34m200\u001b[0m │\n",
       "│ (\u001b[38;5;33mBatchNormalization\u001b[0m)                 │                             │                 │\n",
       "├──────────────────────────────────────┼─────────────────────────────┼─────────────────┤\n",
       "│ dense_106 (\u001b[38;5;33mDense\u001b[0m)                    │ (\u001b[38;5;45mNone\u001b[0m, \u001b[38;5;34m50\u001b[0m)                  │           \u001b[38;5;34m2,550\u001b[0m │\n",
       "├──────────────────────────────────────┼─────────────────────────────┼─────────────────┤\n",
       "│ dropout_59 (\u001b[38;5;33mDropout\u001b[0m)                 │ (\u001b[38;5;45mNone\u001b[0m, \u001b[38;5;34m50\u001b[0m)                  │               \u001b[38;5;34m0\u001b[0m │\n",
       "├──────────────────────────────────────┼─────────────────────────────┼─────────────────┤\n",
       "│ batch_normalization_59               │ (\u001b[38;5;45mNone\u001b[0m, \u001b[38;5;34m50\u001b[0m)                  │             \u001b[38;5;34m200\u001b[0m │\n",
       "│ (\u001b[38;5;33mBatchNormalization\u001b[0m)                 │                             │                 │\n",
       "├──────────────────────────────────────┼─────────────────────────────┼─────────────────┤\n",
       "│ dense_107 (\u001b[38;5;33mDense\u001b[0m)                    │ (\u001b[38;5;45mNone\u001b[0m, \u001b[38;5;34m1\u001b[0m)                   │              \u001b[38;5;34m51\u001b[0m │\n",
       "└──────────────────────────────────────┴─────────────────────────────┴─────────────────┘\n"
      ]
     },
     "metadata": {},
     "output_type": "display_data"
    },
    {
     "data": {
      "text/html": [
       "<pre style=\"white-space:pre;overflow-x:auto;line-height:normal;font-family:Menlo,'DejaVu Sans Mono',consolas,'Courier New',monospace\"><span style=\"font-weight: bold\"> Total params: </span><span style=\"color: #00af00; text-decoration-color: #00af00\">34,301</span> (133.99 KB)\n",
       "</pre>\n"
      ],
      "text/plain": [
       "\u001b[1m Total params: \u001b[0m\u001b[38;5;34m34,301\u001b[0m (133.99 KB)\n"
      ]
     },
     "metadata": {},
     "output_type": "display_data"
    },
    {
     "data": {
      "text/html": [
       "<pre style=\"white-space:pre;overflow-x:auto;line-height:normal;font-family:Menlo,'DejaVu Sans Mono',consolas,'Courier New',monospace\"><span style=\"font-weight: bold\"> Trainable params: </span><span style=\"color: #00af00; text-decoration-color: #00af00\">33,401</span> (130.47 KB)\n",
       "</pre>\n"
      ],
      "text/plain": [
       "\u001b[1m Trainable params: \u001b[0m\u001b[38;5;34m33,401\u001b[0m (130.47 KB)\n"
      ]
     },
     "metadata": {},
     "output_type": "display_data"
    },
    {
     "data": {
      "text/html": [
       "<pre style=\"white-space:pre;overflow-x:auto;line-height:normal;font-family:Menlo,'DejaVu Sans Mono',consolas,'Courier New',monospace\"><span style=\"font-weight: bold\"> Non-trainable params: </span><span style=\"color: #00af00; text-decoration-color: #00af00\">900</span> (3.52 KB)\n",
       "</pre>\n"
      ],
      "text/plain": [
       "\u001b[1m Non-trainable params: \u001b[0m\u001b[38;5;34m900\u001b[0m (3.52 KB)\n"
      ]
     },
     "metadata": {},
     "output_type": "display_data"
    },
    {
     "name": "stdout",
     "output_type": "stream",
     "text": [
      "\n",
      "Model_SGD9\n"
     ]
    },
    {
     "data": {
      "text/html": [
       "<pre style=\"white-space:pre;overflow-x:auto;line-height:normal;font-family:Menlo,'DejaVu Sans Mono',consolas,'Courier New',monospace\"><span style=\"font-weight: bold\">Model: \"sequential_18\"</span>\n",
       "</pre>\n"
      ],
      "text/plain": [
       "\u001b[1mModel: \"sequential_18\"\u001b[0m\n"
      ]
     },
     "metadata": {},
     "output_type": "display_data"
    },
    {
     "data": {
      "text/html": [
       "<pre style=\"white-space:pre;overflow-x:auto;line-height:normal;font-family:Menlo,'DejaVu Sans Mono',consolas,'Courier New',monospace\">┏━━━━━━━━━━━━━━━━━━━━━━━━━━━━━━━━━━━━━━┳━━━━━━━━━━━━━━━━━━━━━━━━━━━━━┳━━━━━━━━━━━━━━━━━┓\n",
       "┃<span style=\"font-weight: bold\"> Layer (type)                         </span>┃<span style=\"font-weight: bold\"> Output Shape                </span>┃<span style=\"font-weight: bold\">         Param # </span>┃\n",
       "┡━━━━━━━━━━━━━━━━━━━━━━━━━━━━━━━━━━━━━━╇━━━━━━━━━━━━━━━━━━━━━━━━━━━━━╇━━━━━━━━━━━━━━━━━┩\n",
       "│ dense_108 (<span style=\"color: #0087ff; text-decoration-color: #0087ff\">Dense</span>)                    │ (<span style=\"color: #00d7ff; text-decoration-color: #00d7ff\">None</span>, <span style=\"color: #00af00; text-decoration-color: #00af00\">200</span>)                 │           <span style=\"color: #00af00; text-decoration-color: #00af00\">2,200</span> │\n",
       "├──────────────────────────────────────┼─────────────────────────────┼─────────────────┤\n",
       "│ dropout_60 (<span style=\"color: #0087ff; text-decoration-color: #0087ff\">Dropout</span>)                 │ (<span style=\"color: #00d7ff; text-decoration-color: #00d7ff\">None</span>, <span style=\"color: #00af00; text-decoration-color: #00af00\">200</span>)                 │               <span style=\"color: #00af00; text-decoration-color: #00af00\">0</span> │\n",
       "├──────────────────────────────────────┼─────────────────────────────┼─────────────────┤\n",
       "│ batch_normalization_60               │ (<span style=\"color: #00d7ff; text-decoration-color: #00d7ff\">None</span>, <span style=\"color: #00af00; text-decoration-color: #00af00\">200</span>)                 │             <span style=\"color: #00af00; text-decoration-color: #00af00\">800</span> │\n",
       "│ (<span style=\"color: #0087ff; text-decoration-color: #0087ff\">BatchNormalization</span>)                 │                             │                 │\n",
       "├──────────────────────────────────────┼─────────────────────────────┼─────────────────┤\n",
       "│ dense_109 (<span style=\"color: #0087ff; text-decoration-color: #0087ff\">Dense</span>)                    │ (<span style=\"color: #00d7ff; text-decoration-color: #00d7ff\">None</span>, <span style=\"color: #00af00; text-decoration-color: #00af00\">100</span>)                 │          <span style=\"color: #00af00; text-decoration-color: #00af00\">20,100</span> │\n",
       "├──────────────────────────────────────┼─────────────────────────────┼─────────────────┤\n",
       "│ dropout_61 (<span style=\"color: #0087ff; text-decoration-color: #0087ff\">Dropout</span>)                 │ (<span style=\"color: #00d7ff; text-decoration-color: #00d7ff\">None</span>, <span style=\"color: #00af00; text-decoration-color: #00af00\">100</span>)                 │               <span style=\"color: #00af00; text-decoration-color: #00af00\">0</span> │\n",
       "├──────────────────────────────────────┼─────────────────────────────┼─────────────────┤\n",
       "│ batch_normalization_61               │ (<span style=\"color: #00d7ff; text-decoration-color: #00d7ff\">None</span>, <span style=\"color: #00af00; text-decoration-color: #00af00\">100</span>)                 │             <span style=\"color: #00af00; text-decoration-color: #00af00\">400</span> │\n",
       "│ (<span style=\"color: #0087ff; text-decoration-color: #0087ff\">BatchNormalization</span>)                 │                             │                 │\n",
       "├──────────────────────────────────────┼─────────────────────────────┼─────────────────┤\n",
       "│ dense_110 (<span style=\"color: #0087ff; text-decoration-color: #0087ff\">Dense</span>)                    │ (<span style=\"color: #00d7ff; text-decoration-color: #00d7ff\">None</span>, <span style=\"color: #00af00; text-decoration-color: #00af00\">50</span>)                  │           <span style=\"color: #00af00; text-decoration-color: #00af00\">5,050</span> │\n",
       "├──────────────────────────────────────┼─────────────────────────────┼─────────────────┤\n",
       "│ dropout_62 (<span style=\"color: #0087ff; text-decoration-color: #0087ff\">Dropout</span>)                 │ (<span style=\"color: #00d7ff; text-decoration-color: #00d7ff\">None</span>, <span style=\"color: #00af00; text-decoration-color: #00af00\">50</span>)                  │               <span style=\"color: #00af00; text-decoration-color: #00af00\">0</span> │\n",
       "├──────────────────────────────────────┼─────────────────────────────┼─────────────────┤\n",
       "│ batch_normalization_62               │ (<span style=\"color: #00d7ff; text-decoration-color: #00d7ff\">None</span>, <span style=\"color: #00af00; text-decoration-color: #00af00\">50</span>)                  │             <span style=\"color: #00af00; text-decoration-color: #00af00\">200</span> │\n",
       "│ (<span style=\"color: #0087ff; text-decoration-color: #0087ff\">BatchNormalization</span>)                 │                             │                 │\n",
       "├──────────────────────────────────────┼─────────────────────────────┼─────────────────┤\n",
       "│ dense_111 (<span style=\"color: #0087ff; text-decoration-color: #0087ff\">Dense</span>)                    │ (<span style=\"color: #00d7ff; text-decoration-color: #00d7ff\">None</span>, <span style=\"color: #00af00; text-decoration-color: #00af00\">50</span>)                  │           <span style=\"color: #00af00; text-decoration-color: #00af00\">2,550</span> │\n",
       "├──────────────────────────────────────┼─────────────────────────────┼─────────────────┤\n",
       "│ dropout_63 (<span style=\"color: #0087ff; text-decoration-color: #0087ff\">Dropout</span>)                 │ (<span style=\"color: #00d7ff; text-decoration-color: #00d7ff\">None</span>, <span style=\"color: #00af00; text-decoration-color: #00af00\">50</span>)                  │               <span style=\"color: #00af00; text-decoration-color: #00af00\">0</span> │\n",
       "├──────────────────────────────────────┼─────────────────────────────┼─────────────────┤\n",
       "│ batch_normalization_63               │ (<span style=\"color: #00d7ff; text-decoration-color: #00d7ff\">None</span>, <span style=\"color: #00af00; text-decoration-color: #00af00\">50</span>)                  │             <span style=\"color: #00af00; text-decoration-color: #00af00\">200</span> │\n",
       "│ (<span style=\"color: #0087ff; text-decoration-color: #0087ff\">BatchNormalization</span>)                 │                             │                 │\n",
       "├──────────────────────────────────────┼─────────────────────────────┼─────────────────┤\n",
       "│ dense_112 (<span style=\"color: #0087ff; text-decoration-color: #0087ff\">Dense</span>)                    │ (<span style=\"color: #00d7ff; text-decoration-color: #00d7ff\">None</span>, <span style=\"color: #00af00; text-decoration-color: #00af00\">50</span>)                  │           <span style=\"color: #00af00; text-decoration-color: #00af00\">2,550</span> │\n",
       "├──────────────────────────────────────┼─────────────────────────────┼─────────────────┤\n",
       "│ dropout_64 (<span style=\"color: #0087ff; text-decoration-color: #0087ff\">Dropout</span>)                 │ (<span style=\"color: #00d7ff; text-decoration-color: #00d7ff\">None</span>, <span style=\"color: #00af00; text-decoration-color: #00af00\">50</span>)                  │               <span style=\"color: #00af00; text-decoration-color: #00af00\">0</span> │\n",
       "├──────────────────────────────────────┼─────────────────────────────┼─────────────────┤\n",
       "│ batch_normalization_64               │ (<span style=\"color: #00d7ff; text-decoration-color: #00d7ff\">None</span>, <span style=\"color: #00af00; text-decoration-color: #00af00\">50</span>)                  │             <span style=\"color: #00af00; text-decoration-color: #00af00\">200</span> │\n",
       "│ (<span style=\"color: #0087ff; text-decoration-color: #0087ff\">BatchNormalization</span>)                 │                             │                 │\n",
       "├──────────────────────────────────────┼─────────────────────────────┼─────────────────┤\n",
       "│ dense_113 (<span style=\"color: #0087ff; text-decoration-color: #0087ff\">Dense</span>)                    │ (<span style=\"color: #00d7ff; text-decoration-color: #00d7ff\">None</span>, <span style=\"color: #00af00; text-decoration-color: #00af00\">1</span>)                   │              <span style=\"color: #00af00; text-decoration-color: #00af00\">51</span> │\n",
       "└──────────────────────────────────────┴─────────────────────────────┴─────────────────┘\n",
       "</pre>\n"
      ],
      "text/plain": [
       "┏━━━━━━━━━━━━━━━━━━━━━━━━━━━━━━━━━━━━━━┳━━━━━━━━━━━━━━━━━━━━━━━━━━━━━┳━━━━━━━━━━━━━━━━━┓\n",
       "┃\u001b[1m \u001b[0m\u001b[1mLayer (type)                        \u001b[0m\u001b[1m \u001b[0m┃\u001b[1m \u001b[0m\u001b[1mOutput Shape               \u001b[0m\u001b[1m \u001b[0m┃\u001b[1m \u001b[0m\u001b[1m        Param #\u001b[0m\u001b[1m \u001b[0m┃\n",
       "┡━━━━━━━━━━━━━━━━━━━━━━━━━━━━━━━━━━━━━━╇━━━━━━━━━━━━━━━━━━━━━━━━━━━━━╇━━━━━━━━━━━━━━━━━┩\n",
       "│ dense_108 (\u001b[38;5;33mDense\u001b[0m)                    │ (\u001b[38;5;45mNone\u001b[0m, \u001b[38;5;34m200\u001b[0m)                 │           \u001b[38;5;34m2,200\u001b[0m │\n",
       "├──────────────────────────────────────┼─────────────────────────────┼─────────────────┤\n",
       "│ dropout_60 (\u001b[38;5;33mDropout\u001b[0m)                 │ (\u001b[38;5;45mNone\u001b[0m, \u001b[38;5;34m200\u001b[0m)                 │               \u001b[38;5;34m0\u001b[0m │\n",
       "├──────────────────────────────────────┼─────────────────────────────┼─────────────────┤\n",
       "│ batch_normalization_60               │ (\u001b[38;5;45mNone\u001b[0m, \u001b[38;5;34m200\u001b[0m)                 │             \u001b[38;5;34m800\u001b[0m │\n",
       "│ (\u001b[38;5;33mBatchNormalization\u001b[0m)                 │                             │                 │\n",
       "├──────────────────────────────────────┼─────────────────────────────┼─────────────────┤\n",
       "│ dense_109 (\u001b[38;5;33mDense\u001b[0m)                    │ (\u001b[38;5;45mNone\u001b[0m, \u001b[38;5;34m100\u001b[0m)                 │          \u001b[38;5;34m20,100\u001b[0m │\n",
       "├──────────────────────────────────────┼─────────────────────────────┼─────────────────┤\n",
       "│ dropout_61 (\u001b[38;5;33mDropout\u001b[0m)                 │ (\u001b[38;5;45mNone\u001b[0m, \u001b[38;5;34m100\u001b[0m)                 │               \u001b[38;5;34m0\u001b[0m │\n",
       "├──────────────────────────────────────┼─────────────────────────────┼─────────────────┤\n",
       "│ batch_normalization_61               │ (\u001b[38;5;45mNone\u001b[0m, \u001b[38;5;34m100\u001b[0m)                 │             \u001b[38;5;34m400\u001b[0m │\n",
       "│ (\u001b[38;5;33mBatchNormalization\u001b[0m)                 │                             │                 │\n",
       "├──────────────────────────────────────┼─────────────────────────────┼─────────────────┤\n",
       "│ dense_110 (\u001b[38;5;33mDense\u001b[0m)                    │ (\u001b[38;5;45mNone\u001b[0m, \u001b[38;5;34m50\u001b[0m)                  │           \u001b[38;5;34m5,050\u001b[0m │\n",
       "├──────────────────────────────────────┼─────────────────────────────┼─────────────────┤\n",
       "│ dropout_62 (\u001b[38;5;33mDropout\u001b[0m)                 │ (\u001b[38;5;45mNone\u001b[0m, \u001b[38;5;34m50\u001b[0m)                  │               \u001b[38;5;34m0\u001b[0m │\n",
       "├──────────────────────────────────────┼─────────────────────────────┼─────────────────┤\n",
       "│ batch_normalization_62               │ (\u001b[38;5;45mNone\u001b[0m, \u001b[38;5;34m50\u001b[0m)                  │             \u001b[38;5;34m200\u001b[0m │\n",
       "│ (\u001b[38;5;33mBatchNormalization\u001b[0m)                 │                             │                 │\n",
       "├──────────────────────────────────────┼─────────────────────────────┼─────────────────┤\n",
       "│ dense_111 (\u001b[38;5;33mDense\u001b[0m)                    │ (\u001b[38;5;45mNone\u001b[0m, \u001b[38;5;34m50\u001b[0m)                  │           \u001b[38;5;34m2,550\u001b[0m │\n",
       "├──────────────────────────────────────┼─────────────────────────────┼─────────────────┤\n",
       "│ dropout_63 (\u001b[38;5;33mDropout\u001b[0m)                 │ (\u001b[38;5;45mNone\u001b[0m, \u001b[38;5;34m50\u001b[0m)                  │               \u001b[38;5;34m0\u001b[0m │\n",
       "├──────────────────────────────────────┼─────────────────────────────┼─────────────────┤\n",
       "│ batch_normalization_63               │ (\u001b[38;5;45mNone\u001b[0m, \u001b[38;5;34m50\u001b[0m)                  │             \u001b[38;5;34m200\u001b[0m │\n",
       "│ (\u001b[38;5;33mBatchNormalization\u001b[0m)                 │                             │                 │\n",
       "├──────────────────────────────────────┼─────────────────────────────┼─────────────────┤\n",
       "│ dense_112 (\u001b[38;5;33mDense\u001b[0m)                    │ (\u001b[38;5;45mNone\u001b[0m, \u001b[38;5;34m50\u001b[0m)                  │           \u001b[38;5;34m2,550\u001b[0m │\n",
       "├──────────────────────────────────────┼─────────────────────────────┼─────────────────┤\n",
       "│ dropout_64 (\u001b[38;5;33mDropout\u001b[0m)                 │ (\u001b[38;5;45mNone\u001b[0m, \u001b[38;5;34m50\u001b[0m)                  │               \u001b[38;5;34m0\u001b[0m │\n",
       "├──────────────────────────────────────┼─────────────────────────────┼─────────────────┤\n",
       "│ batch_normalization_64               │ (\u001b[38;5;45mNone\u001b[0m, \u001b[38;5;34m50\u001b[0m)                  │             \u001b[38;5;34m200\u001b[0m │\n",
       "│ (\u001b[38;5;33mBatchNormalization\u001b[0m)                 │                             │                 │\n",
       "├──────────────────────────────────────┼─────────────────────────────┼─────────────────┤\n",
       "│ dense_113 (\u001b[38;5;33mDense\u001b[0m)                    │ (\u001b[38;5;45mNone\u001b[0m, \u001b[38;5;34m1\u001b[0m)                   │              \u001b[38;5;34m51\u001b[0m │\n",
       "└──────────────────────────────────────┴─────────────────────────────┴─────────────────┘\n"
      ]
     },
     "metadata": {},
     "output_type": "display_data"
    },
    {
     "data": {
      "text/html": [
       "<pre style=\"white-space:pre;overflow-x:auto;line-height:normal;font-family:Menlo,'DejaVu Sans Mono',consolas,'Courier New',monospace\"><span style=\"font-weight: bold\"> Total params: </span><span style=\"color: #00af00; text-decoration-color: #00af00\">34,301</span> (133.99 KB)\n",
       "</pre>\n"
      ],
      "text/plain": [
       "\u001b[1m Total params: \u001b[0m\u001b[38;5;34m34,301\u001b[0m (133.99 KB)\n"
      ]
     },
     "metadata": {},
     "output_type": "display_data"
    },
    {
     "data": {
      "text/html": [
       "<pre style=\"white-space:pre;overflow-x:auto;line-height:normal;font-family:Menlo,'DejaVu Sans Mono',consolas,'Courier New',monospace\"><span style=\"font-weight: bold\"> Trainable params: </span><span style=\"color: #00af00; text-decoration-color: #00af00\">33,401</span> (130.47 KB)\n",
       "</pre>\n"
      ],
      "text/plain": [
       "\u001b[1m Trainable params: \u001b[0m\u001b[38;5;34m33,401\u001b[0m (130.47 KB)\n"
      ]
     },
     "metadata": {},
     "output_type": "display_data"
    },
    {
     "data": {
      "text/html": [
       "<pre style=\"white-space:pre;overflow-x:auto;line-height:normal;font-family:Menlo,'DejaVu Sans Mono',consolas,'Courier New',monospace\"><span style=\"font-weight: bold\"> Non-trainable params: </span><span style=\"color: #00af00; text-decoration-color: #00af00\">900</span> (3.52 KB)\n",
       "</pre>\n"
      ],
      "text/plain": [
       "\u001b[1m Non-trainable params: \u001b[0m\u001b[38;5;34m900\u001b[0m (3.52 KB)\n"
      ]
     },
     "metadata": {},
     "output_type": "display_data"
    },
    {
     "name": "stdout",
     "output_type": "stream",
     "text": [
      "\n",
      "Model_SGD10\n"
     ]
    },
    {
     "data": {
      "text/html": [
       "<pre style=\"white-space:pre;overflow-x:auto;line-height:normal;font-family:Menlo,'DejaVu Sans Mono',consolas,'Courier New',monospace\"><span style=\"font-weight: bold\">Model: \"sequential_19\"</span>\n",
       "</pre>\n"
      ],
      "text/plain": [
       "\u001b[1mModel: \"sequential_19\"\u001b[0m\n"
      ]
     },
     "metadata": {},
     "output_type": "display_data"
    },
    {
     "data": {
      "text/html": [
       "<pre style=\"white-space:pre;overflow-x:auto;line-height:normal;font-family:Menlo,'DejaVu Sans Mono',consolas,'Courier New',monospace\">┏━━━━━━━━━━━━━━━━━━━━━━━━━━━━━━━━━━━━━━┳━━━━━━━━━━━━━━━━━━━━━━━━━━━━━┳━━━━━━━━━━━━━━━━━┓\n",
       "┃<span style=\"font-weight: bold\"> Layer (type)                         </span>┃<span style=\"font-weight: bold\"> Output Shape                </span>┃<span style=\"font-weight: bold\">         Param # </span>┃\n",
       "┡━━━━━━━━━━━━━━━━━━━━━━━━━━━━━━━━━━━━━━╇━━━━━━━━━━━━━━━━━━━━━━━━━━━━━╇━━━━━━━━━━━━━━━━━┩\n",
       "│ dense_114 (<span style=\"color: #0087ff; text-decoration-color: #0087ff\">Dense</span>)                    │ (<span style=\"color: #00d7ff; text-decoration-color: #00d7ff\">None</span>, <span style=\"color: #00af00; text-decoration-color: #00af00\">200</span>)                 │           <span style=\"color: #00af00; text-decoration-color: #00af00\">2,200</span> │\n",
       "├──────────────────────────────────────┼─────────────────────────────┼─────────────────┤\n",
       "│ dropout_65 (<span style=\"color: #0087ff; text-decoration-color: #0087ff\">Dropout</span>)                 │ (<span style=\"color: #00d7ff; text-decoration-color: #00d7ff\">None</span>, <span style=\"color: #00af00; text-decoration-color: #00af00\">200</span>)                 │               <span style=\"color: #00af00; text-decoration-color: #00af00\">0</span> │\n",
       "├──────────────────────────────────────┼─────────────────────────────┼─────────────────┤\n",
       "│ batch_normalization_65               │ (<span style=\"color: #00d7ff; text-decoration-color: #00d7ff\">None</span>, <span style=\"color: #00af00; text-decoration-color: #00af00\">200</span>)                 │             <span style=\"color: #00af00; text-decoration-color: #00af00\">800</span> │\n",
       "│ (<span style=\"color: #0087ff; text-decoration-color: #0087ff\">BatchNormalization</span>)                 │                             │                 │\n",
       "├──────────────────────────────────────┼─────────────────────────────┼─────────────────┤\n",
       "│ dense_115 (<span style=\"color: #0087ff; text-decoration-color: #0087ff\">Dense</span>)                    │ (<span style=\"color: #00d7ff; text-decoration-color: #00d7ff\">None</span>, <span style=\"color: #00af00; text-decoration-color: #00af00\">100</span>)                 │          <span style=\"color: #00af00; text-decoration-color: #00af00\">20,100</span> │\n",
       "├──────────────────────────────────────┼─────────────────────────────┼─────────────────┤\n",
       "│ dropout_66 (<span style=\"color: #0087ff; text-decoration-color: #0087ff\">Dropout</span>)                 │ (<span style=\"color: #00d7ff; text-decoration-color: #00d7ff\">None</span>, <span style=\"color: #00af00; text-decoration-color: #00af00\">100</span>)                 │               <span style=\"color: #00af00; text-decoration-color: #00af00\">0</span> │\n",
       "├──────────────────────────────────────┼─────────────────────────────┼─────────────────┤\n",
       "│ batch_normalization_66               │ (<span style=\"color: #00d7ff; text-decoration-color: #00d7ff\">None</span>, <span style=\"color: #00af00; text-decoration-color: #00af00\">100</span>)                 │             <span style=\"color: #00af00; text-decoration-color: #00af00\">400</span> │\n",
       "│ (<span style=\"color: #0087ff; text-decoration-color: #0087ff\">BatchNormalization</span>)                 │                             │                 │\n",
       "├──────────────────────────────────────┼─────────────────────────────┼─────────────────┤\n",
       "│ dense_116 (<span style=\"color: #0087ff; text-decoration-color: #0087ff\">Dense</span>)                    │ (<span style=\"color: #00d7ff; text-decoration-color: #00d7ff\">None</span>, <span style=\"color: #00af00; text-decoration-color: #00af00\">50</span>)                  │           <span style=\"color: #00af00; text-decoration-color: #00af00\">5,050</span> │\n",
       "├──────────────────────────────────────┼─────────────────────────────┼─────────────────┤\n",
       "│ dropout_67 (<span style=\"color: #0087ff; text-decoration-color: #0087ff\">Dropout</span>)                 │ (<span style=\"color: #00d7ff; text-decoration-color: #00d7ff\">None</span>, <span style=\"color: #00af00; text-decoration-color: #00af00\">50</span>)                  │               <span style=\"color: #00af00; text-decoration-color: #00af00\">0</span> │\n",
       "├──────────────────────────────────────┼─────────────────────────────┼─────────────────┤\n",
       "│ batch_normalization_67               │ (<span style=\"color: #00d7ff; text-decoration-color: #00d7ff\">None</span>, <span style=\"color: #00af00; text-decoration-color: #00af00\">50</span>)                  │             <span style=\"color: #00af00; text-decoration-color: #00af00\">200</span> │\n",
       "│ (<span style=\"color: #0087ff; text-decoration-color: #0087ff\">BatchNormalization</span>)                 │                             │                 │\n",
       "├──────────────────────────────────────┼─────────────────────────────┼─────────────────┤\n",
       "│ dense_117 (<span style=\"color: #0087ff; text-decoration-color: #0087ff\">Dense</span>)                    │ (<span style=\"color: #00d7ff; text-decoration-color: #00d7ff\">None</span>, <span style=\"color: #00af00; text-decoration-color: #00af00\">50</span>)                  │           <span style=\"color: #00af00; text-decoration-color: #00af00\">2,550</span> │\n",
       "├──────────────────────────────────────┼─────────────────────────────┼─────────────────┤\n",
       "│ dropout_68 (<span style=\"color: #0087ff; text-decoration-color: #0087ff\">Dropout</span>)                 │ (<span style=\"color: #00d7ff; text-decoration-color: #00d7ff\">None</span>, <span style=\"color: #00af00; text-decoration-color: #00af00\">50</span>)                  │               <span style=\"color: #00af00; text-decoration-color: #00af00\">0</span> │\n",
       "├──────────────────────────────────────┼─────────────────────────────┼─────────────────┤\n",
       "│ batch_normalization_68               │ (<span style=\"color: #00d7ff; text-decoration-color: #00d7ff\">None</span>, <span style=\"color: #00af00; text-decoration-color: #00af00\">50</span>)                  │             <span style=\"color: #00af00; text-decoration-color: #00af00\">200</span> │\n",
       "│ (<span style=\"color: #0087ff; text-decoration-color: #0087ff\">BatchNormalization</span>)                 │                             │                 │\n",
       "├──────────────────────────────────────┼─────────────────────────────┼─────────────────┤\n",
       "│ dense_118 (<span style=\"color: #0087ff; text-decoration-color: #0087ff\">Dense</span>)                    │ (<span style=\"color: #00d7ff; text-decoration-color: #00d7ff\">None</span>, <span style=\"color: #00af00; text-decoration-color: #00af00\">50</span>)                  │           <span style=\"color: #00af00; text-decoration-color: #00af00\">2,550</span> │\n",
       "├──────────────────────────────────────┼─────────────────────────────┼─────────────────┤\n",
       "│ dropout_69 (<span style=\"color: #0087ff; text-decoration-color: #0087ff\">Dropout</span>)                 │ (<span style=\"color: #00d7ff; text-decoration-color: #00d7ff\">None</span>, <span style=\"color: #00af00; text-decoration-color: #00af00\">50</span>)                  │               <span style=\"color: #00af00; text-decoration-color: #00af00\">0</span> │\n",
       "├──────────────────────────────────────┼─────────────────────────────┼─────────────────┤\n",
       "│ batch_normalization_69               │ (<span style=\"color: #00d7ff; text-decoration-color: #00d7ff\">None</span>, <span style=\"color: #00af00; text-decoration-color: #00af00\">50</span>)                  │             <span style=\"color: #00af00; text-decoration-color: #00af00\">200</span> │\n",
       "│ (<span style=\"color: #0087ff; text-decoration-color: #0087ff\">BatchNormalization</span>)                 │                             │                 │\n",
       "├──────────────────────────────────────┼─────────────────────────────┼─────────────────┤\n",
       "│ dense_119 (<span style=\"color: #0087ff; text-decoration-color: #0087ff\">Dense</span>)                    │ (<span style=\"color: #00d7ff; text-decoration-color: #00d7ff\">None</span>, <span style=\"color: #00af00; text-decoration-color: #00af00\">1</span>)                   │              <span style=\"color: #00af00; text-decoration-color: #00af00\">51</span> │\n",
       "└──────────────────────────────────────┴─────────────────────────────┴─────────────────┘\n",
       "</pre>\n"
      ],
      "text/plain": [
       "┏━━━━━━━━━━━━━━━━━━━━━━━━━━━━━━━━━━━━━━┳━━━━━━━━━━━━━━━━━━━━━━━━━━━━━┳━━━━━━━━━━━━━━━━━┓\n",
       "┃\u001b[1m \u001b[0m\u001b[1mLayer (type)                        \u001b[0m\u001b[1m \u001b[0m┃\u001b[1m \u001b[0m\u001b[1mOutput Shape               \u001b[0m\u001b[1m \u001b[0m┃\u001b[1m \u001b[0m\u001b[1m        Param #\u001b[0m\u001b[1m \u001b[0m┃\n",
       "┡━━━━━━━━━━━━━━━━━━━━━━━━━━━━━━━━━━━━━━╇━━━━━━━━━━━━━━━━━━━━━━━━━━━━━╇━━━━━━━━━━━━━━━━━┩\n",
       "│ dense_114 (\u001b[38;5;33mDense\u001b[0m)                    │ (\u001b[38;5;45mNone\u001b[0m, \u001b[38;5;34m200\u001b[0m)                 │           \u001b[38;5;34m2,200\u001b[0m │\n",
       "├──────────────────────────────────────┼─────────────────────────────┼─────────────────┤\n",
       "│ dropout_65 (\u001b[38;5;33mDropout\u001b[0m)                 │ (\u001b[38;5;45mNone\u001b[0m, \u001b[38;5;34m200\u001b[0m)                 │               \u001b[38;5;34m0\u001b[0m │\n",
       "├──────────────────────────────────────┼─────────────────────────────┼─────────────────┤\n",
       "│ batch_normalization_65               │ (\u001b[38;5;45mNone\u001b[0m, \u001b[38;5;34m200\u001b[0m)                 │             \u001b[38;5;34m800\u001b[0m │\n",
       "│ (\u001b[38;5;33mBatchNormalization\u001b[0m)                 │                             │                 │\n",
       "├──────────────────────────────────────┼─────────────────────────────┼─────────────────┤\n",
       "│ dense_115 (\u001b[38;5;33mDense\u001b[0m)                    │ (\u001b[38;5;45mNone\u001b[0m, \u001b[38;5;34m100\u001b[0m)                 │          \u001b[38;5;34m20,100\u001b[0m │\n",
       "├──────────────────────────────────────┼─────────────────────────────┼─────────────────┤\n",
       "│ dropout_66 (\u001b[38;5;33mDropout\u001b[0m)                 │ (\u001b[38;5;45mNone\u001b[0m, \u001b[38;5;34m100\u001b[0m)                 │               \u001b[38;5;34m0\u001b[0m │\n",
       "├──────────────────────────────────────┼─────────────────────────────┼─────────────────┤\n",
       "│ batch_normalization_66               │ (\u001b[38;5;45mNone\u001b[0m, \u001b[38;5;34m100\u001b[0m)                 │             \u001b[38;5;34m400\u001b[0m │\n",
       "│ (\u001b[38;5;33mBatchNormalization\u001b[0m)                 │                             │                 │\n",
       "├──────────────────────────────────────┼─────────────────────────────┼─────────────────┤\n",
       "│ dense_116 (\u001b[38;5;33mDense\u001b[0m)                    │ (\u001b[38;5;45mNone\u001b[0m, \u001b[38;5;34m50\u001b[0m)                  │           \u001b[38;5;34m5,050\u001b[0m │\n",
       "├──────────────────────────────────────┼─────────────────────────────┼─────────────────┤\n",
       "│ dropout_67 (\u001b[38;5;33mDropout\u001b[0m)                 │ (\u001b[38;5;45mNone\u001b[0m, \u001b[38;5;34m50\u001b[0m)                  │               \u001b[38;5;34m0\u001b[0m │\n",
       "├──────────────────────────────────────┼─────────────────────────────┼─────────────────┤\n",
       "│ batch_normalization_67               │ (\u001b[38;5;45mNone\u001b[0m, \u001b[38;5;34m50\u001b[0m)                  │             \u001b[38;5;34m200\u001b[0m │\n",
       "│ (\u001b[38;5;33mBatchNormalization\u001b[0m)                 │                             │                 │\n",
       "├──────────────────────────────────────┼─────────────────────────────┼─────────────────┤\n",
       "│ dense_117 (\u001b[38;5;33mDense\u001b[0m)                    │ (\u001b[38;5;45mNone\u001b[0m, \u001b[38;5;34m50\u001b[0m)                  │           \u001b[38;5;34m2,550\u001b[0m │\n",
       "├──────────────────────────────────────┼─────────────────────────────┼─────────────────┤\n",
       "│ dropout_68 (\u001b[38;5;33mDropout\u001b[0m)                 │ (\u001b[38;5;45mNone\u001b[0m, \u001b[38;5;34m50\u001b[0m)                  │               \u001b[38;5;34m0\u001b[0m │\n",
       "├──────────────────────────────────────┼─────────────────────────────┼─────────────────┤\n",
       "│ batch_normalization_68               │ (\u001b[38;5;45mNone\u001b[0m, \u001b[38;5;34m50\u001b[0m)                  │             \u001b[38;5;34m200\u001b[0m │\n",
       "│ (\u001b[38;5;33mBatchNormalization\u001b[0m)                 │                             │                 │\n",
       "├──────────────────────────────────────┼─────────────────────────────┼─────────────────┤\n",
       "│ dense_118 (\u001b[38;5;33mDense\u001b[0m)                    │ (\u001b[38;5;45mNone\u001b[0m, \u001b[38;5;34m50\u001b[0m)                  │           \u001b[38;5;34m2,550\u001b[0m │\n",
       "├──────────────────────────────────────┼─────────────────────────────┼─────────────────┤\n",
       "│ dropout_69 (\u001b[38;5;33mDropout\u001b[0m)                 │ (\u001b[38;5;45mNone\u001b[0m, \u001b[38;5;34m50\u001b[0m)                  │               \u001b[38;5;34m0\u001b[0m │\n",
       "├──────────────────────────────────────┼─────────────────────────────┼─────────────────┤\n",
       "│ batch_normalization_69               │ (\u001b[38;5;45mNone\u001b[0m, \u001b[38;5;34m50\u001b[0m)                  │             \u001b[38;5;34m200\u001b[0m │\n",
       "│ (\u001b[38;5;33mBatchNormalization\u001b[0m)                 │                             │                 │\n",
       "├──────────────────────────────────────┼─────────────────────────────┼─────────────────┤\n",
       "│ dense_119 (\u001b[38;5;33mDense\u001b[0m)                    │ (\u001b[38;5;45mNone\u001b[0m, \u001b[38;5;34m1\u001b[0m)                   │              \u001b[38;5;34m51\u001b[0m │\n",
       "└──────────────────────────────────────┴─────────────────────────────┴─────────────────┘\n"
      ]
     },
     "metadata": {},
     "output_type": "display_data"
    },
    {
     "data": {
      "text/html": [
       "<pre style=\"white-space:pre;overflow-x:auto;line-height:normal;font-family:Menlo,'DejaVu Sans Mono',consolas,'Courier New',monospace\"><span style=\"font-weight: bold\"> Total params: </span><span style=\"color: #00af00; text-decoration-color: #00af00\">34,301</span> (133.99 KB)\n",
       "</pre>\n"
      ],
      "text/plain": [
       "\u001b[1m Total params: \u001b[0m\u001b[38;5;34m34,301\u001b[0m (133.99 KB)\n"
      ]
     },
     "metadata": {},
     "output_type": "display_data"
    },
    {
     "data": {
      "text/html": [
       "<pre style=\"white-space:pre;overflow-x:auto;line-height:normal;font-family:Menlo,'DejaVu Sans Mono',consolas,'Courier New',monospace\"><span style=\"font-weight: bold\"> Trainable params: </span><span style=\"color: #00af00; text-decoration-color: #00af00\">33,401</span> (130.47 KB)\n",
       "</pre>\n"
      ],
      "text/plain": [
       "\u001b[1m Trainable params: \u001b[0m\u001b[38;5;34m33,401\u001b[0m (130.47 KB)\n"
      ]
     },
     "metadata": {},
     "output_type": "display_data"
    },
    {
     "data": {
      "text/html": [
       "<pre style=\"white-space:pre;overflow-x:auto;line-height:normal;font-family:Menlo,'DejaVu Sans Mono',consolas,'Courier New',monospace\"><span style=\"font-weight: bold\"> Non-trainable params: </span><span style=\"color: #00af00; text-decoration-color: #00af00\">900</span> (3.52 KB)\n",
       "</pre>\n"
      ],
      "text/plain": [
       "\u001b[1m Non-trainable params: \u001b[0m\u001b[38;5;34m900\u001b[0m (3.52 KB)\n"
      ]
     },
     "metadata": {},
     "output_type": "display_data"
    }
   ],
   "source": [
    "for pos, model in enumerate(all_sgd_models):\n",
    "    print('\\nModel_SGD'+str(pos+1))\n",
    "    model.summary()"
   ]
  },
  {
   "attachments": {
    "d799f9b9-8b7f-458d-8ea3-7f8d191e7b77.png": {
     "image/png": "[encoded data removed]"
    }
   },
   "cell_type": "markdown",
   "id": "0a6ab3aa-a8c3-4870-a9b1-45bd8801acee",
   "metadata": {},
   "source": [
    "### 9.4 Train the Model\n",
    "\n",
    "![image.png](attachment:d799f9b9-8b7f-458d-8ea3-7f8d191e7b77.png)"
   ]
  },
  {
   "cell_type": "code",
   "execution_count": 85,
   "id": "5f5dc8d3-258d-4197-8926-f9127da8e276",
   "metadata": {
    "scrolled": true
   },
   "outputs": [
    {
     "name": "stdout",
     "output_type": "stream",
     "text": [
      "Model_ADM1\n",
      "Epoch 1/10\n",
      "\u001b[1m54/54\u001b[0m \u001b[32m━━━━━━━━━━━━━━━━━━━━\u001b[0m\u001b[37m\u001b[0m \u001b[1m0s\u001b[0m 6ms/step - loss: 758.9569 - mean_squared_error: 1176625.6250 - r2_score: 0.5918 - val_loss: 735.0422 - val_mean_squared_error: 1071510.0000 - val_r2_score: 0.6058\n",
      "Epoch 2/10\n",
      "\u001b[1m54/54\u001b[0m \u001b[32m━━━━━━━━━━━━━━━━━━━━\u001b[0m\u001b[37m\u001b[0m \u001b[1m0s\u001b[0m 6ms/step - loss: 754.0210 - mean_squared_error: 1158488.3750 - r2_score: 0.6146 - val_loss: 713.4155 - val_mean_squared_error: 1068377.1250 - val_r2_score: 0.6069\n",
      "Epoch 3/10\n",
      "\u001b[1m54/54\u001b[0m \u001b[32m━━━━━━━━━━━━━━━━━━━━\u001b[0m\u001b[37m\u001b[0m \u001b[1m0s\u001b[0m 5ms/step - loss: 766.6650 - mean_squared_error: 1225780.6250 - r2_score: 0.5873 - val_loss: 731.3443 - val_mean_squared_error: 1055275.7500 - val_r2_score: 0.6117\n",
      "Epoch 4/10\n",
      "\u001b[1m54/54\u001b[0m \u001b[32m━━━━━━━━━━━━━━━━━━━━\u001b[0m\u001b[37m\u001b[0m \u001b[1m0s\u001b[0m 5ms/step - loss: 776.0526 - mean_squared_error: 1226647.8750 - r2_score: 0.5839 - val_loss: 715.2618 - val_mean_squared_error: 1035066.5625 - val_r2_score: 0.6192\n",
      "Epoch 5/10\n",
      "\u001b[1m54/54\u001b[0m \u001b[32m━━━━━━━━━━━━━━━━━━━━\u001b[0m\u001b[37m\u001b[0m \u001b[1m0s\u001b[0m 6ms/step - loss: 752.3829 - mean_squared_error: 1194117.5000 - r2_score: 0.6077 - val_loss: 719.4665 - val_mean_squared_error: 1036796.2500 - val_r2_score: 0.6185\n",
      "Epoch 6/10\n",
      "\u001b[1m54/54\u001b[0m \u001b[32m━━━━━━━━━━━━━━━━━━━━\u001b[0m\u001b[37m\u001b[0m \u001b[1m0s\u001b[0m 5ms/step - loss: 773.3987 - mean_squared_error: 1257644.5000 - r2_score: 0.5873 - val_loss: 737.9446 - val_mean_squared_error: 1076203.5000 - val_r2_score: 0.6040\n",
      "Epoch 7/10\n",
      "\u001b[1m54/54\u001b[0m \u001b[32m━━━━━━━━━━━━━━━━━━━━\u001b[0m\u001b[37m\u001b[0m \u001b[1m0s\u001b[0m 5ms/step - loss: 759.2432 - mean_squared_error: 1195111.8750 - r2_score: 0.6013 - val_loss: 709.5049 - val_mean_squared_error: 1032882.3125 - val_r2_score: 0.6200\n",
      "Epoch 8/10\n",
      "\u001b[1m54/54\u001b[0m \u001b[32m━━━━━━━━━━━━━━━━━━━━\u001b[0m\u001b[37m\u001b[0m \u001b[1m0s\u001b[0m 5ms/step - loss: 755.4250 - mean_squared_error: 1181144.3750 - r2_score: 0.5984 - val_loss: 717.8625 - val_mean_squared_error: 1041695.1250 - val_r2_score: 0.6167\n",
      "Epoch 9/10\n",
      "\u001b[1m54/54\u001b[0m \u001b[32m━━━━━━━━━━━━━━━━━━━━\u001b[0m\u001b[37m\u001b[0m \u001b[1m0s\u001b[0m 5ms/step - loss: 762.6486 - mean_squared_error: 1196708.7500 - r2_score: 0.5975 - val_loss: 712.6726 - val_mean_squared_error: 1069295.3750 - val_r2_score: 0.6066\n",
      "Epoch 10/10\n",
      "\u001b[1m54/54\u001b[0m \u001b[32m━━━━━━━━━━━━━━━━━━━━\u001b[0m\u001b[37m\u001b[0m \u001b[1m0s\u001b[0m 5ms/step - loss: 761.2512 - mean_squared_error: 1227034.3750 - r2_score: 0.5902 - val_loss: 715.3707 - val_mean_squared_error: 1074192.7500 - val_r2_score: 0.6048\n",
      "Model_ADM2\n",
      "Epoch 1/10\n",
      "\u001b[1m54/54\u001b[0m \u001b[32m━━━━━━━━━━━━━━━━━━━━\u001b[0m\u001b[37m\u001b[0m \u001b[1m0s\u001b[0m 6ms/step - loss: 741.8953 - mean_squared_error: 1146015.0000 - r2_score: 0.6031 - val_loss: 711.3317 - val_mean_squared_error: 1053278.8750 - val_r2_score: 0.6125\n",
      "Epoch 2/10\n",
      "\u001b[1m54/54\u001b[0m \u001b[32m━━━━━━━━━━━━━━━━━━━━\u001b[0m\u001b[37m\u001b[0m \u001b[1m0s\u001b[0m 5ms/step - loss: 749.9532 - mean_squared_error: 1179926.0000 - r2_score: 0.5960 - val_loss: 720.7618 - val_mean_squared_error: 1061823.0000 - val_r2_score: 0.6093\n",
      "Epoch 3/10\n",
      "\u001b[1m54/54\u001b[0m \u001b[32m━━━━━━━━━━━━━━━━━━━━\u001b[0m\u001b[37m\u001b[0m \u001b[1m0s\u001b[0m 6ms/step - loss: 754.1907 - mean_squared_error: 1194401.2500 - r2_score: 0.5869 - val_loss: 715.9354 - val_mean_squared_error: 1045657.7500 - val_r2_score: 0.6153\n",
      "Epoch 4/10\n",
      "\u001b[1m54/54\u001b[0m \u001b[32m━━━━━━━━━━━━━━━━━━━━\u001b[0m\u001b[37m\u001b[0m \u001b[1m0s\u001b[0m 5ms/step - loss: 744.9542 - mean_squared_error: 1156765.1250 - r2_score: 0.6050 - val_loss: 713.5578 - val_mean_squared_error: 1041877.1875 - val_r2_score: 0.6167\n",
      "Epoch 5/10\n",
      "\u001b[1m54/54\u001b[0m \u001b[32m━━━━━━━━━━━━━━━━━━━━\u001b[0m\u001b[37m\u001b[0m \u001b[1m0s\u001b[0m 5ms/step - loss: 758.3238 - mean_squared_error: 1160331.8750 - r2_score: 0.5973 - val_loss: 709.6884 - val_mean_squared_error: 1038164.9375 - val_r2_score: 0.6180\n",
      "Epoch 6/10\n",
      "\u001b[1m54/54\u001b[0m \u001b[32m━━━━━━━━━━━━━━━━━━━━\u001b[0m\u001b[37m\u001b[0m \u001b[1m0s\u001b[0m 6ms/step - loss: 769.8711 - mean_squared_error: 1227738.6250 - r2_score: 0.5970 - val_loss: 708.6495 - val_mean_squared_error: 1038815.6875 - val_r2_score: 0.6178\n",
      "Epoch 7/10\n",
      "\u001b[1m54/54\u001b[0m \u001b[32m━━━━━━━━━━━━━━━━━━━━\u001b[0m\u001b[37m\u001b[0m \u001b[1m0s\u001b[0m 6ms/step - loss: 765.7509 - mean_squared_error: 1248548.8750 - r2_score: 0.5978 - val_loss: 721.9639 - val_mean_squared_error: 1054704.5000 - val_r2_score: 0.6120\n",
      "Epoch 8/10\n",
      "\u001b[1m54/54\u001b[0m \u001b[32m━━━━━━━━━━━━━━━━━━━━\u001b[0m\u001b[37m\u001b[0m \u001b[1m0s\u001b[0m 5ms/step - loss: 759.2504 - mean_squared_error: 1201951.0000 - r2_score: 0.5837 - val_loss: 716.4727 - val_mean_squared_error: 1050854.3750 - val_r2_score: 0.6134\n",
      "Epoch 9/10\n",
      "\u001b[1m54/54\u001b[0m \u001b[32m━━━━━━━━━━━━━━━━━━━━\u001b[0m\u001b[37m\u001b[0m \u001b[1m0s\u001b[0m 6ms/step - loss: 750.4232 - mean_squared_error: 1184958.7500 - r2_score: 0.5964 - val_loss: 711.0740 - val_mean_squared_error: 1039614.9375 - val_r2_score: 0.6175\n",
      "Epoch 10/10\n",
      "\u001b[1m54/54\u001b[0m \u001b[32m━━━━━━━━━━━━━━━━━━━━\u001b[0m\u001b[37m\u001b[0m \u001b[1m0s\u001b[0m 6ms/step - loss: 751.6554 - mean_squared_error: 1173771.7500 - r2_score: 0.6001 - val_loss: 711.8649 - val_mean_squared_error: 1041187.0625 - val_r2_score: 0.6169\n",
      "Model_ADM3\n",
      "Epoch 1/20\n",
      "\u001b[1m54/54\u001b[0m \u001b[32m━━━━━━━━━━━━━━━━━━━━\u001b[0m\u001b[37m\u001b[0m \u001b[1m0s\u001b[0m 5ms/step - loss: 768.4365 - mean_squared_error: 1232991.1250 - r2_score: 0.5942 - val_loss: 710.9741 - val_mean_squared_error: 1043909.9375 - val_r2_score: 0.6159\n",
      "Epoch 2/20\n",
      "\u001b[1m54/54\u001b[0m \u001b[32m━━━━━━━━━━━━━━━━━━━━\u001b[0m\u001b[37m\u001b[0m \u001b[1m0s\u001b[0m 5ms/step - loss: 751.3890 - mean_squared_error: 1182071.8750 - r2_score: 0.5950 - val_loss: 710.4006 - val_mean_squared_error: 1044287.3125 - val_r2_score: 0.6158\n",
      "Epoch 3/20\n",
      "\u001b[1m54/54\u001b[0m \u001b[32m━━━━━━━━━━━━━━━━━━━━\u001b[0m\u001b[37m\u001b[0m \u001b[1m0s\u001b[0m 6ms/step - loss: 761.0129 - mean_squared_error: 1224717.7500 - r2_score: 0.5893 - val_loss: 712.3209 - val_mean_squared_error: 1049914.3750 - val_r2_score: 0.6137\n",
      "Epoch 4/20\n",
      "\u001b[1m54/54\u001b[0m \u001b[32m━━━━━━━━━━━━━━━━━━━━\u001b[0m\u001b[37m\u001b[0m \u001b[1m0s\u001b[0m 6ms/step - loss: 749.3726 - mean_squared_error: 1198620.1250 - r2_score: 0.5991 - val_loss: 712.2977 - val_mean_squared_error: 1051351.1250 - val_r2_score: 0.6132\n",
      "Epoch 5/20\n",
      "\u001b[1m54/54\u001b[0m \u001b[32m━━━━━━━━━━━━━━━━━━━━\u001b[0m\u001b[37m\u001b[0m \u001b[1m0s\u001b[0m 6ms/step - loss: 755.2153 - mean_squared_error: 1168474.3750 - r2_score: 0.6011 - val_loss: 713.4058 - val_mean_squared_error: 1037889.6875 - val_r2_score: 0.6181\n",
      "Epoch 6/20\n",
      "\u001b[1m54/54\u001b[0m \u001b[32m━━━━━━━━━━━━━━━━━━━━\u001b[0m\u001b[37m\u001b[0m \u001b[1m0s\u001b[0m 6ms/step - loss: 761.5057 - mean_squared_error: 1186191.2500 - r2_score: 0.5844 - val_loss: 717.2342 - val_mean_squared_error: 1048996.8750 - val_r2_score: 0.6141\n",
      "Epoch 7/20\n",
      "\u001b[1m54/54\u001b[0m \u001b[32m━━━━━━━━━━━━━━━━━━━━\u001b[0m\u001b[37m\u001b[0m \u001b[1m0s\u001b[0m 6ms/step - loss: 741.8593 - mean_squared_error: 1153434.5000 - r2_score: 0.6096 - val_loss: 712.9031 - val_mean_squared_error: 1043795.6875 - val_r2_score: 0.6160\n",
      "Epoch 8/20\n",
      "\u001b[1m54/54\u001b[0m \u001b[32m━━━━━━━━━━━━━━━━━━━━\u001b[0m\u001b[37m\u001b[0m \u001b[1m0s\u001b[0m 4ms/step - loss: 747.5632 - mean_squared_error: 1169019.5000 - r2_score: 0.6089 - val_loss: 714.4009 - val_mean_squared_error: 1057136.1250 - val_r2_score: 0.6111\n",
      "Epoch 9/20\n",
      "\u001b[1m54/54\u001b[0m \u001b[32m━━━━━━━━━━━━━━━━━━━━\u001b[0m\u001b[37m\u001b[0m \u001b[1m0s\u001b[0m 6ms/step - loss: 766.3738 - mean_squared_error: 1222425.5000 - r2_score: 0.5767 - val_loss: 712.1047 - val_mean_squared_error: 1059482.0000 - val_r2_score: 0.6102\n",
      "Epoch 10/20\n",
      "\u001b[1m54/54\u001b[0m \u001b[32m━━━━━━━━━━━━━━━━━━━━\u001b[0m\u001b[37m\u001b[0m \u001b[1m0s\u001b[0m 6ms/step - loss: 767.5045 - mean_squared_error: 1228679.3750 - r2_score: 0.5968 - val_loss: 715.1444 - val_mean_squared_error: 1072677.3750 - val_r2_score: 0.6053\n",
      "Epoch 11/20\n",
      "\u001b[1m54/54\u001b[0m \u001b[32m━━━━━━━━━━━━━━━━━━━━\u001b[0m\u001b[37m\u001b[0m \u001b[1m0s\u001b[0m 5ms/step - loss: 741.8762 - mean_squared_error: 1144182.2500 - r2_score: 0.6114 - val_loss: 716.9980 - val_mean_squared_error: 1045186.5000 - val_r2_score: 0.6155\n",
      "Epoch 12/20\n",
      "\u001b[1m54/54\u001b[0m \u001b[32m━━━━━━━━━━━━━━━━━━━━\u001b[0m\u001b[37m\u001b[0m \u001b[1m0s\u001b[0m 5ms/step - loss: 759.4227 - mean_squared_error: 1202654.1250 - r2_score: 0.6004 - val_loss: 711.0582 - val_mean_squared_error: 1041705.3750 - val_r2_score: 0.6167\n",
      "Epoch 13/20\n",
      "\u001b[1m54/54\u001b[0m \u001b[32m━━━━━━━━━━━━━━━━━━━━\u001b[0m\u001b[37m\u001b[0m \u001b[1m0s\u001b[0m 6ms/step - loss: 765.0269 - mean_squared_error: 1206596.1250 - r2_score: 0.6026 - val_loss: 720.4781 - val_mean_squared_error: 1046344.7500 - val_r2_score: 0.6150\n",
      "Epoch 14/20\n",
      "\u001b[1m54/54\u001b[0m \u001b[32m━━━━━━━━━━━━━━━━━━━━\u001b[0m\u001b[37m\u001b[0m \u001b[1m0s\u001b[0m 6ms/step - loss: 756.7624 - mean_squared_error: 1193917.1250 - r2_score: 0.5932 - val_loss: 723.8503 - val_mean_squared_error: 1057819.5000 - val_r2_score: 0.6108\n",
      "Epoch 15/20\n",
      "\u001b[1m54/54\u001b[0m \u001b[32m━━━━━━━━━━━━━━━━━━━━\u001b[0m\u001b[37m\u001b[0m \u001b[1m0s\u001b[0m 6ms/step - loss: 753.7669 - mean_squared_error: 1177705.7500 - r2_score: 0.5940 - val_loss: 743.0659 - val_mean_squared_error: 1098341.1250 - val_r2_score: 0.5959\n",
      "Epoch 16/20\n",
      "\u001b[1m54/54\u001b[0m \u001b[32m━━━━━━━━━━━━━━━━━━━━\u001b[0m\u001b[37m\u001b[0m \u001b[1m0s\u001b[0m 5ms/step - loss: 756.5129 - mean_squared_error: 1173781.8750 - r2_score: 0.6060 - val_loss: 713.3371 - val_mean_squared_error: 1043635.1875 - val_r2_score: 0.6160\n",
      "Epoch 17/20\n",
      "\u001b[1m54/54\u001b[0m \u001b[32m━━━━━━━━━━━━━━━━━━━━\u001b[0m\u001b[37m\u001b[0m \u001b[1m0s\u001b[0m 5ms/step - loss: 746.0153 - mean_squared_error: 1158271.0000 - r2_score: 0.6018 - val_loss: 712.5062 - val_mean_squared_error: 1053566.0000 - val_r2_score: 0.6124\n",
      "Epoch 18/20\n",
      "\u001b[1m54/54\u001b[0m \u001b[32m━━━━━━━━━━━━━━━━━━━━\u001b[0m\u001b[37m\u001b[0m \u001b[1m0s\u001b[0m 5ms/step - loss: 758.8289 - mean_squared_error: 1177243.2500 - r2_score: 0.5970 - val_loss: 713.3871 - val_mean_squared_error: 1040983.2500 - val_r2_score: 0.6170\n",
      "Epoch 19/20\n",
      "\u001b[1m54/54\u001b[0m \u001b[32m━━━━━━━━━━━━━━━━━━━━\u001b[0m\u001b[37m\u001b[0m \u001b[1m0s\u001b[0m 6ms/step - loss: 732.8876 - mean_squared_error: 1102272.6250 - r2_score: 0.6166 - val_loss: 711.3444 - val_mean_squared_error: 1044838.0000 - val_r2_score: 0.6156\n",
      "Epoch 20/20\n",
      "\u001b[1m54/54\u001b[0m \u001b[32m━━━━━━━━━━━━━━━━━━━━\u001b[0m\u001b[37m\u001b[0m \u001b[1m0s\u001b[0m 5ms/step - loss: 758.0759 - mean_squared_error: 1202554.0000 - r2_score: 0.6022 - val_loss: 711.3605 - val_mean_squared_error: 1039053.5625 - val_r2_score: 0.6177\n",
      "Model_ADM4\n",
      "Epoch 1/20\n",
      "\u001b[1m54/54\u001b[0m \u001b[32m━━━━━━━━━━━━━━━━━━━━\u001b[0m\u001b[37m\u001b[0m \u001b[1m1s\u001b[0m 9ms/step - loss: 912.2998 - mean_squared_error: 1878793.7500 - r2_score: 0.3551 - val_loss: 836.0299 - val_mean_squared_error: 1589202.7500 - val_r2_score: 0.4153\n",
      "Epoch 2/20\n",
      "\u001b[1m54/54\u001b[0m \u001b[32m━━━━━━━━━━━━━━━━━━━━\u001b[0m\u001b[37m\u001b[0m \u001b[1m1s\u001b[0m 9ms/step - loss: 923.5762 - mean_squared_error: 1955214.0000 - r2_score: 0.3601 - val_loss: 813.0032 - val_mean_squared_error: 1494208.2500 - val_r2_score: 0.4502\n",
      "Epoch 3/20\n",
      "\u001b[1m54/54\u001b[0m \u001b[32m━━━━━━━━━━━━━━━━━━━━\u001b[0m\u001b[37m\u001b[0m \u001b[1m1s\u001b[0m 9ms/step - loss: 914.9636 - mean_squared_error: 1888576.0000 - r2_score: 0.3692 - val_loss: 819.9398 - val_mean_squared_error: 1526682.2500 - val_r2_score: 0.4383\n",
      "Epoch 4/20\n",
      "\u001b[1m54/54\u001b[0m \u001b[32m━━━━━━━━━━━━━━━━━━━━\u001b[0m\u001b[37m\u001b[0m \u001b[1m1s\u001b[0m 9ms/step - loss: 887.6843 - mean_squared_error: 1733569.0000 - r2_score: 0.3947 - val_loss: 802.8077 - val_mean_squared_error: 1458814.8750 - val_r2_score: 0.4633\n",
      "Epoch 5/20\n",
      "\u001b[1m54/54\u001b[0m \u001b[32m━━━━━━━━━━━━━━━━━━━━\u001b[0m\u001b[37m\u001b[0m \u001b[1m1s\u001b[0m 9ms/step - loss: 893.7602 - mean_squared_error: 1751640.7500 - r2_score: 0.4118 - val_loss: 829.6169 - val_mean_squared_error: 1544572.6250 - val_r2_score: 0.4317\n",
      "Epoch 6/20\n",
      "\u001b[1m54/54\u001b[0m \u001b[32m━━━━━━━━━━━━━━━━━━━━\u001b[0m\u001b[37m\u001b[0m \u001b[1m1s\u001b[0m 9ms/step - loss: 873.7065 - mean_squared_error: 1712404.5000 - r2_score: 0.4190 - val_loss: 812.2577 - val_mean_squared_error: 1473730.5000 - val_r2_score: 0.4578\n",
      "Epoch 7/20\n",
      "\u001b[1m54/54\u001b[0m \u001b[32m━━━━━━━━━━━━━━━━━━━━\u001b[0m\u001b[37m\u001b[0m \u001b[1m1s\u001b[0m 9ms/step - loss: 861.6690 - mean_squared_error: 1662081.5000 - r2_score: 0.4377 - val_loss: 808.6549 - val_mean_squared_error: 1487010.6250 - val_r2_score: 0.4529\n",
      "Epoch 8/20\n",
      "\u001b[1m54/54\u001b[0m \u001b[32m━━━━━━━━━━━━━━━━━━━━\u001b[0m\u001b[37m\u001b[0m \u001b[1m0s\u001b[0m 8ms/step - loss: 850.2786 - mean_squared_error: 1609389.1250 - r2_score: 0.4473 - val_loss: 799.8696 - val_mean_squared_error: 1447144.6250 - val_r2_score: 0.4676\n",
      "Epoch 9/20\n",
      "\u001b[1m54/54\u001b[0m \u001b[32m━━━━━━━━━━━━━━━━━━━━\u001b[0m\u001b[37m\u001b[0m \u001b[1m1s\u001b[0m 10ms/step - loss: 877.2638 - mean_squared_error: 1689247.3750 - r2_score: 0.4428 - val_loss: 795.6851 - val_mean_squared_error: 1430099.0000 - val_r2_score: 0.4738\n",
      "Epoch 10/20\n",
      "\u001b[1m54/54\u001b[0m \u001b[32m━━━━━━━━━━━━━━━━━━━━\u001b[0m\u001b[37m\u001b[0m \u001b[1m1s\u001b[0m 9ms/step - loss: 873.0246 - mean_squared_error: 1660199.1250 - r2_score: 0.4384 - val_loss: 778.9917 - val_mean_squared_error: 1359389.8750 - val_r2_score: 0.4999\n",
      "Epoch 11/20\n",
      "\u001b[1m54/54\u001b[0m \u001b[32m━━━━━━━━━━━━━━━━━━━━\u001b[0m\u001b[37m\u001b[0m \u001b[1m1s\u001b[0m 9ms/step - loss: 840.8617 - mean_squared_error: 1562178.1250 - r2_score: 0.4729 - val_loss: 797.6370 - val_mean_squared_error: 1427260.3750 - val_r2_score: 0.4749\n",
      "Epoch 12/20\n",
      "\u001b[1m54/54\u001b[0m \u001b[32m━━━━━━━━━━━━━━━━━━━━\u001b[0m\u001b[37m\u001b[0m \u001b[1m1s\u001b[0m 9ms/step - loss: 851.7371 - mean_squared_error: 1588327.1250 - r2_score: 0.4598 - val_loss: 775.8560 - val_mean_squared_error: 1343780.1250 - val_r2_score: 0.5056\n",
      "Epoch 13/20\n",
      "\u001b[1m54/54\u001b[0m \u001b[32m━━━━━━━━━━━━━━━━━━━━\u001b[0m\u001b[37m\u001b[0m \u001b[1m0s\u001b[0m 8ms/step - loss: 844.1192 - mean_squared_error: 1523688.2500 - r2_score: 0.4693 - val_loss: 757.3411 - val_mean_squared_error: 1273441.6250 - val_r2_score: 0.5315\n",
      "Epoch 14/20\n",
      "\u001b[1m54/54\u001b[0m \u001b[32m━━━━━━━━━━━━━━━━━━━━\u001b[0m\u001b[37m\u001b[0m \u001b[1m1s\u001b[0m 9ms/step - loss: 837.9661 - mean_squared_error: 1529501.5000 - r2_score: 0.4815 - val_loss: 762.2733 - val_mean_squared_error: 1282174.8750 - val_r2_score: 0.5283\n",
      "Epoch 15/20\n",
      "\u001b[1m54/54\u001b[0m \u001b[32m━━━━━━━━━━━━━━━━━━━━\u001b[0m\u001b[37m\u001b[0m \u001b[1m0s\u001b[0m 8ms/step - loss: 831.5204 - mean_squared_error: 1488380.1250 - r2_score: 0.4908 - val_loss: 754.1190 - val_mean_squared_error: 1261404.5000 - val_r2_score: 0.5359\n",
      "Epoch 16/20\n",
      "\u001b[1m54/54\u001b[0m \u001b[32m━━━━━━━━━━━━━━━━━━━━\u001b[0m\u001b[37m\u001b[0m \u001b[1m1s\u001b[0m 10ms/step - loss: 840.1622 - mean_squared_error: 1468968.6250 - r2_score: 0.4868 - val_loss: 759.0300 - val_mean_squared_error: 1262029.0000 - val_r2_score: 0.5357\n",
      "Epoch 17/20\n",
      "\u001b[1m54/54\u001b[0m \u001b[32m━━━━━━━━━━━━━━━━━━━━\u001b[0m\u001b[37m\u001b[0m \u001b[1m0s\u001b[0m 8ms/step - loss: 809.0819 - mean_squared_error: 1383309.7500 - r2_score: 0.5147 - val_loss: 763.9134 - val_mean_squared_error: 1284432.5000 - val_r2_score: 0.5274\n",
      "Epoch 18/20\n",
      "\u001b[1m54/54\u001b[0m \u001b[32m━━━━━━━━━━━━━━━━━━━━\u001b[0m\u001b[37m\u001b[0m \u001b[1m0s\u001b[0m 8ms/step - loss: 814.7923 - mean_squared_error: 1406245.8750 - r2_score: 0.5127 - val_loss: 754.2408 - val_mean_squared_error: 1255962.8750 - val_r2_score: 0.5379\n",
      "Epoch 19/20\n",
      "\u001b[1m54/54\u001b[0m \u001b[32m━━━━━━━━━━━━━━━━━━━━\u001b[0m\u001b[37m\u001b[0m \u001b[1m1s\u001b[0m 9ms/step - loss: 833.1341 - mean_squared_error: 1482538.3750 - r2_score: 0.5158 - val_loss: 756.9500 - val_mean_squared_error: 1262846.3750 - val_r2_score: 0.5354\n",
      "Epoch 20/20\n",
      "\u001b[1m54/54\u001b[0m \u001b[32m━━━━━━━━━━━━━━━━━━━━\u001b[0m\u001b[37m\u001b[0m \u001b[1m0s\u001b[0m 8ms/step - loss: 814.9017 - mean_squared_error: 1409049.2500 - r2_score: 0.5207 - val_loss: 734.7285 - val_mean_squared_error: 1177117.5000 - val_r2_score: 0.5669\n",
      "Model_ADM5\n",
      "Epoch 1/20\n",
      "\u001b[1m54/54\u001b[0m \u001b[32m━━━━━━━━━━━━━━━━━━━━\u001b[0m\u001b[37m\u001b[0m \u001b[1m1s\u001b[0m 12ms/step - loss: 905.7170 - mean_squared_error: 1868501.2500 - r2_score: 0.3709 - val_loss: 818.9724 - val_mean_squared_error: 1518536.2500 - val_r2_score: 0.4413\n",
      "Epoch 2/20\n",
      "\u001b[1m54/54\u001b[0m \u001b[32m━━━━━━━━━━━━━━━━━━━━\u001b[0m\u001b[37m\u001b[0m \u001b[1m1s\u001b[0m 10ms/step - loss: 900.1206 - mean_squared_error: 1844879.3750 - r2_score: 0.3809 - val_loss: 835.7297 - val_mean_squared_error: 1585384.0000 - val_r2_score: 0.4167\n",
      "Epoch 3/20\n",
      "\u001b[1m54/54\u001b[0m \u001b[32m━━━━━━━━━━━━━━━━━━━━\u001b[0m\u001b[37m\u001b[0m \u001b[1m1s\u001b[0m 11ms/step - loss: 901.5750 - mean_squared_error: 1821189.8750 - r2_score: 0.3942 - val_loss: 811.1594 - val_mean_squared_error: 1483701.3750 - val_r2_score: 0.4541\n",
      "Epoch 4/20\n",
      "\u001b[1m54/54\u001b[0m \u001b[32m━━━━━━━━━━━━━━━━━━━━\u001b[0m\u001b[37m\u001b[0m \u001b[1m1s\u001b[0m 10ms/step - loss: 883.4844 - mean_squared_error: 1722771.5000 - r2_score: 0.4126 - val_loss: 820.5250 - val_mean_squared_error: 1507996.2500 - val_r2_score: 0.4452\n",
      "Epoch 5/20\n",
      "\u001b[1m54/54\u001b[0m \u001b[32m━━━━━━━━━━━━━━━━━━━━\u001b[0m\u001b[37m\u001b[0m \u001b[1m1s\u001b[0m 12ms/step - loss: 881.0894 - mean_squared_error: 1694881.2500 - r2_score: 0.4077 - val_loss: 814.0729 - val_mean_squared_error: 1502608.0000 - val_r2_score: 0.4472\n",
      "Epoch 6/20\n",
      "\u001b[1m54/54\u001b[0m \u001b[32m━━━━━━━━━━━━━━━━━━━━\u001b[0m\u001b[37m\u001b[0m \u001b[1m1s\u001b[0m 10ms/step - loss: 872.0795 - mean_squared_error: 1712309.2500 - r2_score: 0.4266 - val_loss: 793.7209 - val_mean_squared_error: 1414082.2500 - val_r2_score: 0.4797\n",
      "Epoch 7/20\n",
      "\u001b[1m54/54\u001b[0m \u001b[32m━━━━━━━━━━━━━━━━━━━━\u001b[0m\u001b[37m\u001b[0m \u001b[1m1s\u001b[0m 12ms/step - loss: 864.2092 - mean_squared_error: 1673941.5000 - r2_score: 0.4346 - val_loss: 803.3937 - val_mean_squared_error: 1444507.8750 - val_r2_score: 0.4685\n",
      "Epoch 8/20\n",
      "\u001b[1m54/54\u001b[0m \u001b[32m━━━━━━━━━━━━━━━━━━━━\u001b[0m\u001b[37m\u001b[0m \u001b[1m1s\u001b[0m 11ms/step - loss: 869.7229 - mean_squared_error: 1694819.7500 - r2_score: 0.4505 - val_loss: 767.3426 - val_mean_squared_error: 1316399.7500 - val_r2_score: 0.5157\n",
      "Epoch 9/20\n",
      "\u001b[1m54/54\u001b[0m \u001b[32m━━━━━━━━━━━━━━━━━━━━\u001b[0m\u001b[37m\u001b[0m \u001b[1m1s\u001b[0m 10ms/step - loss: 848.8164 - mean_squared_error: 1627137.5000 - r2_score: 0.4559 - val_loss: 787.3575 - val_mean_squared_error: 1395609.1250 - val_r2_score: 0.4865\n",
      "Epoch 10/20\n",
      "\u001b[1m54/54\u001b[0m \u001b[32m━━━━━━━━━━━━━━━━━━━━\u001b[0m\u001b[37m\u001b[0m \u001b[1m1s\u001b[0m 11ms/step - loss: 853.3288 - mean_squared_error: 1608204.1250 - r2_score: 0.4598 - val_loss: 784.1191 - val_mean_squared_error: 1363995.7500 - val_r2_score: 0.4982\n",
      "Epoch 11/20\n",
      "\u001b[1m54/54\u001b[0m \u001b[32m━━━━━━━━━━━━━━━━━━━━\u001b[0m\u001b[37m\u001b[0m \u001b[1m1s\u001b[0m 11ms/step - loss: 834.6013 - mean_squared_error: 1522236.7500 - r2_score: 0.4760 - val_loss: 758.8000 - val_mean_squared_error: 1276589.2500 - val_r2_score: 0.5303\n",
      "Epoch 12/20\n",
      "\u001b[1m54/54\u001b[0m \u001b[32m━━━━━━━━━━━━━━━━━━━━\u001b[0m\u001b[37m\u001b[0m \u001b[1m1s\u001b[0m 11ms/step - loss: 830.0140 - mean_squared_error: 1527753.8750 - r2_score: 0.4871 - val_loss: 742.8199 - val_mean_squared_error: 1227845.3750 - val_r2_score: 0.5482\n",
      "Epoch 13/20\n",
      "\u001b[1m54/54\u001b[0m \u001b[32m━━━━━━━━━━━━━━━━━━━━\u001b[0m\u001b[37m\u001b[0m \u001b[1m1s\u001b[0m 10ms/step - loss: 835.7228 - mean_squared_error: 1492378.6250 - r2_score: 0.4874 - val_loss: 742.6472 - val_mean_squared_error: 1209800.8750 - val_r2_score: 0.5549\n",
      "Epoch 14/20\n",
      "\u001b[1m54/54\u001b[0m \u001b[32m━━━━━━━━━━━━━━━━━━━━\u001b[0m\u001b[37m\u001b[0m \u001b[1m1s\u001b[0m 10ms/step - loss: 844.7418 - mean_squared_error: 1532910.8750 - r2_score: 0.4915 - val_loss: 786.1661 - val_mean_squared_error: 1363711.3750 - val_r2_score: 0.4983\n",
      "Epoch 15/20\n",
      "\u001b[1m54/54\u001b[0m \u001b[32m━━━━━━━━━━━━━━━━━━━━\u001b[0m\u001b[37m\u001b[0m \u001b[1m1s\u001b[0m 11ms/step - loss: 797.2540 - mean_squared_error: 1364085.5000 - r2_score: 0.5113 - val_loss: 755.2166 - val_mean_squared_error: 1253925.1250 - val_r2_score: 0.5387\n",
      "Epoch 16/20\n",
      "\u001b[1m54/54\u001b[0m \u001b[32m━━━━━━━━━━━━━━━━━━━━\u001b[0m\u001b[37m\u001b[0m \u001b[1m1s\u001b[0m 11ms/step - loss: 822.6025 - mean_squared_error: 1494435.3750 - r2_score: 0.5022 - val_loss: 750.9901 - val_mean_squared_error: 1238751.0000 - val_r2_score: 0.5442\n",
      "Epoch 17/20\n",
      "\u001b[1m54/54\u001b[0m \u001b[32m━━━━━━━━━━━━━━━━━━━━\u001b[0m\u001b[37m\u001b[0m \u001b[1m1s\u001b[0m 10ms/step - loss: 826.5613 - mean_squared_error: 1452594.5000 - r2_score: 0.5120 - val_loss: 736.1196 - val_mean_squared_error: 1179454.8750 - val_r2_score: 0.5661\n",
      "Epoch 18/20\n",
      "\u001b[1m54/54\u001b[0m \u001b[32m━━━━━━━━━━━━━━━━━━━━\u001b[0m\u001b[37m\u001b[0m \u001b[1m1s\u001b[0m 12ms/step - loss: 816.1716 - mean_squared_error: 1432857.1250 - r2_score: 0.5129 - val_loss: 731.1938 - val_mean_squared_error: 1143779.6250 - val_r2_score: 0.5792\n",
      "Epoch 19/20\n",
      "\u001b[1m54/54\u001b[0m \u001b[32m━━━━━━━━━━━━━━━━━━━━\u001b[0m\u001b[37m\u001b[0m \u001b[1m1s\u001b[0m 11ms/step - loss: 801.5181 - mean_squared_error: 1397008.0000 - r2_score: 0.5177 - val_loss: 734.7165 - val_mean_squared_error: 1176425.8750 - val_r2_score: 0.5672\n",
      "Epoch 20/20\n",
      "\u001b[1m54/54\u001b[0m \u001b[32m━━━━━━━━━━━━━━━━━━━━\u001b[0m\u001b[37m\u001b[0m \u001b[1m1s\u001b[0m 11ms/step - loss: 793.6458 - mean_squared_error: 1338177.1250 - r2_score: 0.5396 - val_loss: 737.2674 - val_mean_squared_error: 1166983.3750 - val_r2_score: 0.5706\n",
      "Model_ADM6\n",
      "Epoch 1/20\n",
      "\u001b[1m35/35\u001b[0m \u001b[32m━━━━━━━━━━━━━━━━━━━━\u001b[0m\u001b[37m\u001b[0m \u001b[1m1s\u001b[0m 16ms/step - loss: 1432.5957 - mean_squared_error: 4046773.0000 - r2_score: -0.3572 - val_loss: 1312.1102 - val_mean_squared_error: 3434998.5000 - val_r2_score: -0.2638\n",
      "Epoch 2/20\n",
      "\u001b[1m35/35\u001b[0m \u001b[32m━━━━━━━━━━━━━━━━━━━━\u001b[0m\u001b[37m\u001b[0m \u001b[1m1s\u001b[0m 15ms/step - loss: 1418.1558 - mean_squared_error: 4022288.7500 - r2_score: -0.3428 - val_loss: 1269.0314 - val_mean_squared_error: 3291006.5000 - val_r2_score: -0.2108\n",
      "Epoch 3/20\n",
      "\u001b[1m35/35\u001b[0m \u001b[32m━━━━━━━━━━━━━━━━━━━━\u001b[0m\u001b[37m\u001b[0m \u001b[1m0s\u001b[0m 11ms/step - loss: 1359.4246 - mean_squared_error: 3769635.5000 - r2_score: -0.2790 - val_loss: 1269.0593 - val_mean_squared_error: 3278290.7500 - val_r2_score: -0.2062\n",
      "Epoch 4/20\n",
      "\u001b[1m35/35\u001b[0m \u001b[32m━━━━━━━━━━━━━━━━━━━━\u001b[0m\u001b[37m\u001b[0m \u001b[1m1s\u001b[0m 14ms/step - loss: 1371.6414 - mean_squared_error: 3818968.2500 - r2_score: -0.2838 - val_loss: 1264.6703 - val_mean_squared_error: 3240238.0000 - val_r2_score: -0.1922\n",
      "Epoch 5/20\n",
      "\u001b[1m35/35\u001b[0m \u001b[32m━━━━━━━━━━━━━━━━━━━━\u001b[0m\u001b[37m\u001b[0m \u001b[1m1s\u001b[0m 14ms/step - loss: 1339.0869 - mean_squared_error: 3617784.2500 - r2_score: -0.2664 - val_loss: 1260.1539 - val_mean_squared_error: 3192672.5000 - val_r2_score: -0.1747\n",
      "Epoch 6/20\n",
      "\u001b[1m35/35\u001b[0m \u001b[32m━━━━━━━━━━━━━━━━━━━━\u001b[0m\u001b[37m\u001b[0m \u001b[1m1s\u001b[0m 16ms/step - loss: 1370.1531 - mean_squared_error: 3882687.2500 - r2_score: -0.2406 - val_loss: 1253.5024 - val_mean_squared_error: 3174746.2500 - val_r2_score: -0.1681\n",
      "Epoch 7/20\n",
      "\u001b[1m35/35\u001b[0m \u001b[32m━━━━━━━━━━━━━━━━━━━━\u001b[0m\u001b[37m\u001b[0m \u001b[1m1s\u001b[0m 19ms/step - loss: 1312.6353 - mean_squared_error: 3510637.5000 - r2_score: -0.2102 - val_loss: 1226.3507 - val_mean_squared_error: 3093314.7500 - val_r2_score: -0.1381\n",
      "Epoch 8/20\n",
      "\u001b[1m35/35\u001b[0m \u001b[32m━━━━━━━━━━━━━━━━━━━━\u001b[0m\u001b[37m\u001b[0m \u001b[1m1s\u001b[0m 16ms/step - loss: 1278.2316 - mean_squared_error: 3462174.2500 - r2_score: -0.1637 - val_loss: 1238.1860 - val_mean_squared_error: 3107536.5000 - val_r2_score: -0.1433\n",
      "Epoch 9/20\n",
      "\u001b[1m35/35\u001b[0m \u001b[32m━━━━━━━━━━━━━━━━━━━━\u001b[0m\u001b[37m\u001b[0m \u001b[1m1s\u001b[0m 14ms/step - loss: 1277.1990 - mean_squared_error: 3424184.7500 - r2_score: -0.1566 - val_loss: 1210.8337 - val_mean_squared_error: 3015086.5000 - val_r2_score: -0.1093\n",
      "Epoch 10/20\n",
      "\u001b[1m35/35\u001b[0m \u001b[32m━━━━━━━━━━━━━━━━━━━━\u001b[0m\u001b[37m\u001b[0m \u001b[1m1s\u001b[0m 21ms/step - loss: 1284.1853 - mean_squared_error: 3400322.5000 - r2_score: -0.1623 - val_loss: 1178.2253 - val_mean_squared_error: 2908625.5000 - val_r2_score: -0.0701\n",
      "Epoch 11/20\n",
      "\u001b[1m35/35\u001b[0m \u001b[32m━━━━━━━━━━━━━━━━━━━━\u001b[0m\u001b[37m\u001b[0m \u001b[1m1s\u001b[0m 18ms/step - loss: 1282.9189 - mean_squared_error: 3403993.0000 - r2_score: -0.1494 - val_loss: 1202.4670 - val_mean_squared_error: 2983022.0000 - val_r2_score: -0.0975\n",
      "Epoch 12/20\n",
      "\u001b[1m35/35\u001b[0m \u001b[32m━━━━━━━━━━━━━━━━━━━━\u001b[0m\u001b[37m\u001b[0m \u001b[1m1s\u001b[0m 15ms/step - loss: 1260.3627 - mean_squared_error: 3324187.2500 - r2_score: -0.1129 - val_loss: 1172.3999 - val_mean_squared_error: 2889912.0000 - val_r2_score: -0.0633\n",
      "Epoch 13/20\n",
      "\u001b[1m35/35\u001b[0m \u001b[32m━━━━━━━━━━━━━━━━━━━━\u001b[0m\u001b[37m\u001b[0m \u001b[1m1s\u001b[0m 15ms/step - loss: 1237.9031 - mean_squared_error: 3270418.2500 - r2_score: -0.0841 - val_loss: 1137.9988 - val_mean_squared_error: 2755274.7500 - val_r2_score: -0.0137\n",
      "Epoch 14/20\n",
      "\u001b[1m35/35\u001b[0m \u001b[32m━━━━━━━━━━━━━━━━━━━━\u001b[0m\u001b[37m\u001b[0m \u001b[1m1s\u001b[0m 16ms/step - loss: 1204.5847 - mean_squared_error: 3073025.7500 - r2_score: -0.0605 - val_loss: 1133.9713 - val_mean_squared_error: 2720928.7500 - val_r2_score: -0.0011\n",
      "Epoch 15/20\n",
      "\u001b[1m35/35\u001b[0m \u001b[32m━━━━━━━━━━━━━━━━━━━━\u001b[0m\u001b[37m\u001b[0m \u001b[1m1s\u001b[0m 16ms/step - loss: 1203.6848 - mean_squared_error: 3085950.7500 - r2_score: -0.0447 - val_loss: 1120.6227 - val_mean_squared_error: 2658204.0000 - val_r2_score: 0.0220\n",
      "Epoch 16/20\n",
      "\u001b[1m35/35\u001b[0m \u001b[32m━━━━━━━━━━━━━━━━━━━━\u001b[0m\u001b[37m\u001b[0m \u001b[1m1s\u001b[0m 15ms/step - loss: 1201.5236 - mean_squared_error: 3017160.5000 - r2_score: -0.0455 - val_loss: 1125.8798 - val_mean_squared_error: 2673999.2500 - val_r2_score: 0.0162\n",
      "Epoch 17/20\n",
      "\u001b[1m35/35\u001b[0m \u001b[32m━━━━━━━━━━━━━━━━━━━━\u001b[0m\u001b[37m\u001b[0m \u001b[1m1s\u001b[0m 13ms/step - loss: 1212.9062 - mean_squared_error: 3099827.0000 - r2_score: -0.0283 - val_loss: 1101.9576 - val_mean_squared_error: 2546262.2500 - val_r2_score: 0.0632\n",
      "Epoch 18/20\n",
      "\u001b[1m35/35\u001b[0m \u001b[32m━━━━━━━━━━━━━━━━━━━━\u001b[0m\u001b[37m\u001b[0m \u001b[1m1s\u001b[0m 13ms/step - loss: 1157.1409 - mean_squared_error: 2897252.5000 - r2_score: 0.0146 - val_loss: 1105.2250 - val_mean_squared_error: 2559635.5000 - val_r2_score: 0.0583\n",
      "Epoch 19/20\n",
      "\u001b[1m35/35\u001b[0m \u001b[32m━━━━━━━━━━━━━━━━━━━━\u001b[0m\u001b[37m\u001b[0m \u001b[1m0s\u001b[0m 13ms/step - loss: 1174.2281 - mean_squared_error: 2981976.7500 - r2_score: 0.0129 - val_loss: 1081.3766 - val_mean_squared_error: 2472710.5000 - val_r2_score: 0.0902\n",
      "Epoch 20/20\n",
      "\u001b[1m35/35\u001b[0m \u001b[32m━━━━━━━━━━━━━━━━━━━━\u001b[0m\u001b[37m\u001b[0m \u001b[1m1s\u001b[0m 17ms/step - loss: 1155.9811 - mean_squared_error: 2889629.0000 - r2_score: 0.0405 - val_loss: 1100.5286 - val_mean_squared_error: 2551478.2500 - val_r2_score: 0.0613\n",
      "Model_ADM7\n",
      "Epoch 1/20\n",
      "\u001b[1m54/54\u001b[0m \u001b[32m━━━━━━━━━━━━━━━━━━━━\u001b[0m\u001b[37m\u001b[0m \u001b[1m1s\u001b[0m 12ms/step - loss: 917.5544 - mean_squared_error: 1885814.2500 - r2_score: 0.3596 - val_loss: 852.0782 - val_mean_squared_error: 1626580.2500 - val_r2_score: 0.4015\n",
      "Epoch 2/20\n",
      "\u001b[1m54/54\u001b[0m \u001b[32m━━━━━━━━━━━━━━━━━━━━\u001b[0m\u001b[37m\u001b[0m \u001b[1m1s\u001b[0m 12ms/step - loss: 924.8351 - mean_squared_error: 1932494.1250 - r2_score: 0.3486 - val_loss: 832.4066 - val_mean_squared_error: 1559229.0000 - val_r2_score: 0.4263\n",
      "Epoch 3/20\n",
      "\u001b[1m54/54\u001b[0m \u001b[32m━━━━━━━━━━━━━━━━━━━━\u001b[0m\u001b[37m\u001b[0m \u001b[1m1s\u001b[0m 13ms/step - loss: 896.7834 - mean_squared_error: 1775308.3750 - r2_score: 0.3849 - val_loss: 819.7816 - val_mean_squared_error: 1513107.0000 - val_r2_score: 0.4433\n",
      "Epoch 4/20\n",
      "\u001b[1m54/54\u001b[0m \u001b[32m━━━━━━━━━━━━━━━━━━━━\u001b[0m\u001b[37m\u001b[0m \u001b[1m1s\u001b[0m 11ms/step - loss: 901.0851 - mean_squared_error: 1798164.0000 - r2_score: 0.3929 - val_loss: 805.0258 - val_mean_squared_error: 1468190.3750 - val_r2_score: 0.4598\n",
      "Epoch 5/20\n",
      "\u001b[1m54/54\u001b[0m \u001b[32m━━━━━━━━━━━━━━━━━━━━\u001b[0m\u001b[37m\u001b[0m \u001b[1m1s\u001b[0m 11ms/step - loss: 885.3031 - mean_squared_error: 1734580.0000 - r2_score: 0.4018 - val_loss: 822.5423 - val_mean_squared_error: 1522990.0000 - val_r2_score: 0.4397\n",
      "Epoch 6/20\n",
      "\u001b[1m54/54\u001b[0m \u001b[32m━━━━━━━━━━━━━━━━━━━━\u001b[0m\u001b[37m\u001b[0m \u001b[1m1s\u001b[0m 12ms/step - loss: 884.6335 - mean_squared_error: 1775911.8750 - r2_score: 0.4060 - val_loss: 803.3120 - val_mean_squared_error: 1458334.2500 - val_r2_score: 0.4634\n",
      "Epoch 7/20\n",
      "\u001b[1m54/54\u001b[0m \u001b[32m━━━━━━━━━━━━━━━━━━━━\u001b[0m\u001b[37m\u001b[0m \u001b[1m1s\u001b[0m 11ms/step - loss: 863.5610 - mean_squared_error: 1649767.6250 - r2_score: 0.4410 - val_loss: 786.5783 - val_mean_squared_error: 1392520.1250 - val_r2_score: 0.4877\n",
      "Epoch 8/20\n",
      "\u001b[1m54/54\u001b[0m \u001b[32m━━━━━━━━━━━━━━━━━━━━\u001b[0m\u001b[37m\u001b[0m \u001b[1m1s\u001b[0m 11ms/step - loss: 845.8847 - mean_squared_error: 1592278.7500 - r2_score: 0.4488 - val_loss: 808.6329 - val_mean_squared_error: 1462052.7500 - val_r2_score: 0.4621\n",
      "Epoch 9/20\n",
      "\u001b[1m54/54\u001b[0m \u001b[32m━━━━━━━━━━━━━━━━━━━━\u001b[0m\u001b[37m\u001b[0m \u001b[1m1s\u001b[0m 11ms/step - loss: 833.6585 - mean_squared_error: 1538724.6250 - r2_score: 0.4729 - val_loss: 781.4391 - val_mean_squared_error: 1360816.6250 - val_r2_score: 0.4993\n",
      "Epoch 10/20\n",
      "\u001b[1m54/54\u001b[0m \u001b[32m━━━━━━━━━━━━━━━━━━━━\u001b[0m\u001b[37m\u001b[0m \u001b[1m1s\u001b[0m 14ms/step - loss: 848.9324 - mean_squared_error: 1577133.7500 - r2_score: 0.4620 - val_loss: 775.2536 - val_mean_squared_error: 1342722.7500 - val_r2_score: 0.5060\n",
      "Epoch 11/20\n",
      "\u001b[1m54/54\u001b[0m \u001b[32m━━━━━━━━━━━━━━━━━━━━\u001b[0m\u001b[37m\u001b[0m \u001b[1m1s\u001b[0m 11ms/step - loss: 862.0314 - mean_squared_error: 1631021.8750 - r2_score: 0.4633 - val_loss: 763.6818 - val_mean_squared_error: 1304810.3750 - val_r2_score: 0.5199\n",
      "Epoch 12/20\n",
      "\u001b[1m54/54\u001b[0m \u001b[32m━━━━━━━━━━━━━━━━━━━━\u001b[0m\u001b[37m\u001b[0m \u001b[1m1s\u001b[0m 11ms/step - loss: 833.7673 - mean_squared_error: 1510390.5000 - r2_score: 0.4721 - val_loss: 773.3757 - val_mean_squared_error: 1333520.1250 - val_r2_score: 0.5094\n",
      "Epoch 13/20\n",
      "\u001b[1m54/54\u001b[0m \u001b[32m━━━━━━━━━━━━━━━━━━━━\u001b[0m\u001b[37m\u001b[0m \u001b[1m1s\u001b[0m 14ms/step - loss: 827.2329 - mean_squared_error: 1484761.8750 - r2_score: 0.4844 - val_loss: 759.1619 - val_mean_squared_error: 1286656.8750 - val_r2_score: 0.5266\n",
      "Epoch 14/20\n",
      "\u001b[1m54/54\u001b[0m \u001b[32m━━━━━━━━━━━━━━━━━━━━\u001b[0m\u001b[37m\u001b[0m \u001b[1m1s\u001b[0m 11ms/step - loss: 841.6791 - mean_squared_error: 1554206.0000 - r2_score: 0.4905 - val_loss: 745.4808 - val_mean_squared_error: 1230855.3750 - val_r2_score: 0.5471\n",
      "Epoch 15/20\n",
      "\u001b[1m54/54\u001b[0m \u001b[32m━━━━━━━━━━━━━━━━━━━━\u001b[0m\u001b[37m\u001b[0m \u001b[1m1s\u001b[0m 11ms/step - loss: 814.4612 - mean_squared_error: 1422329.6250 - r2_score: 0.5107 - val_loss: 746.3195 - val_mean_squared_error: 1229360.6250 - val_r2_score: 0.5477\n",
      "Epoch 16/20\n",
      "\u001b[1m54/54\u001b[0m \u001b[32m━━━━━━━━━━━━━━━━━━━━\u001b[0m\u001b[37m\u001b[0m \u001b[1m1s\u001b[0m 13ms/step - loss: 820.8541 - mean_squared_error: 1460892.7500 - r2_score: 0.4986 - val_loss: 749.1550 - val_mean_squared_error: 1237398.1250 - val_r2_score: 0.5447\n",
      "Epoch 17/20\n",
      "\u001b[1m54/54\u001b[0m \u001b[32m━━━━━━━━━━━━━━━━━━━━\u001b[0m\u001b[37m\u001b[0m \u001b[1m1s\u001b[0m 13ms/step - loss: 823.0499 - mean_squared_error: 1487113.7500 - r2_score: 0.5112 - val_loss: 764.1002 - val_mean_squared_error: 1286702.5000 - val_r2_score: 0.5266\n",
      "Epoch 18/20\n",
      "\u001b[1m54/54\u001b[0m \u001b[32m━━━━━━━━━━━━━━━━━━━━\u001b[0m\u001b[37m\u001b[0m \u001b[1m1s\u001b[0m 15ms/step - loss: 803.6734 - mean_squared_error: 1418959.3750 - r2_score: 0.5234 - val_loss: 734.7521 - val_mean_squared_error: 1182363.7500 - val_r2_score: 0.5650\n",
      "Epoch 19/20\n",
      "\u001b[1m54/54\u001b[0m \u001b[32m━━━━━━━━━━━━━━━━━━━━\u001b[0m\u001b[37m\u001b[0m \u001b[1m1s\u001b[0m 11ms/step - loss: 789.9283 - mean_squared_error: 1319045.1250 - r2_score: 0.5329 - val_loss: 743.3030 - val_mean_squared_error: 1208489.7500 - val_r2_score: 0.5554\n",
      "Epoch 20/20\n",
      "\u001b[1m54/54\u001b[0m \u001b[32m━━━━━━━━━━━━━━━━━━━━\u001b[0m\u001b[37m\u001b[0m \u001b[1m1s\u001b[0m 10ms/step - loss: 810.7999 - mean_squared_error: 1404694.6250 - r2_score: 0.5265 - val_loss: 738.6906 - val_mean_squared_error: 1192331.5000 - val_r2_score: 0.5613\n",
      "Model_ADM8\n",
      "Epoch 1/20\n",
      "\u001b[1m54/54\u001b[0m \u001b[32m━━━━━━━━━━━━━━━━━━━━\u001b[0m\u001b[37m\u001b[0m \u001b[1m1s\u001b[0m 15ms/step - loss: 1724.6094 - mean_squared_error: 5436739.0000 - r2_score: -0.8708 - val_loss: 1637.1907 - val_mean_squared_error: 4938616.0000 - val_r2_score: -0.8170\n",
      "Epoch 2/20\n",
      "\u001b[1m54/54\u001b[0m \u001b[32m━━━━━━━━━━━━━━━━━━━━\u001b[0m\u001b[37m\u001b[0m \u001b[1m1s\u001b[0m 18ms/step - loss: 1711.7902 - mean_squared_error: 5424424.0000 - r2_score: -0.8349 - val_loss: 1642.5829 - val_mean_squared_error: 4937201.5000 - val_r2_score: -0.8165\n",
      "Epoch 3/20\n",
      "\u001b[1m54/54\u001b[0m \u001b[32m━━━━━━━━━━━━━━━━━━━━\u001b[0m\u001b[37m\u001b[0m \u001b[1m1s\u001b[0m 15ms/step - loss: 1709.8608 - mean_squared_error: 5321711.5000 - r2_score: -0.8562 - val_loss: 1624.5599 - val_mean_squared_error: 4869296.0000 - val_r2_score: -0.7915\n",
      "Epoch 4/20\n",
      "\u001b[1m54/54\u001b[0m \u001b[32m━━━━━━━━━━━━━━━━━━━━\u001b[0m\u001b[37m\u001b[0m \u001b[1m1s\u001b[0m 15ms/step - loss: 1741.5675 - mean_squared_error: 5536292.0000 - r2_score: -0.8498 - val_loss: 1605.0220 - val_mean_squared_error: 4796761.5000 - val_r2_score: -0.7648\n",
      "Epoch 5/20\n",
      "\u001b[1m54/54\u001b[0m \u001b[32m━━━━━━━━━━━━━━━━━━━━\u001b[0m\u001b[37m\u001b[0m \u001b[1m1s\u001b[0m 11ms/step - loss: 1697.1110 - mean_squared_error: 5371120.5000 - r2_score: -0.7967 - val_loss: 1611.3009 - val_mean_squared_error: 4794311.0000 - val_r2_score: -0.7639\n",
      "Epoch 6/20\n",
      "\u001b[1m54/54\u001b[0m \u001b[32m━━━━━━━━━━━━━━━━━━━━\u001b[0m\u001b[37m\u001b[0m \u001b[1m1s\u001b[0m 12ms/step - loss: 1676.3569 - mean_squared_error: 5220639.5000 - r2_score: -0.7884 - val_loss: 1595.0553 - val_mean_squared_error: 4739272.5000 - val_r2_score: -0.7437\n",
      "Epoch 7/20\n",
      "\u001b[1m54/54\u001b[0m \u001b[32m━━━━━━━━━━━━━━━━━━━━\u001b[0m\u001b[37m\u001b[0m \u001b[1m1s\u001b[0m 15ms/step - loss: 1696.6326 - mean_squared_error: 5360453.0000 - r2_score: -0.7846 - val_loss: 1583.0574 - val_mean_squared_error: 4689943.5000 - val_r2_score: -0.7255\n",
      "Epoch 8/20\n",
      "\u001b[1m54/54\u001b[0m \u001b[32m━━━━━━━━━━━━━━━━━━━━\u001b[0m\u001b[37m\u001b[0m \u001b[1m1s\u001b[0m 14ms/step - loss: 1704.6725 - mean_squared_error: 5297082.0000 - r2_score: -0.8079 - val_loss: 1577.9160 - val_mean_squared_error: 4651307.5000 - val_r2_score: -0.7113\n",
      "Epoch 9/20\n",
      "\u001b[1m54/54\u001b[0m \u001b[32m━━━━━━━━━━━━━━━━━━━━\u001b[0m\u001b[37m\u001b[0m \u001b[1m1s\u001b[0m 16ms/step - loss: 1655.1837 - mean_squared_error: 5070413.5000 - r2_score: -0.7620 - val_loss: 1573.4558 - val_mean_squared_error: 4634753.5000 - val_r2_score: -0.7052\n",
      "Epoch 10/20\n",
      "\u001b[1m54/54\u001b[0m \u001b[32m━━━━━━━━━━━━━━━━━━━━\u001b[0m\u001b[37m\u001b[0m \u001b[1m1s\u001b[0m 16ms/step - loss: 1662.9172 - mean_squared_error: 5140815.0000 - r2_score: -0.7558 - val_loss: 1552.4169 - val_mean_squared_error: 4560469.0000 - val_r2_score: -0.6779\n",
      "Epoch 11/20\n",
      "\u001b[1m54/54\u001b[0m \u001b[32m━━━━━━━━━━━━━━━━━━━━\u001b[0m\u001b[37m\u001b[0m \u001b[1m1s\u001b[0m 15ms/step - loss: 1680.5038 - mean_squared_error: 5220317.0000 - r2_score: -0.7620 - val_loss: 1558.9159 - val_mean_squared_error: 4549847.5000 - val_r2_score: -0.6740\n",
      "Epoch 12/20\n",
      "\u001b[1m54/54\u001b[0m \u001b[32m━━━━━━━━━━━━━━━━━━━━\u001b[0m\u001b[37m\u001b[0m \u001b[1m1s\u001b[0m 16ms/step - loss: 1645.2360 - mean_squared_error: 5089505.5000 - r2_score: -0.7085 - val_loss: 1539.5662 - val_mean_squared_error: 4487979.0000 - val_r2_score: -0.6512\n",
      "Epoch 13/20\n",
      "\u001b[1m54/54\u001b[0m \u001b[32m━━━━━━━━━━━━━━━━━━━━\u001b[0m\u001b[37m\u001b[0m \u001b[1m1s\u001b[0m 15ms/step - loss: 1655.3087 - mean_squared_error: 5212710.5000 - r2_score: -0.6807 - val_loss: 1532.4825 - val_mean_squared_error: 4450061.5000 - val_r2_score: -0.6373\n",
      "Epoch 14/20\n",
      "\u001b[1m54/54\u001b[0m \u001b[32m━━━━━━━━━━━━━━━━━━━━\u001b[0m\u001b[37m\u001b[0m \u001b[1m1s\u001b[0m 16ms/step - loss: 1623.3326 - mean_squared_error: 4972176.0000 - r2_score: -0.6805 - val_loss: 1519.8685 - val_mean_squared_error: 4397260.0000 - val_r2_score: -0.6178\n",
      "Epoch 15/20\n",
      "\u001b[1m54/54\u001b[0m \u001b[32m━━━━━━━━━━━━━━━━━━━━\u001b[0m\u001b[37m\u001b[0m \u001b[1m1s\u001b[0m 16ms/step - loss: 1598.0752 - mean_squared_error: 4818142.5000 - r2_score: -0.6623 - val_loss: 1513.7815 - val_mean_squared_error: 4363139.0000 - val_r2_score: -0.6053\n",
      "Epoch 16/20\n",
      "\u001b[1m54/54\u001b[0m \u001b[32m━━━━━━━━━━━━━━━━━━━━\u001b[0m\u001b[37m\u001b[0m \u001b[1m1s\u001b[0m 18ms/step - loss: 1594.6649 - mean_squared_error: 4873749.5000 - r2_score: -0.6355 - val_loss: 1504.9767 - val_mean_squared_error: 4335510.5000 - val_r2_score: -0.5951\n",
      "Epoch 17/20\n",
      "\u001b[1m54/54\u001b[0m \u001b[32m━━━━━━━━━━━━━━━━━━━━\u001b[0m\u001b[37m\u001b[0m \u001b[1m1s\u001b[0m 15ms/step - loss: 1596.2551 - mean_squared_error: 4865336.0000 - r2_score: -0.6344 - val_loss: 1488.3916 - val_mean_squared_error: 4268396.5000 - val_r2_score: -0.5704\n",
      "Epoch 18/20\n",
      "\u001b[1m54/54\u001b[0m \u001b[32m━━━━━━━━━━━━━━━━━━━━\u001b[0m\u001b[37m\u001b[0m \u001b[1m1s\u001b[0m 16ms/step - loss: 1570.9384 - mean_squared_error: 4635542.5000 - r2_score: -0.6456 - val_loss: 1487.7260 - val_mean_squared_error: 4250285.5000 - val_r2_score: -0.5638\n",
      "Epoch 19/20\n",
      "\u001b[1m54/54\u001b[0m \u001b[32m━━━━━━━━━━━━━━━━━━━━\u001b[0m\u001b[37m\u001b[0m \u001b[1m1s\u001b[0m 14ms/step - loss: 1539.5187 - mean_squared_error: 4534527.0000 - r2_score: -0.5947 - val_loss: 1479.5168 - val_mean_squared_error: 4212610.5000 - val_r2_score: -0.5499\n",
      "Epoch 20/20\n",
      "\u001b[1m54/54\u001b[0m \u001b[32m━━━━━━━━━━━━━━━━━━━━\u001b[0m\u001b[37m\u001b[0m \u001b[1m1s\u001b[0m 16ms/step - loss: 1544.3174 - mean_squared_error: 4560613.0000 - r2_score: -0.5928 - val_loss: 1471.2051 - val_mean_squared_error: 4164735.2500 - val_r2_score: -0.5323\n",
      "Model_ADM9\n",
      "Epoch 1/20\n",
      "\u001b[1m54/54\u001b[0m \u001b[32m━━━━━━━━━━━━━━━━━━━━\u001b[0m\u001b[37m\u001b[0m \u001b[1m1s\u001b[0m 14ms/step - loss: 790.1857 - mean_squared_error: 1259506.2500 - r2_score: 0.5714 - val_loss: 721.5537 - val_mean_squared_error: 1058085.8750 - val_r2_score: 0.6107\n",
      "Epoch 2/20\n",
      "\u001b[1m54/54\u001b[0m \u001b[32m━━━━━━━━━━━━━━━━━━━━\u001b[0m\u001b[37m\u001b[0m \u001b[1m1s\u001b[0m 14ms/step - loss: 778.0624 - mean_squared_error: 1220130.0000 - r2_score: 0.5741 - val_loss: 721.8361 - val_mean_squared_error: 1075255.1250 - val_r2_score: 0.6044\n",
      "Epoch 3/20\n",
      "\u001b[1m54/54\u001b[0m \u001b[32m━━━━━━━━━━━━━━━━━━━━\u001b[0m\u001b[37m\u001b[0m \u001b[1m1s\u001b[0m 11ms/step - loss: 794.0637 - mean_squared_error: 1295146.3750 - r2_score: 0.5628 - val_loss: 713.5164 - val_mean_squared_error: 1046363.1250 - val_r2_score: 0.6150\n",
      "Epoch 4/20\n",
      "\u001b[1m54/54\u001b[0m \u001b[32m━━━━━━━━━━━━━━━━━━━━\u001b[0m\u001b[37m\u001b[0m \u001b[1m1s\u001b[0m 10ms/step - loss: 776.6337 - mean_squared_error: 1259891.7500 - r2_score: 0.5673 - val_loss: 716.2680 - val_mean_squared_error: 1084830.8750 - val_r2_score: 0.6009\n",
      "Epoch 5/20\n",
      "\u001b[1m54/54\u001b[0m \u001b[32m━━━━━━━━━━━━━━━━━━━━\u001b[0m\u001b[37m\u001b[0m \u001b[1m1s\u001b[0m 14ms/step - loss: 781.4799 - mean_squared_error: 1263478.1250 - r2_score: 0.5681 - val_loss: 718.1245 - val_mean_squared_error: 1051624.6250 - val_r2_score: 0.6131\n",
      "Epoch 6/20\n",
      "\u001b[1m54/54\u001b[0m \u001b[32m━━━━━━━━━━━━━━━━━━━━\u001b[0m\u001b[37m\u001b[0m \u001b[1m1s\u001b[0m 11ms/step - loss: 795.5588 - mean_squared_error: 1320307.8750 - r2_score: 0.5652 - val_loss: 717.4566 - val_mean_squared_error: 1078081.5000 - val_r2_score: 0.6034\n",
      "Epoch 7/20\n",
      "\u001b[1m54/54\u001b[0m \u001b[32m━━━━━━━━━━━━━━━━━━━━\u001b[0m\u001b[37m\u001b[0m \u001b[1m1s\u001b[0m 15ms/step - loss: 791.3973 - mean_squared_error: 1285471.3750 - r2_score: 0.5781 - val_loss: 717.6326 - val_mean_squared_error: 1053320.0000 - val_r2_score: 0.6125\n",
      "Epoch 8/20\n",
      "\u001b[1m54/54\u001b[0m \u001b[32m━━━━━━━━━━━━━━━━━━━━\u001b[0m\u001b[37m\u001b[0m \u001b[1m1s\u001b[0m 11ms/step - loss: 779.1557 - mean_squared_error: 1249508.5000 - r2_score: 0.5622 - val_loss: 737.9208 - val_mean_squared_error: 1126706.5000 - val_r2_score: 0.5855\n",
      "Epoch 9/20\n",
      "\u001b[1m54/54\u001b[0m \u001b[32m━━━━━━━━━━━━━━━━━━━━\u001b[0m\u001b[37m\u001b[0m \u001b[1m1s\u001b[0m 14ms/step - loss: 804.8273 - mean_squared_error: 1329221.8750 - r2_score: 0.5621 - val_loss: 736.7435 - val_mean_squared_error: 1119339.2500 - val_r2_score: 0.5882\n",
      "Epoch 10/20\n",
      "\u001b[1m54/54\u001b[0m \u001b[32m━━━━━━━━━━━━━━━━━━━━\u001b[0m\u001b[37m\u001b[0m \u001b[1m1s\u001b[0m 11ms/step - loss: 802.1567 - mean_squared_error: 1328410.7500 - r2_score: 0.5596 - val_loss: 717.9144 - val_mean_squared_error: 1058441.1250 - val_r2_score: 0.6106\n",
      "Epoch 11/20\n",
      "\u001b[1m54/54\u001b[0m \u001b[32m━━━━━━━━━━━━━━━━━━━━\u001b[0m\u001b[37m\u001b[0m \u001b[1m1s\u001b[0m 12ms/step - loss: 769.6014 - mean_squared_error: 1232905.5000 - r2_score: 0.5693 - val_loss: 723.4081 - val_mean_squared_error: 1061724.3750 - val_r2_score: 0.6094\n",
      "Epoch 12/20\n",
      "\u001b[1m54/54\u001b[0m \u001b[32m━━━━━━━━━━━━━━━━━━━━\u001b[0m\u001b[37m\u001b[0m \u001b[1m1s\u001b[0m 12ms/step - loss: 793.4688 - mean_squared_error: 1322404.8750 - r2_score: 0.5661 - val_loss: 734.4968 - val_mean_squared_error: 1102045.1250 - val_r2_score: 0.5945\n",
      "Epoch 13/20\n",
      "\u001b[1m54/54\u001b[0m \u001b[32m━━━━━━━━━━━━━━━━━━━━\u001b[0m\u001b[37m\u001b[0m \u001b[1m1s\u001b[0m 11ms/step - loss: 786.0499 - mean_squared_error: 1324578.3750 - r2_score: 0.5676 - val_loss: 724.7686 - val_mean_squared_error: 1117406.2500 - val_r2_score: 0.5889\n",
      "Epoch 14/20\n",
      "\u001b[1m54/54\u001b[0m \u001b[32m━━━━━━━━━━━━━━━━━━━━\u001b[0m\u001b[37m\u001b[0m \u001b[1m1s\u001b[0m 14ms/step - loss: 797.1334 - mean_squared_error: 1354121.8750 - r2_score: 0.5639 - val_loss: 719.9869 - val_mean_squared_error: 1059224.3750 - val_r2_score: 0.6103\n",
      "Epoch 15/20\n",
      "\u001b[1m54/54\u001b[0m \u001b[32m━━━━━━━━━━━━━━━━━━━━\u001b[0m\u001b[37m\u001b[0m \u001b[1m1s\u001b[0m 11ms/step - loss: 787.8063 - mean_squared_error: 1293401.3750 - r2_score: 0.5680 - val_loss: 730.8848 - val_mean_squared_error: 1066970.6250 - val_r2_score: 0.6074\n",
      "Epoch 16/20\n",
      "\u001b[1m54/54\u001b[0m \u001b[32m━━━━━━━━━━━━━━━━━━━━\u001b[0m\u001b[37m\u001b[0m \u001b[1m1s\u001b[0m 14ms/step - loss: 790.2909 - mean_squared_error: 1299304.5000 - r2_score: 0.5669 - val_loss: 729.1246 - val_mean_squared_error: 1062670.2500 - val_r2_score: 0.6090\n",
      "Epoch 17/20\n",
      "\u001b[1m54/54\u001b[0m \u001b[32m━━━━━━━━━━━━━━━━━━━━\u001b[0m\u001b[37m\u001b[0m \u001b[1m1s\u001b[0m 13ms/step - loss: 789.9366 - mean_squared_error: 1270884.5000 - r2_score: 0.5718 - val_loss: 716.4265 - val_mean_squared_error: 1082688.5000 - val_r2_score: 0.6017\n",
      "Epoch 18/20\n",
      "\u001b[1m54/54\u001b[0m \u001b[32m━━━━━━━━━━━━━━━━━━━━\u001b[0m\u001b[37m\u001b[0m \u001b[1m1s\u001b[0m 14ms/step - loss: 775.5820 - mean_squared_error: 1262473.2500 - r2_score: 0.5598 - val_loss: 716.2299 - val_mean_squared_error: 1060142.0000 - val_r2_score: 0.6100\n",
      "Epoch 19/20\n",
      "\u001b[1m54/54\u001b[0m \u001b[32m━━━━━━━━━━━━━━━━━━━━\u001b[0m\u001b[37m\u001b[0m \u001b[1m1s\u001b[0m 12ms/step - loss: 789.3999 - mean_squared_error: 1340423.0000 - r2_score: 0.5643 - val_loss: 717.2834 - val_mean_squared_error: 1064934.1250 - val_r2_score: 0.6082\n",
      "Epoch 20/20\n",
      "\u001b[1m54/54\u001b[0m \u001b[32m━━━━━━━━━━━━━━━━━━━━\u001b[0m\u001b[37m\u001b[0m \u001b[1m1s\u001b[0m 15ms/step - loss: 788.5700 - mean_squared_error: 1266752.2500 - r2_score: 0.5600 - val_loss: 718.6807 - val_mean_squared_error: 1051847.2500 - val_r2_score: 0.6130\n",
      "Model_ADM10\n",
      "Epoch 1/20\n",
      "\u001b[1m54/54\u001b[0m \u001b[32m━━━━━━━━━━━━━━━━━━━━\u001b[0m\u001b[37m\u001b[0m \u001b[1m1s\u001b[0m 14ms/step - loss: 781.2463 - mean_squared_error: 1240882.0000 - r2_score: 0.5650 - val_loss: 722.7207 - val_mean_squared_error: 1076948.0000 - val_r2_score: 0.6038\n",
      "Epoch 2/20\n",
      "\u001b[1m54/54\u001b[0m \u001b[32m━━━━━━━━━━━━━━━━━━━━\u001b[0m\u001b[37m\u001b[0m \u001b[1m1s\u001b[0m 13ms/step - loss: 786.7402 - mean_squared_error: 1243597.0000 - r2_score: 0.5599 - val_loss: 715.9908 - val_mean_squared_error: 1059917.0000 - val_r2_score: 0.6100\n",
      "Epoch 3/20\n",
      "\u001b[1m54/54\u001b[0m \u001b[32m━━━━━━━━━━━━━━━━━━━━\u001b[0m\u001b[37m\u001b[0m \u001b[1m1s\u001b[0m 15ms/step - loss: 780.9885 - mean_squared_error: 1243421.1250 - r2_score: 0.5692 - val_loss: 717.7226 - val_mean_squared_error: 1086073.1250 - val_r2_score: 0.6004\n",
      "Epoch 4/20\n",
      "\u001b[1m54/54\u001b[0m \u001b[32m━━━━━━━━━━━━━━━━━━━━\u001b[0m\u001b[37m\u001b[0m \u001b[1m1s\u001b[0m 20ms/step - loss: 819.5921 - mean_squared_error: 1402520.3750 - r2_score: 0.5400 - val_loss: 728.1486 - val_mean_squared_error: 1137018.7500 - val_r2_score: 0.5817\n",
      "Epoch 5/20\n",
      "\u001b[1m54/54\u001b[0m \u001b[32m━━━━━━━━━━━━━━━━━━━━\u001b[0m\u001b[37m\u001b[0m \u001b[1m1s\u001b[0m 15ms/step - loss: 799.7736 - mean_squared_error: 1335559.0000 - r2_score: 0.5596 - val_loss: 721.1532 - val_mean_squared_error: 1071183.3750 - val_r2_score: 0.6059\n",
      "Epoch 6/20\n",
      "\u001b[1m54/54\u001b[0m \u001b[32m━━━━━━━━━━━━━━━━━━━━\u001b[0m\u001b[37m\u001b[0m \u001b[1m1s\u001b[0m 14ms/step - loss: 809.7150 - mean_squared_error: 1339143.5000 - r2_score: 0.5537 - val_loss: 723.0704 - val_mean_squared_error: 1059194.6250 - val_r2_score: 0.6103\n",
      "Epoch 7/20\n",
      "\u001b[1m54/54\u001b[0m \u001b[32m━━━━━━━━━━━━━━━━━━━━\u001b[0m\u001b[37m\u001b[0m \u001b[1m1s\u001b[0m 13ms/step - loss: 796.3099 - mean_squared_error: 1336458.7500 - r2_score: 0.5617 - val_loss: 720.5115 - val_mean_squared_error: 1090459.5000 - val_r2_score: 0.5988\n",
      "Epoch 8/20\n",
      "\u001b[1m54/54\u001b[0m \u001b[32m━━━━━━━━━━━━━━━━━━━━\u001b[0m\u001b[37m\u001b[0m \u001b[1m1s\u001b[0m 16ms/step - loss: 810.8466 - mean_squared_error: 1348693.1250 - r2_score: 0.5541 - val_loss: 727.8058 - val_mean_squared_error: 1102098.1250 - val_r2_score: 0.5945\n",
      "Epoch 9/20\n",
      "\u001b[1m54/54\u001b[0m \u001b[32m━━━━━━━━━━━━━━━━━━━━\u001b[0m\u001b[37m\u001b[0m \u001b[1m1s\u001b[0m 13ms/step - loss: 795.6641 - mean_squared_error: 1312498.8750 - r2_score: 0.5458 - val_loss: 725.4728 - val_mean_squared_error: 1122040.0000 - val_r2_score: 0.5872\n",
      "Epoch 10/20\n",
      "\u001b[1m54/54\u001b[0m \u001b[32m━━━━━━━━━━━━━━━━━━━━\u001b[0m\u001b[37m\u001b[0m \u001b[1m1s\u001b[0m 16ms/step - loss: 792.9880 - mean_squared_error: 1311436.0000 - r2_score: 0.5747 - val_loss: 726.9343 - val_mean_squared_error: 1075706.3750 - val_r2_score: 0.6042\n",
      "Epoch 11/20\n",
      "\u001b[1m54/54\u001b[0m \u001b[32m━━━━━━━━━━━━━━━━━━━━\u001b[0m\u001b[37m\u001b[0m \u001b[1m1s\u001b[0m 14ms/step - loss: 783.6111 - mean_squared_error: 1338095.6250 - r2_score: 0.5518 - val_loss: 716.9969 - val_mean_squared_error: 1078387.1250 - val_r2_score: 0.6032\n",
      "Epoch 12/20\n",
      "\u001b[1m54/54\u001b[0m \u001b[32m━━━━━━━━━━━━━━━━━━━━\u001b[0m\u001b[37m\u001b[0m \u001b[1m1s\u001b[0m 15ms/step - loss: 776.2441 - mean_squared_error: 1202322.5000 - r2_score: 0.5796 - val_loss: 721.0820 - val_mean_squared_error: 1081318.5000 - val_r2_score: 0.6022\n",
      "Epoch 13/20\n",
      "\u001b[1m54/54\u001b[0m \u001b[32m━━━━━━━━━━━━━━━━━━━━\u001b[0m\u001b[37m\u001b[0m \u001b[1m1s\u001b[0m 14ms/step - loss: 802.4675 - mean_squared_error: 1328650.7500 - r2_score: 0.5638 - val_loss: 735.0583 - val_mean_squared_error: 1134688.7500 - val_r2_score: 0.5825\n",
      "Epoch 14/20\n",
      "\u001b[1m54/54\u001b[0m \u001b[32m━━━━━━━━━━━━━━━━━━━━\u001b[0m\u001b[37m\u001b[0m \u001b[1m1s\u001b[0m 16ms/step - loss: 797.6387 - mean_squared_error: 1321541.2500 - r2_score: 0.5458 - val_loss: 714.9008 - val_mean_squared_error: 1047120.3750 - val_r2_score: 0.6147\n",
      "Epoch 15/20\n",
      "\u001b[1m54/54\u001b[0m \u001b[32m━━━━━━━━━━━━━━━━━━━━\u001b[0m\u001b[37m\u001b[0m \u001b[1m1s\u001b[0m 14ms/step - loss: 787.2230 - mean_squared_error: 1311479.5000 - r2_score: 0.5556 - val_loss: 728.8878 - val_mean_squared_error: 1075039.2500 - val_r2_score: 0.6045\n",
      "Epoch 16/20\n",
      "\u001b[1m54/54\u001b[0m \u001b[32m━━━━━━━━━━━━━━━━━━━━\u001b[0m\u001b[37m\u001b[0m \u001b[1m1s\u001b[0m 17ms/step - loss: 800.1053 - mean_squared_error: 1307668.1250 - r2_score: 0.5630 - val_loss: 724.1883 - val_mean_squared_error: 1056924.5000 - val_r2_score: 0.6111\n",
      "Epoch 17/20\n",
      "\u001b[1m54/54\u001b[0m \u001b[32m━━━━━━━━━━━━━━━━━━━━\u001b[0m\u001b[37m\u001b[0m \u001b[1m1s\u001b[0m 13ms/step - loss: 796.9600 - mean_squared_error: 1300635.5000 - r2_score: 0.5591 - val_loss: 713.6697 - val_mean_squared_error: 1048125.2500 - val_r2_score: 0.6144\n",
      "Epoch 18/20\n",
      "\u001b[1m54/54\u001b[0m \u001b[32m━━━━━━━━━━━━━━━━━━━━\u001b[0m\u001b[37m\u001b[0m \u001b[1m1s\u001b[0m 15ms/step - loss: 805.7397 - mean_squared_error: 1326534.0000 - r2_score: 0.5521 - val_loss: 730.8026 - val_mean_squared_error: 1139672.2500 - val_r2_score: 0.5807\n",
      "Epoch 19/20\n",
      "\u001b[1m54/54\u001b[0m \u001b[32m━━━━━━━━━━━━━━━━━━━━\u001b[0m\u001b[37m\u001b[0m \u001b[1m1s\u001b[0m 17ms/step - loss: 794.4910 - mean_squared_error: 1275748.1250 - r2_score: 0.5671 - val_loss: 733.0276 - val_mean_squared_error: 1066895.3750 - val_r2_score: 0.6075\n",
      "Epoch 20/20\n",
      "\u001b[1m54/54\u001b[0m \u001b[32m━━━━━━━━━━━━━━━━━━━━\u001b[0m\u001b[37m\u001b[0m \u001b[1m1s\u001b[0m 14ms/step - loss: 789.7001 - mean_squared_error: 1273522.5000 - r2_score: 0.5668 - val_loss: 722.9290 - val_mean_squared_error: 1067578.5000 - val_r2_score: 0.6072\n"
     ]
    }
   ],
   "source": [
    "# Train each model with its respective Epoch and Batch Size\n",
    "\n",
    "for pos, model in enumerate(all_adm_models):\n",
    "    print('Model_ADM'+str(pos+1))\n",
    "    if pos == 0:\n",
    "        model.fit(X_scaled_train,y_train.values, validation_data=(X_scaled_valid,y_valid),epochs=10,batch_size=128)\n",
    "    elif pos == 1:\n",
    "        model.fit(X_scaled_train,y_train.values, validation_data=(X_scaled_valid,y_valid),epochs=10,batch_size=128)\n",
    "    elif pos == 2:\n",
    "        model.fit(X_scaled_train,y_train.values, validation_data=(X_scaled_valid,y_valid),epochs=20,batch_size=128)\n",
    "    elif pos == 3:\n",
    "        model.fit(X_scaled_train,y_train.values, validation_data=(X_scaled_valid,y_valid),epochs=20,batch_size=128)\n",
    "    elif pos == 4:\n",
    "        model.fit(X_scaled_train,y_train.values, validation_data=(X_scaled_valid,y_valid),epochs=20,batch_size=128)\n",
    "    elif pos == 5:\n",
    "        model.fit(X_scaled_train,y_train.values, validation_data=(X_scaled_valid,y_valid),epochs=20,batch_size=200)\n",
    "    elif pos == 6:\n",
    "        model.fit(X_scaled_train,y_train.values, validation_data=(X_scaled_valid,y_valid),epochs=20,batch_size=128)\n",
    "    elif pos == 7:\n",
    "        model.fit(X_scaled_train,y_train.values, validation_data=(X_scaled_valid,y_valid),epochs=20,batch_size=128)\n",
    "    elif pos == 8:\n",
    "        model.fit(X_scaled_train,y_train.values, validation_data=(X_scaled_valid,y_valid),epochs=20,batch_size=128)\n",
    "    elif pos == 9:\n",
    "        model.fit(X_scaled_train,y_train.values, validation_data=(X_scaled_valid,y_valid),epochs=20,batch_size=128)"
   ]
  },
  {
   "cell_type": "code",
   "execution_count": 86,
   "id": "3ec64d66-5deb-495d-a3a7-e78dd5b2ecf1",
   "metadata": {},
   "outputs": [
    {
     "name": "stdout",
     "output_type": "stream",
     "text": [
      "Model_SGD1\n",
      "Epoch 1/10\n",
      "\u001b[1m54/54\u001b[0m \u001b[32m━━━━━━━━━━━━━━━━━━━━\u001b[0m\u001b[37m\u001b[0m \u001b[1m0s\u001b[0m 6ms/step - loss: 771.2899 - mean_squared_error: 1230349.8750 - r2_score: 0.5773 - val_loss: 717.1848 - val_mean_squared_error: 1042635.5000 - val_r2_score: 0.6164\n",
      "Epoch 2/10\n",
      "\u001b[1m54/54\u001b[0m \u001b[32m━━━━━━━━━━━━━━━━━━━━\u001b[0m\u001b[37m\u001b[0m \u001b[1m0s\u001b[0m 6ms/step - loss: 773.8152 - mean_squared_error: 1239607.6250 - r2_score: 0.5867 - val_loss: 710.8363 - val_mean_squared_error: 1047361.8125 - val_r2_score: 0.6147\n",
      "Epoch 3/10\n",
      "\u001b[1m54/54\u001b[0m \u001b[32m━━━━━━━━━━━━━━━━━━━━\u001b[0m\u001b[37m\u001b[0m \u001b[1m0s\u001b[0m 6ms/step - loss: 753.2814 - mean_squared_error: 1176966.7500 - r2_score: 0.6022 - val_loss: 713.9092 - val_mean_squared_error: 1044608.4375 - val_r2_score: 0.6157\n",
      "Epoch 4/10\n",
      "\u001b[1m54/54\u001b[0m \u001b[32m━━━━━━━━━━━━━━━━━━━━\u001b[0m\u001b[37m\u001b[0m \u001b[1m0s\u001b[0m 5ms/step - loss: 769.3211 - mean_squared_error: 1221322.7500 - r2_score: 0.5860 - val_loss: 709.7570 - val_mean_squared_error: 1040417.3125 - val_r2_score: 0.6172\n",
      "Epoch 5/10\n",
      "\u001b[1m54/54\u001b[0m \u001b[32m━━━━━━━━━━━━━━━━━━━━\u001b[0m\u001b[37m\u001b[0m \u001b[1m0s\u001b[0m 6ms/step - loss: 767.4853 - mean_squared_error: 1214994.5000 - r2_score: 0.5920 - val_loss: 724.0589 - val_mean_squared_error: 1055806.5000 - val_r2_score: 0.6115\n",
      "Epoch 6/10\n",
      "\u001b[1m54/54\u001b[0m \u001b[32m━━━━━━━━━━━━━━━━━━━━\u001b[0m\u001b[37m\u001b[0m \u001b[1m0s\u001b[0m 5ms/step - loss: 757.3918 - mean_squared_error: 1196655.8750 - r2_score: 0.5812 - val_loss: 710.1689 - val_mean_squared_error: 1043177.3750 - val_r2_score: 0.6162\n",
      "Epoch 7/10\n",
      "\u001b[1m54/54\u001b[0m \u001b[32m━━━━━━━━━━━━━━━━━━━━\u001b[0m\u001b[37m\u001b[0m \u001b[1m0s\u001b[0m 5ms/step - loss: 750.4588 - mean_squared_error: 1183446.3750 - r2_score: 0.6018 - val_loss: 716.6035 - val_mean_squared_error: 1038620.3125 - val_r2_score: 0.6179\n",
      "Epoch 8/10\n",
      "\u001b[1m54/54\u001b[0m \u001b[32m━━━━━━━━━━━━━━━━━━━━\u001b[0m\u001b[37m\u001b[0m \u001b[1m0s\u001b[0m 6ms/step - loss: 737.1097 - mean_squared_error: 1138937.6250 - r2_score: 0.6103 - val_loss: 712.1920 - val_mean_squared_error: 1047636.3125 - val_r2_score: 0.6146\n",
      "Epoch 9/10\n",
      "\u001b[1m54/54\u001b[0m \u001b[32m━━━━━━━━━━━━━━━━━━━━\u001b[0m\u001b[37m\u001b[0m \u001b[1m0s\u001b[0m 6ms/step - loss: 749.8142 - mean_squared_error: 1181070.6250 - r2_score: 0.5940 - val_loss: 713.2361 - val_mean_squared_error: 1057276.3750 - val_r2_score: 0.6110\n",
      "Epoch 10/10\n",
      "\u001b[1m54/54\u001b[0m \u001b[32m━━━━━━━━━━━━━━━━━━━━\u001b[0m\u001b[37m\u001b[0m \u001b[1m0s\u001b[0m 4ms/step - loss: 748.3834 - mean_squared_error: 1163228.3750 - r2_score: 0.5956 - val_loss: 712.8407 - val_mean_squared_error: 1048923.3750 - val_r2_score: 0.6141\n",
      "Model_SGD2\n",
      "Epoch 1/10\n",
      "\u001b[1m54/54\u001b[0m \u001b[32m━━━━━━━━━━━━━━━━━━━━\u001b[0m\u001b[37m\u001b[0m \u001b[1m0s\u001b[0m 5ms/step - loss: 765.2458 - mean_squared_error: 1217721.3750 - r2_score: 0.5835 - val_loss: 714.1803 - val_mean_squared_error: 1038618.8125 - val_r2_score: 0.6179\n",
      "Epoch 2/10\n",
      "\u001b[1m54/54\u001b[0m \u001b[32m━━━━━━━━━━━━━━━━━━━━\u001b[0m\u001b[37m\u001b[0m \u001b[1m0s\u001b[0m 5ms/step - loss: 756.7195 - mean_squared_error: 1213278.7500 - r2_score: 0.5988 - val_loss: 718.8810 - val_mean_squared_error: 1052360.3750 - val_r2_score: 0.6128\n",
      "Epoch 3/10\n",
      "\u001b[1m54/54\u001b[0m \u001b[32m━━━━━━━━━━━━━━━━━━━━\u001b[0m\u001b[37m\u001b[0m \u001b[1m0s\u001b[0m 5ms/step - loss: 762.3135 - mean_squared_error: 1232530.5000 - r2_score: 0.5968 - val_loss: 713.8959 - val_mean_squared_error: 1058049.3750 - val_r2_score: 0.6107\n",
      "Epoch 4/10\n",
      "\u001b[1m54/54\u001b[0m \u001b[32m━━━━━━━━━━━━━━━━━━━━\u001b[0m\u001b[37m\u001b[0m \u001b[1m0s\u001b[0m 5ms/step - loss: 769.3392 - mean_squared_error: 1243000.7500 - r2_score: 0.5961 - val_loss: 758.4639 - val_mean_squared_error: 1119390.8750 - val_r2_score: 0.5882\n",
      "Epoch 5/10\n",
      "\u001b[1m54/54\u001b[0m \u001b[32m━━━━━━━━━━━━━━━━━━━━\u001b[0m\u001b[37m\u001b[0m \u001b[1m0s\u001b[0m 4ms/step - loss: 776.2766 - mean_squared_error: 1239121.0000 - r2_score: 0.5934 - val_loss: 716.9892 - val_mean_squared_error: 1045263.6250 - val_r2_score: 0.6154\n",
      "Epoch 6/10\n",
      "\u001b[1m54/54\u001b[0m \u001b[32m━━━━━━━━━━━━━━━━━━━━\u001b[0m\u001b[37m\u001b[0m \u001b[1m0s\u001b[0m 5ms/step - loss: 740.7854 - mean_squared_error: 1140867.7500 - r2_score: 0.6075 - val_loss: 714.4612 - val_mean_squared_error: 1038034.8125 - val_r2_score: 0.6181\n",
      "Epoch 7/10\n",
      "\u001b[1m54/54\u001b[0m \u001b[32m━━━━━━━━━━━━━━━━━━━━\u001b[0m\u001b[37m\u001b[0m \u001b[1m0s\u001b[0m 6ms/step - loss: 752.1554 - mean_squared_error: 1189757.1250 - r2_score: 0.5911 - val_loss: 731.5826 - val_mean_squared_error: 1071941.5000 - val_r2_score: 0.6056\n",
      "Epoch 8/10\n",
      "\u001b[1m54/54\u001b[0m \u001b[32m━━━━━━━━━━━━━━━━━━━━\u001b[0m\u001b[37m\u001b[0m \u001b[1m0s\u001b[0m 5ms/step - loss: 769.3972 - mean_squared_error: 1206381.3750 - r2_score: 0.5996 - val_loss: 716.0328 - val_mean_squared_error: 1046791.3750 - val_r2_score: 0.6149\n",
      "Epoch 9/10\n",
      "\u001b[1m54/54\u001b[0m \u001b[32m━━━━━━━━━━━━━━━━━━━━\u001b[0m\u001b[37m\u001b[0m \u001b[1m0s\u001b[0m 5ms/step - loss: 745.6927 - mean_squared_error: 1185046.7500 - r2_score: 0.6128 - val_loss: 712.1817 - val_mean_squared_error: 1035544.2500 - val_r2_score: 0.6190\n",
      "Epoch 10/10\n",
      "\u001b[1m54/54\u001b[0m \u001b[32m━━━━━━━━━━━━━━━━━━━━\u001b[0m\u001b[37m\u001b[0m \u001b[1m0s\u001b[0m 5ms/step - loss: 754.4500 - mean_squared_error: 1196686.8750 - r2_score: 0.5977 - val_loss: 710.7016 - val_mean_squared_error: 1048043.3750 - val_r2_score: 0.6144\n",
      "Model_SGD3\n",
      "Epoch 1/20\n",
      "\u001b[1m54/54\u001b[0m \u001b[32m━━━━━━━━━━━━━━━━━━━━\u001b[0m\u001b[37m\u001b[0m \u001b[1m0s\u001b[0m 6ms/step - loss: 750.2313 - mean_squared_error: 1167900.1250 - r2_score: 0.6087 - val_loss: 716.4650 - val_mean_squared_error: 1046333.3125 - val_r2_score: 0.6150\n",
      "Epoch 2/20\n",
      "\u001b[1m54/54\u001b[0m \u001b[32m━━━━━━━━━━━━━━━━━━━━\u001b[0m\u001b[37m\u001b[0m \u001b[1m0s\u001b[0m 4ms/step - loss: 763.6720 - mean_squared_error: 1220913.8750 - r2_score: 0.5894 - val_loss: 708.4147 - val_mean_squared_error: 1034668.1250 - val_r2_score: 0.6193\n",
      "Epoch 3/20\n",
      "\u001b[1m54/54\u001b[0m \u001b[32m━━━━━━━━━━━━━━━━━━━━\u001b[0m\u001b[37m\u001b[0m \u001b[1m0s\u001b[0m 5ms/step - loss: 761.1929 - mean_squared_error: 1214730.8750 - r2_score: 0.5925 - val_loss: 715.1699 - val_mean_squared_error: 1038582.9375 - val_r2_score: 0.6179\n",
      "Epoch 4/20\n",
      "\u001b[1m54/54\u001b[0m \u001b[32m━━━━━━━━━━━━━━━━━━━━\u001b[0m\u001b[37m\u001b[0m \u001b[1m0s\u001b[0m 5ms/step - loss: 742.8375 - mean_squared_error: 1153264.7500 - r2_score: 0.6048 - val_loss: 724.3953 - val_mean_squared_error: 1051319.3750 - val_r2_score: 0.6132\n",
      "Epoch 5/20\n",
      "\u001b[1m54/54\u001b[0m \u001b[32m━━━━━━━━━━━━━━━━━━━━\u001b[0m\u001b[37m\u001b[0m \u001b[1m0s\u001b[0m 5ms/step - loss: 745.2634 - mean_squared_error: 1165027.2500 - r2_score: 0.6155 - val_loss: 713.1852 - val_mean_squared_error: 1037979.1875 - val_r2_score: 0.6181\n",
      "Epoch 6/20\n",
      "\u001b[1m54/54\u001b[0m \u001b[32m━━━━━━━━━━━━━━━━━━━━\u001b[0m\u001b[37m\u001b[0m \u001b[1m0s\u001b[0m 5ms/step - loss: 741.2933 - mean_squared_error: 1146564.3750 - r2_score: 0.6156 - val_loss: 708.4385 - val_mean_squared_error: 1034870.8125 - val_r2_score: 0.6192\n",
      "Epoch 7/20\n",
      "\u001b[1m54/54\u001b[0m \u001b[32m━━━━━━━━━━━━━━━━━━━━\u001b[0m\u001b[37m\u001b[0m \u001b[1m0s\u001b[0m 6ms/step - loss: 757.1015 - mean_squared_error: 1209334.5000 - r2_score: 0.5851 - val_loss: 725.1457 - val_mean_squared_error: 1059560.2500 - val_r2_score: 0.6102\n",
      "Epoch 8/20\n",
      "\u001b[1m54/54\u001b[0m \u001b[32m━━━━━━━━━━━━━━━━━━━━\u001b[0m\u001b[37m\u001b[0m \u001b[1m0s\u001b[0m 5ms/step - loss: 749.5420 - mean_squared_error: 1178902.0000 - r2_score: 0.5916 - val_loss: 710.8819 - val_mean_squared_error: 1034649.1250 - val_r2_score: 0.6193\n",
      "Epoch 9/20\n",
      "\u001b[1m54/54\u001b[0m \u001b[32m━━━━━━━━━━━━━━━━━━━━\u001b[0m\u001b[37m\u001b[0m \u001b[1m0s\u001b[0m 4ms/step - loss: 743.0872 - mean_squared_error: 1135618.1250 - r2_score: 0.6006 - val_loss: 711.2060 - val_mean_squared_error: 1034610.6875 - val_r2_score: 0.6193\n",
      "Epoch 10/20\n",
      "\u001b[1m54/54\u001b[0m \u001b[32m━━━━━━━━━━━━━━━━━━━━\u001b[0m\u001b[37m\u001b[0m \u001b[1m0s\u001b[0m 6ms/step - loss: 748.6929 - mean_squared_error: 1184250.8750 - r2_score: 0.5921 - val_loss: 711.9245 - val_mean_squared_error: 1043067.5625 - val_r2_score: 0.6162\n",
      "Epoch 11/20\n",
      "\u001b[1m54/54\u001b[0m \u001b[32m━━━━━━━━━━━━━━━━━━━━\u001b[0m\u001b[37m\u001b[0m \u001b[1m0s\u001b[0m 5ms/step - loss: 747.1932 - mean_squared_error: 1164670.6250 - r2_score: 0.5975 - val_loss: 722.3729 - val_mean_squared_error: 1050478.0000 - val_r2_score: 0.6135\n",
      "Epoch 12/20\n",
      "\u001b[1m54/54\u001b[0m \u001b[32m━━━━━━━━━━━━━━━━━━━━\u001b[0m\u001b[37m\u001b[0m \u001b[1m0s\u001b[0m 6ms/step - loss: 762.8302 - mean_squared_error: 1211992.1250 - r2_score: 0.5885 - val_loss: 713.0187 - val_mean_squared_error: 1037366.5625 - val_r2_score: 0.6183\n",
      "Epoch 13/20\n",
      "\u001b[1m54/54\u001b[0m \u001b[32m━━━━━━━━━━━━━━━━━━━━\u001b[0m\u001b[37m\u001b[0m \u001b[1m0s\u001b[0m 5ms/step - loss: 748.9835 - mean_squared_error: 1156414.6250 - r2_score: 0.6089 - val_loss: 714.7557 - val_mean_squared_error: 1072777.1250 - val_r2_score: 0.6053\n",
      "Epoch 14/20\n",
      "\u001b[1m54/54\u001b[0m \u001b[32m━━━━━━━━━━━━━━━━━━━━\u001b[0m\u001b[37m\u001b[0m \u001b[1m0s\u001b[0m 6ms/step - loss: 763.6229 - mean_squared_error: 1206263.6250 - r2_score: 0.5937 - val_loss: 712.7813 - val_mean_squared_error: 1038244.8125 - val_r2_score: 0.6180\n",
      "Epoch 15/20\n",
      "\u001b[1m54/54\u001b[0m \u001b[32m━━━━━━━━━━━━━━━━━━━━\u001b[0m\u001b[37m\u001b[0m \u001b[1m0s\u001b[0m 5ms/step - loss: 766.8873 - mean_squared_error: 1223450.5000 - r2_score: 0.5778 - val_loss: 711.4881 - val_mean_squared_error: 1053394.6250 - val_r2_score: 0.6124\n",
      "Epoch 16/20\n",
      "\u001b[1m54/54\u001b[0m \u001b[32m━━━━━━━━━━━━━━━━━━━━\u001b[0m\u001b[37m\u001b[0m \u001b[1m0s\u001b[0m 5ms/step - loss: 753.9659 - mean_squared_error: 1167800.1250 - r2_score: 0.6067 - val_loss: 708.2850 - val_mean_squared_error: 1037781.8125 - val_r2_score: 0.6182\n",
      "Epoch 17/20\n",
      "\u001b[1m54/54\u001b[0m \u001b[32m━━━━━━━━━━━━━━━━━━━━\u001b[0m\u001b[37m\u001b[0m \u001b[1m0s\u001b[0m 5ms/step - loss: 765.8419 - mean_squared_error: 1241957.8750 - r2_score: 0.5978 - val_loss: 708.1814 - val_mean_squared_error: 1036713.5000 - val_r2_score: 0.6186\n",
      "Epoch 18/20\n",
      "\u001b[1m54/54\u001b[0m \u001b[32m━━━━━━━━━━━━━━━━━━━━\u001b[0m\u001b[37m\u001b[0m \u001b[1m0s\u001b[0m 5ms/step - loss: 765.0728 - mean_squared_error: 1236594.6250 - r2_score: 0.5900 - val_loss: 713.7193 - val_mean_squared_error: 1046768.9375 - val_r2_score: 0.6149\n",
      "Epoch 19/20\n",
      "\u001b[1m54/54\u001b[0m \u001b[32m━━━━━━━━━━━━━━━━━━━━\u001b[0m\u001b[37m\u001b[0m \u001b[1m0s\u001b[0m 6ms/step - loss: 750.5090 - mean_squared_error: 1177387.8750 - r2_score: 0.6035 - val_loss: 714.1359 - val_mean_squared_error: 1035963.1875 - val_r2_score: 0.6188\n",
      "Epoch 20/20\n",
      "\u001b[1m54/54\u001b[0m \u001b[32m━━━━━━━━━━━━━━━━━━━━\u001b[0m\u001b[37m\u001b[0m \u001b[1m0s\u001b[0m 5ms/step - loss: 745.2905 - mean_squared_error: 1123232.5000 - r2_score: 0.6042 - val_loss: 713.5861 - val_mean_squared_error: 1039207.1250 - val_r2_score: 0.6177\n",
      "Model_SGD4\n",
      "Epoch 1/20\n",
      "\u001b[1m54/54\u001b[0m \u001b[32m━━━━━━━━━━━━━━━━━━━━\u001b[0m\u001b[37m\u001b[0m \u001b[1m1s\u001b[0m 10ms/step - loss: 961.3469 - mean_squared_error: 2032992.6250 - r2_score: 0.3292 - val_loss: 846.5046 - val_mean_squared_error: 1643065.5000 - val_r2_score: 0.3955\n",
      "Epoch 2/20\n",
      "\u001b[1m54/54\u001b[0m \u001b[32m━━━━━━━━━━━━━━━━━━━━\u001b[0m\u001b[37m\u001b[0m \u001b[1m0s\u001b[0m 8ms/step - loss: 905.8557 - mean_squared_error: 1845923.1250 - r2_score: 0.3738 - val_loss: 846.0892 - val_mean_squared_error: 1619263.5000 - val_r2_score: 0.4042\n",
      "Epoch 3/20\n",
      "\u001b[1m54/54\u001b[0m \u001b[32m━━━━━━━━━━━━━━━━━━━━\u001b[0m\u001b[37m\u001b[0m \u001b[1m1s\u001b[0m 9ms/step - loss: 894.7451 - mean_squared_error: 1819302.3750 - r2_score: 0.3814 - val_loss: 822.5312 - val_mean_squared_error: 1529490.3750 - val_r2_score: 0.4373\n",
      "Epoch 4/20\n",
      "\u001b[1m54/54\u001b[0m \u001b[32m━━━━━━━━━━━━━━━━━━━━\u001b[0m\u001b[37m\u001b[0m \u001b[1m0s\u001b[0m 8ms/step - loss: 868.9396 - mean_squared_error: 1728385.7500 - r2_score: 0.4055 - val_loss: 813.7008 - val_mean_squared_error: 1516426.6250 - val_r2_score: 0.4421\n",
      "Epoch 5/20\n",
      "\u001b[1m54/54\u001b[0m \u001b[32m━━━━━━━━━━━━━━━━━━━━\u001b[0m\u001b[37m\u001b[0m \u001b[1m1s\u001b[0m 9ms/step - loss: 879.2472 - mean_squared_error: 1752258.8750 - r2_score: 0.4086 - val_loss: 810.2818 - val_mean_squared_error: 1493487.3750 - val_r2_score: 0.4505\n",
      "Epoch 6/20\n",
      "\u001b[1m54/54\u001b[0m \u001b[32m━━━━━━━━━━━━━━━━━━━━\u001b[0m\u001b[37m\u001b[0m \u001b[1m1s\u001b[0m 10ms/step - loss: 881.4226 - mean_squared_error: 1692426.3750 - r2_score: 0.4182 - val_loss: 793.4024 - val_mean_squared_error: 1433635.6250 - val_r2_score: 0.4725\n",
      "Epoch 7/20\n",
      "\u001b[1m54/54\u001b[0m \u001b[32m━━━━━━━━━━━━━━━━━━━━\u001b[0m\u001b[37m\u001b[0m \u001b[1m1s\u001b[0m 9ms/step - loss: 864.0727 - mean_squared_error: 1633082.1250 - r2_score: 0.4259 - val_loss: 832.6046 - val_mean_squared_error: 1583365.1250 - val_r2_score: 0.4174\n",
      "Epoch 8/20\n",
      "\u001b[1m54/54\u001b[0m \u001b[32m━━━━━━━━━━━━━━━━━━━━\u001b[0m\u001b[37m\u001b[0m \u001b[1m1s\u001b[0m 9ms/step - loss: 863.6686 - mean_squared_error: 1634258.5000 - r2_score: 0.4380 - val_loss: 819.1974 - val_mean_squared_error: 1502138.1250 - val_r2_score: 0.4473\n",
      "Epoch 9/20\n",
      "\u001b[1m54/54\u001b[0m \u001b[32m━━━━━━━━━━━━━━━━━━━━\u001b[0m\u001b[37m\u001b[0m \u001b[1m1s\u001b[0m 9ms/step - loss: 851.6790 - mean_squared_error: 1644274.3750 - r2_score: 0.4528 - val_loss: 801.6746 - val_mean_squared_error: 1456170.2500 - val_r2_score: 0.4642\n",
      "Epoch 10/20\n",
      "\u001b[1m54/54\u001b[0m \u001b[32m━━━━━━━━━━━━━━━━━━━━\u001b[0m\u001b[37m\u001b[0m \u001b[1m1s\u001b[0m 9ms/step - loss: 859.2994 - mean_squared_error: 1640278.6250 - r2_score: 0.4562 - val_loss: 798.4106 - val_mean_squared_error: 1445532.8750 - val_r2_score: 0.4682\n",
      "Epoch 11/20\n",
      "\u001b[1m54/54\u001b[0m \u001b[32m━━━━━━━━━━━━━━━━━━━━\u001b[0m\u001b[37m\u001b[0m \u001b[1m0s\u001b[0m 8ms/step - loss: 868.9936 - mean_squared_error: 1620584.1250 - r2_score: 0.4596 - val_loss: 756.0394 - val_mean_squared_error: 1284759.6250 - val_r2_score: 0.5273\n",
      "Epoch 12/20\n",
      "\u001b[1m54/54\u001b[0m \u001b[32m━━━━━━━━━━━━━━━━━━━━\u001b[0m\u001b[37m\u001b[0m \u001b[1m1s\u001b[0m 9ms/step - loss: 823.8652 - mean_squared_error: 1484724.1250 - r2_score: 0.4799 - val_loss: 789.8221 - val_mean_squared_error: 1405247.6250 - val_r2_score: 0.4830\n",
      "Epoch 13/20\n",
      "\u001b[1m54/54\u001b[0m \u001b[32m━━━━━━━━━━━━━━━━━━━━\u001b[0m\u001b[37m\u001b[0m \u001b[1m1s\u001b[0m 10ms/step - loss: 845.4850 - mean_squared_error: 1539952.0000 - r2_score: 0.4725 - val_loss: 767.8997 - val_mean_squared_error: 1329956.0000 - val_r2_score: 0.5107\n",
      "Epoch 14/20\n",
      "\u001b[1m54/54\u001b[0m \u001b[32m━━━━━━━━━━━━━━━━━━━━\u001b[0m\u001b[37m\u001b[0m \u001b[1m1s\u001b[0m 9ms/step - loss: 832.5381 - mean_squared_error: 1492907.2500 - r2_score: 0.4889 - val_loss: 781.9130 - val_mean_squared_error: 1371926.1250 - val_r2_score: 0.4952\n",
      "Epoch 15/20\n",
      "\u001b[1m54/54\u001b[0m \u001b[32m━━━━━━━━━━━━━━━━━━━━\u001b[0m\u001b[37m\u001b[0m \u001b[1m1s\u001b[0m 9ms/step - loss: 843.6957 - mean_squared_error: 1554161.6250 - r2_score: 0.4863 - val_loss: 762.5456 - val_mean_squared_error: 1306046.3750 - val_r2_score: 0.5195\n",
      "Epoch 16/20\n",
      "\u001b[1m54/54\u001b[0m \u001b[32m━━━━━━━━━━━━━━━━━━━━\u001b[0m\u001b[37m\u001b[0m \u001b[1m1s\u001b[0m 9ms/step - loss: 823.2861 - mean_squared_error: 1465738.6250 - r2_score: 0.4985 - val_loss: 775.5387 - val_mean_squared_error: 1344729.0000 - val_r2_score: 0.5052\n",
      "Epoch 17/20\n",
      "\u001b[1m54/54\u001b[0m \u001b[32m━━━━━━━━━━━━━━━━━━━━\u001b[0m\u001b[37m\u001b[0m \u001b[1m1s\u001b[0m 9ms/step - loss: 814.0118 - mean_squared_error: 1440678.1250 - r2_score: 0.5137 - val_loss: 782.5558 - val_mean_squared_error: 1366731.2500 - val_r2_score: 0.4971\n",
      "Epoch 18/20\n",
      "\u001b[1m54/54\u001b[0m \u001b[32m━━━━━━━━━━━━━━━━━━━━\u001b[0m\u001b[37m\u001b[0m \u001b[1m1s\u001b[0m 10ms/step - loss: 822.7234 - mean_squared_error: 1452571.7500 - r2_score: 0.5086 - val_loss: 754.5103 - val_mean_squared_error: 1260243.7500 - val_r2_score: 0.5363\n",
      "Epoch 19/20\n",
      "\u001b[1m54/54\u001b[0m \u001b[32m━━━━━━━━━━━━━━━━━━━━\u001b[0m\u001b[37m\u001b[0m \u001b[1m1s\u001b[0m 10ms/step - loss: 820.0344 - mean_squared_error: 1439535.1250 - r2_score: 0.5100 - val_loss: 733.2072 - val_mean_squared_error: 1161090.6250 - val_r2_score: 0.5728\n",
      "Epoch 20/20\n",
      "\u001b[1m54/54\u001b[0m \u001b[32m━━━━━━━━━━━━━━━━━━━━\u001b[0m\u001b[37m\u001b[0m \u001b[1m1s\u001b[0m 8ms/step - loss: 800.4536 - mean_squared_error: 1364907.0000 - r2_score: 0.5272 - val_loss: 747.7530 - val_mean_squared_error: 1249331.0000 - val_r2_score: 0.5403\n",
      "Model_SGD5\n",
      "Epoch 1/20\n",
      "\u001b[1m54/54\u001b[0m \u001b[32m━━━━━━━━━━━━━━━━━━━━\u001b[0m\u001b[37m\u001b[0m \u001b[1m1s\u001b[0m 13ms/step - loss: 933.7972 - mean_squared_error: 1962843.8750 - r2_score: 0.3533 - val_loss: 822.8215 - val_mean_squared_error: 1539729.0000 - val_r2_score: 0.4335\n",
      "Epoch 2/20\n",
      "\u001b[1m54/54\u001b[0m \u001b[32m━━━━━━━━━━━━━━━━━━━━\u001b[0m\u001b[37m\u001b[0m \u001b[1m1s\u001b[0m 10ms/step - loss: 904.1357 - mean_squared_error: 1841897.5000 - r2_score: 0.3618 - val_loss: 846.7271 - val_mean_squared_error: 1608571.6250 - val_r2_score: 0.4082\n",
      "Epoch 3/20\n",
      "\u001b[1m54/54\u001b[0m \u001b[32m━━━━━━━━━━━━━━━━━━━━\u001b[0m\u001b[37m\u001b[0m \u001b[1m1s\u001b[0m 11ms/step - loss: 907.1792 - mean_squared_error: 1853338.3750 - r2_score: 0.3846 - val_loss: 833.4991 - val_mean_squared_error: 1555553.1250 - val_r2_score: 0.4277\n",
      "Epoch 4/20\n",
      "\u001b[1m54/54\u001b[0m \u001b[32m━━━━━━━━━━━━━━━━━━━━\u001b[0m\u001b[37m\u001b[0m \u001b[1m1s\u001b[0m 10ms/step - loss: 899.8238 - mean_squared_error: 1772192.3750 - r2_score: 0.4018 - val_loss: 780.9938 - val_mean_squared_error: 1364532.1250 - val_r2_score: 0.4980\n",
      "Epoch 5/20\n",
      "\u001b[1m54/54\u001b[0m \u001b[32m━━━━━━━━━━━━━━━━━━━━\u001b[0m\u001b[37m\u001b[0m \u001b[1m1s\u001b[0m 11ms/step - loss: 858.0651 - mean_squared_error: 1648304.1250 - r2_score: 0.4241 - val_loss: 800.2671 - val_mean_squared_error: 1434572.7500 - val_r2_score: 0.4722\n",
      "Epoch 6/20\n",
      "\u001b[1m54/54\u001b[0m \u001b[32m━━━━━━━━━━━━━━━━━━━━\u001b[0m\u001b[37m\u001b[0m \u001b[1m1s\u001b[0m 10ms/step - loss: 883.4187 - mean_squared_error: 1704888.2500 - r2_score: 0.4253 - val_loss: 777.6750 - val_mean_squared_error: 1353210.8750 - val_r2_score: 0.5021\n",
      "Epoch 7/20\n",
      "\u001b[1m54/54\u001b[0m \u001b[32m━━━━━━━━━━━━━━━━━━━━\u001b[0m\u001b[37m\u001b[0m \u001b[1m1s\u001b[0m 11ms/step - loss: 870.7585 - mean_squared_error: 1698330.2500 - r2_score: 0.4347 - val_loss: 762.6669 - val_mean_squared_error: 1296470.0000 - val_r2_score: 0.5230\n",
      "Epoch 8/20\n",
      "\u001b[1m54/54\u001b[0m \u001b[32m━━━━━━━━━━━━━━━━━━━━\u001b[0m\u001b[37m\u001b[0m \u001b[1m1s\u001b[0m 11ms/step - loss: 836.1855 - mean_squared_error: 1548216.0000 - r2_score: 0.4555 - val_loss: 780.9456 - val_mean_squared_error: 1366298.8750 - val_r2_score: 0.4973\n",
      "Epoch 9/20\n",
      "\u001b[1m54/54\u001b[0m \u001b[32m━━━━━━━━━━━━━━━━━━━━\u001b[0m\u001b[37m\u001b[0m \u001b[1m1s\u001b[0m 11ms/step - loss: 858.2549 - mean_squared_error: 1619099.0000 - r2_score: 0.4637 - val_loss: 772.6173 - val_mean_squared_error: 1342958.8750 - val_r2_score: 0.5059\n",
      "Epoch 10/20\n",
      "\u001b[1m54/54\u001b[0m \u001b[32m━━━━━━━━━━━━━━━━━━━━\u001b[0m\u001b[37m\u001b[0m \u001b[1m1s\u001b[0m 12ms/step - loss: 836.3392 - mean_squared_error: 1528245.3750 - r2_score: 0.4775 - val_loss: 783.6127 - val_mean_squared_error: 1378659.0000 - val_r2_score: 0.4928\n",
      "Epoch 11/20\n",
      "\u001b[1m54/54\u001b[0m \u001b[32m━━━━━━━━━━━━━━━━━━━━\u001b[0m\u001b[37m\u001b[0m \u001b[1m1s\u001b[0m 9ms/step - loss: 838.8019 - mean_squared_error: 1602261.7500 - r2_score: 0.4761 - val_loss: 769.9925 - val_mean_squared_error: 1335117.3750 - val_r2_score: 0.5088\n",
      "Epoch 12/20\n",
      "\u001b[1m54/54\u001b[0m \u001b[32m━━━━━━━━━━━━━━━━━━━━\u001b[0m\u001b[37m\u001b[0m \u001b[1m1s\u001b[0m 12ms/step - loss: 823.4580 - mean_squared_error: 1494459.5000 - r2_score: 0.4851 - val_loss: 771.7516 - val_mean_squared_error: 1330715.5000 - val_r2_score: 0.5104\n",
      "Epoch 13/20\n",
      "\u001b[1m54/54\u001b[0m \u001b[32m━━━━━━━━━━━━━━━━━━━━\u001b[0m\u001b[37m\u001b[0m \u001b[1m1s\u001b[0m 11ms/step - loss: 828.3152 - mean_squared_error: 1488022.7500 - r2_score: 0.4918 - val_loss: 739.7010 - val_mean_squared_error: 1196038.8750 - val_r2_score: 0.5600\n",
      "Epoch 14/20\n",
      "\u001b[1m54/54\u001b[0m \u001b[32m━━━━━━━━━━━━━━━━━━━━\u001b[0m\u001b[37m\u001b[0m \u001b[1m1s\u001b[0m 11ms/step - loss: 837.2354 - mean_squared_error: 1554249.7500 - r2_score: 0.4826 - val_loss: 750.2701 - val_mean_squared_error: 1242807.6250 - val_r2_score: 0.5427\n",
      "Epoch 15/20\n",
      "\u001b[1m54/54\u001b[0m \u001b[32m━━━━━━━━━━━━━━━━━━━━\u001b[0m\u001b[37m\u001b[0m \u001b[1m1s\u001b[0m 10ms/step - loss: 824.0898 - mean_squared_error: 1461149.2500 - r2_score: 0.5015 - val_loss: 745.2737 - val_mean_squared_error: 1213926.0000 - val_r2_score: 0.5534\n",
      "Epoch 16/20\n",
      "\u001b[1m54/54\u001b[0m \u001b[32m━━━━━━━━━━━━━━━━━━━━\u001b[0m\u001b[37m\u001b[0m \u001b[1m1s\u001b[0m 14ms/step - loss: 816.3173 - mean_squared_error: 1435190.7500 - r2_score: 0.5138 - val_loss: 741.5930 - val_mean_squared_error: 1196362.8750 - val_r2_score: 0.5598\n",
      "Epoch 17/20\n",
      "\u001b[1m54/54\u001b[0m \u001b[32m━━━━━━━━━━━━━━━━━━━━\u001b[0m\u001b[37m\u001b[0m \u001b[1m1s\u001b[0m 12ms/step - loss: 811.6454 - mean_squared_error: 1436941.8750 - r2_score: 0.5190 - val_loss: 730.3889 - val_mean_squared_error: 1155397.2500 - val_r2_score: 0.5749\n",
      "Epoch 18/20\n",
      "\u001b[1m54/54\u001b[0m \u001b[32m━━━━━━━━━━━━━━━━━━━━\u001b[0m\u001b[37m\u001b[0m \u001b[1m1s\u001b[0m 13ms/step - loss: 824.2877 - mean_squared_error: 1431791.5000 - r2_score: 0.5139 - val_loss: 742.0783 - val_mean_squared_error: 1189298.1250 - val_r2_score: 0.5624\n",
      "Epoch 19/20\n",
      "\u001b[1m54/54\u001b[0m \u001b[32m━━━━━━━━━━━━━━━━━━━━\u001b[0m\u001b[37m\u001b[0m \u001b[1m1s\u001b[0m 14ms/step - loss: 814.9254 - mean_squared_error: 1433759.3750 - r2_score: 0.5225 - val_loss: 742.9166 - val_mean_squared_error: 1214350.5000 - val_r2_score: 0.5532\n",
      "Epoch 20/20\n",
      "\u001b[1m54/54\u001b[0m \u001b[32m━━━━━━━━━━━━━━━━━━━━\u001b[0m\u001b[37m\u001b[0m \u001b[1m1s\u001b[0m 14ms/step - loss: 811.2173 - mean_squared_error: 1431649.3750 - r2_score: 0.5151 - val_loss: 726.7556 - val_mean_squared_error: 1127923.5000 - val_r2_score: 0.5850\n",
      "Model_SGD6\n",
      "Epoch 1/20\n",
      "\u001b[1m35/35\u001b[0m \u001b[32m━━━━━━━━━━━━━━━━━━━━\u001b[0m\u001b[37m\u001b[0m \u001b[1m1s\u001b[0m 17ms/step - loss: 1399.4617 - mean_squared_error: 3929854.2500 - r2_score: -0.3406 - val_loss: 1304.7971 - val_mean_squared_error: 3436438.0000 - val_r2_score: -0.2643\n",
      "Epoch 2/20\n",
      "\u001b[1m35/35\u001b[0m \u001b[32m━━━━━━━━━━━━━━━━━━━━\u001b[0m\u001b[37m\u001b[0m \u001b[1m1s\u001b[0m 14ms/step - loss: 1428.2592 - mean_squared_error: 4092384.5000 - r2_score: -0.3447 - val_loss: 1301.7975 - val_mean_squared_error: 3418294.5000 - val_r2_score: -0.2577\n",
      "Epoch 3/20\n",
      "\u001b[1m35/35\u001b[0m \u001b[32m━━━━━━━━━━━━━━━━━━━━\u001b[0m\u001b[37m\u001b[0m \u001b[1m1s\u001b[0m 14ms/step - loss: 1373.3367 - mean_squared_error: 3816599.0000 - r2_score: -0.2988 - val_loss: 1341.8994 - val_mean_squared_error: 3530582.2500 - val_r2_score: -0.2990\n",
      "Epoch 4/20\n",
      "\u001b[1m35/35\u001b[0m \u001b[32m━━━━━━━━━━━━━━━━━━━━\u001b[0m\u001b[37m\u001b[0m \u001b[1m1s\u001b[0m 15ms/step - loss: 1360.6848 - mean_squared_error: 3721787.7500 - r2_score: -0.2946 - val_loss: 1297.5402 - val_mean_squared_error: 3379124.0000 - val_r2_score: -0.2433\n",
      "Epoch 5/20\n",
      "\u001b[1m35/35\u001b[0m \u001b[32m━━━━━━━━━━━━━━━━━━━━\u001b[0m\u001b[37m\u001b[0m \u001b[1m1s\u001b[0m 20ms/step - loss: 1317.6686 - mean_squared_error: 3561432.5000 - r2_score: -0.2508 - val_loss: 1271.0103 - val_mean_squared_error: 3278374.5000 - val_r2_score: -0.2062\n",
      "Epoch 6/20\n",
      "\u001b[1m35/35\u001b[0m \u001b[32m━━━━━━━━━━━━━━━━━━━━\u001b[0m\u001b[37m\u001b[0m \u001b[1m1s\u001b[0m 14ms/step - loss: 1328.0706 - mean_squared_error: 3678687.0000 - r2_score: -0.2237 - val_loss: 1260.4526 - val_mean_squared_error: 3240893.7500 - val_r2_score: -0.1924\n",
      "Epoch 7/20\n",
      "\u001b[1m35/35\u001b[0m \u001b[32m━━━━━━━━━━━━━━━━━━━━\u001b[0m\u001b[37m\u001b[0m \u001b[1m1s\u001b[0m 30ms/step - loss: 1330.0060 - mean_squared_error: 3604972.2500 - r2_score: -0.2339 - val_loss: 1257.2297 - val_mean_squared_error: 3235682.7500 - val_r2_score: -0.1905\n",
      "Epoch 8/20\n",
      "\u001b[1m35/35\u001b[0m \u001b[32m━━━━━━━━━━━━━━━━━━━━\u001b[0m\u001b[37m\u001b[0m \u001b[1m1s\u001b[0m 14ms/step - loss: 1295.2793 - mean_squared_error: 3444711.7500 - r2_score: -0.2069 - val_loss: 1254.3204 - val_mean_squared_error: 3188629.0000 - val_r2_score: -0.1732\n",
      "Epoch 9/20\n",
      "\u001b[1m35/35\u001b[0m \u001b[32m━━━━━━━━━━━━━━━━━━━━\u001b[0m\u001b[37m\u001b[0m \u001b[1m1s\u001b[0m 19ms/step - loss: 1267.3734 - mean_squared_error: 3391721.0000 - r2_score: -0.1574 - val_loss: 1215.9546 - val_mean_squared_error: 3082775.7500 - val_r2_score: -0.1342\n",
      "Epoch 10/20\n",
      "\u001b[1m35/35\u001b[0m \u001b[32m━━━━━━━━━━━━━━━━━━━━\u001b[0m\u001b[37m\u001b[0m \u001b[1m1s\u001b[0m 14ms/step - loss: 1300.8624 - mean_squared_error: 3576104.0000 - r2_score: -0.1703 - val_loss: 1205.6843 - val_mean_squared_error: 3009112.5000 - val_r2_score: -0.1071\n",
      "Epoch 11/20\n",
      "\u001b[1m35/35\u001b[0m \u001b[32m━━━━━━━━━━━━━━━━━━━━\u001b[0m\u001b[37m\u001b[0m \u001b[1m1s\u001b[0m 14ms/step - loss: 1266.2650 - mean_squared_error: 3350146.0000 - r2_score: -0.1423 - val_loss: 1152.6448 - val_mean_squared_error: 2850170.7500 - val_r2_score: -0.0486\n",
      "Epoch 12/20\n",
      "\u001b[1m35/35\u001b[0m \u001b[32m━━━━━━━━━━━━━━━━━━━━\u001b[0m\u001b[37m\u001b[0m \u001b[1m1s\u001b[0m 16ms/step - loss: 1231.1670 - mean_squared_error: 3204287.5000 - r2_score: -0.1088 - val_loss: 1188.9478 - val_mean_squared_error: 2940903.5000 - val_r2_score: -0.0820\n",
      "Epoch 13/20\n",
      "\u001b[1m35/35\u001b[0m \u001b[32m━━━━━━━━━━━━━━━━━━━━\u001b[0m\u001b[37m\u001b[0m \u001b[1m1s\u001b[0m 19ms/step - loss: 1222.3263 - mean_squared_error: 3168308.5000 - r2_score: -0.0898 - val_loss: 1189.3054 - val_mean_squared_error: 2938546.7500 - val_r2_score: -0.0812\n",
      "Epoch 14/20\n",
      "\u001b[1m35/35\u001b[0m \u001b[32m━━━━━━━━━━━━━━━━━━━━\u001b[0m\u001b[37m\u001b[0m \u001b[1m1s\u001b[0m 17ms/step - loss: 1254.2238 - mean_squared_error: 3327977.2500 - r2_score: -0.1046 - val_loss: 1163.4620 - val_mean_squared_error: 2845811.5000 - val_r2_score: -0.0470\n",
      "Epoch 15/20\n",
      "\u001b[1m35/35\u001b[0m \u001b[32m━━━━━━━━━━━━━━━━━━━━\u001b[0m\u001b[37m\u001b[0m \u001b[1m1s\u001b[0m 20ms/step - loss: 1222.8380 - mean_squared_error: 3188649.5000 - r2_score: -0.0737 - val_loss: 1106.4240 - val_mean_squared_error: 2626733.5000 - val_r2_score: 0.0336\n",
      "Epoch 16/20\n",
      "\u001b[1m35/35\u001b[0m \u001b[32m━━━━━━━━━━━━━━━━━━━━\u001b[0m\u001b[37m\u001b[0m \u001b[1m1s\u001b[0m 19ms/step - loss: 1184.2727 - mean_squared_error: 3003966.2500 - r2_score: -0.0424 - val_loss: 1095.6910 - val_mean_squared_error: 2600466.0000 - val_r2_score: 0.0432\n",
      "Epoch 17/20\n",
      "\u001b[1m35/35\u001b[0m \u001b[32m━━━━━━━━━━━━━━━━━━━━\u001b[0m\u001b[37m\u001b[0m \u001b[1m1s\u001b[0m 24ms/step - loss: 1184.4978 - mean_squared_error: 3080943.2500 - r2_score: -0.0164 - val_loss: 1102.7574 - val_mean_squared_error: 2627090.0000 - val_r2_score: 0.0334\n",
      "Epoch 18/20\n",
      "\u001b[1m35/35\u001b[0m \u001b[32m━━━━━━━━━━━━━━━━━━━━\u001b[0m\u001b[37m\u001b[0m \u001b[1m1s\u001b[0m 18ms/step - loss: 1201.1906 - mean_squared_error: 3130071.5000 - r2_score: -0.0206 - val_loss: 1091.6606 - val_mean_squared_error: 2568572.2500 - val_r2_score: 0.0550\n",
      "Epoch 19/20\n",
      "\u001b[1m35/35\u001b[0m \u001b[32m━━━━━━━━━━━━━━━━━━━━\u001b[0m\u001b[37m\u001b[0m \u001b[1m1s\u001b[0m 21ms/step - loss: 1145.6392 - mean_squared_error: 2856227.7500 - r2_score: 0.0140 - val_loss: 1069.7081 - val_mean_squared_error: 2481032.2500 - val_r2_score: 0.0872\n",
      "Epoch 20/20\n",
      "\u001b[1m35/35\u001b[0m \u001b[32m━━━━━━━━━━━━━━━━━━━━\u001b[0m\u001b[37m\u001b[0m \u001b[1m1s\u001b[0m 21ms/step - loss: 1141.6313 - mean_squared_error: 2825594.0000 - r2_score: 0.0308 - val_loss: 1076.5533 - val_mean_squared_error: 2480802.5000 - val_r2_score: 0.0873\n",
      "Model_SGD7\n",
      "Epoch 1/20\n",
      "\u001b[1m54/54\u001b[0m \u001b[32m━━━━━━━━━━━━━━━━━━━━\u001b[0m\u001b[37m\u001b[0m \u001b[1m1s\u001b[0m 15ms/step - loss: 895.6722 - mean_squared_error: 1842646.3750 - r2_score: 0.3715 - val_loss: 837.4494 - val_mean_squared_error: 1587230.0000 - val_r2_score: 0.4160\n",
      "Epoch 2/20\n",
      "\u001b[1m54/54\u001b[0m \u001b[32m━━━━━━━━━━━━━━━━━━━━\u001b[0m\u001b[37m\u001b[0m \u001b[1m1s\u001b[0m 18ms/step - loss: 904.0226 - mean_squared_error: 1850566.5000 - r2_score: 0.3858 - val_loss: 834.6032 - val_mean_squared_error: 1581910.0000 - val_r2_score: 0.4180\n",
      "Epoch 3/20\n",
      "\u001b[1m54/54\u001b[0m \u001b[32m━━━━━━━━━━━━━━━━━━━━\u001b[0m\u001b[37m\u001b[0m \u001b[1m1s\u001b[0m 18ms/step - loss: 902.0079 - mean_squared_error: 1790928.5000 - r2_score: 0.3871 - val_loss: 825.9992 - val_mean_squared_error: 1526418.8750 - val_r2_score: 0.4384\n",
      "Epoch 4/20\n",
      "\u001b[1m54/54\u001b[0m \u001b[32m━━━━━━━━━━━━━━━━━━━━\u001b[0m\u001b[37m\u001b[0m \u001b[1m1s\u001b[0m 17ms/step - loss: 874.5942 - mean_squared_error: 1738921.6250 - r2_score: 0.4077 - val_loss: 807.6982 - val_mean_squared_error: 1472045.5000 - val_r2_score: 0.4584\n",
      "Epoch 5/20\n",
      "\u001b[1m54/54\u001b[0m \u001b[32m━━━━━━━━━━━━━━━━━━━━\u001b[0m\u001b[37m\u001b[0m \u001b[1m1s\u001b[0m 18ms/step - loss: 888.5083 - mean_squared_error: 1779845.2500 - r2_score: 0.4110 - val_loss: 804.5130 - val_mean_squared_error: 1450098.3750 - val_r2_score: 0.4665\n",
      "Epoch 6/20\n",
      "\u001b[1m54/54\u001b[0m \u001b[32m━━━━━━━━━━━━━━━━━━━━\u001b[0m\u001b[37m\u001b[0m \u001b[1m1s\u001b[0m 16ms/step - loss: 870.4215 - mean_squared_error: 1722885.8750 - r2_score: 0.4135 - val_loss: 816.1978 - val_mean_squared_error: 1482639.1250 - val_r2_score: 0.4545\n",
      "Epoch 7/20\n",
      "\u001b[1m54/54\u001b[0m \u001b[32m━━━━━━━━━━━━━━━━━━━━\u001b[0m\u001b[37m\u001b[0m \u001b[1m1s\u001b[0m 17ms/step - loss: 849.2510 - mean_squared_error: 1578464.8750 - r2_score: 0.4428 - val_loss: 790.7798 - val_mean_squared_error: 1393926.1250 - val_r2_score: 0.4871\n",
      "Epoch 8/20\n",
      "\u001b[1m54/54\u001b[0m \u001b[32m━━━━━━━━━━━━━━━━━━━━\u001b[0m\u001b[37m\u001b[0m \u001b[1m1s\u001b[0m 17ms/step - loss: 870.0267 - mean_squared_error: 1696724.6250 - r2_score: 0.4462 - val_loss: 791.4032 - val_mean_squared_error: 1403761.5000 - val_r2_score: 0.4835\n",
      "Epoch 9/20\n",
      "\u001b[1m54/54\u001b[0m \u001b[32m━━━━━━━━━━━━━━━━━━━━\u001b[0m\u001b[37m\u001b[0m \u001b[1m1s\u001b[0m 16ms/step - loss: 867.5490 - mean_squared_error: 1672037.6250 - r2_score: 0.4414 - val_loss: 762.2767 - val_mean_squared_error: 1293505.8750 - val_r2_score: 0.5241\n",
      "Epoch 10/20\n",
      "\u001b[1m54/54\u001b[0m \u001b[32m━━━━━━━━━━━━━━━━━━━━\u001b[0m\u001b[37m\u001b[0m \u001b[1m1s\u001b[0m 21ms/step - loss: 865.7264 - mean_squared_error: 1620053.2500 - r2_score: 0.4587 - val_loss: 757.8241 - val_mean_squared_error: 1272979.6250 - val_r2_score: 0.5316\n",
      "Epoch 11/20\n",
      "\u001b[1m54/54\u001b[0m \u001b[32m━━━━━━━━━━━━━━━━━━━━\u001b[0m\u001b[37m\u001b[0m \u001b[1m1s\u001b[0m 19ms/step - loss: 854.0642 - mean_squared_error: 1613624.8750 - r2_score: 0.4696 - val_loss: 756.9299 - val_mean_squared_error: 1280952.8750 - val_r2_score: 0.5287\n",
      "Epoch 12/20\n",
      "\u001b[1m54/54\u001b[0m \u001b[32m━━━━━━━━━━━━━━━━━━━━\u001b[0m\u001b[37m\u001b[0m \u001b[1m1s\u001b[0m 19ms/step - loss: 839.8182 - mean_squared_error: 1555293.5000 - r2_score: 0.4753 - val_loss: 754.8060 - val_mean_squared_error: 1257769.7500 - val_r2_score: 0.5372\n",
      "Epoch 13/20\n",
      "\u001b[1m54/54\u001b[0m \u001b[32m━━━━━━━━━━━━━━━━━━━━\u001b[0m\u001b[37m\u001b[0m \u001b[1m1s\u001b[0m 19ms/step - loss: 835.3842 - mean_squared_error: 1534758.5000 - r2_score: 0.4865 - val_loss: 756.4977 - val_mean_squared_error: 1275332.1250 - val_r2_score: 0.5308\n",
      "Epoch 14/20\n",
      "\u001b[1m54/54\u001b[0m \u001b[32m━━━━━━━━━━━━━━━━━━━━\u001b[0m\u001b[37m\u001b[0m \u001b[1m1s\u001b[0m 18ms/step - loss: 837.7542 - mean_squared_error: 1510674.3750 - r2_score: 0.4859 - val_loss: 762.8760 - val_mean_squared_error: 1278719.8750 - val_r2_score: 0.5295\n",
      "Epoch 15/20\n",
      "\u001b[1m54/54\u001b[0m \u001b[32m━━━━━━━━━━━━━━━━━━━━\u001b[0m\u001b[37m\u001b[0m \u001b[1m1s\u001b[0m 14ms/step - loss: 819.7567 - mean_squared_error: 1473874.3750 - r2_score: 0.5000 - val_loss: 743.9655 - val_mean_squared_error: 1205938.8750 - val_r2_score: 0.5563\n",
      "Epoch 16/20\n",
      "\u001b[1m54/54\u001b[0m \u001b[32m━━━━━━━━━━━━━━━━━━━━\u001b[0m\u001b[37m\u001b[0m \u001b[1m1s\u001b[0m 18ms/step - loss: 832.9672 - mean_squared_error: 1512265.5000 - r2_score: 0.5012 - val_loss: 748.7020 - val_mean_squared_error: 1235194.1250 - val_r2_score: 0.5455\n",
      "Epoch 17/20\n",
      "\u001b[1m54/54\u001b[0m \u001b[32m━━━━━━━━━━━━━━━━━━━━\u001b[0m\u001b[37m\u001b[0m \u001b[1m1s\u001b[0m 20ms/step - loss: 824.4624 - mean_squared_error: 1475272.5000 - r2_score: 0.5094 - val_loss: 753.4722 - val_mean_squared_error: 1242904.2500 - val_r2_score: 0.5427\n",
      "Epoch 18/20\n",
      "\u001b[1m54/54\u001b[0m \u001b[32m━━━━━━━━━━━━━━━━━━━━\u001b[0m\u001b[37m\u001b[0m \u001b[1m1s\u001b[0m 18ms/step - loss: 804.6105 - mean_squared_error: 1410684.5000 - r2_score: 0.5189 - val_loss: 734.3699 - val_mean_squared_error: 1161532.0000 - val_r2_score: 0.5726\n",
      "Epoch 19/20\n",
      "\u001b[1m54/54\u001b[0m \u001b[32m━━━━━━━━━━━━━━━━━━━━\u001b[0m\u001b[37m\u001b[0m \u001b[1m1s\u001b[0m 19ms/step - loss: 810.7798 - mean_squared_error: 1415160.8750 - r2_score: 0.5240 - val_loss: 733.2906 - val_mean_squared_error: 1161314.6250 - val_r2_score: 0.5727\n",
      "Epoch 20/20\n",
      "\u001b[1m54/54\u001b[0m \u001b[32m━━━━━━━━━━━━━━━━━━━━\u001b[0m\u001b[37m\u001b[0m \u001b[1m1s\u001b[0m 18ms/step - loss: 816.5320 - mean_squared_error: 1432662.6250 - r2_score: 0.5258 - val_loss: 731.8809 - val_mean_squared_error: 1148782.8750 - val_r2_score: 0.5773\n",
      "Model_SGD8\n",
      "Epoch 1/20\n",
      "\u001b[1m54/54\u001b[0m \u001b[32m━━━━━━━━━━━━━━━━━━━━\u001b[0m\u001b[37m\u001b[0m \u001b[1m1s\u001b[0m 22ms/step - loss: 1777.8710 - mean_squared_error: 5706201.0000 - r2_score: -0.9123 - val_loss: 1638.8292 - val_mean_squared_error: 4946821.0000 - val_r2_score: -0.8200\n",
      "Epoch 2/20\n",
      "\u001b[1m54/54\u001b[0m \u001b[32m━━━━━━━━━━━━━━━━━━━━\u001b[0m\u001b[37m\u001b[0m \u001b[1m1s\u001b[0m 16ms/step - loss: 1752.6722 - mean_squared_error: 5648049.0000 - r2_score: -0.8638 - val_loss: 1630.3237 - val_mean_squared_error: 4904849.0000 - val_r2_score: -0.8046\n",
      "Epoch 3/20\n",
      "\u001b[1m54/54\u001b[0m \u001b[32m━━━━━━━━━━━━━━━━━━━━\u001b[0m\u001b[37m\u001b[0m \u001b[1m1s\u001b[0m 22ms/step - loss: 1722.7332 - mean_squared_error: 5439735.5000 - r2_score: -0.8522 - val_loss: 1621.6138 - val_mean_squared_error: 4859178.0000 - val_r2_score: -0.7878\n",
      "Epoch 4/20\n",
      "\u001b[1m54/54\u001b[0m \u001b[32m━━━━━━━━━━━━━━━━━━━━\u001b[0m\u001b[37m\u001b[0m \u001b[1m1s\u001b[0m 19ms/step - loss: 1703.6675 - mean_squared_error: 5359985.0000 - r2_score: -0.8309 - val_loss: 1610.5765 - val_mean_squared_error: 4808167.0000 - val_r2_score: -0.7690\n",
      "Epoch 5/20\n",
      "\u001b[1m54/54\u001b[0m \u001b[32m━━━━━━━━━━━━━━━━━━━━\u001b[0m\u001b[37m\u001b[0m \u001b[1m1s\u001b[0m 21ms/step - loss: 1724.5592 - mean_squared_error: 5367495.0000 - r2_score: -0.8673 - val_loss: 1600.1429 - val_mean_squared_error: 4759022.5000 - val_r2_score: -0.7509\n",
      "Epoch 6/20\n",
      "\u001b[1m54/54\u001b[0m \u001b[32m━━━━━━━━━━━━━━━━━━━━\u001b[0m\u001b[37m\u001b[0m \u001b[1m1s\u001b[0m 20ms/step - loss: 1696.3038 - mean_squared_error: 5304616.0000 - r2_score: -0.8082 - val_loss: 1592.2532 - val_mean_squared_error: 4725771.5000 - val_r2_score: -0.7387\n",
      "Epoch 7/20\n",
      "\u001b[1m54/54\u001b[0m \u001b[32m━━━━━━━━━━━━━━━━━━━━\u001b[0m\u001b[37m\u001b[0m \u001b[1m1s\u001b[0m 24ms/step - loss: 1671.1567 - mean_squared_error: 5301547.5000 - r2_score: -0.7422 - val_loss: 1580.4531 - val_mean_squared_error: 4658928.5000 - val_r2_score: -0.7141\n",
      "Epoch 8/20\n",
      "\u001b[1m54/54\u001b[0m \u001b[32m━━━━━━━━━━━━━━━━━━━━\u001b[0m\u001b[37m\u001b[0m \u001b[1m1s\u001b[0m 24ms/step - loss: 1726.7627 - mean_squared_error: 5514608.5000 - r2_score: -0.7893 - val_loss: 1570.0388 - val_mean_squared_error: 4620216.5000 - val_r2_score: -0.6999\n",
      "Epoch 9/20\n",
      "\u001b[1m54/54\u001b[0m \u001b[32m━━━━━━━━━━━━━━━━━━━━\u001b[0m\u001b[37m\u001b[0m \u001b[1m1s\u001b[0m 20ms/step - loss: 1682.7561 - mean_squared_error: 5130511.5000 - r2_score: -0.8134 - val_loss: 1564.0161 - val_mean_squared_error: 4590841.0000 - val_r2_score: -0.6891\n",
      "Epoch 10/20\n",
      "\u001b[1m54/54\u001b[0m \u001b[32m━━━━━━━━━━━━━━━━━━━━\u001b[0m\u001b[37m\u001b[0m \u001b[1m1s\u001b[0m 21ms/step - loss: 1673.9056 - mean_squared_error: 5280555.0000 - r2_score: -0.7324 - val_loss: 1548.7881 - val_mean_squared_error: 4531116.0000 - val_r2_score: -0.6671\n",
      "Epoch 11/20\n",
      "\u001b[1m54/54\u001b[0m \u001b[32m━━━━━━━━━━━━━━━━━━━━\u001b[0m\u001b[37m\u001b[0m \u001b[1m1s\u001b[0m 24ms/step - loss: 1658.5341 - mean_squared_error: 5149716.5000 - r2_score: -0.7297 - val_loss: 1539.2745 - val_mean_squared_error: 4496153.0000 - val_r2_score: -0.6542\n",
      "Epoch 12/20\n",
      "\u001b[1m54/54\u001b[0m \u001b[32m━━━━━━━━━━━━━━━━━━━━\u001b[0m\u001b[37m\u001b[0m \u001b[1m1s\u001b[0m 25ms/step - loss: 1671.5868 - mean_squared_error: 5295553.0000 - r2_score: -0.7065 - val_loss: 1533.8484 - val_mean_squared_error: 4461505.0000 - val_r2_score: -0.6415\n",
      "Epoch 13/20\n",
      "\u001b[1m54/54\u001b[0m \u001b[32m━━━━━━━━━━━━━━━━━━━━\u001b[0m\u001b[37m\u001b[0m \u001b[1m2s\u001b[0m 28ms/step - loss: 1627.4292 - mean_squared_error: 4983296.5000 - r2_score: -0.6993 - val_loss: 1522.0608 - val_mean_squared_error: 4411767.0000 - val_r2_score: -0.6232\n",
      "Epoch 14/20\n",
      "\u001b[1m54/54\u001b[0m \u001b[32m━━━━━━━━━━━━━━━━━━━━\u001b[0m\u001b[37m\u001b[0m \u001b[1m1s\u001b[0m 24ms/step - loss: 1610.0112 - mean_squared_error: 4941929.5000 - r2_score: -0.6652 - val_loss: 1515.4375 - val_mean_squared_error: 4372200.0000 - val_r2_score: -0.6086\n",
      "Epoch 15/20\n",
      "\u001b[1m54/54\u001b[0m \u001b[32m━━━━━━━━━━━━━━━━━━━━\u001b[0m\u001b[37m\u001b[0m \u001b[1m2s\u001b[0m 28ms/step - loss: 1622.2502 - mean_squared_error: 5072898.5000 - r2_score: -0.6470 - val_loss: 1504.2443 - val_mean_squared_error: 4334115.0000 - val_r2_score: -0.5946\n",
      "Epoch 16/20\n",
      "\u001b[1m54/54\u001b[0m \u001b[32m━━━━━━━━━━━━━━━━━━━━\u001b[0m\u001b[37m\u001b[0m \u001b[1m2s\u001b[0m 29ms/step - loss: 1589.1399 - mean_squared_error: 4862749.5000 - r2_score: -0.6321 - val_loss: 1495.1580 - val_mean_squared_error: 4297650.5000 - val_r2_score: -0.5812\n",
      "Epoch 17/20\n",
      "\u001b[1m54/54\u001b[0m \u001b[32m━━━━━━━━━━━━━━━━━━━━\u001b[0m\u001b[37m\u001b[0m \u001b[1m2s\u001b[0m 26ms/step - loss: 1596.3176 - mean_squared_error: 4896720.0000 - r2_score: -0.6297 - val_loss: 1494.0356 - val_mean_squared_error: 4284844.0000 - val_r2_score: -0.5765\n",
      "Epoch 18/20\n",
      "\u001b[1m54/54\u001b[0m \u001b[32m━━━━━━━━━━━━━━━━━━━━\u001b[0m\u001b[37m\u001b[0m \u001b[1m2s\u001b[0m 27ms/step - loss: 1564.3164 - mean_squared_error: 4720494.0000 - r2_score: -0.6081 - val_loss: 1475.2267 - val_mean_squared_error: 4199122.0000 - val_r2_score: -0.5449\n",
      "Epoch 19/20\n",
      "\u001b[1m54/54\u001b[0m \u001b[32m━━━━━━━━━━━━━━━━━━━━\u001b[0m\u001b[37m\u001b[0m \u001b[1m2s\u001b[0m 27ms/step - loss: 1556.2075 - mean_squared_error: 4633334.5000 - r2_score: -0.6068 - val_loss: 1476.4271 - val_mean_squared_error: 4181925.2500 - val_r2_score: -0.5386\n",
      "Epoch 20/20\n",
      "\u001b[1m54/54\u001b[0m \u001b[32m━━━━━━━━━━━━━━━━━━━━\u001b[0m\u001b[37m\u001b[0m \u001b[1m2s\u001b[0m 30ms/step - loss: 1565.6318 - mean_squared_error: 4733012.0000 - r2_score: -0.5850 - val_loss: 1463.5619 - val_mean_squared_error: 4139780.2500 - val_r2_score: -0.5231\n",
      "Model_SGD9\n",
      "Epoch 1/20\n",
      "\u001b[1m54/54\u001b[0m \u001b[32m━━━━━━━━━━━━━━━━━━━━\u001b[0m\u001b[37m\u001b[0m \u001b[1m1s\u001b[0m 26ms/step - loss: 786.7928 - mean_squared_error: 1268511.6250 - r2_score: 0.5693 - val_loss: 738.5558 - val_mean_squared_error: 1092198.8750 - val_r2_score: 0.5982\n",
      "Epoch 2/20\n",
      "\u001b[1m54/54\u001b[0m \u001b[32m━━━━━━━━━━━━━━━━━━━━\u001b[0m\u001b[37m\u001b[0m \u001b[1m1s\u001b[0m 16ms/step - loss: 794.6016 - mean_squared_error: 1292333.5000 - r2_score: 0.5588 - val_loss: 734.8142 - val_mean_squared_error: 1088132.2500 - val_r2_score: 0.5997\n",
      "Epoch 3/20\n",
      "\u001b[1m54/54\u001b[0m \u001b[32m━━━━━━━━━━━━━━━━━━━━\u001b[0m\u001b[37m\u001b[0m \u001b[1m2s\u001b[0m 27ms/step - loss: 789.8428 - mean_squared_error: 1260787.7500 - r2_score: 0.5693 - val_loss: 726.3131 - val_mean_squared_error: 1061734.0000 - val_r2_score: 0.6094\n",
      "Epoch 4/20\n",
      "\u001b[1m54/54\u001b[0m \u001b[32m━━━━━━━━━━━━━━━━━━━━\u001b[0m\u001b[37m\u001b[0m \u001b[1m2s\u001b[0m 34ms/step - loss: 790.0656 - mean_squared_error: 1271114.1250 - r2_score: 0.5662 - val_loss: 717.0634 - val_mean_squared_error: 1052029.8750 - val_r2_score: 0.6129\n",
      "Epoch 5/20\n",
      "\u001b[1m54/54\u001b[0m \u001b[32m━━━━━━━━━━━━━━━━━━━━\u001b[0m\u001b[37m\u001b[0m \u001b[1m2s\u001b[0m 28ms/step - loss: 791.9761 - mean_squared_error: 1278334.2500 - r2_score: 0.5587 - val_loss: 736.4424 - val_mean_squared_error: 1177422.3750 - val_r2_score: 0.5668\n",
      "Epoch 6/20\n",
      "\u001b[1m54/54\u001b[0m \u001b[32m━━━━━━━━━━━━━━━━━━━━\u001b[0m\u001b[37m\u001b[0m \u001b[1m1s\u001b[0m 25ms/step - loss: 787.1306 - mean_squared_error: 1276054.7500 - r2_score: 0.5531 - val_loss: 718.3908 - val_mean_squared_error: 1058753.0000 - val_r2_score: 0.6105\n",
      "Epoch 7/20\n",
      "\u001b[1m54/54\u001b[0m \u001b[32m━━━━━━━━━━━━━━━━━━━━\u001b[0m\u001b[37m\u001b[0m \u001b[1m2s\u001b[0m 33ms/step - loss: 809.1528 - mean_squared_error: 1376113.0000 - r2_score: 0.5518 - val_loss: 721.8798 - val_mean_squared_error: 1068546.1250 - val_r2_score: 0.6069\n",
      "Epoch 8/20\n",
      "\u001b[1m54/54\u001b[0m \u001b[32m━━━━━━━━━━━━━━━━━━━━\u001b[0m\u001b[37m\u001b[0m \u001b[1m2s\u001b[0m 30ms/step - loss: 785.1887 - mean_squared_error: 1258373.3750 - r2_score: 0.5679 - val_loss: 722.3691 - val_mean_squared_error: 1072835.2500 - val_r2_score: 0.6053\n",
      "Epoch 9/20\n",
      "\u001b[1m54/54\u001b[0m \u001b[32m━━━━━━━━━━━━━━━━━━━━\u001b[0m\u001b[37m\u001b[0m \u001b[1m2s\u001b[0m 30ms/step - loss: 788.2322 - mean_squared_error: 1289252.8750 - r2_score: 0.5603 - val_loss: 735.8463 - val_mean_squared_error: 1151106.2500 - val_r2_score: 0.5765\n",
      "Epoch 10/20\n",
      "\u001b[1m54/54\u001b[0m \u001b[32m━━━━━━━━━━━━━━━━━━━━\u001b[0m\u001b[37m\u001b[0m \u001b[1m1s\u001b[0m 25ms/step - loss: 797.8586 - mean_squared_error: 1309575.6250 - r2_score: 0.5499 - val_loss: 725.3182 - val_mean_squared_error: 1059385.2500 - val_r2_score: 0.6102\n",
      "Epoch 11/20\n",
      "\u001b[1m54/54\u001b[0m \u001b[32m━━━━━━━━━━━━━━━━━━━━\u001b[0m\u001b[37m\u001b[0m \u001b[1m2s\u001b[0m 30ms/step - loss: 793.7930 - mean_squared_error: 1320291.6250 - r2_score: 0.5606 - val_loss: 720.9865 - val_mean_squared_error: 1067416.6250 - val_r2_score: 0.6073\n",
      "Epoch 12/20\n",
      "\u001b[1m54/54\u001b[0m \u001b[32m━━━━━━━━━━━━━━━━━━━━\u001b[0m\u001b[37m\u001b[0m \u001b[1m2s\u001b[0m 28ms/step - loss: 782.8403 - mean_squared_error: 1245652.1250 - r2_score: 0.5689 - val_loss: 716.5990 - val_mean_squared_error: 1049683.5000 - val_r2_score: 0.6138\n",
      "Epoch 13/20\n",
      "\u001b[1m54/54\u001b[0m \u001b[32m━━━━━━━━━━━━━━━━━━━━\u001b[0m\u001b[37m\u001b[0m \u001b[1m2s\u001b[0m 31ms/step - loss: 786.5583 - mean_squared_error: 1263357.7500 - r2_score: 0.5621 - val_loss: 744.1112 - val_mean_squared_error: 1086366.0000 - val_r2_score: 0.6003\n",
      "Epoch 14/20\n",
      "\u001b[1m54/54\u001b[0m \u001b[32m━━━━━━━━━━━━━━━━━━━━\u001b[0m\u001b[37m\u001b[0m \u001b[1m2s\u001b[0m 34ms/step - loss: 779.8743 - mean_squared_error: 1274194.3750 - r2_score: 0.5606 - val_loss: 720.1606 - val_mean_squared_error: 1055197.2500 - val_r2_score: 0.6118\n",
      "Epoch 15/20\n",
      "\u001b[1m54/54\u001b[0m \u001b[32m━━━━━━━━━━━━━━━━━━━━\u001b[0m\u001b[37m\u001b[0m \u001b[1m2s\u001b[0m 30ms/step - loss: 788.5239 - mean_squared_error: 1288622.5000 - r2_score: 0.5683 - val_loss: 719.8768 - val_mean_squared_error: 1083166.6250 - val_r2_score: 0.6015\n",
      "Epoch 16/20\n",
      "\u001b[1m54/54\u001b[0m \u001b[32m━━━━━━━━━━━━━━━━━━━━\u001b[0m\u001b[37m\u001b[0m \u001b[1m2s\u001b[0m 32ms/step - loss: 787.0375 - mean_squared_error: 1283404.3750 - r2_score: 0.5695 - val_loss: 725.0489 - val_mean_squared_error: 1107819.0000 - val_r2_score: 0.5924\n",
      "Epoch 17/20\n",
      "\u001b[1m54/54\u001b[0m \u001b[32m━━━━━━━━━━━━━━━━━━━━\u001b[0m\u001b[37m\u001b[0m \u001b[1m2s\u001b[0m 33ms/step - loss: 799.0572 - mean_squared_error: 1341507.8750 - r2_score: 0.5512 - val_loss: 737.6164 - val_mean_squared_error: 1144957.8750 - val_r2_score: 0.5787\n",
      "Epoch 18/20\n",
      "\u001b[1m54/54\u001b[0m \u001b[32m━━━━━━━━━━━━━━━━━━━━\u001b[0m\u001b[37m\u001b[0m \u001b[1m2s\u001b[0m 33ms/step - loss: 799.9254 - mean_squared_error: 1311255.1250 - r2_score: 0.5656 - val_loss: 717.8995 - val_mean_squared_error: 1057403.6250 - val_r2_score: 0.6110\n",
      "Epoch 19/20\n",
      "\u001b[1m54/54\u001b[0m \u001b[32m━━━━━━━━━━━━━━━━━━━━\u001b[0m\u001b[37m\u001b[0m \u001b[1m2s\u001b[0m 32ms/step - loss: 775.4959 - mean_squared_error: 1227824.8750 - r2_score: 0.5759 - val_loss: 720.5388 - val_mean_squared_error: 1074575.2500 - val_r2_score: 0.6046\n",
      "Epoch 20/20\n",
      "\u001b[1m54/54\u001b[0m \u001b[32m━━━━━━━━━━━━━━━━━━━━\u001b[0m\u001b[37m\u001b[0m \u001b[1m2s\u001b[0m 33ms/step - loss: 815.7224 - mean_squared_error: 1377300.0000 - r2_score: 0.5467 - val_loss: 718.6149 - val_mean_squared_error: 1082702.7500 - val_r2_score: 0.6017\n",
      "Model_SGD10\n",
      "Epoch 1/20\n",
      "\u001b[1m54/54\u001b[0m \u001b[32m━━━━━━━━━━━━━━━━━━━━\u001b[0m\u001b[37m\u001b[0m \u001b[1m2s\u001b[0m 36ms/step - loss: 809.3032 - mean_squared_error: 1341909.8750 - r2_score: 0.5506 - val_loss: 738.8975 - val_mean_squared_error: 1084146.0000 - val_r2_score: 0.6011\n",
      "Epoch 2/20\n",
      "\u001b[1m54/54\u001b[0m \u001b[32m━━━━━━━━━━━━━━━━━━━━\u001b[0m\u001b[37m\u001b[0m \u001b[1m2s\u001b[0m 32ms/step - loss: 792.7872 - mean_squared_error: 1298598.1250 - r2_score: 0.5555 - val_loss: 747.4620 - val_mean_squared_error: 1108753.0000 - val_r2_score: 0.5921\n",
      "Epoch 3/20\n",
      "\u001b[1m54/54\u001b[0m \u001b[32m━━━━━━━━━━━━━━━━━━━━\u001b[0m\u001b[37m\u001b[0m \u001b[1m2s\u001b[0m 30ms/step - loss: 783.8043 - mean_squared_error: 1282815.0000 - r2_score: 0.5660 - val_loss: 722.8965 - val_mean_squared_error: 1092105.6250 - val_r2_score: 0.5982\n",
      "Epoch 4/20\n",
      "\u001b[1m54/54\u001b[0m \u001b[32m━━━━━━━━━━━━━━━━━━━━\u001b[0m\u001b[37m\u001b[0m \u001b[1m2s\u001b[0m 33ms/step - loss: 812.3813 - mean_squared_error: 1391376.2500 - r2_score: 0.5555 - val_loss: 716.1258 - val_mean_squared_error: 1056264.5000 - val_r2_score: 0.6114\n",
      "Epoch 5/20\n",
      "\u001b[1m54/54\u001b[0m \u001b[32m━━━━━━━━━━━━━━━━━━━━\u001b[0m\u001b[37m\u001b[0m \u001b[1m2s\u001b[0m 31ms/step - loss: 796.1584 - mean_squared_error: 1349209.0000 - r2_score: 0.5588 - val_loss: 727.1663 - val_mean_squared_error: 1121799.2500 - val_r2_score: 0.5873\n",
      "Epoch 6/20\n",
      "\u001b[1m54/54\u001b[0m \u001b[32m━━━━━━━━━━━━━━━━━━━━\u001b[0m\u001b[37m\u001b[0m \u001b[1m2s\u001b[0m 32ms/step - loss: 789.6006 - mean_squared_error: 1276274.8750 - r2_score: 0.5708 - val_loss: 722.4221 - val_mean_squared_error: 1075545.1250 - val_r2_score: 0.6043\n",
      "Epoch 7/20\n",
      "\u001b[1m54/54\u001b[0m \u001b[32m━━━━━━━━━━━━━━━━━━━━\u001b[0m\u001b[37m\u001b[0m \u001b[1m2s\u001b[0m 35ms/step - loss: 800.2487 - mean_squared_error: 1322598.3750 - r2_score: 0.5441 - val_loss: 719.0359 - val_mean_squared_error: 1059460.2500 - val_r2_score: 0.6102\n",
      "Epoch 8/20\n",
      "\u001b[1m54/54\u001b[0m \u001b[32m━━━━━━━━━━━━━━━━━━━━\u001b[0m\u001b[37m\u001b[0m \u001b[1m2s\u001b[0m 34ms/step - loss: 791.6078 - mean_squared_error: 1312714.1250 - r2_score: 0.5634 - val_loss: 719.6480 - val_mean_squared_error: 1087699.5000 - val_r2_score: 0.5998\n",
      "Epoch 9/20\n",
      "\u001b[1m54/54\u001b[0m \u001b[32m━━━━━━━━━━━━━━━━━━━━\u001b[0m\u001b[37m\u001b[0m \u001b[1m2s\u001b[0m 37ms/step - loss: 806.0454 - mean_squared_error: 1350016.5000 - r2_score: 0.5487 - val_loss: 719.1392 - val_mean_squared_error: 1070351.5000 - val_r2_score: 0.6062\n",
      "Epoch 10/20\n",
      "\u001b[1m54/54\u001b[0m \u001b[32m━━━━━━━━━━━━━━━━━━━━\u001b[0m\u001b[37m\u001b[0m \u001b[1m2s\u001b[0m 41ms/step - loss: 791.3529 - mean_squared_error: 1279051.0000 - r2_score: 0.5723 - val_loss: 714.9534 - val_mean_squared_error: 1051721.6250 - val_r2_score: 0.6130\n",
      "Epoch 11/20\n",
      "\u001b[1m54/54\u001b[0m \u001b[32m━━━━━━━━━━━━━━━━━━━━\u001b[0m\u001b[37m\u001b[0m \u001b[1m2s\u001b[0m 33ms/step - loss: 811.3868 - mean_squared_error: 1356252.6250 - r2_score: 0.5544 - val_loss: 723.6033 - val_mean_squared_error: 1103002.1250 - val_r2_score: 0.5942\n",
      "Epoch 12/20\n",
      "\u001b[1m54/54\u001b[0m \u001b[32m━━━━━━━━━━━━━━━━━━━━\u001b[0m\u001b[37m\u001b[0m \u001b[1m2s\u001b[0m 37ms/step - loss: 792.6530 - mean_squared_error: 1319445.2500 - r2_score: 0.5583 - val_loss: 724.9764 - val_mean_squared_error: 1093561.2500 - val_r2_score: 0.5977\n",
      "Epoch 13/20\n",
      "\u001b[1m54/54\u001b[0m \u001b[32m━━━━━━━━━━━━━━━━━━━━\u001b[0m\u001b[37m\u001b[0m \u001b[1m2s\u001b[0m 31ms/step - loss: 775.4728 - mean_squared_error: 1237459.3750 - r2_score: 0.5802 - val_loss: 713.7394 - val_mean_squared_error: 1054891.6250 - val_r2_score: 0.6119\n",
      "Epoch 14/20\n",
      "\u001b[1m54/54\u001b[0m \u001b[32m━━━━━━━━━━━━━━━━━━━━\u001b[0m\u001b[37m\u001b[0m \u001b[1m2s\u001b[0m 32ms/step - loss: 793.1937 - mean_squared_error: 1288613.6250 - r2_score: 0.5667 - val_loss: 729.8710 - val_mean_squared_error: 1103753.5000 - val_r2_score: 0.5939\n",
      "Epoch 15/20\n",
      "\u001b[1m54/54\u001b[0m \u001b[32m━━━━━━━━━━━━━━━━━━━━\u001b[0m\u001b[37m\u001b[0m \u001b[1m2s\u001b[0m 34ms/step - loss: 808.4026 - mean_squared_error: 1291514.2500 - r2_score: 0.5567 - val_loss: 740.7063 - val_mean_squared_error: 1077632.8750 - val_r2_score: 0.6035\n",
      "Epoch 16/20\n",
      "\u001b[1m54/54\u001b[0m \u001b[32m━━━━━━━━━━━━━━━━━━━━\u001b[0m\u001b[37m\u001b[0m \u001b[1m2s\u001b[0m 33ms/step - loss: 808.0683 - mean_squared_error: 1350311.6250 - r2_score: 0.5513 - val_loss: 735.2960 - val_mean_squared_error: 1176012.7500 - val_r2_score: 0.5673\n",
      "Epoch 17/20\n",
      "\u001b[1m54/54\u001b[0m \u001b[32m━━━━━━━━━━━━━━━━━━━━\u001b[0m\u001b[37m\u001b[0m \u001b[1m2s\u001b[0m 31ms/step - loss: 801.5234 - mean_squared_error: 1327824.1250 - r2_score: 0.5581 - val_loss: 738.2467 - val_mean_squared_error: 1079868.2500 - val_r2_score: 0.6027\n",
      "Epoch 18/20\n",
      "\u001b[1m54/54\u001b[0m \u001b[32m━━━━━━━━━━━━━━━━━━━━\u001b[0m\u001b[37m\u001b[0m \u001b[1m2s\u001b[0m 31ms/step - loss: 800.6310 - mean_squared_error: 1321665.8750 - r2_score: 0.5558 - val_loss: 733.5539 - val_mean_squared_error: 1138484.3750 - val_r2_score: 0.5811\n",
      "Epoch 19/20\n",
      "\u001b[1m54/54\u001b[0m \u001b[32m━━━━━━━━━━━━━━━━━━━━\u001b[0m\u001b[37m\u001b[0m \u001b[1m2s\u001b[0m 35ms/step - loss: 790.3018 - mean_squared_error: 1300674.1250 - r2_score: 0.5653 - val_loss: 719.3474 - val_mean_squared_error: 1083815.3750 - val_r2_score: 0.6012\n",
      "Epoch 20/20\n",
      "\u001b[1m54/54\u001b[0m \u001b[32m━━━━━━━━━━━━━━━━━━━━\u001b[0m\u001b[37m\u001b[0m \u001b[1m2s\u001b[0m 32ms/step - loss: 776.2117 - mean_squared_error: 1226110.3750 - r2_score: 0.5740 - val_loss: 718.4942 - val_mean_squared_error: 1091960.1250 - val_r2_score: 0.5982\n"
     ]
    }
   ],
   "source": [
    "for pos, model in enumerate(all_sgd_models):\n",
    "    print('Model_SGD'+str(pos+1))\n",
    "    if pos == 0:\n",
    "        model.fit(X_scaled_train,y_train.values, validation_data=(X_scaled_valid,y_valid),epochs=10,batch_size=128)\n",
    "    elif pos == 1:\n",
    "        model.fit(X_scaled_train,y_train.values, validation_data=(X_scaled_valid,y_valid),epochs=10,batch_size=128)\n",
    "    elif pos == 2:\n",
    "        model.fit(X_scaled_train,y_train.values, validation_data=(X_scaled_valid,y_valid),epochs=20,batch_size=128)\n",
    "    elif pos == 3:\n",
    "        model.fit(X_scaled_train,y_train.values, validation_data=(X_scaled_valid,y_valid),epochs=20,batch_size=128)\n",
    "    elif pos == 4:\n",
    "        model.fit(X_scaled_train,y_train.values, validation_data=(X_scaled_valid,y_valid),epochs=20,batch_size=128)\n",
    "    elif pos == 5:\n",
    "        model.fit(X_scaled_train,y_train.values, validation_data=(X_scaled_valid,y_valid),epochs=20,batch_size=200)\n",
    "    elif pos == 6:\n",
    "        model.fit(X_scaled_train,y_train.values, validation_data=(X_scaled_valid,y_valid),epochs=20,batch_size=128)\n",
    "    elif pos == 7:\n",
    "        model.fit(X_scaled_train,y_train.values, validation_data=(X_scaled_valid,y_valid),epochs=20,batch_size=128)\n",
    "    elif pos == 8:\n",
    "        model.fit(X_scaled_train,y_train.values, validation_data=(X_scaled_valid,y_valid),epochs=20,batch_size=128)\n",
    "    elif pos == 9:\n",
    "        model.fit(X_scaled_train,y_train.values, validation_data=(X_scaled_valid,y_valid),epochs=20,batch_size=128)"
   ]
  },
  {
   "cell_type": "markdown",
   "id": "cf8248ea-e721-47d8-ac71-f748bd6cb776",
   "metadata": {},
   "source": [
    "### 9.5 'Evaluate' Models using Train and Valid Datasets"
   ]
  },
  {
   "cell_type": "markdown",
   "id": "7640cab5-6511-41f7-bcaa-7b8fe226c5a7",
   "metadata": {},
   "source": [
    "**Metrics: Train Dataset**"
   ]
  },
  {
   "cell_type": "code",
   "execution_count": 87,
   "id": "f898ee3f-06b9-4c70-a6ce-b9069db09de3",
   "metadata": {},
   "outputs": [
    {
     "name": "stdout",
     "output_type": "stream",
     "text": [
      "\n",
      "Model_ADM1\n",
      "\u001b[1m214/214\u001b[0m \u001b[32m━━━━━━━━━━━━━━━━━━━━\u001b[0m\u001b[37m\u001b[0m \u001b[1m0s\u001b[0m 2ms/step - loss: 753.8271 - mean_squared_error: 1209509.1250 - r2_score: 0.5862\n",
      "\n",
      "Model_ADM2\n",
      "\u001b[1m214/214\u001b[0m \u001b[32m━━━━━━━━━━━━━━━━━━━━\u001b[0m\u001b[37m\u001b[0m \u001b[1m1s\u001b[0m 2ms/step - loss: 746.2702 - mean_squared_error: 1167905.3750 - r2_score: 0.6004\n",
      "\n",
      "Model_ADM3\n",
      "\u001b[1m214/214\u001b[0m \u001b[32m━━━━━━━━━━━━━━━━━━━━\u001b[0m\u001b[37m\u001b[0m \u001b[1m0s\u001b[0m 2ms/step - loss: 743.9886 - mean_squared_error: 1163801.1250 - r2_score: 0.6018\n",
      "\n",
      "Model_ADM4\n",
      "\u001b[1m214/214\u001b[0m \u001b[32m━━━━━━━━━━━━━━━━━━━━\u001b[0m\u001b[37m\u001b[0m \u001b[1m1s\u001b[0m 3ms/step - loss: 772.4989 - mean_squared_error: 1318164.2500 - r2_score: 0.5491\n",
      "\n",
      "Model_ADM5\n",
      "\u001b[1m214/214\u001b[0m \u001b[32m━━━━━━━━━━━━━━━━━━━━\u001b[0m\u001b[37m\u001b[0m \u001b[1m1s\u001b[0m 3ms/step - loss: 763.3066 - mean_squared_error: 1283513.1250 - r2_score: 0.5609\n",
      "\n",
      "Model_ADM6\n",
      "\u001b[1m214/214\u001b[0m \u001b[32m━━━━━━━━━━━━━━━━━━━━\u001b[0m\u001b[37m\u001b[0m \u001b[1m1s\u001b[0m 3ms/step - loss: 1143.1427 - mean_squared_error: 2798910.7500 - r2_score: 0.0424\n",
      "\n",
      "Model_ADM7\n",
      "\u001b[1m214/214\u001b[0m \u001b[32m━━━━━━━━━━━━━━━━━━━━\u001b[0m\u001b[37m\u001b[0m \u001b[1m1s\u001b[0m 3ms/step - loss: 763.1536 - mean_squared_error: 1307938.6250 - r2_score: 0.5526\n",
      "\n",
      "Model_ADM8\n",
      "\u001b[1m214/214\u001b[0m \u001b[32m━━━━━━━━━━━━━━━━━━━━\u001b[0m\u001b[37m\u001b[0m \u001b[1m1s\u001b[0m 3ms/step - loss: 1525.7076 - mean_squared_error: 4512255.0000 - r2_score: -0.5440\n",
      "\n",
      "Model_ADM9\n",
      "\u001b[1m214/214\u001b[0m \u001b[32m━━━━━━━━━━━━━━━━━━━━\u001b[0m\u001b[37m\u001b[0m \u001b[1m1s\u001b[0m 3ms/step - loss: 745.8874 - mean_squared_error: 1156934.3750 - r2_score: 0.6041\n",
      "\n",
      "Model_ADM10\n",
      "\u001b[1m214/214\u001b[0m \u001b[32m━━━━━━━━━━━━━━━━━━━━\u001b[0m\u001b[37m\u001b[0m \u001b[1m1s\u001b[0m 3ms/step - loss: 761.0496 - mean_squared_error: 1190368.1250 - r2_score: 0.5927\n"
     ]
    }
   ],
   "source": [
    "# Evaluate ADAM Models (Train Datasets)\n",
    "models_train_adm=[];losses_train_adm=[];mses_train_adm=[];r2scores_train_adm=[]\n",
    "for pos, model in enumerate(all_adm_models):\n",
    "    print('\\nModel_ADM'+str(pos+1))\n",
    "    loss, r2_score, mse = model.evaluate(X_scaled_train, y_train)\n",
    "    models_train_adm.append('Model_ADM'+str(pos+1)),losses_train_adm.append(loss), mses_train_adm.append(mse), r2scores_train_adm.append(r2_score)"
   ]
  },
  {
   "cell_type": "code",
   "execution_count": 88,
   "id": "eee1c8cf-3443-429f-baf7-fad7a1e10064",
   "metadata": {},
   "outputs": [
    {
     "name": "stdout",
     "output_type": "stream",
     "text": [
      "\n",
      "Model_SGD1\n",
      "\u001b[1m214/214\u001b[0m \u001b[32m━━━━━━━━━━━━━━━━━━━━\u001b[0m\u001b[37m\u001b[0m \u001b[1m0s\u001b[0m 2ms/step - loss: 747.8466 - mean_squared_error: 1177313.6250 - r2_score: 0.5972\n",
      "\n",
      "Model_SGD2\n",
      "\u001b[1m214/214\u001b[0m \u001b[32m━━━━━━━━━━━━━━━━━━━━\u001b[0m\u001b[37m\u001b[0m \u001b[1m0s\u001b[0m 2ms/step - loss: 748.8030 - mean_squared_error: 1188592.7500 - r2_score: 0.5933\n",
      "\n",
      "Model_SGD3\n",
      "\u001b[1m214/214\u001b[0m \u001b[32m━━━━━━━━━━━━━━━━━━━━\u001b[0m\u001b[37m\u001b[0m \u001b[1m0s\u001b[0m 2ms/step - loss: 746.3586 - mean_squared_error: 1165136.7500 - r2_score: 0.6013\n",
      "\n",
      "Model_SGD4\n",
      "\u001b[1m214/214\u001b[0m \u001b[32m━━━━━━━━━━━━━━━━━━━━\u001b[0m\u001b[37m\u001b[0m \u001b[1m0s\u001b[0m 2ms/step - loss: 789.6074 - mean_squared_error: 1395436.8750 - r2_score: 0.5227\n",
      "\n",
      "Model_SGD5\n",
      "\u001b[1m214/214\u001b[0m \u001b[32m━━━━━━━━━━━━━━━━━━━━\u001b[0m\u001b[37m\u001b[0m \u001b[1m1s\u001b[0m 3ms/step - loss: 758.5961 - mean_squared_error: 1256714.3750 - r2_score: 0.5701\n",
      "\n",
      "Model_SGD6\n",
      "\u001b[1m214/214\u001b[0m \u001b[32m━━━━━━━━━━━━━━━━━━━━\u001b[0m\u001b[37m\u001b[0m \u001b[1m1s\u001b[0m 3ms/step - loss: 1116.6143 - mean_squared_error: 2724169.7500 - r2_score: 0.0680\n",
      "\n",
      "Model_SGD7\n",
      "\u001b[1m214/214\u001b[0m \u001b[32m━━━━━━━━━━━━━━━━━━━━\u001b[0m\u001b[37m\u001b[0m \u001b[1m1s\u001b[0m 3ms/step - loss: 756.8712 - mean_squared_error: 1258287.7500 - r2_score: 0.5696\n",
      "\n",
      "Model_SGD8\n",
      "\u001b[1m214/214\u001b[0m \u001b[32m━━━━━━━━━━━━━━━━━━━━\u001b[0m\u001b[37m\u001b[0m \u001b[1m1s\u001b[0m 3ms/step - loss: 1516.9077 - mean_squared_error: 4486472.0000 - r2_score: -0.5352\n",
      "\n",
      "Model_SGD9\n",
      "\u001b[1m214/214\u001b[0m \u001b[32m━━━━━━━━━━━━━━━━━━━━\u001b[0m\u001b[37m\u001b[0m \u001b[1m1s\u001b[0m 3ms/step - loss: 748.8459 - mean_squared_error: 1189590.8750 - r2_score: 0.5930\n",
      "\n",
      "Model_SGD10\n",
      "\u001b[1m214/214\u001b[0m \u001b[32m━━━━━━━━━━━━━━━━━━━━\u001b[0m\u001b[37m\u001b[0m \u001b[1m1s\u001b[0m 3ms/step - loss: 757.1770 - mean_squared_error: 1213740.7500 - r2_score: 0.5848\n"
     ]
    }
   ],
   "source": [
    "# Evaluate SGD Models (Train Datasets)\n",
    "models_train_sgd=[];losses_train_sgd=[];mses_train_sgd=[];r2scores_train_sgd=[]\n",
    "for pos, model in enumerate(all_sgd_models):\n",
    "    print('\\nModel_SGD'+str(pos+1))\n",
    "    loss, r2_score, mse = model.evaluate(X_scaled_train, y_train)\n",
    "    models_train_sgd.append('Model_SGD'+str(pos+1)),losses_train_sgd.append(loss), mses_train_sgd.append(mse), r2scores_train_sgd.append(r2_score)"
   ]
  },
  {
   "cell_type": "markdown",
   "id": "77ebfbde-b4f8-4d5e-935a-e1f79179a2cc",
   "metadata": {},
   "source": [
    "**Metrics: Valid Dataset**"
   ]
  },
  {
   "cell_type": "code",
   "execution_count": 89,
   "id": "42926eb1-c2f6-4d3d-9352-2e3f2aab1878",
   "metadata": {},
   "outputs": [
    {
     "name": "stdout",
     "output_type": "stream",
     "text": [
      "\n",
      "Model_ADM1\n",
      "\u001b[1m54/54\u001b[0m \u001b[32m━━━━━━━━━━━━━━━━━━━━\u001b[0m\u001b[37m\u001b[0m \u001b[1m0s\u001b[0m 2ms/step - loss: 711.0341 - mean_squared_error: 1048958.2500 - r2_score: 0.6109\n",
      "\n",
      "Model_ADM2\n",
      "\u001b[1m54/54\u001b[0m \u001b[32m━━━━━━━━━━━━━━━━━━━━\u001b[0m\u001b[37m\u001b[0m \u001b[1m0s\u001b[0m 2ms/step - loss: 705.7838 - mean_squared_error: 1017731.0625 - r2_score: 0.6220\n",
      "\n",
      "Model_ADM3\n",
      "\u001b[1m54/54\u001b[0m \u001b[32m━━━━━━━━━━━━━━━━━━━━\u001b[0m\u001b[37m\u001b[0m \u001b[1m0s\u001b[0m 2ms/step - loss: 709.2938 - mean_squared_error: 1022981.2500 - r2_score: 0.6197\n",
      "\n",
      "Model_ADM4\n",
      "\u001b[1m54/54\u001b[0m \u001b[32m━━━━━━━━━━━━━━━━━━━━\u001b[0m\u001b[37m\u001b[0m \u001b[1m0s\u001b[0m 3ms/step - loss: 729.7230 - mean_squared_error: 1157890.6250 - r2_score: 0.5710\n",
      "\n",
      "Model_ADM5\n",
      "\u001b[1m54/54\u001b[0m \u001b[32m━━━━━━━━━━━━━━━━━━━━\u001b[0m\u001b[37m\u001b[0m \u001b[1m0s\u001b[0m 3ms/step - loss: 730.0137 - mean_squared_error: 1133206.5000 - r2_score: 0.5803\n",
      "\n",
      "Model_ADM6\n",
      "\u001b[1m54/54\u001b[0m \u001b[32m━━━━━━━━━━━━━━━━━━━━\u001b[0m\u001b[37m\u001b[0m \u001b[1m0s\u001b[0m 4ms/step - loss: 1089.7142 - mean_squared_error: 2503510.7500 - r2_score: 0.0727\n",
      "\n",
      "Model_ADM7\n",
      "\u001b[1m54/54\u001b[0m \u001b[32m━━━━━━━━━━━━━━━━━━━━\u001b[0m\u001b[37m\u001b[0m \u001b[1m0s\u001b[0m 3ms/step - loss: 729.9788 - mean_squared_error: 1159950.0000 - r2_score: 0.5705\n",
      "\n",
      "Model_ADM8\n",
      "\u001b[1m54/54\u001b[0m \u001b[32m━━━━━━━━━━━━━━━━━━━━\u001b[0m\u001b[37m\u001b[0m \u001b[1m0s\u001b[0m 3ms/step - loss: 1462.3341 - mean_squared_error: 4114905.0000 - r2_score: -0.5259\n",
      "\n",
      "Model_ADM9\n",
      "\u001b[1m54/54\u001b[0m \u001b[32m━━━━━━━━━━━━━━━━━━━━\u001b[0m\u001b[37m\u001b[0m \u001b[1m0s\u001b[0m 3ms/step - loss: 711.3698 - mean_squared_error: 1028188.8750 - r2_score: 0.6179\n",
      "\n",
      "Model_ADM10\n",
      "\u001b[1m54/54\u001b[0m \u001b[32m━━━━━━━━━━━━━━━━━━━━\u001b[0m\u001b[37m\u001b[0m \u001b[1m0s\u001b[0m 3ms/step - loss: 713.0201 - mean_squared_error: 1041639.7500 - r2_score: 0.6130\n"
     ]
    }
   ],
   "source": [
    "# Evaluate ADAM Models (Valid Datasets)\n",
    "\n",
    "models_valid_adm=[];losses_valid_adm=[];mses_valid_adm=[];r2scores_valid_adm=[]\n",
    "for pos, model in enumerate(all_adm_models):\n",
    "    print('\\nModel_ADM'+str(pos+1))\n",
    "    loss, r2_score, mse = model.evaluate(X_scaled_valid, y_valid)\n",
    "    models_valid_adm.append('Model_ADM'+str(pos+1)),losses_valid_adm.append(loss), mses_valid_adm.append(mse), r2scores_valid_adm.append(r2_score)"
   ]
  },
  {
   "cell_type": "code",
   "execution_count": 90,
   "id": "21a4a1e7-90c7-487b-bb05-908c8b97aa7c",
   "metadata": {},
   "outputs": [
    {
     "name": "stdout",
     "output_type": "stream",
     "text": [
      "\n",
      "Model_SGD1\n",
      "\u001b[1m54/54\u001b[0m \u001b[32m━━━━━━━━━━━━━━━━━━━━\u001b[0m\u001b[37m\u001b[0m \u001b[1m0s\u001b[0m 2ms/step - loss: 708.3829 - mean_squared_error: 1023176.1250 - r2_score: 0.6201\n",
      "\n",
      "Model_SGD2\n",
      "\u001b[1m54/54\u001b[0m \u001b[32m━━━━━━━━━━━━━━━━━━━━\u001b[0m\u001b[37m\u001b[0m \u001b[1m0s\u001b[0m 3ms/step - loss: 710.6323 - mean_squared_error: 1033188.0000 - r2_score: 0.6162\n",
      "\n",
      "Model_SGD3\n",
      "\u001b[1m54/54\u001b[0m \u001b[32m━━━━━━━━━━━━━━━━━━━━\u001b[0m\u001b[37m\u001b[0m \u001b[1m0s\u001b[0m 3ms/step - loss: 708.0782 - mean_squared_error: 1020413.6250 - r2_score: 0.6206\n",
      "\n",
      "Model_SGD4\n",
      "\u001b[1m54/54\u001b[0m \u001b[32m━━━━━━━━━━━━━━━━━━━━\u001b[0m\u001b[37m\u001b[0m \u001b[1m0s\u001b[0m 3ms/step - loss: 740.7735 - mean_squared_error: 1223892.5000 - r2_score: 0.5467\n",
      "\n",
      "Model_SGD5\n",
      "\u001b[1m54/54\u001b[0m \u001b[32m━━━━━━━━━━━━━━━━━━━━\u001b[0m\u001b[37m\u001b[0m \u001b[1m0s\u001b[0m 3ms/step - loss: 717.6462 - mean_squared_error: 1099760.7500 - r2_score: 0.5923\n",
      "\n",
      "Model_SGD6\n",
      "\u001b[1m54/54\u001b[0m \u001b[32m━━━━━━━━━━━━━━━━━━━━\u001b[0m\u001b[37m\u001b[0m \u001b[1m0s\u001b[0m 3ms/step - loss: 1066.4690 - mean_squared_error: 2442690.2500 - r2_score: 0.0953\n",
      "\n",
      "Model_SGD7\n",
      "\u001b[1m54/54\u001b[0m \u001b[32m━━━━━━━━━━━━━━━━━━━━\u001b[0m\u001b[37m\u001b[0m \u001b[1m0s\u001b[0m 3ms/step - loss: 725.4915 - mean_squared_error: 1121391.7500 - r2_score: 0.5845\n",
      "\n",
      "Model_SGD8\n",
      "\u001b[1m54/54\u001b[0m \u001b[32m━━━━━━━━━━━━━━━━━━━━\u001b[0m\u001b[37m\u001b[0m \u001b[1m0s\u001b[0m 3ms/step - loss: 1454.2341 - mean_squared_error: 4089424.2500 - r2_score: -0.5164\n",
      "\n",
      "Model_SGD9\n",
      "\u001b[1m54/54\u001b[0m \u001b[32m━━━━━━━━━━━━━━━━━━━━\u001b[0m\u001b[37m\u001b[0m \u001b[1m0s\u001b[0m 2ms/step - loss: 711.4551 - mean_squared_error: 1059335.7500 - r2_score: 0.6072\n",
      "\n",
      "Model_SGD10\n",
      "\u001b[1m54/54\u001b[0m \u001b[32m━━━━━━━━━━━━━━━━━━━━\u001b[0m\u001b[37m\u001b[0m \u001b[1m0s\u001b[0m 3ms/step - loss: 712.8163 - mean_squared_error: 1070026.1250 - r2_score: 0.6030\n"
     ]
    }
   ],
   "source": [
    "# Evaluate SGD Models (Valid Datasets)\n",
    "\n",
    "models_valid_sgd=[];losses_valid_sgd=[];mses_valid_sgd=[];r2scores_valid_sgd=[]\n",
    "for pos, model in enumerate(all_sgd_models):\n",
    "    print('\\nModel_SGD'+str(pos+1))\n",
    "    loss, r2_score, mse = model.evaluate(X_scaled_valid, y_valid)\n",
    "    models_valid_sgd.append('Model_SGD'+str(pos+1)),losses_valid_sgd.append(loss), mses_valid_sgd.append(mse), r2scores_valid_sgd.append(r2_score)"
   ]
  },
  {
   "cell_type": "code",
   "execution_count": 91,
   "id": "d55c6123-9b23-4dde-9312-445e407d0a34",
   "metadata": {},
   "outputs": [
    {
     "data": {
      "text/html": [
       "<div>\n",
       "<style scoped>\n",
       "    .dataframe tbody tr th:only-of-type {\n",
       "        vertical-align: middle;\n",
       "    }\n",
       "\n",
       "    .dataframe tbody tr th {\n",
       "        vertical-align: top;\n",
       "    }\n",
       "\n",
       "    .dataframe thead th {\n",
       "        text-align: right;\n",
       "    }\n",
       "</style>\n",
       "<table border=\"1\" class=\"dataframe\">\n",
       "  <thead>\n",
       "    <tr style=\"text-align: right;\">\n",
       "      <th></th>\n",
       "      <th>Train_Mean_Abs_Err-ADM</th>\n",
       "      <th>Train_Mean_Sqr_Err-ADM</th>\n",
       "      <th>Train_R2_Score-ADM</th>\n",
       "      <th>Valid_Mean_Abs_Err-ADM</th>\n",
       "      <th>Valid_Mean_Sqr_Err-ADM</th>\n",
       "      <th>Valid_R2_Score-ADM</th>\n",
       "    </tr>\n",
       "    <tr>\n",
       "      <th>Models</th>\n",
       "      <th></th>\n",
       "      <th></th>\n",
       "      <th></th>\n",
       "      <th></th>\n",
       "      <th></th>\n",
       "      <th></th>\n",
       "    </tr>\n",
       "  </thead>\n",
       "  <tbody>\n",
       "    <tr>\n",
       "      <th>Model_ADM1</th>\n",
       "      <td>762.476013</td>\n",
       "      <td>1231329.000</td>\n",
       "      <td>0.583736</td>\n",
       "      <td>715.370667</td>\n",
       "      <td>1.074193e+06</td>\n",
       "      <td>0.604782</td>\n",
       "    </tr>\n",
       "    <tr>\n",
       "      <th>Model_ADM2</th>\n",
       "      <td>750.926025</td>\n",
       "      <td>1176760.875</td>\n",
       "      <td>0.602183</td>\n",
       "      <td>711.864868</td>\n",
       "      <td>1.041187e+06</td>\n",
       "      <td>0.616925</td>\n",
       "    </tr>\n",
       "    <tr>\n",
       "      <th>Model_ADM3</th>\n",
       "      <td>749.800659</td>\n",
       "      <td>1172870.750</td>\n",
       "      <td>0.603498</td>\n",
       "      <td>711.360535</td>\n",
       "      <td>1.039054e+06</td>\n",
       "      <td>0.617710</td>\n",
       "    </tr>\n",
       "    <tr>\n",
       "      <th>Model_ADM4</th>\n",
       "      <td>784.900330</td>\n",
       "      <td>1352247.250</td>\n",
       "      <td>0.542858</td>\n",
       "      <td>734.728394</td>\n",
       "      <td>1.177118e+06</td>\n",
       "      <td>0.566913</td>\n",
       "    </tr>\n",
       "    <tr>\n",
       "      <th>Model_ADM5</th>\n",
       "      <td>775.978210</td>\n",
       "      <td>1321027.250</td>\n",
       "      <td>0.553412</td>\n",
       "      <td>737.267456</td>\n",
       "      <td>1.166983e+06</td>\n",
       "      <td>0.570642</td>\n",
       "    </tr>\n",
       "    <tr>\n",
       "      <th>Model_ADM6</th>\n",
       "      <td>1171.941284</td>\n",
       "      <td>2901867.250</td>\n",
       "      <td>0.018992</td>\n",
       "      <td>1100.528564</td>\n",
       "      <td>2.551478e+06</td>\n",
       "      <td>0.061257</td>\n",
       "    </tr>\n",
       "    <tr>\n",
       "      <th>Model_ADM7</th>\n",
       "      <td>777.740845</td>\n",
       "      <td>1345717.875</td>\n",
       "      <td>0.545066</td>\n",
       "      <td>738.690552</td>\n",
       "      <td>1.192332e+06</td>\n",
       "      <td>0.561316</td>\n",
       "    </tr>\n",
       "    <tr>\n",
       "      <th>Model_ADM8</th>\n",
       "      <td>1557.981934</td>\n",
       "      <td>4650684.000</td>\n",
       "      <td>-0.572214</td>\n",
       "      <td>1471.204956</td>\n",
       "      <td>4.164735e+06</td>\n",
       "      <td>-0.532295</td>\n",
       "    </tr>\n",
       "    <tr>\n",
       "      <th>Model_ADM9</th>\n",
       "      <td>749.648376</td>\n",
       "      <td>1160539.375</td>\n",
       "      <td>0.607667</td>\n",
       "      <td>718.680847</td>\n",
       "      <td>1.051847e+06</td>\n",
       "      <td>0.613003</td>\n",
       "    </tr>\n",
       "    <tr>\n",
       "      <th>Model_ADM10</th>\n",
       "      <td>762.782776</td>\n",
       "      <td>1192797.000</td>\n",
       "      <td>0.596762</td>\n",
       "      <td>722.928955</td>\n",
       "      <td>1.067579e+06</td>\n",
       "      <td>0.607215</td>\n",
       "    </tr>\n",
       "  </tbody>\n",
       "</table>\n",
       "</div>"
      ],
      "text/plain": [
       "             Train_Mean_Abs_Err-ADM  Train_Mean_Sqr_Err-ADM  \\\n",
       "Models                                                        \n",
       "Model_ADM1               762.476013             1231329.000   \n",
       "Model_ADM2               750.926025             1176760.875   \n",
       "Model_ADM3               749.800659             1172870.750   \n",
       "Model_ADM4               784.900330             1352247.250   \n",
       "Model_ADM5               775.978210             1321027.250   \n",
       "Model_ADM6              1171.941284             2901867.250   \n",
       "Model_ADM7               777.740845             1345717.875   \n",
       "Model_ADM8              1557.981934             4650684.000   \n",
       "Model_ADM9               749.648376             1160539.375   \n",
       "Model_ADM10              762.782776             1192797.000   \n",
       "\n",
       "             Train_R2_Score-ADM  Valid_Mean_Abs_Err-ADM  \\\n",
       "Models                                                    \n",
       "Model_ADM1             0.583736              715.370667   \n",
       "Model_ADM2             0.602183              711.864868   \n",
       "Model_ADM3             0.603498              711.360535   \n",
       "Model_ADM4             0.542858              734.728394   \n",
       "Model_ADM5             0.553412              737.267456   \n",
       "Model_ADM6             0.018992             1100.528564   \n",
       "Model_ADM7             0.545066              738.690552   \n",
       "Model_ADM8            -0.572214             1471.204956   \n",
       "Model_ADM9             0.607667              718.680847   \n",
       "Model_ADM10            0.596762              722.928955   \n",
       "\n",
       "             Valid_Mean_Sqr_Err-ADM  Valid_R2_Score-ADM  \n",
       "Models                                                   \n",
       "Model_ADM1             1.074193e+06            0.604782  \n",
       "Model_ADM2             1.041187e+06            0.616925  \n",
       "Model_ADM3             1.039054e+06            0.617710  \n",
       "Model_ADM4             1.177118e+06            0.566913  \n",
       "Model_ADM5             1.166983e+06            0.570642  \n",
       "Model_ADM6             2.551478e+06            0.061257  \n",
       "Model_ADM7             1.192332e+06            0.561316  \n",
       "Model_ADM8             4.164735e+06           -0.532295  \n",
       "Model_ADM9             1.051847e+06            0.613003  \n",
       "Model_ADM10            1.067579e+06            0.607215  "
      ]
     },
     "execution_count": 91,
     "metadata": {},
     "output_type": "execute_result"
    }
   ],
   "source": [
    "#-------------------------------------------------------------------------------------------------------------------------------------\n",
    "# Create Dataframe from Train and Valid Metrics -ADAM Models\n",
    "#-------------------------------------------------------------------------------------------------------------------------------------\n",
    "train_scores_adm    = {'Models':models_train_adm,'Train_Mean_Abs_Err-ADM':losses_train_adm,'Train_Mean_Sqr_Err-ADM':mses_train_adm,\\\n",
    "                       'Train_R2_Score-ADM':r2scores_train_adm}\n",
    "train_scores_adm_df = pd.DataFrame(train_scores_adm)\n",
    "valid_scores_adm   = {'Valid_Mean_Abs_Err-ADM':losses_valid_adm,'Valid_Mean_Sqr_Err-ADM':mses_valid_adm,'Valid_R2_Score-ADM':r2scores_valid_adm}\n",
    "valid_scores_adm_df = pd.DataFrame(valid_scores_adm)\n",
    "#-------------------------------------------------------------------------------------------------------------------------------------\n",
    "# Concatane both Dataframes for combined view\n",
    "#-------------------------------------------------------------------------------------------------------------------------------------\n",
    "total_scores_adm_df = pd.concat([train_scores_adm_df,valid_scores_adm_df],axis=1)\n",
    "total_scores_adm_df.set_index(['Models'], inplace = True)\n",
    "total_scores_adm_df.head(10)"
   ]
  },
  {
   "cell_type": "code",
   "execution_count": 92,
   "id": "08235885-e627-4f4b-9299-497a35ea2fba",
   "metadata": {},
   "outputs": [
    {
     "data": {
      "text/html": [
       "<div>\n",
       "<style scoped>\n",
       "    .dataframe tbody tr th:only-of-type {\n",
       "        vertical-align: middle;\n",
       "    }\n",
       "\n",
       "    .dataframe tbody tr th {\n",
       "        vertical-align: top;\n",
       "    }\n",
       "\n",
       "    .dataframe thead th {\n",
       "        text-align: right;\n",
       "    }\n",
       "</style>\n",
       "<table border=\"1\" class=\"dataframe\">\n",
       "  <thead>\n",
       "    <tr style=\"text-align: right;\">\n",
       "      <th></th>\n",
       "      <th>Train_Mean_Abs_Err-SGD</th>\n",
       "      <th>Train_Mean_Sqr_Err-SGD</th>\n",
       "      <th>Train_R2_Score-SGD</th>\n",
       "      <th>Valid_Mean_Abs_Err-SGD</th>\n",
       "      <th>Valid_Mean_Sqr_Err-SGD</th>\n",
       "      <th>Valid_R2_Score-SGD</th>\n",
       "    </tr>\n",
       "    <tr>\n",
       "      <th>Models</th>\n",
       "      <th></th>\n",
       "      <th></th>\n",
       "      <th></th>\n",
       "      <th></th>\n",
       "      <th></th>\n",
       "      <th></th>\n",
       "    </tr>\n",
       "  </thead>\n",
       "  <tbody>\n",
       "    <tr>\n",
       "      <th>Model_SGD1</th>\n",
       "      <td>753.452271</td>\n",
       "      <td>1188653.125</td>\n",
       "      <td>0.598163</td>\n",
       "      <td>712.840698</td>\n",
       "      <td>1048923.375</td>\n",
       "      <td>0.614079</td>\n",
       "    </tr>\n",
       "    <tr>\n",
       "      <th>Model_SGD2</th>\n",
       "      <td>754.742493</td>\n",
       "      <td>1198330.625</td>\n",
       "      <td>0.594891</td>\n",
       "      <td>710.701599</td>\n",
       "      <td>1048043.625</td>\n",
       "      <td>0.614402</td>\n",
       "    </tr>\n",
       "    <tr>\n",
       "      <th>Model_SGD3</th>\n",
       "      <td>750.081970</td>\n",
       "      <td>1171073.875</td>\n",
       "      <td>0.604106</td>\n",
       "      <td>713.586060</td>\n",
       "      <td>1039207.125</td>\n",
       "      <td>0.617653</td>\n",
       "    </tr>\n",
       "    <tr>\n",
       "      <th>Model_SGD4</th>\n",
       "      <td>803.043213</td>\n",
       "      <td>1433240.250</td>\n",
       "      <td>0.515478</td>\n",
       "      <td>747.753052</td>\n",
       "      <td>1249330.875</td>\n",
       "      <td>0.540344</td>\n",
       "    </tr>\n",
       "    <tr>\n",
       "      <th>Model_SGD5</th>\n",
       "      <td>768.192444</td>\n",
       "      <td>1280097.625</td>\n",
       "      <td>0.567249</td>\n",
       "      <td>726.755798</td>\n",
       "      <td>1127923.500</td>\n",
       "      <td>0.585013</td>\n",
       "    </tr>\n",
       "    <tr>\n",
       "      <th>Model_SGD6</th>\n",
       "      <td>1143.313843</td>\n",
       "      <td>2818158.250</td>\n",
       "      <td>0.047291</td>\n",
       "      <td>1076.553467</td>\n",
       "      <td>2480802.500</td>\n",
       "      <td>0.087260</td>\n",
       "    </tr>\n",
       "    <tr>\n",
       "      <th>Model_SGD7</th>\n",
       "      <td>767.617859</td>\n",
       "      <td>1284076.375</td>\n",
       "      <td>0.565904</td>\n",
       "      <td>731.880798</td>\n",
       "      <td>1148782.750</td>\n",
       "      <td>0.577338</td>\n",
       "    </tr>\n",
       "    <tr>\n",
       "      <th>Model_SGD8</th>\n",
       "      <td>1549.501221</td>\n",
       "      <td>4624748.500</td>\n",
       "      <td>-0.563446</td>\n",
       "      <td>1463.561523</td>\n",
       "      <td>4139779.750</td>\n",
       "      <td>-0.523113</td>\n",
       "    </tr>\n",
       "    <tr>\n",
       "      <th>Model_SGD9</th>\n",
       "      <td>757.768066</td>\n",
       "      <td>1216951.000</td>\n",
       "      <td>0.588597</td>\n",
       "      <td>718.614807</td>\n",
       "      <td>1082702.875</td>\n",
       "      <td>0.601650</td>\n",
       "    </tr>\n",
       "    <tr>\n",
       "      <th>Model_SGD10</th>\n",
       "      <td>763.957825</td>\n",
       "      <td>1233184.250</td>\n",
       "      <td>0.583109</td>\n",
       "      <td>718.494141</td>\n",
       "      <td>1091960.125</td>\n",
       "      <td>0.598245</td>\n",
       "    </tr>\n",
       "  </tbody>\n",
       "</table>\n",
       "</div>"
      ],
      "text/plain": [
       "             Train_Mean_Abs_Err-SGD  Train_Mean_Sqr_Err-SGD  \\\n",
       "Models                                                        \n",
       "Model_SGD1               753.452271             1188653.125   \n",
       "Model_SGD2               754.742493             1198330.625   \n",
       "Model_SGD3               750.081970             1171073.875   \n",
       "Model_SGD4               803.043213             1433240.250   \n",
       "Model_SGD5               768.192444             1280097.625   \n",
       "Model_SGD6              1143.313843             2818158.250   \n",
       "Model_SGD7               767.617859             1284076.375   \n",
       "Model_SGD8              1549.501221             4624748.500   \n",
       "Model_SGD9               757.768066             1216951.000   \n",
       "Model_SGD10              763.957825             1233184.250   \n",
       "\n",
       "             Train_R2_Score-SGD  Valid_Mean_Abs_Err-SGD  \\\n",
       "Models                                                    \n",
       "Model_SGD1             0.598163              712.840698   \n",
       "Model_SGD2             0.594891              710.701599   \n",
       "Model_SGD3             0.604106              713.586060   \n",
       "Model_SGD4             0.515478              747.753052   \n",
       "Model_SGD5             0.567249              726.755798   \n",
       "Model_SGD6             0.047291             1076.553467   \n",
       "Model_SGD7             0.565904              731.880798   \n",
       "Model_SGD8            -0.563446             1463.561523   \n",
       "Model_SGD9             0.588597              718.614807   \n",
       "Model_SGD10            0.583109              718.494141   \n",
       "\n",
       "             Valid_Mean_Sqr_Err-SGD  Valid_R2_Score-SGD  \n",
       "Models                                                   \n",
       "Model_SGD1              1048923.375            0.614079  \n",
       "Model_SGD2              1048043.625            0.614402  \n",
       "Model_SGD3              1039207.125            0.617653  \n",
       "Model_SGD4              1249330.875            0.540344  \n",
       "Model_SGD5              1127923.500            0.585013  \n",
       "Model_SGD6              2480802.500            0.087260  \n",
       "Model_SGD7              1148782.750            0.577338  \n",
       "Model_SGD8              4139779.750           -0.523113  \n",
       "Model_SGD9              1082702.875            0.601650  \n",
       "Model_SGD10             1091960.125            0.598245  "
      ]
     },
     "execution_count": 92,
     "metadata": {},
     "output_type": "execute_result"
    }
   ],
   "source": [
    "#-------------------------------------------------------------------------------------------------------------------------------------\n",
    "# Create Dataframe from Train and Valid Metrics -SGD Models\n",
    "#-------------------------------------------------------------------------------------------------------------------------------------\n",
    "train_scores_sgd    = {'Models':models_train_sgd,'Train_Mean_Abs_Err-SGD':losses_train_sgd,'Train_Mean_Sqr_Err-SGD':mses_train_sgd,\\\n",
    "                       'Train_R2_Score-SGD':r2scores_train_sgd}\n",
    "train_scores_sgd_df = pd.DataFrame(train_scores_sgd)\n",
    "valid_scores_sgd   = {'Valid_Mean_Abs_Err-SGD':losses_valid_sgd,'Valid_Mean_Sqr_Err-SGD':mses_valid_sgd,'Valid_R2_Score-SGD':r2scores_valid_sgd}\n",
    "valid_scores_sgd_df = pd.DataFrame(valid_scores_sgd)\n",
    "#-------------------------------------------------------------------------------------------------------------------------------------\n",
    "# Concatane both Dataframes for combined view\n",
    "#-------------------------------------------------------------------------------------------------------------------------------------\n",
    "total_scores_sgd_df = pd.concat([train_scores_sgd_df,valid_scores_sgd_df],axis=1)\n",
    "total_scores_sgd_df.set_index(['Models'], inplace = True)\n",
    "total_scores_sgd_df.head(10)"
   ]
  },
  {
   "cell_type": "code",
   "execution_count": 93,
   "id": "cd894da8-9250-44c1-ac27-22ad968db70a",
   "metadata": {},
   "outputs": [
    {
     "data": {
      "image/png": "[encoded data removed]",
      "text/plain": [
       "<Figure size 1800x500 with 3 Axes>"
      ]
     },
     "metadata": {},
     "output_type": "display_data"
    }
   ],
   "source": [
    "# Plot the ADAM Metrics\n",
    "\n",
    "fig,ax = plt.subplots(figsize=(18,5), nrows=1,ncols=3)\n",
    "#----------------------------------------------------------------------------------------------------\n",
    "plt.suptitle(\"Evaluation Metrices by ADAM Model\", fontsize=16)\n",
    "#----------------------------------------------------------------------------------------------------\n",
    "total_scores_adm_df.plot(y=['Train_Mean_Sqr_Err-ADM','Valid_Mean_Sqr_Err-ADM'],kind='bar',ax=ax[0],use_index=True);\n",
    "ax[0].set_title('MAE By ADAM Model')\n",
    "ax[0].tick_params(labelbottom=True, labelright=True,bottom=True,right=True)\n",
    "ax[0].legend(loc='center', bbox_to_anchor=(0.5, 1.25),ncols=2,fancybox=True, shadow=True)\n",
    "#----------------------------------------------------------------------------------------------------\n",
    "total_scores_adm_df.plot(y=['Train_Mean_Abs_Err-ADM','Valid_Mean_Abs_Err-ADM'],kind='bar',ax=ax[1],use_index=True);\n",
    "ax[1].tick_params(labelbottom=True, labelright=True,bottom=True,right=True)\n",
    "ax[1].set_title('MSE By ADAM Model')\n",
    "ax[1].legend(loc='center', bbox_to_anchor=(0.5, 1.25),ncols=2,fancybox=True, shadow=True)\n",
    "#----------------------------------------------------------------------------------------------------\n",
    "total_scores_adm_df.plot(y=['Train_R2_Score-ADM','Valid_R2_Score-ADM'],kind='bar',ax=ax[2],use_index=True);\n",
    "ax[2].tick_params(labelbottom=True, labelright=True,bottom=True,right=True)\n",
    "ax[2].set_title('R2-Score ADAM By Model')\n",
    "ax[2].legend(loc='center', bbox_to_anchor=(0.5, 1.25),ncols=2,fancybox=True, shadow=True)\n",
    "#----------------------------------------------------------------------------------------------------\n",
    "plt.tight_layout()\n",
    "plt.show()"
   ]
  },
  {
   "cell_type": "code",
   "execution_count": 94,
   "id": "5ec28079-d2f0-4306-a6a4-de971923ec63",
   "metadata": {},
   "outputs": [
    {
     "data": {
      "image/png": "[encoded data removed]",
      "text/plain": [
       "<Figure size 1800x500 with 3 Axes>"
      ]
     },
     "metadata": {},
     "output_type": "display_data"
    }
   ],
   "source": [
    "# Plot the SGD Metrics\n",
    "\n",
    "fig,ax = plt.subplots(figsize=(18,5), nrows=1,ncols=3)\n",
    "#----------------------------------------------------------------------------------------------------\n",
    "plt.suptitle(\"Evaluation Metrices by SGD Model\", fontsize=16)\n",
    "#----------------------------------------------------------------------------------------------------\n",
    "total_scores_sgd_df.plot(y=['Train_Mean_Sqr_Err-SGD','Valid_Mean_Sqr_Err-SGD'],kind='bar',ax=ax[0],use_index=True);\n",
    "ax[0].set_title('MAE By SGD Model')\n",
    "ax[0].tick_params(labelbottom=True, labelright=True,bottom=True,right=True)\n",
    "ax[0].legend(loc='center', bbox_to_anchor=(0.5, 1.25),ncols=2,fancybox=True, shadow=True)\n",
    "#----------------------------------------------------------------------------------------------------\n",
    "total_scores_sgd_df.plot(y=['Train_Mean_Abs_Err-SGD','Valid_Mean_Abs_Err-SGD'],kind='bar',ax=ax[1],use_index=True);\n",
    "ax[1].tick_params(labelbottom=True, labelright=True,bottom=True,right=True)\n",
    "ax[1].set_title('MSE By SGD Model')\n",
    "ax[1].legend(loc='center', bbox_to_anchor=(0.5, 1.25),ncols=2,fancybox=True, shadow=True)\n",
    "#----------------------------------------------------------------------------------------------------\n",
    "total_scores_sgd_df.plot(y=['Train_R2_Score-SGD','Valid_R2_Score-SGD'],kind='bar',ax=ax[2],use_index=True);\n",
    "ax[2].tick_params(labelbottom=True, labelright=True,bottom=True,right=True)\n",
    "ax[2].set_title('R2-Score SGD By Model')\n",
    "ax[2].legend(loc='center', bbox_to_anchor=(0.5, 1.25),ncols=2,fancybox=True, shadow=True)\n",
    "#----------------------------------------------------------------------------------------------------\n",
    "plt.tight_layout()\n",
    "plt.show()"
   ]
  },
  {
   "cell_type": "code",
   "execution_count": 95,
   "id": "8e53c27f-2289-41b6-a297-79ec2bfc2851",
   "metadata": {},
   "outputs": [],
   "source": [
    "# Save the 'Total Score' Ddataframe to Excel\n",
    "\n",
    "total_scores_adm_df.to_excel('total_scores_adm_df.xlsx',index=False)\n",
    "total_scores_sgd_df.to_excel('total_scores_sgd_df.xlsx',index=False)\n",
    "\n",
    "# Assuming you have a trained model named 'model'\n",
    "# model = bm_sls_seq_model\n",
    "\n",
    "# # Save the model to a pickle file\n",
    "# filename = 'bm_sls_seq_model.pkl'\n",
    "# with open(filename, 'wb') as file:\n",
    "#     pickle.dump(model, file)"
   ]
  },
  {
   "cell_type": "markdown",
   "id": "d1e530c1-e4c8-4ea1-bf56-f3423db4dd8f",
   "metadata": {},
   "source": [
    "### 9.6 Visualize Model Performance (Train and Valid Datasets)"
   ]
  },
  {
   "cell_type": "code",
   "execution_count": null,
   "id": "97e26b7e-c7f9-4bf4-8f54-533d831b274e",
   "metadata": {},
   "outputs": [],
   "source": [
    "# summarize history for loss\n",
    "\n",
    "# plt.plot(model_history_seq.history['loss'])\n",
    "# plt.plot(model_history_seq.history['val_loss'])\n",
    "\n",
    "# plt.title('Model Loss')\n",
    "# plt.ylabel('MAE')\n",
    "# plt.xlabel('Epoch')\n",
    "\n",
    "# plt.legend(['Train', 'Validation'], loc='upper right')\n",
    "# plt.legend(['Train', 'Validation'], loc='upper right')\n",
    "\n",
    "# plt.show()"
   ]
  },
  {
   "cell_type": "code",
   "execution_count": null,
   "id": "95a58b8b-9718-4bb4-8bf9-fb88d17806ca",
   "metadata": {},
   "outputs": [],
   "source": [
    "# summarize history for loss\n",
    "\n",
    "plt.plot(model_history_seq.history['r2_score'])\n",
    "plt.plot(model_history_seq.history['val_r2_score'])\n",
    "\n",
    "plt.title('Model Score')\n",
    "plt.ylabel('R2-Square')\n",
    "plt.xlabel('Epoch')\n",
    "\n",
    "plt.legend(['Train', 'Validation'], loc='lower right')\n",
    "plt.legend(['Train', 'Validation'], loc='lower right')\n",
    "\n",
    "plt.show()"
   ]
  },
  {
   "cell_type": "markdown",
   "id": "6191cfec-9a18-425b-8d8f-328d5d54e29a",
   "metadata": {},
   "source": [
    "### 9.7 Plot the Distribution"
   ]
  },
  {
   "cell_type": "code",
   "execution_count": null,
   "id": "7cd7ec22-3000-42d6-9841-b1507e8a4a64",
   "metadata": {},
   "outputs": [],
   "source": [
    "y_valid_predict = bm_sls_seq_model.predict(X_scaled_valid)\n",
    "\n",
    "plt.figure(figsize=(5,3))\n",
    "plt.scatter(y_valid, y_valid_predict)\n",
    "p1 = max(max(y_valid_predict), max(y_valid))\n",
    "p2 = min(min(y_valid_predict), min(y_valid))\n",
    "plt.plot([p1, p2], [p1, p2], 'b-')\n",
    "\n",
    "plt.xlabel('True Sales')\n",
    "plt.ylabel('Predicted Sales')"
   ]
  },
  {
   "cell_type": "markdown",
   "id": "15983973-d9a7-4389-835c-240b1bc29f2c",
   "metadata": {},
   "source": [
    "### 9.8 Predict and Save Test Dataset"
   ]
  },
  {
   "cell_type": "code",
   "execution_count": null,
   "id": "ff6fb890-a95f-4ae0-987e-e8efbdf4f78e",
   "metadata": {},
   "outputs": [],
   "source": [
    "#Manually predicting from the model, instead of using model's evaluate function\n",
    "\n",
    "y_test = pd.DataFrame(bm_sls_seq_model.predict(X_scaled_test))\n",
    "y_test.columns = ['Item_Outlet_Sales']\n",
    "print(y_test.head(10))"
   ]
  },
  {
   "cell_type": "code",
   "execution_count": null,
   "id": "db95b01e-aeeb-4107-b7df-5d037d85d235",
   "metadata": {},
   "outputs": [],
   "source": [
    "y_test.info()"
   ]
  },
  {
   "cell_type": "code",
   "execution_count": null,
   "id": "b65a4702-bce9-49d5-9137-7e68a0d02641",
   "metadata": {},
   "outputs": [],
   "source": [
    "bm_sales_pred.info()"
   ]
  },
  {
   "cell_type": "code",
   "execution_count": null,
   "id": "99d02b20-b448-40bb-8408-758b8c191870",
   "metadata": {},
   "outputs": [],
   "source": [
    "bm_sales_prediction = pd.concat([bm_sales_pred,y_test],axis=1)\n",
    "bm_sales_prediction.head()"
   ]
  },
  {
   "cell_type": "code",
   "execution_count": null,
   "id": "67578db7-6de0-4aae-b0cb-0f77d3361b00",
   "metadata": {},
   "outputs": [],
   "source": [
    "bm_sales_prediction.to_csv('bm_sales_prediction.csv',index=False)"
   ]
  },
  {
   "cell_type": "markdown",
   "id": "e924be78-cb7e-4e2e-885f-31056f751506",
   "metadata": {},
   "source": [
    "## 10. Build Keras Functional Neural Network Model<a id='10'></a> "
   ]
  },
  {
   "cell_type": "markdown",
   "id": "0a88c44a-dd7a-4fd8-958c-9802960bb6b0",
   "metadata": {},
   "source": [
    "### 10.1 Define Input, Output Neurons"
   ]
  },
  {
   "cell_type": "code",
   "execution_count": null,
   "id": "e08d2f8d-41db-4028-93b1-32c71c4976ce",
   "metadata": {},
   "outputs": [],
   "source": [
    "# Define Input Neurons\n",
    "input_features_fn = X_scaled_train.shape[1]\n",
    "input_neurons_fn  = input_features_fn\n",
    "#--------------------------------------------------\n",
    "# Define Hidden layers and Neuron for each layer\n",
    "#--------------------------------------------------\n",
    "number_of_hidden_layers_fn = 2\n",
    "neuron_hidden_layer_1_1_fn = 500\n",
    "neuron_hidden_layer_1_2_fn = 500\n",
    "neuron_hidden_layer_1_3_fn = 500\n",
    "neuron_hidden_layer_1_4_fn = 500\n",
    "neuron_hidden_layer_2_fn   = 500\n",
    "#--------------------------------------------------\n",
    "output_neurons_fn    = 1"
   ]
  },
  {
   "cell_type": "markdown",
   "id": "5becfcdf-e30b-48cf-84e6-03d1b9f6b468",
   "metadata": {},
   "source": [
    "### 10.2 Define the Architecture Using Functional API"
   ]
  },
  {
   "cell_type": "code",
   "execution_count": null,
   "id": "eb97fe3a-73e5-46c9-a94b-a44990f05a6f",
   "metadata": {},
   "outputs": [],
   "source": [
    "from keras import Input, Model\n",
    "from keras.layers import InputLayer, Dense, concatenate \n",
    "from keras.optimizers import RMSprop\n",
    "\n",
    "#---------------------------------------------------------------------------------\n",
    "input_x = Input(shape = (input_neurons_fn,))\n",
    "#---------------------------------------------------------------------------------\n",
    "hidden1_1_fn = Dense(units=neuron_hidden_layer_1_1_fn, activation='relu')(input_x)\n",
    "hidden1_2_fn = Dense(units=neuron_hidden_layer_1_2_fn, activation='relu')(input_x)\n",
    "hidden1_3_fn = Dense(units=neuron_hidden_layer_1_3_fn, activation='relu')(input_x)\n",
    "hidden1_4_fn = Dense(units=neuron_hidden_layer_1_4_fn, activation='relu')(input_x)\n",
    "#---------------------------------------------------------------------------------\n",
    "combined     = concatenate([hidden1_1_fn, hidden1_2_fn,hidden1_3_fn,hidden1_4_fn])\n",
    "#---------------------------------------------------------------------------------\n",
    "hidden2_fn   = Dense(units=neuron_hidden_layer_2_fn, activation='relu')(combined)\n",
    "output_fn    = Dense(units=output_neurons_fn, activation='linear')(hidden2_fn)\n",
    "#---------------------------------------------------------------------------------\n",
    "bm_sls_fn_model = Model(input_x, output_fn) "
   ]
  },
  {
   "cell_type": "code",
   "execution_count": null,
   "id": "3f64d663-f997-4241-8c35-9d438861ffe8",
   "metadata": {},
   "outputs": [],
   "source": [
    "# summary of the model\n",
    "bm_sls_fn_model.summary()"
   ]
  },
  {
   "cell_type": "markdown",
   "id": "526da308-471c-4be0-9952-12979ba74d5e",
   "metadata": {},
   "source": [
    "### 10.3 Compile and Train the Model (Loss Function and Optimizer)\n",
    "\n",
    "- Loss as 'mean_absolute_error'\n",
    "- Define the Optimizer as 'RMSprop'\n",
    "- Evluate metric as 'r2-score', 'mean-squared-error'"
   ]
  },
  {
   "cell_type": "code",
   "execution_count": null,
   "id": "4587088f-f7f7-4bcd-9505-d0c5ea19cece",
   "metadata": {},
   "outputs": [],
   "source": [
    "optimizer = RMSprop(0.1)    # 0.1 is the learning rate\n",
    "#------------------------------------------------------------------------------------------------------\n",
    "bm_sls_fn_model.compile(loss='mean_absolute_error',optimizer=optimizer,metrics=['r2_score','mean_squared_error'])\n",
    "#------------------------------------------------------------------------------------------------------\n",
    "# fit the model \n",
    "model_history_fn = bm_sls_fn_model.fit(X_scaled_train,y_train, validation_data=(X_scaled_valid,y_valid),epochs=25,batch_size=128)"
   ]
  },
  {
   "cell_type": "markdown",
   "id": "31555bef-bc93-4e5b-9b83-ad4cc0463544",
   "metadata": {},
   "source": [
    "### 10.4 'Evaluate' Train and Valid Datasets"
   ]
  },
  {
   "cell_type": "code",
   "execution_count": null,
   "id": "43b4bdcd-b96a-49b7-bce4-b0f51f27d0d3",
   "metadata": {},
   "outputs": [],
   "source": [
    "# Evaluate the model (Train Dataset)\n",
    "\n",
    "loss, mse, r2_score = bm_sls_fn_model.evaluate(X_scaled_train, y_train)"
   ]
  },
  {
   "cell_type": "code",
   "execution_count": null,
   "id": "84b48367-fe7f-4ee8-9d6c-94c41c9a19e6",
   "metadata": {},
   "outputs": [],
   "source": [
    "# Evaluate the model (Valid Dataset)\n",
    "\n",
    "loss, mse, r2_score = bm_sls_fn_model.evaluate(X_scaled_valid, y_valid)"
   ]
  },
  {
   "cell_type": "markdown",
   "id": "8471cdfb-0b92-458c-90e2-5e0351a1081c",
   "metadata": {},
   "source": [
    "### 10.5 Visualize Model Performance (Train and Valid Datasets)"
   ]
  },
  {
   "cell_type": "code",
   "execution_count": null,
   "id": "983c3f08-4e5f-4a48-8d32-e417037a6e77",
   "metadata": {},
   "outputs": [],
   "source": [
    "# summarize history for loss\n",
    "\n",
    "plt.plot(model_history_fn.history['loss'])\n",
    "plt.plot(model_history_fn.history['val_loss'])\n",
    "\n",
    "plt.title('Model Loss')\n",
    "plt.ylabel('MAE')\n",
    "plt.xlabel('Epoch')\n",
    "\n",
    "plt.legend(['Train', 'Validation'], loc='upper right')\n",
    "plt.legend(['Train', 'Validation'], loc='upper right')\n",
    "\n",
    "plt.show()"
   ]
  },
  {
   "cell_type": "code",
   "execution_count": null,
   "id": "bf3fe148-db37-4eba-bc04-a4d4102c03bd",
   "metadata": {},
   "outputs": [],
   "source": [
    "# summarize history for Score\n",
    "\n",
    "plt.plot(model_history_fn.history['r2_score'])\n",
    "plt.plot(model_history_fn.history['val_r2_score'])\n",
    "\n",
    "plt.title('Model Loss')\n",
    "plt.ylabel('R2-Score')\n",
    "plt.xlabel('Epoch')\n",
    "\n",
    "plt.legend(['Train', 'Validation'], loc='lower right')\n",
    "plt.legend(['Train', 'Validation'], loc='lower right')\n",
    "\n",
    "plt.show()"
   ]
  },
  {
   "cell_type": "markdown",
   "id": "3e8add4c-c3cd-435d-b12d-bac4a7a8a2b9",
   "metadata": {},
   "source": [
    "### 10.6 Plot the Distribution"
   ]
  },
  {
   "cell_type": "code",
   "execution_count": null,
   "id": "7bf09c02-1a1b-409f-b9ff-dd2592ce4445",
   "metadata": {},
   "outputs": [],
   "source": [
    "y_valid_predict_fn = bm_sls_fn_model.predict(X_scaled_valid)\n",
    "\n",
    "plt.figure(figsize=(5,3))\n",
    "plt.scatter(y_valid, y_valid_predict_fn)\n",
    "p1 = max(max(y_valid_predict_fn.flatten()), max(y_valid))\n",
    "p2 = min(min(y_valid_predict_fn.flatten()), min(y_valid))\n",
    "plt.plot([p1, p2], [p1, p2], 'b-')\n",
    "\n",
    "plt.xlabel('True Sales')\n",
    "plt.ylabel('Predicted Sales')"
   ]
  },
  {
   "cell_type": "markdown",
   "id": "98e7994d-f542-4bc8-8881-aa00adb34aeb",
   "metadata": {},
   "source": [
    "### 10.7 Predict and Save Test Dataset"
   ]
  },
  {
   "cell_type": "code",
   "execution_count": null,
   "id": "c18239dc-667c-4e7a-9da2-bf871dbfd515",
   "metadata": {},
   "outputs": [],
   "source": [
    "#Manually predicting from the model, instead of using model's evaluate function\n",
    "\n",
    "y_fn_test = pd.DataFrame(bm_sls_fn_model.predict(X_scaled_test))\n",
    "y_fn_test.columns = ['Item_Outlet_Sales']\n",
    "print(y_test.head(10))"
   ]
  },
  {
   "cell_type": "code",
   "execution_count": null,
   "id": "08eb473c-f732-429b-8cbf-bfa84dd7889b",
   "metadata": {},
   "outputs": [],
   "source": [
    "y_fn_test.info()"
   ]
  },
  {
   "cell_type": "code",
   "execution_count": null,
   "id": "c4232dae-4235-4185-ac53-99ff6d8a2669",
   "metadata": {},
   "outputs": [],
   "source": [
    "bm_sales_pred.info()"
   ]
  },
  {
   "cell_type": "code",
   "execution_count": null,
   "id": "3be1cf7f-06bd-4d95-b749-e10a3328a170",
   "metadata": {},
   "outputs": [],
   "source": [
    "bm_sales_prediction_fn = pd.concat([bm_sales_pred,y_fn_test],axis=1)\n",
    "bm_sales_prediction_fn.head()"
   ]
  },
  {
   "cell_type": "code",
   "execution_count": null,
   "id": "c2b64227-28a3-4f04-840d-6083dcf1c802",
   "metadata": {},
   "outputs": [],
   "source": [
    "bm_sales_prediction_fn.to_csv('bm_sales_prediction_fn.csv',index=False)"
   ]
  },
  {
   "cell_type": "markdown",
   "id": "31ee5383-9f8e-4fd3-934d-d626d99cab4f",
   "metadata": {},
   "source": [
    "## 11. Build Keras Functional Neural Network Using 'KerasTuner'<a id='11'></a> \n",
    "The Keras Tuner is a library that helps you pick the optimal set of hyperparameters for your TensorFlow program. The process of selecting the right set of hyperparameters for your machine learning (ML) application is called hyperparameter tuning or hypertuning.\n",
    "\n",
    "Hyperparameters are the variables that govern the training process and the topology of an ML model. These variables remain constant over the training process and directly impact the performance of your ML program. Hyperparameters are of two types:\n",
    "\n",
    "Model hyperparameters which influence model selection such as the number and width of hidden layers\n",
    "Algorithm hyperparameters which influence the speed and quality of the learning algorithm such as the learning rate for Stochastic Gradient Descent (SGD) and the number of nearest neighbors for a k Nearest Neighbors (KNN) classifier\n",
    "\n",
    "**Introduction to the Keras Tuner**\n",
    "https://www.tensorflow.org/tutorials/keras/keras_tuner"
   ]
  },
  {
   "cell_type": "code",
   "execution_count": null,
   "id": "e0a3269b-9232-48e0-a8d3-b2e3cb0c1819",
   "metadata": {},
   "outputs": [],
   "source": [
    "# !pip install -q -U keras-tuner"
   ]
  },
  {
   "cell_type": "markdown",
   "id": "e427bede-5282-4426-a619-12ce983e3501",
   "metadata": {},
   "source": [
    "### 11.1 Define the Architecture Using Functional API"
   ]
  },
  {
   "cell_type": "code",
   "execution_count": null,
   "id": "4ecc8362-1ce6-4017-a79e-9f39ae842b25",
   "metadata": {},
   "outputs": [],
   "source": [
    "from keras import Input, Model, layers\n",
    "from keras.layers import InputLayer, Dense, concatenate\n",
    "from keras.optimizers import RMSprop\n",
    "\n",
    "# Import RandomSearch tuner from KerasTuner\n",
    "from kerastuner.tuners import RandomSearch"
   ]
  },
  {
   "cell_type": "code",
   "execution_count": null,
   "id": "5fd2a27c-00c1-4e17-90df-fc29e89c8c87",
   "metadata": {},
   "outputs": [],
   "source": [
    "def build_model(hp):\n",
    "\n",
    "    #----------------------------------------------------------------------------------\n",
    "    model = keras.Sequential()\n",
    "    #----------------------------------------------------------------------------------\n",
    "    # Define Input Layer\n",
    "    #----------------------------------------------------------------------------------\n",
    "    model.add(Dense(units=hp.Int('units', min_value=32, max_value=512, step=32),activation='relu',input_shape=(X_scaled_train.shape[1],)))\n",
    "    #----------------------------------------------------------------------------------\n",
    "    # Add Hidden layers\n",
    "    #----------------------------------------------------------------------------------\n",
    "    # for i in range(hp.Int('num_layers', 2, 6)):\n",
    "    #     model.add(keras.layers.Dense(units=hp.Int(f'units_{i}', min_value=32, max_value=512, step=32),activation='relu'))\n",
    "    hp_units = hp.Int('units', min_value=32, max_value=512, step=32)\n",
    "    model.add(Dense(units=hp_units,activation='relu'));model.add(Dense(units=hp_units,activation='relu'))\n",
    "    model.add(Dense(units=hp_units,activation='relu'));model.add(Dense(units=hp_units,activation='relu'))\n",
    "    #----------------------------------------------------------------------------------\n",
    "    # Output layer for regression\n",
    "    #----------------------------------------------------------------------------------\n",
    "    model.add(Dense(1))  \n",
    "    #----------------------------------------------------------------------------------\n",
    "    # Tune the learning rate\n",
    "    #----------------------------------------------------------------------------------\n",
    "    hp_learning_rate = hp.Float('learning_rate', min_value=1e-4, max_value=1e-2, sampling='log')\n",
    "    #----------------------------------------------------------------------------------\n",
    "    model.compile(optimizer=keras.optimizers.Adam(learning_rate=hp_learning_rate),loss='mean_absolute_error',metrics=['r2_score','mean_absolute_error'])\n",
    "\n",
    "    return model\n"
   ]
  },
  {
   "cell_type": "markdown",
   "id": "e06e052f-fb29-4301-a2b3-bb6c5cf74ca5",
   "metadata": {},
   "source": [
    "### 11.2 Instantiate 'RamdsonSearch' Tuner Object "
   ]
  },
  {
   "cell_type": "code",
   "execution_count": null,
   "id": "0ed88de3-f594-4b32-822c-0cd6cb7cc1fb",
   "metadata": {},
   "outputs": [],
   "source": [
    "# Instantiate the tuner object\n",
    "\n",
    "tuner = RandomSearch(\n",
    "    build_model, \n",
    "    objective=('val_loss'),  # Minimize mean squared error on validation set\n",
    "    max_trials=10,  # Number of hyperparameter combinations to try\n",
    "    executions_per_trial=3  # Run each combination multiple times for stability\n",
    "    # directory='tuning_results'  # Directory to store tuning results\n",
    ")"
   ]
  },
  {
   "cell_type": "code",
   "execution_count": null,
   "id": "b7c9648b-e50c-48bb-9828-de78eb6a8f15",
   "metadata": {},
   "outputs": [],
   "source": [
    "tuner.search_space_summary()"
   ]
  },
  {
   "cell_type": "markdown",
   "id": "a7d376d7-5cb9-492f-83e5-2be81c4768fe",
   "metadata": {},
   "source": [
    "### 11.3 Train the Model Using Hyperparameter Tuning Search"
   ]
  },
  {
   "cell_type": "code",
   "execution_count": null,
   "id": "30f347f0-7c10-40e5-8b95-9b69686e6839",
   "metadata": {},
   "outputs": [],
   "source": [
    "# Start the hyperparameter tuning process\n",
    "\n",
    "tuner.search(X_scaled_train, y_train, validation_data=(X_scaled_valid, y_valid), epochs=25) "
   ]
  },
  {
   "cell_type": "markdown",
   "id": "b99440b1-d4c6-45ef-8103-8b784c607fe6",
   "metadata": {},
   "source": [
    "### 11.4 Get the 'Best Hyperparameters'"
   ]
  },
  {
   "cell_type": "code",
   "execution_count": null,
   "id": "e79bc199-5279-4e49-815d-f28656332456",
   "metadata": {},
   "outputs": [],
   "source": [
    "best_hp = tuner.get_best_hyperparameters(num_trials=1)[0]"
   ]
  },
  {
   "cell_type": "markdown",
   "id": "b38b9329-849f-4ebf-b723-f3c20ba9d587",
   "metadata": {},
   "source": [
    "### 11.5 Build BestModel Using 'Hypermodel'"
   ]
  },
  {
   "cell_type": "code",
   "execution_count": null,
   "id": "89469b59-2534-4a38-a753-433f61faf730",
   "metadata": {},
   "outputs": [],
   "source": [
    "# Build the final model with the best hyperparameters\n",
    "\n",
    "best_model   = tuner.hypermodel.build(best_hp)\n",
    "best_history = best_model.fit(X_scaled_train, y_train, epochs=50, validation_split=0.2)"
   ]
  },
  {
   "cell_type": "code",
   "execution_count": null,
   "id": "09d70c5c-c972-4474-918a-447fcf0d5088",
   "metadata": {},
   "outputs": [],
   "source": [
    "# summary of the model\n",
    "best_model.summary()"
   ]
  },
  {
   "cell_type": "code",
   "execution_count": null,
   "id": "3df530d8-d17b-4a93-94cf-e537e58010e2",
   "metadata": {},
   "outputs": [],
   "source": [
    "val_acc_per_epoch = best_history.history['val_loss']\n",
    "best_epoch = val_acc_per_epoch.index(max(val_acc_per_epoch)) + 1\n",
    "print('Best epoch: %d' % (best_epoch,))"
   ]
  },
  {
   "cell_type": "markdown",
   "id": "2a7f04da-8979-450b-91a6-5a78fdf9a08f",
   "metadata": {},
   "source": [
    "**Re-instantiate the hypermodel and train it with the optimal number of epochs from above.**"
   ]
  },
  {
   "cell_type": "code",
   "execution_count": null,
   "id": "05b62daf-881f-4cc8-b5a6-ca1393c954ca",
   "metadata": {},
   "outputs": [],
   "source": [
    "hypermodel = tuner.hypermodel.build(best_hp)\n",
    "\n",
    "# Retrain the model\n",
    "hyper_model_hist = hypermodel.fit(X_scaled_train, y_train, epochs=best_epoch, validation_split=0.2)"
   ]
  },
  {
   "cell_type": "markdown",
   "id": "e065457f-bb68-4cc4-9726-3793f65caa4f",
   "metadata": {},
   "source": [
    "### 11.6 'Evaluate' Train and Valid Datasets"
   ]
  },
  {
   "cell_type": "code",
   "execution_count": null,
   "id": "e3360bf0-2373-4e86-ac98-566f1f4269e1",
   "metadata": {},
   "outputs": [],
   "source": [
    "# Evaluate the model (Train Dataset)\n",
    "\n",
    "loss, r2_score, mse = hypermodel.evaluate(X_scaled_train, y_train)"
   ]
  },
  {
   "cell_type": "code",
   "execution_count": null,
   "id": "bb4d2df3-e846-4fcf-829f-ed2b92f5c8de",
   "metadata": {},
   "outputs": [],
   "source": [
    "# Evaluate the model (Valid Dataset)\n",
    "\n",
    "loss, r2_score, mse = hypermodel.evaluate(X_scaled_valid, y_valid)"
   ]
  },
  {
   "cell_type": "markdown",
   "id": "4269d389-01ae-497b-a40c-278396b029ad",
   "metadata": {},
   "source": [
    "### 11.7 Visualize Model Performance (Train and Valid Datasets)"
   ]
  },
  {
   "cell_type": "code",
   "execution_count": null,
   "id": "5b1f3707-7f7e-41f8-8d3b-4624414219e7",
   "metadata": {},
   "outputs": [],
   "source": [
    "# summarize history for loss\n",
    "\n",
    "plt.plot(best_history.history['mean_absolute_error'])\n",
    "plt.plot(best_history.history['val_mean_absolute_error'])\n",
    "\n",
    "plt.title('Model Loss')\n",
    "plt.ylabel('MAE')\n",
    "plt.xlabel('Epoch')\n",
    "\n",
    "plt.legend(['Train', 'Validation'], loc='upper right')\n",
    "plt.legend(['Train', 'Validation'], loc='upper right')\n",
    "\n",
    "plt.show()"
   ]
  },
  {
   "cell_type": "code",
   "execution_count": null,
   "id": "6ec355f0-1e54-4b34-b6f7-4d87e6e41f81",
   "metadata": {},
   "outputs": [],
   "source": [
    "# summarize history for Score\n",
    "\n",
    "plt.plot(best_history.history['r2_score'])\n",
    "plt.plot(best_history.history['val_r2_score'])\n",
    "\n",
    "plt.title('Model Loss')\n",
    "plt.ylabel('R2-Score')\n",
    "plt.xlabel('Epoch')\n",
    "\n",
    "plt.legend(['Train', 'Validation'], loc='lower right')\n",
    "plt.legend(['Train', 'Validation'], loc='lower right')\n",
    "\n",
    "plt.show()"
   ]
  },
  {
   "cell_type": "markdown",
   "id": "38185110-ffa3-49ea-82f8-5e0eb64d5fb7",
   "metadata": {},
   "source": [
    "### 11.8 Plot the Distribution"
   ]
  },
  {
   "cell_type": "code",
   "execution_count": null,
   "id": "22615cff-4539-4297-b10f-21f81886156d",
   "metadata": {},
   "outputs": [],
   "source": [
    "y_valid_predict_rs = hypermodel.predict(X_scaled_valid)\n",
    "\n",
    "plt.figure(figsize=(5,3))\n",
    "plt.scatter(y_valid, y_valid_predict_rs)\n",
    "p1 = max(max(y_valid_predict_rs), max(y_valid))\n",
    "p2 = min(min(y_valid_predict_rs), min(y_valid))\n",
    "plt.plot([p1, p2], [p1, p2], 'b-')\n",
    "\n",
    "plt.xlabel('True Sales')\n",
    "plt.ylabel('Predicted Sales')"
   ]
  },
  {
   "cell_type": "markdown",
   "id": "69f6b5b7-65a4-4290-99aa-c291f7b0bd8b",
   "metadata": {},
   "source": [
    "### 11.9 Predict and Save Test Dataset"
   ]
  },
  {
   "cell_type": "code",
   "execution_count": null,
   "id": "f6dece35-9e1b-4cd3-8e57-25aeae135a24",
   "metadata": {},
   "outputs": [],
   "source": [
    "# Manually predicting from the model, instead of using model's evaluate function\n",
    "\n",
    "y_best_test = pd.DataFrame(hypermodel.predict(X_scaled_test))\n",
    "y_best_test.columns = ['Item_Outlet_Sales']\n",
    "print(y_test.head(10))"
   ]
  },
  {
   "cell_type": "code",
   "execution_count": null,
   "id": "7afaa0c1-73e1-4c48-95ca-28a8216469ff",
   "metadata": {},
   "outputs": [],
   "source": [
    "y_best_test.info()"
   ]
  },
  {
   "cell_type": "code",
   "execution_count": null,
   "id": "8a416fc2-2ee3-4e36-a793-f13cd2e5a4f2",
   "metadata": {},
   "outputs": [],
   "source": [
    "bm_sales_pred.info()"
   ]
  },
  {
   "cell_type": "code",
   "execution_count": null,
   "id": "8939fce5-c33c-46c0-8dbd-73c27c490f3b",
   "metadata": {},
   "outputs": [],
   "source": [
    "bm_sales_prediction_best = pd.concat([bm_sales_pred,y_best_test],axis=1)\n",
    "bm_sales_prediction_best.head()"
   ]
  },
  {
   "cell_type": "code",
   "execution_count": null,
   "id": "45d36447-6d0d-46e7-9f33-b94110406094",
   "metadata": {},
   "outputs": [],
   "source": [
    "bm_sales_prediction_best.to_csv('bm_sales_prediction_best.csv',index=False)"
   ]
  },
  {
   "cell_type": "code",
   "execution_count": null,
   "id": "df72e6bf-fd8b-4a82-93ec-8530fa2bb18f",
   "metadata": {},
   "outputs": [],
   "source": []
  }
 ],
 "metadata": {
  "kernelspec": {
   "display_name": "dl-env",
   "language": "python",
   "name": "dl-env"
  },
  "language_info": {
   "codemirror_mode": {
    "name": "ipython",
    "version": 3
   },
   "file_extension": ".py",
   "mimetype": "text/x-python",
   "name": "python",
   "nbconvert_exporter": "python",
   "pygments_lexer": "ipython3",
   "version": "3.12.6"
  }
 },
 "nbformat": 4,
 "nbformat_minor": 5
}
